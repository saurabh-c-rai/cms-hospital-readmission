{
 "cells": [
  {
   "cell_type": "code",
   "execution_count": 1,
   "metadata": {},
   "outputs": [],
   "source": [
    "# To add a new cell, type '# %%'\n",
    "# To add a new markdown cell, type '# %% [markdown]'\n",
    "# %%\n",
    "from IPython.core.interactiveshell import InteractiveShell\n",
    "\n",
    "InteractiveShell.ast_node_interactivity = \"all\"\n",
    "\n"
   ]
  },
  {
   "cell_type": "code",
   "execution_count": 2,
   "metadata": {},
   "outputs": [],
   "source": [
    "import seaborn as sns\n",
    "from matplotlib import pyplot as plt\n",
    "import numpy as np\n",
    "import pandas as pd\n",
    "\n"
   ]
  },
  {
   "cell_type": "code",
   "execution_count": 3,
   "metadata": {},
   "outputs": [],
   "source": [
    "from tempfile import mkdtemp\n",
    "from joblib import Memory, dump, load\n",
    "\n"
   ]
  },
  {
   "cell_type": "code",
   "execution_count": 4,
   "metadata": {},
   "outputs": [],
   "source": [
    "import sqlite3\n",
    "import json\n",
    "\n"
   ]
  },
  {
   "cell_type": "code",
   "execution_count": 5,
   "metadata": {},
   "outputs": [],
   "source": [
    "with open(r\"C:\\Users\\saurabhr2\\OneDrive - CitiusTech Healthcare Technology Pvt. Ltd\\Data Science with Python\\Project\\cms-hospital-readmission\\config.json\", \"r\") as f:\n",
    "    config = json.load(f)\n",
    "\n"
   ]
  },
  {
   "cell_type": "code",
   "execution_count": 6,
   "metadata": {},
   "outputs": [
    {
     "data": {
      "text/plain": [
       "dict_items([('threshold_nan', 0.4)])"
      ]
     },
     "execution_count": 6,
     "metadata": {},
     "output_type": "execute_result"
    },
    {
     "data": {
      "text/plain": [
       "dict_items([('database_path', '..\\\\database\\\\cms_data.db'), ('prvdr_category_file', '../provider_category.csv'), ('icd9_procedure_code_category_file', '../ICD 9 Procedural Code Mapping.csv'), ('hcpcs_code_category_file', '../hcpcs-code-categories.csv'), ('eda_report_location', '..\\\\output\\\\eda_report'), ('model_repository_location', '..\\\\models')])"
      ]
     },
     "execution_count": 6,
     "metadata": {},
     "output_type": "execute_result"
    },
    {
     "data": {
      "text/plain": [
       "dict_items([('ICD9_DIAGNOSIS_CODE_CATEGORY_URL', 'https://icd.codes/icd9cm'), ('HCPCS_CATEGORY_URL', 'https://www.hcpcsdata.com/Codes')])"
      ]
     },
     "execution_count": 6,
     "metadata": {},
     "output_type": "execute_result"
    },
    {
     "data": {
      "text/plain": [
       "dict_items([('HIGH_CARDINALITY_THRESHOLD', 4), ('INFREQUENT_CATEGORY_CUT_OFF', 200), ('DEFAULT_INFREQUENT_CATEGORY_CUT_OFF', 10), ('INFREQUENT_CATEGORY_LABEL', 'Infrequent'), ('DEFAULT_INFREQUENT_CATEGORY_LABEL', 'OTHERS'), ('RANDOM_STATE', 420), ('STATISTICAL_TEST_ALPHA', 0.05), ('TEST_SIZE_FOR_SPLIT', 0.2), ('MISSING_VALUE_LABEL', 'Missing')])"
      ]
     },
     "execution_count": 6,
     "metadata": {},
     "output_type": "execute_result"
    }
   ],
   "source": [
    "for dictionary in config:\n",
    "    dictionary.items()\n",
    "\n"
   ]
  },
  {
   "cell_type": "code",
   "execution_count": 7,
   "metadata": {},
   "outputs": [],
   "source": [
    "# constant variables\n",
    "TEST_SIZE_FOR_SPLIT = config[3][\"TEST_SIZE_FOR_SPLIT\"]\n",
    "INFREQUENT_CATEGORY_CUT_OFF = config[3][\"INFREQUENT_CATEGORY_CUT_OFF\"]\n",
    "INFREQUENT_CATEGORY_LABEL = config[3][\"INFREQUENT_CATEGORY_LABEL\"]\n",
    "RANDOM_STATE = config[3][\"RANDOM_STATE\"]\n",
    "MISSING_VALUE_LABEL = config[3][\"MISSING_VALUE_LABEL\"]\n",
    "EDA_REPORT_LOCATION = config[1][\"eda_report_location\"]\n",
    "MODEL_REPOSITORY_LOCATION = config[1][\"model_repository_location\"]\n",
    "\n"
   ]
  },
  {
   "cell_type": "code",
   "execution_count": 8,
   "metadata": {},
   "outputs": [],
   "source": [
    "# import os\n",
    "\n",
    "# cd_path = os.path.dirname(os.path.realpath(__file__))\n",
    "# os.chdir(cd_path)\n",
    "\n"
   ]
  },
  {
   "cell_type": "code",
   "execution_count": 9,
   "metadata": {},
   "outputs": [],
   "source": [
    "from StatisticalTest import ChiSquare\n",
    "from CustomPipeline import (\n",
    "    CardinalityReducer,\n",
    "    get_ct_feature_names,\n",
    "    SelectColumnsTransfomer,\n",
    ")\n",
    "from feature_importance import FeatureImportance\n",
    "\n"
   ]
  },
  {
   "cell_type": "code",
   "execution_count": 10,
   "metadata": {},
   "outputs": [],
   "source": [
    "from imblearn import pipeline as imb_pipeline\n",
    "from imblearn.over_sampling import SMOTE, RandomOverSampler\n",
    "\n"
   ]
  },
  {
   "cell_type": "code",
   "execution_count": 11,
   "metadata": {},
   "outputs": [],
   "source": [
    "from sklearn.metrics import (\n",
    "    accuracy_score,\n",
    "    precision_score,\n",
    "    recall_score,\n",
    "    classification_report,\n",
    "    f1_score,\n",
    "    confusion_matrix,\n",
    "    roc_auc_score,\n",
    ")\n",
    "\n"
   ]
  },
  {
   "cell_type": "code",
   "execution_count": 12,
   "metadata": {},
   "outputs": [],
   "source": [
    "from sklearn.linear_model import LogisticRegression\n",
    "from sklearn.tree import DecisionTreeClassifier\n",
    "from sklearn.discriminant_analysis import LinearDiscriminantAnalysis\n",
    "from sklearn.svm import SVC\n",
    "from sklearn.ensemble import (\n",
    "    RandomForestClassifier,\n",
    "    ExtraTreesClassifier,\n",
    "    VotingClassifier,\n",
    "    BaggingClassifier,\n",
    ")\n",
    "from sklearn.neighbors import KNeighborsClassifier\n",
    "from sklearn.naive_bayes import GaussianNB\n",
    "from sklearn.model_selection import KFold, cross_val_score, RandomizedSearchCV\n",
    "\n"
   ]
  },
  {
   "cell_type": "code",
   "execution_count": 13,
   "metadata": {},
   "outputs": [],
   "source": [
    "from sklearn.decomposition import PCA, IncrementalPCA\n",
    "from sklearn.compose import ColumnTransformer, make_column_transformer\n",
    "from sklearn.impute import SimpleImputer\n",
    "from sklearn.pipeline import Pipeline\n",
    "from sklearn.preprocessing import (\n",
    "    MinMaxScaler,\n",
    "    OneHotEncoder,\n",
    "    StandardScaler,\n",
    "    OrdinalEncoder,\n",
    ")\n",
    "\n"
   ]
  },
  {
   "cell_type": "code",
   "execution_count": 14,
   "metadata": {},
   "outputs": [],
   "source": [
    "conn_object = sqlite3.connect(\"../database/cms_data.db\")\n",
    "\n"
   ]
  },
  {
   "cell_type": "code",
   "execution_count": 15,
   "metadata": {},
   "outputs": [],
   "source": [
    "query_string = \"\"\"SELECT inp.DESYNPUF_ID, inp.CLM_FROM_DT AS CLM_FROM_DT_INP, inp.CLM_THRU_DT AS CLM_THRU_DT_INP, inp.PRVDR_NUM AS PRVDR_NUM_INP, inp.CLM_PMT_AMT AS CLM_PMT_AMT_INP, inp.NCH_PRMRY_PYR_CLM_PD_AMT AS NCH_PRMRY_PYR_CLM_PD_AMT_INP, inp.AT_PHYSN_NPI AS AT_PHYSN_NPI_INP, inp.OP_PHYSN_NPI AS OP_PHYSN_NPI_INP, inp.CLM_ADMSN_DT AS CLM_ADMSN_DT_INP, inp.CLM_PASS_THRU_PER_DIEM_AMT AS CLM_PASS_THRU_PER_DIEM_AMT_INP, inp.NCH_BENE_IP_DDCTBL_AMT AS NCH_BENE_IP_DDCTBL_AMT_INP, inp.NCH_BENE_PTA_COINSRNC_LBLTY_AM AS NCH_BENE_PTA_COINSRNC_LBLTY_AM_INP, inp.NCH_BENE_BLOOD_DDCTBL_LBLTY_AM AS NCH_BENE_BLOOD_DDCTBL_LBLTY_AM_INP, inp.CLM_UTLZTN_DAY_CNT AS CLM_UTLZTN_DAY_CNT_INP, inp.NCH_BENE_DSCHRG_DT AS NCH_BENE_DSCHRG_DT_INP, inp.CLM_DRG_CD AS CLM_DRG_CD_INP, inp.PRVDR_NUM_CAT AS PRVDR_NUM_CAT_INP, inp.Next_CLM_ADMSN_DT AS Next_CLM_ADMSN_DT_INP, \n",
    "inp.Readmission_within_30days AS Readmission_within_30days_INP, inp.CLAIM_YEAR AS CLAIM_YEAR_INP, inp.ADMTNG_ICD9_DGNS_CD_CAT AS ADMTNG_ICD9_DGNS_CD_CAT_INP, inp.ICD9_DGNS_CD_1_CAT AS ICD9_DGNS_CD_1_CAT_INP, inp.ICD9_DGNS_CD_2_CAT AS ICD9_DGNS_CD_2_CAT_INP, inp.ICD9_DGNS_CD_3_CAT AS ICD9_DGNS_CD_3_CAT_INP, inp.ICD9_DGNS_CD_4_CAT AS ICD9_DGNS_CD_4_CAT_INP, \n",
    "inp.ICD9_DGNS_CD_5_CAT AS ICD9_DGNS_CD_5_CAT_INP, inp.ICD9_DGNS_CD_6_CAT AS ICD9_DGNS_CD_6_CAT_INP, inp.ICD9_DGNS_CD_7_CAT AS ICD9_DGNS_CD_7_CAT_INP, inp.ICD9_DGNS_CD_8_CAT AS ICD9_DGNS_CD_8_CAT_INP, inp.ICD9_DGNS_CD_9_CAT AS ICD9_DGNS_CD_9_CAT_INP, inp.ICD9_PRCDR_CD_1_CAT AS ICD9_PRCDR_CD_1_CAT_INP\n",
    "FROM Inpatient_claims_2 inp\n",
    "\"\"\"\n",
    "\n"
   ]
  },
  {
   "cell_type": "code",
   "execution_count": 16,
   "metadata": {},
   "outputs": [],
   "source": [
    "claim_data = pd.read_sql_query(\n",
    "    query_string,\n",
    "    con=conn_object,\n",
    "    parse_dates={\n",
    "        \"CLM_FROM_DT_INP\": {\"format\": \"%Y-%m-%d\"},\n",
    "        \"CLM_THRU_DT_INP\": {\"format\": \"%Y-%m-%d\"},\n",
    "        \"CLM_ADMSN_DT_INP\": {\"format\": \"%Y-%m-%d\"},\n",
    "        \"NCH_BENE_DSCHRG_DT_INP\": {\"format\": \"%Y-%m-%d\"},\n",
    "        \"Next_CLM_ADMSN_DT_INP\": {\"format\": \"%Y-%m-%d\"},\n",
    "        # \"CLM_FROM_DT_OUT\": {\"format\": \"%Y-%m-%d\"},\n",
    "        # \"CLM_THRU_DT_OUT\": {\"format\": \"%Y-%m-%d\"},\n",
    "    },\n",
    ")\n",
    "\n"
   ]
  },
  {
   "cell_type": "code",
   "execution_count": 17,
   "metadata": {},
   "outputs": [
    {
     "data": {
      "text/html": [
       "<div>\n",
       "<style scoped>\n",
       "    .dataframe tbody tr th:only-of-type {\n",
       "        vertical-align: middle;\n",
       "    }\n",
       "\n",
       "    .dataframe tbody tr th {\n",
       "        vertical-align: top;\n",
       "    }\n",
       "\n",
       "    .dataframe thead th {\n",
       "        text-align: right;\n",
       "    }\n",
       "</style>\n",
       "<table border=\"1\" class=\"dataframe\">\n",
       "  <thead>\n",
       "    <tr style=\"text-align: right;\">\n",
       "      <th></th>\n",
       "      <th>DESYNPUF_ID</th>\n",
       "      <th>CLM_FROM_DT_INP</th>\n",
       "      <th>CLM_THRU_DT_INP</th>\n",
       "      <th>PRVDR_NUM_INP</th>\n",
       "      <th>CLM_PMT_AMT_INP</th>\n",
       "      <th>NCH_PRMRY_PYR_CLM_PD_AMT_INP</th>\n",
       "      <th>AT_PHYSN_NPI_INP</th>\n",
       "      <th>OP_PHYSN_NPI_INP</th>\n",
       "      <th>CLM_ADMSN_DT_INP</th>\n",
       "      <th>CLM_PASS_THRU_PER_DIEM_AMT_INP</th>\n",
       "      <th>...</th>\n",
       "      <th>ICD9_DGNS_CD_1_CAT_INP</th>\n",
       "      <th>ICD9_DGNS_CD_2_CAT_INP</th>\n",
       "      <th>ICD9_DGNS_CD_3_CAT_INP</th>\n",
       "      <th>ICD9_DGNS_CD_4_CAT_INP</th>\n",
       "      <th>ICD9_DGNS_CD_5_CAT_INP</th>\n",
       "      <th>ICD9_DGNS_CD_6_CAT_INP</th>\n",
       "      <th>ICD9_DGNS_CD_7_CAT_INP</th>\n",
       "      <th>ICD9_DGNS_CD_8_CAT_INP</th>\n",
       "      <th>ICD9_DGNS_CD_9_CAT_INP</th>\n",
       "      <th>ICD9_PRCDR_CD_1_CAT_INP</th>\n",
       "    </tr>\n",
       "  </thead>\n",
       "  <tbody>\n",
       "    <tr>\n",
       "      <th>0</th>\n",
       "      <td>00000B48BCF4AD29</td>\n",
       "      <td>2008-07-07</td>\n",
       "      <td>2008-07-18</td>\n",
       "      <td>1000GD</td>\n",
       "      <td>57000.0</td>\n",
       "      <td>0.0</td>\n",
       "      <td>1.219278e+09</td>\n",
       "      <td>7.451661e+09</td>\n",
       "      <td>2008-07-07</td>\n",
       "      <td>0.0</td>\n",
       "      <td>...</td>\n",
       "      <td>390-459</td>\n",
       "      <td>240-279</td>\n",
       "      <td>780-799</td>\n",
       "      <td>240-279</td>\n",
       "      <td>390-459</td>\n",
       "      <td>240-279</td>\n",
       "      <td>390-459</td>\n",
       "      <td>390-459</td>\n",
       "      <td>460-519</td>\n",
       "      <td>35-39</td>\n",
       "    </tr>\n",
       "    <tr>\n",
       "      <th>1</th>\n",
       "      <td>00000B48BCF4AD29</td>\n",
       "      <td>2008-07-24</td>\n",
       "      <td>2008-07-26</td>\n",
       "      <td>1030RD</td>\n",
       "      <td>0.0</td>\n",
       "      <td>0.0</td>\n",
       "      <td>9.812675e+09</td>\n",
       "      <td>NaN</td>\n",
       "      <td>2008-07-24</td>\n",
       "      <td>0.0</td>\n",
       "      <td>...</td>\n",
       "      <td>390-459</td>\n",
       "      <td>280-289</td>\n",
       "      <td>460-519</td>\n",
       "      <td>520-579</td>\n",
       "      <td>390-459</td>\n",
       "      <td>V01-V91</td>\n",
       "      <td>290-319</td>\n",
       "      <td>240-279</td>\n",
       "      <td>390-459</td>\n",
       "      <td>None</td>\n",
       "    </tr>\n",
       "    <tr>\n",
       "      <th>2</th>\n",
       "      <td>00009C897C3D8372</td>\n",
       "      <td>2008-03-29</td>\n",
       "      <td>2008-04-03</td>\n",
       "      <td>0700QA</td>\n",
       "      <td>9000.0</td>\n",
       "      <td>0.0</td>\n",
       "      <td>4.123725e+09</td>\n",
       "      <td>NaN</td>\n",
       "      <td>2008-03-29</td>\n",
       "      <td>0.0</td>\n",
       "      <td>...</td>\n",
       "      <td>460-519</td>\n",
       "      <td>460-519</td>\n",
       "      <td>460-519</td>\n",
       "      <td>240-279</td>\n",
       "      <td>460-519</td>\n",
       "      <td>240-279</td>\n",
       "      <td>460-519</td>\n",
       "      <td>390-459</td>\n",
       "      <td>580-629</td>\n",
       "      <td>None</td>\n",
       "    </tr>\n",
       "    <tr>\n",
       "      <th>3</th>\n",
       "      <td>00009C897C3D8372</td>\n",
       "      <td>2008-04-15</td>\n",
       "      <td>2008-04-16</td>\n",
       "      <td>0700QA</td>\n",
       "      <td>10000.0</td>\n",
       "      <td>0.0</td>\n",
       "      <td>4.123725e+09</td>\n",
       "      <td>NaN</td>\n",
       "      <td>2008-04-15</td>\n",
       "      <td>0.0</td>\n",
       "      <td>...</td>\n",
       "      <td>001-139</td>\n",
       "      <td>580-629</td>\n",
       "      <td>460-519</td>\n",
       "      <td>320-389</td>\n",
       "      <td>680-709</td>\n",
       "      <td>240-279</td>\n",
       "      <td>390-459</td>\n",
       "      <td>320-389</td>\n",
       "      <td>240-279</td>\n",
       "      <td>None</td>\n",
       "    </tr>\n",
       "    <tr>\n",
       "      <th>4</th>\n",
       "      <td>0008148FCB4CB644</td>\n",
       "      <td>2009-12-11</td>\n",
       "      <td>2009-12-23</td>\n",
       "      <td>1401RR</td>\n",
       "      <td>28000.0</td>\n",
       "      <td>0.0</td>\n",
       "      <td>7.872370e+09</td>\n",
       "      <td>5.118340e+09</td>\n",
       "      <td>2009-12-11</td>\n",
       "      <td>400.0</td>\n",
       "      <td>...</td>\n",
       "      <td>240-279</td>\n",
       "      <td>320-389</td>\n",
       "      <td>240-279</td>\n",
       "      <td>320-389</td>\n",
       "      <td>V01-V91</td>\n",
       "      <td>290-319</td>\n",
       "      <td>580-629</td>\n",
       "      <td>800-999</td>\n",
       "      <td>390-459</td>\n",
       "      <td>55-59</td>\n",
       "    </tr>\n",
       "  </tbody>\n",
       "</table>\n",
       "<p>5 rows × 31 columns</p>\n",
       "</div>"
      ],
      "text/plain": [
       "        DESYNPUF_ID CLM_FROM_DT_INP CLM_THRU_DT_INP PRVDR_NUM_INP  \\\n",
       "0  00000B48BCF4AD29      2008-07-07      2008-07-18        1000GD   \n",
       "1  00000B48BCF4AD29      2008-07-24      2008-07-26        1030RD   \n",
       "2  00009C897C3D8372      2008-03-29      2008-04-03        0700QA   \n",
       "3  00009C897C3D8372      2008-04-15      2008-04-16        0700QA   \n",
       "4  0008148FCB4CB644      2009-12-11      2009-12-23        1401RR   \n",
       "\n",
       "   CLM_PMT_AMT_INP  NCH_PRMRY_PYR_CLM_PD_AMT_INP  AT_PHYSN_NPI_INP  \\\n",
       "0          57000.0                           0.0      1.219278e+09   \n",
       "1              0.0                           0.0      9.812675e+09   \n",
       "2           9000.0                           0.0      4.123725e+09   \n",
       "3          10000.0                           0.0      4.123725e+09   \n",
       "4          28000.0                           0.0      7.872370e+09   \n",
       "\n",
       "   OP_PHYSN_NPI_INP CLM_ADMSN_DT_INP  CLM_PASS_THRU_PER_DIEM_AMT_INP  ...  \\\n",
       "0      7.451661e+09       2008-07-07                             0.0  ...   \n",
       "1               NaN       2008-07-24                             0.0  ...   \n",
       "2               NaN       2008-03-29                             0.0  ...   \n",
       "3               NaN       2008-04-15                             0.0  ...   \n",
       "4      5.118340e+09       2009-12-11                           400.0  ...   \n",
       "\n",
       "   ICD9_DGNS_CD_1_CAT_INP  ICD9_DGNS_CD_2_CAT_INP  ICD9_DGNS_CD_3_CAT_INP  \\\n",
       "0                 390-459                 240-279                 780-799   \n",
       "1                 390-459                 280-289                 460-519   \n",
       "2                 460-519                 460-519                 460-519   \n",
       "3                 001-139                 580-629                 460-519   \n",
       "4                 240-279                 320-389                 240-279   \n",
       "\n",
       "   ICD9_DGNS_CD_4_CAT_INP ICD9_DGNS_CD_5_CAT_INP ICD9_DGNS_CD_6_CAT_INP  \\\n",
       "0                 240-279                390-459                240-279   \n",
       "1                 520-579                390-459                V01-V91   \n",
       "2                 240-279                460-519                240-279   \n",
       "3                 320-389                680-709                240-279   \n",
       "4                 320-389                V01-V91                290-319   \n",
       "\n",
       "  ICD9_DGNS_CD_7_CAT_INP ICD9_DGNS_CD_8_CAT_INP  ICD9_DGNS_CD_9_CAT_INP  \\\n",
       "0                390-459                390-459                 460-519   \n",
       "1                290-319                240-279                 390-459   \n",
       "2                460-519                390-459                 580-629   \n",
       "3                390-459                320-389                 240-279   \n",
       "4                580-629                800-999                 390-459   \n",
       "\n",
       "   ICD9_PRCDR_CD_1_CAT_INP  \n",
       "0                    35-39  \n",
       "1                     None  \n",
       "2                     None  \n",
       "3                     None  \n",
       "4                    55-59  \n",
       "\n",
       "[5 rows x 31 columns]"
      ]
     },
     "execution_count": 17,
     "metadata": {},
     "output_type": "execute_result"
    }
   ],
   "source": [
    "claim_data.head()\n",
    "\n"
   ]
  },
  {
   "cell_type": "code",
   "execution_count": 18,
   "metadata": {},
   "outputs": [
    {
     "data": {
      "text/plain": [
       "Index(['DESYNPUF_ID', 'CLM_FROM_DT_INP', 'CLM_THRU_DT_INP', 'PRVDR_NUM_INP',\n",
       "       'CLM_PMT_AMT_INP', 'NCH_PRMRY_PYR_CLM_PD_AMT_INP', 'AT_PHYSN_NPI_INP',\n",
       "       'OP_PHYSN_NPI_INP', 'CLM_ADMSN_DT_INP',\n",
       "       'CLM_PASS_THRU_PER_DIEM_AMT_INP', 'NCH_BENE_IP_DDCTBL_AMT_INP',\n",
       "       'NCH_BENE_PTA_COINSRNC_LBLTY_AM_INP',\n",
       "       'NCH_BENE_BLOOD_DDCTBL_LBLTY_AM_INP', 'CLM_UTLZTN_DAY_CNT_INP',\n",
       "       'NCH_BENE_DSCHRG_DT_INP', 'CLM_DRG_CD_INP', 'PRVDR_NUM_CAT_INP',\n",
       "       'Next_CLM_ADMSN_DT_INP', 'Readmission_within_30days_INP',\n",
       "       'CLAIM_YEAR_INP', 'ADMTNG_ICD9_DGNS_CD_CAT_INP',\n",
       "       'ICD9_DGNS_CD_1_CAT_INP', 'ICD9_DGNS_CD_2_CAT_INP',\n",
       "       'ICD9_DGNS_CD_3_CAT_INP', 'ICD9_DGNS_CD_4_CAT_INP',\n",
       "       'ICD9_DGNS_CD_5_CAT_INP', 'ICD9_DGNS_CD_6_CAT_INP',\n",
       "       'ICD9_DGNS_CD_7_CAT_INP', 'ICD9_DGNS_CD_8_CAT_INP',\n",
       "       'ICD9_DGNS_CD_9_CAT_INP', 'ICD9_PRCDR_CD_1_CAT_INP'],\n",
       "      dtype='object')"
      ]
     },
     "execution_count": 18,
     "metadata": {},
     "output_type": "execute_result"
    }
   ],
   "source": [
    "claim_data.columns\n",
    "\n"
   ]
  },
  {
   "cell_type": "code",
   "execution_count": 19,
   "metadata": {},
   "outputs": [
    {
     "data": {
      "text/plain": [
       "0    0.866479\n",
       "1    0.133521\n",
       "Name: Readmission_within_30days_INP, dtype: float64"
      ]
     },
     "execution_count": 19,
     "metadata": {},
     "output_type": "execute_result"
    }
   ],
   "source": [
    "claim_data[\"Readmission_within_30days_INP\"].value_counts() / claim_data.shape[0]\n",
    "\n"
   ]
  },
  {
   "cell_type": "code",
   "execution_count": 20,
   "metadata": {},
   "outputs": [],
   "source": [
    "# claim_data = claim_data[(claim_data['NCH_BENE_DSCHRG_DT_INP'] <= claim_data['CLM_FROM_DT_OUT']) & (claim_data['CLM_FROM_DT_OUT'] <= claim_data['Next_CLM_ADMSN_DT_INP'])]\n",
    "\n"
   ]
  },
  {
   "cell_type": "code",
   "execution_count": 21,
   "metadata": {},
   "outputs": [
    {
     "data": {
      "text/plain": [
       "DESYNPUF_ID                                   object\n",
       "CLM_FROM_DT_INP                       datetime64[ns]\n",
       "CLM_THRU_DT_INP                       datetime64[ns]\n",
       "PRVDR_NUM_INP                                 object\n",
       "CLM_PMT_AMT_INP                              float64\n",
       "NCH_PRMRY_PYR_CLM_PD_AMT_INP                 float64\n",
       "AT_PHYSN_NPI_INP                             float64\n",
       "OP_PHYSN_NPI_INP                             float64\n",
       "CLM_ADMSN_DT_INP                      datetime64[ns]\n",
       "CLM_PASS_THRU_PER_DIEM_AMT_INP               float64\n",
       "NCH_BENE_IP_DDCTBL_AMT_INP                   float64\n",
       "NCH_BENE_PTA_COINSRNC_LBLTY_AM_INP           float64\n",
       "NCH_BENE_BLOOD_DDCTBL_LBLTY_AM_INP           float64\n",
       "CLM_UTLZTN_DAY_CNT_INP                       float64\n",
       "NCH_BENE_DSCHRG_DT_INP                datetime64[ns]\n",
       "CLM_DRG_CD_INP                                object\n",
       "PRVDR_NUM_CAT_INP                             object\n",
       "Next_CLM_ADMSN_DT_INP                 datetime64[ns]\n",
       "Readmission_within_30days_INP                  int64\n",
       "CLAIM_YEAR_INP                                 int64\n",
       "ADMTNG_ICD9_DGNS_CD_CAT_INP                   object\n",
       "ICD9_DGNS_CD_1_CAT_INP                        object\n",
       "ICD9_DGNS_CD_2_CAT_INP                        object\n",
       "ICD9_DGNS_CD_3_CAT_INP                        object\n",
       "ICD9_DGNS_CD_4_CAT_INP                        object\n",
       "ICD9_DGNS_CD_5_CAT_INP                        object\n",
       "ICD9_DGNS_CD_6_CAT_INP                        object\n",
       "ICD9_DGNS_CD_7_CAT_INP                        object\n",
       "ICD9_DGNS_CD_8_CAT_INP                        object\n",
       "ICD9_DGNS_CD_9_CAT_INP                        object\n",
       "ICD9_PRCDR_CD_1_CAT_INP                       object\n",
       "dtype: object"
      ]
     },
     "execution_count": 21,
     "metadata": {},
     "output_type": "execute_result"
    }
   ],
   "source": [
    "claim_data.dtypes\n",
    "\n"
   ]
  },
  {
   "cell_type": "code",
   "execution_count": 22,
   "metadata": {},
   "outputs": [
    {
     "data": {
      "text/plain": [
       "(46180, 31)"
      ]
     },
     "execution_count": 22,
     "metadata": {},
     "output_type": "execute_result"
    }
   ],
   "source": [
    "claim_data.shape\n",
    "\n"
   ]
  },
  {
   "cell_type": "code",
   "execution_count": 23,
   "metadata": {},
   "outputs": [],
   "source": [
    "beneficiary_summary_2 = pd.read_sql_query(\n",
    "    \"select * from Beneficiary_Data_2\",\n",
    "    con=conn_object,\n",
    "    parse_dates=[\"BENE_BIRTH_DT\", \"BENE_DEATH_DT\"],\n",
    ")\n",
    "\n"
   ]
  },
  {
   "cell_type": "code",
   "execution_count": 24,
   "metadata": {},
   "outputs": [
    {
     "data": {
      "text/plain": [
       "(343858, 33)"
      ]
     },
     "execution_count": 24,
     "metadata": {},
     "output_type": "execute_result"
    }
   ],
   "source": [
    "beneficiary_summary_2.shape\n",
    "\n"
   ]
  },
  {
   "cell_type": "code",
   "execution_count": 25,
   "metadata": {},
   "outputs": [
    {
     "data": {
      "text/plain": [
       "DESYNPUF_ID                         object\n",
       "BENE_BIRTH_DT               datetime64[ns]\n",
       "BENE_DEATH_DT               datetime64[ns]\n",
       "BENE_SEX_IDENT_CD                    int64\n",
       "BENE_RACE_CD                         int64\n",
       "BENE_ESRD_IND                       object\n",
       "BENE_HI_CVRAGE_TOT_MONS              int64\n",
       "BENE_SMI_CVRAGE_TOT_MONS             int64\n",
       "BENE_HMO_CVRAGE_TOT_MONS             int64\n",
       "PLAN_CVRG_MOS_NUM                    int64\n",
       "SP_ALZHDMTA                          int64\n",
       "SP_CHF                               int64\n",
       "SP_CHRNKIDN                          int64\n",
       "SP_CNCR                              int64\n",
       "SP_COPD                              int64\n",
       "SP_DEPRESSN                          int64\n",
       "SP_DIABETES                          int64\n",
       "SP_ISCHMCHT                          int64\n",
       "SP_OSTEOPRS                          int64\n",
       "SP_RA_OA                             int64\n",
       "SP_STRKETIA                          int64\n",
       "MEDREIMB_IP                        float64\n",
       "BENRES_IP                          float64\n",
       "PPPYMT_IP                          float64\n",
       "MEDREIMB_OP                        float64\n",
       "BENRES_OP                          float64\n",
       "PPPYMT_OP                          float64\n",
       "MEDREIMB_CAR                       float64\n",
       "BENRES_CAR                         float64\n",
       "PPPYMT_CAR                         float64\n",
       "Year                                 int64\n",
       "BENE_AGE                           float64\n",
       "BENE_STATE_COUNTY_CODE              object\n",
       "dtype: object"
      ]
     },
     "execution_count": 25,
     "metadata": {},
     "output_type": "execute_result"
    }
   ],
   "source": [
    "beneficiary_summary_2.dtypes\n",
    "\n"
   ]
  },
  {
   "cell_type": "code",
   "execution_count": 26,
   "metadata": {},
   "outputs": [],
   "source": [
    "final_df = pd.merge(\n",
    "    left=beneficiary_summary_2,\n",
    "    right=claim_data,\n",
    "    left_on=[\"DESYNPUF_ID\", \"Year\"],\n",
    "    right_on=[\"DESYNPUF_ID\", \"CLAIM_YEAR_INP\"],\n",
    "    how=\"inner\",\n",
    ")\n",
    "\n"
   ]
  },
  {
   "cell_type": "code",
   "execution_count": 27,
   "metadata": {},
   "outputs": [
    {
     "data": {
      "text/html": [
       "<div>\n",
       "<style scoped>\n",
       "    .dataframe tbody tr th:only-of-type {\n",
       "        vertical-align: middle;\n",
       "    }\n",
       "\n",
       "    .dataframe tbody tr th {\n",
       "        vertical-align: top;\n",
       "    }\n",
       "\n",
       "    .dataframe thead th {\n",
       "        text-align: right;\n",
       "    }\n",
       "</style>\n",
       "<table border=\"1\" class=\"dataframe\">\n",
       "  <thead>\n",
       "    <tr style=\"text-align: right;\">\n",
       "      <th></th>\n",
       "      <th>DESYNPUF_ID</th>\n",
       "      <th>BENE_BIRTH_DT</th>\n",
       "      <th>BENE_DEATH_DT</th>\n",
       "      <th>BENE_SEX_IDENT_CD</th>\n",
       "      <th>BENE_RACE_CD</th>\n",
       "      <th>BENE_ESRD_IND</th>\n",
       "      <th>BENE_HI_CVRAGE_TOT_MONS</th>\n",
       "      <th>BENE_SMI_CVRAGE_TOT_MONS</th>\n",
       "      <th>BENE_HMO_CVRAGE_TOT_MONS</th>\n",
       "      <th>PLAN_CVRG_MOS_NUM</th>\n",
       "      <th>...</th>\n",
       "      <th>ICD9_DGNS_CD_1_CAT_INP</th>\n",
       "      <th>ICD9_DGNS_CD_2_CAT_INP</th>\n",
       "      <th>ICD9_DGNS_CD_3_CAT_INP</th>\n",
       "      <th>ICD9_DGNS_CD_4_CAT_INP</th>\n",
       "      <th>ICD9_DGNS_CD_5_CAT_INP</th>\n",
       "      <th>ICD9_DGNS_CD_6_CAT_INP</th>\n",
       "      <th>ICD9_DGNS_CD_7_CAT_INP</th>\n",
       "      <th>ICD9_DGNS_CD_8_CAT_INP</th>\n",
       "      <th>ICD9_DGNS_CD_9_CAT_INP</th>\n",
       "      <th>ICD9_PRCDR_CD_1_CAT_INP</th>\n",
       "    </tr>\n",
       "  </thead>\n",
       "  <tbody>\n",
       "    <tr>\n",
       "      <th>0</th>\n",
       "      <td>00000B48BCF4AD29</td>\n",
       "      <td>1923-09-01</td>\n",
       "      <td>NaT</td>\n",
       "      <td>2</td>\n",
       "      <td>5</td>\n",
       "      <td>0</td>\n",
       "      <td>12</td>\n",
       "      <td>12</td>\n",
       "      <td>0</td>\n",
       "      <td>0</td>\n",
       "      <td>...</td>\n",
       "      <td>390-459</td>\n",
       "      <td>240-279</td>\n",
       "      <td>780-799</td>\n",
       "      <td>240-279</td>\n",
       "      <td>390-459</td>\n",
       "      <td>240-279</td>\n",
       "      <td>390-459</td>\n",
       "      <td>390-459</td>\n",
       "      <td>460-519</td>\n",
       "      <td>35-39</td>\n",
       "    </tr>\n",
       "    <tr>\n",
       "      <th>1</th>\n",
       "      <td>00000B48BCF4AD29</td>\n",
       "      <td>1923-09-01</td>\n",
       "      <td>NaT</td>\n",
       "      <td>2</td>\n",
       "      <td>5</td>\n",
       "      <td>0</td>\n",
       "      <td>12</td>\n",
       "      <td>12</td>\n",
       "      <td>0</td>\n",
       "      <td>0</td>\n",
       "      <td>...</td>\n",
       "      <td>390-459</td>\n",
       "      <td>280-289</td>\n",
       "      <td>460-519</td>\n",
       "      <td>520-579</td>\n",
       "      <td>390-459</td>\n",
       "      <td>V01-V91</td>\n",
       "      <td>290-319</td>\n",
       "      <td>240-279</td>\n",
       "      <td>390-459</td>\n",
       "      <td>None</td>\n",
       "    </tr>\n",
       "    <tr>\n",
       "      <th>2</th>\n",
       "      <td>0000525AB30E4DEF</td>\n",
       "      <td>1920-10-01</td>\n",
       "      <td>NaT</td>\n",
       "      <td>2</td>\n",
       "      <td>1</td>\n",
       "      <td>0</td>\n",
       "      <td>12</td>\n",
       "      <td>12</td>\n",
       "      <td>0</td>\n",
       "      <td>12</td>\n",
       "      <td>...</td>\n",
       "      <td>520-579</td>\n",
       "      <td>390-459</td>\n",
       "      <td>V01-V91</td>\n",
       "      <td>V01-V91</td>\n",
       "      <td>780-799</td>\n",
       "      <td>240-279</td>\n",
       "      <td>520-579</td>\n",
       "      <td>460-519</td>\n",
       "      <td>520-579</td>\n",
       "      <td>87-99</td>\n",
       "    </tr>\n",
       "    <tr>\n",
       "      <th>3</th>\n",
       "      <td>0000525AB30E4DEF</td>\n",
       "      <td>1920-10-01</td>\n",
       "      <td>NaT</td>\n",
       "      <td>2</td>\n",
       "      <td>1</td>\n",
       "      <td>0</td>\n",
       "      <td>12</td>\n",
       "      <td>12</td>\n",
       "      <td>0</td>\n",
       "      <td>12</td>\n",
       "      <td>...</td>\n",
       "      <td>520-579</td>\n",
       "      <td>V01-V91</td>\n",
       "      <td>580-629</td>\n",
       "      <td>800-999</td>\n",
       "      <td>390-459</td>\n",
       "      <td>390-459</td>\n",
       "      <td>780-799</td>\n",
       "      <td>520-579</td>\n",
       "      <td>780-799</td>\n",
       "      <td>35-39</td>\n",
       "    </tr>\n",
       "    <tr>\n",
       "      <th>4</th>\n",
       "      <td>00009C897C3D8372</td>\n",
       "      <td>1932-01-01</td>\n",
       "      <td>NaT</td>\n",
       "      <td>1</td>\n",
       "      <td>1</td>\n",
       "      <td>Y</td>\n",
       "      <td>12</td>\n",
       "      <td>12</td>\n",
       "      <td>12</td>\n",
       "      <td>12</td>\n",
       "      <td>...</td>\n",
       "      <td>460-519</td>\n",
       "      <td>460-519</td>\n",
       "      <td>460-519</td>\n",
       "      <td>240-279</td>\n",
       "      <td>460-519</td>\n",
       "      <td>240-279</td>\n",
       "      <td>460-519</td>\n",
       "      <td>390-459</td>\n",
       "      <td>580-629</td>\n",
       "      <td>None</td>\n",
       "    </tr>\n",
       "  </tbody>\n",
       "</table>\n",
       "<p>5 rows × 63 columns</p>\n",
       "</div>"
      ],
      "text/plain": [
       "        DESYNPUF_ID BENE_BIRTH_DT BENE_DEATH_DT  BENE_SEX_IDENT_CD  \\\n",
       "0  00000B48BCF4AD29    1923-09-01           NaT                  2   \n",
       "1  00000B48BCF4AD29    1923-09-01           NaT                  2   \n",
       "2  0000525AB30E4DEF    1920-10-01           NaT                  2   \n",
       "3  0000525AB30E4DEF    1920-10-01           NaT                  2   \n",
       "4  00009C897C3D8372    1932-01-01           NaT                  1   \n",
       "\n",
       "   BENE_RACE_CD BENE_ESRD_IND  BENE_HI_CVRAGE_TOT_MONS  \\\n",
       "0             5             0                       12   \n",
       "1             5             0                       12   \n",
       "2             1             0                       12   \n",
       "3             1             0                       12   \n",
       "4             1             Y                       12   \n",
       "\n",
       "   BENE_SMI_CVRAGE_TOT_MONS  BENE_HMO_CVRAGE_TOT_MONS  PLAN_CVRG_MOS_NUM  ...  \\\n",
       "0                        12                         0                  0  ...   \n",
       "1                        12                         0                  0  ...   \n",
       "2                        12                         0                 12  ...   \n",
       "3                        12                         0                 12  ...   \n",
       "4                        12                        12                 12  ...   \n",
       "\n",
       "   ICD9_DGNS_CD_1_CAT_INP  ICD9_DGNS_CD_2_CAT_INP  ICD9_DGNS_CD_3_CAT_INP  \\\n",
       "0                 390-459                 240-279                 780-799   \n",
       "1                 390-459                 280-289                 460-519   \n",
       "2                 520-579                 390-459                 V01-V91   \n",
       "3                 520-579                 V01-V91                 580-629   \n",
       "4                 460-519                 460-519                 460-519   \n",
       "\n",
       "   ICD9_DGNS_CD_4_CAT_INP  ICD9_DGNS_CD_5_CAT_INP  ICD9_DGNS_CD_6_CAT_INP  \\\n",
       "0                 240-279                 390-459                 240-279   \n",
       "1                 520-579                 390-459                 V01-V91   \n",
       "2                 V01-V91                 780-799                 240-279   \n",
       "3                 800-999                 390-459                 390-459   \n",
       "4                 240-279                 460-519                 240-279   \n",
       "\n",
       "   ICD9_DGNS_CD_7_CAT_INP  ICD9_DGNS_CD_8_CAT_INP  ICD9_DGNS_CD_9_CAT_INP  \\\n",
       "0                 390-459                 390-459                 460-519   \n",
       "1                 290-319                 240-279                 390-459   \n",
       "2                 520-579                 460-519                 520-579   \n",
       "3                 780-799                 520-579                 780-799   \n",
       "4                 460-519                 390-459                 580-629   \n",
       "\n",
       "   ICD9_PRCDR_CD_1_CAT_INP  \n",
       "0                    35-39  \n",
       "1                     None  \n",
       "2                    87-99  \n",
       "3                    35-39  \n",
       "4                     None  \n",
       "\n",
       "[5 rows x 63 columns]"
      ]
     },
     "execution_count": 27,
     "metadata": {},
     "output_type": "execute_result"
    }
   ],
   "source": [
    "final_df.head()\n",
    "\n"
   ]
  },
  {
   "cell_type": "code",
   "execution_count": 28,
   "metadata": {},
   "outputs": [
    {
     "data": {
      "text/plain": [
       "0    0.866764\n",
       "1    0.133236\n",
       "Name: Readmission_within_30days_INP, dtype: float64"
      ]
     },
     "execution_count": 28,
     "metadata": {},
     "output_type": "execute_result"
    }
   ],
   "source": [
    "final_df[\"Readmission_within_30days_INP\"].value_counts() / final_df.shape[0]\n",
    "\n"
   ]
  },
  {
   "cell_type": "code",
   "execution_count": 29,
   "metadata": {},
   "outputs": [],
   "source": [
    "categorical_features = [\n",
    "    \"BENE_SEX_IDENT_CD\",\n",
    "    \"BENE_RACE_CD\",\n",
    "    \"BENE_ESRD_IND\",\n",
    "    \"SP_ALZHDMTA\",\n",
    "    \"SP_CHF\",\n",
    "    \"SP_CHRNKIDN\",\n",
    "    \"SP_CNCR\",\n",
    "    \"SP_COPD\",\n",
    "    \"SP_DEPRESSN\",\n",
    "    \"SP_DIABETES\",\n",
    "    \"SP_ISCHMCHT\",\n",
    "    \"SP_OSTEOPRS\",\n",
    "    \"SP_RA_OA\",\n",
    "    \"SP_STRKETIA\",\n",
    "    \"BENE_STATE_COUNTY_CODE\",\n",
    "    \"PRVDR_NUM_CAT_INP\",\n",
    "    \"ADMTNG_ICD9_DGNS_CD_CAT_INP\",\n",
    "    \"ICD9_DGNS_CD_1_CAT_INP\",\n",
    "    \"ICD9_DGNS_CD_2_CAT_INP\",\n",
    "    \"ICD9_DGNS_CD_3_CAT_INP\",\n",
    "    \"ICD9_DGNS_CD_4_CAT_INP\",\n",
    "    \"ICD9_DGNS_CD_5_CAT_INP\",\n",
    "    \"ICD9_DGNS_CD_6_CAT_INP\",\n",
    "    \"ICD9_DGNS_CD_7_CAT_INP\",\n",
    "    \"ICD9_DGNS_CD_8_CAT_INP\",\n",
    "    \"ICD9_DGNS_CD_9_CAT_INP\",\n",
    "    \"ICD9_PRCDR_CD_1_CAT_INP\",\n",
    "    # \"PRVDR_NUM_CAT_OUT\",\n",
    "    # \"HCPCS_CD_1_CAT_OUT\",\n",
    "    # \"HCPCS_CD_2_CAT_OUT\",\n",
    "    # \"HCPCS_CD_3_CAT_OUT\",\n",
    "    # \"ICD9_DGNS_CD_1_CAT_OUT\",\n",
    "    # \"ICD9_DGNS_CD_2_CAT_OUT\",\n",
    "    \"Readmission_within_30days_INP\",\n",
    "    # \"BENE_AGE_CAT\"\n",
    "    # \"AT_PHYSN_NPI_OUT\",\n",
    "    # \"AT_PHYSN_NPI_INP\",\n",
    "    # \"OP_PHYSN_NPI_INP\"\n",
    "]\n",
    "\n"
   ]
  },
  {
   "cell_type": "code",
   "execution_count": 121,
   "metadata": {},
   "outputs": [],
   "source": [
    "# columns to drop:\n",
    "# PRVDR_NUM_INP : Category column exist PRVDR_NUM_CAT_INP\n",
    "# CLM_DRG_CD_INP : Claim Diagnosis Related Group Code not relevant for Readmission detection\n",
    "# PRVDR_NUM_OUT : Category column exists PRVDR_NUM_CAT_OUT\n",
    "# 'ICD9_DGNS_CD_1_OUT', 'ICD9_DGNS_CD_2_OUT', 'HCPCS_CD_1_OUT', 'HCPCS_CD_2_OUT', 'HCPCS_CD_3_OUT' : Category column exists\n",
    "# 'HCPCS_CD_1_CAT_DESC_OUT', 'HCPCS_CD_2_CAT_DESC_OUT', 'HCPCS_CD_3_CAT_DESC_OUT' : Description column to be used later\n",
    "\n",
    "cols_to_drop = [\n",
    "    \"Year\",\n",
    "    \"CLAIM_YEAR_INP\",\n",
    "    \"PRVDR_NUM_INP\",\n",
    "    \"CLM_DRG_CD_INP\",\n",
    "    # \"PRVDR_NUM_OUT\",\n",
    "    # \"ICD9_DGNS_CD_1_OUT\",\n",
    "    # \"ICD9_DGNS_CD_2_OUT\",\n",
    "    # \"HCPCS_CD_1_OUT\",\n",
    "    # \"HCPCS_CD_2_OUT\",\n",
    "    # \"HCPCS_CD_3_OUT\",\n",
    "    # \"HCPCS_CD_1_CAT_DESC_OUT\",\n",
    "    # \"HCPCS_CD_2_CAT_DESC_OUT\",\n",
    "    # \"HCPCS_CD_3_CAT_DESC_OUT\",\n",
    "]\n",
    "date_cols = list(final_df.select_dtypes(include=\"datetime\").columns)\n",
    "npi_cols = [col for col in final_df.select_dtypes(include=\"number\") if \"NPI\" in col]\n",
    "\n"
   ]
  },
  {
   "cell_type": "code",
   "execution_count": 122,
   "metadata": {},
   "outputs": [],
   "source": [
    "df = final_df.copy()\n",
    "\n"
   ]
  },
  {
   "cell_type": "code",
   "execution_count": 123,
   "metadata": {},
   "outputs": [],
   "source": [
    "# df.to_sql(\"final_readmission_df\", con=conn_object, index=False, if_exists=\"replace\")\n",
    "\n"
   ]
  },
  {
   "cell_type": "code",
   "execution_count": 124,
   "metadata": {},
   "outputs": [],
   "source": [
    "df[categorical_features] = df[categorical_features].astype(\"category\")\n",
    "\n"
   ]
  },
  {
   "cell_type": "code",
   "execution_count": 125,
   "metadata": {},
   "outputs": [],
   "source": [
    "df.drop(columns=cols_to_drop + date_cols + npi_cols, inplace=True, axis=1)\n",
    "\n"
   ]
  },
  {
   "cell_type": "code",
   "execution_count": 126,
   "metadata": {},
   "outputs": [
    {
     "data": {
      "text/plain": [
       "DESYNPUF_ID                             object\n",
       "BENE_SEX_IDENT_CD                     category\n",
       "BENE_RACE_CD                          category\n",
       "BENE_ESRD_IND                         category\n",
       "BENE_HI_CVRAGE_TOT_MONS                  int64\n",
       "BENE_SMI_CVRAGE_TOT_MONS                 int64\n",
       "BENE_HMO_CVRAGE_TOT_MONS                 int64\n",
       "PLAN_CVRG_MOS_NUM                        int64\n",
       "SP_ALZHDMTA                           category\n",
       "SP_CHF                                category\n",
       "SP_CHRNKIDN                           category\n",
       "SP_CNCR                               category\n",
       "SP_COPD                               category\n",
       "SP_DEPRESSN                           category\n",
       "SP_DIABETES                           category\n",
       "SP_ISCHMCHT                           category\n",
       "SP_OSTEOPRS                           category\n",
       "SP_RA_OA                              category\n",
       "SP_STRKETIA                           category\n",
       "MEDREIMB_IP                            float64\n",
       "BENRES_IP                              float64\n",
       "PPPYMT_IP                              float64\n",
       "MEDREIMB_OP                            float64\n",
       "BENRES_OP                              float64\n",
       "PPPYMT_OP                              float64\n",
       "MEDREIMB_CAR                           float64\n",
       "BENRES_CAR                             float64\n",
       "PPPYMT_CAR                             float64\n",
       "BENE_AGE                               float64\n",
       "BENE_STATE_COUNTY_CODE                category\n",
       "CLM_PMT_AMT_INP                        float64\n",
       "NCH_PRMRY_PYR_CLM_PD_AMT_INP           float64\n",
       "CLM_PASS_THRU_PER_DIEM_AMT_INP         float64\n",
       "NCH_BENE_IP_DDCTBL_AMT_INP             float64\n",
       "NCH_BENE_PTA_COINSRNC_LBLTY_AM_INP     float64\n",
       "NCH_BENE_BLOOD_DDCTBL_LBLTY_AM_INP     float64\n",
       "CLM_UTLZTN_DAY_CNT_INP                 float64\n",
       "PRVDR_NUM_CAT_INP                     category\n",
       "Readmission_within_30days_INP            int64\n",
       "ADMTNG_ICD9_DGNS_CD_CAT_INP           category\n",
       "ICD9_DGNS_CD_1_CAT_INP                category\n",
       "ICD9_DGNS_CD_2_CAT_INP                category\n",
       "ICD9_DGNS_CD_3_CAT_INP                category\n",
       "ICD9_DGNS_CD_4_CAT_INP                category\n",
       "ICD9_DGNS_CD_5_CAT_INP                category\n",
       "ICD9_DGNS_CD_6_CAT_INP                category\n",
       "ICD9_DGNS_CD_7_CAT_INP                category\n",
       "ICD9_DGNS_CD_8_CAT_INP                category\n",
       "ICD9_DGNS_CD_9_CAT_INP                category\n",
       "ICD9_PRCDR_CD_1_CAT_INP               category\n",
       "dtype: object"
      ]
     },
     "execution_count": 126,
     "metadata": {},
     "output_type": "execute_result"
    }
   ],
   "source": [
    "df.dtypes\n"
   ]
  },
  {
   "cell_type": "code",
   "execution_count": 127,
   "metadata": {},
   "outputs": [],
   "source": [
    "# # Check - 1 dropping columns as per feature importance\n",
    "# df.drop(columns=\"BENRES_IP\", inplace=True, axis=1)"
   ]
  },
  {
   "cell_type": "code",
   "execution_count": 128,
   "metadata": {},
   "outputs": [],
   "source": [
    "# from pandas_profiling import ProfileReport\n",
    "\n",
    "# eda_report = ProfileReport(\n",
    "#     df,\n",
    "#     title=\"Exploratory Data Analysis\",\n",
    "#     minimal=True,\n",
    "#     interactions={\"continuous\": False},\n",
    "#     missing_diagrams={\n",
    "#         \"bar\": True,\n",
    "#         \"matrix\": True,\n",
    "#         \"heatmap\": True,\n",
    "#         \"dendrogram\": True,\n",
    "#     },\n",
    "#     correlations={\n",
    "#         \"pearson\": {\"calculate\": True},\n",
    "#         \"spearman\": {\"calculate\": True},\n",
    "#         \"kendall\": {\"calculate\": True},\n",
    "#         \"phi_k\": {\"calculate\": True},\n",
    "#         \"cramers\": {\"calculate\": True},\n",
    "#     },\n",
    "# )\n",
    "# eda_report.to_file(f\"{EDA_REPORT_LOCATION}\\\\final_df_eda_report.html\")\n",
    "\n"
   ]
  },
  {
   "cell_type": "code",
   "execution_count": 129,
   "metadata": {},
   "outputs": [],
   "source": [
    "X = df.drop(columns=[\"Readmission_within_30days_INP\"], axis=1)\n",
    "y = df.loc[:, \"Readmission_within_30days_INP\"]\n",
    "\n"
   ]
  },
  {
   "cell_type": "code",
   "execution_count": 130,
   "metadata": {},
   "outputs": [],
   "source": [
    "from sklearn.model_selection import train_test_split\n",
    "\n",
    "X_train, X_test, y_train, y_test = train_test_split(X, y, test_size=TEST_SIZE_FOR_SPLIT)\n",
    "\n"
   ]
  },
  {
   "cell_type": "code",
   "execution_count": 131,
   "metadata": {},
   "outputs": [],
   "source": [
    "categorical_features = list(X.select_dtypes(include=\"category\").columns)\n",
    "numerical_features = list(X.select_dtypes(include=\"number\").columns)\n",
    "\n"
   ]
  },
  {
   "cell_type": "code",
   "execution_count": 132,
   "metadata": {},
   "outputs": [],
   "source": [
    "ct = ChiSquare(pd.concat([X_train, y_train], axis=1))\n",
    "\n"
   ]
  },
  {
   "cell_type": "code",
   "execution_count": 133,
   "metadata": {},
   "outputs": [],
   "source": [
    "# cramers = pd.DataFrame(\n",
    "#     {\n",
    "#         i: [ct.cramers_v(i, j) for j in categorical_features]\n",
    "#         for i in categorical_features\n",
    "#     }\n",
    "# )\n",
    "# cramers[\"column\"] = [i for i in categorical_features if i not in [\"memberid\"]]\n",
    "# cramers.set_index(\"column\", inplace=True)\n",
    "\n"
   ]
  },
  {
   "cell_type": "code",
   "execution_count": 134,
   "metadata": {},
   "outputs": [],
   "source": [
    "# # categorical correlation heatmap\n",
    "# plt.figure(figsize=(25, 25))\n",
    "# sns.heatmap(cramers, annot=True, fmt=\".2f\", cmap=\"magma\")\n",
    "# plt.show()\n",
    "\n",
    "# # > High correlation between BENE_STATE_COUNTY_CODE & PRVDR_NUM_CAT_INP columns\n"
   ]
  },
  {
   "cell_type": "code",
   "execution_count": 135,
   "metadata": {},
   "outputs": [],
   "source": [
    "# X_train.drop(columns=[\"BENE_STATE_COUNTY_CODE\"], axis=1, inplace=True)\n",
    "# X_test.drop(columns=[\"BENE_STATE_COUNTY_CODE\"], axis=1, inplace=True)\n",
    "\n"
   ]
  },
  {
   "cell_type": "code",
   "execution_count": 136,
   "metadata": {},
   "outputs": [
    {
     "data": {
      "text/plain": [
       "<Figure size 1800x1800 with 0 Axes>"
      ]
     },
     "execution_count": 136,
     "metadata": {},
     "output_type": "execute_result"
    },
    {
     "data": {
      "text/plain": [
       "<matplotlib.axes._subplots.AxesSubplot at 0x225612b0e88>"
      ]
     },
     "execution_count": 136,
     "metadata": {},
     "output_type": "execute_result"
    },
    {
     "data": {
      "image/png": "[encoded data removed]",
      "text/plain": [
       "<Figure size 1800x1800 with 2 Axes>"
      ]
     },
     "metadata": {
      "needs_background": "light"
     },
     "output_type": "display_data"
    }
   ],
   "source": [
    "plt.figure(figsize=(25, 25))\n",
    "sns.heatmap(\n",
    "    X_train.select_dtypes(include=\"number\").corr(), annot=True, fmt=\".2f\", cmap=\"magma\"\n",
    ")\n",
    "# plt.show()\n",
    "# #%%\n",
    "# distribution_age = pd.crosstab(\n",
    "#     pd.cut(df[\"BENE_AGE\"], bins=5, labels=[\"25-40\", \"40-55\", \"55-70\", \"70-85\", \"85+\"]),\n",
    "#     df[\"Readmission_within_30days_INP\"],\n",
    "#     normalize=\"index\",\n",
    "# )\n",
    "\n",
    "\n",
    "# #%%\n",
    "# plt.figure(figsize=(10, 7))\n",
    "# sns.barplot(distribution_age.index, distribution_age[1])\n",
    "# sns.barplot(distribution_age.index, distribution_age[0])\n",
    "# plt.xticks(rotation=90)\n",
    "\n"
   ]
  },
  {
   "cell_type": "code",
   "execution_count": 137,
   "metadata": {},
   "outputs": [
    {
     "name": "stderr",
     "output_type": "stream",
     "text": [
      "c:\\machinelearning\\datascience\\lib\\site-packages\\pandas\\core\\frame.py:3997: SettingWithCopyWarning:\n",
      "\n",
      "\n",
      "A value is trying to be set on a copy of a slice from a DataFrame\n",
      "\n",
      "See the caveats in the documentation: https://pandas.pydata.org/pandas-docs/stable/user_guide/indexing.html#returning-a-view-versus-a-copy\n",
      "\n"
     ]
    }
   ],
   "source": [
    "# # Very high correlation between ('BENRES_OP', 'MEDREIMB_OP') & ('BENRES_CAR', 'MEDREIMB_CAR') hence dropping one column in the pair\n",
    "\n",
    "X_train.drop(columns=[\"MEDREIMB_OP\", \"MEDREIMB_CAR\"], inplace=True)\n",
    "X_test.drop(columns=[\"MEDREIMB_OP\", \"MEDREIMB_CAR\"], inplace=True)\n",
    "\n"
   ]
  },
  {
   "cell_type": "code",
   "execution_count": 138,
   "metadata": {},
   "outputs": [
    {
     "data": {
      "text/plain": [
       "Index(['DESYNPUF_ID', 'BENE_SEX_IDENT_CD', 'BENE_RACE_CD', 'BENE_ESRD_IND',\n",
       "       'BENE_HI_CVRAGE_TOT_MONS', 'BENE_SMI_CVRAGE_TOT_MONS',\n",
       "       'BENE_HMO_CVRAGE_TOT_MONS', 'PLAN_CVRG_MOS_NUM', 'SP_ALZHDMTA',\n",
       "       'SP_CHF', 'SP_CHRNKIDN', 'SP_CNCR', 'SP_COPD', 'SP_DEPRESSN',\n",
       "       'SP_DIABETES', 'SP_ISCHMCHT', 'SP_OSTEOPRS', 'SP_RA_OA', 'SP_STRKETIA',\n",
       "       'MEDREIMB_IP', 'BENRES_IP', 'PPPYMT_IP', 'BENRES_OP', 'PPPYMT_OP',\n",
       "       'BENRES_CAR', 'PPPYMT_CAR', 'BENE_AGE', 'BENE_STATE_COUNTY_CODE',\n",
       "       'CLM_PMT_AMT_INP', 'NCH_PRMRY_PYR_CLM_PD_AMT_INP',\n",
       "       'CLM_PASS_THRU_PER_DIEM_AMT_INP', 'NCH_BENE_IP_DDCTBL_AMT_INP',\n",
       "       'NCH_BENE_PTA_COINSRNC_LBLTY_AM_INP',\n",
       "       'NCH_BENE_BLOOD_DDCTBL_LBLTY_AM_INP', 'CLM_UTLZTN_DAY_CNT_INP',\n",
       "       'PRVDR_NUM_CAT_INP', 'ADMTNG_ICD9_DGNS_CD_CAT_INP',\n",
       "       'ICD9_DGNS_CD_1_CAT_INP', 'ICD9_DGNS_CD_2_CAT_INP',\n",
       "       'ICD9_DGNS_CD_3_CAT_INP', 'ICD9_DGNS_CD_4_CAT_INP',\n",
       "       'ICD9_DGNS_CD_5_CAT_INP', 'ICD9_DGNS_CD_6_CAT_INP',\n",
       "       'ICD9_DGNS_CD_7_CAT_INP', 'ICD9_DGNS_CD_8_CAT_INP',\n",
       "       'ICD9_DGNS_CD_9_CAT_INP', 'ICD9_PRCDR_CD_1_CAT_INP'],\n",
       "      dtype='object')"
      ]
     },
     "execution_count": 138,
     "metadata": {},
     "output_type": "execute_result"
    }
   ],
   "source": [
    "X_train.columns\n",
    "\n"
   ]
  },
  {
   "cell_type": "code",
   "execution_count": 139,
   "metadata": {},
   "outputs": [
    {
     "name": "stdout",
     "output_type": "stream",
     "text": [
      "BENE_SEX_IDENT_CD is NOT an important predictor. (Discard BENE_SEX_IDENT_CD from model)\n",
      "BENE_RACE_CD is NOT an important predictor. (Discard BENE_RACE_CD from model)\n",
      "BENE_ESRD_IND is IMPORTANT for Prediction\n",
      "SP_ALZHDMTA is IMPORTANT for Prediction\n",
      "SP_CHF is IMPORTANT for Prediction\n",
      "SP_CHRNKIDN is IMPORTANT for Prediction\n",
      "SP_CNCR is IMPORTANT for Prediction\n",
      "SP_COPD is IMPORTANT for Prediction\n",
      "SP_DEPRESSN is IMPORTANT for Prediction\n",
      "SP_DIABETES is IMPORTANT for Prediction\n",
      "SP_ISCHMCHT is IMPORTANT for Prediction\n",
      "SP_OSTEOPRS is IMPORTANT for Prediction\n",
      "SP_RA_OA is IMPORTANT for Prediction\n",
      "SP_STRKETIA is IMPORTANT for Prediction\n",
      "BENE_STATE_COUNTY_CODE is IMPORTANT for Prediction\n",
      "PRVDR_NUM_CAT_INP is IMPORTANT for Prediction\n",
      "ADMTNG_ICD9_DGNS_CD_CAT_INP is IMPORTANT for Prediction\n",
      "ICD9_DGNS_CD_1_CAT_INP is IMPORTANT for Prediction\n",
      "ICD9_DGNS_CD_2_CAT_INP is IMPORTANT for Prediction\n",
      "ICD9_DGNS_CD_3_CAT_INP is IMPORTANT for Prediction\n",
      "ICD9_DGNS_CD_4_CAT_INP is IMPORTANT for Prediction\n",
      "ICD9_DGNS_CD_5_CAT_INP is IMPORTANT for Prediction\n",
      "ICD9_DGNS_CD_6_CAT_INP is IMPORTANT for Prediction\n",
      "ICD9_DGNS_CD_7_CAT_INP is IMPORTANT for Prediction\n",
      "ICD9_DGNS_CD_8_CAT_INP is IMPORTANT for Prediction\n",
      "ICD9_DGNS_CD_9_CAT_INP is IMPORTANT for Prediction\n",
      "ICD9_PRCDR_CD_1_CAT_INP is IMPORTANT for Prediction\n"
     ]
    }
   ],
   "source": [
    "\n",
    "for c in categorical_features:\n",
    "    ct.TestIndependence(c, \"Readmission_within_30days_INP\")\n",
    "\n"
   ]
  },
  {
   "cell_type": "code",
   "execution_count": 140,
   "metadata": {},
   "outputs": [],
   "source": [
    "# X_train.drop(columns=ct.dfIrreleventCols, inplace=True)\n",
    "# X_test.drop(columns=ct.dfIrreleventCols, inplace=True)\n",
    "\n"
   ]
  },
  {
   "cell_type": "code",
   "execution_count": 141,
   "metadata": {},
   "outputs": [],
   "source": [
    "categorical_features = list(X_train.select_dtypes(include=\"category\").columns)\n",
    "numerical_feature = list(X_train.select_dtypes(include=\"number\").columns)\n",
    "\n"
   ]
  },
  {
   "cell_type": "code",
   "execution_count": 142,
   "metadata": {},
   "outputs": [
    {
     "data": {
      "text/plain": [
       "Index(['DESYNPUF_ID', 'BENE_SEX_IDENT_CD', 'BENE_RACE_CD', 'BENE_ESRD_IND',\n",
       "       'BENE_HI_CVRAGE_TOT_MONS', 'BENE_SMI_CVRAGE_TOT_MONS',\n",
       "       'BENE_HMO_CVRAGE_TOT_MONS', 'PLAN_CVRG_MOS_NUM', 'SP_ALZHDMTA',\n",
       "       'SP_CHF', 'SP_CHRNKIDN', 'SP_CNCR', 'SP_COPD', 'SP_DEPRESSN',\n",
       "       'SP_DIABETES', 'SP_ISCHMCHT', 'SP_OSTEOPRS', 'SP_RA_OA', 'SP_STRKETIA',\n",
       "       'MEDREIMB_IP', 'BENRES_IP', 'PPPYMT_IP', 'BENRES_OP', 'PPPYMT_OP',\n",
       "       'BENRES_CAR', 'PPPYMT_CAR', 'BENE_AGE', 'BENE_STATE_COUNTY_CODE',\n",
       "       'CLM_PMT_AMT_INP', 'NCH_PRMRY_PYR_CLM_PD_AMT_INP',\n",
       "       'CLM_PASS_THRU_PER_DIEM_AMT_INP', 'NCH_BENE_IP_DDCTBL_AMT_INP',\n",
       "       'NCH_BENE_PTA_COINSRNC_LBLTY_AM_INP',\n",
       "       'NCH_BENE_BLOOD_DDCTBL_LBLTY_AM_INP', 'CLM_UTLZTN_DAY_CNT_INP',\n",
       "       'PRVDR_NUM_CAT_INP', 'ADMTNG_ICD9_DGNS_CD_CAT_INP',\n",
       "       'ICD9_DGNS_CD_1_CAT_INP', 'ICD9_DGNS_CD_2_CAT_INP',\n",
       "       'ICD9_DGNS_CD_3_CAT_INP', 'ICD9_DGNS_CD_4_CAT_INP',\n",
       "       'ICD9_DGNS_CD_5_CAT_INP', 'ICD9_DGNS_CD_6_CAT_INP',\n",
       "       'ICD9_DGNS_CD_7_CAT_INP', 'ICD9_DGNS_CD_8_CAT_INP',\n",
       "       'ICD9_DGNS_CD_9_CAT_INP', 'ICD9_PRCDR_CD_1_CAT_INP'],\n",
       "      dtype='object')"
      ]
     },
     "execution_count": 142,
     "metadata": {},
     "output_type": "execute_result"
    },
    {
     "data": {
      "text/plain": [
       "Index(['DESYNPUF_ID', 'BENE_SEX_IDENT_CD', 'BENE_RACE_CD', 'BENE_ESRD_IND',\n",
       "       'BENE_HI_CVRAGE_TOT_MONS', 'BENE_SMI_CVRAGE_TOT_MONS',\n",
       "       'BENE_HMO_CVRAGE_TOT_MONS', 'PLAN_CVRG_MOS_NUM', 'SP_ALZHDMTA',\n",
       "       'SP_CHF', 'SP_CHRNKIDN', 'SP_CNCR', 'SP_COPD', 'SP_DEPRESSN',\n",
       "       'SP_DIABETES', 'SP_ISCHMCHT', 'SP_OSTEOPRS', 'SP_RA_OA', 'SP_STRKETIA',\n",
       "       'MEDREIMB_IP', 'BENRES_IP', 'PPPYMT_IP', 'BENRES_OP', 'PPPYMT_OP',\n",
       "       'BENRES_CAR', 'PPPYMT_CAR', 'BENE_AGE', 'BENE_STATE_COUNTY_CODE',\n",
       "       'CLM_PMT_AMT_INP', 'NCH_PRMRY_PYR_CLM_PD_AMT_INP',\n",
       "       'CLM_PASS_THRU_PER_DIEM_AMT_INP', 'NCH_BENE_IP_DDCTBL_AMT_INP',\n",
       "       'NCH_BENE_PTA_COINSRNC_LBLTY_AM_INP',\n",
       "       'NCH_BENE_BLOOD_DDCTBL_LBLTY_AM_INP', 'CLM_UTLZTN_DAY_CNT_INP',\n",
       "       'PRVDR_NUM_CAT_INP', 'ADMTNG_ICD9_DGNS_CD_CAT_INP',\n",
       "       'ICD9_DGNS_CD_1_CAT_INP', 'ICD9_DGNS_CD_2_CAT_INP',\n",
       "       'ICD9_DGNS_CD_3_CAT_INP', 'ICD9_DGNS_CD_4_CAT_INP',\n",
       "       'ICD9_DGNS_CD_5_CAT_INP', 'ICD9_DGNS_CD_6_CAT_INP',\n",
       "       'ICD9_DGNS_CD_7_CAT_INP', 'ICD9_DGNS_CD_8_CAT_INP',\n",
       "       'ICD9_DGNS_CD_9_CAT_INP', 'ICD9_PRCDR_CD_1_CAT_INP'],\n",
       "      dtype='object')"
      ]
     },
     "execution_count": 142,
     "metadata": {},
     "output_type": "execute_result"
    }
   ],
   "source": [
    "X_train.columns\n",
    "X_test.columns\n",
    "\n"
   ]
  },
  {
   "cell_type": "code",
   "execution_count": 143,
   "metadata": {},
   "outputs": [],
   "source": [
    "# Preprocessing objects\n",
    "std_scalar = StandardScaler()\n",
    "min_max_scalar = MinMaxScaler()\n",
    "onehot_encoder = OneHotEncoder(drop=\"first\", sparse=False)\n",
    "median_imputer = SimpleImputer(strategy=\"median\", missing_values=np.nan)\n",
    "constant_imputer = SimpleImputer(\n",
    "    strategy=\"constant\", fill_value=MISSING_VALUE_LABEL, missing_values=np.nan\n",
    ")\n",
    "ordinal_encoder = OrdinalEncoder()\n",
    "\n"
   ]
  },
  {
   "cell_type": "code",
   "execution_count": 144,
   "metadata": {},
   "outputs": [],
   "source": [
    "numerical_cachedir = mkdtemp()\n",
    "numerical_memory = Memory(location=numerical_cachedir, verbose=10)\n",
    "catergorical_cachedir = mkdtemp()\n",
    "categorical_memory = Memory(location=numerical_cachedir, verbose=10)\n",
    "\n"
   ]
  },
  {
   "cell_type": "code",
   "execution_count": 145,
   "metadata": {},
   "outputs": [],
   "source": [
    "numerical_transformer = Pipeline(\n",
    "    steps=[(\"imputer_with_medium\", median_imputer), (\"scaler\", std_scalar)],\n",
    "    verbose=True,\n",
    "    memory=numerical_memory,\n",
    ")\n",
    "\n"
   ]
  },
  {
   "cell_type": "code",
   "execution_count": 146,
   "metadata": {},
   "outputs": [],
   "source": [
    "categorical_transformer = Pipeline(\n",
    "    steps=[\n",
    "        (\"imputer_with_constant\", constant_imputer),\n",
    "        (\n",
    "            \"infrequent_category_remover\",\n",
    "            CardinalityReducer(\n",
    "                cutt_off=INFREQUENT_CATEGORY_CUT_OFF, label=INFREQUENT_CATEGORY_LABEL\n",
    "            ),\n",
    "        ),\n",
    "        (\"onehot\", onehot_encoder),\n",
    "    ],\n",
    "    verbose=True,\n",
    "    memory=categorical_memory,\n",
    ")\n",
    "\n"
   ]
  },
  {
   "cell_type": "code",
   "execution_count": 147,
   "metadata": {},
   "outputs": [],
   "source": [
    "ord_categorical_transformer = Pipeline(\n",
    "    steps=[\n",
    "        (\"imputer_with_constant\", constant_imputer),\n",
    "        (\n",
    "            \"infrequent_category_remover\",\n",
    "            CardinalityReducer(\n",
    "                cutt_off=INFREQUENT_CATEGORY_CUT_OFF, label=INFREQUENT_CATEGORY_LABEL\n",
    "            ),\n",
    "        ),\n",
    "        (\"ordinal\", ordinal_encoder),\n",
    "    ],\n",
    "    verbose=True,\n",
    "    memory=categorical_memory,\n",
    ")\n",
    "\n"
   ]
  },
  {
   "cell_type": "code",
   "execution_count": 148,
   "metadata": {},
   "outputs": [],
   "source": [
    "preprocessing_pipeline = ColumnTransformer(\n",
    "    [\n",
    "        (\"categorical\", ord_categorical_transformer, categorical_features),\n",
    "        (\"numerical\", numerical_transformer, numerical_feature),\n",
    "    ],\n",
    "    remainder=\"drop\",\n",
    "    verbose=True,\n",
    ")\n",
    "\n"
   ]
  },
  {
   "cell_type": "code",
   "execution_count": 149,
   "metadata": {},
   "outputs": [
    {
     "name": "stdout",
     "output_type": "stream",
     "text": [
      "________________________________________________________________________________\n",
      "[Memory] Calling sklearn.pipeline._fit_transform_one...\n",
      "_fit_transform_one(SimpleImputer(fill_value='Missing', strategy='constant'),       BENE_SEX_IDENT_CD BENE_RACE_CD BENE_ESRD_IND SP_ALZHDMTA SP_CHF  \\\n",
      "31902                 2            1             0           2      1   \n",
      "10239                 1            2             0           2      1   \n",
      "42450                 2            3             0           2      2   \n",
      "10578                 1            1             0           2      1   \n",
      "45924                 1            1             Y           1      1   \n",
      "...                 ...          ...           ...         ...    ...   \n",
      "30873                 2            1             Y           1      1   \n",
      "37023                 1            1             0           2      2   \n",
      "16900                 2            1       ..., \n",
      "None, None, message_clsname='Pipeline', message='(step 1 of 3) Processing imputer_with_constant')\n",
      "[Pipeline]  (step 1 of 3) Processing imputer_with_constant, total=   0.1s\n",
      "________________________________________________fit_transform_one - 0.4s, 0.0min\n",
      "________________________________________________________________________________\n",
      "[Memory] Calling sklearn.pipeline._fit_transform_one...\n",
      "_fit_transform_one(CardinalityReducer(cutt_off=200, label='Infrequent'), array([[2, ..., '35-39'],\n",
      "       ...,\n",
      "       [2, ..., 'Missing']], dtype=object), None, None, message_clsname='Pipeline', message='(step 2 of 3) Processing infrequent_category_remover')\n",
      "[Pipeline]  (step 2 of 3) Processing infrequent_category_remover, total=   3.8s\n"
     ]
    },
    {
     "name": "stderr",
     "output_type": "stream",
     "text": [
      "c:\\machinelearning\\datascience\\lib\\site-packages\\sklearn\\pipeline.py:296: UserWarning:\n",
      "\n",
      "Persisting input arguments took 2.60s to run.\n",
      "If this happens often in your code, it can cause performance problems \n",
      "(results will be correct in all cases). \n",
      "The reason for this is probably some large input arguments for a wrapped\n",
      " function (e.g. large strings).\n",
      "THIS IS A JOBLIB ISSUE. If you can, kindly provide the joblib's team with an\n",
      " example so that they can fix the problem.\n",
      "\n"
     ]
    },
    {
     "name": "stdout",
     "output_type": "stream",
     "text": [
      "________________________________________________fit_transform_one - 6.2s, 0.1min\n",
      "[Pipeline] ........... (step 3 of 3) Processing ordinal, total=   0.2s\n",
      "[ColumnTransformer] ... (1 of 2) Processing categorical, total=  12.5s\n",
      "________________________________________________________________________________\n",
      "[Memory] Calling sklearn.pipeline._fit_transform_one...\n",
      "_fit_transform_one(SimpleImputer(strategy='median'),        BENE_HI_CVRAGE_TOT_MONS  BENE_SMI_CVRAGE_TOT_MONS  \\\n",
      "31902                       12                        12   \n",
      "10239                       12                        12   \n",
      "42450                       12                        12   \n",
      "10578                       12                        12   \n",
      "45924                       12                        12   \n",
      "...                        ...                       ...   \n",
      "30873                       12                        12   \n",
      "37023                       12                        12   \n",
      "16900                       12                        12   \n",
      "21499                       12                        12   \n",
      "13669                       12          ..., \n",
      "None, None, message_clsname='Pipeline', message='(step 1 of 2) Processing imputer_with_medium')\n",
      "[Pipeline]  (step 1 of 2) Processing imputer_with_medium, total=   0.1s\n",
      "________________________________________________fit_transform_one - 0.1s, 0.0min\n",
      "[Pipeline] ............ (step 2 of 2) Processing scaler, total=   0.0s\n",
      "[ColumnTransformer] ..... (2 of 2) Processing numerical, total=   0.3s\n"
     ]
    }
   ],
   "source": [
    "X_train_transformed = preprocessing_pipeline.fit_transform(X_train)\n",
    "X_test_transformed = preprocessing_pipeline.transform(X_test)\n",
    "\n"
   ]
  },
  {
   "cell_type": "code",
   "execution_count": 150,
   "metadata": {},
   "outputs": [],
   "source": [
    "X_train_transformed = pd.DataFrame(\n",
    "    X_train_transformed, columns=get_ct_feature_names(preprocessing_pipeline)\n",
    ")\n",
    "X_test_transformed = pd.DataFrame(\n",
    "    X_test_transformed, columns=get_ct_feature_names(preprocessing_pipeline)\n",
    ")\n",
    "\n"
   ]
  },
  {
   "cell_type": "code",
   "execution_count": 151,
   "metadata": {},
   "outputs": [
    {
     "data": {
      "text/html": [
       "<div>\n",
       "<style scoped>\n",
       "    .dataframe tbody tr th:only-of-type {\n",
       "        vertical-align: middle;\n",
       "    }\n",
       "\n",
       "    .dataframe tbody tr th {\n",
       "        vertical-align: top;\n",
       "    }\n",
       "\n",
       "    .dataframe thead th {\n",
       "        text-align: right;\n",
       "    }\n",
       "</style>\n",
       "<table border=\"1\" class=\"dataframe\">\n",
       "  <thead>\n",
       "    <tr style=\"text-align: right;\">\n",
       "      <th></th>\n",
       "      <th>BENE_SEX_IDENT_CD</th>\n",
       "      <th>BENE_RACE_CD</th>\n",
       "      <th>BENE_ESRD_IND</th>\n",
       "      <th>SP_ALZHDMTA</th>\n",
       "      <th>SP_CHF</th>\n",
       "      <th>SP_CHRNKIDN</th>\n",
       "      <th>SP_CNCR</th>\n",
       "      <th>SP_COPD</th>\n",
       "      <th>SP_DEPRESSN</th>\n",
       "      <th>SP_DIABETES</th>\n",
       "      <th>...</th>\n",
       "      <th>BENRES_CAR</th>\n",
       "      <th>PPPYMT_CAR</th>\n",
       "      <th>BENE_AGE</th>\n",
       "      <th>CLM_PMT_AMT_INP</th>\n",
       "      <th>NCH_PRMRY_PYR_CLM_PD_AMT_INP</th>\n",
       "      <th>CLM_PASS_THRU_PER_DIEM_AMT_INP</th>\n",
       "      <th>NCH_BENE_IP_DDCTBL_AMT_INP</th>\n",
       "      <th>NCH_BENE_PTA_COINSRNC_LBLTY_AM_INP</th>\n",
       "      <th>NCH_BENE_BLOOD_DDCTBL_LBLTY_AM_INP</th>\n",
       "      <th>CLM_UTLZTN_DAY_CNT_INP</th>\n",
       "    </tr>\n",
       "  </thead>\n",
       "  <tbody>\n",
       "    <tr>\n",
       "      <th>0</th>\n",
       "      <td>1.0</td>\n",
       "      <td>0.0</td>\n",
       "      <td>0.0</td>\n",
       "      <td>1.0</td>\n",
       "      <td>0.0</td>\n",
       "      <td>0.0</td>\n",
       "      <td>1.0</td>\n",
       "      <td>1.0</td>\n",
       "      <td>0.0</td>\n",
       "      <td>1.0</td>\n",
       "      <td>...</td>\n",
       "      <td>-0.426826</td>\n",
       "      <td>0.500976</td>\n",
       "      <td>0.639404</td>\n",
       "      <td>-0.488821</td>\n",
       "      <td>-0.106911</td>\n",
       "      <td>-0.394262</td>\n",
       "      <td>0.288968</td>\n",
       "      <td>-0.084186</td>\n",
       "      <td>-0.037934</td>\n",
       "      <td>-0.403799</td>\n",
       "    </tr>\n",
       "    <tr>\n",
       "      <th>1</th>\n",
       "      <td>0.0</td>\n",
       "      <td>1.0</td>\n",
       "      <td>0.0</td>\n",
       "      <td>1.0</td>\n",
       "      <td>0.0</td>\n",
       "      <td>1.0</td>\n",
       "      <td>1.0</td>\n",
       "      <td>0.0</td>\n",
       "      <td>1.0</td>\n",
       "      <td>1.0</td>\n",
       "      <td>...</td>\n",
       "      <td>0.136093</td>\n",
       "      <td>0.024597</td>\n",
       "      <td>-0.666472</td>\n",
       "      <td>-0.598592</td>\n",
       "      <td>-0.106911</td>\n",
       "      <td>-0.394262</td>\n",
       "      <td>0.288968</td>\n",
       "      <td>-0.084186</td>\n",
       "      <td>-0.037934</td>\n",
       "      <td>0.296483</td>\n",
       "    </tr>\n",
       "    <tr>\n",
       "      <th>2</th>\n",
       "      <td>1.0</td>\n",
       "      <td>2.0</td>\n",
       "      <td>0.0</td>\n",
       "      <td>1.0</td>\n",
       "      <td>1.0</td>\n",
       "      <td>0.0</td>\n",
       "      <td>1.0</td>\n",
       "      <td>1.0</td>\n",
       "      <td>1.0</td>\n",
       "      <td>1.0</td>\n",
       "      <td>...</td>\n",
       "      <td>-0.935268</td>\n",
       "      <td>-0.292988</td>\n",
       "      <td>0.101690</td>\n",
       "      <td>0.828428</td>\n",
       "      <td>-0.106911</td>\n",
       "      <td>-0.394262</td>\n",
       "      <td>1.380789</td>\n",
       "      <td>-0.084186</td>\n",
       "      <td>-0.037934</td>\n",
       "      <td>0.821695</td>\n",
       "    </tr>\n",
       "    <tr>\n",
       "      <th>3</th>\n",
       "      <td>0.0</td>\n",
       "      <td>0.0</td>\n",
       "      <td>0.0</td>\n",
       "      <td>1.0</td>\n",
       "      <td>0.0</td>\n",
       "      <td>1.0</td>\n",
       "      <td>1.0</td>\n",
       "      <td>0.0</td>\n",
       "      <td>1.0</td>\n",
       "      <td>1.0</td>\n",
       "      <td>...</td>\n",
       "      <td>-0.753681</td>\n",
       "      <td>-0.292988</td>\n",
       "      <td>0.255323</td>\n",
       "      <td>-0.708363</td>\n",
       "      <td>-0.106911</td>\n",
       "      <td>-0.394262</td>\n",
       "      <td>0.288968</td>\n",
       "      <td>-0.084186</td>\n",
       "      <td>-0.037934</td>\n",
       "      <td>-0.753941</td>\n",
       "    </tr>\n",
       "    <tr>\n",
       "      <th>4</th>\n",
       "      <td>0.0</td>\n",
       "      <td>0.0</td>\n",
       "      <td>1.0</td>\n",
       "      <td>0.0</td>\n",
       "      <td>0.0</td>\n",
       "      <td>0.0</td>\n",
       "      <td>1.0</td>\n",
       "      <td>0.0</td>\n",
       "      <td>0.0</td>\n",
       "      <td>0.0</td>\n",
       "      <td>...</td>\n",
       "      <td>-0.681047</td>\n",
       "      <td>-0.292988</td>\n",
       "      <td>0.485771</td>\n",
       "      <td>-0.159509</td>\n",
       "      <td>-0.106911</td>\n",
       "      <td>3.553934</td>\n",
       "      <td>0.288968</td>\n",
       "      <td>-0.084186</td>\n",
       "      <td>-0.037934</td>\n",
       "      <td>-0.228729</td>\n",
       "    </tr>\n",
       "  </tbody>\n",
       "</table>\n",
       "<p>5 rows × 46 columns</p>\n",
       "</div>"
      ],
      "text/plain": [
       "   BENE_SEX_IDENT_CD  BENE_RACE_CD  BENE_ESRD_IND  SP_ALZHDMTA  SP_CHF  \\\n",
       "0                1.0           0.0            0.0          1.0     0.0   \n",
       "1                0.0           1.0            0.0          1.0     0.0   \n",
       "2                1.0           2.0            0.0          1.0     1.0   \n",
       "3                0.0           0.0            0.0          1.0     0.0   \n",
       "4                0.0           0.0            1.0          0.0     0.0   \n",
       "\n",
       "   SP_CHRNKIDN  SP_CNCR  SP_COPD  SP_DEPRESSN  SP_DIABETES  ...  BENRES_CAR  \\\n",
       "0          0.0      1.0      1.0          0.0          1.0  ...   -0.426826   \n",
       "1          1.0      1.0      0.0          1.0          1.0  ...    0.136093   \n",
       "2          0.0      1.0      1.0          1.0          1.0  ...   -0.935268   \n",
       "3          1.0      1.0      0.0          1.0          1.0  ...   -0.753681   \n",
       "4          0.0      1.0      0.0          0.0          0.0  ...   -0.681047   \n",
       "\n",
       "   PPPYMT_CAR  BENE_AGE  CLM_PMT_AMT_INP  NCH_PRMRY_PYR_CLM_PD_AMT_INP  \\\n",
       "0    0.500976  0.639404        -0.488821                     -0.106911   \n",
       "1    0.024597 -0.666472        -0.598592                     -0.106911   \n",
       "2   -0.292988  0.101690         0.828428                     -0.106911   \n",
       "3   -0.292988  0.255323        -0.708363                     -0.106911   \n",
       "4   -0.292988  0.485771        -0.159509                     -0.106911   \n",
       "\n",
       "   CLM_PASS_THRU_PER_DIEM_AMT_INP  NCH_BENE_IP_DDCTBL_AMT_INP  \\\n",
       "0                       -0.394262                    0.288968   \n",
       "1                       -0.394262                    0.288968   \n",
       "2                       -0.394262                    1.380789   \n",
       "3                       -0.394262                    0.288968   \n",
       "4                        3.553934                    0.288968   \n",
       "\n",
       "   NCH_BENE_PTA_COINSRNC_LBLTY_AM_INP  NCH_BENE_BLOOD_DDCTBL_LBLTY_AM_INP  \\\n",
       "0                           -0.084186                           -0.037934   \n",
       "1                           -0.084186                           -0.037934   \n",
       "2                           -0.084186                           -0.037934   \n",
       "3                           -0.084186                           -0.037934   \n",
       "4                           -0.084186                           -0.037934   \n",
       "\n",
       "   CLM_UTLZTN_DAY_CNT_INP  \n",
       "0               -0.403799  \n",
       "1                0.296483  \n",
       "2                0.821695  \n",
       "3               -0.753941  \n",
       "4               -0.228729  \n",
       "\n",
       "[5 rows x 46 columns]"
      ]
     },
     "execution_count": 151,
     "metadata": {},
     "output_type": "execute_result"
    }
   ],
   "source": [
    "X_train_transformed.head()\n",
    "\n"
   ]
  },
  {
   "cell_type": "code",
   "execution_count": 152,
   "metadata": {},
   "outputs": [],
   "source": [
    "y_train = y_train.reset_index().drop(columns=\"index\", axis=1).values.ravel()\n",
    "y_test = y_test.reset_index().drop(columns=\"index\", axis=1).values.ravel()\n"
   ]
  },
  {
   "cell_type": "code",
   "execution_count": 153,
   "metadata": {},
   "outputs": [],
   "source": [
    "lr = LogisticRegression(random_state=RANDOM_STATE)\n",
    "lda = LinearDiscriminantAnalysis()\n",
    "knn = KNeighborsClassifier()\n",
    "dt = DecisionTreeClassifier(random_state=RANDOM_STATE, class_weight=\"balanced\")\n",
    "gnb = GaussianNB()\n",
    "rfc = RandomForestClassifier(class_weight=\"balanced\", random_state=RANDOM_STATE)\n",
    "\n"
   ]
  },
  {
   "cell_type": "code",
   "execution_count": 154,
   "metadata": {},
   "outputs": [],
   "source": [
    "num_folds = 5\n",
    "seed = 7\n",
    "scoring = \"f1\"\n",
    "models = []\n",
    "models.append((\"LR\", lr))\n",
    "models.append((\"LDA\", lda))\n",
    "models.append((\"KNN\", knn))\n",
    "models.append((\"CART\", dt))\n",
    "models.append((\"NB\", gnb))\n",
    "\n"
   ]
  },
  {
   "cell_type": "code",
   "execution_count": 155,
   "metadata": {},
   "outputs": [],
   "source": [
    "smt = SMOTE(random_state=RANDOM_STATE, n_jobs=-1)\n",
    "random_oversampling = RandomOverSampler(random_state=RANDOM_STATE)\n",
    "\n"
   ]
  },
  {
   "cell_type": "code",
   "execution_count": 156,
   "metadata": {},
   "outputs": [],
   "source": [
    "dt_pipeline = Pipeline(\n",
    "    [\n",
    "        # (\"Select Relevent Columns\", SelectColumnsTransfomer(columns=numerical_feature + ct.dfReleventCols)),\n",
    "        (\"Preprocessing Step\", preprocessing_pipeline),\n",
    "        (\"DT_Classifier\", dt),\n",
    "    ]\n",
    ")\n",
    "\n"
   ]
  },
  {
   "cell_type": "code",
   "execution_count": 157,
   "metadata": {},
   "outputs": [],
   "source": [
    "dt_smote_pipeline = imb_pipeline.Pipeline(\n",
    "    [\n",
    "        (\"Preprocessing Step\", preprocessing_pipeline),\n",
    "        (\"SMOTE Sampling\", smt),\n",
    "        (\"Classifier\", DecisionTreeClassifier(random_state=RANDOM_STATE)),\n",
    "    ]\n",
    ")\n",
    "\n",
    "dt_randover_pipeline = imb_pipeline.Pipeline(\n",
    "    [\n",
    "        (\"Preprocessing Step\", preprocessing_pipeline),\n",
    "        (\"Random OverSampling\", random_oversampling),\n",
    "        (\"Classifier\", DecisionTreeClassifier(random_state=RANDOM_STATE)),\n",
    "    ]\n",
    ")\n",
    "\n"
   ]
  },
  {
   "cell_type": "code",
   "execution_count": 158,
   "metadata": {},
   "outputs": [],
   "source": [
    "def getMetricsData(y_true, y_pred):\n",
    "    print(f\"Accuracy score is {accuracy_score(y_true, y_pred)}\")\n",
    "    print(f\"Precision score is {precision_score(y_true, y_pred)}\")\n",
    "    print(f\"Recall score is {recall_score(y_true, y_pred)}\")\n",
    "    print(f\"F1 score is {f1_score(y_true, y_pred)}\")\n",
    "    print(f\"AUC ROC score is {roc_auc_score(y_true, y_pred)}\")\n",
    "    print(f\"Classification Report is \\n {classification_report(y_true, y_pred)}\")\n",
    "    sns.heatmap(confusion_matrix(y_true, y_pred), annot=True, cmap=\"Blues\", fmt=\"d\")\n",
    "    plt.show()\n",
    "\n"
   ]
  },
  {
   "cell_type": "code",
   "execution_count": 159,
   "metadata": {},
   "outputs": [],
   "source": [
    "def fit_predict(pipeline):\n",
    "    model = pipeline.fit(X_train, y_train)\n",
    "    y_pred = model.predict(X_test)\n",
    "    print(f'{\"=\"*40} {pipeline.steps[-1][-1]} {\"=\"*50}')\n",
    "    print(f'{\"=\"*40} {\"Training Metrics\"} {\"=\"*50}')\n",
    "    getMetricsData(y_train, model.predict(X_train))\n",
    "    print(f'{\"=\"*40} {\"Testing Metrics\"} {\"=\"*50}')\n",
    "    getMetricsData(y_test, y_pred)"
   ]
  },
  {
   "cell_type": "code",
   "execution_count": 160,
   "metadata": {},
   "outputs": [
    {
     "name": "stdout",
     "output_type": "stream",
     "text": [
      "________________________________________________________________________________\n",
      "[Memory] Calling sklearn.pipeline._fit_transform_one...\n",
      "_fit_transform_one(SimpleImputer(fill_value='Missing', strategy='constant'),       BENE_SEX_IDENT_CD BENE_RACE_CD BENE_ESRD_IND SP_ALZHDMTA SP_CHF  \\\n",
      "31902                 2            1             0           2      1   \n",
      "10239                 1            2             0           2      1   \n",
      "42450                 2            3             0           2      2   \n",
      "10578                 1            1             0           2      1   \n",
      "45924                 1            1             Y           1      1   \n",
      "...                 ...          ...           ...         ...    ...   \n",
      "30873                 2            1             Y           1      1   \n",
      "37023                 1            1             0           2      2   \n",
      "16900                 2            1       ..., \n",
      "array([0, ..., 0], dtype=int64), None, message_clsname='Pipeline', message='(step 1 of 3) Processing imputer_with_constant')\n",
      "[Pipeline]  (step 1 of 3) Processing imputer_with_constant, total=   0.1s\n",
      "________________________________________________fit_transform_one - 0.1s, 0.0min\n",
      "________________________________________________________________________________\n",
      "[Memory] Calling sklearn.pipeline._fit_transform_one...\n",
      "_fit_transform_one(CardinalityReducer(cutt_off=200, label='Infrequent'), array([[2, ..., '35-39'],\n",
      "       ...,\n",
      "       [2, ..., 'Missing']], dtype=object), array([0, ..., 0], dtype=int64), None, message_clsname='Pipeline', message='(step 2 of 3) Processing infrequent_category_remover')\n",
      "[Pipeline]  (step 2 of 3) Processing infrequent_category_remover, total=   3.7s\n"
     ]
    },
    {
     "name": "stderr",
     "output_type": "stream",
     "text": [
      "c:\\machinelearning\\datascience\\lib\\site-packages\\sklearn\\pipeline.py:296: UserWarning:\n",
      "\n",
      "Persisting input arguments took 2.58s to run.\n",
      "If this happens often in your code, it can cause performance problems \n",
      "(results will be correct in all cases). \n",
      "The reason for this is probably some large input arguments for a wrapped\n",
      " function (e.g. large strings).\n",
      "THIS IS A JOBLIB ISSUE. If you can, kindly provide the joblib's team with an\n",
      " example so that they can fix the problem.\n",
      "\n"
     ]
    },
    {
     "name": "stdout",
     "output_type": "stream",
     "text": [
      "________________________________________________fit_transform_one - 6.2s, 0.1min\n",
      "[Pipeline] ........... (step 3 of 3) Processing ordinal, total=   0.1s\n",
      "[ColumnTransformer] ... (1 of 2) Processing categorical, total=  11.9s\n",
      "________________________________________________________________________________\n",
      "[Memory] Calling sklearn.pipeline._fit_transform_one...\n",
      "_fit_transform_one(SimpleImputer(strategy='median'),        BENE_HI_CVRAGE_TOT_MONS  BENE_SMI_CVRAGE_TOT_MONS  \\\n",
      "31902                       12                        12   \n",
      "10239                       12                        12   \n",
      "42450                       12                        12   \n",
      "10578                       12                        12   \n",
      "45924                       12                        12   \n",
      "...                        ...                       ...   \n",
      "30873                       12                        12   \n",
      "37023                       12                        12   \n",
      "16900                       12                        12   \n",
      "21499                       12                        12   \n",
      "13669                       12          ..., \n",
      "array([0, ..., 0], dtype=int64), None, message_clsname='Pipeline', message='(step 1 of 2) Processing imputer_with_medium')\n",
      "[Pipeline]  (step 1 of 2) Processing imputer_with_medium, total=   0.1s\n",
      "________________________________________________fit_transform_one - 0.1s, 0.0min\n",
      "[Pipeline] ............ (step 2 of 2) Processing scaler, total=   0.0s\n",
      "[ColumnTransformer] ..... (2 of 2) Processing numerical, total=   0.2s\n",
      "======================================== DecisionTreeClassifier(class_weight='balanced', random_state=420) ==================================================\n",
      "======================================== Training Metrics ==================================================\n",
      "Accuracy score is 1.0\n",
      "Precision score is 1.0\n",
      "Recall score is 1.0\n",
      "F1 score is 1.0\n",
      "AUC ROC score is 1.0\n",
      "Classification Report is \n",
      "               precision    recall  f1-score   support\n",
      "\n",
      "           0       1.00      1.00      1.00     31974\n",
      "           1       1.00      1.00      1.00      4862\n",
      "\n",
      "    accuracy                           1.00     36836\n",
      "   macro avg       1.00      1.00      1.00     36836\n",
      "weighted avg       1.00      1.00      1.00     36836\n",
      "\n"
     ]
    },
    {
     "data": {
      "image/png": "[encoded data removed]",
      "text/plain": [
       "<Figure size 432x288 with 2 Axes>"
      ]
     },
     "metadata": {
      "needs_background": "light"
     },
     "output_type": "display_data"
    },
    {
     "name": "stdout",
     "output_type": "stream",
     "text": [
      "======================================== Testing Metrics ==================================================\n",
      "Accuracy score is 0.857871878393051\n",
      "Precision score is 0.48514851485148514\n",
      "Recall score is 0.46190102120974075\n",
      "F1 score is 0.4732394366197183\n",
      "AUC ROC score is 0.6916409477977644\n",
      "Classification Report is \n",
      "               precision    recall  f1-score   support\n",
      "\n",
      "           0       0.91      0.92      0.92      7937\n",
      "           1       0.49      0.46      0.47      1273\n",
      "\n",
      "    accuracy                           0.86      9210\n",
      "   macro avg       0.70      0.69      0.70      9210\n",
      "weighted avg       0.86      0.86      0.86      9210\n",
      "\n"
     ]
    },
    {
     "data": {
      "image/png": "[encoded data removed]",
      "text/plain": [
       "<Figure size 432x288 with 2 Axes>"
      ]
     },
     "metadata": {
      "needs_background": "light"
     },
     "output_type": "display_data"
    }
   ],
   "source": [
    "fit_predict(dt_pipeline)"
   ]
  },
  {
   "cell_type": "code",
   "execution_count": 161,
   "metadata": {},
   "outputs": [
    {
     "data": {
      "application/vnd.plotly.v1+json": {
       "config": {
        "plotlyServerURL": "https://plot.ly"
       },
       "data": [
        {
         "alignmentgroup": "True",
         "hovertemplate": "value=%{x}<br>feature=%{y}<br>text=%{text}<extra></extra>",
         "legendgroup": "",
         "marker": {
          "color": "#636efa"
         },
         "name": "",
         "offsetgroup": "",
         "orientation": "h",
         "showlegend": false,
         "text": [
          0.2,
          0.4,
          0.5,
          0.6,
          0.6,
          0.7,
          0.8,
          0.9,
          0.9,
          0.9,
          1,
          1,
          1,
          1,
          1,
          1.1,
          1.1,
          1.2,
          1.3,
          1.4,
          1.4,
          1.6,
          2.1,
          2.1,
          2.3,
          2.5,
          3.6,
          4.6,
          4.6,
          4.7,
          4.7,
          4.9,
          4.9,
          4.9,
          5.1,
          5.1,
          5.1,
          5.5,
          6.2,
          6.7,
          11.2,
          11.6,
          12.5,
          34.4,
          34.5,
          100
         ],
         "textposition": "auto",
         "type": "bar",
         "x": [
          0.20130253226180594,
          0.40949696384923584,
          0.5015132336212428,
          0.5528446562815436,
          0.5890300329519901,
          0.745856969456379,
          0.8211338309808537,
          0.8600259641614708,
          0.8661547883874023,
          0.8920599862282074,
          0.9914885499814113,
          0.9919398065099669,
          1.0210619370151688,
          1.0259738942638756,
          1.045071582549183,
          1.058001648708632,
          1.0985419891432824,
          1.1573198872351491,
          1.2596463285288306,
          1.3903483498255593,
          1.4374561907957506,
          1.6190053821651995,
          2.081838482504776,
          2.140233151440378,
          2.3202666678293618,
          2.46010586484312,
          3.5965745598252266,
          4.576245120616596,
          4.5929762091066255,
          4.71657976348901,
          4.740884728322228,
          4.856500524183287,
          4.866461655883798,
          4.946189495882555,
          5.08086133557536,
          5.119375002402481,
          5.136282388740836,
          5.461221070837226,
          6.235710869795301,
          6.650665590647517,
          11.201771038558137,
          11.620528088369607,
          12.497014681345776,
          34.38521752148431,
          34.47877362464052,
          100
         ],
         "xaxis": "x",
         "y": [
          "46. NCH_BENE_BLOOD_DDCTBL_LBLTY_AM_INP",
          "45. BENE_HI_CVRAGE_TOT_MONS",
          "44. NCH_PRMRY_PYR_CLM_PD_AMT_INP",
          "43. BENE_SMI_CVRAGE_TOT_MONS",
          "42.       PPPYMT_IP",
          "41.     SP_DEPRESSN",
          "40.         SP_CNCR",
          "39.     SP_STRKETIA",
          "38.     SP_CHRNKIDN",
          "37.   BENE_ESRD_IND",
          "36.     SP_ALZHDMTA",
          "35.     SP_DIABETES",
          "34.        SP_RA_OA",
          "33.          SP_CHF",
          "32.     SP_ISCHMCHT",
          "31.         SP_COPD",
          "30.     SP_OSTEOPRS",
          "29. BENE_SEX_IDENT_CD",
          "28. BENE_HMO_CVRAGE_TOT_MONS",
          "27. PLAN_CVRG_MOS_NUM",
          "26.       PPPYMT_OP",
          "25. NCH_BENE_IP_DDCTBL_AMT_INP",
          "24. NCH_BENE_PTA_COINSRNC_LBLTY_AM_INP",
          "23.    BENE_RACE_CD",
          "22. BENE_STATE_COUNTY_CODE",
          "21. ICD9_PRCDR_CD_1_CAT_INP",
          "20. ADMTNG_ICD9_DGNS_CD_CAT_INP",
          "19.      PPPYMT_CAR",
          "18. ICD9_DGNS_CD_1_CAT_INP",
          "17. CLM_PASS_THRU_PER_DIEM_AMT_INP",
          "16. ICD9_DGNS_CD_9_CAT_INP",
          "15. ICD9_DGNS_CD_5_CAT_INP",
          "14. ICD9_DGNS_CD_6_CAT_INP",
          "13. ICD9_DGNS_CD_2_CAT_INP",
          "12. ICD9_DGNS_CD_7_CAT_INP",
          "11. ICD9_DGNS_CD_8_CAT_INP",
          "10. ICD9_DGNS_CD_4_CAT_INP",
          "9. ICD9_DGNS_CD_3_CAT_INP",
          "8. CLM_UTLZTN_DAY_CNT_INP",
          "7. PRVDR_NUM_CAT_INP",
          "6.       BENRES_OP",
          "5.        BENE_AGE",
          "4.      BENRES_CAR",
          "3.     MEDREIMB_IP",
          "2. CLM_PMT_AMT_INP",
          "1.       BENRES_IP"
         ],
         "yaxis": "y"
        }
       ],
       "layout": {
        "barmode": "relative",
        "height": 1250,
        "legend": {
         "tracegroupgap": 0
        },
        "margin": {
         "t": 60
        },
        "showlegend": false,
        "template": {
         "data": {
          "bar": [
           {
            "error_x": {
             "color": "#2a3f5f"
            },
            "error_y": {
             "color": "#2a3f5f"
            },
            "marker": {
             "line": {
              "color": "#E5ECF6",
              "width": 0.5
             }
            },
            "type": "bar"
           }
          ],
          "barpolar": [
           {
            "marker": {
             "line": {
              "color": "#E5ECF6",
              "width": 0.5
             }
            },
            "type": "barpolar"
           }
          ],
          "carpet": [
           {
            "aaxis": {
             "endlinecolor": "#2a3f5f",
             "gridcolor": "white",
             "linecolor": "white",
             "minorgridcolor": "white",
             "startlinecolor": "#2a3f5f"
            },
            "baxis": {
             "endlinecolor": "#2a3f5f",
             "gridcolor": "white",
             "linecolor": "white",
             "minorgridcolor": "white",
             "startlinecolor": "#2a3f5f"
            },
            "type": "carpet"
           }
          ],
          "choropleth": [
           {
            "colorbar": {
             "outlinewidth": 0,
             "ticks": ""
            },
            "type": "choropleth"
           }
          ],
          "contour": [
           {
            "colorbar": {
             "outlinewidth": 0,
             "ticks": ""
            },
            "colorscale": [
             [
              0,
              "#0d0887"
             ],
             [
              0.1111111111111111,
              "#46039f"
             ],
             [
              0.2222222222222222,
              "#7201a8"
             ],
             [
              0.3333333333333333,
              "#9c179e"
             ],
             [
              0.4444444444444444,
              "#bd3786"
             ],
             [
              0.5555555555555556,
              "#d8576b"
             ],
             [
              0.6666666666666666,
              "#ed7953"
             ],
             [
              0.7777777777777778,
              "#fb9f3a"
             ],
             [
              0.8888888888888888,
              "#fdca26"
             ],
             [
              1,
              "#f0f921"
             ]
            ],
            "type": "contour"
           }
          ],
          "contourcarpet": [
           {
            "colorbar": {
             "outlinewidth": 0,
             "ticks": ""
            },
            "type": "contourcarpet"
           }
          ],
          "heatmap": [
           {
            "colorbar": {
             "outlinewidth": 0,
             "ticks": ""
            },
            "colorscale": [
             [
              0,
              "#0d0887"
             ],
             [
              0.1111111111111111,
              "#46039f"
             ],
             [
              0.2222222222222222,
              "#7201a8"
             ],
             [
              0.3333333333333333,
              "#9c179e"
             ],
             [
              0.4444444444444444,
              "#bd3786"
             ],
             [
              0.5555555555555556,
              "#d8576b"
             ],
             [
              0.6666666666666666,
              "#ed7953"
             ],
             [
              0.7777777777777778,
              "#fb9f3a"
             ],
             [
              0.8888888888888888,
              "#fdca26"
             ],
             [
              1,
              "#f0f921"
             ]
            ],
            "type": "heatmap"
           }
          ],
          "heatmapgl": [
           {
            "colorbar": {
             "outlinewidth": 0,
             "ticks": ""
            },
            "colorscale": [
             [
              0,
              "#0d0887"
             ],
             [
              0.1111111111111111,
              "#46039f"
             ],
             [
              0.2222222222222222,
              "#7201a8"
             ],
             [
              0.3333333333333333,
              "#9c179e"
             ],
             [
              0.4444444444444444,
              "#bd3786"
             ],
             [
              0.5555555555555556,
              "#d8576b"
             ],
             [
              0.6666666666666666,
              "#ed7953"
             ],
             [
              0.7777777777777778,
              "#fb9f3a"
             ],
             [
              0.8888888888888888,
              "#fdca26"
             ],
             [
              1,
              "#f0f921"
             ]
            ],
            "type": "heatmapgl"
           }
          ],
          "histogram": [
           {
            "marker": {
             "colorbar": {
              "outlinewidth": 0,
              "ticks": ""
             }
            },
            "type": "histogram"
           }
          ],
          "histogram2d": [
           {
            "colorbar": {
             "outlinewidth": 0,
             "ticks": ""
            },
            "colorscale": [
             [
              0,
              "#0d0887"
             ],
             [
              0.1111111111111111,
              "#46039f"
             ],
             [
              0.2222222222222222,
              "#7201a8"
             ],
             [
              0.3333333333333333,
              "#9c179e"
             ],
             [
              0.4444444444444444,
              "#bd3786"
             ],
             [
              0.5555555555555556,
              "#d8576b"
             ],
             [
              0.6666666666666666,
              "#ed7953"
             ],
             [
              0.7777777777777778,
              "#fb9f3a"
             ],
             [
              0.8888888888888888,
              "#fdca26"
             ],
             [
              1,
              "#f0f921"
             ]
            ],
            "type": "histogram2d"
           }
          ],
          "histogram2dcontour": [
           {
            "colorbar": {
             "outlinewidth": 0,
             "ticks": ""
            },
            "colorscale": [
             [
              0,
              "#0d0887"
             ],
             [
              0.1111111111111111,
              "#46039f"
             ],
             [
              0.2222222222222222,
              "#7201a8"
             ],
             [
              0.3333333333333333,
              "#9c179e"
             ],
             [
              0.4444444444444444,
              "#bd3786"
             ],
             [
              0.5555555555555556,
              "#d8576b"
             ],
             [
              0.6666666666666666,
              "#ed7953"
             ],
             [
              0.7777777777777778,
              "#fb9f3a"
             ],
             [
              0.8888888888888888,
              "#fdca26"
             ],
             [
              1,
              "#f0f921"
             ]
            ],
            "type": "histogram2dcontour"
           }
          ],
          "mesh3d": [
           {
            "colorbar": {
             "outlinewidth": 0,
             "ticks": ""
            },
            "type": "mesh3d"
           }
          ],
          "parcoords": [
           {
            "line": {
             "colorbar": {
              "outlinewidth": 0,
              "ticks": ""
             }
            },
            "type": "parcoords"
           }
          ],
          "pie": [
           {
            "automargin": true,
            "type": "pie"
           }
          ],
          "scatter": [
           {
            "marker": {
             "colorbar": {
              "outlinewidth": 0,
              "ticks": ""
             }
            },
            "type": "scatter"
           }
          ],
          "scatter3d": [
           {
            "line": {
             "colorbar": {
              "outlinewidth": 0,
              "ticks": ""
             }
            },
            "marker": {
             "colorbar": {
              "outlinewidth": 0,
              "ticks": ""
             }
            },
            "type": "scatter3d"
           }
          ],
          "scattercarpet": [
           {
            "marker": {
             "colorbar": {
              "outlinewidth": 0,
              "ticks": ""
             }
            },
            "type": "scattercarpet"
           }
          ],
          "scattergeo": [
           {
            "marker": {
             "colorbar": {
              "outlinewidth": 0,
              "ticks": ""
             }
            },
            "type": "scattergeo"
           }
          ],
          "scattergl": [
           {
            "marker": {
             "colorbar": {
              "outlinewidth": 0,
              "ticks": ""
             }
            },
            "type": "scattergl"
           }
          ],
          "scattermapbox": [
           {
            "marker": {
             "colorbar": {
              "outlinewidth": 0,
              "ticks": ""
             }
            },
            "type": "scattermapbox"
           }
          ],
          "scatterpolar": [
           {
            "marker": {
             "colorbar": {
              "outlinewidth": 0,
              "ticks": ""
             }
            },
            "type": "scatterpolar"
           }
          ],
          "scatterpolargl": [
           {
            "marker": {
             "colorbar": {
              "outlinewidth": 0,
              "ticks": ""
             }
            },
            "type": "scatterpolargl"
           }
          ],
          "scatterternary": [
           {
            "marker": {
             "colorbar": {
              "outlinewidth": 0,
              "ticks": ""
             }
            },
            "type": "scatterternary"
           }
          ],
          "surface": [
           {
            "colorbar": {
             "outlinewidth": 0,
             "ticks": ""
            },
            "colorscale": [
             [
              0,
              "#0d0887"
             ],
             [
              0.1111111111111111,
              "#46039f"
             ],
             [
              0.2222222222222222,
              "#7201a8"
             ],
             [
              0.3333333333333333,
              "#9c179e"
             ],
             [
              0.4444444444444444,
              "#bd3786"
             ],
             [
              0.5555555555555556,
              "#d8576b"
             ],
             [
              0.6666666666666666,
              "#ed7953"
             ],
             [
              0.7777777777777778,
              "#fb9f3a"
             ],
             [
              0.8888888888888888,
              "#fdca26"
             ],
             [
              1,
              "#f0f921"
             ]
            ],
            "type": "surface"
           }
          ],
          "table": [
           {
            "cells": {
             "fill": {
              "color": "#EBF0F8"
             },
             "line": {
              "color": "white"
             }
            },
            "header": {
             "fill": {
              "color": "#C8D4E3"
             },
             "line": {
              "color": "white"
             }
            },
            "type": "table"
           }
          ]
         },
         "layout": {
          "annotationdefaults": {
           "arrowcolor": "#2a3f5f",
           "arrowhead": 0,
           "arrowwidth": 1
          },
          "coloraxis": {
           "colorbar": {
            "outlinewidth": 0,
            "ticks": ""
           }
          },
          "colorscale": {
           "diverging": [
            [
             0,
             "#8e0152"
            ],
            [
             0.1,
             "#c51b7d"
            ],
            [
             0.2,
             "#de77ae"
            ],
            [
             0.3,
             "#f1b6da"
            ],
            [
             0.4,
             "#fde0ef"
            ],
            [
             0.5,
             "#f7f7f7"
            ],
            [
             0.6,
             "#e6f5d0"
            ],
            [
             0.7,
             "#b8e186"
            ],
            [
             0.8,
             "#7fbc41"
            ],
            [
             0.9,
             "#4d9221"
            ],
            [
             1,
             "#276419"
            ]
           ],
           "sequential": [
            [
             0,
             "#0d0887"
            ],
            [
             0.1111111111111111,
             "#46039f"
            ],
            [
             0.2222222222222222,
             "#7201a8"
            ],
            [
             0.3333333333333333,
             "#9c179e"
            ],
            [
             0.4444444444444444,
             "#bd3786"
            ],
            [
             0.5555555555555556,
             "#d8576b"
            ],
            [
             0.6666666666666666,
             "#ed7953"
            ],
            [
             0.7777777777777778,
             "#fb9f3a"
            ],
            [
             0.8888888888888888,
             "#fdca26"
            ],
            [
             1,
             "#f0f921"
            ]
           ],
           "sequentialminus": [
            [
             0,
             "#0d0887"
            ],
            [
             0.1111111111111111,
             "#46039f"
            ],
            [
             0.2222222222222222,
             "#7201a8"
            ],
            [
             0.3333333333333333,
             "#9c179e"
            ],
            [
             0.4444444444444444,
             "#bd3786"
            ],
            [
             0.5555555555555556,
             "#d8576b"
            ],
            [
             0.6666666666666666,
             "#ed7953"
            ],
            [
             0.7777777777777778,
             "#fb9f3a"
            ],
            [
             0.8888888888888888,
             "#fdca26"
            ],
            [
             1,
             "#f0f921"
            ]
           ]
          },
          "colorway": [
           "#636efa",
           "#EF553B",
           "#00cc96",
           "#ab63fa",
           "#FFA15A",
           "#19d3f3",
           "#FF6692",
           "#B6E880",
           "#FF97FF",
           "#FECB52"
          ],
          "font": {
           "color": "#2a3f5f"
          },
          "geo": {
           "bgcolor": "white",
           "lakecolor": "white",
           "landcolor": "#E5ECF6",
           "showlakes": true,
           "showland": true,
           "subunitcolor": "white"
          },
          "hoverlabel": {
           "align": "left"
          },
          "hovermode": "closest",
          "mapbox": {
           "style": "light"
          },
          "paper_bgcolor": "white",
          "plot_bgcolor": "#E5ECF6",
          "polar": {
           "angularaxis": {
            "gridcolor": "white",
            "linecolor": "white",
            "ticks": ""
           },
           "bgcolor": "#E5ECF6",
           "radialaxis": {
            "gridcolor": "white",
            "linecolor": "white",
            "ticks": ""
           }
          },
          "scene": {
           "xaxis": {
            "backgroundcolor": "#E5ECF6",
            "gridcolor": "white",
            "gridwidth": 2,
            "linecolor": "white",
            "showbackground": true,
            "ticks": "",
            "zerolinecolor": "white"
           },
           "yaxis": {
            "backgroundcolor": "#E5ECF6",
            "gridcolor": "white",
            "gridwidth": 2,
            "linecolor": "white",
            "showbackground": true,
            "ticks": "",
            "zerolinecolor": "white"
           },
           "zaxis": {
            "backgroundcolor": "#E5ECF6",
            "gridcolor": "white",
            "gridwidth": 2,
            "linecolor": "white",
            "showbackground": true,
            "ticks": "",
            "zerolinecolor": "white"
           }
          },
          "shapedefaults": {
           "line": {
            "color": "#2a3f5f"
           }
          },
          "ternary": {
           "aaxis": {
            "gridcolor": "white",
            "linecolor": "white",
            "ticks": ""
           },
           "baxis": {
            "gridcolor": "white",
            "linecolor": "white",
            "ticks": ""
           },
           "bgcolor": "#E5ECF6",
           "caxis": {
            "gridcolor": "white",
            "linecolor": "white",
            "ticks": ""
           }
          },
          "title": {
           "x": 0.05
          },
          "xaxis": {
           "automargin": true,
           "gridcolor": "white",
           "linecolor": "white",
           "ticks": "",
           "title": {
            "standoff": 15
           },
           "zerolinecolor": "white",
           "zerolinewidth": 2
          },
          "yaxis": {
           "automargin": true,
           "gridcolor": "white",
           "linecolor": "white",
           "ticks": "",
           "title": {
            "standoff": 15
           },
           "zerolinecolor": "white",
           "zerolinewidth": 2
          }
         }
        },
        "title": {
         "text": "All Feature Importances",
         "x": 0.5
        },
        "width": 1000,
        "xaxis": {
         "anchor": "y",
         "domain": [
          0,
          1
         ],
         "title": {
          "text": "value"
         }
        },
        "yaxis": {
         "anchor": "x",
         "domain": [
          0,
          1
         ],
         "tickfont": {
          "family": "Courier New",
          "size": 15
         },
         "title": {
          "text": ""
         }
        }
       }
      },
      "text/html": [
       "<div>                            <div id=\"f6743876-f6b9-4a4f-82f9-6bc05060f999\" class=\"plotly-graph-div\" style=\"height:1250px; width:1000px;\"></div>            <script type=\"text/javascript\">                require([\"plotly\"], function(Plotly) {                    window.PLOTLYENV=window.PLOTLYENV || {};                                    if (document.getElementById(\"f6743876-f6b9-4a4f-82f9-6bc05060f999\")) {                    Plotly.newPlot(                        \"f6743876-f6b9-4a4f-82f9-6bc05060f999\",                        [{\"alignmentgroup\": \"True\", \"hovertemplate\": \"value=%{x}<br>feature=%{y}<br>text=%{text}<extra></extra>\", \"legendgroup\": \"\", \"marker\": {\"color\": \"#636efa\"}, \"name\": \"\", \"offsetgroup\": \"\", \"orientation\": \"h\", \"showlegend\": false, \"text\": [0.2, 0.4, 0.5, 0.6, 0.6, 0.7, 0.8, 0.9, 0.9, 0.9, 1.0, 1.0, 1.0, 1.0, 1.0, 1.1, 1.1, 1.2, 1.3, 1.4, 1.4, 1.6, 2.1, 2.1, 2.3, 2.5, 3.6, 4.6, 4.6, 4.7, 4.7, 4.9, 4.9, 4.9, 5.1, 5.1, 5.1, 5.5, 6.2, 6.7, 11.2, 11.6, 12.5, 34.4, 34.5, 100.0], \"textposition\": \"auto\", \"type\": \"bar\", \"x\": [0.20130253226180594, 0.40949696384923584, 0.5015132336212428, 0.5528446562815436, 0.5890300329519901, 0.745856969456379, 0.8211338309808537, 0.8600259641614708, 0.8661547883874023, 0.8920599862282074, 0.9914885499814113, 0.9919398065099669, 1.0210619370151688, 1.0259738942638756, 1.045071582549183, 1.058001648708632, 1.0985419891432824, 1.1573198872351491, 1.2596463285288306, 1.3903483498255593, 1.4374561907957506, 1.6190053821651995, 2.081838482504776, 2.140233151440378, 2.3202666678293618, 2.46010586484312, 3.5965745598252266, 4.576245120616596, 4.5929762091066255, 4.71657976348901, 4.740884728322228, 4.856500524183287, 4.866461655883798, 4.946189495882555, 5.08086133557536, 5.119375002402481, 5.136282388740836, 5.461221070837226, 6.235710869795301, 6.650665590647517, 11.201771038558137, 11.620528088369607, 12.497014681345776, 34.38521752148431, 34.47877362464052, 100.0], \"xaxis\": \"x\", \"y\": [\"46. NCH_BENE_BLOOD_DDCTBL_LBLTY_AM_INP\", \"45. BENE_HI_CVRAGE_TOT_MONS\", \"44. NCH_PRMRY_PYR_CLM_PD_AMT_INP\", \"43. BENE_SMI_CVRAGE_TOT_MONS\", \"42.       PPPYMT_IP\", \"41.     SP_DEPRESSN\", \"40.         SP_CNCR\", \"39.     SP_STRKETIA\", \"38.     SP_CHRNKIDN\", \"37.   BENE_ESRD_IND\", \"36.     SP_ALZHDMTA\", \"35.     SP_DIABETES\", \"34.        SP_RA_OA\", \"33.          SP_CHF\", \"32.     SP_ISCHMCHT\", \"31.         SP_COPD\", \"30.     SP_OSTEOPRS\", \"29. BENE_SEX_IDENT_CD\", \"28. BENE_HMO_CVRAGE_TOT_MONS\", \"27. PLAN_CVRG_MOS_NUM\", \"26.       PPPYMT_OP\", \"25. NCH_BENE_IP_DDCTBL_AMT_INP\", \"24. NCH_BENE_PTA_COINSRNC_LBLTY_AM_INP\", \"23.    BENE_RACE_CD\", \"22. BENE_STATE_COUNTY_CODE\", \"21. ICD9_PRCDR_CD_1_CAT_INP\", \"20. ADMTNG_ICD9_DGNS_CD_CAT_INP\", \"19.      PPPYMT_CAR\", \"18. ICD9_DGNS_CD_1_CAT_INP\", \"17. CLM_PASS_THRU_PER_DIEM_AMT_INP\", \"16. ICD9_DGNS_CD_9_CAT_INP\", \"15. ICD9_DGNS_CD_5_CAT_INP\", \"14. ICD9_DGNS_CD_6_CAT_INP\", \"13. ICD9_DGNS_CD_2_CAT_INP\", \"12. ICD9_DGNS_CD_7_CAT_INP\", \"11. ICD9_DGNS_CD_8_CAT_INP\", \"10. ICD9_DGNS_CD_4_CAT_INP\", \"9. ICD9_DGNS_CD_3_CAT_INP\", \"8. CLM_UTLZTN_DAY_CNT_INP\", \"7. PRVDR_NUM_CAT_INP\", \"6.       BENRES_OP\", \"5.        BENE_AGE\", \"4.      BENRES_CAR\", \"3.     MEDREIMB_IP\", \"2. CLM_PMT_AMT_INP\", \"1.       BENRES_IP\"], \"yaxis\": \"y\"}],                        {\"barmode\": \"relative\", \"height\": 1250, \"legend\": {\"tracegroupgap\": 0}, \"margin\": {\"t\": 60}, \"showlegend\": false, \"template\": {\"data\": {\"bar\": [{\"error_x\": {\"color\": \"#2a3f5f\"}, \"error_y\": {\"color\": \"#2a3f5f\"}, \"marker\": {\"line\": {\"color\": \"#E5ECF6\", \"width\": 0.5}}, \"type\": \"bar\"}], \"barpolar\": [{\"marker\": {\"line\": {\"color\": \"#E5ECF6\", \"width\": 0.5}}, \"type\": \"barpolar\"}], \"carpet\": [{\"aaxis\": {\"endlinecolor\": \"#2a3f5f\", \"gridcolor\": \"white\", \"linecolor\": \"white\", \"minorgridcolor\": \"white\", \"startlinecolor\": \"#2a3f5f\"}, \"baxis\": {\"endlinecolor\": \"#2a3f5f\", \"gridcolor\": \"white\", \"linecolor\": \"white\", \"minorgridcolor\": \"white\", \"startlinecolor\": \"#2a3f5f\"}, \"type\": \"carpet\"}], \"choropleth\": [{\"colorbar\": {\"outlinewidth\": 0, \"ticks\": \"\"}, \"type\": \"choropleth\"}], \"contour\": [{\"colorbar\": {\"outlinewidth\": 0, \"ticks\": \"\"}, \"colorscale\": [[0.0, \"#0d0887\"], [0.1111111111111111, \"#46039f\"], [0.2222222222222222, \"#7201a8\"], [0.3333333333333333, \"#9c179e\"], [0.4444444444444444, \"#bd3786\"], [0.5555555555555556, \"#d8576b\"], [0.6666666666666666, \"#ed7953\"], [0.7777777777777778, \"#fb9f3a\"], [0.8888888888888888, \"#fdca26\"], [1.0, \"#f0f921\"]], \"type\": \"contour\"}], \"contourcarpet\": [{\"colorbar\": {\"outlinewidth\": 0, \"ticks\": \"\"}, \"type\": \"contourcarpet\"}], \"heatmap\": [{\"colorbar\": {\"outlinewidth\": 0, \"ticks\": \"\"}, \"colorscale\": [[0.0, \"#0d0887\"], [0.1111111111111111, \"#46039f\"], [0.2222222222222222, \"#7201a8\"], [0.3333333333333333, \"#9c179e\"], [0.4444444444444444, \"#bd3786\"], [0.5555555555555556, \"#d8576b\"], [0.6666666666666666, \"#ed7953\"], [0.7777777777777778, \"#fb9f3a\"], [0.8888888888888888, \"#fdca26\"], [1.0, \"#f0f921\"]], \"type\": \"heatmap\"}], \"heatmapgl\": [{\"colorbar\": {\"outlinewidth\": 0, \"ticks\": \"\"}, \"colorscale\": [[0.0, \"#0d0887\"], [0.1111111111111111, \"#46039f\"], [0.2222222222222222, \"#7201a8\"], [0.3333333333333333, \"#9c179e\"], [0.4444444444444444, \"#bd3786\"], [0.5555555555555556, \"#d8576b\"], [0.6666666666666666, \"#ed7953\"], [0.7777777777777778, \"#fb9f3a\"], [0.8888888888888888, \"#fdca26\"], [1.0, \"#f0f921\"]], \"type\": \"heatmapgl\"}], \"histogram\": [{\"marker\": {\"colorbar\": {\"outlinewidth\": 0, \"ticks\": \"\"}}, \"type\": \"histogram\"}], \"histogram2d\": [{\"colorbar\": {\"outlinewidth\": 0, \"ticks\": \"\"}, \"colorscale\": [[0.0, \"#0d0887\"], [0.1111111111111111, \"#46039f\"], [0.2222222222222222, \"#7201a8\"], [0.3333333333333333, \"#9c179e\"], [0.4444444444444444, \"#bd3786\"], [0.5555555555555556, \"#d8576b\"], [0.6666666666666666, \"#ed7953\"], [0.7777777777777778, \"#fb9f3a\"], [0.8888888888888888, \"#fdca26\"], [1.0, \"#f0f921\"]], \"type\": \"histogram2d\"}], \"histogram2dcontour\": [{\"colorbar\": {\"outlinewidth\": 0, \"ticks\": \"\"}, \"colorscale\": [[0.0, \"#0d0887\"], [0.1111111111111111, \"#46039f\"], [0.2222222222222222, \"#7201a8\"], [0.3333333333333333, \"#9c179e\"], [0.4444444444444444, \"#bd3786\"], [0.5555555555555556, \"#d8576b\"], [0.6666666666666666, \"#ed7953\"], [0.7777777777777778, \"#fb9f3a\"], [0.8888888888888888, \"#fdca26\"], [1.0, \"#f0f921\"]], \"type\": \"histogram2dcontour\"}], \"mesh3d\": [{\"colorbar\": {\"outlinewidth\": 0, \"ticks\": \"\"}, \"type\": \"mesh3d\"}], \"parcoords\": [{\"line\": {\"colorbar\": {\"outlinewidth\": 0, \"ticks\": \"\"}}, \"type\": \"parcoords\"}], \"pie\": [{\"automargin\": true, \"type\": \"pie\"}], \"scatter\": [{\"marker\": {\"colorbar\": {\"outlinewidth\": 0, \"ticks\": \"\"}}, \"type\": \"scatter\"}], \"scatter3d\": [{\"line\": {\"colorbar\": {\"outlinewidth\": 0, \"ticks\": \"\"}}, \"marker\": {\"colorbar\": {\"outlinewidth\": 0, \"ticks\": \"\"}}, \"type\": \"scatter3d\"}], \"scattercarpet\": [{\"marker\": {\"colorbar\": {\"outlinewidth\": 0, \"ticks\": \"\"}}, \"type\": \"scattercarpet\"}], \"scattergeo\": [{\"marker\": {\"colorbar\": {\"outlinewidth\": 0, \"ticks\": \"\"}}, \"type\": \"scattergeo\"}], \"scattergl\": [{\"marker\": {\"colorbar\": {\"outlinewidth\": 0, \"ticks\": \"\"}}, \"type\": \"scattergl\"}], \"scattermapbox\": [{\"marker\": {\"colorbar\": {\"outlinewidth\": 0, \"ticks\": \"\"}}, \"type\": \"scattermapbox\"}], \"scatterpolar\": [{\"marker\": {\"colorbar\": {\"outlinewidth\": 0, \"ticks\": \"\"}}, \"type\": \"scatterpolar\"}], \"scatterpolargl\": [{\"marker\": {\"colorbar\": {\"outlinewidth\": 0, \"ticks\": \"\"}}, \"type\": \"scatterpolargl\"}], \"scatterternary\": [{\"marker\": {\"colorbar\": {\"outlinewidth\": 0, \"ticks\": \"\"}}, \"type\": \"scatterternary\"}], \"surface\": [{\"colorbar\": {\"outlinewidth\": 0, \"ticks\": \"\"}, \"colorscale\": [[0.0, \"#0d0887\"], [0.1111111111111111, \"#46039f\"], [0.2222222222222222, \"#7201a8\"], [0.3333333333333333, \"#9c179e\"], [0.4444444444444444, \"#bd3786\"], [0.5555555555555556, \"#d8576b\"], [0.6666666666666666, \"#ed7953\"], [0.7777777777777778, \"#fb9f3a\"], [0.8888888888888888, \"#fdca26\"], [1.0, \"#f0f921\"]], \"type\": \"surface\"}], \"table\": [{\"cells\": {\"fill\": {\"color\": \"#EBF0F8\"}, \"line\": {\"color\": \"white\"}}, \"header\": {\"fill\": {\"color\": \"#C8D4E3\"}, \"line\": {\"color\": \"white\"}}, \"type\": \"table\"}]}, \"layout\": {\"annotationdefaults\": {\"arrowcolor\": \"#2a3f5f\", \"arrowhead\": 0, \"arrowwidth\": 1}, \"coloraxis\": {\"colorbar\": {\"outlinewidth\": 0, \"ticks\": \"\"}}, \"colorscale\": {\"diverging\": [[0, \"#8e0152\"], [0.1, \"#c51b7d\"], [0.2, \"#de77ae\"], [0.3, \"#f1b6da\"], [0.4, \"#fde0ef\"], [0.5, \"#f7f7f7\"], [0.6, \"#e6f5d0\"], [0.7, \"#b8e186\"], [0.8, \"#7fbc41\"], [0.9, \"#4d9221\"], [1, \"#276419\"]], \"sequential\": [[0.0, \"#0d0887\"], [0.1111111111111111, \"#46039f\"], [0.2222222222222222, \"#7201a8\"], [0.3333333333333333, \"#9c179e\"], [0.4444444444444444, \"#bd3786\"], [0.5555555555555556, \"#d8576b\"], [0.6666666666666666, \"#ed7953\"], [0.7777777777777778, \"#fb9f3a\"], [0.8888888888888888, \"#fdca26\"], [1.0, \"#f0f921\"]], \"sequentialminus\": [[0.0, \"#0d0887\"], [0.1111111111111111, \"#46039f\"], [0.2222222222222222, \"#7201a8\"], [0.3333333333333333, \"#9c179e\"], [0.4444444444444444, \"#bd3786\"], [0.5555555555555556, \"#d8576b\"], [0.6666666666666666, \"#ed7953\"], [0.7777777777777778, \"#fb9f3a\"], [0.8888888888888888, \"#fdca26\"], [1.0, \"#f0f921\"]]}, \"colorway\": [\"#636efa\", \"#EF553B\", \"#00cc96\", \"#ab63fa\", \"#FFA15A\", \"#19d3f3\", \"#FF6692\", \"#B6E880\", \"#FF97FF\", \"#FECB52\"], \"font\": {\"color\": \"#2a3f5f\"}, \"geo\": {\"bgcolor\": \"white\", \"lakecolor\": \"white\", \"landcolor\": \"#E5ECF6\", \"showlakes\": true, \"showland\": true, \"subunitcolor\": \"white\"}, \"hoverlabel\": {\"align\": \"left\"}, \"hovermode\": \"closest\", \"mapbox\": {\"style\": \"light\"}, \"paper_bgcolor\": \"white\", \"plot_bgcolor\": \"#E5ECF6\", \"polar\": {\"angularaxis\": {\"gridcolor\": \"white\", \"linecolor\": \"white\", \"ticks\": \"\"}, \"bgcolor\": \"#E5ECF6\", \"radialaxis\": {\"gridcolor\": \"white\", \"linecolor\": \"white\", \"ticks\": \"\"}}, \"scene\": {\"xaxis\": {\"backgroundcolor\": \"#E5ECF6\", \"gridcolor\": \"white\", \"gridwidth\": 2, \"linecolor\": \"white\", \"showbackground\": true, \"ticks\": \"\", \"zerolinecolor\": \"white\"}, \"yaxis\": {\"backgroundcolor\": \"#E5ECF6\", \"gridcolor\": \"white\", \"gridwidth\": 2, \"linecolor\": \"white\", \"showbackground\": true, \"ticks\": \"\", \"zerolinecolor\": \"white\"}, \"zaxis\": {\"backgroundcolor\": \"#E5ECF6\", \"gridcolor\": \"white\", \"gridwidth\": 2, \"linecolor\": \"white\", \"showbackground\": true, \"ticks\": \"\", \"zerolinecolor\": \"white\"}}, \"shapedefaults\": {\"line\": {\"color\": \"#2a3f5f\"}}, \"ternary\": {\"aaxis\": {\"gridcolor\": \"white\", \"linecolor\": \"white\", \"ticks\": \"\"}, \"baxis\": {\"gridcolor\": \"white\", \"linecolor\": \"white\", \"ticks\": \"\"}, \"bgcolor\": \"#E5ECF6\", \"caxis\": {\"gridcolor\": \"white\", \"linecolor\": \"white\", \"ticks\": \"\"}}, \"title\": {\"x\": 0.05}, \"xaxis\": {\"automargin\": true, \"gridcolor\": \"white\", \"linecolor\": \"white\", \"ticks\": \"\", \"title\": {\"standoff\": 15}, \"zerolinecolor\": \"white\", \"zerolinewidth\": 2}, \"yaxis\": {\"automargin\": true, \"gridcolor\": \"white\", \"linecolor\": \"white\", \"ticks\": \"\", \"title\": {\"standoff\": 15}, \"zerolinecolor\": \"white\", \"zerolinewidth\": 2}}}, \"title\": {\"text\": \"All Feature Importances\", \"x\": 0.5}, \"width\": 1000, \"xaxis\": {\"anchor\": \"y\", \"domain\": [0.0, 1.0], \"title\": {\"text\": \"value\"}}, \"yaxis\": {\"anchor\": \"x\", \"domain\": [0.0, 1.0], \"tickfont\": {\"family\": \"Courier New\", \"size\": 15}, \"title\": {\"text\": \"\"}}},                        {\"responsive\": true}                    ).then(function(){\n",
       "                            \n",
       "var gd = document.getElementById('f6743876-f6b9-4a4f-82f9-6bc05060f999');\n",
       "var x = new MutationObserver(function (mutations, observer) {{\n",
       "        var display = window.getComputedStyle(gd).display;\n",
       "        if (!display || display === 'none') {{\n",
       "            console.log([gd, 'removed!']);\n",
       "            Plotly.purge(gd);\n",
       "            observer.disconnect();\n",
       "        }}\n",
       "}});\n",
       "\n",
       "// Listen for the removal of the full notebook cells\n",
       "var notebookContainer = gd.closest('#notebook-container');\n",
       "if (notebookContainer) {{\n",
       "    x.observe(notebookContainer, {childList: true});\n",
       "}}\n",
       "\n",
       "// Listen for the clearing of the current output cell\n",
       "var outputEl = gd.closest('.output');\n",
       "if (outputEl) {{\n",
       "    x.observe(outputEl, {childList: true});\n",
       "}}\n",
       "\n",
       "                        })                };                });            </script>        </div>"
      ]
     },
     "metadata": {},
     "output_type": "display_data"
    }
   ],
   "source": [
    "feature_importance = FeatureImportance(dt_pipeline)\n",
    "feature_importance.plot(top_n_features=50, width=1000)\n",
    "\n"
   ]
  },
  {
   "cell_type": "code",
   "execution_count": 162,
   "metadata": {},
   "outputs": [
    {
     "name": "stdout",
     "output_type": "stream",
     "text": [
      "[Memory]0.0s, 0.0min    : Loading _fit_transform_one from C:\\Users\\SAURAB~1\\AppData\\Local\\Temp\\tmprhxswfwu\\joblib\\sklearn\\pipeline\\_fit_transform_one\\d4a670e7912a5b6ccefaaf43662ef902\n",
      "___________________________________fit_transform_one cache loaded - 0.2s, 0.0min\n",
      "[Memory]2.9s, 0.0min    : Loading _fit_transform_one from C:\\Users\\SAURAB~1\\AppData\\Local\\Temp\\tmprhxswfwu\\joblib\\sklearn\\pipeline\\_fit_transform_one\\a5524cd9a1f321c3b97ce6b0519064aa\n",
      "___________________________________fit_transform_one cache loaded - 0.0s, 0.0min\n",
      "[Pipeline] ........... (step 3 of 3) Processing ordinal, total=   0.1s\n",
      "[ColumnTransformer] ... (1 of 2) Processing categorical, total=   3.1s\n",
      "[Memory]0.0s, 0.0min    : Loading _fit_transform_one from C:\\Users\\SAURAB~1\\AppData\\Local\\Temp\\tmprhxswfwu\\joblib\\sklearn\\pipeline\\_fit_transform_one\\bf548c27c1a9d7a12cc73a0333f28c09\n",
      "___________________________________fit_transform_one cache loaded - 0.0s, 0.0min\n",
      "[Pipeline] ............ (step 2 of 2) Processing scaler, total=   0.0s\n",
      "[ColumnTransformer] ..... (2 of 2) Processing numerical, total=   0.1s\n",
      "======================================== DecisionTreeClassifier(random_state=420) ==================================================\n",
      "======================================== Training Metrics ==================================================\n",
      "Accuracy score is 1.0\n",
      "Precision score is 1.0\n",
      "Recall score is 1.0\n",
      "F1 score is 1.0\n",
      "AUC ROC score is 1.0\n",
      "Classification Report is \n",
      "               precision    recall  f1-score   support\n",
      "\n",
      "           0       1.00      1.00      1.00     31974\n",
      "           1       1.00      1.00      1.00      4862\n",
      "\n",
      "    accuracy                           1.00     36836\n",
      "   macro avg       1.00      1.00      1.00     36836\n",
      "weighted avg       1.00      1.00      1.00     36836\n",
      "\n"
     ]
    },
    {
     "data": {
      "image/png": "[encoded data removed]",
      "text/plain": [
       "<Figure size 432x288 with 2 Axes>"
      ]
     },
     "metadata": {
      "needs_background": "light"
     },
     "output_type": "display_data"
    },
    {
     "name": "stdout",
     "output_type": "stream",
     "text": [
      "======================================== Testing Metrics ==================================================\n",
      "Accuracy score is 0.8585233441910967\n",
      "Precision score is 0.48875562218890556\n",
      "Recall score is 0.5121759622937941\n",
      "F1 score is 0.5001917913310319\n",
      "AUC ROC score is 0.7131246448737459\n",
      "Classification Report is \n",
      "               precision    recall  f1-score   support\n",
      "\n",
      "           0       0.92      0.91      0.92      7937\n",
      "           1       0.49      0.51      0.50      1273\n",
      "\n",
      "    accuracy                           0.86      9210\n",
      "   macro avg       0.70      0.71      0.71      9210\n",
      "weighted avg       0.86      0.86      0.86      9210\n",
      "\n"
     ]
    },
    {
     "data": {
      "image/png": "[encoded data removed]",
      "text/plain": [
       "<Figure size 432x288 with 2 Axes>"
      ]
     },
     "metadata": {
      "needs_background": "light"
     },
     "output_type": "display_data"
    }
   ],
   "source": [
    "fit_predict(dt_smote_pipeline)\n",
    "\n"
   ]
  },
  {
   "cell_type": "code",
   "execution_count": 163,
   "metadata": {},
   "outputs": [
    {
     "data": {
      "application/vnd.plotly.v1+json": {
       "config": {
        "plotlyServerURL": "https://plot.ly"
       },
       "data": [
        {
         "alignmentgroup": "True",
         "hovertemplate": "value=%{x}<br>feature=%{y}<br>text=%{text}<extra></extra>",
         "legendgroup": "",
         "marker": {
          "color": "#636efa"
         },
         "name": "",
         "offsetgroup": "",
         "orientation": "h",
         "showlegend": false,
         "text": [
          0.1,
          0.1,
          0.1,
          0.3,
          0.3,
          0.3,
          0.4,
          0.4,
          0.4,
          0.5,
          0.5,
          0.6,
          0.6,
          0.6,
          0.7,
          0.7,
          0.7,
          0.8,
          0.9,
          0.9,
          1,
          1.1,
          1.1,
          1.2,
          1.2,
          1.3,
          1.3,
          1.3,
          1.3,
          1.3,
          1.3,
          1.4,
          1.5,
          1.6,
          1.8,
          2.2,
          2.2,
          2.8,
          2.9,
          3.7,
          4.1,
          4.2,
          6.6,
          7.3,
          9,
          100
         ],
         "textposition": "auto",
         "type": "bar",
         "x": [
          0.062362783286169475,
          0.09987500766784035,
          0.1266619106459858,
          0.28440298074508236,
          0.2975476980732034,
          0.3314428003100761,
          0.4020715753465633,
          0.41801192181978736,
          0.434847057722811,
          0.4813011931107368,
          0.49078452807257456,
          0.5657829271311471,
          0.5675259407398264,
          0.6327118402774654,
          0.6578343968165548,
          0.7000061877301986,
          0.7269474739811179,
          0.8052613785502717,
          0.896704561959916,
          0.9412214671946079,
          1.0359150259006515,
          1.0659130685487346,
          1.067345620409561,
          1.1580194850573864,
          1.2178617471286612,
          1.2553141565664105,
          1.256530246265697,
          1.2568203560526146,
          1.2932471908568772,
          1.3271620139219695,
          1.344107744493297,
          1.4014578660717805,
          1.4617724098645934,
          1.6040378053982685,
          1.7820478720655932,
          2.2131144519097607,
          2.21999803598308,
          2.7715076605421043,
          2.858633153806962,
          3.6512640432725343,
          4.064420596796266,
          4.2436737114491505,
          6.592003817531525,
          7.261633558113319,
          9.04712794597027,
          100
         ],
         "xaxis": "x",
         "y": [
          "46. NCH_PRMRY_PYR_CLM_PD_AMT_INP",
          "45. BENE_HI_CVRAGE_TOT_MONS",
          "44. BENE_SMI_CVRAGE_TOT_MONS",
          "43.       PPPYMT_OP",
          "42.   BENE_ESRD_IND",
          "41.       PPPYMT_IP",
          "40.     SP_ISCHMCHT",
          "39.          SP_CHF",
          "38.        SP_RA_OA",
          "37. NCH_BENE_BLOOD_DDCTBL_LBLTY_AM_INP",
          "36. BENE_HMO_CVRAGE_TOT_MONS",
          "35.     SP_DIABETES",
          "34. PLAN_CVRG_MOS_NUM",
          "33. BENE_STATE_COUNTY_CODE",
          "32.    BENE_RACE_CD",
          "31.     SP_OSTEOPRS",
          "30. ICD9_PRCDR_CD_1_CAT_INP",
          "29.     SP_STRKETIA",
          "28.      PPPYMT_CAR",
          "27. CLM_PASS_THRU_PER_DIEM_AMT_INP",
          "26. ADMTNG_ICD9_DGNS_CD_CAT_INP",
          "25. ICD9_DGNS_CD_2_CAT_INP",
          "24. ICD9_DGNS_CD_1_CAT_INP",
          "23. ICD9_DGNS_CD_8_CAT_INP",
          "22. ICD9_DGNS_CD_7_CAT_INP",
          "21. ICD9_DGNS_CD_3_CAT_INP",
          "20. PRVDR_NUM_CAT_INP",
          "19. ICD9_DGNS_CD_9_CAT_INP",
          "18. ICD9_DGNS_CD_5_CAT_INP",
          "17.     SP_CHRNKIDN",
          "16. ICD9_DGNS_CD_6_CAT_INP",
          "15. ICD9_DGNS_CD_4_CAT_INP",
          "14. CLM_UTLZTN_DAY_CNT_INP",
          "13. BENE_SEX_IDENT_CD",
          "12.         SP_CNCR",
          "11.       BENRES_OP",
          "10. NCH_BENE_PTA_COINSRNC_LBLTY_AM_INP",
          "9.        BENE_AGE",
          "8.      BENRES_CAR",
          "7.     SP_DEPRESSN",
          "6.         SP_COPD",
          "5. NCH_BENE_IP_DDCTBL_AMT_INP",
          "4.     MEDREIMB_IP",
          "3. CLM_PMT_AMT_INP",
          "2.     SP_ALZHDMTA",
          "1.       BENRES_IP"
         ],
         "yaxis": "y"
        }
       ],
       "layout": {
        "barmode": "relative",
        "height": 1250,
        "legend": {
         "tracegroupgap": 0
        },
        "margin": {
         "t": 60
        },
        "showlegend": false,
        "template": {
         "data": {
          "bar": [
           {
            "error_x": {
             "color": "#2a3f5f"
            },
            "error_y": {
             "color": "#2a3f5f"
            },
            "marker": {
             "line": {
              "color": "#E5ECF6",
              "width": 0.5
             }
            },
            "type": "bar"
           }
          ],
          "barpolar": [
           {
            "marker": {
             "line": {
              "color": "#E5ECF6",
              "width": 0.5
             }
            },
            "type": "barpolar"
           }
          ],
          "carpet": [
           {
            "aaxis": {
             "endlinecolor": "#2a3f5f",
             "gridcolor": "white",
             "linecolor": "white",
             "minorgridcolor": "white",
             "startlinecolor": "#2a3f5f"
            },
            "baxis": {
             "endlinecolor": "#2a3f5f",
             "gridcolor": "white",
             "linecolor": "white",
             "minorgridcolor": "white",
             "startlinecolor": "#2a3f5f"
            },
            "type": "carpet"
           }
          ],
          "choropleth": [
           {
            "colorbar": {
             "outlinewidth": 0,
             "ticks": ""
            },
            "type": "choropleth"
           }
          ],
          "contour": [
           {
            "colorbar": {
             "outlinewidth": 0,
             "ticks": ""
            },
            "colorscale": [
             [
              0,
              "#0d0887"
             ],
             [
              0.1111111111111111,
              "#46039f"
             ],
             [
              0.2222222222222222,
              "#7201a8"
             ],
             [
              0.3333333333333333,
              "#9c179e"
             ],
             [
              0.4444444444444444,
              "#bd3786"
             ],
             [
              0.5555555555555556,
              "#d8576b"
             ],
             [
              0.6666666666666666,
              "#ed7953"
             ],
             [
              0.7777777777777778,
              "#fb9f3a"
             ],
             [
              0.8888888888888888,
              "#fdca26"
             ],
             [
              1,
              "#f0f921"
             ]
            ],
            "type": "contour"
           }
          ],
          "contourcarpet": [
           {
            "colorbar": {
             "outlinewidth": 0,
             "ticks": ""
            },
            "type": "contourcarpet"
           }
          ],
          "heatmap": [
           {
            "colorbar": {
             "outlinewidth": 0,
             "ticks": ""
            },
            "colorscale": [
             [
              0,
              "#0d0887"
             ],
             [
              0.1111111111111111,
              "#46039f"
             ],
             [
              0.2222222222222222,
              "#7201a8"
             ],
             [
              0.3333333333333333,
              "#9c179e"
             ],
             [
              0.4444444444444444,
              "#bd3786"
             ],
             [
              0.5555555555555556,
              "#d8576b"
             ],
             [
              0.6666666666666666,
              "#ed7953"
             ],
             [
              0.7777777777777778,
              "#fb9f3a"
             ],
             [
              0.8888888888888888,
              "#fdca26"
             ],
             [
              1,
              "#f0f921"
             ]
            ],
            "type": "heatmap"
           }
          ],
          "heatmapgl": [
           {
            "colorbar": {
             "outlinewidth": 0,
             "ticks": ""
            },
            "colorscale": [
             [
              0,
              "#0d0887"
             ],
             [
              0.1111111111111111,
              "#46039f"
             ],
             [
              0.2222222222222222,
              "#7201a8"
             ],
             [
              0.3333333333333333,
              "#9c179e"
             ],
             [
              0.4444444444444444,
              "#bd3786"
             ],
             [
              0.5555555555555556,
              "#d8576b"
             ],
             [
              0.6666666666666666,
              "#ed7953"
             ],
             [
              0.7777777777777778,
              "#fb9f3a"
             ],
             [
              0.8888888888888888,
              "#fdca26"
             ],
             [
              1,
              "#f0f921"
             ]
            ],
            "type": "heatmapgl"
           }
          ],
          "histogram": [
           {
            "marker": {
             "colorbar": {
              "outlinewidth": 0,
              "ticks": ""
             }
            },
            "type": "histogram"
           }
          ],
          "histogram2d": [
           {
            "colorbar": {
             "outlinewidth": 0,
             "ticks": ""
            },
            "colorscale": [
             [
              0,
              "#0d0887"
             ],
             [
              0.1111111111111111,
              "#46039f"
             ],
             [
              0.2222222222222222,
              "#7201a8"
             ],
             [
              0.3333333333333333,
              "#9c179e"
             ],
             [
              0.4444444444444444,
              "#bd3786"
             ],
             [
              0.5555555555555556,
              "#d8576b"
             ],
             [
              0.6666666666666666,
              "#ed7953"
             ],
             [
              0.7777777777777778,
              "#fb9f3a"
             ],
             [
              0.8888888888888888,
              "#fdca26"
             ],
             [
              1,
              "#f0f921"
             ]
            ],
            "type": "histogram2d"
           }
          ],
          "histogram2dcontour": [
           {
            "colorbar": {
             "outlinewidth": 0,
             "ticks": ""
            },
            "colorscale": [
             [
              0,
              "#0d0887"
             ],
             [
              0.1111111111111111,
              "#46039f"
             ],
             [
              0.2222222222222222,
              "#7201a8"
             ],
             [
              0.3333333333333333,
              "#9c179e"
             ],
             [
              0.4444444444444444,
              "#bd3786"
             ],
             [
              0.5555555555555556,
              "#d8576b"
             ],
             [
              0.6666666666666666,
              "#ed7953"
             ],
             [
              0.7777777777777778,
              "#fb9f3a"
             ],
             [
              0.8888888888888888,
              "#fdca26"
             ],
             [
              1,
              "#f0f921"
             ]
            ],
            "type": "histogram2dcontour"
           }
          ],
          "mesh3d": [
           {
            "colorbar": {
             "outlinewidth": 0,
             "ticks": ""
            },
            "type": "mesh3d"
           }
          ],
          "parcoords": [
           {
            "line": {
             "colorbar": {
              "outlinewidth": 0,
              "ticks": ""
             }
            },
            "type": "parcoords"
           }
          ],
          "pie": [
           {
            "automargin": true,
            "type": "pie"
           }
          ],
          "scatter": [
           {
            "marker": {
             "colorbar": {
              "outlinewidth": 0,
              "ticks": ""
             }
            },
            "type": "scatter"
           }
          ],
          "scatter3d": [
           {
            "line": {
             "colorbar": {
              "outlinewidth": 0,
              "ticks": ""
             }
            },
            "marker": {
             "colorbar": {
              "outlinewidth": 0,
              "ticks": ""
             }
            },
            "type": "scatter3d"
           }
          ],
          "scattercarpet": [
           {
            "marker": {
             "colorbar": {
              "outlinewidth": 0,
              "ticks": ""
             }
            },
            "type": "scattercarpet"
           }
          ],
          "scattergeo": [
           {
            "marker": {
             "colorbar": {
              "outlinewidth": 0,
              "ticks": ""
             }
            },
            "type": "scattergeo"
           }
          ],
          "scattergl": [
           {
            "marker": {
             "colorbar": {
              "outlinewidth": 0,
              "ticks": ""
             }
            },
            "type": "scattergl"
           }
          ],
          "scattermapbox": [
           {
            "marker": {
             "colorbar": {
              "outlinewidth": 0,
              "ticks": ""
             }
            },
            "type": "scattermapbox"
           }
          ],
          "scatterpolar": [
           {
            "marker": {
             "colorbar": {
              "outlinewidth": 0,
              "ticks": ""
             }
            },
            "type": "scatterpolar"
           }
          ],
          "scatterpolargl": [
           {
            "marker": {
             "colorbar": {
              "outlinewidth": 0,
              "ticks": ""
             }
            },
            "type": "scatterpolargl"
           }
          ],
          "scatterternary": [
           {
            "marker": {
             "colorbar": {
              "outlinewidth": 0,
              "ticks": ""
             }
            },
            "type": "scatterternary"
           }
          ],
          "surface": [
           {
            "colorbar": {
             "outlinewidth": 0,
             "ticks": ""
            },
            "colorscale": [
             [
              0,
              "#0d0887"
             ],
             [
              0.1111111111111111,
              "#46039f"
             ],
             [
              0.2222222222222222,
              "#7201a8"
             ],
             [
              0.3333333333333333,
              "#9c179e"
             ],
             [
              0.4444444444444444,
              "#bd3786"
             ],
             [
              0.5555555555555556,
              "#d8576b"
             ],
             [
              0.6666666666666666,
              "#ed7953"
             ],
             [
              0.7777777777777778,
              "#fb9f3a"
             ],
             [
              0.8888888888888888,
              "#fdca26"
             ],
             [
              1,
              "#f0f921"
             ]
            ],
            "type": "surface"
           }
          ],
          "table": [
           {
            "cells": {
             "fill": {
              "color": "#EBF0F8"
             },
             "line": {
              "color": "white"
             }
            },
            "header": {
             "fill": {
              "color": "#C8D4E3"
             },
             "line": {
              "color": "white"
             }
            },
            "type": "table"
           }
          ]
         },
         "layout": {
          "annotationdefaults": {
           "arrowcolor": "#2a3f5f",
           "arrowhead": 0,
           "arrowwidth": 1
          },
          "coloraxis": {
           "colorbar": {
            "outlinewidth": 0,
            "ticks": ""
           }
          },
          "colorscale": {
           "diverging": [
            [
             0,
             "#8e0152"
            ],
            [
             0.1,
             "#c51b7d"
            ],
            [
             0.2,
             "#de77ae"
            ],
            [
             0.3,
             "#f1b6da"
            ],
            [
             0.4,
             "#fde0ef"
            ],
            [
             0.5,
             "#f7f7f7"
            ],
            [
             0.6,
             "#e6f5d0"
            ],
            [
             0.7,
             "#b8e186"
            ],
            [
             0.8,
             "#7fbc41"
            ],
            [
             0.9,
             "#4d9221"
            ],
            [
             1,
             "#276419"
            ]
           ],
           "sequential": [
            [
             0,
             "#0d0887"
            ],
            [
             0.1111111111111111,
             "#46039f"
            ],
            [
             0.2222222222222222,
             "#7201a8"
            ],
            [
             0.3333333333333333,
             "#9c179e"
            ],
            [
             0.4444444444444444,
             "#bd3786"
            ],
            [
             0.5555555555555556,
             "#d8576b"
            ],
            [
             0.6666666666666666,
             "#ed7953"
            ],
            [
             0.7777777777777778,
             "#fb9f3a"
            ],
            [
             0.8888888888888888,
             "#fdca26"
            ],
            [
             1,
             "#f0f921"
            ]
           ],
           "sequentialminus": [
            [
             0,
             "#0d0887"
            ],
            [
             0.1111111111111111,
             "#46039f"
            ],
            [
             0.2222222222222222,
             "#7201a8"
            ],
            [
             0.3333333333333333,
             "#9c179e"
            ],
            [
             0.4444444444444444,
             "#bd3786"
            ],
            [
             0.5555555555555556,
             "#d8576b"
            ],
            [
             0.6666666666666666,
             "#ed7953"
            ],
            [
             0.7777777777777778,
             "#fb9f3a"
            ],
            [
             0.8888888888888888,
             "#fdca26"
            ],
            [
             1,
             "#f0f921"
            ]
           ]
          },
          "colorway": [
           "#636efa",
           "#EF553B",
           "#00cc96",
           "#ab63fa",
           "#FFA15A",
           "#19d3f3",
           "#FF6692",
           "#B6E880",
           "#FF97FF",
           "#FECB52"
          ],
          "font": {
           "color": "#2a3f5f"
          },
          "geo": {
           "bgcolor": "white",
           "lakecolor": "white",
           "landcolor": "#E5ECF6",
           "showlakes": true,
           "showland": true,
           "subunitcolor": "white"
          },
          "hoverlabel": {
           "align": "left"
          },
          "hovermode": "closest",
          "mapbox": {
           "style": "light"
          },
          "paper_bgcolor": "white",
          "plot_bgcolor": "#E5ECF6",
          "polar": {
           "angularaxis": {
            "gridcolor": "white",
            "linecolor": "white",
            "ticks": ""
           },
           "bgcolor": "#E5ECF6",
           "radialaxis": {
            "gridcolor": "white",
            "linecolor": "white",
            "ticks": ""
           }
          },
          "scene": {
           "xaxis": {
            "backgroundcolor": "#E5ECF6",
            "gridcolor": "white",
            "gridwidth": 2,
            "linecolor": "white",
            "showbackground": true,
            "ticks": "",
            "zerolinecolor": "white"
           },
           "yaxis": {
            "backgroundcolor": "#E5ECF6",
            "gridcolor": "white",
            "gridwidth": 2,
            "linecolor": "white",
            "showbackground": true,
            "ticks": "",
            "zerolinecolor": "white"
           },
           "zaxis": {
            "backgroundcolor": "#E5ECF6",
            "gridcolor": "white",
            "gridwidth": 2,
            "linecolor": "white",
            "showbackground": true,
            "ticks": "",
            "zerolinecolor": "white"
           }
          },
          "shapedefaults": {
           "line": {
            "color": "#2a3f5f"
           }
          },
          "ternary": {
           "aaxis": {
            "gridcolor": "white",
            "linecolor": "white",
            "ticks": ""
           },
           "baxis": {
            "gridcolor": "white",
            "linecolor": "white",
            "ticks": ""
           },
           "bgcolor": "#E5ECF6",
           "caxis": {
            "gridcolor": "white",
            "linecolor": "white",
            "ticks": ""
           }
          },
          "title": {
           "x": 0.05
          },
          "xaxis": {
           "automargin": true,
           "gridcolor": "white",
           "linecolor": "white",
           "ticks": "",
           "title": {
            "standoff": 15
           },
           "zerolinecolor": "white",
           "zerolinewidth": 2
          },
          "yaxis": {
           "automargin": true,
           "gridcolor": "white",
           "linecolor": "white",
           "ticks": "",
           "title": {
            "standoff": 15
           },
           "zerolinecolor": "white",
           "zerolinewidth": 2
          }
         }
        },
        "title": {
         "text": "All Feature Importances",
         "x": 0.5
        },
        "width": 1000,
        "xaxis": {
         "anchor": "y",
         "domain": [
          0,
          1
         ],
         "title": {
          "text": "value"
         }
        },
        "yaxis": {
         "anchor": "x",
         "domain": [
          0,
          1
         ],
         "tickfont": {
          "family": "Courier New",
          "size": 15
         },
         "title": {
          "text": ""
         }
        }
       }
      },
      "text/html": [
       "<div>                            <div id=\"433c1ec7-a5f3-40eb-986a-2212c8b48807\" class=\"plotly-graph-div\" style=\"height:1250px; width:1000px;\"></div>            <script type=\"text/javascript\">                require([\"plotly\"], function(Plotly) {                    window.PLOTLYENV=window.PLOTLYENV || {};                                    if (document.getElementById(\"433c1ec7-a5f3-40eb-986a-2212c8b48807\")) {                    Plotly.newPlot(                        \"433c1ec7-a5f3-40eb-986a-2212c8b48807\",                        [{\"alignmentgroup\": \"True\", \"hovertemplate\": \"value=%{x}<br>feature=%{y}<br>text=%{text}<extra></extra>\", \"legendgroup\": \"\", \"marker\": {\"color\": \"#636efa\"}, \"name\": \"\", \"offsetgroup\": \"\", \"orientation\": \"h\", \"showlegend\": false, \"text\": [0.1, 0.1, 0.1, 0.3, 0.3, 0.3, 0.4, 0.4, 0.4, 0.5, 0.5, 0.6, 0.6, 0.6, 0.7, 0.7, 0.7, 0.8, 0.9, 0.9, 1.0, 1.1, 1.1, 1.2, 1.2, 1.3, 1.3, 1.3, 1.3, 1.3, 1.3, 1.4, 1.5, 1.6, 1.8, 2.2, 2.2, 2.8, 2.9, 3.7, 4.1, 4.2, 6.6, 7.3, 9.0, 100.0], \"textposition\": \"auto\", \"type\": \"bar\", \"x\": [0.062362783286169475, 0.09987500766784035, 0.1266619106459858, 0.28440298074508236, 0.2975476980732034, 0.3314428003100761, 0.4020715753465633, 0.41801192181978736, 0.434847057722811, 0.4813011931107368, 0.49078452807257456, 0.5657829271311471, 0.5675259407398264, 0.6327118402774654, 0.6578343968165548, 0.7000061877301986, 0.7269474739811179, 0.8052613785502717, 0.896704561959916, 0.9412214671946079, 1.0359150259006515, 1.0659130685487346, 1.067345620409561, 1.1580194850573864, 1.2178617471286612, 1.2553141565664105, 1.256530246265697, 1.2568203560526146, 1.2932471908568772, 1.3271620139219695, 1.344107744493297, 1.4014578660717805, 1.4617724098645934, 1.6040378053982685, 1.7820478720655932, 2.2131144519097607, 2.21999803598308, 2.7715076605421043, 2.858633153806962, 3.6512640432725343, 4.064420596796266, 4.2436737114491505, 6.592003817531525, 7.261633558113319, 9.04712794597027, 100.0], \"xaxis\": \"x\", \"y\": [\"46. NCH_PRMRY_PYR_CLM_PD_AMT_INP\", \"45. BENE_HI_CVRAGE_TOT_MONS\", \"44. BENE_SMI_CVRAGE_TOT_MONS\", \"43.       PPPYMT_OP\", \"42.   BENE_ESRD_IND\", \"41.       PPPYMT_IP\", \"40.     SP_ISCHMCHT\", \"39.          SP_CHF\", \"38.        SP_RA_OA\", \"37. NCH_BENE_BLOOD_DDCTBL_LBLTY_AM_INP\", \"36. BENE_HMO_CVRAGE_TOT_MONS\", \"35.     SP_DIABETES\", \"34. PLAN_CVRG_MOS_NUM\", \"33. BENE_STATE_COUNTY_CODE\", \"32.    BENE_RACE_CD\", \"31.     SP_OSTEOPRS\", \"30. ICD9_PRCDR_CD_1_CAT_INP\", \"29.     SP_STRKETIA\", \"28.      PPPYMT_CAR\", \"27. CLM_PASS_THRU_PER_DIEM_AMT_INP\", \"26. ADMTNG_ICD9_DGNS_CD_CAT_INP\", \"25. ICD9_DGNS_CD_2_CAT_INP\", \"24. ICD9_DGNS_CD_1_CAT_INP\", \"23. ICD9_DGNS_CD_8_CAT_INP\", \"22. ICD9_DGNS_CD_7_CAT_INP\", \"21. ICD9_DGNS_CD_3_CAT_INP\", \"20. PRVDR_NUM_CAT_INP\", \"19. ICD9_DGNS_CD_9_CAT_INP\", \"18. ICD9_DGNS_CD_5_CAT_INP\", \"17.     SP_CHRNKIDN\", \"16. ICD9_DGNS_CD_6_CAT_INP\", \"15. ICD9_DGNS_CD_4_CAT_INP\", \"14. CLM_UTLZTN_DAY_CNT_INP\", \"13. BENE_SEX_IDENT_CD\", \"12.         SP_CNCR\", \"11.       BENRES_OP\", \"10. NCH_BENE_PTA_COINSRNC_LBLTY_AM_INP\", \"9.        BENE_AGE\", \"8.      BENRES_CAR\", \"7.     SP_DEPRESSN\", \"6.         SP_COPD\", \"5. NCH_BENE_IP_DDCTBL_AMT_INP\", \"4.     MEDREIMB_IP\", \"3. CLM_PMT_AMT_INP\", \"2.     SP_ALZHDMTA\", \"1.       BENRES_IP\"], \"yaxis\": \"y\"}],                        {\"barmode\": \"relative\", \"height\": 1250, \"legend\": {\"tracegroupgap\": 0}, \"margin\": {\"t\": 60}, \"showlegend\": false, \"template\": {\"data\": {\"bar\": [{\"error_x\": {\"color\": \"#2a3f5f\"}, \"error_y\": {\"color\": \"#2a3f5f\"}, \"marker\": {\"line\": {\"color\": \"#E5ECF6\", \"width\": 0.5}}, \"type\": \"bar\"}], \"barpolar\": [{\"marker\": {\"line\": {\"color\": \"#E5ECF6\", \"width\": 0.5}}, \"type\": \"barpolar\"}], \"carpet\": [{\"aaxis\": {\"endlinecolor\": \"#2a3f5f\", \"gridcolor\": \"white\", \"linecolor\": \"white\", \"minorgridcolor\": \"white\", \"startlinecolor\": \"#2a3f5f\"}, \"baxis\": {\"endlinecolor\": \"#2a3f5f\", \"gridcolor\": \"white\", \"linecolor\": \"white\", \"minorgridcolor\": \"white\", \"startlinecolor\": \"#2a3f5f\"}, \"type\": \"carpet\"}], \"choropleth\": [{\"colorbar\": {\"outlinewidth\": 0, \"ticks\": \"\"}, \"type\": \"choropleth\"}], \"contour\": [{\"colorbar\": {\"outlinewidth\": 0, \"ticks\": \"\"}, \"colorscale\": [[0.0, \"#0d0887\"], [0.1111111111111111, \"#46039f\"], [0.2222222222222222, \"#7201a8\"], [0.3333333333333333, \"#9c179e\"], [0.4444444444444444, \"#bd3786\"], [0.5555555555555556, \"#d8576b\"], [0.6666666666666666, \"#ed7953\"], [0.7777777777777778, \"#fb9f3a\"], [0.8888888888888888, \"#fdca26\"], [1.0, \"#f0f921\"]], \"type\": \"contour\"}], \"contourcarpet\": [{\"colorbar\": {\"outlinewidth\": 0, \"ticks\": \"\"}, \"type\": \"contourcarpet\"}], \"heatmap\": [{\"colorbar\": {\"outlinewidth\": 0, \"ticks\": \"\"}, \"colorscale\": [[0.0, \"#0d0887\"], [0.1111111111111111, \"#46039f\"], [0.2222222222222222, \"#7201a8\"], [0.3333333333333333, \"#9c179e\"], [0.4444444444444444, \"#bd3786\"], [0.5555555555555556, \"#d8576b\"], [0.6666666666666666, \"#ed7953\"], [0.7777777777777778, \"#fb9f3a\"], [0.8888888888888888, \"#fdca26\"], [1.0, \"#f0f921\"]], \"type\": \"heatmap\"}], \"heatmapgl\": [{\"colorbar\": {\"outlinewidth\": 0, \"ticks\": \"\"}, \"colorscale\": [[0.0, \"#0d0887\"], [0.1111111111111111, \"#46039f\"], [0.2222222222222222, \"#7201a8\"], [0.3333333333333333, \"#9c179e\"], [0.4444444444444444, \"#bd3786\"], [0.5555555555555556, \"#d8576b\"], [0.6666666666666666, \"#ed7953\"], [0.7777777777777778, \"#fb9f3a\"], [0.8888888888888888, \"#fdca26\"], [1.0, \"#f0f921\"]], \"type\": \"heatmapgl\"}], \"histogram\": [{\"marker\": {\"colorbar\": {\"outlinewidth\": 0, \"ticks\": \"\"}}, \"type\": \"histogram\"}], \"histogram2d\": [{\"colorbar\": {\"outlinewidth\": 0, \"ticks\": \"\"}, \"colorscale\": [[0.0, \"#0d0887\"], [0.1111111111111111, \"#46039f\"], [0.2222222222222222, \"#7201a8\"], [0.3333333333333333, \"#9c179e\"], [0.4444444444444444, \"#bd3786\"], [0.5555555555555556, \"#d8576b\"], [0.6666666666666666, \"#ed7953\"], [0.7777777777777778, \"#fb9f3a\"], [0.8888888888888888, \"#fdca26\"], [1.0, \"#f0f921\"]], \"type\": \"histogram2d\"}], \"histogram2dcontour\": [{\"colorbar\": {\"outlinewidth\": 0, \"ticks\": \"\"}, \"colorscale\": [[0.0, \"#0d0887\"], [0.1111111111111111, \"#46039f\"], [0.2222222222222222, \"#7201a8\"], [0.3333333333333333, \"#9c179e\"], [0.4444444444444444, \"#bd3786\"], [0.5555555555555556, \"#d8576b\"], [0.6666666666666666, \"#ed7953\"], [0.7777777777777778, \"#fb9f3a\"], [0.8888888888888888, \"#fdca26\"], [1.0, \"#f0f921\"]], \"type\": \"histogram2dcontour\"}], \"mesh3d\": [{\"colorbar\": {\"outlinewidth\": 0, \"ticks\": \"\"}, \"type\": \"mesh3d\"}], \"parcoords\": [{\"line\": {\"colorbar\": {\"outlinewidth\": 0, \"ticks\": \"\"}}, \"type\": \"parcoords\"}], \"pie\": [{\"automargin\": true, \"type\": \"pie\"}], \"scatter\": [{\"marker\": {\"colorbar\": {\"outlinewidth\": 0, \"ticks\": \"\"}}, \"type\": \"scatter\"}], \"scatter3d\": [{\"line\": {\"colorbar\": {\"outlinewidth\": 0, \"ticks\": \"\"}}, \"marker\": {\"colorbar\": {\"outlinewidth\": 0, \"ticks\": \"\"}}, \"type\": \"scatter3d\"}], \"scattercarpet\": [{\"marker\": {\"colorbar\": {\"outlinewidth\": 0, \"ticks\": \"\"}}, \"type\": \"scattercarpet\"}], \"scattergeo\": [{\"marker\": {\"colorbar\": {\"outlinewidth\": 0, \"ticks\": \"\"}}, \"type\": \"scattergeo\"}], \"scattergl\": [{\"marker\": {\"colorbar\": {\"outlinewidth\": 0, \"ticks\": \"\"}}, \"type\": \"scattergl\"}], \"scattermapbox\": [{\"marker\": {\"colorbar\": {\"outlinewidth\": 0, \"ticks\": \"\"}}, \"type\": \"scattermapbox\"}], \"scatterpolar\": [{\"marker\": {\"colorbar\": {\"outlinewidth\": 0, \"ticks\": \"\"}}, \"type\": \"scatterpolar\"}], \"scatterpolargl\": [{\"marker\": {\"colorbar\": {\"outlinewidth\": 0, \"ticks\": \"\"}}, \"type\": \"scatterpolargl\"}], \"scatterternary\": [{\"marker\": {\"colorbar\": {\"outlinewidth\": 0, \"ticks\": \"\"}}, \"type\": \"scatterternary\"}], \"surface\": [{\"colorbar\": {\"outlinewidth\": 0, \"ticks\": \"\"}, \"colorscale\": [[0.0, \"#0d0887\"], [0.1111111111111111, \"#46039f\"], [0.2222222222222222, \"#7201a8\"], [0.3333333333333333, \"#9c179e\"], [0.4444444444444444, \"#bd3786\"], [0.5555555555555556, \"#d8576b\"], [0.6666666666666666, \"#ed7953\"], [0.7777777777777778, \"#fb9f3a\"], [0.8888888888888888, \"#fdca26\"], [1.0, \"#f0f921\"]], \"type\": \"surface\"}], \"table\": [{\"cells\": {\"fill\": {\"color\": \"#EBF0F8\"}, \"line\": {\"color\": \"white\"}}, \"header\": {\"fill\": {\"color\": \"#C8D4E3\"}, \"line\": {\"color\": \"white\"}}, \"type\": \"table\"}]}, \"layout\": {\"annotationdefaults\": {\"arrowcolor\": \"#2a3f5f\", \"arrowhead\": 0, \"arrowwidth\": 1}, \"coloraxis\": {\"colorbar\": {\"outlinewidth\": 0, \"ticks\": \"\"}}, \"colorscale\": {\"diverging\": [[0, \"#8e0152\"], [0.1, \"#c51b7d\"], [0.2, \"#de77ae\"], [0.3, \"#f1b6da\"], [0.4, \"#fde0ef\"], [0.5, \"#f7f7f7\"], [0.6, \"#e6f5d0\"], [0.7, \"#b8e186\"], [0.8, \"#7fbc41\"], [0.9, \"#4d9221\"], [1, \"#276419\"]], \"sequential\": [[0.0, \"#0d0887\"], [0.1111111111111111, \"#46039f\"], [0.2222222222222222, \"#7201a8\"], [0.3333333333333333, \"#9c179e\"], [0.4444444444444444, \"#bd3786\"], [0.5555555555555556, \"#d8576b\"], [0.6666666666666666, \"#ed7953\"], [0.7777777777777778, \"#fb9f3a\"], [0.8888888888888888, \"#fdca26\"], [1.0, \"#f0f921\"]], \"sequentialminus\": [[0.0, \"#0d0887\"], [0.1111111111111111, \"#46039f\"], [0.2222222222222222, \"#7201a8\"], [0.3333333333333333, \"#9c179e\"], [0.4444444444444444, \"#bd3786\"], [0.5555555555555556, \"#d8576b\"], [0.6666666666666666, \"#ed7953\"], [0.7777777777777778, \"#fb9f3a\"], [0.8888888888888888, \"#fdca26\"], [1.0, \"#f0f921\"]]}, \"colorway\": [\"#636efa\", \"#EF553B\", \"#00cc96\", \"#ab63fa\", \"#FFA15A\", \"#19d3f3\", \"#FF6692\", \"#B6E880\", \"#FF97FF\", \"#FECB52\"], \"font\": {\"color\": \"#2a3f5f\"}, \"geo\": {\"bgcolor\": \"white\", \"lakecolor\": \"white\", \"landcolor\": \"#E5ECF6\", \"showlakes\": true, \"showland\": true, \"subunitcolor\": \"white\"}, \"hoverlabel\": {\"align\": \"left\"}, \"hovermode\": \"closest\", \"mapbox\": {\"style\": \"light\"}, \"paper_bgcolor\": \"white\", \"plot_bgcolor\": \"#E5ECF6\", \"polar\": {\"angularaxis\": {\"gridcolor\": \"white\", \"linecolor\": \"white\", \"ticks\": \"\"}, \"bgcolor\": \"#E5ECF6\", \"radialaxis\": {\"gridcolor\": \"white\", \"linecolor\": \"white\", \"ticks\": \"\"}}, \"scene\": {\"xaxis\": {\"backgroundcolor\": \"#E5ECF6\", \"gridcolor\": \"white\", \"gridwidth\": 2, \"linecolor\": \"white\", \"showbackground\": true, \"ticks\": \"\", \"zerolinecolor\": \"white\"}, \"yaxis\": {\"backgroundcolor\": \"#E5ECF6\", \"gridcolor\": \"white\", \"gridwidth\": 2, \"linecolor\": \"white\", \"showbackground\": true, \"ticks\": \"\", \"zerolinecolor\": \"white\"}, \"zaxis\": {\"backgroundcolor\": \"#E5ECF6\", \"gridcolor\": \"white\", \"gridwidth\": 2, \"linecolor\": \"white\", \"showbackground\": true, \"ticks\": \"\", \"zerolinecolor\": \"white\"}}, \"shapedefaults\": {\"line\": {\"color\": \"#2a3f5f\"}}, \"ternary\": {\"aaxis\": {\"gridcolor\": \"white\", \"linecolor\": \"white\", \"ticks\": \"\"}, \"baxis\": {\"gridcolor\": \"white\", \"linecolor\": \"white\", \"ticks\": \"\"}, \"bgcolor\": \"#E5ECF6\", \"caxis\": {\"gridcolor\": \"white\", \"linecolor\": \"white\", \"ticks\": \"\"}}, \"title\": {\"x\": 0.05}, \"xaxis\": {\"automargin\": true, \"gridcolor\": \"white\", \"linecolor\": \"white\", \"ticks\": \"\", \"title\": {\"standoff\": 15}, \"zerolinecolor\": \"white\", \"zerolinewidth\": 2}, \"yaxis\": {\"automargin\": true, \"gridcolor\": \"white\", \"linecolor\": \"white\", \"ticks\": \"\", \"title\": {\"standoff\": 15}, \"zerolinecolor\": \"white\", \"zerolinewidth\": 2}}}, \"title\": {\"text\": \"All Feature Importances\", \"x\": 0.5}, \"width\": 1000, \"xaxis\": {\"anchor\": \"y\", \"domain\": [0.0, 1.0], \"title\": {\"text\": \"value\"}}, \"yaxis\": {\"anchor\": \"x\", \"domain\": [0.0, 1.0], \"tickfont\": {\"family\": \"Courier New\", \"size\": 15}, \"title\": {\"text\": \"\"}}},                        {\"responsive\": true}                    ).then(function(){\n",
       "                            \n",
       "var gd = document.getElementById('433c1ec7-a5f3-40eb-986a-2212c8b48807');\n",
       "var x = new MutationObserver(function (mutations, observer) {{\n",
       "        var display = window.getComputedStyle(gd).display;\n",
       "        if (!display || display === 'none') {{\n",
       "            console.log([gd, 'removed!']);\n",
       "            Plotly.purge(gd);\n",
       "            observer.disconnect();\n",
       "        }}\n",
       "}});\n",
       "\n",
       "// Listen for the removal of the full notebook cells\n",
       "var notebookContainer = gd.closest('#notebook-container');\n",
       "if (notebookContainer) {{\n",
       "    x.observe(notebookContainer, {childList: true});\n",
       "}}\n",
       "\n",
       "// Listen for the clearing of the current output cell\n",
       "var outputEl = gd.closest('.output');\n",
       "if (outputEl) {{\n",
       "    x.observe(outputEl, {childList: true});\n",
       "}}\n",
       "\n",
       "                        })                };                });            </script>        </div>"
      ]
     },
     "metadata": {},
     "output_type": "display_data"
    }
   ],
   "source": [
    "feature_importance = FeatureImportance(dt_smote_pipeline)\n",
    "feature_importance.plot(top_n_features=50, width=1000)\n",
    "\n"
   ]
  },
  {
   "cell_type": "code",
   "execution_count": 164,
   "metadata": {},
   "outputs": [
    {
     "name": "stdout",
     "output_type": "stream",
     "text": [
      "[Memory]0.0s, 0.0min    : Loading _fit_transform_one from C:\\Users\\SAURAB~1\\AppData\\Local\\Temp\\tmprhxswfwu\\joblib\\sklearn\\pipeline\\_fit_transform_one\\d4a670e7912a5b6ccefaaf43662ef902\n",
      "___________________________________fit_transform_one cache loaded - 0.0s, 0.0min\n",
      "[Memory]2.4s, 0.0min    : Loading _fit_transform_one from C:\\Users\\SAURAB~1\\AppData\\Local\\Temp\\tmprhxswfwu\\joblib\\sklearn\\pipeline\\_fit_transform_one\\a5524cd9a1f321c3b97ce6b0519064aa\n",
      "___________________________________fit_transform_one cache loaded - 0.0s, 0.0min\n",
      "[Pipeline] ........... (step 3 of 3) Processing ordinal, total=   0.1s\n",
      "[ColumnTransformer] ... (1 of 2) Processing categorical, total=   2.6s\n",
      "[Memory]0.0s, 0.0min    : Loading _fit_transform_one from C:\\Users\\SAURAB~1\\AppData\\Local\\Temp\\tmprhxswfwu\\joblib\\sklearn\\pipeline\\_fit_transform_one\\bf548c27c1a9d7a12cc73a0333f28c09\n",
      "___________________________________fit_transform_one cache loaded - 0.0s, 0.0min\n",
      "[Pipeline] ............ (step 2 of 2) Processing scaler, total=   0.0s\n",
      "[ColumnTransformer] ..... (2 of 2) Processing numerical, total=   0.1s\n",
      "======================================== DecisionTreeClassifier(random_state=420) ==================================================\n",
      "======================================== Training Metrics ==================================================\n",
      "Accuracy score is 1.0\n",
      "Precision score is 1.0\n",
      "Recall score is 1.0\n",
      "F1 score is 1.0\n",
      "AUC ROC score is 1.0\n",
      "Classification Report is \n",
      "               precision    recall  f1-score   support\n",
      "\n",
      "           0       1.00      1.00      1.00     31974\n",
      "           1       1.00      1.00      1.00      4862\n",
      "\n",
      "    accuracy                           1.00     36836\n",
      "   macro avg       1.00      1.00      1.00     36836\n",
      "weighted avg       1.00      1.00      1.00     36836\n",
      "\n"
     ]
    },
    {
     "data": {
      "image/png": "[encoded data removed]",
      "text/plain": [
       "<Figure size 432x288 with 2 Axes>"
      ]
     },
     "metadata": {
      "needs_background": "light"
     },
     "output_type": "display_data"
    },
    {
     "name": "stdout",
     "output_type": "stream",
     "text": [
      "======================================== Testing Metrics ==================================================\n",
      "Accuracy score is 0.852442996742671\n",
      "Precision score is 0.4644039735099338\n",
      "Recall score is 0.44069128043990574\n",
      "F1 score is 0.4522370012091898\n",
      "AUC ROC score is 0.6795871672452773\n",
      "Classification Report is \n",
      "               precision    recall  f1-score   support\n",
      "\n",
      "           0       0.91      0.92      0.91      7937\n",
      "           1       0.46      0.44      0.45      1273\n",
      "\n",
      "    accuracy                           0.85      9210\n",
      "   macro avg       0.69      0.68      0.68      9210\n",
      "weighted avg       0.85      0.85      0.85      9210\n",
      "\n"
     ]
    },
    {
     "data": {
      "image/png": "[encoded data removed]",
      "text/plain": [
       "<Figure size 432x288 with 2 Axes>"
      ]
     },
     "metadata": {
      "needs_background": "light"
     },
     "output_type": "display_data"
    }
   ],
   "source": [
    "fit_predict(dt_randover_pipeline)\n",
    "\n"
   ]
  },
  {
   "cell_type": "code",
   "execution_count": 165,
   "metadata": {},
   "outputs": [],
   "source": [
    "parameter_grid = {\n",
    "    \"DT_Classifier__max_depth\": np.linspace(1, 32, 32, endpoint=True),\n",
    "    \"DT_Classifier__min_samples_leaf\": np.linspace(0.1, 0.5, 5, endpoint=True),\n",
    "    \"DT_Classifier__min_samples_split\": np.linspace(0.1, 1.0, 10, endpoint=True),\n",
    "    \"DT_Classifier__max_features\": [\"auto\", \"log2\", None],\n",
    "}\n",
    "\n"
   ]
  },
  {
   "cell_type": "code",
   "execution_count": 166,
   "metadata": {},
   "outputs": [],
   "source": [
    "rand_grid_search = RandomizedSearchCV(\n",
    "    estimator=dt_pipeline,\n",
    "    param_distributions=parameter_grid,\n",
    "    n_iter=15,\n",
    "    scoring=\"f1\",\n",
    "    verbose=4,\n",
    ")\n"
   ]
  },
  {
   "cell_type": "code",
   "execution_count": 167,
   "metadata": {},
   "outputs": [],
   "source": [
    "extratrees_clf = ExtraTreesClassifier(\n",
    "    max_features=0.7363742386320187,\n",
    "    n_estimators=80,\n",
    "    n_jobs=-1,\n",
    "    random_state=4,\n",
    "    verbose=False,\n",
    ")\n",
    "\n"
   ]
  },
  {
   "cell_type": "code",
   "execution_count": 168,
   "metadata": {},
   "outputs": [],
   "source": [
    "extratrees_clf_pipeline = Pipeline(\n",
    "    [\n",
    "        (\"Preprocessing Step\", preprocessing_pipeline),\n",
    "        (\"Extratrees_Classifier\", extratrees_clf),\n",
    "    ]\n",
    ")\n",
    "\n"
   ]
  },
  {
   "cell_type": "code",
   "execution_count": 169,
   "metadata": {},
   "outputs": [
    {
     "name": "stdout",
     "output_type": "stream",
     "text": [
      "[Memory]0.0s, 0.0min    : Loading _fit_transform_one from C:\\Users\\SAURAB~1\\AppData\\Local\\Temp\\tmprhxswfwu\\joblib\\sklearn\\pipeline\\_fit_transform_one\\d4a670e7912a5b6ccefaaf43662ef902\n",
      "___________________________________fit_transform_one cache loaded - 0.0s, 0.0min\n",
      "[Memory]2.4s, 0.0min    : Loading _fit_transform_one from C:\\Users\\SAURAB~1\\AppData\\Local\\Temp\\tmprhxswfwu\\joblib\\sklearn\\pipeline\\_fit_transform_one\\a5524cd9a1f321c3b97ce6b0519064aa\n",
      "___________________________________fit_transform_one cache loaded - 0.0s, 0.0min\n",
      "[Pipeline] ........... (step 3 of 3) Processing ordinal, total=   0.1s\n",
      "[ColumnTransformer] ... (1 of 2) Processing categorical, total=   2.6s\n",
      "[Memory]0.0s, 0.0min    : Loading _fit_transform_one from C:\\Users\\SAURAB~1\\AppData\\Local\\Temp\\tmprhxswfwu\\joblib\\sklearn\\pipeline\\_fit_transform_one\\bf548c27c1a9d7a12cc73a0333f28c09\n",
      "___________________________________fit_transform_one cache loaded - 0.0s, 0.0min\n",
      "[Pipeline] ............ (step 2 of 2) Processing scaler, total=   0.0s\n",
      "[ColumnTransformer] ..... (2 of 2) Processing numerical, total=   0.0s\n",
      "======================================== ExtraTreesClassifier(max_features=0.7363742386320187, n_estimators=80,\n",
      "                     n_jobs=-1, random_state=4, verbose=False) ==================================================\n",
      "======================================== Training Metrics ==================================================\n",
      "Accuracy score is 1.0\n",
      "Precision score is 1.0\n",
      "Recall score is 1.0\n",
      "F1 score is 1.0\n",
      "AUC ROC score is 1.0\n",
      "Classification Report is \n",
      "               precision    recall  f1-score   support\n",
      "\n",
      "           0       1.00      1.00      1.00     31974\n",
      "           1       1.00      1.00      1.00      4862\n",
      "\n",
      "    accuracy                           1.00     36836\n",
      "   macro avg       1.00      1.00      1.00     36836\n",
      "weighted avg       1.00      1.00      1.00     36836\n",
      "\n"
     ]
    },
    {
     "data": {
      "image/png": "[encoded data removed]",
      "text/plain": [
       "<Figure size 432x288 with 2 Axes>"
      ]
     },
     "metadata": {
      "needs_background": "light"
     },
     "output_type": "display_data"
    },
    {
     "name": "stdout",
     "output_type": "stream",
     "text": [
      "======================================== Testing Metrics ==================================================\n",
      "Accuracy score is 0.9033659066232356\n",
      "Precision score is 0.8438061041292639\n",
      "Recall score is 0.3692065985860173\n",
      "F1 score is 0.5136612021857924\n",
      "AUC ROC score is 0.679122639093941\n",
      "Classification Report is \n",
      "               precision    recall  f1-score   support\n",
      "\n",
      "           0       0.91      0.99      0.95      7937\n",
      "           1       0.84      0.37      0.51      1273\n",
      "\n",
      "    accuracy                           0.90      9210\n",
      "   macro avg       0.88      0.68      0.73      9210\n",
      "weighted avg       0.90      0.90      0.89      9210\n",
      "\n"
     ]
    },
    {
     "data": {
      "image/png": "[encoded data removed]",
      "text/plain": [
       "<Figure size 432x288 with 2 Axes>"
      ]
     },
     "metadata": {
      "needs_background": "light"
     },
     "output_type": "display_data"
    }
   ],
   "source": [
    "fit_predict(extratrees_clf_pipeline)\n",
    "\n"
   ]
  },
  {
   "cell_type": "code",
   "execution_count": 170,
   "metadata": {},
   "outputs": [],
   "source": [
    "rfc_model_1 = RandomForestClassifier(\n",
    "    bootstrap=False,\n",
    "    max_features=0.40810278517436016,\n",
    "    n_estimators=73,\n",
    "    n_jobs=-1,\n",
    "    random_state=1,\n",
    "    verbose=False,\n",
    ")\n",
    "\n"
   ]
  },
  {
   "cell_type": "code",
   "execution_count": 171,
   "metadata": {},
   "outputs": [],
   "source": [
    "rfc_clf_pipeline = Pipeline(\n",
    "    [\n",
    "        (\"Preprocessing Step\", preprocessing_pipeline),\n",
    "        (\"Extratrees_Classifier\", rfc_model_1),\n",
    "    ]\n",
    ")\n",
    "\n"
   ]
  },
  {
   "cell_type": "code",
   "execution_count": 172,
   "metadata": {},
   "outputs": [
    {
     "name": "stdout",
     "output_type": "stream",
     "text": [
      "[Memory]0.0s, 0.0min    : Loading _fit_transform_one from C:\\Users\\SAURAB~1\\AppData\\Local\\Temp\\tmprhxswfwu\\joblib\\sklearn\\pipeline\\_fit_transform_one\\d4a670e7912a5b6ccefaaf43662ef902\n",
      "___________________________________fit_transform_one cache loaded - 0.0s, 0.0min\n",
      "[Memory]2.6s, 0.0min    : Loading _fit_transform_one from C:\\Users\\SAURAB~1\\AppData\\Local\\Temp\\tmprhxswfwu\\joblib\\sklearn\\pipeline\\_fit_transform_one\\a5524cd9a1f321c3b97ce6b0519064aa\n",
      "___________________________________fit_transform_one cache loaded - 0.0s, 0.0min\n",
      "[Pipeline] ........... (step 3 of 3) Processing ordinal, total=   0.1s\n",
      "[ColumnTransformer] ... (1 of 2) Processing categorical, total=   2.8s\n",
      "[Memory]0.0s, 0.0min    : Loading _fit_transform_one from C:\\Users\\SAURAB~1\\AppData\\Local\\Temp\\tmprhxswfwu\\joblib\\sklearn\\pipeline\\_fit_transform_one\\bf548c27c1a9d7a12cc73a0333f28c09\n",
      "___________________________________fit_transform_one cache loaded - 0.0s, 0.0min\n",
      "[Pipeline] ............ (step 2 of 2) Processing scaler, total=   0.0s\n",
      "[ColumnTransformer] ..... (2 of 2) Processing numerical, total=   0.1s\n",
      "======================================== RandomForestClassifier(bootstrap=False, max_features=0.40810278517436016,\n",
      "                       n_estimators=73, n_jobs=-1, random_state=1,\n",
      "                       verbose=False) ==================================================\n",
      "======================================== Training Metrics ==================================================\n",
      "Accuracy score is 1.0\n",
      "Precision score is 1.0\n",
      "Recall score is 1.0\n",
      "F1 score is 1.0\n",
      "AUC ROC score is 1.0\n",
      "Classification Report is \n",
      "               precision    recall  f1-score   support\n",
      "\n",
      "           0       1.00      1.00      1.00     31974\n",
      "           1       1.00      1.00      1.00      4862\n",
      "\n",
      "    accuracy                           1.00     36836\n",
      "   macro avg       1.00      1.00      1.00     36836\n",
      "weighted avg       1.00      1.00      1.00     36836\n",
      "\n"
     ]
    },
    {
     "data": {
      "image/png": "[encoded data removed]",
      "text/plain": [
       "<Figure size 432x288 with 2 Axes>"
      ]
     },
     "metadata": {
      "needs_background": "light"
     },
     "output_type": "display_data"
    },
    {
     "name": "stdout",
     "output_type": "stream",
     "text": [
      "======================================== Testing Metrics ==================================================\n",
      "Accuracy score is 0.9061889250814332\n",
      "Precision score is 0.8460236886632826\n",
      "Recall score is 0.3927729772191673\n",
      "F1 score is 0.536480686695279\n",
      "AUC ROC score is 0.6906538440335473\n",
      "Classification Report is \n",
      "               precision    recall  f1-score   support\n",
      "\n",
      "           0       0.91      0.99      0.95      7937\n",
      "           1       0.85      0.39      0.54      1273\n",
      "\n",
      "    accuracy                           0.91      9210\n",
      "   macro avg       0.88      0.69      0.74      9210\n",
      "weighted avg       0.90      0.91      0.89      9210\n",
      "\n"
     ]
    },
    {
     "data": {
      "image/png": "[encoded data removed]",
      "text/plain": [
       "<Figure size 432x288 with 2 Axes>"
      ]
     },
     "metadata": {
      "needs_background": "light"
     },
     "output_type": "display_data"
    }
   ],
   "source": [
    "fit_predict(rfc_clf_pipeline)\n",
    "\n"
   ]
  },
  {
   "cell_type": "code",
   "execution_count": 173,
   "metadata": {},
   "outputs": [],
   "source": [
    "extratrees_smt_pipeline = imb_pipeline.Pipeline(\n",
    "    [\n",
    "        (\"Preprocessing Step\", preprocessing_pipeline),\n",
    "        (\"SMOTE oversampling\", smt),\n",
    "        (\"Extratrees_Classifier\", extratrees_clf),\n",
    "    ]\n",
    ")\n",
    "\n",
    "extratrees_randover_pipeline = imb_pipeline.Pipeline(\n",
    "    [\n",
    "        (\"Preprocessing Step\", preprocessing_pipeline),\n",
    "        (\"Random oversampling\", random_oversampling),\n",
    "        (\"Extratrees_Classifier\", extratrees_clf),\n",
    "    ]\n",
    ")\n"
   ]
  },
  {
   "cell_type": "code",
   "execution_count": 174,
   "metadata": {},
   "outputs": [
    {
     "name": "stdout",
     "output_type": "stream",
     "text": [
      "[Memory]0.0s, 0.0min    : Loading _fit_transform_one from C:\\Users\\SAURAB~1\\AppData\\Local\\Temp\\tmprhxswfwu\\joblib\\sklearn\\pipeline\\_fit_transform_one\\d4a670e7912a5b6ccefaaf43662ef902\n",
      "___________________________________fit_transform_one cache loaded - 0.0s, 0.0min\n",
      "[Memory]2.5s, 0.0min    : Loading _fit_transform_one from C:\\Users\\SAURAB~1\\AppData\\Local\\Temp\\tmprhxswfwu\\joblib\\sklearn\\pipeline\\_fit_transform_one\\a5524cd9a1f321c3b97ce6b0519064aa\n",
      "___________________________________fit_transform_one cache loaded - 0.0s, 0.0min\n",
      "[Pipeline] ........... (step 3 of 3) Processing ordinal, total=   0.1s\n",
      "[ColumnTransformer] ... (1 of 2) Processing categorical, total=   2.8s\n",
      "[Memory]0.0s, 0.0min    : Loading _fit_transform_one from C:\\Users\\SAURAB~1\\AppData\\Local\\Temp\\tmprhxswfwu\\joblib\\sklearn\\pipeline\\_fit_transform_one\\bf548c27c1a9d7a12cc73a0333f28c09\n",
      "___________________________________fit_transform_one cache loaded - 0.0s, 0.0min\n",
      "[Pipeline] ............ (step 2 of 2) Processing scaler, total=   0.0s\n",
      "[ColumnTransformer] ..... (2 of 2) Processing numerical, total=   0.1s\n",
      "======================================== ExtraTreesClassifier(max_features=0.7363742386320187, n_estimators=80,\n",
      "                     n_jobs=-1, random_state=4, verbose=False) ==================================================\n",
      "======================================== Training Metrics ==================================================\n",
      "Accuracy score is 1.0\n",
      "Precision score is 1.0\n",
      "Recall score is 1.0\n",
      "F1 score is 1.0\n",
      "AUC ROC score is 1.0\n",
      "Classification Report is \n",
      "               precision    recall  f1-score   support\n",
      "\n",
      "           0       1.00      1.00      1.00     31974\n",
      "           1       1.00      1.00      1.00      4862\n",
      "\n",
      "    accuracy                           1.00     36836\n",
      "   macro avg       1.00      1.00      1.00     36836\n",
      "weighted avg       1.00      1.00      1.00     36836\n",
      "\n"
     ]
    },
    {
     "data": {
      "image/png": "[encoded data removed]",
      "text/plain": [
       "<Figure size 432x288 with 2 Axes>"
      ]
     },
     "metadata": {
      "needs_background": "light"
     },
     "output_type": "display_data"
    },
    {
     "name": "stdout",
     "output_type": "stream",
     "text": [
      "======================================== Testing Metrics ==================================================\n",
      "Accuracy score is 0.9057546145494029\n",
      "Precision score is 0.827140549273021\n",
      "Recall score is 0.40219952867242736\n",
      "F1 score is 0.5412262156448203\n",
      "AUC ROC score is 0.6943591822523029\n",
      "Classification Report is \n",
      "               precision    recall  f1-score   support\n",
      "\n",
      "           0       0.91      0.99      0.95      7937\n",
      "           1       0.83      0.40      0.54      1273\n",
      "\n",
      "    accuracy                           0.91      9210\n",
      "   macro avg       0.87      0.69      0.74      9210\n",
      "weighted avg       0.90      0.91      0.89      9210\n",
      "\n"
     ]
    },
    {
     "data": {
      "image/png": "[encoded data removed]",
      "text/plain": [
       "<Figure size 432x288 with 2 Axes>"
      ]
     },
     "metadata": {
      "needs_background": "light"
     },
     "output_type": "display_data"
    },
    {
     "name": "stdout",
     "output_type": "stream",
     "text": [
      "[Memory]0.0s, 0.0min    : Loading _fit_transform_one from C:\\Users\\SAURAB~1\\AppData\\Local\\Temp\\tmprhxswfwu\\joblib\\sklearn\\pipeline\\_fit_transform_one\\d4a670e7912a5b6ccefaaf43662ef902\n",
      "___________________________________fit_transform_one cache loaded - 0.0s, 0.0min\n",
      "[Memory]2.3s, 0.0min    : Loading _fit_transform_one from C:\\Users\\SAURAB~1\\AppData\\Local\\Temp\\tmprhxswfwu\\joblib\\sklearn\\pipeline\\_fit_transform_one\\a5524cd9a1f321c3b97ce6b0519064aa\n",
      "___________________________________fit_transform_one cache loaded - 0.0s, 0.0min\n",
      "[Pipeline] ........... (step 3 of 3) Processing ordinal, total=   0.1s\n",
      "[ColumnTransformer] ... (1 of 2) Processing categorical, total=   2.6s\n",
      "[Memory]0.0s, 0.0min    : Loading _fit_transform_one from C:\\Users\\SAURAB~1\\AppData\\Local\\Temp\\tmprhxswfwu\\joblib\\sklearn\\pipeline\\_fit_transform_one\\bf548c27c1a9d7a12cc73a0333f28c09\n",
      "___________________________________fit_transform_one cache loaded - 0.0s, 0.0min\n",
      "[Pipeline] ............ (step 2 of 2) Processing scaler, total=   0.0s\n",
      "[ColumnTransformer] ..... (2 of 2) Processing numerical, total=   0.1s\n",
      "======================================== ExtraTreesClassifier(max_features=0.7363742386320187, n_estimators=80,\n",
      "                     n_jobs=-1, random_state=4, verbose=False) ==================================================\n",
      "======================================== Training Metrics ==================================================\n",
      "Accuracy score is 1.0\n",
      "Precision score is 1.0\n",
      "Recall score is 1.0\n",
      "F1 score is 1.0\n",
      "AUC ROC score is 1.0\n",
      "Classification Report is \n",
      "               precision    recall  f1-score   support\n",
      "\n",
      "           0       1.00      1.00      1.00     31974\n",
      "           1       1.00      1.00      1.00      4862\n",
      "\n",
      "    accuracy                           1.00     36836\n",
      "   macro avg       1.00      1.00      1.00     36836\n",
      "weighted avg       1.00      1.00      1.00     36836\n",
      "\n"
     ]
    },
    {
     "data": {
      "image/png": "[encoded data removed]",
      "text/plain": [
       "<Figure size 432x288 with 2 Axes>"
      ]
     },
     "metadata": {
      "needs_background": "light"
     },
     "output_type": "display_data"
    },
    {
     "name": "stdout",
     "output_type": "stream",
     "text": [
      "======================================== Testing Metrics ==================================================\n",
      "Accuracy score is 0.8971769815418024\n",
      "Precision score is 0.8381742738589212\n",
      "Recall score is 0.3173605655930872\n",
      "F1 score is 0.46039886039886035\n",
      "AUC ROC score is 0.6537665874456553\n",
      "Classification Report is \n",
      "               precision    recall  f1-score   support\n",
      "\n",
      "           0       0.90      0.99      0.94      7937\n",
      "           1       0.84      0.32      0.46      1273\n",
      "\n",
      "    accuracy                           0.90      9210\n",
      "   macro avg       0.87      0.65      0.70      9210\n",
      "weighted avg       0.89      0.90      0.88      9210\n",
      "\n"
     ]
    },
    {
     "data": {
      "image/png": "[encoded data removed]",
      "text/plain": [
       "<Figure size 432x288 with 2 Axes>"
      ]
     },
     "metadata": {
      "needs_background": "light"
     },
     "output_type": "display_data"
    }
   ],
   "source": [
    "fit_predict(extratrees_smt_pipeline)\n",
    "fit_predict(extratrees_randover_pipeline)\n"
   ]
  },
  {
   "cell_type": "code",
   "execution_count": 175,
   "metadata": {},
   "outputs": [],
   "source": [
    "rfc_smt_pipeline = imb_pipeline.Pipeline(\n",
    "    [\n",
    "        (\"Preprocessing Step\", preprocessing_pipeline),\n",
    "        (\"SMOTE oversampling\", smt),\n",
    "        (\"Extratrees_Classifier\", rfc_model_1),\n",
    "    ]\n",
    ")\n",
    "\n",
    "rfc_randover_pipeline = imb_pipeline.Pipeline(\n",
    "    [\n",
    "        (\"Preprocessing Step\", preprocessing_pipeline),\n",
    "        (\"random oversampling\", random_oversampling),\n",
    "        (\"Extratrees_Classifier\", rfc_model_1),\n",
    "    ]\n",
    ")\n"
   ]
  },
  {
   "cell_type": "code",
   "execution_count": 176,
   "metadata": {},
   "outputs": [
    {
     "name": "stdout",
     "output_type": "stream",
     "text": [
      "[Memory]0.0s, 0.0min    : Loading _fit_transform_one from C:\\Users\\SAURAB~1\\AppData\\Local\\Temp\\tmprhxswfwu\\joblib\\sklearn\\pipeline\\_fit_transform_one\\d4a670e7912a5b6ccefaaf43662ef902\n",
      "___________________________________fit_transform_one cache loaded - 0.0s, 0.0min\n",
      "[Memory]2.5s, 0.0min    : Loading _fit_transform_one from C:\\Users\\SAURAB~1\\AppData\\Local\\Temp\\tmprhxswfwu\\joblib\\sklearn\\pipeline\\_fit_transform_one\\a5524cd9a1f321c3b97ce6b0519064aa\n",
      "___________________________________fit_transform_one cache loaded - 0.0s, 0.0min\n",
      "[Pipeline] ........... (step 3 of 3) Processing ordinal, total=   0.1s\n",
      "[ColumnTransformer] ... (1 of 2) Processing categorical, total=   2.7s\n",
      "[Memory]0.0s, 0.0min    : Loading _fit_transform_one from C:\\Users\\SAURAB~1\\AppData\\Local\\Temp\\tmprhxswfwu\\joblib\\sklearn\\pipeline\\_fit_transform_one\\bf548c27c1a9d7a12cc73a0333f28c09\n",
      "___________________________________fit_transform_one cache loaded - 0.0s, 0.0min\n",
      "[Pipeline] ............ (step 2 of 2) Processing scaler, total=   0.0s\n",
      "[ColumnTransformer] ..... (2 of 2) Processing numerical, total=   0.1s\n",
      "======================================== RandomForestClassifier(bootstrap=False, max_features=0.40810278517436016,\n",
      "                       n_estimators=73, n_jobs=-1, random_state=1,\n",
      "                       verbose=False) ==================================================\n",
      "======================================== Training Metrics ==================================================\n",
      "Accuracy score is 1.0\n",
      "Precision score is 1.0\n",
      "Recall score is 1.0\n",
      "F1 score is 1.0\n",
      "AUC ROC score is 1.0\n",
      "Classification Report is \n",
      "               precision    recall  f1-score   support\n",
      "\n",
      "           0       1.00      1.00      1.00     31974\n",
      "           1       1.00      1.00      1.00      4862\n",
      "\n",
      "    accuracy                           1.00     36836\n",
      "   macro avg       1.00      1.00      1.00     36836\n",
      "weighted avg       1.00      1.00      1.00     36836\n",
      "\n"
     ]
    },
    {
     "data": {
      "image/png": "[encoded data removed]",
      "text/plain": [
       "<Figure size 432x288 with 2 Axes>"
      ]
     },
     "metadata": {
      "needs_background": "light"
     },
     "output_type": "display_data"
    },
    {
     "name": "stdout",
     "output_type": "stream",
     "text": [
      "======================================== Testing Metrics ==================================================\n",
      "Accuracy score is 0.9130293159609121\n",
      "Precision score is 0.8361823361823362\n",
      "Recall score is 0.46111547525530244\n",
      "F1 score is 0.5944303797468355\n",
      "AUC ROC score is 0.7233131867898032\n",
      "Classification Report is \n",
      "               precision    recall  f1-score   support\n",
      "\n",
      "           0       0.92      0.99      0.95      7937\n",
      "           1       0.84      0.46      0.59      1273\n",
      "\n",
      "    accuracy                           0.91      9210\n",
      "   macro avg       0.88      0.72      0.77      9210\n",
      "weighted avg       0.91      0.91      0.90      9210\n",
      "\n"
     ]
    },
    {
     "data": {
      "image/png": "[encoded data removed]",
      "text/plain": [
       "<Figure size 432x288 with 2 Axes>"
      ]
     },
     "metadata": {
      "needs_background": "light"
     },
     "output_type": "display_data"
    },
    {
     "name": "stdout",
     "output_type": "stream",
     "text": [
      "[Memory]0.0s, 0.0min    : Loading _fit_transform_one from C:\\Users\\SAURAB~1\\AppData\\Local\\Temp\\tmprhxswfwu\\joblib\\sklearn\\pipeline\\_fit_transform_one\\d4a670e7912a5b6ccefaaf43662ef902\n",
      "___________________________________fit_transform_one cache loaded - 0.0s, 0.0min\n",
      "[Memory]2.4s, 0.0min    : Loading _fit_transform_one from C:\\Users\\SAURAB~1\\AppData\\Local\\Temp\\tmprhxswfwu\\joblib\\sklearn\\pipeline\\_fit_transform_one\\a5524cd9a1f321c3b97ce6b0519064aa\n",
      "___________________________________fit_transform_one cache loaded - 0.0s, 0.0min\n",
      "[Pipeline] ........... (step 3 of 3) Processing ordinal, total=   0.1s\n",
      "[ColumnTransformer] ... (1 of 2) Processing categorical, total=   2.6s\n",
      "[Memory]0.0s, 0.0min    : Loading _fit_transform_one from C:\\Users\\SAURAB~1\\AppData\\Local\\Temp\\tmprhxswfwu\\joblib\\sklearn\\pipeline\\_fit_transform_one\\bf548c27c1a9d7a12cc73a0333f28c09\n",
      "___________________________________fit_transform_one cache loaded - 0.0s, 0.0min\n",
      "[Pipeline] ............ (step 2 of 2) Processing scaler, total=   0.0s\n",
      "[ColumnTransformer] ..... (2 of 2) Processing numerical, total=   0.1s\n",
      "======================================== RandomForestClassifier(bootstrap=False, max_features=0.40810278517436016,\n",
      "                       n_estimators=73, n_jobs=-1, random_state=1,\n",
      "                       verbose=False) ==================================================\n",
      "======================================== Training Metrics ==================================================\n",
      "Accuracy score is 1.0\n",
      "Precision score is 1.0\n",
      "Recall score is 1.0\n",
      "F1 score is 1.0\n",
      "AUC ROC score is 1.0\n",
      "Classification Report is \n",
      "               precision    recall  f1-score   support\n",
      "\n",
      "           0       1.00      1.00      1.00     31974\n",
      "           1       1.00      1.00      1.00      4862\n",
      "\n",
      "    accuracy                           1.00     36836\n",
      "   macro avg       1.00      1.00      1.00     36836\n",
      "weighted avg       1.00      1.00      1.00     36836\n",
      "\n"
     ]
    },
    {
     "data": {
      "image/png": "[encoded data removed]",
      "text/plain": [
       "<Figure size 432x288 with 2 Axes>"
      ]
     },
     "metadata": {
      "needs_background": "light"
     },
     "output_type": "display_data"
    },
    {
     "name": "stdout",
     "output_type": "stream",
     "text": [
      "======================================== Testing Metrics ==================================================\n",
      "Accuracy score is 0.8998914223669924\n",
      "Precision score is 0.8084358523725835\n",
      "Recall score is 0.36135113904163396\n",
      "F1 score is 0.49945711183496205\n",
      "AUC ROC score is 0.6738089952484219\n",
      "Classification Report is \n",
      "               precision    recall  f1-score   support\n",
      "\n",
      "           0       0.91      0.99      0.94      7937\n",
      "           1       0.81      0.36      0.50      1273\n",
      "\n",
      "    accuracy                           0.90      9210\n",
      "   macro avg       0.86      0.67      0.72      9210\n",
      "weighted avg       0.89      0.90      0.88      9210\n",
      "\n"
     ]
    },
    {
     "data": {
      "image/png": "[encoded data removed]",
      "text/plain": [
       "<Figure size 432x288 with 2 Axes>"
      ]
     },
     "metadata": {
      "needs_background": "light"
     },
     "output_type": "display_data"
    }
   ],
   "source": [
    "fit_predict(rfc_smt_pipeline)\n",
    "fit_predict(rfc_randover_pipeline)\n"
   ]
  },
  {
   "cell_type": "code",
   "execution_count": 177,
   "metadata": {},
   "outputs": [],
   "source": [
    "estimators = [\n",
    "    (\"dt_pipeline\", dt_pipeline),\n",
    "    (\"rfc_pipeline\", rfc_clf_pipeline),\n",
    "    (\"extratrees_pipeline\", extratrees_clf_pipeline),\n",
    "]\n",
    "\n"
   ]
  },
  {
   "cell_type": "code",
   "execution_count": 178,
   "metadata": {},
   "outputs": [],
   "source": [
    "voting_clf = VotingClassifier(\n",
    "    estimators=estimators, voting=\"soft\", verbose=True, n_jobs=-1\n",
    ")\n",
    "\n"
   ]
  },
  {
   "cell_type": "code",
   "execution_count": 179,
   "metadata": {},
   "outputs": [
    {
     "data": {
      "text/plain": [
       "VotingClassifier(estimators=[('dt_pipeline',\n",
       "                              Pipeline(steps=[('Preprocessing Step',\n",
       "                                               ColumnTransformer(transformers=[('categorical',\n",
       "                                                                                Pipeline(memory=Memory(location=C:\\Users\\SAURAB~1\\AppData\\Local\\Temp\\tmprhxswfwu\\joblib),\n",
       "                                                                                         steps=[('imputer_with_constant',\n",
       "                                                                                                 SimpleImputer(fill_value='Missing',\n",
       "                                                                                                               strategy='constant')),\n",
       "                                                                                                ('infrequent_category_remover',\n",
       "                                                                                                 CardinalityRe...\n",
       "                                                                                 'CLM_PASS_THRU_PER_DIEM_AMT_INP',\n",
       "                                                                                 'NCH_BENE_IP_DDCTBL_AMT_INP',\n",
       "                                                                                 'NCH_BENE_PTA_COINSRNC_LBLTY_AM_INP',\n",
       "                                                                                 'NCH_BENE_BLOOD_DDCTBL_LBLTY_AM_INP',\n",
       "                                                                                 'CLM_UTLZTN_DAY_CNT_INP'])],\n",
       "                                                                 verbose=True)),\n",
       "                                              ('Extratrees_Classifier',\n",
       "                                               ExtraTreesClassifier(max_features=0.7363742386320187,\n",
       "                                                                    n_estimators=80,\n",
       "                                                                    n_jobs=-1,\n",
       "                                                                    random_state=4,\n",
       "                                                                    verbose=False))]))],\n",
       "                 n_jobs=-1, verbose=True, voting='soft')"
      ]
     },
     "execution_count": 179,
     "metadata": {},
     "output_type": "execute_result"
    }
   ],
   "source": [
    "voting_clf.fit(X_train, y_train)\n",
    "\n"
   ]
  },
  {
   "cell_type": "code",
   "execution_count": 180,
   "metadata": {},
   "outputs": [],
   "source": [
    "y_pred = voting_clf.predict(X_test)\n",
    "\n"
   ]
  },
  {
   "cell_type": "code",
   "execution_count": 181,
   "metadata": {},
   "outputs": [
    {
     "name": "stdout",
     "output_type": "stream",
     "text": [
      "Accuracy score is 0.889685124864278\n",
      "Precision score is 0.6546329723225031\n",
      "Recall score is 0.42733699921445406\n",
      "F1 score is 0.5171102661596959\n",
      "AUC ROC score is 0.6955886205597279\n",
      "Classification Report is \n",
      "               precision    recall  f1-score   support\n",
      "\n",
      "           0       0.91      0.96      0.94      7937\n",
      "           1       0.65      0.43      0.52      1273\n",
      "\n",
      "    accuracy                           0.89      9210\n",
      "   macro avg       0.78      0.70      0.73      9210\n",
      "weighted avg       0.88      0.89      0.88      9210\n",
      "\n"
     ]
    },
    {
     "data": {
      "image/png": "[encoded data removed]",
      "text/plain": [
       "<Figure size 432x288 with 2 Axes>"
      ]
     },
     "metadata": {
      "needs_background": "light"
     },
     "output_type": "display_data"
    }
   ],
   "source": [
    "getMetricsData(y_true=y_test, y_pred=y_pred)\n",
    "\n"
   ]
  },
  {
   "cell_type": "code",
   "execution_count": 182,
   "metadata": {},
   "outputs": [],
   "source": [
    "from hpsklearn import (\n",
    "    HyperoptEstimator,\n",
    "    extra_trees,\n",
    "    random_forest,xgboost_classification, any_classifier\n",
    ")\n",
    "from hyperopt import tpe\n"
   ]
  },
  {
   "cell_type": "code",
   "execution_count": 183,
   "metadata": {},
   "outputs": [
    {
     "name": "stdout",
     "output_type": "stream",
     "text": [
      "100%|█████████████████████████████████████████████████| 1/1 [00:24<00:00, 24.56s/trial, best loss: 0.10002714440825189]\n",
      "100%|█████████████████████████████████████████████████| 2/2 [00:18<00:00, 18.12s/trial, best loss: 0.10002714440825189]\n",
      "100%|█████████████████████████████████████████████████| 3/3 [00:04<00:00,  4.32s/trial, best loss: 0.10002714440825189]\n",
      "100%|█████████████████████████████████████████████████| 4/4 [00:05<00:00,  5.52s/trial, best loss: 0.10002714440825189]\n",
      "100%|█████████████████████████████████████████████████| 5/5 [00:02<00:00,  2.53s/trial, best loss: 0.10002714440825189]\n",
      "100%|█████████████████████████████████████████████████| 6/6 [00:04<00:00,  4.87s/trial, best loss: 0.10002714440825189]\n",
      "100%|█████████████████████████████████████████████████| 7/7 [00:10<00:00, 10.37s/trial, best loss: 0.10002714440825189]\n",
      "100%|█████████████████████████████████████████████████| 8/8 [00:02<00:00,  2.72s/trial, best loss: 0.10002714440825189]\n",
      "100%|█████████████████████████████████████████████████| 9/9 [00:03<00:00,  3.00s/trial, best loss: 0.10002714440825189]\n",
      "100%|███████████████████████████████████████████████| 10/10 [00:02<00:00,  2.47s/trial, best loss: 0.10002714440825189]\n"
     ]
    },
    {
     "data": {
      "text/plain": [
       "0.894028230184582"
      ]
     },
     "execution_count": 183,
     "metadata": {},
     "output_type": "execute_result"
    },
    {
     "data": {
      "text/plain": [
       "ExtraTreesClassifier(max_features=0.9883164239821786, min_samples_leaf=5,\n",
       "                     n_estimators=14, n_jobs=1, random_state=0, verbose=False)"
      ]
     },
     "execution_count": 183,
     "metadata": {},
     "output_type": "execute_result"
    }
   ],
   "source": [
    "estim_extratrees = HyperoptEstimator(\n",
    "    classifier=extra_trees(\"extratrees_clf\"),\n",
    "    preprocessing=[],\n",
    "    algo=tpe.suggest,\n",
    "    max_evals=10,\n",
    "    trial_timeout=600,\n",
    ")\n",
    "\n",
    "estim_extratrees.fit(X_train_transformed.to_numpy(), y_train)\n",
    "\n",
    "estim_extratrees.score(X_test_transformed.to_numpy(), y_test)\n",
    "\n",
    "estim_extratrees.best_model()[\"learner\"]"
   ]
  },
  {
   "cell_type": "code",
   "execution_count": 196,
   "metadata": {},
   "outputs": [],
   "source": [
    "extratree_hp_pipeline = Pipeline(\n",
    "    [\n",
    "        (\"Preprocessing Step\", preprocessing_pipeline),\n",
    "        (\"Extratrees_Classifier\", ExtraTreesClassifier(max_features=0.9883164239821786, min_samples_leaf=5,\n",
    "                     n_estimators=14, n_jobs=1, random_state=0, verbose=False)),\n",
    "    ]\n",
    ")\n",
    "\n",
    "# ExtraTreesClassifier(bootstrap=True, criterion='entropy',\n",
    "#                      max_features=0.49408687452249067, n_estimators=109,\n",
    "#                      n_jobs=1, random_state=3, verbose=1, class_weight=\"balanced\",)"
   ]
  },
  {
   "cell_type": "code",
   "execution_count": 197,
   "metadata": {},
   "outputs": [
    {
     "name": "stdout",
     "output_type": "stream",
     "text": [
      "[Memory]0.0s, 0.0min    : Loading _fit_transform_one from C:\\Users\\SAURAB~1\\AppData\\Local\\Temp\\tmprhxswfwu\\joblib\\sklearn\\pipeline\\_fit_transform_one\\d4a670e7912a5b6ccefaaf43662ef902\n",
      "___________________________________fit_transform_one cache loaded - 0.0s, 0.0min\n",
      "[Memory]3.6s, 0.1min    : Loading _fit_transform_one from C:\\Users\\SAURAB~1\\AppData\\Local\\Temp\\tmprhxswfwu\\joblib\\sklearn\\pipeline\\_fit_transform_one\\a5524cd9a1f321c3b97ce6b0519064aa\n",
      "___________________________________fit_transform_one cache loaded - 0.0s, 0.0min\n",
      "[Pipeline] ........... (step 3 of 3) Processing ordinal, total=   0.3s\n",
      "[ColumnTransformer] ... (1 of 2) Processing categorical, total=   4.0s\n",
      "[Memory]0.0s, 0.0min    : Loading _fit_transform_one from C:\\Users\\SAURAB~1\\AppData\\Local\\Temp\\tmprhxswfwu\\joblib\\sklearn\\pipeline\\_fit_transform_one\\bf548c27c1a9d7a12cc73a0333f28c09\n",
      "___________________________________fit_transform_one cache loaded - 0.0s, 0.0min\n",
      "[Pipeline] ............ (step 2 of 2) Processing scaler, total=   0.0s\n",
      "[ColumnTransformer] ..... (2 of 2) Processing numerical, total=   0.1s\n",
      "======================================== ExtraTreesClassifier(max_features=0.9883164239821786, min_samples_leaf=5,\n",
      "                     n_estimators=14, n_jobs=1, random_state=0, verbose=False) ==================================================\n",
      "======================================== Training Metrics ==================================================\n",
      "Accuracy score is 0.9789336518623086\n",
      "Precision score is 0.9963556851311953\n",
      "Recall score is 0.8434800493624023\n",
      "F1 score is 0.9135664958788149\n",
      "AUC ROC score is 0.9215054590966637\n",
      "Classification Report is \n",
      "               precision    recall  f1-score   support\n",
      "\n",
      "           0       0.98      1.00      0.99     31974\n",
      "           1       1.00      0.84      0.91      4862\n",
      "\n",
      "    accuracy                           0.98     36836\n",
      "   macro avg       0.99      0.92      0.95     36836\n",
      "weighted avg       0.98      0.98      0.98     36836\n",
      "\n"
     ]
    },
    {
     "data": {
      "image/png": "[encoded data removed]",
      "text/plain": [
       "<Figure size 432x288 with 2 Axes>"
      ]
     },
     "metadata": {
      "needs_background": "light"
     },
     "output_type": "display_data"
    },
    {
     "name": "stdout",
     "output_type": "stream",
     "text": [
      "======================================== Testing Metrics ==================================================\n",
      "Accuracy score is 0.894028230184582\n",
      "Precision score is 0.751269035532995\n",
      "Recall score is 0.3487824037706206\n",
      "F1 score is 0.47639484978540775\n",
      "AUC ROC score is 0.6651307760317132\n",
      "Classification Report is \n",
      "               precision    recall  f1-score   support\n",
      "\n",
      "           0       0.90      0.98      0.94      7937\n",
      "           1       0.75      0.35      0.48      1273\n",
      "\n",
      "    accuracy                           0.89      9210\n",
      "   macro avg       0.83      0.67      0.71      9210\n",
      "weighted avg       0.88      0.89      0.88      9210\n",
      "\n"
     ]
    },
    {
     "data": {
      "image/png": "[encoded data removed]",
      "text/plain": [
       "<Figure size 432x288 with 2 Axes>"
      ]
     },
     "metadata": {
      "needs_background": "light"
     },
     "output_type": "display_data"
    }
   ],
   "source": [
    "fit_predict(extratree_hp_pipeline)"
   ]
  },
  {
   "cell_type": "code",
   "execution_count": 198,
   "metadata": {},
   "outputs": [],
   "source": [
    "extratrees_smt_pipeline = imb_pipeline.Pipeline(\n",
    "    [\n",
    "        (\"Preprocessing Step\", preprocessing_pipeline),\n",
    "        (\"SMOTE oversampling\", smt),\n",
    "        (\"Extratrees_Classifier\", ExtraTreesClassifier(max_features=0.9883164239821786, min_samples_leaf=5,\n",
    "                     n_estimators=14, n_jobs=1, random_state=0, verbose=False)),\n",
    "    ]\n",
    ")\n",
    "\n",
    "\n",
    "extratrees_randover_pipeline = imb_pipeline.Pipeline(\n",
    "    [\n",
    "        (\"Preprocessing Step\", preprocessing_pipeline),\n",
    "        (\"Random oversampling\", random_oversampling),\n",
    "        (\"Extratrees_Classifier\", ExtraTreesClassifier(max_features=0.9883164239821786, min_samples_leaf=5,\n",
    "                     n_estimators=14, n_jobs=1, random_state=0, verbose=False)),\n",
    "    ]\n",
    ")"
   ]
  },
  {
   "cell_type": "code",
   "execution_count": 199,
   "metadata": {},
   "outputs": [
    {
     "name": "stdout",
     "output_type": "stream",
     "text": [
      "[Memory]0.0s, 0.0min    : Loading _fit_transform_one from C:\\Users\\SAURAB~1\\AppData\\Local\\Temp\\tmprhxswfwu\\joblib\\sklearn\\pipeline\\_fit_transform_one\\d4a670e7912a5b6ccefaaf43662ef902\n",
      "___________________________________fit_transform_one cache loaded - 0.0s, 0.0min\n",
      "[Memory]2.2s, 0.0min    : Loading _fit_transform_one from C:\\Users\\SAURAB~1\\AppData\\Local\\Temp\\tmprhxswfwu\\joblib\\sklearn\\pipeline\\_fit_transform_one\\a5524cd9a1f321c3b97ce6b0519064aa\n",
      "___________________________________fit_transform_one cache loaded - 0.0s, 0.0min\n",
      "[Pipeline] ........... (step 3 of 3) Processing ordinal, total=   0.1s\n",
      "[ColumnTransformer] ... (1 of 2) Processing categorical, total=   2.5s\n",
      "[Memory]0.0s, 0.0min    : Loading _fit_transform_one from C:\\Users\\SAURAB~1\\AppData\\Local\\Temp\\tmprhxswfwu\\joblib\\sklearn\\pipeline\\_fit_transform_one\\bf548c27c1a9d7a12cc73a0333f28c09\n",
      "___________________________________fit_transform_one cache loaded - 0.0s, 0.0min\n",
      "[Pipeline] ............ (step 2 of 2) Processing scaler, total=   0.0s\n",
      "[ColumnTransformer] ..... (2 of 2) Processing numerical, total=   0.1s\n",
      "======================================== ExtraTreesClassifier(max_features=0.9883164239821786, min_samples_leaf=5,\n",
      "                     n_estimators=14, n_jobs=1, random_state=0, verbose=False) ==================================================\n",
      "======================================== Training Metrics ==================================================\n",
      "Accuracy score is 0.9878108372244543\n",
      "Precision score is 0.9943983867353798\n",
      "Recall score is 0.9127930892636775\n",
      "F1 score is 0.9518498659517427\n",
      "AUC ROC score is 0.956005601990943\n",
      "Classification Report is \n",
      "               precision    recall  f1-score   support\n",
      "\n",
      "           0       0.99      1.00      0.99     31974\n",
      "           1       0.99      0.91      0.95      4862\n",
      "\n",
      "    accuracy                           0.99     36836\n",
      "   macro avg       0.99      0.96      0.97     36836\n",
      "weighted avg       0.99      0.99      0.99     36836\n",
      "\n"
     ]
    },
    {
     "data": {
      "image/png": "[encoded data removed]",
      "text/plain": [
       "<Figure size 432x288 with 2 Axes>"
      ]
     },
     "metadata": {
      "needs_background": "light"
     },
     "output_type": "display_data"
    },
    {
     "name": "stdout",
     "output_type": "stream",
     "text": [
      "======================================== Testing Metrics ==================================================\n",
      "Accuracy score is 0.8921824104234528\n",
      "Precision score is 0.6881720430107527\n",
      "Recall score is 0.40219952867242736\n",
      "F1 score is 0.5076846802181457\n",
      "AUC ROC score is 0.6864846704720333\n",
      "Classification Report is \n",
      "               precision    recall  f1-score   support\n",
      "\n",
      "           0       0.91      0.97      0.94      7937\n",
      "           1       0.69      0.40      0.51      1273\n",
      "\n",
      "    accuracy                           0.89      9210\n",
      "   macro avg       0.80      0.69      0.72      9210\n",
      "weighted avg       0.88      0.89      0.88      9210\n",
      "\n"
     ]
    },
    {
     "data": {
      "image/png": "[encoded data removed]",
      "text/plain": [
       "<Figure size 432x288 with 2 Axes>"
      ]
     },
     "metadata": {
      "needs_background": "light"
     },
     "output_type": "display_data"
    }
   ],
   "source": [
    "fit_predict(extratrees_smt_pipeline)"
   ]
  },
  {
   "cell_type": "code",
   "execution_count": 201,
   "metadata": {},
   "outputs": [
    {
     "name": "stdout",
     "output_type": "stream",
     "text": [
      "[Memory]0.0s, 0.0min    : Loading _fit_transform_one from C:\\Users\\SAURAB~1\\AppData\\Local\\Temp\\tmprhxswfwu\\joblib\\sklearn\\pipeline\\_fit_transform_one\\d4a670e7912a5b6ccefaaf43662ef902\n",
      "___________________________________fit_transform_one cache loaded - 0.0s, 0.0min\n",
      "[Memory]2.2s, 0.0min    : Loading _fit_transform_one from C:\\Users\\SAURAB~1\\AppData\\Local\\Temp\\tmprhxswfwu\\joblib\\sklearn\\pipeline\\_fit_transform_one\\a5524cd9a1f321c3b97ce6b0519064aa\n",
      "___________________________________fit_transform_one cache loaded - 0.0s, 0.0min\n",
      "[Pipeline] ........... (step 3 of 3) Processing ordinal, total=   0.1s\n",
      "[ColumnTransformer] ... (1 of 2) Processing categorical, total=   2.4s\n",
      "[Memory]0.0s, 0.0min    : Loading _fit_transform_one from C:\\Users\\SAURAB~1\\AppData\\Local\\Temp\\tmprhxswfwu\\joblib\\sklearn\\pipeline\\_fit_transform_one\\bf548c27c1a9d7a12cc73a0333f28c09\n",
      "___________________________________fit_transform_one cache loaded - 0.0s, 0.0min\n",
      "[Pipeline] ............ (step 2 of 2) Processing scaler, total=   0.0s\n",
      "[ColumnTransformer] ..... (2 of 2) Processing numerical, total=   0.1s\n",
      "======================================== ExtraTreesClassifier(max_features=0.9883164239821786, min_samples_leaf=5,\n",
      "                     n_estimators=14, n_jobs=1, random_state=0, verbose=False) ==================================================\n",
      "======================================== Training Metrics ==================================================\n",
      "Accuracy score is 0.9986154848517754\n",
      "Precision score is 0.9924257932446264\n",
      "Recall score is 0.9971205265322912\n",
      "F1 score is 0.994767620806402\n",
      "AUC ROC score is 0.9979816681576199\n",
      "Classification Report is \n",
      "               precision    recall  f1-score   support\n",
      "\n",
      "           0       1.00      1.00      1.00     31974\n",
      "           1       0.99      1.00      0.99      4862\n",
      "\n",
      "    accuracy                           1.00     36836\n",
      "   macro avg       1.00      1.00      1.00     36836\n",
      "weighted avg       1.00      1.00      1.00     36836\n",
      "\n"
     ]
    },
    {
     "data": {
      "image/png": "[encoded data removed]",
      "text/plain": [
       "<Figure size 432x288 with 2 Axes>"
      ]
     },
     "metadata": {
      "needs_background": "light"
     },
     "output_type": "display_data"
    },
    {
     "name": "stdout",
     "output_type": "stream",
     "text": [
      "======================================== Testing Metrics ==================================================\n",
      "Accuracy score is 0.884799131378936\n",
      "Precision score is 0.603515625\n",
      "Recall score is 0.48546739984289083\n",
      "F1 score is 0.5380931649978232\n",
      "AUC ROC score is 0.7171572856591297\n",
      "Classification Report is \n",
      "               precision    recall  f1-score   support\n",
      "\n",
      "           0       0.92      0.95      0.93      7937\n",
      "           1       0.60      0.49      0.54      1273\n",
      "\n",
      "    accuracy                           0.88      9210\n",
      "   macro avg       0.76      0.72      0.74      9210\n",
      "weighted avg       0.88      0.88      0.88      9210\n",
      "\n"
     ]
    },
    {
     "data": {
      "image/png": "[encoded data removed]",
      "text/plain": [
       "<Figure size 432x288 with 2 Axes>"
      ]
     },
     "metadata": {
      "needs_background": "light"
     },
     "output_type": "display_data"
    }
   ],
   "source": [
    "fit_predict(extratrees_randover_pipeline)"
   ]
  },
  {
   "cell_type": "code",
   "execution_count": 186,
   "metadata": {},
   "outputs": [
    {
     "name": "stdout",
     "output_type": "stream",
     "text": [
      "100%|█████████████████████████████████████████████████| 1/1 [01:27<00:00, 87.14s/trial, best loss: 0.11522801302931596]\n",
      "100%|█████████████████████████████████████████████████| 2/2 [00:48<00:00, 48.98s/trial, best loss: 0.09405537459283386]\n",
      "100%|█████████████████████████████████████████████████| 3/3 [01:29<00:00, 89.72s/trial, best loss: 0.09405537459283386]\n",
      "100%|█████████████████████████████████████████████████| 4/4 [00:04<00:00,  4.61s/trial, best loss: 0.09405537459283386]\n",
      "100%|█████████████████████████████████████████████████| 5/5 [00:15<00:00, 15.31s/trial, best loss: 0.09405537459283386]\n",
      "100%|████████████████████████████████████████████████| 6/6 [02:43<00:00, 163.84s/trial, best loss: 0.09378393051031486]\n",
      "100%|██████████████████████████████████████████████████| 7/7 [00:17<00:00, 17.90s/trial, best loss: 0.0912052117263844]\n",
      "100%|██████████████████████████████████████████████████| 8/8 [00:26<00:00, 26.99s/trial, best loss: 0.0912052117263844]\n",
      "100%|██████████████████████████████████████████████████| 9/9 [00:54<00:00, 54.58s/trial, best loss: 0.0912052117263844]\n",
      "100%|████████████████████████████████████████████████| 10/10 [00:11<00:00, 11.36s/trial, best loss: 0.0912052117263844]\n"
     ]
    },
    {
     "data": {
      "text/plain": [
       "0.9066232356134636"
      ]
     },
     "execution_count": 186,
     "metadata": {},
     "output_type": "execute_result"
    },
    {
     "data": {
      "text/plain": [
       "RandomForestClassifier(bootstrap=False, max_features=0.440238968203593,\n",
       "                       n_estimators=88, n_jobs=1, random_state=3,\n",
       "                       verbose=False)"
      ]
     },
     "execution_count": 186,
     "metadata": {},
     "output_type": "execute_result"
    }
   ],
   "source": [
    "estim_rfc = HyperoptEstimator(\n",
    "    classifier=random_forest(\"rfc_clf\"),\n",
    "    preprocessing=[],\n",
    "    algo=tpe.suggest,\n",
    "    max_evals=10,\n",
    "    trial_timeout=600,\n",
    ")\n",
    "\n",
    "estim_rfc.fit(X_train_transformed.to_numpy(), y_train)\n",
    "\n",
    "estim_rfc.score(X_test_transformed.to_numpy(), y_test)\n",
    "\n",
    "estim_rfc.best_model()[\"learner\"]"
   ]
  },
  {
   "cell_type": "code",
   "execution_count": 190,
   "metadata": {},
   "outputs": [],
   "source": [
    "rfc_hp_pipeline = Pipeline(\n",
    "    [\n",
    "        (\"Preprocessing Step\", preprocessing_pipeline),\n",
    "        (\"RandomForest_Classifier\", RandomForestClassifier(bootstrap=False, max_features=0.440238968203593,\n",
    "                       n_estimators=88, n_jobs=1, random_state=3,\n",
    "                       verbose=False)),\n",
    "    ]\n",
    ")\n",
    "\n",
    "# RandomForestClassifier(bootstrap=False, max_features=0.3420586570483586,\n",
    "#                        n_estimators=133, n_jobs=1, random_state=0,\n",
    "#                        verbose=False)"
   ]
  },
  {
   "cell_type": "code",
   "execution_count": 191,
   "metadata": {},
   "outputs": [
    {
     "name": "stdout",
     "output_type": "stream",
     "text": [
      "[Memory]0.0s, 0.0min    : Loading _fit_transform_one from C:\\Users\\SAURAB~1\\AppData\\Local\\Temp\\tmprhxswfwu\\joblib\\sklearn\\pipeline\\_fit_transform_one\\d4a670e7912a5b6ccefaaf43662ef902\n",
      "___________________________________fit_transform_one cache loaded - 0.1s, 0.0min\n",
      "[Memory]5.4s, 0.1min    : Loading _fit_transform_one from C:\\Users\\SAURAB~1\\AppData\\Local\\Temp\\tmprhxswfwu\\joblib\\sklearn\\pipeline\\_fit_transform_one\\a5524cd9a1f321c3b97ce6b0519064aa\n",
      "___________________________________fit_transform_one cache loaded - 0.0s, 0.0min\n",
      "[Pipeline] ........... (step 3 of 3) Processing ordinal, total=   0.2s\n",
      "[ColumnTransformer] ... (1 of 2) Processing categorical, total=   5.7s\n",
      "[Memory]0.0s, 0.0min    : Loading _fit_transform_one from C:\\Users\\SAURAB~1\\AppData\\Local\\Temp\\tmprhxswfwu\\joblib\\sklearn\\pipeline\\_fit_transform_one\\bf548c27c1a9d7a12cc73a0333f28c09\n",
      "___________________________________fit_transform_one cache loaded - 0.0s, 0.0min\n",
      "[Pipeline] ............ (step 2 of 2) Processing scaler, total=   0.0s\n",
      "[ColumnTransformer] ..... (2 of 2) Processing numerical, total=   0.1s\n",
      "======================================== RandomForestClassifier(bootstrap=False, max_features=0.440238968203593,\n",
      "                       n_estimators=88, n_jobs=1, random_state=3,\n",
      "                       verbose=False) ==================================================\n",
      "======================================== Training Metrics ==================================================\n",
      "Accuracy score is 1.0\n",
      "Precision score is 1.0\n",
      "Recall score is 1.0\n",
      "F1 score is 1.0\n",
      "AUC ROC score is 1.0\n",
      "Classification Report is \n",
      "               precision    recall  f1-score   support\n",
      "\n",
      "           0       1.00      1.00      1.00     31974\n",
      "           1       1.00      1.00      1.00      4862\n",
      "\n",
      "    accuracy                           1.00     36836\n",
      "   macro avg       1.00      1.00      1.00     36836\n",
      "weighted avg       1.00      1.00      1.00     36836\n",
      "\n"
     ]
    },
    {
     "data": {
      "image/png": "[encoded data removed]",
      "text/plain": [
       "<Figure size 432x288 with 2 Axes>"
      ]
     },
     "metadata": {
      "needs_background": "light"
     },
     "output_type": "display_data"
    },
    {
     "name": "stdout",
     "output_type": "stream",
     "text": [
      "======================================== Testing Metrics ==================================================\n",
      "Accuracy score is 0.9066232356134636\n",
      "Precision score is 0.8680926916221033\n",
      "Recall score is 0.38256087981146897\n",
      "F1 score is 0.5310796074154853\n",
      "AUC ROC score is 0.686618728931815\n",
      "Classification Report is \n",
      "               precision    recall  f1-score   support\n",
      "\n",
      "           0       0.91      0.99      0.95      7937\n",
      "           1       0.87      0.38      0.53      1273\n",
      "\n",
      "    accuracy                           0.91      9210\n",
      "   macro avg       0.89      0.69      0.74      9210\n",
      "weighted avg       0.90      0.91      0.89      9210\n",
      "\n"
     ]
    },
    {
     "data": {
      "image/png": "[encoded data removed]",
      "text/plain": [
       "<Figure size 432x288 with 2 Axes>"
      ]
     },
     "metadata": {
      "needs_background": "light"
     },
     "output_type": "display_data"
    }
   ],
   "source": [
    "fit_predict(rfc_hp_pipeline)"
   ]
  },
  {
   "cell_type": "code",
   "execution_count": 192,
   "metadata": {},
   "outputs": [],
   "source": [
    "rfc_smote_pipeline = imb_pipeline.Pipeline(\n",
    "    [\n",
    "        (\"Preprocessing Step\", preprocessing_pipeline),\n",
    "        (\"Smote Sampling\", smt),\n",
    "        (\"RandomForest_Classifier\", RandomForestClassifier(bootstrap=False, max_features=0.440238968203593,\n",
    "                       n_estimators=88, n_jobs=1, random_state=3,\n",
    "                       verbose=False)),\n",
    "    ]\n",
    ")\n",
    "\n",
    "# RandomForestClassifier(bootstrap=False, max_features=0.3420586570483586,\n",
    "#                        n_estimators=133, n_jobs=1, random_state=0,\n",
    "#                        verbose=False)"
   ]
  },
  {
   "cell_type": "code",
   "execution_count": 202,
   "metadata": {},
   "outputs": [
    {
     "name": "stdout",
     "output_type": "stream",
     "text": [
      "[Memory]0.0s, 0.0min    : Loading _fit_transform_one from C:\\Users\\SAURAB~1\\AppData\\Local\\Temp\\tmprhxswfwu\\joblib\\sklearn\\pipeline\\_fit_transform_one\\d4a670e7912a5b6ccefaaf43662ef902\n",
      "___________________________________fit_transform_one cache loaded - 0.2s, 0.0min\n",
      "[Memory]7.2s, 0.1min    : Loading _fit_transform_one from C:\\Users\\SAURAB~1\\AppData\\Local\\Temp\\tmprhxswfwu\\joblib\\sklearn\\pipeline\\_fit_transform_one\\a5524cd9a1f321c3b97ce6b0519064aa\n",
      "___________________________________fit_transform_one cache loaded - 0.0s, 0.0min\n",
      "[Pipeline] ........... (step 3 of 3) Processing ordinal, total=   0.5s\n",
      "[ColumnTransformer] ... (1 of 2) Processing categorical, total=   7.9s\n",
      "[Memory]0.0s, 0.0min    : Loading _fit_transform_one from C:\\Users\\SAURAB~1\\AppData\\Local\\Temp\\tmprhxswfwu\\joblib\\sklearn\\pipeline\\_fit_transform_one\\bf548c27c1a9d7a12cc73a0333f28c09\n",
      "___________________________________fit_transform_one cache loaded - 0.0s, 0.0min\n",
      "[Pipeline] ............ (step 2 of 2) Processing scaler, total=   0.1s\n",
      "[ColumnTransformer] ..... (2 of 2) Processing numerical, total=   0.2s\n",
      "======================================== RandomForestClassifier(bootstrap=False, max_features=0.440238968203593,\n",
      "                       n_estimators=88, n_jobs=1, random_state=3,\n",
      "                       verbose=False) ==================================================\n",
      "======================================== Training Metrics ==================================================\n",
      "Accuracy score is 1.0\n",
      "Precision score is 1.0\n",
      "Recall score is 1.0\n",
      "F1 score is 1.0\n",
      "AUC ROC score is 1.0\n",
      "Classification Report is \n",
      "               precision    recall  f1-score   support\n",
      "\n",
      "           0       1.00      1.00      1.00     31974\n",
      "           1       1.00      1.00      1.00      4862\n",
      "\n",
      "    accuracy                           1.00     36836\n",
      "   macro avg       1.00      1.00      1.00     36836\n",
      "weighted avg       1.00      1.00      1.00     36836\n",
      "\n"
     ]
    },
    {
     "data": {
      "image/png": "[encoded data removed]",
      "text/plain": [
       "<Figure size 432x288 with 2 Axes>"
      ]
     },
     "metadata": {
      "needs_background": "light"
     },
     "output_type": "display_data"
    },
    {
     "name": "stdout",
     "output_type": "stream",
     "text": [
      "======================================== Testing Metrics ==================================================\n",
      "Accuracy score is 0.9145494028230184\n",
      "Precision score is 0.8491379310344828\n",
      "Recall score is 0.4642576590730558\n",
      "F1 score is 0.6003047232097511\n",
      "AUC ROC score is 0.7255142396411015\n",
      "Classification Report is \n",
      "               precision    recall  f1-score   support\n",
      "\n",
      "           0       0.92      0.99      0.95      7937\n",
      "           1       0.85      0.46      0.60      1273\n",
      "\n",
      "    accuracy                           0.91      9210\n",
      "   macro avg       0.88      0.73      0.78      9210\n",
      "weighted avg       0.91      0.91      0.90      9210\n",
      "\n"
     ]
    },
    {
     "data": {
      "image/png": "[encoded data removed]",
      "text/plain": [
       "<Figure size 432x288 with 2 Axes>"
      ]
     },
     "metadata": {
      "needs_background": "light"
     },
     "output_type": "display_data"
    }
   ],
   "source": [
    "fit_predict(rfc_smote_pipeline)"
   ]
  },
  {
   "cell_type": "code",
   "execution_count": 194,
   "metadata": {},
   "outputs": [],
   "source": [
    "rfc_randover_pipeline = imb_pipeline.Pipeline(\n",
    "    [\n",
    "        (\"Preprocessing Step\", preprocessing_pipeline),\n",
    "        (\"Smote Sampling\", random_oversampling),\n",
    "        (\"RandomForest_Classifier\", RandomForestClassifier(bootstrap=False, max_features=0.440238968203593,\n",
    "                       n_estimators=88, n_jobs=1, random_state=3,\n",
    "                       verbose=False)),\n",
    "    ]\n",
    ")\n",
    "\n",
    "# RandomForestClassifier(bootstrap=False, max_features=0.3420586570483586,\n",
    "#                        n_estimators=133, n_jobs=1, random_state=0,\n",
    "#                        verbose=False)"
   ]
  },
  {
   "cell_type": "code",
   "execution_count": 195,
   "metadata": {},
   "outputs": [
    {
     "name": "stdout",
     "output_type": "stream",
     "text": [
      "[Memory]0.0s, 0.0min    : Loading _fit_transform_one from C:\\Users\\SAURAB~1\\AppData\\Local\\Temp\\tmprhxswfwu\\joblib\\sklearn\\pipeline\\_fit_transform_one\\d4a670e7912a5b6ccefaaf43662ef902\n",
      "___________________________________fit_transform_one cache loaded - 0.0s, 0.0min\n",
      "[Memory]2.5s, 0.0min    : Loading _fit_transform_one from C:\\Users\\SAURAB~1\\AppData\\Local\\Temp\\tmprhxswfwu\\joblib\\sklearn\\pipeline\\_fit_transform_one\\a5524cd9a1f321c3b97ce6b0519064aa\n",
      "___________________________________fit_transform_one cache loaded - 0.0s, 0.0min\n",
      "[Pipeline] ........... (step 3 of 3) Processing ordinal, total=   0.1s\n",
      "[ColumnTransformer] ... (1 of 2) Processing categorical, total=   2.8s\n",
      "[Memory]0.0s, 0.0min    : Loading _fit_transform_one from C:\\Users\\SAURAB~1\\AppData\\Local\\Temp\\tmprhxswfwu\\joblib\\sklearn\\pipeline\\_fit_transform_one\\bf548c27c1a9d7a12cc73a0333f28c09\n",
      "___________________________________fit_transform_one cache loaded - 0.0s, 0.0min\n",
      "[Pipeline] ............ (step 2 of 2) Processing scaler, total=   0.0s\n",
      "[ColumnTransformer] ..... (2 of 2) Processing numerical, total=   0.1s\n",
      "======================================== RandomForestClassifier(bootstrap=False, max_features=0.440238968203593,\n",
      "                       n_estimators=88, n_jobs=1, random_state=3,\n",
      "                       verbose=False) ==================================================\n",
      "======================================== Training Metrics ==================================================\n",
      "Accuracy score is 1.0\n",
      "Precision score is 1.0\n",
      "Recall score is 1.0\n",
      "F1 score is 1.0\n",
      "AUC ROC score is 1.0\n",
      "Classification Report is \n",
      "               precision    recall  f1-score   support\n",
      "\n",
      "           0       1.00      1.00      1.00     31974\n",
      "           1       1.00      1.00      1.00      4862\n",
      "\n",
      "    accuracy                           1.00     36836\n",
      "   macro avg       1.00      1.00      1.00     36836\n",
      "weighted avg       1.00      1.00      1.00     36836\n",
      "\n"
     ]
    },
    {
     "data": {
      "image/png": "[encoded data removed]",
      "text/plain": [
       "<Figure size 432x288 with 2 Axes>"
      ]
     },
     "metadata": {
      "needs_background": "light"
     },
     "output_type": "display_data"
    },
    {
     "name": "stdout",
     "output_type": "stream",
     "text": [
      "======================================== Testing Metrics ==================================================\n",
      "Accuracy score is 0.899457111834962\n",
      "Precision score is 0.8160291438979964\n",
      "Recall score is 0.3519245875883739\n",
      "F1 score is 0.4917672886937431\n",
      "AUC ROC score is 0.669599688275729\n",
      "Classification Report is \n",
      "               precision    recall  f1-score   support\n",
      "\n",
      "           0       0.90      0.99      0.94      7937\n",
      "           1       0.82      0.35      0.49      1273\n",
      "\n",
      "    accuracy                           0.90      9210\n",
      "   macro avg       0.86      0.67      0.72      9210\n",
      "weighted avg       0.89      0.90      0.88      9210\n",
      "\n"
     ]
    },
    {
     "data": {
      "image/png": "[encoded data removed]",
      "text/plain": [
       "<Figure size 432x288 with 2 Axes>"
      ]
     },
     "metadata": {
      "needs_background": "light"
     },
     "output_type": "display_data"
    }
   ],
   "source": [
    "fit_predict(rfc_randover_pipeline)"
   ]
  },
  {
   "cell_type": "code",
   "execution_count": null,
   "metadata": {},
   "outputs": [],
   "source": []
  }
 ],
 "metadata": {
  "kernelspec": {
   "display_name": "Python 3",
   "language": "python",
   "name": "python3"
  },
  "language_info": {
   "codemirror_mode": {
    "name": "ipython",
    "version": 3
   },
   "file_extension": ".py",
   "mimetype": "text/x-python",
   "name": "python",
   "nbconvert_exporter": "python",
   "pygments_lexer": "ipython3",
   "version": "3.7.7"
  }
 },
 "nbformat": 4,
 "nbformat_minor": 2
}
