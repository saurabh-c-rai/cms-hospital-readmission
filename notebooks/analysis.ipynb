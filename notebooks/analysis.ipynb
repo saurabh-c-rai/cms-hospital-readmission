{
 "cells": [
  {
   "cell_type": "markdown",
   "metadata": {},
   "source": [
    "# CMS Readmission Analysis\n",
    "\n",
    "Approximately 4.3 million hospital readmissions occur each year in the U.S., costing more than \\\\$ 60 billion, with preventable adverse patient events creating additional clinical and financial burdens for both patients and healthcare systems.\n",
    "\n",
    "Total Medicare penalties assessed on hospitals for readmissions increased to \\\\$ 528 million in 2017, \\\\$ 108 million more than in 2016. The increase is due mostly to more medical conditions being measured. Hospital fines will average less than 1 percent of their Medicare inpatient payments."
   ]
  },
  {
   "cell_type": "markdown",
   "metadata": {},
   "source": [
    "## Problem Statement\n",
    "\n",
    "1. Use AI methodologies to predict unplanned hospital and Skilled Nursing\n",
    "Facilities admissions and adverse events within 30 days for Medicare\n",
    "beneficiaries, based on a data set of Medicare administrative claims data,\n",
    "including Medicare Part A (hospital) and Medicare Part B (professional\n",
    "services).\n",
    "2. Develop innovative strategies and methodologies to: explain the AI-derived\n",
    "predictions to front-line clinicians and patients to aid in providing appropriate\n",
    "clinical resources to model participants"
   ]
  },
  {
   "cell_type": "markdown",
   "metadata": {},
   "source": [
    "## About the dataset\n",
    "\n",
    "The dataset is divided into 20 samples. Each samples contains below zipped csv files :-\n",
    "\n",
    "- Beneficiary_Summary_File_Sample_1 : 3 files containing beneficiary summary for 2008, 2009 & 2010\n",
    "- 2008_to_2010_Inpatient_Claims_Sample_1 : files containing inpatient claim details for 2008-2010\n",
    "- 2008_to_2010_Outpatient_Claims_Sample_1 : files containing outpatient claim details for 2008-2010\n",
    "- 2008_to_2010_Carrier_Claims_Sample_1 : 2 files containing carrier claim details of A & B for 2008-2010\n",
    "- Prescription_Drug_Events_Sample_1 : file containing drug events for 2008-2009"
   ]
  },
  {
   "cell_type": "markdown",
   "metadata": {},
   "source": [
    "The CMS Beneficiary Summary DE-SynPUF contains 32 variables. Each record pertains to a\n",
    "synthetic Medicare beneficiary and contains:\n",
    "\n",
    "|# |Variable names | Labels |\n",
    "|:----|:-----|:-----|\n",
    "| 1 | DESYNPUF_ID | DESYNPUF: Beneficiary Code|\n",
    "| 2 | BENE_BIRTH_DT | DESYNPUF: Date of birth|\n",
    "| 3 | BENE_DEATH_DT | DESYNPUF: Date of death|\n",
    "| 4 | BENE_SEX_IDENT_CD | DESYNPUF: Sex|\n",
    "| 5 | BENE_RACE_CD | DESYNPUF: Beneficiary Race Code|\n",
    "| 6 | BENE_ESRD_IND | DESYNPUF: End stage renal disease Indicator|\n",
    "| 7 | SP_STATE_CODE | DESYNPUF: State Code|\n",
    "| 8 | BENE_COUNTY_CD | DESYNPUF: County Code|\n",
    "| 9 | BENE_HI_CVRAGE_TOT_MONS | DESYNPUF: Total number of months of part A coverage for the beneficiary.|\n",
    "| 10 | BENE_SMI_CVRAGE_TOT_MONS | DESYNPUF: Total number of months of part B coverage for the beneficiary.|\n",
    "| 11 | BENE_HMO_CVRAGE_TOT_MONS | DESYNPUF: Total number of months of HMO coverage for the beneficiary.|\n",
    "| 12 | PLAN_CVRG_MOS_NUM | DESYNPUF: Total number of months of part D plan coverage for the beneficiary.|\n",
    "| 13 | SP_ALZHDMTA | DESYNPUF: Chronic Condition: Alzheimer or related disorders or senile|\n",
    "| 14 | SP_CHF | DESYNPUF: Chronic Condition: Heart Failure|\n",
    "| 15 | SP_CHRNKIDN | DESYNPUF: Chronic Condition: Chronic Kidney Disease|\n",
    "| 16 | SP_CNCR | DESYNPUF: Chronic Condition: Cancer|\n",
    "| 17 | SP_COPD | DESYNPUF: Chronic Condition: Chronic Obstructive Pulmonary Disease|\n",
    "| 18 | SP_DEPRESSN | DESYNPUF: Chronic Condition: Depression|\n",
    "| 19 | SP_DIABETES | DESYNPUF: Chronic Condition: Diabetes|\n",
    "| 20 | SP_ISCHMCHT | DESYNPUF: Chronic Condition: Ischemic Heart Disease|\n",
    "| 21 | SP_OSTEOPRS | DESYNPUF: Chronic Condition: Osteoporosis|\n",
    "| 22 | SP_RA_OA | DESYNPUF: Chronic Condition: rheumatoid arthritis and osteoarthritis (RA/OA)|\n",
    "| 23 | SP_STRKETIA | DESYNPUF: Chronic Condition: Stroke/transient Ischemic Attack|\n",
    "| 24 | MEDREIMB_IP | DESYNPUF: Inpatient annual Medicare reimbursement amount|\n",
    "| 25 | BENRES_IP | DESYNPUF: Inpatient annual beneficiary responsibility amount|\n",
    "| 26 | PPPYMT_IP | DESYNPUF: Inpatient annual primary payer reimbursement amount|\n",
    "| 27 | MEDREIMB_OP | DESYNPUF: Outpatient Institutional annual Medicare reimbursement amount|\n",
    "| 28 | BENRES_OP | DESYNPUF: Outpatient Institutional annual beneficiary responsibility amount|\n",
    "| 29 | PPPYMT_OP | DESYNPUF: Outpatient Institutional annual primary payer reimbursement amount|\n",
    "| 30 | MEDREIMB_CAR | DESYNPUF: Carrier annual Medicare reimbursement amount|\n",
    "| 31 | BENRES_CAR | DESYNPUF: Carrier annual beneficiary responsibility amount|\n",
    "| 32 | PPPYMT_CAR | DESYNPUF: Carrier annual primary payer reimbursement amount                                     |"
   ]
  },
  {
   "cell_type": "markdown",
   "metadata": {},
   "source": [
    "The CMS Inpatient Claims DE-SynPUF contains 81 variables. Each record pertains to a synthetic\n",
    "inpatient claim and contains:\n",
    "\n",
    "|# |Variable names | Labels |\n",
    "|:----|:-----|:-----|\n",
    "| 1 | DESYNPUF_ID |DESYNPUF: Beneficiary Code|\n",
    "| 2 | CLM_ID |DESYNPUF: Claim ID|\n",
    "| 3 | SEGMENT |DESYNPUF: Claim Line Segment|\n",
    "| 4 | CLM_FROM_DT |DESYNPUF: Claims start date|\n",
    "| 5 | CLM_THRU_DT |DESYNPUF: Claims end date|\n",
    "| 6 | PRVDR_NUM |DESYNPUF: Provider Institution|\n",
    "| 7 | CLM_PMT_AMT |DESYNPUF: Claim Payment Amount|\n",
    "| 8 | NCH_PRMRY_PYR_CLM_PD_AMT |DESYNPUF: NCH Primary Payer Claim Paid Amount|\n",
    "| 9 | AT_PHYSN_NPI |DESYNPUF: Attending Physician – National Provider Identifier Number|\n",
    "| 10| OP_PHYSN_NPI |DESYNPUF: Operating Physician – National Provider Identifier Number|\n",
    "| 11| OT_PHYSN_NPI |DESYNPUF: Other Physician – National Provider Identifier Number|\n",
    "| 12| CLM_ADMSN_DT | DESYNPUF: Inpatient admission date|\n",
    "| 13| ADMTNG_ICD9_DGNS_CD | DESYNPUF: Claim Admitting Diagnosis Code|\n",
    "| 14| CLM_PASS_THRU_PER_DIEM_AMT | DESYNPUF: Claim Pass Thru Per Diem Amount|\n",
    "| 15| NCH_BENE_IP_DDCTBL_AMT | DESYNPUF: NCH Beneficiary Inpatient Deductible Amount|\n",
    "| 16| NCH_BENE_PTA_COINSRNC_LBLTY_AM | DESYNPUF: NCH Beneficiary Part A Coinsurance Liability Amount|\n",
    "| 17| NCH_BENE_BLOOD_DDCTBL_LBLTY_AM | DESYNPUF: NCH Beneficiary Blood Deductible Liability Amount|\n",
    "| 18| CLM_UTLZTN_DAY_CNT | DESYNPUF: Claim Utilization Day Count|\n",
    "| 19| NCH_BENE_DSCHRG_DT | DESYNPUF: Inpatient discharged date|\n",
    "| 20| CLM_DRG_CD | DESYNPUF: Claim Diagnosis Related Group Code|\n",
    "| 21-30| ICD9_DGNS_CD_1 – ICD9_DGNS_CD_10 | DESYNPUF: Claim Diagnosis Code 1 – Claim Diagnosis Code 10|\n",
    "| 31-36|ICD9_PRCDR_CD_1 – ICD9_PRCDR_CD_6 | DESYNPUF: Claim Procedure Code 1 – Claim Procedure Code 6|\n",
    "|37-81| HCPCS_CD_1 – HCPCS_CD_45 | DESYNPUF: Revenue Center HCFA Common Procedure Coding System 1 – Revenue Center HCFA Common Procedure Coding System 45|"
   ]
  },
  {
   "cell_type": "markdown",
   "metadata": {},
   "source": [
    "The CMS Outpatient Claims DE-SynPUF contains 76 variables. Each record pertains to a synthetic\n",
    "outpatient claim and contains:\n",
    "\n",
    "|# |Variable names | Labels |\n",
    "|:----|:-----|:-----|\n",
    "| 1 | DESYNPUF_ID | DESYNPUF: Beneficiary Code|\n",
    "| 2 | CLM_ID | DESYNPUF: Claim ID|\n",
    "| 3 | SEGMENT | DESYNPUF: Claim Line Segment|\n",
    "| 4 | CLM_FROM_DT | DESYNPUF: Claims start date|\n",
    "| 5 | CLM_THRU_DT | DESYNPUF: Claims end date|\n",
    "| 6 | PRVDR_NUM | DESYNPUF: Provider Institution|\n",
    "| 7 | CLM_PMT_AMT | DESYNPUF: Claim Payment Amount|\n",
    "| 8 | NCH_PRMRY_PYR_CLM_PD_AMT | DESYNPUF: NCH Primary Payer Claim Paid Amount|\n",
    "| 9 | AT_PHYSN_NPI | DESYNPUF: Attending Physician – National Provider Identifier Number|\n",
    "| 10| OP_PHYSN_NPI | DESYNPUF: Operating Physician – National Provider Identifier Number|\n",
    "| 11| OT_PHYSN_NPI | DESYNPUF: Other Physician – National Provider Identifier Number|\n",
    "| 12| NCH_BENE_BLOOD_DDCTBL_LBLTY_AM | DESYNPUF: NCH Beneficiary Blood Deductible Liability Amount|\n",
    "| 13 -22| ICD9_DGNS_CD_1 – ICD9_DGNS_CD_10 | DESYNPUF: Claim Diagnosis Code 1 – Claim Diagnosis Code 10|\n",
    "| 23 -28| ICD9_PRCDR_CD_1 – ICD9_PRCDR_CD_6 | DESYNPUF: Claim Procedure Code 1 – Claim Procedure Code 6|\n",
    "| 29| NCH_BENE_PTB_DDCTBL_AMT | DESYNPUF: NCH Beneficiary Part B Deductible Amount|\n",
    "| 30| NCH_BENE_PTB_COINSRNC_AMT | DESYNPUF: NCH Beneficiary Part B Coinsurance Amount|\n",
    "| 31| ADMTNG_ICD9_DGNS_CD | DESYNPUF: Claim Admitting Diagnosis Code|\n",
    "| 32 -76| HCPCS_CD_1 – HCPCS_CD_45| DESYNPUF: Revenue Center HCFA Common Procedure Coding System 1 – Revenue Center HCFA Common Procedure Coding System 45|"
   ]
  },
  {
   "cell_type": "markdown",
   "metadata": {},
   "source": [
    "The CMS Carrier Claims DE-SynPUF contains 142 variables. Each record pertains to a synthetic\n",
    "physician/supplier claim and contains:\n",
    "\n",
    "|# |Variable names | Labels |\n",
    "|:----|:-----|:-----|\n",
    "| 1 | DESYNPUF_ID | DESYNPUF: Beneficiary Code|\n",
    "| 2 | CLM_ID | DESYNPUF: Claim ID|\n",
    "| 3 | CLM_FROM_DT | DESYNPUF: Claims start date|\n",
    "| 4 | CLM_THRU_DT | DESYNPUF: Claims end date|\n",
    "| 5-12 | ICD9_DGNS_CD_1 – ICD9_DGNS_CD_8 | DESYNPUF: Claim Diagnosis Code 1 – Claim Diagnosis Code 8|\n",
    "| 13-25|  PRF_PHYSN_NPI_1 – PRF_PHYSN_NPI_13 | DESYNPUF: Provider Physician – National Provider Identifier Number|\n",
    "| 26-38|  TAX_NUM_1 – TAX_NUM_13 | DESYNPUF: Provider Institution Tax Number|\n",
    "| 39-51|  HCPCS_CD_1 – HCPCS_CD_13 | DESYNPUF: Line HCFA Common Procedure Coding System 1 – Line HCFA Common Procedure Coding System 13|\n",
    "| 52-64|  LINE_NCH_PMT_AMT_1 – LINE_NCH_PMT_AMT_13 | DESYNPUF: Line NCH Payment Amount 1 – Line NCH Payment Amount 13|\n",
    "| 65-77|  LINE_BENE_PTB_DDCTBL_AMT_1 – LINE_BENE_PTB_DDCTBL_AMT_13 | DESYNPUF: Line Beneficiary Part B Deductible Amount 1 – Line Beneficiary Part B Deductible Amount 13|\n",
    "| 78-90|  LINE_BENE_PRMRY_PYR_PD_AMT_1 – LINE_BENE_PRMRY_PYR_PD_AMT_13 | DESYNPUF: Line Beneficiary Primary Payer Paid Amount 1 – Line Beneficiary Primary Payer Paid Amount 13|\n",
    "| 91-103 |  LINE_COINSRNC_AMT_1 – LINE_COINSRNC_AMT_13 | DESYNPUF: Line Coinsurance Amount 1 – Line Coinsurance Amount 13|\n",
    "| 104-116|  LINE_ALOWD_CHRG_AMT_1 – LINE_ALOWD_CHRG_AMT_13 | DESYNPUF: Line Allowed Charge Amount 1 – Line Allowed Charge Amount 13|\n",
    "| 117-129|  LINE_PRCSG_IND_CD_1 – LINE_PRCSG_IND_CD_13 | DESYNPUF: Line Processing Indicator Code 1 – Line Processing Indicator Code13|\n",
    "|130-142| LINE_ICD9_DGNS_CD_1 – LINE_ICD9_DGNS_CD_13 | DESYNPUF: Line Diagnosis Code 1 – Line Diagnosis Code 13|"
   ]
  },
  {
   "cell_type": "markdown",
   "metadata": {},
   "source": [
    "The CMS Prescription Drug Events (PDE) DE-SynPUF contains 8 variables. Each record pertains to\n",
    "a synthetic Part D event and contains:\n",
    "\n",
    "|# |Variable names | Labels |\n",
    "|:----|:-----|:-----|\n",
    "| 1 | DESYNPUF_ID | DESYNPUF: Beneficiary Code|\n",
    "| 2 | PDE_ID | DESYNPUF: CCW Part D Event Number|\n",
    "| 3 | SRVC_DT | DESYNPUF: RX Service Date|\n",
    "| 4 | PROD_SRVC_ID | DESYNPUF: Product Service ID|\n",
    "| 5 | QTY_DSPNSD_NUM | DESYNPUF: Quantity Dispensed|\n",
    "| 6 | DAYS_SUPLY_NUM | DESYNPUF: Days Supply|\n",
    "| 7 | PTNT_PAY_AMT | DESYNPUF: Patient Pay Amount|\n",
    "| 8 | TOT_RX_CST_AMT | DESYNPUF: Gross Drug Cost|"
   ]
  },
  {
   "cell_type": "markdown",
   "metadata": {},
   "source": [
    "## Section 1 : \n",
    "### L1  Articulate and create workflow of your understanding and approach to problem given. It should clearly mention the roadmap of how you will build and provide insights to stakeholders."
   ]
  },
  {
   "cell_type": "markdown",
   "metadata": {},
   "source": [
    "- Get an understanding of the problem statement and define it terms of a machine learning problem\n",
    "- Load a sample of the dataset & perform EDA.\n",
    "- Merge the inpatient and beneficiary data to combine the hospital admission details with the beneficiary details.\n",
    "- Generate the target variable by comparing the difference between discharge and readmission date.\n",
    "- Form hypothesis whether the readmission rate is related to race of the patient and verify if it holds on the sample.\n",
    "- Check the correlation with the groups of numerical variables & categorical variables.\n",
    "- Perform a chi2 test on the categorical variables to test if its useful for prediction of target.\n",
    "- Run a classification algorithm to get a baseline score.\n",
    "- Improve the score by using feature engineering and selecting different models.\n",
    "- Expose the model as a flask API.\n",
    "- Create model using all the data on GCP."
   ]
  },
  {
   "cell_type": "markdown",
   "metadata": {},
   "source": [
    "### EDA on single Dataset"
   ]
  },
  {
   "cell_type": "markdown",
   "metadata": {},
   "source": [
    "### Importing necessary libraries"
   ]
  },
  {
   "cell_type": "code",
   "execution_count": 3,
   "metadata": {},
   "outputs": [],
   "source": [
    "# To print output of all the lines\n",
    "from IPython.core.interactiveshell import InteractiveShell\n",
    "\n",
    "InteractiveShell.ast_node_interactivity = \"all\""
   ]
  },
  {
   "cell_type": "code",
   "execution_count": 11,
   "metadata": {},
   "outputs": [],
   "source": [
    "import json"
   ]
  },
  {
   "cell_type": "code",
   "execution_count": 10,
   "metadata": {},
   "outputs": [],
   "source": [
    "import pandas as pd\n",
    "import numpy as np\n",
    "from matplotlib import pyplot as plt\n",
    "import seaborn as sns"
   ]
  },
  {
   "cell_type": "code",
   "execution_count": 4,
   "metadata": {},
   "outputs": [],
   "source": [
    "from sklearn.cluster import KMeans\n",
    "import warnings\n",
    "from sklearn.decomposition import PCA\n",
    "warnings.filterwarnings(\"ignore\")"
   ]
  },
  {
   "cell_type": "code",
   "execution_count": 5,
   "metadata": {},
   "outputs": [],
   "source": [
    "from utils import ExtractData"
   ]
  },
  {
   "cell_type": "code",
   "execution_count": 12,
   "metadata": {},
   "outputs": [],
   "source": [
    "# loading configuration values\n",
    "with open(\"../config.json\", \"r\") as f:\n",
    "    config = json.load(f)\n"
   ]
  },
  {
   "cell_type": "code",
   "execution_count": 13,
   "metadata": {},
   "outputs": [],
   "source": [
    "# configuration constant variables\n",
    "INFREQUENT_CATEGORY_CUT_OFF = config[3][\"INFREQUENT_CATEGORY_CUT_OFF\"]\n",
    "INFREQUENT_CATEGORY_LABEL = config[3][\"INFREQUENT_CATEGORY_LABEL\"]\n",
    "RANDOM_STATE = config[3][\"RANDOM_STATE\"]\n",
    "MISSING_VALUE_LABEL = config[3][\"MISSING_VALUE_LABEL\"]\n",
    "EDA_REPORT_LOCATION = config[1][\"eda_report_location\"]\n",
    "MODEL_REPOSITORY_LOCATION = config[1][\"model_repository_location\"]\n",
    "NON_NAN_THRESHOLD = config[0][\"threshold_nan\"]\n",
    "TEST_SIZE_FOR_SPLIT = config[3][\"TEST_SIZE_FOR_SPLIT\"]\n",
    "RANDOM_STATE = config[3][\"RANDOM_STATE\"]\n",
    "N_JOB_PARAM_VALUE = config[3][\"N_JOB_PARAM_VALUE\"]\n",
    "VERBOSE_PARAM_VALUE = config[3][\"VERBOSE_PARAM_VALUE\"]\n"
   ]
  },
  {
   "cell_type": "markdown",
   "metadata": {},
   "source": [
    "### Loading the dataset inpatient dataset"
   ]
  },
  {
   "cell_type": "code",
   "execution_count": 6,
   "metadata": {},
   "outputs": [],
   "source": [
    "fetch = ExtractData.FetchSubset(subset_list=[2])"
   ]
  },
  {
   "cell_type": "code",
   "execution_count": 14,
   "metadata": {},
   "outputs": [
    {
     "data": {
      "text/html": [
       "<div>\n",
       "<style scoped>\n",
       "    .dataframe tbody tr th:only-of-type {\n",
       "        vertical-align: middle;\n",
       "    }\n",
       "\n",
       "    .dataframe tbody tr th {\n",
       "        vertical-align: top;\n",
       "    }\n",
       "\n",
       "    .dataframe thead th {\n",
       "        text-align: right;\n",
       "    }\n",
       "</style>\n",
       "<table border=\"1\" class=\"dataframe\">\n",
       "  <thead>\n",
       "    <tr style=\"text-align: right;\">\n",
       "      <th></th>\n",
       "      <th>DESYNPUF_ID</th>\n",
       "      <th>CLM_ID</th>\n",
       "      <th>SEGMENT</th>\n",
       "      <th>CLM_FROM_DT</th>\n",
       "      <th>CLM_THRU_DT</th>\n",
       "      <th>PRVDR_NUM</th>\n",
       "      <th>CLM_PMT_AMT</th>\n",
       "      <th>NCH_PRMRY_PYR_CLM_PD_AMT</th>\n",
       "      <th>AT_PHYSN_NPI</th>\n",
       "      <th>OP_PHYSN_NPI</th>\n",
       "      <th>...</th>\n",
       "      <th>HCPCS_CD_36</th>\n",
       "      <th>HCPCS_CD_37</th>\n",
       "      <th>HCPCS_CD_38</th>\n",
       "      <th>HCPCS_CD_39</th>\n",
       "      <th>HCPCS_CD_40</th>\n",
       "      <th>HCPCS_CD_41</th>\n",
       "      <th>HCPCS_CD_42</th>\n",
       "      <th>HCPCS_CD_43</th>\n",
       "      <th>HCPCS_CD_44</th>\n",
       "      <th>HCPCS_CD_45</th>\n",
       "    </tr>\n",
       "  </thead>\n",
       "  <tbody>\n",
       "    <tr>\n",
       "      <th>0</th>\n",
       "      <td>00000B48BCF4AD29</td>\n",
       "      <td>45461150060934</td>\n",
       "      <td>1</td>\n",
       "      <td>2008-07-07</td>\n",
       "      <td>2008-07-18</td>\n",
       "      <td>1000GD</td>\n",
       "      <td>57000.0</td>\n",
       "      <td>0.0</td>\n",
       "      <td>1.219278e+09</td>\n",
       "      <td>7.451661e+09</td>\n",
       "      <td>...</td>\n",
       "      <td>NaN</td>\n",
       "      <td>NaN</td>\n",
       "      <td>NaN</td>\n",
       "      <td>NaN</td>\n",
       "      <td>NaN</td>\n",
       "      <td>NaN</td>\n",
       "      <td>NaN</td>\n",
       "      <td>NaN</td>\n",
       "      <td>NaN</td>\n",
       "      <td>NaN</td>\n",
       "    </tr>\n",
       "    <tr>\n",
       "      <th>1</th>\n",
       "      <td>00000B48BCF4AD29</td>\n",
       "      <td>45541150055035</td>\n",
       "      <td>1</td>\n",
       "      <td>2008-07-24</td>\n",
       "      <td>2008-07-26</td>\n",
       "      <td>1030RD</td>\n",
       "      <td>0.0</td>\n",
       "      <td>0.0</td>\n",
       "      <td>9.812675e+09</td>\n",
       "      <td>NaN</td>\n",
       "      <td>...</td>\n",
       "      <td>NaN</td>\n",
       "      <td>NaN</td>\n",
       "      <td>NaN</td>\n",
       "      <td>NaN</td>\n",
       "      <td>NaN</td>\n",
       "      <td>NaN</td>\n",
       "      <td>NaN</td>\n",
       "      <td>NaN</td>\n",
       "      <td>NaN</td>\n",
       "      <td>NaN</td>\n",
       "    </tr>\n",
       "    <tr>\n",
       "      <th>2</th>\n",
       "      <td>00000B48BCF4AD29</td>\n",
       "      <td>45731150068478</td>\n",
       "      <td>1</td>\n",
       "      <td>2008-08-05</td>\n",
       "      <td>2008-08-20</td>\n",
       "      <td>1001NA</td>\n",
       "      <td>24000.0</td>\n",
       "      <td>0.0</td>\n",
       "      <td>6.035410e+09</td>\n",
       "      <td>9.404475e+09</td>\n",
       "      <td>...</td>\n",
       "      <td>NaN</td>\n",
       "      <td>NaN</td>\n",
       "      <td>NaN</td>\n",
       "      <td>NaN</td>\n",
       "      <td>NaN</td>\n",
       "      <td>NaN</td>\n",
       "      <td>NaN</td>\n",
       "      <td>NaN</td>\n",
       "      <td>NaN</td>\n",
       "      <td>NaN</td>\n",
       "    </tr>\n",
       "    <tr>\n",
       "      <th>3</th>\n",
       "      <td>0000525AB30E4DEF</td>\n",
       "      <td>45811150057351</td>\n",
       "      <td>1</td>\n",
       "      <td>2008-05-25</td>\n",
       "      <td>2008-06-05</td>\n",
       "      <td>3900MB</td>\n",
       "      <td>4000.0</td>\n",
       "      <td>0.0</td>\n",
       "      <td>1.511429e+09</td>\n",
       "      <td>7.340276e+09</td>\n",
       "      <td>...</td>\n",
       "      <td>NaN</td>\n",
       "      <td>NaN</td>\n",
       "      <td>NaN</td>\n",
       "      <td>NaN</td>\n",
       "      <td>NaN</td>\n",
       "      <td>NaN</td>\n",
       "      <td>NaN</td>\n",
       "      <td>NaN</td>\n",
       "      <td>NaN</td>\n",
       "      <td>NaN</td>\n",
       "    </tr>\n",
       "    <tr>\n",
       "      <th>4</th>\n",
       "      <td>0000525AB30E4DEF</td>\n",
       "      <td>45391150058019</td>\n",
       "      <td>1</td>\n",
       "      <td>2008-09-18</td>\n",
       "      <td>2008-09-24</td>\n",
       "      <td>3100JN</td>\n",
       "      <td>8000.0</td>\n",
       "      <td>0.0</td>\n",
       "      <td>3.198318e+09</td>\n",
       "      <td>9.156656e+09</td>\n",
       "      <td>...</td>\n",
       "      <td>NaN</td>\n",
       "      <td>NaN</td>\n",
       "      <td>NaN</td>\n",
       "      <td>NaN</td>\n",
       "      <td>NaN</td>\n",
       "      <td>NaN</td>\n",
       "      <td>NaN</td>\n",
       "      <td>NaN</td>\n",
       "      <td>NaN</td>\n",
       "      <td>NaN</td>\n",
       "    </tr>\n",
       "  </tbody>\n",
       "</table>\n",
       "<p>5 rows × 81 columns</p>\n",
       "</div>"
      ],
      "text/plain": [
       "        DESYNPUF_ID          CLM_ID  SEGMENT CLM_FROM_DT CLM_THRU_DT  \\\n",
       "0  00000B48BCF4AD29  45461150060934        1  2008-07-07  2008-07-18   \n",
       "1  00000B48BCF4AD29  45541150055035        1  2008-07-24  2008-07-26   \n",
       "2  00000B48BCF4AD29  45731150068478        1  2008-08-05  2008-08-20   \n",
       "3  0000525AB30E4DEF  45811150057351        1  2008-05-25  2008-06-05   \n",
       "4  0000525AB30E4DEF  45391150058019        1  2008-09-18  2008-09-24   \n",
       "\n",
       "  PRVDR_NUM  CLM_PMT_AMT  NCH_PRMRY_PYR_CLM_PD_AMT  AT_PHYSN_NPI  \\\n",
       "0    1000GD      57000.0                       0.0  1.219278e+09   \n",
       "1    1030RD          0.0                       0.0  9.812675e+09   \n",
       "2    1001NA      24000.0                       0.0  6.035410e+09   \n",
       "3    3900MB       4000.0                       0.0  1.511429e+09   \n",
       "4    3100JN       8000.0                       0.0  3.198318e+09   \n",
       "\n",
       "   OP_PHYSN_NPI  ...  HCPCS_CD_36 HCPCS_CD_37 HCPCS_CD_38  HCPCS_CD_39  \\\n",
       "0  7.451661e+09  ...          NaN         NaN         NaN          NaN   \n",
       "1           NaN  ...          NaN         NaN         NaN          NaN   \n",
       "2  9.404475e+09  ...          NaN         NaN         NaN          NaN   \n",
       "3  7.340276e+09  ...          NaN         NaN         NaN          NaN   \n",
       "4  9.156656e+09  ...          NaN         NaN         NaN          NaN   \n",
       "\n",
       "   HCPCS_CD_40  HCPCS_CD_41  HCPCS_CD_42  HCPCS_CD_43 HCPCS_CD_44 HCPCS_CD_45  \n",
       "0          NaN          NaN          NaN          NaN         NaN         NaN  \n",
       "1          NaN          NaN          NaN          NaN         NaN         NaN  \n",
       "2          NaN          NaN          NaN          NaN         NaN         NaN  \n",
       "3          NaN          NaN          NaN          NaN         NaN         NaN  \n",
       "4          NaN          NaN          NaN          NaN         NaN         NaN  \n",
       "\n",
       "[5 rows x 81 columns]"
      ]
     },
     "execution_count": 14,
     "metadata": {},
     "output_type": "execute_result"
    }
   ],
   "source": [
    "data_inpatient_claims = fetch.fetchFromInpatientDataset()\n",
    "data_inpatient_claims.head()"
   ]
  },
  {
   "cell_type": "markdown",
   "metadata": {},
   "source": [
    "### Lets check the descriptive Statistics of the data."
   ]
  },
  {
   "cell_type": "code",
   "execution_count": 15,
   "metadata": {},
   "outputs": [
    {
     "data": {
      "text/html": [
       "<div>\n",
       "<style scoped>\n",
       "    .dataframe tbody tr th:only-of-type {\n",
       "        vertical-align: middle;\n",
       "    }\n",
       "\n",
       "    .dataframe tbody tr th {\n",
       "        vertical-align: top;\n",
       "    }\n",
       "\n",
       "    .dataframe thead th {\n",
       "        text-align: right;\n",
       "    }\n",
       "</style>\n",
       "<table border=\"1\" class=\"dataframe\">\n",
       "  <thead>\n",
       "    <tr style=\"text-align: right;\">\n",
       "      <th></th>\n",
       "      <th>CLM_ID</th>\n",
       "      <th>SEGMENT</th>\n",
       "      <th>CLM_PMT_AMT</th>\n",
       "      <th>NCH_PRMRY_PYR_CLM_PD_AMT</th>\n",
       "      <th>AT_PHYSN_NPI</th>\n",
       "      <th>OP_PHYSN_NPI</th>\n",
       "      <th>OT_PHYSN_NPI</th>\n",
       "      <th>CLM_PASS_THRU_PER_DIEM_AMT</th>\n",
       "      <th>NCH_BENE_IP_DDCTBL_AMT</th>\n",
       "      <th>NCH_BENE_PTA_COINSRNC_LBLTY_AM</th>\n",
       "      <th>...</th>\n",
       "      <th>HCPCS_CD_36</th>\n",
       "      <th>HCPCS_CD_37</th>\n",
       "      <th>HCPCS_CD_38</th>\n",
       "      <th>HCPCS_CD_39</th>\n",
       "      <th>HCPCS_CD_40</th>\n",
       "      <th>HCPCS_CD_41</th>\n",
       "      <th>HCPCS_CD_42</th>\n",
       "      <th>HCPCS_CD_43</th>\n",
       "      <th>HCPCS_CD_44</th>\n",
       "      <th>HCPCS_CD_45</th>\n",
       "    </tr>\n",
       "  </thead>\n",
       "  <tbody>\n",
       "    <tr>\n",
       "      <th>count</th>\n",
       "      <td>6.649400e+04</td>\n",
       "      <td>66494.000000</td>\n",
       "      <td>66494.000000</td>\n",
       "      <td>66494.000000</td>\n",
       "      <td>6.582200e+04</td>\n",
       "      <td>3.877300e+04</td>\n",
       "      <td>7.733000e+03</td>\n",
       "      <td>66494.000000</td>\n",
       "      <td>64274.000000</td>\n",
       "      <td>66494.000000</td>\n",
       "      <td>...</td>\n",
       "      <td>0.0</td>\n",
       "      <td>0.0</td>\n",
       "      <td>0.0</td>\n",
       "      <td>0.0</td>\n",
       "      <td>0.0</td>\n",
       "      <td>0.0</td>\n",
       "      <td>0.0</td>\n",
       "      <td>0.0</td>\n",
       "      <td>0.0</td>\n",
       "      <td>0.0</td>\n",
       "    </tr>\n",
       "    <tr>\n",
       "      <th>mean</th>\n",
       "      <td>4.549846e+13</td>\n",
       "      <td>1.000902</td>\n",
       "      <td>9535.645773</td>\n",
       "      <td>438.101182</td>\n",
       "      <td>5.057975e+09</td>\n",
       "      <td>5.078342e+09</td>\n",
       "      <td>5.013721e+09</td>\n",
       "      <td>29.181430</td>\n",
       "      <td>1057.098858</td>\n",
       "      <td>80.592234</td>\n",
       "      <td>...</td>\n",
       "      <td>NaN</td>\n",
       "      <td>NaN</td>\n",
       "      <td>NaN</td>\n",
       "      <td>NaN</td>\n",
       "      <td>NaN</td>\n",
       "      <td>NaN</td>\n",
       "      <td>NaN</td>\n",
       "      <td>NaN</td>\n",
       "      <td>NaN</td>\n",
       "      <td>NaN</td>\n",
       "    </tr>\n",
       "    <tr>\n",
       "      <th>std</th>\n",
       "      <td>2.847147e+11</td>\n",
       "      <td>0.030026</td>\n",
       "      <td>9206.042401</td>\n",
       "      <td>4049.570095</td>\n",
       "      <td>2.914929e+09</td>\n",
       "      <td>2.905478e+09</td>\n",
       "      <td>2.911734e+09</td>\n",
       "      <td>75.222632</td>\n",
       "      <td>29.643813</td>\n",
       "      <td>894.166567</td>\n",
       "      <td>...</td>\n",
       "      <td>NaN</td>\n",
       "      <td>NaN</td>\n",
       "      <td>NaN</td>\n",
       "      <td>NaN</td>\n",
       "      <td>NaN</td>\n",
       "      <td>NaN</td>\n",
       "      <td>NaN</td>\n",
       "      <td>NaN</td>\n",
       "      <td>NaN</td>\n",
       "      <td>NaN</td>\n",
       "    </tr>\n",
       "    <tr>\n",
       "      <th>min</th>\n",
       "      <td>4.501115e+13</td>\n",
       "      <td>1.000000</td>\n",
       "      <td>-10000.000000</td>\n",
       "      <td>0.000000</td>\n",
       "      <td>2.977760e+05</td>\n",
       "      <td>3.258650e+05</td>\n",
       "      <td>3.533824e+06</td>\n",
       "      <td>0.000000</td>\n",
       "      <td>1024.000000</td>\n",
       "      <td>0.000000</td>\n",
       "      <td>...</td>\n",
       "      <td>NaN</td>\n",
       "      <td>NaN</td>\n",
       "      <td>NaN</td>\n",
       "      <td>NaN</td>\n",
       "      <td>NaN</td>\n",
       "      <td>NaN</td>\n",
       "      <td>NaN</td>\n",
       "      <td>NaN</td>\n",
       "      <td>NaN</td>\n",
       "      <td>NaN</td>\n",
       "    </tr>\n",
       "    <tr>\n",
       "      <th>25%</th>\n",
       "      <td>4.525115e+13</td>\n",
       "      <td>1.000000</td>\n",
       "      <td>4000.000000</td>\n",
       "      <td>0.000000</td>\n",
       "      <td>2.482526e+09</td>\n",
       "      <td>2.568434e+09</td>\n",
       "      <td>2.482274e+09</td>\n",
       "      <td>0.000000</td>\n",
       "      <td>1024.000000</td>\n",
       "      <td>0.000000</td>\n",
       "      <td>...</td>\n",
       "      <td>NaN</td>\n",
       "      <td>NaN</td>\n",
       "      <td>NaN</td>\n",
       "      <td>NaN</td>\n",
       "      <td>NaN</td>\n",
       "      <td>NaN</td>\n",
       "      <td>NaN</td>\n",
       "      <td>NaN</td>\n",
       "      <td>NaN</td>\n",
       "      <td>NaN</td>\n",
       "    </tr>\n",
       "    <tr>\n",
       "      <th>50%</th>\n",
       "      <td>4.550115e+13</td>\n",
       "      <td>1.000000</td>\n",
       "      <td>7000.000000</td>\n",
       "      <td>0.000000</td>\n",
       "      <td>4.986923e+09</td>\n",
       "      <td>5.076366e+09</td>\n",
       "      <td>4.992605e+09</td>\n",
       "      <td>0.000000</td>\n",
       "      <td>1068.000000</td>\n",
       "      <td>0.000000</td>\n",
       "      <td>...</td>\n",
       "      <td>NaN</td>\n",
       "      <td>NaN</td>\n",
       "      <td>NaN</td>\n",
       "      <td>NaN</td>\n",
       "      <td>NaN</td>\n",
       "      <td>NaN</td>\n",
       "      <td>NaN</td>\n",
       "      <td>NaN</td>\n",
       "      <td>NaN</td>\n",
       "      <td>NaN</td>\n",
       "    </tr>\n",
       "    <tr>\n",
       "      <th>75%</th>\n",
       "      <td>4.574115e+13</td>\n",
       "      <td>1.000000</td>\n",
       "      <td>11000.000000</td>\n",
       "      <td>0.000000</td>\n",
       "      <td>7.668307e+09</td>\n",
       "      <td>7.638843e+09</td>\n",
       "      <td>7.515529e+09</td>\n",
       "      <td>10.000000</td>\n",
       "      <td>1068.000000</td>\n",
       "      <td>0.000000</td>\n",
       "      <td>...</td>\n",
       "      <td>NaN</td>\n",
       "      <td>NaN</td>\n",
       "      <td>NaN</td>\n",
       "      <td>NaN</td>\n",
       "      <td>NaN</td>\n",
       "      <td>NaN</td>\n",
       "      <td>NaN</td>\n",
       "      <td>NaN</td>\n",
       "      <td>NaN</td>\n",
       "      <td>NaN</td>\n",
       "    </tr>\n",
       "    <tr>\n",
       "      <th>max</th>\n",
       "      <td>4.599115e+13</td>\n",
       "      <td>2.000000</td>\n",
       "      <td>57000.000000</td>\n",
       "      <td>68000.000000</td>\n",
       "      <td>9.999956e+09</td>\n",
       "      <td>9.999035e+09</td>\n",
       "      <td>9.999355e+09</td>\n",
       "      <td>500.000000</td>\n",
       "      <td>1100.000000</td>\n",
       "      <td>34000.000000</td>\n",
       "      <td>...</td>\n",
       "      <td>NaN</td>\n",
       "      <td>NaN</td>\n",
       "      <td>NaN</td>\n",
       "      <td>NaN</td>\n",
       "      <td>NaN</td>\n",
       "      <td>NaN</td>\n",
       "      <td>NaN</td>\n",
       "      <td>NaN</td>\n",
       "      <td>NaN</td>\n",
       "      <td>NaN</td>\n",
       "    </tr>\n",
       "  </tbody>\n",
       "</table>\n",
       "<p>8 rows × 58 columns</p>\n",
       "</div>"
      ],
      "text/plain": [
       "             CLM_ID       SEGMENT   CLM_PMT_AMT  NCH_PRMRY_PYR_CLM_PD_AMT  \\\n",
       "count  6.649400e+04  66494.000000  66494.000000              66494.000000   \n",
       "mean   4.549846e+13      1.000902   9535.645773                438.101182   \n",
       "std    2.847147e+11      0.030026   9206.042401               4049.570095   \n",
       "min    4.501115e+13      1.000000 -10000.000000                  0.000000   \n",
       "25%    4.525115e+13      1.000000   4000.000000                  0.000000   \n",
       "50%    4.550115e+13      1.000000   7000.000000                  0.000000   \n",
       "75%    4.574115e+13      1.000000  11000.000000                  0.000000   \n",
       "max    4.599115e+13      2.000000  57000.000000              68000.000000   \n",
       "\n",
       "       AT_PHYSN_NPI  OP_PHYSN_NPI  OT_PHYSN_NPI  CLM_PASS_THRU_PER_DIEM_AMT  \\\n",
       "count  6.582200e+04  3.877300e+04  7.733000e+03                66494.000000   \n",
       "mean   5.057975e+09  5.078342e+09  5.013721e+09                   29.181430   \n",
       "std    2.914929e+09  2.905478e+09  2.911734e+09                   75.222632   \n",
       "min    2.977760e+05  3.258650e+05  3.533824e+06                    0.000000   \n",
       "25%    2.482526e+09  2.568434e+09  2.482274e+09                    0.000000   \n",
       "50%    4.986923e+09  5.076366e+09  4.992605e+09                    0.000000   \n",
       "75%    7.668307e+09  7.638843e+09  7.515529e+09                   10.000000   \n",
       "max    9.999956e+09  9.999035e+09  9.999355e+09                  500.000000   \n",
       "\n",
       "       NCH_BENE_IP_DDCTBL_AMT  NCH_BENE_PTA_COINSRNC_LBLTY_AM  ...  \\\n",
       "count            64274.000000                    66494.000000  ...   \n",
       "mean              1057.098858                       80.592234  ...   \n",
       "std                 29.643813                      894.166567  ...   \n",
       "min               1024.000000                        0.000000  ...   \n",
       "25%               1024.000000                        0.000000  ...   \n",
       "50%               1068.000000                        0.000000  ...   \n",
       "75%               1068.000000                        0.000000  ...   \n",
       "max               1100.000000                    34000.000000  ...   \n",
       "\n",
       "       HCPCS_CD_36  HCPCS_CD_37  HCPCS_CD_38  HCPCS_CD_39  HCPCS_CD_40  \\\n",
       "count          0.0          0.0          0.0          0.0          0.0   \n",
       "mean           NaN          NaN          NaN          NaN          NaN   \n",
       "std            NaN          NaN          NaN          NaN          NaN   \n",
       "min            NaN          NaN          NaN          NaN          NaN   \n",
       "25%            NaN          NaN          NaN          NaN          NaN   \n",
       "50%            NaN          NaN          NaN          NaN          NaN   \n",
       "75%            NaN          NaN          NaN          NaN          NaN   \n",
       "max            NaN          NaN          NaN          NaN          NaN   \n",
       "\n",
       "       HCPCS_CD_41  HCPCS_CD_42  HCPCS_CD_43  HCPCS_CD_44  HCPCS_CD_45  \n",
       "count          0.0          0.0          0.0          0.0          0.0  \n",
       "mean           NaN          NaN          NaN          NaN          NaN  \n",
       "std            NaN          NaN          NaN          NaN          NaN  \n",
       "min            NaN          NaN          NaN          NaN          NaN  \n",
       "25%            NaN          NaN          NaN          NaN          NaN  \n",
       "50%            NaN          NaN          NaN          NaN          NaN  \n",
       "75%            NaN          NaN          NaN          NaN          NaN  \n",
       "max            NaN          NaN          NaN          NaN          NaN  \n",
       "\n",
       "[8 rows x 58 columns]"
      ]
     },
     "execution_count": 15,
     "metadata": {},
     "output_type": "execute_result"
    }
   ],
   "source": [
    "data_inpatient_claims.describe()"
   ]
  },
  {
   "cell_type": "markdown",
   "metadata": {},
   "source": [
    "### Dealing with missing values\n",
    "Lets check the number of missing values in the given dataset"
   ]
  },
  {
   "cell_type": "code",
   "execution_count": 16,
   "metadata": {},
   "outputs": [
    {
     "data": {
      "text/plain": [
       "DESYNPUF_ID        0\n",
       "CLM_ID             0\n",
       "SEGMENT            0\n",
       "CLM_FROM_DT       60\n",
       "CLM_THRU_DT       60\n",
       "               ...  \n",
       "HCPCS_CD_41    66494\n",
       "HCPCS_CD_42    66494\n",
       "HCPCS_CD_43    66494\n",
       "HCPCS_CD_44    66494\n",
       "HCPCS_CD_45    66494\n",
       "Length: 81, dtype: int64"
      ]
     },
     "execution_count": 16,
     "metadata": {},
     "output_type": "execute_result"
    }
   ],
   "source": [
    "data_inpatient_claims.isna().sum()"
   ]
  },
  {
   "cell_type": "markdown",
   "metadata": {},
   "source": [
    "### Remove the columns which contains more than 60% of missing values"
   ]
  },
  {
   "cell_type": "code",
   "execution_count": 17,
   "metadata": {},
   "outputs": [],
   "source": [
    "data_inpatient_claims.dropna(\n",
    "    thresh=NON_NAN_THRESHOLD * data_inpatient_claims.shape[0], axis=1, inplace=True\n",
    ")"
   ]
  },
  {
   "cell_type": "markdown",
   "metadata": {},
   "source": [
    "### Correct the dtypes"
   ]
  },
  {
   "cell_type": "code",
   "execution_count": 24,
   "metadata": {},
   "outputs": [
    {
     "data": {
      "text/plain": [
       "DESYNPUF_ID                               object\n",
       "CLM_ID                                    object\n",
       "SEGMENT                                   object\n",
       "CLM_FROM_DT                       datetime64[ns]\n",
       "CLM_THRU_DT                       datetime64[ns]\n",
       "PRVDR_NUM                                 object\n",
       "CLM_PMT_AMT                              float64\n",
       "NCH_PRMRY_PYR_CLM_PD_AMT                 float64\n",
       "AT_PHYSN_NPI                              object\n",
       "OP_PHYSN_NPI                              object\n",
       "CLM_ADMSN_DT                      datetime64[ns]\n",
       "ADMTNG_ICD9_DGNS_CD                       object\n",
       "CLM_PASS_THRU_PER_DIEM_AMT               float64\n",
       "NCH_BENE_IP_DDCTBL_AMT                   float64\n",
       "NCH_BENE_PTA_COINSRNC_LBLTY_AM           float64\n",
       "NCH_BENE_BLOOD_DDCTBL_LBLTY_AM           float64\n",
       "CLM_UTLZTN_DAY_CNT                       float64\n",
       "NCH_BENE_DSCHRG_DT                datetime64[ns]\n",
       "CLM_DRG_CD                                object\n",
       "ICD9_DGNS_CD_1                            object\n",
       "ICD9_DGNS_CD_2                            object\n",
       "ICD9_DGNS_CD_3                            object\n",
       "ICD9_DGNS_CD_4                            object\n",
       "ICD9_DGNS_CD_5                            object\n",
       "ICD9_DGNS_CD_6                            object\n",
       "ICD9_DGNS_CD_7                            object\n",
       "ICD9_DGNS_CD_8                            object\n",
       "ICD9_DGNS_CD_9                            object\n",
       "ICD9_PRCDR_CD_1                          float64\n",
       "dtype: object"
      ]
     },
     "execution_count": 24,
     "metadata": {},
     "output_type": "execute_result"
    }
   ],
   "source": [
    "data_inpatient_claims.dtypes"
   ]
  },
  {
   "cell_type": "code",
   "execution_count": 23,
   "metadata": {},
   "outputs": [],
   "source": [
    "data_inpatient_claims[['DESYNPUF_ID', 'CLM_ID', 'SEGMENT', 'AT_PHYSN_NPI', 'OP_PHYSN_NPI']] = data_inpatient_claims[['DESYNPUF_ID', 'CLM_ID', 'SEGMENT', 'AT_PHYSN_NPI', 'OP_PHYSN_NPI']].astype(\"object\")"
   ]
  },
  {
   "cell_type": "code",
   "execution_count": 25,
   "metadata": {},
   "outputs": [],
   "source": [
    "categorical_columns = ['PRVDR_NUM', 'CLM_DRG_CD', 'ICD9_DGNS_CD_1', 'ICD9_DGNS_CD_2', 'ICD9_DGNS_CD_3', 'ICD9_DGNS_CD_4', 'ICD9_DGNS_CD_5', 'ICD9_DGNS_CD_6', 'ICD9_DGNS_CD_7', 'ICD9_DGNS_CD_8', 'ICD9_DGNS_CD_9', 'ICD9_PRCDR_CD_1']"
   ]
  },
  {
   "cell_type": "code",
   "execution_count": 26,
   "metadata": {},
   "outputs": [],
   "source": [
    "data_inpatient_claims[categorical_columns] = data_inpatient_claims[categorical_columns].astype('category')"
   ]
  },
  {
   "cell_type": "code",
   "execution_count": 28,
   "metadata": {},
   "outputs": [],
   "source": [
    "numerical_columns = data_inpatient_claims.select_dtypes(exclude=[\"category\", \"object\"]).columns"
   ]
  },
  {
   "cell_type": "code",
   "execution_count": 29,
   "metadata": {},
   "outputs": [
    {
     "data": {
      "text/plain": [
       "Index(['CLM_FROM_DT', 'CLM_THRU_DT', 'CLM_PMT_AMT', 'NCH_PRMRY_PYR_CLM_PD_AMT',\n",
       "       'CLM_ADMSN_DT', 'CLM_PASS_THRU_PER_DIEM_AMT', 'NCH_BENE_IP_DDCTBL_AMT',\n",
       "       'NCH_BENE_PTA_COINSRNC_LBLTY_AM', 'NCH_BENE_BLOOD_DDCTBL_LBLTY_AM',\n",
       "       'CLM_UTLZTN_DAY_CNT', 'NCH_BENE_DSCHRG_DT'],\n",
       "      dtype='object')"
      ]
     },
     "execution_count": 29,
     "metadata": {},
     "output_type": "execute_result"
    },
    {
     "data": {
      "text/plain": [
       "['PRVDR_NUM',\n",
       " 'CLM_DRG_CD',\n",
       " 'ICD9_DGNS_CD_1',\n",
       " 'ICD9_DGNS_CD_2',\n",
       " 'ICD9_DGNS_CD_3',\n",
       " 'ICD9_DGNS_CD_4',\n",
       " 'ICD9_DGNS_CD_5',\n",
       " 'ICD9_DGNS_CD_6',\n",
       " 'ICD9_DGNS_CD_7',\n",
       " 'ICD9_DGNS_CD_8',\n",
       " 'ICD9_DGNS_CD_9',\n",
       " 'ICD9_PRCDR_CD_1']"
      ]
     },
     "execution_count": 29,
     "metadata": {},
     "output_type": "execute_result"
    }
   ],
   "source": [
    "numerical_columns\n",
    "categorical_columns"
   ]
  },
  {
   "cell_type": "code",
   "execution_count": 31,
   "metadata": {},
   "outputs": [
    {
     "data": {
      "text/plain": [
       "<matplotlib.axes._subplots.AxesSubplot at 0x225935b5b88>"
      ]
     },
     "execution_count": 31,
     "metadata": {},
     "output_type": "execute_result"
    },
    {
     "data": {
      "image/png": "[encoded data removed]",
      "text/plain": [
       "<Figure size 1440x720 with 1 Axes>"
      ]
     },
     "metadata": {
      "needs_background": "light"
     },
     "output_type": "display_data"
    }
   ],
   "source": [
    "data_inpatient_claims[numerical_columns].boxplot(rot=90, figsize=(20,10))"
   ]
  },
  {
   "cell_type": "markdown",
   "metadata": {},
   "source": [
    "### Perform log transformation on the data"
   ]
  },
  {
   "cell_type": "code",
   "execution_count": 33,
   "metadata": {},
   "outputs": [
    {
     "data": {
      "text/plain": [
       "CLM_PMT_AMT                        2.701129\n",
       "NCH_PRMRY_PYR_CLM_PD_AMT          12.453570\n",
       "CLM_PASS_THRU_PER_DIEM_AMT         3.635328\n",
       "NCH_BENE_IP_DDCTBL_AMT             0.104174\n",
       "NCH_BENE_PTA_COINSRNC_LBLTY_AM    20.401678\n",
       "NCH_BENE_BLOOD_DDCTBL_LBLTY_AM    33.858364\n",
       "CLM_UTLZTN_DAY_CNT                 4.402580\n",
       "dtype: float64"
      ]
     },
     "execution_count": 33,
     "metadata": {},
     "output_type": "execute_result"
    }
   ],
   "source": [
    "data_inpatient_claims[numerical_columns].skew()"
   ]
  },
  {
   "cell_type": "code",
   "execution_count": 14,
   "metadata": {},
   "outputs": [],
   "source": [
    "skewed_cols = df.skew()[df.skew() > 0.5]"
   ]
  },
  {
   "cell_type": "code",
   "execution_count": 15,
   "metadata": {},
   "outputs": [],
   "source": [
    "for cols in skewed_cols.index:\n",
    "    df[cols] = np.log1p(df[cols])"
   ]
  },
  {
   "cell_type": "code",
   "execution_count": 17,
   "metadata": {},
   "outputs": [
    {
     "data": {
      "text/plain": [
       "BALANCE                            -0.861021\n",
       "BALANCE_FREQUENCY                  -2.023266\n",
       "PURCHASES                          -0.764492\n",
       "ONEOFF_PURCHASES                    0.185854\n",
       "INSTALLMENTS_PURCHASES             -0.024981\n",
       "CASH_ADVANCE                        0.262594\n",
       "PURCHASES_FREQUENCY                 0.060164\n",
       "ONEOFF_PURCHASES_FREQUENCY          1.290617\n",
       "PURCHASES_INSTALLMENTS_FREQUENCY    0.373620\n",
       "CASH_ADVANCE_FREQUENCY              1.455462\n",
       "CASH_ADVANCE_TRX                    0.940131\n",
       "PURCHASES_TRX                       0.032697\n",
       "CREDIT_LIMIT                       -0.101408\n",
       "PAYMENTS                           -1.778312\n",
       "MINIMUM_PAYMENTS                    0.269703\n",
       "PRC_FULL_PAYMENT                    1.746046\n",
       "TENURE                             -2.943017\n",
       "dtype: float64"
      ]
     },
     "execution_count": 17,
     "metadata": {},
     "output_type": "execute_result"
    }
   ],
   "source": [
    "df.skew()"
   ]
  },
  {
   "cell_type": "code",
   "execution_count": 21,
   "metadata": {},
   "outputs": [
    {
     "data": {
      "text/html": [
       "<div>\n",
       "<style scoped>\n",
       "    .dataframe tbody tr th:only-of-type {\n",
       "        vertical-align: middle;\n",
       "    }\n",
       "\n",
       "    .dataframe tbody tr th {\n",
       "        vertical-align: top;\n",
       "    }\n",
       "\n",
       "    .dataframe thead th {\n",
       "        text-align: right;\n",
       "    }\n",
       "</style>\n",
       "<table border=\"1\" class=\"dataframe\">\n",
       "  <thead>\n",
       "    <tr style=\"text-align: right;\">\n",
       "      <th></th>\n",
       "      <th>BALANCE</th>\n",
       "      <th>BALANCE_FREQUENCY</th>\n",
       "      <th>PURCHASES</th>\n",
       "      <th>ONEOFF_PURCHASES</th>\n",
       "      <th>INSTALLMENTS_PURCHASES</th>\n",
       "      <th>CASH_ADVANCE</th>\n",
       "      <th>PURCHASES_FREQUENCY</th>\n",
       "      <th>ONEOFF_PURCHASES_FREQUENCY</th>\n",
       "      <th>PURCHASES_INSTALLMENTS_FREQUENCY</th>\n",
       "      <th>CASH_ADVANCE_FREQUENCY</th>\n",
       "      <th>CASH_ADVANCE_TRX</th>\n",
       "      <th>PURCHASES_TRX</th>\n",
       "      <th>CREDIT_LIMIT</th>\n",
       "      <th>PAYMENTS</th>\n",
       "      <th>MINIMUM_PAYMENTS</th>\n",
       "      <th>PRC_FULL_PAYMENT</th>\n",
       "      <th>TENURE</th>\n",
       "    </tr>\n",
       "  </thead>\n",
       "  <tbody>\n",
       "    <tr>\n",
       "      <th>0</th>\n",
       "      <td>3.735304</td>\n",
       "      <td>0.818182</td>\n",
       "      <td>4.568506</td>\n",
       "      <td>0.000000</td>\n",
       "      <td>4.568506</td>\n",
       "      <td>0.000000</td>\n",
       "      <td>0.166667</td>\n",
       "      <td>0.000000</td>\n",
       "      <td>0.080042</td>\n",
       "      <td>0.000000</td>\n",
       "      <td>0.000000</td>\n",
       "      <td>1.098612</td>\n",
       "      <td>6.908755</td>\n",
       "      <td>5.312231</td>\n",
       "      <td>4.945277</td>\n",
       "      <td>0.000000</td>\n",
       "      <td>12</td>\n",
       "    </tr>\n",
       "    <tr>\n",
       "      <th>1</th>\n",
       "      <td>8.071989</td>\n",
       "      <td>0.909091</td>\n",
       "      <td>0.000000</td>\n",
       "      <td>0.000000</td>\n",
       "      <td>0.000000</td>\n",
       "      <td>8.770896</td>\n",
       "      <td>0.000000</td>\n",
       "      <td>0.000000</td>\n",
       "      <td>0.000000</td>\n",
       "      <td>0.223144</td>\n",
       "      <td>1.609438</td>\n",
       "      <td>0.000000</td>\n",
       "      <td>8.853808</td>\n",
       "      <td>8.319725</td>\n",
       "      <td>6.978531</td>\n",
       "      <td>0.200671</td>\n",
       "      <td>12</td>\n",
       "    </tr>\n",
       "    <tr>\n",
       "      <th>2</th>\n",
       "      <td>7.822504</td>\n",
       "      <td>1.000000</td>\n",
       "      <td>6.651791</td>\n",
       "      <td>6.651791</td>\n",
       "      <td>0.000000</td>\n",
       "      <td>0.000000</td>\n",
       "      <td>1.000000</td>\n",
       "      <td>0.693147</td>\n",
       "      <td>0.000000</td>\n",
       "      <td>0.000000</td>\n",
       "      <td>0.000000</td>\n",
       "      <td>2.564949</td>\n",
       "      <td>8.922792</td>\n",
       "      <td>6.434654</td>\n",
       "      <td>6.442994</td>\n",
       "      <td>0.000000</td>\n",
       "      <td>12</td>\n",
       "    </tr>\n",
       "    <tr>\n",
       "      <th>3</th>\n",
       "      <td>7.419183</td>\n",
       "      <td>0.636364</td>\n",
       "      <td>7.313220</td>\n",
       "      <td>7.313220</td>\n",
       "      <td>0.000000</td>\n",
       "      <td>5.331694</td>\n",
       "      <td>0.083333</td>\n",
       "      <td>0.080042</td>\n",
       "      <td>0.000000</td>\n",
       "      <td>0.080042</td>\n",
       "      <td>0.693147</td>\n",
       "      <td>0.693147</td>\n",
       "      <td>8.922792</td>\n",
       "      <td>0.000000</td>\n",
       "      <td>5.747301</td>\n",
       "      <td>0.000000</td>\n",
       "      <td>12</td>\n",
       "    </tr>\n",
       "    <tr>\n",
       "      <th>4</th>\n",
       "      <td>6.707735</td>\n",
       "      <td>1.000000</td>\n",
       "      <td>2.833213</td>\n",
       "      <td>2.833213</td>\n",
       "      <td>0.000000</td>\n",
       "      <td>0.000000</td>\n",
       "      <td>0.083333</td>\n",
       "      <td>0.080042</td>\n",
       "      <td>0.000000</td>\n",
       "      <td>0.000000</td>\n",
       "      <td>0.000000</td>\n",
       "      <td>0.693147</td>\n",
       "      <td>7.090910</td>\n",
       "      <td>6.521114</td>\n",
       "      <td>5.504483</td>\n",
       "      <td>0.000000</td>\n",
       "      <td>12</td>\n",
       "    </tr>\n",
       "  </tbody>\n",
       "</table>\n",
       "</div>"
      ],
      "text/plain": [
       "    BALANCE  BALANCE_FREQUENCY  PURCHASES  ONEOFF_PURCHASES  \\\n",
       "0  3.735304           0.818182   4.568506          0.000000   \n",
       "1  8.071989           0.909091   0.000000          0.000000   \n",
       "2  7.822504           1.000000   6.651791          6.651791   \n",
       "3  7.419183           0.636364   7.313220          7.313220   \n",
       "4  6.707735           1.000000   2.833213          2.833213   \n",
       "\n",
       "   INSTALLMENTS_PURCHASES  CASH_ADVANCE  PURCHASES_FREQUENCY  \\\n",
       "0                4.568506      0.000000             0.166667   \n",
       "1                0.000000      8.770896             0.000000   \n",
       "2                0.000000      0.000000             1.000000   \n",
       "3                0.000000      5.331694             0.083333   \n",
       "4                0.000000      0.000000             0.083333   \n",
       "\n",
       "   ONEOFF_PURCHASES_FREQUENCY  PURCHASES_INSTALLMENTS_FREQUENCY  \\\n",
       "0                    0.000000                          0.080042   \n",
       "1                    0.000000                          0.000000   \n",
       "2                    0.693147                          0.000000   \n",
       "3                    0.080042                          0.000000   \n",
       "4                    0.080042                          0.000000   \n",
       "\n",
       "   CASH_ADVANCE_FREQUENCY  CASH_ADVANCE_TRX  PURCHASES_TRX  CREDIT_LIMIT  \\\n",
       "0                0.000000          0.000000       1.098612      6.908755   \n",
       "1                0.223144          1.609438       0.000000      8.853808   \n",
       "2                0.000000          0.000000       2.564949      8.922792   \n",
       "3                0.080042          0.693147       0.693147      8.922792   \n",
       "4                0.000000          0.000000       0.693147      7.090910   \n",
       "\n",
       "   PAYMENTS  MINIMUM_PAYMENTS  PRC_FULL_PAYMENT  TENURE  \n",
       "0  5.312231          4.945277          0.000000      12  \n",
       "1  8.319725          6.978531          0.200671      12  \n",
       "2  6.434654          6.442994          0.000000      12  \n",
       "3  0.000000          5.747301          0.000000      12  \n",
       "4  6.521114          5.504483          0.000000      12  "
      ]
     },
     "execution_count": 21,
     "metadata": {},
     "output_type": "execute_result"
    }
   ],
   "source": [
    "df.head()"
   ]
  },
  {
   "cell_type": "markdown",
   "metadata": {},
   "source": [
    "###  Detect outliers in the continuous columns \n",
    "\n",
    "As this is a clustering problem, I decided to test without outlier's replacement because to get the meaningful clusters and should make sense after plotting the pair graph.  \n",
    "\n",
    "We will be Using IRQ Score to identify outliers values in dataset. IRQ method is used in boxplot to identify possible outliers values.\n",
    "\n",
    "```python\n",
    "The interquartile range (IQR), also called the midspread or middle 50%, or technically H-spread, is a measure of statistical dispersion, being equal to the difference between 75th and 25th percentiles, or between upper and lower quartiles, IQR = Q3 − Q1. In other words, the IQR is the first quartile subtracted from the third quartile; these quartiles can be clearly seen on a box plot on the data. It is a measure of the dispersion similar to standard deviation or variance, but is much more robust against outliers.\n",
    "```\n",
    "For now, we`ll do nothing with outliers because this may harm the clustering."
   ]
  },
  {
   "cell_type": "code",
   "execution_count": 29,
   "metadata": {},
   "outputs": [
    {
     "name": "stdout",
     "output_type": "stream",
     "text": [
      "Total outlier for BALANCE is 132\n",
      "Total outlier for BALANCE_FREQUENCY is 1493\n",
      "Total outlier for PURCHASES is 0\n",
      "Total outlier for ONEOFF_PURCHASES is 0\n",
      "Total outlier for INSTALLMENTS_PURCHASES is 0\n",
      "Total outlier for CASH_ADVANCE is 0\n",
      "Total outlier for PURCHASES_FREQUENCY is 0\n",
      "Total outlier for ONEOFF_PURCHASES_FREQUENCY is 481\n",
      "Total outlier for PURCHASES_INSTALLMENTS_FREQUENCY is 0\n",
      "Total outlier for CASH_ADVANCE_FREQUENCY is 337\n",
      "Total outlier for CASH_ADVANCE_TRX is 15\n",
      "Total outlier for PURCHASES_TRX is 0\n",
      "Total outlier for CREDIT_LIMIT is 6\n",
      "Total outlier for PAYMENTS is 318\n",
      "Total outlier for MINIMUM_PAYMENTS is 169\n",
      "Total outlier for PRC_FULL_PAYMENT is 1429\n",
      "Total outlier for TENURE is 1366\n"
     ]
    }
   ],
   "source": [
    "for cols in df :\n",
    "    q1, q3 = np.percentile(df[cols].sort_values(ascending=True), [25, 75])\n",
    "    IQR = q3 - q1\n",
    "    #print('IQR Range for {} is {}'.format(cols, IQR))\n",
    "    upper_bound = q3 + 1.5 * IQR\n",
    "    lower_bound = q1 - 1.5 * IQR\n",
    "    outliers = (df[cols] > upper_bound) | (df[cols] < lower_bound) \n",
    "    print('Total outlier for {} is {}'.format(cols, outliers.sum()))\n",
    "    "
   ]
  },
  {
   "cell_type": "markdown",
   "metadata": {},
   "source": [
    "### Visualize the outliers using box plot"
   ]
  },
  {
   "cell_type": "markdown",
   "metadata": {},
   "source": [
    "### Scale the features using scale function. This function will put all variables at the same scale, with mean zero and standard deviation equals to one."
   ]
  },
  {
   "cell_type": "code",
   "execution_count": 57,
   "metadata": {},
   "outputs": [],
   "source": [
    "for cols in df :\n",
    "    df[cols] = scale(X=df[cols])"
   ]
  },
  {
   "cell_type": "code",
   "execution_count": 58,
   "metadata": {},
   "outputs": [
    {
     "data": {
      "text/html": [
       "<div>\n",
       "<style scoped>\n",
       "    .dataframe tbody tr th:only-of-type {\n",
       "        vertical-align: middle;\n",
       "    }\n",
       "\n",
       "    .dataframe tbody tr th {\n",
       "        vertical-align: top;\n",
       "    }\n",
       "\n",
       "    .dataframe thead th {\n",
       "        text-align: right;\n",
       "    }\n",
       "</style>\n",
       "<table border=\"1\" class=\"dataframe\">\n",
       "  <thead>\n",
       "    <tr style=\"text-align: right;\">\n",
       "      <th></th>\n",
       "      <th>BALANCE</th>\n",
       "      <th>BALANCE_FREQUENCY</th>\n",
       "      <th>PURCHASES</th>\n",
       "      <th>ONEOFF_PURCHASES</th>\n",
       "      <th>INSTALLMENTS_PURCHASES</th>\n",
       "      <th>CASH_ADVANCE</th>\n",
       "      <th>PURCHASES_FREQUENCY</th>\n",
       "      <th>ONEOFF_PURCHASES_FREQUENCY</th>\n",
       "      <th>PURCHASES_INSTALLMENTS_FREQUENCY</th>\n",
       "      <th>CASH_ADVANCE_FREQUENCY</th>\n",
       "      <th>CASH_ADVANCE_TRX</th>\n",
       "      <th>PURCHASES_TRX</th>\n",
       "      <th>CREDIT_LIMIT</th>\n",
       "      <th>PAYMENTS</th>\n",
       "      <th>MINIMUM_PAYMENTS</th>\n",
       "      <th>PRC_FULL_PAYMENT</th>\n",
       "      <th>TENURE</th>\n",
       "    </tr>\n",
       "  </thead>\n",
       "  <tbody>\n",
       "    <tr>\n",
       "      <th>0</th>\n",
       "      <td>-1.205218</td>\n",
       "      <td>-0.249434</td>\n",
       "      <td>-0.113532</td>\n",
       "      <td>-0.987090</td>\n",
       "      <td>0.394480</td>\n",
       "      <td>-0.930733</td>\n",
       "      <td>-0.806490</td>\n",
       "      <td>-0.732480</td>\n",
       "      <td>-0.674253</td>\n",
       "      <td>-0.724360</td>\n",
       "      <td>-0.810069</td>\n",
       "      <td>-0.579510</td>\n",
       "      <td>-1.447163</td>\n",
       "      <td>-0.824484</td>\n",
       "      <td>-0.829841</td>\n",
       "      <td>-0.556368</td>\n",
       "      <td>0.36068</td>\n",
       "    </tr>\n",
       "    <tr>\n",
       "      <th>1</th>\n",
       "      <td>0.948918</td>\n",
       "      <td>0.134325</td>\n",
       "      <td>-1.679855</td>\n",
       "      <td>-0.987090</td>\n",
       "      <td>-1.087454</td>\n",
       "      <td>1.528788</td>\n",
       "      <td>-1.221758</td>\n",
       "      <td>-0.732480</td>\n",
       "      <td>-0.958256</td>\n",
       "      <td>0.699592</td>\n",
       "      <td>0.784603</td>\n",
       "      <td>-1.379210</td>\n",
       "      <td>0.926060</td>\n",
       "      <td>1.065033</td>\n",
       "      <td>0.908184</td>\n",
       "      <td>0.391958</td>\n",
       "      <td>0.36068</td>\n",
       "    </tr>\n",
       "    <tr>\n",
       "      <th>2</th>\n",
       "      <td>0.824993</td>\n",
       "      <td>0.518084</td>\n",
       "      <td>0.600727</td>\n",
       "      <td>1.062022</td>\n",
       "      <td>-1.087454</td>\n",
       "      <td>-0.930733</td>\n",
       "      <td>1.269843</td>\n",
       "      <td>2.466762</td>\n",
       "      <td>-0.958256</td>\n",
       "      <td>-0.724360</td>\n",
       "      <td>-0.810069</td>\n",
       "      <td>0.487865</td>\n",
       "      <td>1.010229</td>\n",
       "      <td>-0.119300</td>\n",
       "      <td>0.450407</td>\n",
       "      <td>-0.556368</td>\n",
       "      <td>0.36068</td>\n",
       "    </tr>\n",
       "    <tr>\n",
       "      <th>3</th>\n",
       "      <td>0.624653</td>\n",
       "      <td>-1.016953</td>\n",
       "      <td>0.827499</td>\n",
       "      <td>1.265778</td>\n",
       "      <td>-1.087454</td>\n",
       "      <td>0.564372</td>\n",
       "      <td>-1.014125</td>\n",
       "      <td>-0.363042</td>\n",
       "      <td>-0.958256</td>\n",
       "      <td>-0.213583</td>\n",
       "      <td>-0.123281</td>\n",
       "      <td>-0.874655</td>\n",
       "      <td>1.010229</td>\n",
       "      <td>-4.161996</td>\n",
       "      <td>-0.144271</td>\n",
       "      <td>-0.556368</td>\n",
       "      <td>0.36068</td>\n",
       "    </tr>\n",
       "    <tr>\n",
       "      <th>4</th>\n",
       "      <td>0.271260</td>\n",
       "      <td>0.518084</td>\n",
       "      <td>-0.708481</td>\n",
       "      <td>-0.114307</td>\n",
       "      <td>-1.087454</td>\n",
       "      <td>-0.930733</td>\n",
       "      <td>-1.014125</td>\n",
       "      <td>-0.363042</td>\n",
       "      <td>-0.958256</td>\n",
       "      <td>-0.724360</td>\n",
       "      <td>-0.810069</td>\n",
       "      <td>-0.874655</td>\n",
       "      <td>-1.224909</td>\n",
       "      <td>-0.064979</td>\n",
       "      <td>-0.351833</td>\n",
       "      <td>-0.556368</td>\n",
       "      <td>0.36068</td>\n",
       "    </tr>\n",
       "  </tbody>\n",
       "</table>\n",
       "</div>"
      ],
      "text/plain": [
       "    BALANCE  BALANCE_FREQUENCY  PURCHASES  ONEOFF_PURCHASES  \\\n",
       "0 -1.205218          -0.249434  -0.113532         -0.987090   \n",
       "1  0.948918           0.134325  -1.679855         -0.987090   \n",
       "2  0.824993           0.518084   0.600727          1.062022   \n",
       "3  0.624653          -1.016953   0.827499          1.265778   \n",
       "4  0.271260           0.518084  -0.708481         -0.114307   \n",
       "\n",
       "   INSTALLMENTS_PURCHASES  CASH_ADVANCE  PURCHASES_FREQUENCY  \\\n",
       "0                0.394480     -0.930733            -0.806490   \n",
       "1               -1.087454      1.528788            -1.221758   \n",
       "2               -1.087454     -0.930733             1.269843   \n",
       "3               -1.087454      0.564372            -1.014125   \n",
       "4               -1.087454     -0.930733            -1.014125   \n",
       "\n",
       "   ONEOFF_PURCHASES_FREQUENCY  PURCHASES_INSTALLMENTS_FREQUENCY  \\\n",
       "0                   -0.732480                         -0.674253   \n",
       "1                   -0.732480                         -0.958256   \n",
       "2                    2.466762                         -0.958256   \n",
       "3                   -0.363042                         -0.958256   \n",
       "4                   -0.363042                         -0.958256   \n",
       "\n",
       "   CASH_ADVANCE_FREQUENCY  CASH_ADVANCE_TRX  PURCHASES_TRX  CREDIT_LIMIT  \\\n",
       "0               -0.724360         -0.810069      -0.579510     -1.447163   \n",
       "1                0.699592          0.784603      -1.379210      0.926060   \n",
       "2               -0.724360         -0.810069       0.487865      1.010229   \n",
       "3               -0.213583         -0.123281      -0.874655      1.010229   \n",
       "4               -0.724360         -0.810069      -0.874655     -1.224909   \n",
       "\n",
       "   PAYMENTS  MINIMUM_PAYMENTS  PRC_FULL_PAYMENT   TENURE  \n",
       "0 -0.824484         -0.829841         -0.556368  0.36068  \n",
       "1  1.065033          0.908184          0.391958  0.36068  \n",
       "2 -0.119300          0.450407         -0.556368  0.36068  \n",
       "3 -4.161996         -0.144271         -0.556368  0.36068  \n",
       "4 -0.064979         -0.351833         -0.556368  0.36068  "
      ]
     },
     "execution_count": 58,
     "metadata": {},
     "output_type": "execute_result"
    }
   ],
   "source": [
    "df.head()"
   ]
  },
  {
   "cell_type": "code",
   "execution_count": 66,
   "metadata": {},
   "outputs": [
    {
     "data": {
      "text/html": [
       "<div>\n",
       "<style scoped>\n",
       "    .dataframe tbody tr th:only-of-type {\n",
       "        vertical-align: middle;\n",
       "    }\n",
       "\n",
       "    .dataframe tbody tr th {\n",
       "        vertical-align: top;\n",
       "    }\n",
       "\n",
       "    .dataframe thead th {\n",
       "        text-align: right;\n",
       "    }\n",
       "</style>\n",
       "<table border=\"1\" class=\"dataframe\">\n",
       "  <thead>\n",
       "    <tr style=\"text-align: right;\">\n",
       "      <th></th>\n",
       "      <th>BALANCE</th>\n",
       "      <th>BALANCE_FREQUENCY</th>\n",
       "      <th>PURCHASES</th>\n",
       "      <th>ONEOFF_PURCHASES</th>\n",
       "      <th>INSTALLMENTS_PURCHASES</th>\n",
       "      <th>CASH_ADVANCE</th>\n",
       "      <th>PURCHASES_FREQUENCY</th>\n",
       "      <th>ONEOFF_PURCHASES_FREQUENCY</th>\n",
       "      <th>PURCHASES_INSTALLMENTS_FREQUENCY</th>\n",
       "      <th>CASH_ADVANCE_FREQUENCY</th>\n",
       "      <th>CASH_ADVANCE_TRX</th>\n",
       "      <th>PURCHASES_TRX</th>\n",
       "      <th>CREDIT_LIMIT</th>\n",
       "      <th>PAYMENTS</th>\n",
       "      <th>MINIMUM_PAYMENTS</th>\n",
       "      <th>PRC_FULL_PAYMENT</th>\n",
       "      <th>TENURE</th>\n",
       "    </tr>\n",
       "  </thead>\n",
       "  <tbody>\n",
       "    <tr>\n",
       "      <th>count</th>\n",
       "      <td>8.950000e+03</td>\n",
       "      <td>8.950000e+03</td>\n",
       "      <td>8.950000e+03</td>\n",
       "      <td>8.950000e+03</td>\n",
       "      <td>8.950000e+03</td>\n",
       "      <td>8.950000e+03</td>\n",
       "      <td>8.950000e+03</td>\n",
       "      <td>8.950000e+03</td>\n",
       "      <td>8.950000e+03</td>\n",
       "      <td>8.950000e+03</td>\n",
       "      <td>8.950000e+03</td>\n",
       "      <td>8.950000e+03</td>\n",
       "      <td>8.950000e+03</td>\n",
       "      <td>8.950000e+03</td>\n",
       "      <td>8.950000e+03</td>\n",
       "      <td>8.950000e+03</td>\n",
       "      <td>8.950000e+03</td>\n",
       "    </tr>\n",
       "    <tr>\n",
       "      <th>mean</th>\n",
       "      <td>-2.666861e-17</td>\n",
       "      <td>1.209548e-14</td>\n",
       "      <td>1.379306e-15</td>\n",
       "      <td>1.040682e-14</td>\n",
       "      <td>-2.190179e-16</td>\n",
       "      <td>-6.788239e-16</td>\n",
       "      <td>-3.716084e-16</td>\n",
       "      <td>9.641623e-15</td>\n",
       "      <td>-2.343054e-15</td>\n",
       "      <td>1.182170e-16</td>\n",
       "      <td>1.113944e-17</td>\n",
       "      <td>-8.335232e-16</td>\n",
       "      <td>1.092412e-14</td>\n",
       "      <td>4.079418e-16</td>\n",
       "      <td>-1.783055e-16</td>\n",
       "      <td>-1.996789e-15</td>\n",
       "      <td>1.556446e-14</td>\n",
       "    </tr>\n",
       "    <tr>\n",
       "      <th>std</th>\n",
       "      <td>1.000056e+00</td>\n",
       "      <td>1.000056e+00</td>\n",
       "      <td>1.000056e+00</td>\n",
       "      <td>1.000056e+00</td>\n",
       "      <td>1.000056e+00</td>\n",
       "      <td>1.000056e+00</td>\n",
       "      <td>1.000056e+00</td>\n",
       "      <td>1.000056e+00</td>\n",
       "      <td>1.000056e+00</td>\n",
       "      <td>1.000056e+00</td>\n",
       "      <td>1.000056e+00</td>\n",
       "      <td>1.000056e+00</td>\n",
       "      <td>1.000056e+00</td>\n",
       "      <td>1.000056e+00</td>\n",
       "      <td>1.000056e+00</td>\n",
       "      <td>1.000056e+00</td>\n",
       "      <td>1.000056e+00</td>\n",
       "    </tr>\n",
       "    <tr>\n",
       "      <th>min</th>\n",
       "      <td>-3.060633e+00</td>\n",
       "      <td>-3.703271e+00</td>\n",
       "      <td>-1.679855e+00</td>\n",
       "      <td>-9.870896e-01</td>\n",
       "      <td>-1.087454e+00</td>\n",
       "      <td>-9.307329e-01</td>\n",
       "      <td>-1.221758e+00</td>\n",
       "      <td>-7.324800e-01</td>\n",
       "      <td>-9.582565e-01</td>\n",
       "      <td>-7.243604e-01</td>\n",
       "      <td>-8.100687e-01</td>\n",
       "      <td>-1.379210e+00</td>\n",
       "      <td>-5.079410e+00</td>\n",
       "      <td>-4.161996e+00</td>\n",
       "      <td>-5.040840e+00</td>\n",
       "      <td>-5.563681e-01</td>\n",
       "      <td>-4.122768e+00</td>\n",
       "    </tr>\n",
       "    <tr>\n",
       "      <th>25%</th>\n",
       "      <td>-6.455634e-01</td>\n",
       "      <td>4.904486e-02</td>\n",
       "      <td>-4.097152e-01</td>\n",
       "      <td>-9.870896e-01</td>\n",
       "      <td>-1.087454e+00</td>\n",
       "      <td>-9.307329e-01</td>\n",
       "      <td>-1.014125e+00</td>\n",
       "      <td>-7.324800e-01</td>\n",
       "      <td>-9.582565e-01</td>\n",
       "      <td>-7.243604e-01</td>\n",
       "      <td>-8.100687e-01</td>\n",
       "      <td>-8.746552e-01</td>\n",
       "      <td>-8.741531e-01</td>\n",
       "      <td>-4.229376e-01</td>\n",
       "      <td>-6.576937e-01</td>\n",
       "      <td>-5.563681e-01</td>\n",
       "      <td>3.606795e-01</td>\n",
       "    </tr>\n",
       "    <tr>\n",
       "      <th>50%</th>\n",
       "      <td>3.039373e-01</td>\n",
       "      <td>5.180838e-01</td>\n",
       "      <td>3.403734e-01</td>\n",
       "      <td>1.414854e-01</td>\n",
       "      <td>3.721960e-01</td>\n",
       "      <td>-9.307329e-01</td>\n",
       "      <td>2.404259e-02</td>\n",
       "      <td>-3.630419e-01</td>\n",
       "      <td>-4.113045e-01</td>\n",
       "      <td>-7.243604e-01</td>\n",
       "      <td>-8.100687e-01</td>\n",
       "      <td>1.344545e-01</td>\n",
       "      <td>-1.075230e-01</td>\n",
       "      <td>8.164312e-02</td>\n",
       "      <td>-1.442709e-01</td>\n",
       "      <td>-5.563681e-01</td>\n",
       "      <td>3.606795e-01</td>\n",
       "    </tr>\n",
       "    <tr>\n",
       "      <th>75%</th>\n",
       "      <td>7.284269e-01</td>\n",
       "      <td>5.180838e-01</td>\n",
       "      <td>7.246132e-01</td>\n",
       "      <td>9.722184e-01</td>\n",
       "      <td>9.081215e-01</td>\n",
       "      <td>1.036809e+00</td>\n",
       "      <td>1.062211e+00</td>\n",
       "      <td>4.784703e-01</td>\n",
       "      <td>1.027349e+00</td>\n",
       "      <td>5.561843e-01</td>\n",
       "      <td>7.846025e-01</td>\n",
       "      <td>7.247459e-01</td>\n",
       "      <td>8.356521e-01</td>\n",
       "      <td>5.818980e-01</td>\n",
       "      <td>6.458797e-01</td>\n",
       "      <td>7.467219e-02</td>\n",
       "      <td>3.606795e-01</td>\n",
       "    </tr>\n",
       "    <tr>\n",
       "      <th>max</th>\n",
       "      <td>1.834341e+00</td>\n",
       "      <td>5.180838e-01</td>\n",
       "      <td>2.023087e+00</td>\n",
       "      <td>2.283062e+00</td>\n",
       "      <td>2.163264e+00</td>\n",
       "      <td>2.086805e+00</td>\n",
       "      <td>1.269843e+00</td>\n",
       "      <td>2.466762e+00</td>\n",
       "      <td>1.501139e+00</td>\n",
       "      <td>5.122793e+00</td>\n",
       "      <td>3.965987e+00</td>\n",
       "      <td>2.903371e+00</td>\n",
       "      <td>2.701570e+00</td>\n",
       "      <td>2.644753e+00</td>\n",
       "      <td>4.554165e+00</td>\n",
       "      <td>2.719298e+00</td>\n",
       "      <td>3.606795e-01</td>\n",
       "    </tr>\n",
       "  </tbody>\n",
       "</table>\n",
       "</div>"
      ],
      "text/plain": [
       "            BALANCE  BALANCE_FREQUENCY     PURCHASES  ONEOFF_PURCHASES  \\\n",
       "count  8.950000e+03       8.950000e+03  8.950000e+03      8.950000e+03   \n",
       "mean  -2.666861e-17       1.209548e-14  1.379306e-15      1.040682e-14   \n",
       "std    1.000056e+00       1.000056e+00  1.000056e+00      1.000056e+00   \n",
       "min   -3.060633e+00      -3.703271e+00 -1.679855e+00     -9.870896e-01   \n",
       "25%   -6.455634e-01       4.904486e-02 -4.097152e-01     -9.870896e-01   \n",
       "50%    3.039373e-01       5.180838e-01  3.403734e-01      1.414854e-01   \n",
       "75%    7.284269e-01       5.180838e-01  7.246132e-01      9.722184e-01   \n",
       "max    1.834341e+00       5.180838e-01  2.023087e+00      2.283062e+00   \n",
       "\n",
       "       INSTALLMENTS_PURCHASES  CASH_ADVANCE  PURCHASES_FREQUENCY  \\\n",
       "count            8.950000e+03  8.950000e+03         8.950000e+03   \n",
       "mean            -2.190179e-16 -6.788239e-16        -3.716084e-16   \n",
       "std              1.000056e+00  1.000056e+00         1.000056e+00   \n",
       "min             -1.087454e+00 -9.307329e-01        -1.221758e+00   \n",
       "25%             -1.087454e+00 -9.307329e-01        -1.014125e+00   \n",
       "50%              3.721960e-01 -9.307329e-01         2.404259e-02   \n",
       "75%              9.081215e-01  1.036809e+00         1.062211e+00   \n",
       "max              2.163264e+00  2.086805e+00         1.269843e+00   \n",
       "\n",
       "       ONEOFF_PURCHASES_FREQUENCY  PURCHASES_INSTALLMENTS_FREQUENCY  \\\n",
       "count                8.950000e+03                      8.950000e+03   \n",
       "mean                 9.641623e-15                     -2.343054e-15   \n",
       "std                  1.000056e+00                      1.000056e+00   \n",
       "min                 -7.324800e-01                     -9.582565e-01   \n",
       "25%                 -7.324800e-01                     -9.582565e-01   \n",
       "50%                 -3.630419e-01                     -4.113045e-01   \n",
       "75%                  4.784703e-01                      1.027349e+00   \n",
       "max                  2.466762e+00                      1.501139e+00   \n",
       "\n",
       "       CASH_ADVANCE_FREQUENCY  CASH_ADVANCE_TRX  PURCHASES_TRX  CREDIT_LIMIT  \\\n",
       "count            8.950000e+03      8.950000e+03   8.950000e+03  8.950000e+03   \n",
       "mean             1.182170e-16      1.113944e-17  -8.335232e-16  1.092412e-14   \n",
       "std              1.000056e+00      1.000056e+00   1.000056e+00  1.000056e+00   \n",
       "min             -7.243604e-01     -8.100687e-01  -1.379210e+00 -5.079410e+00   \n",
       "25%             -7.243604e-01     -8.100687e-01  -8.746552e-01 -8.741531e-01   \n",
       "50%             -7.243604e-01     -8.100687e-01   1.344545e-01 -1.075230e-01   \n",
       "75%              5.561843e-01      7.846025e-01   7.247459e-01  8.356521e-01   \n",
       "max              5.122793e+00      3.965987e+00   2.903371e+00  2.701570e+00   \n",
       "\n",
       "           PAYMENTS  MINIMUM_PAYMENTS  PRC_FULL_PAYMENT        TENURE  \n",
       "count  8.950000e+03      8.950000e+03      8.950000e+03  8.950000e+03  \n",
       "mean   4.079418e-16     -1.783055e-16     -1.996789e-15  1.556446e-14  \n",
       "std    1.000056e+00      1.000056e+00      1.000056e+00  1.000056e+00  \n",
       "min   -4.161996e+00     -5.040840e+00     -5.563681e-01 -4.122768e+00  \n",
       "25%   -4.229376e-01     -6.576937e-01     -5.563681e-01  3.606795e-01  \n",
       "50%    8.164312e-02     -1.442709e-01     -5.563681e-01  3.606795e-01  \n",
       "75%    5.818980e-01      6.458797e-01      7.467219e-02  3.606795e-01  \n",
       "max    2.644753e+00      4.554165e+00      2.719298e+00  3.606795e-01  "
      ]
     },
     "execution_count": 66,
     "metadata": {},
     "output_type": "execute_result"
    }
   ],
   "source": [
    "df.describe()"
   ]
  },
  {
   "cell_type": "markdown",
   "metadata": {},
   "source": [
    "### Using the elbow method find the optimal number of clusters"
   ]
  },
  {
   "cell_type": "code",
   "execution_count": 73,
   "metadata": {},
   "outputs": [],
   "source": [
    "num_cluster = [i for i in range(1, 31)]\n",
    "list_score = []"
   ]
  },
  {
   "cell_type": "code",
   "execution_count": 75,
   "metadata": {},
   "outputs": [],
   "source": [
    "for k in num_cluster:\n",
    "    kmeans = KMeans(n_clusters=k, random_state=40)\n",
    "    k_model = kmeans.fit(df)\n",
    "    list_score.append(k_model.inertia_)\n",
    "    "
   ]
  },
  {
   "cell_type": "code",
   "execution_count": 77,
   "metadata": {},
   "outputs": [],
   "source": [
    "score = {k:v for (k,v) in zip(num_cluster, list_score)}"
   ]
  },
  {
   "cell_type": "code",
   "execution_count": 78,
   "metadata": {},
   "outputs": [
    {
     "data": {
      "text/plain": [
       "{1: 152150.0,\n",
       " 2: 112666.24317786373,\n",
       " 3: 94852.23306463755,\n",
       " 4: 85672.13962067071,\n",
       " 5: 76800.82912106668,\n",
       " 6: 70624.92598260878,\n",
       " 7: 66985.32439998919,\n",
       " 8: 63453.01507783477,\n",
       " 9: 60455.14238720134,\n",
       " 10: 57777.0407306106,\n",
       " 11: 55651.068948734974,\n",
       " 12: 53595.78139295884,\n",
       " 13: 51992.50483866334,\n",
       " 14: 50075.5282474251,\n",
       " 15: 48673.963349527156,\n",
       " 16: 47224.50724258965,\n",
       " 17: 46054.50056898188,\n",
       " 18: 45372.80118552735,\n",
       " 19: 44242.616068196105,\n",
       " 20: 43436.36835655591,\n",
       " 21: 42412.4296647948,\n",
       " 22: 41851.06952684499,\n",
       " 23: 40894.878326707636,\n",
       " 24: 40143.42265722963,\n",
       " 25: 39406.53161429507,\n",
       " 26: 38921.61524637377,\n",
       " 27: 38318.926996845075,\n",
       " 28: 37636.47652420041,\n",
       " 29: 37096.05386947794,\n",
       " 30: 36765.53438891197}"
      ]
     },
     "execution_count": 78,
     "metadata": {},
     "output_type": "execute_result"
    }
   ],
   "source": [
    "score"
   ]
  },
  {
   "cell_type": "markdown",
   "metadata": {},
   "source": [
    "### Plot the graph to visualize the Elbow Method to find the optimal number of cluster "
   ]
  },
  {
   "cell_type": "code",
   "execution_count": 123,
   "metadata": {
    "scrolled": true
   },
   "outputs": [
    {
     "data": {
      "image/png": "[encoded data removed]",
      "text/plain": [
       "<Figure size 720x720 with 1 Axes>"
      ]
     },
     "metadata": {
      "needs_background": "light"
     },
     "output_type": "display_data"
    }
   ],
   "source": [
    "plt.figure(figsize=(10,10))\n",
    "plt.plot(range(1, 31),list_score, 'bx-')\n",
    "plt.title('The Elbow Method')\n",
    "plt.xlabel('Number of clusters')\n",
    "plt.ylabel('Score')\n",
    "plt.show()"
   ]
  },
  {
   "cell_type": "markdown",
   "metadata": {},
   "source": [
    "### Applying KMeans to the dataset with the optimal number of cluster and store the clusters in the dataframe."
   ]
  },
  {
   "cell_type": "code",
   "execution_count": 95,
   "metadata": {},
   "outputs": [],
   "source": [
    "kmeans = KMeans(n_clusters=6, random_state=10)\n",
    "X = kmeans.fit_predict(df)"
   ]
  },
  {
   "cell_type": "code",
   "execution_count": 96,
   "metadata": {},
   "outputs": [],
   "source": [
    "df['Target'] = X"
   ]
  },
  {
   "cell_type": "code",
   "execution_count": 98,
   "metadata": {},
   "outputs": [
    {
     "data": {
      "text/plain": [
       "3    2230\n",
       "4    1709\n",
       "1    1445\n",
       "5    1316\n",
       "0    1274\n",
       "2     976\n",
       "Name: Target, dtype: int64"
      ]
     },
     "execution_count": 98,
     "metadata": {},
     "output_type": "execute_result"
    }
   ],
   "source": [
    "df['Target'].value_counts()"
   ]
  },
  {
   "cell_type": "code",
   "execution_count": 124,
   "metadata": {},
   "outputs": [
    {
     "data": {
      "text/html": [
       "<div>\n",
       "<style scoped>\n",
       "    .dataframe tbody tr th:only-of-type {\n",
       "        vertical-align: middle;\n",
       "    }\n",
       "\n",
       "    .dataframe tbody tr th {\n",
       "        vertical-align: top;\n",
       "    }\n",
       "\n",
       "    .dataframe thead th {\n",
       "        text-align: right;\n",
       "    }\n",
       "</style>\n",
       "<table border=\"1\" class=\"dataframe\">\n",
       "  <thead>\n",
       "    <tr style=\"text-align: right;\">\n",
       "      <th></th>\n",
       "      <th>BALANCE</th>\n",
       "      <th>BALANCE_FREQUENCY</th>\n",
       "      <th>PURCHASES</th>\n",
       "      <th>ONEOFF_PURCHASES</th>\n",
       "      <th>INSTALLMENTS_PURCHASES</th>\n",
       "      <th>CASH_ADVANCE</th>\n",
       "      <th>PURCHASES_FREQUENCY</th>\n",
       "      <th>ONEOFF_PURCHASES_FREQUENCY</th>\n",
       "      <th>PURCHASES_INSTALLMENTS_FREQUENCY</th>\n",
       "      <th>CASH_ADVANCE_FREQUENCY</th>\n",
       "      <th>CASH_ADVANCE_TRX</th>\n",
       "      <th>PURCHASES_TRX</th>\n",
       "      <th>CREDIT_LIMIT</th>\n",
       "      <th>PAYMENTS</th>\n",
       "      <th>MINIMUM_PAYMENTS</th>\n",
       "      <th>PRC_FULL_PAYMENT</th>\n",
       "      <th>TENURE</th>\n",
       "      <th>Target</th>\n",
       "    </tr>\n",
       "  </thead>\n",
       "  <tbody>\n",
       "    <tr>\n",
       "      <th>0</th>\n",
       "      <td>-1.205218</td>\n",
       "      <td>-0.249434</td>\n",
       "      <td>-0.113532</td>\n",
       "      <td>-0.987090</td>\n",
       "      <td>0.394480</td>\n",
       "      <td>-0.930733</td>\n",
       "      <td>-0.806490</td>\n",
       "      <td>-0.732480</td>\n",
       "      <td>-0.674253</td>\n",
       "      <td>-0.724360</td>\n",
       "      <td>-0.810069</td>\n",
       "      <td>-0.579510</td>\n",
       "      <td>-1.447163</td>\n",
       "      <td>-0.824484</td>\n",
       "      <td>-0.829841</td>\n",
       "      <td>-0.556368</td>\n",
       "      <td>0.36068</td>\n",
       "      <td>2</td>\n",
       "    </tr>\n",
       "    <tr>\n",
       "      <th>1</th>\n",
       "      <td>0.948918</td>\n",
       "      <td>0.134325</td>\n",
       "      <td>-1.679855</td>\n",
       "      <td>-0.987090</td>\n",
       "      <td>-1.087454</td>\n",
       "      <td>1.528788</td>\n",
       "      <td>-1.221758</td>\n",
       "      <td>-0.732480</td>\n",
       "      <td>-0.958256</td>\n",
       "      <td>0.699592</td>\n",
       "      <td>0.784603</td>\n",
       "      <td>-1.379210</td>\n",
       "      <td>0.926060</td>\n",
       "      <td>1.065033</td>\n",
       "      <td>0.908184</td>\n",
       "      <td>0.391958</td>\n",
       "      <td>0.36068</td>\n",
       "      <td>3</td>\n",
       "    </tr>\n",
       "    <tr>\n",
       "      <th>2</th>\n",
       "      <td>0.824993</td>\n",
       "      <td>0.518084</td>\n",
       "      <td>0.600727</td>\n",
       "      <td>1.062022</td>\n",
       "      <td>-1.087454</td>\n",
       "      <td>-0.930733</td>\n",
       "      <td>1.269843</td>\n",
       "      <td>2.466762</td>\n",
       "      <td>-0.958256</td>\n",
       "      <td>-0.724360</td>\n",
       "      <td>-0.810069</td>\n",
       "      <td>0.487865</td>\n",
       "      <td>1.010229</td>\n",
       "      <td>-0.119300</td>\n",
       "      <td>0.450407</td>\n",
       "      <td>-0.556368</td>\n",
       "      <td>0.36068</td>\n",
       "      <td>5</td>\n",
       "    </tr>\n",
       "    <tr>\n",
       "      <th>3</th>\n",
       "      <td>0.624653</td>\n",
       "      <td>-1.016953</td>\n",
       "      <td>0.827499</td>\n",
       "      <td>1.265778</td>\n",
       "      <td>-1.087454</td>\n",
       "      <td>0.564372</td>\n",
       "      <td>-1.014125</td>\n",
       "      <td>-0.363042</td>\n",
       "      <td>-0.958256</td>\n",
       "      <td>-0.213583</td>\n",
       "      <td>-0.123281</td>\n",
       "      <td>-0.874655</td>\n",
       "      <td>1.010229</td>\n",
       "      <td>-4.161996</td>\n",
       "      <td>-0.144271</td>\n",
       "      <td>-0.556368</td>\n",
       "      <td>0.36068</td>\n",
       "      <td>5</td>\n",
       "    </tr>\n",
       "    <tr>\n",
       "      <th>4</th>\n",
       "      <td>0.271260</td>\n",
       "      <td>0.518084</td>\n",
       "      <td>-0.708481</td>\n",
       "      <td>-0.114307</td>\n",
       "      <td>-1.087454</td>\n",
       "      <td>-0.930733</td>\n",
       "      <td>-1.014125</td>\n",
       "      <td>-0.363042</td>\n",
       "      <td>-0.958256</td>\n",
       "      <td>-0.724360</td>\n",
       "      <td>-0.810069</td>\n",
       "      <td>-0.874655</td>\n",
       "      <td>-1.224909</td>\n",
       "      <td>-0.064979</td>\n",
       "      <td>-0.351833</td>\n",
       "      <td>-0.556368</td>\n",
       "      <td>0.36068</td>\n",
       "      <td>5</td>\n",
       "    </tr>\n",
       "  </tbody>\n",
       "</table>\n",
       "</div>"
      ],
      "text/plain": [
       "    BALANCE  BALANCE_FREQUENCY  PURCHASES  ONEOFF_PURCHASES  \\\n",
       "0 -1.205218          -0.249434  -0.113532         -0.987090   \n",
       "1  0.948918           0.134325  -1.679855         -0.987090   \n",
       "2  0.824993           0.518084   0.600727          1.062022   \n",
       "3  0.624653          -1.016953   0.827499          1.265778   \n",
       "4  0.271260           0.518084  -0.708481         -0.114307   \n",
       "\n",
       "   INSTALLMENTS_PURCHASES  CASH_ADVANCE  PURCHASES_FREQUENCY  \\\n",
       "0                0.394480     -0.930733            -0.806490   \n",
       "1               -1.087454      1.528788            -1.221758   \n",
       "2               -1.087454     -0.930733             1.269843   \n",
       "3               -1.087454      0.564372            -1.014125   \n",
       "4               -1.087454     -0.930733            -1.014125   \n",
       "\n",
       "   ONEOFF_PURCHASES_FREQUENCY  PURCHASES_INSTALLMENTS_FREQUENCY  \\\n",
       "0                   -0.732480                         -0.674253   \n",
       "1                   -0.732480                         -0.958256   \n",
       "2                    2.466762                         -0.958256   \n",
       "3                   -0.363042                         -0.958256   \n",
       "4                   -0.363042                         -0.958256   \n",
       "\n",
       "   CASH_ADVANCE_FREQUENCY  CASH_ADVANCE_TRX  PURCHASES_TRX  CREDIT_LIMIT  \\\n",
       "0               -0.724360         -0.810069      -0.579510     -1.447163   \n",
       "1                0.699592          0.784603      -1.379210      0.926060   \n",
       "2               -0.724360         -0.810069       0.487865      1.010229   \n",
       "3               -0.213583         -0.123281      -0.874655      1.010229   \n",
       "4               -0.724360         -0.810069      -0.874655     -1.224909   \n",
       "\n",
       "   PAYMENTS  MINIMUM_PAYMENTS  PRC_FULL_PAYMENT   TENURE  Target  \n",
       "0 -0.824484         -0.829841         -0.556368  0.36068       2  \n",
       "1  1.065033          0.908184          0.391958  0.36068       3  \n",
       "2 -0.119300          0.450407         -0.556368  0.36068       5  \n",
       "3 -4.161996         -0.144271         -0.556368  0.36068       5  \n",
       "4 -0.064979         -0.351833         -0.556368  0.36068       5  "
      ]
     },
     "execution_count": 124,
     "metadata": {},
     "output_type": "execute_result"
    }
   ],
   "source": [
    "df.head()"
   ]
  },
  {
   "cell_type": "markdown",
   "metadata": {},
   "source": [
    "### Interpretation of Clusters"
   ]
  },
  {
   "cell_type": "code",
   "execution_count": 104,
   "metadata": {},
   "outputs": [],
   "source": [
    "cluster_display = df['Target'].value_counts()"
   ]
  },
  {
   "cell_type": "code",
   "execution_count": 109,
   "metadata": {},
   "outputs": [
    {
     "data": {
      "text/plain": [
       "<matplotlib.axes._subplots.AxesSubplot at 0x1a3da5b160>"
      ]
     },
     "execution_count": 109,
     "metadata": {},
     "output_type": "execute_result"
    },
    {
     "data": {
      "image/png": "[encoded data removed]",
      "text/plain": [
       "<Figure size 432x288 with 1 Axes>"
      ]
     },
     "metadata": {
      "needs_background": "light"
     },
     "output_type": "display_data"
    }
   ],
   "source": [
    "sns.countplot(df['Target'])"
   ]
  },
  {
   "cell_type": "code",
   "execution_count": 126,
   "metadata": {},
   "outputs": [
    {
     "data": {
      "image/png": "[encoded data removed]",
      "text/plain": [
       "<Figure size 1296x216 with 6 Axes>"
      ]
     },
     "metadata": {
      "needs_background": "light"
     },
     "output_type": "display_data"
    },
    {
     "data": {
      "image/png": "[encoded data removed]",
      "text/plain": [
       "<Figure size 1296x216 with 6 Axes>"
      ]
     },
     "metadata": {
      "needs_background": "light"
     },
     "output_type": "display_data"
    },
    {
     "data": {
      "image/png": "[encoded data removed]",
      "text/plain": [
       "<Figure size 1296x216 with 6 Axes>"
      ]
     },
     "metadata": {
      "needs_background": "light"
     },
     "output_type": "display_data"
    },
    {
     "data": {
      "image/png": "[encoded data removed]",
      "text/plain": [
       "<Figure size 1296x216 with 6 Axes>"
      ]
     },
     "metadata": {
      "needs_background": "light"
     },
     "output_type": "display_data"
    },
    {
     "data": {
      "image/png": "[encoded data removed]",
      "text/plain": [
       "<Figure size 1296x216 with 6 Axes>"
      ]
     },
     "metadata": {
      "needs_background": "light"
     },
     "output_type": "display_data"
    },
    {
     "data": {
      "image/png": "[encoded data removed]",
      "text/plain": [
       "<Figure size 1296x216 with 6 Axes>"
      ]
     },
     "metadata": {
      "needs_background": "light"
     },
     "output_type": "display_data"
    },
    {
     "data": {
      "image/png": "[encoded data removed]",
      "text/plain": [
       "<Figure size 1296x216 with 6 Axes>"
      ]
     },
     "metadata": {
      "needs_background": "light"
     },
     "output_type": "display_data"
    },
    {
     "data": {
      "image/png": "[encoded data removed]",
      "text/plain": [
       "<Figure size 1296x216 with 6 Axes>"
      ]
     },
     "metadata": {
      "needs_background": "light"
     },
     "output_type": "display_data"
    },
    {
     "data": {
      "image/png": "[encoded data removed]",
      "text/plain": [
       "<Figure size 1296x216 with 6 Axes>"
      ]
     },
     "metadata": {
      "needs_background": "light"
     },
     "output_type": "display_data"
    },
    {
     "data": {
      "image/png": "[encoded data removed]",
      "text/plain": [
       "<Figure size 1296x216 with 6 Axes>"
      ]
     },
     "metadata": {
      "needs_background": "light"
     },
     "output_type": "display_data"
    },
    {
     "data": {
      "image/png": "[encoded data removed]",
      "text/plain": [
       "<Figure size 1296x216 with 6 Axes>"
      ]
     },
     "metadata": {
      "needs_background": "light"
     },
     "output_type": "display_data"
    },
    {
     "data": {
      "image/png": "[encoded data removed]",
      "text/plain": [
       "<Figure size 1296x216 with 6 Axes>"
      ]
     },
     "metadata": {
      "needs_background": "light"
     },
     "output_type": "display_data"
    },
    {
     "data": {
      "image/png": "[encoded data removed]",
      "text/plain": [
       "<Figure size 1296x216 with 6 Axes>"
      ]
     },
     "metadata": {
      "needs_background": "light"
     },
     "output_type": "display_data"
    },
    {
     "data": {
      "image/png": "[encoded data removed]",
      "text/plain": [
       "<Figure size 1296x216 with 6 Axes>"
      ]
     },
     "metadata": {
      "needs_background": "light"
     },
     "output_type": "display_data"
    },
    {
     "data": {
      "image/png": "[encoded data removed]",
      "text/plain": [
       "<Figure size 1296x216 with 6 Axes>"
      ]
     },
     "metadata": {
      "needs_background": "light"
     },
     "output_type": "display_data"
    },
    {
     "data": {
      "image/png": "[encoded data removed]",
      "text/plain": [
       "<Figure size 1296x216 with 6 Axes>"
      ]
     },
     "metadata": {
      "needs_background": "light"
     },
     "output_type": "display_data"
    },
    {
     "data": {
      "image/png": "[encoded data removed]",
      "text/plain": [
       "<Figure size 1296x216 with 6 Axes>"
      ]
     },
     "metadata": {
      "needs_background": "light"
     },
     "output_type": "display_data"
    },
    {
     "data": {
      "image/png": "[encoded data removed]",
      "text/plain": [
       "<Figure size 1296x216 with 6 Axes>"
      ]
     },
     "metadata": {
      "needs_background": "light"
     },
     "output_type": "display_data"
    }
   ],
   "source": [
    "for c in df:\n",
    "    grid= sns.FacetGrid(df, col='Target')\n",
    "    grid.map(plt.hist, c)"
   ]
  },
  {
   "cell_type": "markdown",
   "metadata": {},
   "source": [
    "### Visualization of Clusters, use PCA to transform data to 2 dimensions for visualization"
   ]
  },
  {
   "cell_type": "code",
   "execution_count": 111,
   "metadata": {},
   "outputs": [],
   "source": [
    "pca = PCA(n_components=2, random_state=10)"
   ]
  },
  {
   "cell_type": "code",
   "execution_count": 118,
   "metadata": {},
   "outputs": [],
   "source": [
    "d2_visual = pca.fit_transform(df[ : -1])"
   ]
  },
  {
   "cell_type": "code",
   "execution_count": 121,
   "metadata": {},
   "outputs": [
    {
     "data": {
      "text/plain": [
       "<matplotlib.axes._subplots.AxesSubplot at 0x1a3fc04550>"
      ]
     },
     "execution_count": 121,
     "metadata": {},
     "output_type": "execute_result"
    },
    {
     "data": {
      "image/png": "[encoded data removed]",
      "text/plain": [
       "<Figure size 432x288 with 1 Axes>"
      ]
     },
     "metadata": {
      "needs_background": "light"
     },
     "output_type": "display_data"
    }
   ],
   "source": [
    "sns.scatterplot(data=d2_visual, hue=df['Target'])"
   ]
  },
  {
   "cell_type": "code",
   "execution_count": null,
   "metadata": {},
   "outputs": [],
   "source": []
  }
 ],
 "metadata": {
  "kernelspec": {
   "display_name": "Python 3",
   "language": "python",
   "name": "python3"
  },
  "language_info": {
   "codemirror_mode": {
    "name": "ipython",
    "version": 3
   },
   "file_extension": ".py",
   "mimetype": "text/x-python",
   "name": "python",
   "nbconvert_exporter": "python",
   "pygments_lexer": "ipython3",
   "version": "3.7.7"
  }
 },
 "nbformat": 4,
 "nbformat_minor": 2
}
