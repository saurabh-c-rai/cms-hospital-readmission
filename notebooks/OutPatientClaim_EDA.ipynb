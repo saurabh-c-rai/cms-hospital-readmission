{
 "cells": [
  {
   "cell_type": "code",
   "execution_count": 1,
   "metadata": {},
   "outputs": [],
   "source": [
    "from IPython.core.interactiveshell import InteractiveShell\n",
    "InteractiveShell.ast_node_interactivity = 'all'"
   ]
  },
  {
   "cell_type": "code",
   "execution_count": 2,
   "metadata": {},
   "outputs": [],
   "source": [
    "import pandas as pd\n",
    "import numpy as np\n",
    "import sqlite3\n",
    "import json\n",
    "import requests"
   ]
  },
  {
   "cell_type": "code",
   "execution_count": 3,
   "metadata": {},
   "outputs": [],
   "source": [
    "with open('../config.json', 'r') as f:\n",
    "    config = json.load(f)"
   ]
  },
  {
   "cell_type": "code",
   "execution_count": 4,
   "metadata": {},
   "outputs": [
    {
     "data": {
      "text/plain": [
       "dict_keys(['threshold_nan'])"
      ]
     },
     "execution_count": 4,
     "metadata": {},
     "output_type": "execute_result"
    },
    {
     "data": {
      "text/plain": [
       "dict_keys(['database_path', 'prvdr_category_file', 'icd9_procedure_code_category_file', 'hcpcs_code_category_file'])"
      ]
     },
     "execution_count": 4,
     "metadata": {},
     "output_type": "execute_result"
    },
    {
     "data": {
      "text/plain": [
       "dict_keys(['ICD9_DIAGNOSIS_CODE_CATEGORY_URL', 'HCPCS_CATEGORY_URL'])"
      ]
     },
     "execution_count": 4,
     "metadata": {},
     "output_type": "execute_result"
    }
   ],
   "source": [
    "config[0].keys()\n",
    "config[1].keys()\n",
    "config[2].keys()"
   ]
  },
  {
   "cell_type": "code",
   "execution_count": 5,
   "metadata": {},
   "outputs": [],
   "source": [
    "conn_object = sqlite3.connect(config[1]['database_path'])"
   ]
  },
  {
   "cell_type": "code",
   "execution_count": 6,
   "metadata": {},
   "outputs": [
    {
     "name": "stderr",
     "output_type": "stream",
     "text": [
      "c:\\MachineLearning\\DataScience\\lib\\site-packages\\IPython\\core\\interactiveshell.py:3063: DtypeWarning: Columns (21,23,24,25,26,27) have mixed types.Specify dtype option on import or set low_memory=False.\n",
      "  interactivity=interactivity, compiler=compiler, result=result)\n"
     ]
    }
   ],
   "source": [
    "data_outpatient_claims_2 = pd.read_csv('..\\input\\DE1.0 Sample2\\DE1_0_2008_to_2010_Outpatient_Claims_Sample_2.zip')"
   ]
  },
  {
   "cell_type": "code",
   "execution_count": 7,
   "metadata": {},
   "outputs": [
    {
     "data": {
      "text/plain": [
       "(792562, 76)"
      ]
     },
     "execution_count": 7,
     "metadata": {},
     "output_type": "execute_result"
    },
    {
     "data": {
      "text/html": [
       "<div>\n",
       "<style scoped>\n",
       "    .dataframe tbody tr th:only-of-type {\n",
       "        vertical-align: middle;\n",
       "    }\n",
       "\n",
       "    .dataframe tbody tr th {\n",
       "        vertical-align: top;\n",
       "    }\n",
       "\n",
       "    .dataframe thead th {\n",
       "        text-align: right;\n",
       "    }\n",
       "</style>\n",
       "<table border=\"1\" class=\"dataframe\">\n",
       "  <thead>\n",
       "    <tr style=\"text-align: right;\">\n",
       "      <th></th>\n",
       "      <th>DESYNPUF_ID</th>\n",
       "      <th>CLM_ID</th>\n",
       "      <th>SEGMENT</th>\n",
       "      <th>CLM_FROM_DT</th>\n",
       "      <th>CLM_THRU_DT</th>\n",
       "      <th>PRVDR_NUM</th>\n",
       "      <th>CLM_PMT_AMT</th>\n",
       "      <th>NCH_PRMRY_PYR_CLM_PD_AMT</th>\n",
       "      <th>AT_PHYSN_NPI</th>\n",
       "      <th>OP_PHYSN_NPI</th>\n",
       "      <th>...</th>\n",
       "      <th>HCPCS_CD_36</th>\n",
       "      <th>HCPCS_CD_37</th>\n",
       "      <th>HCPCS_CD_38</th>\n",
       "      <th>HCPCS_CD_39</th>\n",
       "      <th>HCPCS_CD_40</th>\n",
       "      <th>HCPCS_CD_41</th>\n",
       "      <th>HCPCS_CD_42</th>\n",
       "      <th>HCPCS_CD_43</th>\n",
       "      <th>HCPCS_CD_44</th>\n",
       "      <th>HCPCS_CD_45</th>\n",
       "    </tr>\n",
       "  </thead>\n",
       "  <tbody>\n",
       "    <tr>\n",
       "      <th>0</th>\n",
       "      <td>00000B48BCF4AD29</td>\n",
       "      <td>391362254696220</td>\n",
       "      <td>1</td>\n",
       "      <td>20080315.0</td>\n",
       "      <td>20080315.0</td>\n",
       "      <td>10026U</td>\n",
       "      <td>70.0</td>\n",
       "      <td>0.0</td>\n",
       "      <td>2.296430e+09</td>\n",
       "      <td>NaN</td>\n",
       "      <td>...</td>\n",
       "      <td>NaN</td>\n",
       "      <td>NaN</td>\n",
       "      <td>NaN</td>\n",
       "      <td>NaN</td>\n",
       "      <td>NaN</td>\n",
       "      <td>NaN</td>\n",
       "      <td>NaN</td>\n",
       "      <td>NaN</td>\n",
       "      <td>NaN</td>\n",
       "      <td>NaN</td>\n",
       "    </tr>\n",
       "    <tr>\n",
       "      <th>1</th>\n",
       "      <td>00000B48BCF4AD29</td>\n",
       "      <td>391612254357344</td>\n",
       "      <td>1</td>\n",
       "      <td>20080405.0</td>\n",
       "      <td>20080405.0</td>\n",
       "      <td>0300YM</td>\n",
       "      <td>50.0</td>\n",
       "      <td>0.0</td>\n",
       "      <td>5.824171e+09</td>\n",
       "      <td>NaN</td>\n",
       "      <td>...</td>\n",
       "      <td>NaN</td>\n",
       "      <td>NaN</td>\n",
       "      <td>NaN</td>\n",
       "      <td>NaN</td>\n",
       "      <td>NaN</td>\n",
       "      <td>NaN</td>\n",
       "      <td>NaN</td>\n",
       "      <td>NaN</td>\n",
       "      <td>NaN</td>\n",
       "      <td>NaN</td>\n",
       "    </tr>\n",
       "    <tr>\n",
       "      <th>2</th>\n",
       "      <td>00000B48BCF4AD29</td>\n",
       "      <td>391812254100253</td>\n",
       "      <td>1</td>\n",
       "      <td>20080604.0</td>\n",
       "      <td>20080621.0</td>\n",
       "      <td>1002GD</td>\n",
       "      <td>300.0</td>\n",
       "      <td>0.0</td>\n",
       "      <td>6.317513e+08</td>\n",
       "      <td>NaN</td>\n",
       "      <td>...</td>\n",
       "      <td>NaN</td>\n",
       "      <td>NaN</td>\n",
       "      <td>NaN</td>\n",
       "      <td>NaN</td>\n",
       "      <td>NaN</td>\n",
       "      <td>NaN</td>\n",
       "      <td>NaN</td>\n",
       "      <td>NaN</td>\n",
       "      <td>NaN</td>\n",
       "      <td>NaN</td>\n",
       "    </tr>\n",
       "    <tr>\n",
       "      <th>3</th>\n",
       "      <td>00000B48BCF4AD29</td>\n",
       "      <td>391012254328356</td>\n",
       "      <td>1</td>\n",
       "      <td>20081024.0</td>\n",
       "      <td>20081024.0</td>\n",
       "      <td>1000GD</td>\n",
       "      <td>1100.0</td>\n",
       "      <td>0.0</td>\n",
       "      <td>7.611013e+09</td>\n",
       "      <td>7.611013e+09</td>\n",
       "      <td>...</td>\n",
       "      <td>NaN</td>\n",
       "      <td>NaN</td>\n",
       "      <td>NaN</td>\n",
       "      <td>NaN</td>\n",
       "      <td>NaN</td>\n",
       "      <td>NaN</td>\n",
       "      <td>NaN</td>\n",
       "      <td>NaN</td>\n",
       "      <td>NaN</td>\n",
       "      <td>NaN</td>\n",
       "    </tr>\n",
       "    <tr>\n",
       "      <th>4</th>\n",
       "      <td>00000B48BCF4AD29</td>\n",
       "      <td>391602254471197</td>\n",
       "      <td>1</td>\n",
       "      <td>20090414.0</td>\n",
       "      <td>20090414.0</td>\n",
       "      <td>1000UU</td>\n",
       "      <td>60.0</td>\n",
       "      <td>0.0</td>\n",
       "      <td>7.190756e+09</td>\n",
       "      <td>NaN</td>\n",
       "      <td>...</td>\n",
       "      <td>NaN</td>\n",
       "      <td>NaN</td>\n",
       "      <td>NaN</td>\n",
       "      <td>NaN</td>\n",
       "      <td>NaN</td>\n",
       "      <td>NaN</td>\n",
       "      <td>NaN</td>\n",
       "      <td>NaN</td>\n",
       "      <td>NaN</td>\n",
       "      <td>NaN</td>\n",
       "    </tr>\n",
       "  </tbody>\n",
       "</table>\n",
       "<p>5 rows × 76 columns</p>\n",
       "</div>"
      ],
      "text/plain": [
       "        DESYNPUF_ID           CLM_ID  SEGMENT  CLM_FROM_DT  CLM_THRU_DT  \\\n",
       "0  00000B48BCF4AD29  391362254696220        1   20080315.0   20080315.0   \n",
       "1  00000B48BCF4AD29  391612254357344        1   20080405.0   20080405.0   \n",
       "2  00000B48BCF4AD29  391812254100253        1   20080604.0   20080621.0   \n",
       "3  00000B48BCF4AD29  391012254328356        1   20081024.0   20081024.0   \n",
       "4  00000B48BCF4AD29  391602254471197        1   20090414.0   20090414.0   \n",
       "\n",
       "  PRVDR_NUM  CLM_PMT_AMT  NCH_PRMRY_PYR_CLM_PD_AMT  AT_PHYSN_NPI  \\\n",
       "0    10026U         70.0                       0.0  2.296430e+09   \n",
       "1    0300YM         50.0                       0.0  5.824171e+09   \n",
       "2    1002GD        300.0                       0.0  6.317513e+08   \n",
       "3    1000GD       1100.0                       0.0  7.611013e+09   \n",
       "4    1000UU         60.0                       0.0  7.190756e+09   \n",
       "\n",
       "   OP_PHYSN_NPI  ...  HCPCS_CD_36  HCPCS_CD_37 HCPCS_CD_38 HCPCS_CD_39  \\\n",
       "0           NaN  ...          NaN          NaN         NaN         NaN   \n",
       "1           NaN  ...          NaN          NaN         NaN         NaN   \n",
       "2           NaN  ...          NaN          NaN         NaN         NaN   \n",
       "3  7.611013e+09  ...          NaN          NaN         NaN         NaN   \n",
       "4           NaN  ...          NaN          NaN         NaN         NaN   \n",
       "\n",
       "  HCPCS_CD_40 HCPCS_CD_41 HCPCS_CD_42 HCPCS_CD_43 HCPCS_CD_44 HCPCS_CD_45  \n",
       "0         NaN         NaN         NaN         NaN         NaN         NaN  \n",
       "1         NaN         NaN         NaN         NaN         NaN         NaN  \n",
       "2         NaN         NaN         NaN         NaN         NaN         NaN  \n",
       "3         NaN         NaN         NaN         NaN         NaN         NaN  \n",
       "4         NaN         NaN         NaN         NaN         NaN         NaN  \n",
       "\n",
       "[5 rows x 76 columns]"
      ]
     },
     "execution_count": 7,
     "metadata": {},
     "output_type": "execute_result"
    },
    {
     "data": {
      "text/plain": [
       "DESYNPUF_ID         0\n",
       "CLM_ID              0\n",
       "SEGMENT             0\n",
       "CLM_FROM_DT     11201\n",
       "CLM_THRU_DT     11201\n",
       "                ...  \n",
       "HCPCS_CD_41    779895\n",
       "HCPCS_CD_42    780611\n",
       "HCPCS_CD_43    781377\n",
       "HCPCS_CD_44    782013\n",
       "HCPCS_CD_45    792562\n",
       "Length: 76, dtype: int64"
      ]
     },
     "execution_count": 7,
     "metadata": {},
     "output_type": "execute_result"
    }
   ],
   "source": [
    "data_outpatient_claims_2.shape\n",
    "data_outpatient_claims_2.head()\n",
    "data_outpatient_claims_2.isna().sum()"
   ]
  },
  {
   "cell_type": "markdown",
   "metadata": {},
   "source": [
    "# Checking the columns for NaN and dropping them if NaN are more than a threshold value"
   ]
  },
  {
   "cell_type": "code",
   "execution_count": 8,
   "metadata": {},
   "outputs": [
    {
     "data": {
      "text/plain": [
       "CLM_FROM_DT            0.014133\n",
       "CLM_THRU_DT            0.014133\n",
       "AT_PHYSN_NPI           0.022473\n",
       "OP_PHYSN_NPI           0.830026\n",
       "OT_PHYSN_NPI           0.673969\n",
       "ICD9_DGNS_CD_1         0.007071\n",
       "ICD9_DGNS_CD_2         0.377246\n",
       "ICD9_DGNS_CD_3         0.606536\n",
       "ICD9_DGNS_CD_4         0.757915\n",
       "ICD9_DGNS_CD_5         0.858270\n",
       "ICD9_DGNS_CD_6         0.908005\n",
       "ICD9_DGNS_CD_7         0.937870\n",
       "ICD9_DGNS_CD_8         0.956885\n",
       "ICD9_DGNS_CD_9         0.970229\n",
       "ICD9_DGNS_CD_10        0.998015\n",
       "ICD9_PRCDR_CD_1        0.999762\n",
       "ICD9_PRCDR_CD_2        0.999855\n",
       "ICD9_PRCDR_CD_3        0.999905\n",
       "ICD9_PRCDR_CD_4        0.999937\n",
       "ICD9_PRCDR_CD_5        0.999953\n",
       "ICD9_PRCDR_CD_6        0.999965\n",
       "ADMTNG_ICD9_DGNS_CD    0.754299\n",
       "HCPCS_CD_1             0.182829\n",
       "HCPCS_CD_2             0.429488\n",
       "HCPCS_CD_3             0.581735\n",
       "HCPCS_CD_4             0.655397\n",
       "HCPCS_CD_5             0.713780\n",
       "HCPCS_CD_6             0.759249\n",
       "HCPCS_CD_7             0.797356\n",
       "HCPCS_CD_8             0.825699\n",
       "HCPCS_CD_9             0.848388\n",
       "HCPCS_CD_10            0.866250\n",
       "HCPCS_CD_11            0.881155\n",
       "HCPCS_CD_12            0.893443\n",
       "HCPCS_CD_13            0.904642\n",
       "HCPCS_CD_14            0.913699\n",
       "HCPCS_CD_15            0.921835\n",
       "HCPCS_CD_16            0.928773\n",
       "HCPCS_CD_17            0.934723\n",
       "HCPCS_CD_18            0.939873\n",
       "HCPCS_CD_19            0.944557\n",
       "HCPCS_CD_20            0.948579\n",
       "HCPCS_CD_21            0.952151\n",
       "HCPCS_CD_22            0.955494\n",
       "HCPCS_CD_23            0.958170\n",
       "HCPCS_CD_24            0.960620\n",
       "HCPCS_CD_25            0.962898\n",
       "HCPCS_CD_26            0.964786\n",
       "HCPCS_CD_27            0.966533\n",
       "HCPCS_CD_28            0.968326\n",
       "HCPCS_CD_29            0.969967\n",
       "HCPCS_CD_30            0.971462\n",
       "HCPCS_CD_31            0.972998\n",
       "HCPCS_CD_32            0.974392\n",
       "HCPCS_CD_33            0.975685\n",
       "HCPCS_CD_34            0.976785\n",
       "HCPCS_CD_35            0.977973\n",
       "HCPCS_CD_36            0.978978\n",
       "HCPCS_CD_37            0.980092\n",
       "HCPCS_CD_38            0.981065\n",
       "HCPCS_CD_39            0.981913\n",
       "HCPCS_CD_40            0.982907\n",
       "HCPCS_CD_41            0.984018\n",
       "HCPCS_CD_42            0.984921\n",
       "HCPCS_CD_43            0.985888\n",
       "HCPCS_CD_44            0.986690\n",
       "HCPCS_CD_45            1.000000\n",
       "dtype: float64"
      ]
     },
     "execution_count": 8,
     "metadata": {},
     "output_type": "execute_result"
    }
   ],
   "source": [
    "with pd.option_context('display.max_rows', None, 'display.max_columns', None):  # more options can be specified also\n",
    "    data_outpatient_claims_2.isna().sum()[data_outpatient_claims_2.isna().sum() > 0]/data_outpatient_claims_2.shape[0]"
   ]
  },
  {
   "cell_type": "code",
   "execution_count": 9,
   "metadata": {},
   "outputs": [],
   "source": [
    "not_nan_threshold = config[0]['threshold_nan']"
   ]
  },
  {
   "cell_type": "code",
   "execution_count": 10,
   "metadata": {},
   "outputs": [],
   "source": [
    "data_outpatient_claims_2.dropna(thresh=data_outpatient_claims_2.shape[0] * not_nan_threshold, how='all', axis=1, inplace=True)"
   ]
  },
  {
   "cell_type": "code",
   "execution_count": 11,
   "metadata": {},
   "outputs": [
    {
     "data": {
      "text/plain": [
       "CLM_FROM_DT       0.014133\n",
       "CLM_THRU_DT       0.014133\n",
       "AT_PHYSN_NPI      0.022473\n",
       "ICD9_DGNS_CD_1    0.007071\n",
       "ICD9_DGNS_CD_2    0.377246\n",
       "HCPCS_CD_1        0.182829\n",
       "HCPCS_CD_2        0.429488\n",
       "HCPCS_CD_3        0.581735\n",
       "dtype: float64"
      ]
     },
     "execution_count": 11,
     "metadata": {},
     "output_type": "execute_result"
    }
   ],
   "source": [
    "with pd.option_context('display.max_rows', None, 'display.max_columns', None):  # more options can be specified also\n",
    "    data_outpatient_claims_2.isna().sum()[data_outpatient_claims_2.isna().sum() > 0]/data_outpatient_claims_2.shape[0]"
   ]
  },
  {
   "cell_type": "markdown",
   "metadata": {},
   "source": [
    "# Checking and correcting dtypes of features"
   ]
  },
  {
   "cell_type": "code",
   "execution_count": 12,
   "metadata": {},
   "outputs": [],
   "source": [
    "data_outpatient_claims_2[\"CLM_FROM_DT\"] = pd.to_datetime(\n",
    "    data_outpatient_claims_2[\"CLM_FROM_DT\"], format=\"%Y%m%d\"\n",
    ")\n",
    "data_outpatient_claims_2[\"CLM_THRU_DT\"] = pd.to_datetime(\n",
    "    data_outpatient_claims_2[\"CLM_THRU_DT\"], format=\"%Y%m%d\"\n",
    ")"
   ]
  },
  {
   "cell_type": "code",
   "execution_count": 13,
   "metadata": {},
   "outputs": [
    {
     "data": {
      "text/html": [
       "<div>\n",
       "<style scoped>\n",
       "    .dataframe tbody tr th:only-of-type {\n",
       "        vertical-align: middle;\n",
       "    }\n",
       "\n",
       "    .dataframe tbody tr th {\n",
       "        vertical-align: top;\n",
       "    }\n",
       "\n",
       "    .dataframe thead th {\n",
       "        text-align: right;\n",
       "    }\n",
       "</style>\n",
       "<table border=\"1\" class=\"dataframe\">\n",
       "  <thead>\n",
       "    <tr style=\"text-align: right;\">\n",
       "      <th></th>\n",
       "      <th>DESYNPUF_ID</th>\n",
       "      <th>CLM_ID</th>\n",
       "      <th>SEGMENT</th>\n",
       "      <th>CLM_FROM_DT</th>\n",
       "      <th>CLM_THRU_DT</th>\n",
       "      <th>PRVDR_NUM</th>\n",
       "      <th>CLM_PMT_AMT</th>\n",
       "      <th>NCH_PRMRY_PYR_CLM_PD_AMT</th>\n",
       "      <th>AT_PHYSN_NPI</th>\n",
       "      <th>NCH_BENE_BLOOD_DDCTBL_LBLTY_AM</th>\n",
       "      <th>ICD9_DGNS_CD_1</th>\n",
       "      <th>ICD9_DGNS_CD_2</th>\n",
       "      <th>NCH_BENE_PTB_DDCTBL_AMT</th>\n",
       "      <th>NCH_BENE_PTB_COINSRNC_AMT</th>\n",
       "      <th>HCPCS_CD_1</th>\n",
       "      <th>HCPCS_CD_2</th>\n",
       "      <th>HCPCS_CD_3</th>\n",
       "    </tr>\n",
       "  </thead>\n",
       "  <tbody>\n",
       "    <tr>\n",
       "      <th>0</th>\n",
       "      <td>00000B48BCF4AD29</td>\n",
       "      <td>391362254696220</td>\n",
       "      <td>1</td>\n",
       "      <td>2008-03-15</td>\n",
       "      <td>2008-03-15</td>\n",
       "      <td>10026U</td>\n",
       "      <td>70.0</td>\n",
       "      <td>0.0</td>\n",
       "      <td>2.296430e+09</td>\n",
       "      <td>0.0</td>\n",
       "      <td>2721</td>\n",
       "      <td>V1250</td>\n",
       "      <td>0.0</td>\n",
       "      <td>0.0</td>\n",
       "      <td>G0103</td>\n",
       "      <td>80076</td>\n",
       "      <td>80053</td>\n",
       "    </tr>\n",
       "    <tr>\n",
       "      <th>1</th>\n",
       "      <td>00000B48BCF4AD29</td>\n",
       "      <td>391612254357344</td>\n",
       "      <td>1</td>\n",
       "      <td>2008-04-05</td>\n",
       "      <td>2008-04-05</td>\n",
       "      <td>0300YM</td>\n",
       "      <td>50.0</td>\n",
       "      <td>0.0</td>\n",
       "      <td>5.824171e+09</td>\n",
       "      <td>0.0</td>\n",
       "      <td>72999</td>\n",
       "      <td>72981</td>\n",
       "      <td>0.0</td>\n",
       "      <td>10.0</td>\n",
       "      <td>93971</td>\n",
       "      <td>NaN</td>\n",
       "      <td>NaN</td>\n",
       "    </tr>\n",
       "    <tr>\n",
       "      <th>2</th>\n",
       "      <td>00000B48BCF4AD29</td>\n",
       "      <td>391812254100253</td>\n",
       "      <td>1</td>\n",
       "      <td>2008-06-04</td>\n",
       "      <td>2008-06-21</td>\n",
       "      <td>1002GD</td>\n",
       "      <td>300.0</td>\n",
       "      <td>0.0</td>\n",
       "      <td>6.317513e+08</td>\n",
       "      <td>0.0</td>\n",
       "      <td>7216</td>\n",
       "      <td>NaN</td>\n",
       "      <td>0.0</td>\n",
       "      <td>40.0</td>\n",
       "      <td>97110</td>\n",
       "      <td>97001</td>\n",
       "      <td>97010</td>\n",
       "    </tr>\n",
       "    <tr>\n",
       "      <th>3</th>\n",
       "      <td>00000B48BCF4AD29</td>\n",
       "      <td>391012254328356</td>\n",
       "      <td>1</td>\n",
       "      <td>2008-10-24</td>\n",
       "      <td>2008-10-24</td>\n",
       "      <td>1000GD</td>\n",
       "      <td>1100.0</td>\n",
       "      <td>0.0</td>\n",
       "      <td>7.611013e+09</td>\n",
       "      <td>0.0</td>\n",
       "      <td>99671</td>\n",
       "      <td>4019</td>\n",
       "      <td>0.0</td>\n",
       "      <td>30.0</td>\n",
       "      <td>NaN</td>\n",
       "      <td>84484</td>\n",
       "      <td>V2632</td>\n",
       "    </tr>\n",
       "    <tr>\n",
       "      <th>4</th>\n",
       "      <td>00000B48BCF4AD29</td>\n",
       "      <td>391602254471197</td>\n",
       "      <td>1</td>\n",
       "      <td>2009-04-14</td>\n",
       "      <td>2009-04-14</td>\n",
       "      <td>1000UU</td>\n",
       "      <td>60.0</td>\n",
       "      <td>0.0</td>\n",
       "      <td>7.190756e+09</td>\n",
       "      <td>0.0</td>\n",
       "      <td>7916</td>\n",
       "      <td>V7644</td>\n",
       "      <td>0.0</td>\n",
       "      <td>0.0</td>\n",
       "      <td>36415</td>\n",
       "      <td>86800</td>\n",
       "      <td>85027</td>\n",
       "    </tr>\n",
       "  </tbody>\n",
       "</table>\n",
       "</div>"
      ],
      "text/plain": [
       "        DESYNPUF_ID           CLM_ID  SEGMENT CLM_FROM_DT CLM_THRU_DT  \\\n",
       "0  00000B48BCF4AD29  391362254696220        1  2008-03-15  2008-03-15   \n",
       "1  00000B48BCF4AD29  391612254357344        1  2008-04-05  2008-04-05   \n",
       "2  00000B48BCF4AD29  391812254100253        1  2008-06-04  2008-06-21   \n",
       "3  00000B48BCF4AD29  391012254328356        1  2008-10-24  2008-10-24   \n",
       "4  00000B48BCF4AD29  391602254471197        1  2009-04-14  2009-04-14   \n",
       "\n",
       "  PRVDR_NUM  CLM_PMT_AMT  NCH_PRMRY_PYR_CLM_PD_AMT  AT_PHYSN_NPI  \\\n",
       "0    10026U         70.0                       0.0  2.296430e+09   \n",
       "1    0300YM         50.0                       0.0  5.824171e+09   \n",
       "2    1002GD        300.0                       0.0  6.317513e+08   \n",
       "3    1000GD       1100.0                       0.0  7.611013e+09   \n",
       "4    1000UU         60.0                       0.0  7.190756e+09   \n",
       "\n",
       "   NCH_BENE_BLOOD_DDCTBL_LBLTY_AM ICD9_DGNS_CD_1 ICD9_DGNS_CD_2  \\\n",
       "0                             0.0           2721          V1250   \n",
       "1                             0.0          72999          72981   \n",
       "2                             0.0           7216            NaN   \n",
       "3                             0.0          99671           4019   \n",
       "4                             0.0           7916          V7644   \n",
       "\n",
       "   NCH_BENE_PTB_DDCTBL_AMT  NCH_BENE_PTB_COINSRNC_AMT HCPCS_CD_1 HCPCS_CD_2  \\\n",
       "0                      0.0                        0.0      G0103      80076   \n",
       "1                      0.0                       10.0      93971        NaN   \n",
       "2                      0.0                       40.0      97110      97001   \n",
       "3                      0.0                       30.0        NaN      84484   \n",
       "4                      0.0                        0.0      36415      86800   \n",
       "\n",
       "  HCPCS_CD_3  \n",
       "0      80053  \n",
       "1        NaN  \n",
       "2      97010  \n",
       "3      V2632  \n",
       "4      85027  "
      ]
     },
     "execution_count": 13,
     "metadata": {},
     "output_type": "execute_result"
    }
   ],
   "source": [
    "data_outpatient_claims_2.head()"
   ]
  },
  {
   "cell_type": "markdown",
   "metadata": {},
   "source": [
    "# Categorizing PROVIDER NUM"
   ]
  },
  {
   "cell_type": "code",
   "execution_count": 14,
   "metadata": {},
   "outputs": [
    {
     "data": {
      "text/html": [
       "<div>\n",
       "<style scoped>\n",
       "    .dataframe tbody tr th:only-of-type {\n",
       "        vertical-align: middle;\n",
       "    }\n",
       "\n",
       "    .dataframe tbody tr th {\n",
       "        vertical-align: top;\n",
       "    }\n",
       "\n",
       "    .dataframe thead th {\n",
       "        text-align: right;\n",
       "    }\n",
       "</style>\n",
       "<table border=\"1\" class=\"dataframe\">\n",
       "  <thead>\n",
       "    <tr style=\"text-align: right;\">\n",
       "      <th></th>\n",
       "      <th>PRVDR_CAT</th>\n",
       "    </tr>\n",
       "  </thead>\n",
       "  <tbody>\n",
       "    <tr>\n",
       "      <th>0</th>\n",
       "      <td>0001-0879</td>\n",
       "    </tr>\n",
       "    <tr>\n",
       "      <th>1</th>\n",
       "      <td>0880-0899</td>\n",
       "    </tr>\n",
       "    <tr>\n",
       "      <th>2</th>\n",
       "      <td>0900-0999</td>\n",
       "    </tr>\n",
       "    <tr>\n",
       "      <th>3</th>\n",
       "      <td>1000-1199</td>\n",
       "    </tr>\n",
       "    <tr>\n",
       "      <th>4</th>\n",
       "      <td>1200-1224</td>\n",
       "    </tr>\n",
       "  </tbody>\n",
       "</table>\n",
       "</div>"
      ],
      "text/plain": [
       "    PRVDR_CAT\n",
       "0  0001-0879 \n",
       "1  0880-0899 \n",
       "2  0900-0999 \n",
       "3  1000-1199 \n",
       "4  1200-1224 "
      ]
     },
     "execution_count": 14,
     "metadata": {},
     "output_type": "execute_result"
    }
   ],
   "source": [
    "prvdr_num_categories = pd.read_csv(config[1][\"prvdr_category_file\"])\n",
    "prvdr_num_categories.head()"
   ]
  },
  {
   "cell_type": "code",
   "execution_count": 15,
   "metadata": {},
   "outputs": [],
   "source": [
    "prvdr_num_bins = [cat for cat in prvdr_num_categories['PRVDR_CAT'].str.strip().str.split(\"-\") if len(cat) > 1]"
   ]
  },
  {
   "cell_type": "code",
   "execution_count": 16,
   "metadata": {},
   "outputs": [
    {
     "data": {
      "text/plain": [
       "[['0001', '0879'],\n",
       " ['0880', '0899'],\n",
       " ['0900', '0999'],\n",
       " ['1000', '1199'],\n",
       " ['1200', '1224'],\n",
       " ['1225', '1299'],\n",
       " ['1300', '1399'],\n",
       " ['1400', '1499'],\n",
       " ['1500', '1799'],\n",
       " ['1800', '1989'],\n",
       " ['1990', '1999'],\n",
       " ['2000', '2299'],\n",
       " ['2300', '2499'],\n",
       " ['2500', '2899'],\n",
       " ['2900', '2999'],\n",
       " ['3000', '3024'],\n",
       " ['3025', '3099'],\n",
       " ['3100', '3199'],\n",
       " ['3200', '3299'],\n",
       " ['3300', '3399'],\n",
       " ['3400', '3499'],\n",
       " ['3500', '3699'],\n",
       " ['3700', '3799'],\n",
       " ['3800', '3974'],\n",
       " ['3975', '3999'],\n",
       " ['4000', '4499'],\n",
       " ['4500', '4599'],\n",
       " ['4600', '4799'],\n",
       " ['4800', '4899'],\n",
       " ['4900', '4999'],\n",
       " ['5000', '6499'],\n",
       " ['6500', '6989'],\n",
       " ['6990', '6999'],\n",
       " ['7000', '7299'],\n",
       " ['7300', '7399'],\n",
       " ['7400', '7799'],\n",
       " ['7800', '7999'],\n",
       " ['8000', '8499'],\n",
       " ['8500', '8899'],\n",
       " ['8900', '8999'],\n",
       " ['9000', '9799'],\n",
       " ['9800', '9899']]"
      ]
     },
     "execution_count": 16,
     "metadata": {},
     "output_type": "execute_result"
    }
   ],
   "source": [
    "prvdr_num_bins"
   ]
  },
  {
   "cell_type": "code",
   "execution_count": 17,
   "metadata": {},
   "outputs": [
    {
     "data": {
      "text/html": [
       "<div>\n",
       "<style scoped>\n",
       "    .dataframe tbody tr th:only-of-type {\n",
       "        vertical-align: middle;\n",
       "    }\n",
       "\n",
       "    .dataframe tbody tr th {\n",
       "        vertical-align: top;\n",
       "    }\n",
       "\n",
       "    .dataframe thead th {\n",
       "        text-align: right;\n",
       "    }\n",
       "</style>\n",
       "<table border=\"1\" class=\"dataframe\">\n",
       "  <thead>\n",
       "    <tr style=\"text-align: right;\">\n",
       "      <th></th>\n",
       "      <th>PRVDR_NUM</th>\n",
       "    </tr>\n",
       "  </thead>\n",
       "  <tbody>\n",
       "    <tr>\n",
       "      <th>0</th>\n",
       "      <td>10026U</td>\n",
       "    </tr>\n",
       "    <tr>\n",
       "      <th>1</th>\n",
       "      <td>0300YM</td>\n",
       "    </tr>\n",
       "    <tr>\n",
       "      <th>2</th>\n",
       "      <td>1002GD</td>\n",
       "    </tr>\n",
       "    <tr>\n",
       "      <th>3</th>\n",
       "      <td>1000GD</td>\n",
       "    </tr>\n",
       "    <tr>\n",
       "      <th>4</th>\n",
       "      <td>1000UU</td>\n",
       "    </tr>\n",
       "    <tr>\n",
       "      <th>...</th>\n",
       "      <td>...</td>\n",
       "    </tr>\n",
       "    <tr>\n",
       "      <th>6302</th>\n",
       "      <td>0501SH</td>\n",
       "    </tr>\n",
       "    <tr>\n",
       "      <th>6303</th>\n",
       "      <td>4504YH</td>\n",
       "    </tr>\n",
       "    <tr>\n",
       "      <th>6304</th>\n",
       "      <td>1427PD</td>\n",
       "    </tr>\n",
       "    <tr>\n",
       "      <th>6305</th>\n",
       "      <td>2018VU</td>\n",
       "    </tr>\n",
       "    <tr>\n",
       "      <th>6306</th>\n",
       "      <td>6700BU</td>\n",
       "    </tr>\n",
       "  </tbody>\n",
       "</table>\n",
       "<p>6307 rows × 1 columns</p>\n",
       "</div>"
      ],
      "text/plain": [
       "     PRVDR_NUM\n",
       "0       10026U\n",
       "1       0300YM\n",
       "2       1002GD\n",
       "3       1000GD\n",
       "4       1000UU\n",
       "...        ...\n",
       "6302    0501SH\n",
       "6303    4504YH\n",
       "6304    1427PD\n",
       "6305    2018VU\n",
       "6306    6700BU\n",
       "\n",
       "[6307 rows x 1 columns]"
      ]
     },
     "execution_count": 17,
     "metadata": {},
     "output_type": "execute_result"
    }
   ],
   "source": [
    "unique_prvdr_num = pd.DataFrame(data_outpatient_claims_2['PRVDR_NUM'].unique(), columns=[\"PRVDR_NUM\"])\n",
    "unique_prvdr_num"
   ]
  },
  {
   "cell_type": "code",
   "execution_count": 18,
   "metadata": {},
   "outputs": [],
   "source": [
    "def categorize_prvdr_num(prvdr_num):\n",
    "    if str(prvdr_num)[2].isalpha():\n",
    "        return str(prvdr_num)[2]\n",
    "    else :\n",
    "        for lower, upper in prvdr_num_bins:\n",
    "            if lower <= prvdr_num[ : -2] <= upper:\n",
    "                return f'{lower}-{upper}'"
   ]
  },
  {
   "cell_type": "code",
   "execution_count": 19,
   "metadata": {},
   "outputs": [],
   "source": [
    "unique_prvdr_num['PRVDR_NUM_CAT'] = unique_prvdr_num['PRVDR_NUM'].apply(lambda x : categorize_prvdr_num(x))"
   ]
  },
  {
   "cell_type": "code",
   "execution_count": 20,
   "metadata": {},
   "outputs": [],
   "source": [
    "data_outpatient_claims_2 = data_outpatient_claims_2.merge(right=unique_prvdr_num, on=[\"PRVDR_NUM\"], how=\"left\")"
   ]
  },
  {
   "cell_type": "code",
   "execution_count": 21,
   "metadata": {},
   "outputs": [
    {
     "data": {
      "text/plain": [
       "<matplotlib.axes._subplots.AxesSubplot at 0x1cf0e796e48>"
      ]
     },
     "execution_count": 21,
     "metadata": {},
     "output_type": "execute_result"
    },
    {
     "data": {
      "image/png": "[encoded data removed]",
      "text/plain": [
       "<Figure size 720x360 with 1 Axes>"
      ]
     },
     "metadata": {
      "needs_background": "light"
     },
     "output_type": "display_data"
    }
   ],
   "source": [
    "data_outpatient_claims_2[[\"DESYNPUF_ID\", \"PRVDR_NUM_CAT\"]].drop_duplicates().groupby([\"PRVDR_NUM_CAT\"])[\"DESYNPUF_ID\"].size().plot(kind='bar', figsize=(10,5))"
   ]
  },
  {
   "cell_type": "code",
   "execution_count": 22,
   "metadata": {},
   "outputs": [
    {
     "data": {
      "text/plain": [
       "<matplotlib.axes._subplots.AxesSubplot at 0x1cf05c0c808>"
      ]
     },
     "execution_count": 22,
     "metadata": {},
     "output_type": "execute_result"
    },
    {
     "data": {
      "image/png": "[encoded data removed]",
      "text/plain": [
       "<Figure size 432x288 with 1 Axes>"
      ]
     },
     "metadata": {
      "needs_background": "light"
     },
     "output_type": "display_data"
    }
   ],
   "source": [
    "data_outpatient_claims_2[[\"DESYNPUF_ID\", \"PRVDR_NUM_CAT\"]].drop_duplicates().groupby([\"DESYNPUF_ID\"])[\"PRVDR_NUM_CAT\"].size().sort_values(ascending=False).hist()"
   ]
  },
  {
   "cell_type": "code",
   "execution_count": 23,
   "metadata": {},
   "outputs": [
    {
     "data": {
      "text/plain": [
       "DESYNPUF_ID\n",
       "00000B48BCF4AD29    4\n",
       "0000525AB30E4DEF    4\n",
       "00009C897C3D8372    3\n",
       "0002EC0BCA99CACF    2\n",
       "0002FABBFD6D1C5C    1\n",
       "                   ..\n",
       "FFFC54BCEB2A0631    3\n",
       "FFFCF02B3CE4D724    3\n",
       "FFFE94CBE61C0479    2\n",
       "FFFF0FD89207928D    1\n",
       "FFFF52C0C450A585    2\n",
       "Name: PRVDR_NUM_CAT, Length: 85295, dtype: int64"
      ]
     },
     "execution_count": 23,
     "metadata": {},
     "output_type": "execute_result"
    }
   ],
   "source": [
    "data_outpatient_claims_2[[\"DESYNPUF_ID\", \"PRVDR_NUM_CAT\"]].drop_duplicates().groupby([\"DESYNPUF_ID\"])[\"PRVDR_NUM_CAT\"].size()"
   ]
  },
  {
   "cell_type": "markdown",
   "metadata": {},
   "source": [
    "<h2> Creating list of columns for diagnosis, procedure & hcpcs code </h2> "
   ]
  },
  {
   "cell_type": "code",
   "execution_count": 24,
   "metadata": {},
   "outputs": [],
   "source": [
    "diagnosis_code = [col for col in data_outpatient_claims_2.columns if \"ICD9_DGNS\" in col]\n",
    "icd_procedural_code = [col for col in data_outpatient_claims_2.columns if \"ICD9_PRCDR\" in col]\n",
    "icd_hcpcs_code = [col for col in data_outpatient_claims_2.columns if \"HCPCS_CD\" in col]"
   ]
  },
  {
   "cell_type": "code",
   "execution_count": 25,
   "metadata": {},
   "outputs": [
    {
     "data": {
      "text/html": [
       "<div>\n",
       "<style scoped>\n",
       "    .dataframe tbody tr th:only-of-type {\n",
       "        vertical-align: middle;\n",
       "    }\n",
       "\n",
       "    .dataframe tbody tr th {\n",
       "        vertical-align: top;\n",
       "    }\n",
       "\n",
       "    .dataframe thead th {\n",
       "        text-align: right;\n",
       "    }\n",
       "</style>\n",
       "<table border=\"1\" class=\"dataframe\">\n",
       "  <thead>\n",
       "    <tr style=\"text-align: right;\">\n",
       "      <th></th>\n",
       "      <th>ICD9_DGNS_CD_1</th>\n",
       "      <th>ICD9_DGNS_CD_2</th>\n",
       "    </tr>\n",
       "  </thead>\n",
       "  <tbody>\n",
       "    <tr>\n",
       "      <th>0</th>\n",
       "      <td>2721</td>\n",
       "      <td>V1250</td>\n",
       "    </tr>\n",
       "    <tr>\n",
       "      <th>1</th>\n",
       "      <td>72999</td>\n",
       "      <td>72981</td>\n",
       "    </tr>\n",
       "    <tr>\n",
       "      <th>2</th>\n",
       "      <td>7216</td>\n",
       "      <td>NaN</td>\n",
       "    </tr>\n",
       "    <tr>\n",
       "      <th>3</th>\n",
       "      <td>99671</td>\n",
       "      <td>4019</td>\n",
       "    </tr>\n",
       "    <tr>\n",
       "      <th>4</th>\n",
       "      <td>7916</td>\n",
       "      <td>V7644</td>\n",
       "    </tr>\n",
       "    <tr>\n",
       "      <th>...</th>\n",
       "      <td>...</td>\n",
       "      <td>...</td>\n",
       "    </tr>\n",
       "    <tr>\n",
       "      <th>792557</th>\n",
       "      <td>71524</td>\n",
       "      <td>72887</td>\n",
       "    </tr>\n",
       "    <tr>\n",
       "      <th>792558</th>\n",
       "      <td>2307</td>\n",
       "      <td>1977</td>\n",
       "    </tr>\n",
       "    <tr>\n",
       "      <th>792559</th>\n",
       "      <td>71602</td>\n",
       "      <td>2722</td>\n",
       "    </tr>\n",
       "    <tr>\n",
       "      <th>792560</th>\n",
       "      <td>72819</td>\n",
       "      <td>4019</td>\n",
       "    </tr>\n",
       "    <tr>\n",
       "      <th>792561</th>\n",
       "      <td>79508</td>\n",
       "      <td>NaN</td>\n",
       "    </tr>\n",
       "  </tbody>\n",
       "</table>\n",
       "<p>792562 rows × 2 columns</p>\n",
       "</div>"
      ],
      "text/plain": [
       "       ICD9_DGNS_CD_1 ICD9_DGNS_CD_2\n",
       "0                2721          V1250\n",
       "1               72999          72981\n",
       "2                7216            NaN\n",
       "3               99671           4019\n",
       "4                7916          V7644\n",
       "...               ...            ...\n",
       "792557          71524          72887\n",
       "792558           2307           1977\n",
       "792559          71602           2722\n",
       "792560          72819           4019\n",
       "792561          79508            NaN\n",
       "\n",
       "[792562 rows x 2 columns]"
      ]
     },
     "execution_count": 25,
     "metadata": {},
     "output_type": "execute_result"
    }
   ],
   "source": [
    "data_outpatient_claims_2[diagnosis_code]"
   ]
  },
  {
   "cell_type": "markdown",
   "metadata": {},
   "source": [
    "# Categorizing ICD9 Diagnosis Code"
   ]
  },
  {
   "cell_type": "code",
   "execution_count": 26,
   "metadata": {},
   "outputs": [
    {
     "name": "stderr",
     "output_type": "stream",
     "text": [
      "c:\\MachineLearning\\DataScience\\lib\\site-packages\\urllib3\\connectionpool.py:988: InsecureRequestWarning: Unverified HTTPS request is being made to host 'icd.codes'. Adding certificate verification is strongly advised. See: https://urllib3.readthedocs.io/en/latest/advanced-usage.html#ssl-warnings\n",
      "  InsecureRequestWarning,\n"
     ]
    },
    {
     "data": {
      "text/html": [
       "<div>\n",
       "<style scoped>\n",
       "    .dataframe tbody tr th:only-of-type {\n",
       "        vertical-align: middle;\n",
       "    }\n",
       "\n",
       "    .dataframe tbody tr th {\n",
       "        vertical-align: top;\n",
       "    }\n",
       "\n",
       "    .dataframe thead th {\n",
       "        text-align: right;\n",
       "    }\n",
       "</style>\n",
       "<table border=\"1\" class=\"dataframe\">\n",
       "  <thead>\n",
       "    <tr style=\"text-align: right;\">\n",
       "      <th></th>\n",
       "      <th>Chapter</th>\n",
       "      <th>Code Range</th>\n",
       "      <th>Description</th>\n",
       "    </tr>\n",
       "  </thead>\n",
       "  <tbody>\n",
       "    <tr>\n",
       "      <th>0</th>\n",
       "      <td>1</td>\n",
       "      <td>001-139</td>\n",
       "      <td>Infectious And Parasitic Diseases</td>\n",
       "    </tr>\n",
       "    <tr>\n",
       "      <th>1</th>\n",
       "      <td>2</td>\n",
       "      <td>140-239</td>\n",
       "      <td>Neoplasms</td>\n",
       "    </tr>\n",
       "    <tr>\n",
       "      <th>2</th>\n",
       "      <td>3</td>\n",
       "      <td>240-279</td>\n",
       "      <td>Endocrine, Nutritional And Metabolic Diseases,...</td>\n",
       "    </tr>\n",
       "    <tr>\n",
       "      <th>3</th>\n",
       "      <td>4</td>\n",
       "      <td>280-289</td>\n",
       "      <td>Diseases Of The Blood And Blood-Forming Organs</td>\n",
       "    </tr>\n",
       "    <tr>\n",
       "      <th>4</th>\n",
       "      <td>5</td>\n",
       "      <td>290-319</td>\n",
       "      <td>Mental Disorders</td>\n",
       "    </tr>\n",
       "  </tbody>\n",
       "</table>\n",
       "</div>"
      ],
      "text/plain": [
       "   Chapter Code Range                                        Description\n",
       "0        1    001-139                  Infectious And Parasitic Diseases\n",
       "1        2    140-239                                          Neoplasms\n",
       "2        3    240-279  Endocrine, Nutritional And Metabolic Diseases,...\n",
       "3        4    280-289     Diseases Of The Blood And Blood-Forming Organs\n",
       "4        5    290-319                                   Mental Disorders"
      ]
     },
     "execution_count": 26,
     "metadata": {},
     "output_type": "execute_result"
    }
   ],
   "source": [
    "response = requests.get(config[2][\"ICD9_DIAGNOSIS_CODE_CATEGORY_URL\"], verify=False)\n",
    "\n",
    "icd_code_categories = pd.read_html(response.text)[0]\n",
    "icd_code_categories.head()"
   ]
  },
  {
   "cell_type": "code",
   "execution_count": 27,
   "metadata": {},
   "outputs": [
    {
     "data": {
      "text/plain": [
       "0         272\n",
       "1         729\n",
       "2         721\n",
       "3         996\n",
       "4         791\n",
       "         ... \n",
       "792557    715\n",
       "792558    230\n",
       "792559    716\n",
       "792560    728\n",
       "792561    795\n",
       "Name: ICD9_DGNS_CD_1, Length: 792562, dtype: object"
      ]
     },
     "execution_count": 27,
     "metadata": {},
     "output_type": "execute_result"
    },
    {
     "data": {
      "text/plain": [
       "0         V12\n",
       "1         729\n",
       "2         NaN\n",
       "3         401\n",
       "4         V76\n",
       "         ... \n",
       "792557    728\n",
       "792558    197\n",
       "792559    272\n",
       "792560    401\n",
       "792561    NaN\n",
       "Name: ICD9_DGNS_CD_2, Length: 792562, dtype: object"
      ]
     },
     "execution_count": 27,
     "metadata": {},
     "output_type": "execute_result"
    }
   ],
   "source": [
    "for col in diagnosis_code:\n",
    "    data_outpatient_claims_2[col] = data_outpatient_claims_2[col].str[ : 3]\n",
    "    data_outpatient_claims_2[col].astype(str).replace('nan',np.nan)"
   ]
  },
  {
   "cell_type": "code",
   "execution_count": 28,
   "metadata": {},
   "outputs": [],
   "source": [
    "icd_diagnosis_code_bin = [x for x in icd_code_categories['Code Range'].str.split(\"-\")]\n",
    "icd_diagnosis_code_categories = icd_code_categories['Code Range'].tolist()"
   ]
  },
  {
   "cell_type": "code",
   "execution_count": 29,
   "metadata": {},
   "outputs": [],
   "source": [
    "def categorize_diagnosis_code (icd_diagnosis_code):\n",
    "    if pd.isnull(icd_diagnosis_code) :\n",
    "        return np.nan\n",
    "    elif \"E\" in str(icd_diagnosis_code):\n",
    "        return \"E000-E999\"\n",
    "    elif \"V\" in str(icd_diagnosis_code):\n",
    "        return \"V01-V91\"\n",
    "    elif \"OTH\" in str(icd_diagnosis_code):\n",
    "        return \"OTHER\"\n",
    "    else:\n",
    "        for lower, upper in icd_diagnosis_code_bin[ : -2]:\n",
    "            if all([icd_diagnosis_code.isnumeric(), lower.isnumeric(), upper.isnumeric()]) & (lower <= icd_diagnosis_code <= upper):\n",
    "                return f'{lower}-{upper}'"
   ]
  },
  {
   "cell_type": "code",
   "execution_count": 30,
   "metadata": {},
   "outputs": [],
   "source": [
    "diagnosis_code_df = pd.DataFrame()\n",
    "\n",
    "for col in diagnosis_code:\n",
    "    diagnosis_code_df = pd.concat([diagnosis_code_df, pd.DataFrame(data_outpatient_claims_2[col].values)], axis=0)"
   ]
  },
  {
   "cell_type": "code",
   "execution_count": 31,
   "metadata": {},
   "outputs": [],
   "source": [
    "unique_diagnosis_code = pd.DataFrame(diagnosis_code_df[0].unique(), columns=['Diagnosis_code'])"
   ]
  },
  {
   "cell_type": "code",
   "execution_count": 32,
   "metadata": {},
   "outputs": [],
   "source": [
    "unique_diagnosis_code[\"Diagnosis_code_CAT\"] = unique_diagnosis_code[\"Diagnosis_code\"].apply(categorize_diagnosis_code)"
   ]
  },
  {
   "cell_type": "code",
   "execution_count": 33,
   "metadata": {},
   "outputs": [],
   "source": [
    "for cols in diagnosis_code:\n",
    "    data_outpatient_claims_2[f'{cols}_CAT'] = pd.merge(left=data_outpatient_claims_2, right=unique_diagnosis_code, left_on=cols, right_on=\"Diagnosis_code\", how='left')['Diagnosis_code_CAT']"
   ]
  },
  {
   "cell_type": "code",
   "execution_count": 34,
   "metadata": {},
   "outputs": [
    {
     "data": {
      "text/html": [
       "<div>\n",
       "<style scoped>\n",
       "    .dataframe tbody tr th:only-of-type {\n",
       "        vertical-align: middle;\n",
       "    }\n",
       "\n",
       "    .dataframe tbody tr th {\n",
       "        vertical-align: top;\n",
       "    }\n",
       "\n",
       "    .dataframe thead th {\n",
       "        text-align: right;\n",
       "    }\n",
       "</style>\n",
       "<table border=\"1\" class=\"dataframe\">\n",
       "  <thead>\n",
       "    <tr style=\"text-align: right;\">\n",
       "      <th></th>\n",
       "      <th>ICD9_DGNS_CD_1</th>\n",
       "      <th>ICD9_DGNS_CD_2</th>\n",
       "      <th>ICD9_DGNS_CD_1_CAT</th>\n",
       "      <th>ICD9_DGNS_CD_2_CAT</th>\n",
       "    </tr>\n",
       "  </thead>\n",
       "  <tbody>\n",
       "    <tr>\n",
       "      <th>0</th>\n",
       "      <td>272</td>\n",
       "      <td>V12</td>\n",
       "      <td>240-279</td>\n",
       "      <td>V01-V91</td>\n",
       "    </tr>\n",
       "    <tr>\n",
       "      <th>1</th>\n",
       "      <td>729</td>\n",
       "      <td>729</td>\n",
       "      <td>710-739</td>\n",
       "      <td>710-739</td>\n",
       "    </tr>\n",
       "    <tr>\n",
       "      <th>2</th>\n",
       "      <td>721</td>\n",
       "      <td>NaN</td>\n",
       "      <td>710-739</td>\n",
       "      <td>NaN</td>\n",
       "    </tr>\n",
       "    <tr>\n",
       "      <th>3</th>\n",
       "      <td>996</td>\n",
       "      <td>401</td>\n",
       "      <td>800-999</td>\n",
       "      <td>390-459</td>\n",
       "    </tr>\n",
       "    <tr>\n",
       "      <th>4</th>\n",
       "      <td>791</td>\n",
       "      <td>V76</td>\n",
       "      <td>780-799</td>\n",
       "      <td>V01-V91</td>\n",
       "    </tr>\n",
       "    <tr>\n",
       "      <th>...</th>\n",
       "      <td>...</td>\n",
       "      <td>...</td>\n",
       "      <td>...</td>\n",
       "      <td>...</td>\n",
       "    </tr>\n",
       "    <tr>\n",
       "      <th>792557</th>\n",
       "      <td>715</td>\n",
       "      <td>728</td>\n",
       "      <td>710-739</td>\n",
       "      <td>710-739</td>\n",
       "    </tr>\n",
       "    <tr>\n",
       "      <th>792558</th>\n",
       "      <td>230</td>\n",
       "      <td>197</td>\n",
       "      <td>140-239</td>\n",
       "      <td>140-239</td>\n",
       "    </tr>\n",
       "    <tr>\n",
       "      <th>792559</th>\n",
       "      <td>716</td>\n",
       "      <td>272</td>\n",
       "      <td>710-739</td>\n",
       "      <td>240-279</td>\n",
       "    </tr>\n",
       "    <tr>\n",
       "      <th>792560</th>\n",
       "      <td>728</td>\n",
       "      <td>401</td>\n",
       "      <td>710-739</td>\n",
       "      <td>390-459</td>\n",
       "    </tr>\n",
       "    <tr>\n",
       "      <th>792561</th>\n",
       "      <td>795</td>\n",
       "      <td>NaN</td>\n",
       "      <td>780-799</td>\n",
       "      <td>NaN</td>\n",
       "    </tr>\n",
       "  </tbody>\n",
       "</table>\n",
       "<p>792562 rows × 4 columns</p>\n",
       "</div>"
      ],
      "text/plain": [
       "       ICD9_DGNS_CD_1 ICD9_DGNS_CD_2 ICD9_DGNS_CD_1_CAT ICD9_DGNS_CD_2_CAT\n",
       "0                 272            V12            240-279            V01-V91\n",
       "1                 729            729            710-739            710-739\n",
       "2                 721            NaN            710-739                NaN\n",
       "3                 996            401            800-999            390-459\n",
       "4                 791            V76            780-799            V01-V91\n",
       "...               ...            ...                ...                ...\n",
       "792557            715            728            710-739            710-739\n",
       "792558            230            197            140-239            140-239\n",
       "792559            716            272            710-739            240-279\n",
       "792560            728            401            710-739            390-459\n",
       "792561            795            NaN            780-799                NaN\n",
       "\n",
       "[792562 rows x 4 columns]"
      ]
     },
     "execution_count": 34,
     "metadata": {},
     "output_type": "execute_result"
    }
   ],
   "source": [
    "data_outpatient_claims_2[diagnosis_code + [\"ICD9_DGNS_CD_1_CAT\", \"ICD9_DGNS_CD_2_CAT\"]]"
   ]
  },
  {
   "cell_type": "code",
   "execution_count": 35,
   "metadata": {},
   "outputs": [
    {
     "data": {
      "text/plain": [
       "5604"
      ]
     },
     "execution_count": 35,
     "metadata": {},
     "output_type": "execute_result"
    },
    {
     "data": {
      "text/plain": [
       "298991"
      ]
     },
     "execution_count": 35,
     "metadata": {},
     "output_type": "execute_result"
    },
    {
     "data": {
      "text/plain": [
       "5604"
      ]
     },
     "execution_count": 35,
     "metadata": {},
     "output_type": "execute_result"
    },
    {
     "data": {
      "text/plain": [
       "298991"
      ]
     },
     "execution_count": 35,
     "metadata": {},
     "output_type": "execute_result"
    }
   ],
   "source": [
    "data_outpatient_claims_2[diagnosis_code[0]].isna().sum()\n",
    "data_outpatient_claims_2[diagnosis_code[1]].isna().sum()\n",
    "data_outpatient_claims_2[\"ICD9_DGNS_CD_1_CAT\"].isna().sum()\n",
    "data_outpatient_claims_2[\"ICD9_DGNS_CD_2_CAT\"].isna().sum()"
   ]
  },
  {
   "cell_type": "markdown",
   "metadata": {},
   "source": [
    "# Categorizing HCPCS Code"
   ]
  },
  {
   "cell_type": "code",
   "execution_count": 36,
   "metadata": {},
   "outputs": [
    {
     "data": {
      "text/html": [
       "<div>\n",
       "<style scoped>\n",
       "    .dataframe tbody tr th:only-of-type {\n",
       "        vertical-align: middle;\n",
       "    }\n",
       "\n",
       "    .dataframe tbody tr th {\n",
       "        vertical-align: top;\n",
       "    }\n",
       "\n",
       "    .dataframe thead th {\n",
       "        text-align: right;\n",
       "    }\n",
       "</style>\n",
       "<table border=\"1\" class=\"dataframe\">\n",
       "  <thead>\n",
       "    <tr style=\"text-align: right;\">\n",
       "      <th></th>\n",
       "      <th>HCPCS_CD_1</th>\n",
       "      <th>HCPCS_CD_2</th>\n",
       "      <th>HCPCS_CD_3</th>\n",
       "    </tr>\n",
       "  </thead>\n",
       "  <tbody>\n",
       "    <tr>\n",
       "      <th>0</th>\n",
       "      <td>G0103</td>\n",
       "      <td>80076</td>\n",
       "      <td>80053</td>\n",
       "    </tr>\n",
       "    <tr>\n",
       "      <th>1</th>\n",
       "      <td>93971</td>\n",
       "      <td>NaN</td>\n",
       "      <td>NaN</td>\n",
       "    </tr>\n",
       "    <tr>\n",
       "      <th>2</th>\n",
       "      <td>97110</td>\n",
       "      <td>97001</td>\n",
       "      <td>97010</td>\n",
       "    </tr>\n",
       "    <tr>\n",
       "      <th>3</th>\n",
       "      <td>NaN</td>\n",
       "      <td>84484</td>\n",
       "      <td>V2632</td>\n",
       "    </tr>\n",
       "    <tr>\n",
       "      <th>4</th>\n",
       "      <td>36415</td>\n",
       "      <td>86800</td>\n",
       "      <td>85027</td>\n",
       "    </tr>\n",
       "    <tr>\n",
       "      <th>...</th>\n",
       "      <td>...</td>\n",
       "      <td>...</td>\n",
       "      <td>...</td>\n",
       "    </tr>\n",
       "    <tr>\n",
       "      <th>792557</th>\n",
       "      <td>G0283</td>\n",
       "      <td>84100</td>\n",
       "      <td>82607</td>\n",
       "    </tr>\n",
       "    <tr>\n",
       "      <th>792558</th>\n",
       "      <td>NaN</td>\n",
       "      <td>NaN</td>\n",
       "      <td>83874</td>\n",
       "    </tr>\n",
       "    <tr>\n",
       "      <th>792559</th>\n",
       "      <td>36415</td>\n",
       "      <td>84439</td>\n",
       "      <td>80053</td>\n",
       "    </tr>\n",
       "    <tr>\n",
       "      <th>792560</th>\n",
       "      <td>NaN</td>\n",
       "      <td>96374</td>\n",
       "      <td>J3488</td>\n",
       "    </tr>\n",
       "    <tr>\n",
       "      <th>792561</th>\n",
       "      <td>76830</td>\n",
       "      <td>99211</td>\n",
       "      <td>85025</td>\n",
       "    </tr>\n",
       "  </tbody>\n",
       "</table>\n",
       "<p>792562 rows × 3 columns</p>\n",
       "</div>"
      ],
      "text/plain": [
       "       HCPCS_CD_1 HCPCS_CD_2 HCPCS_CD_3\n",
       "0           G0103      80076      80053\n",
       "1           93971        NaN        NaN\n",
       "2           97110      97001      97010\n",
       "3             NaN      84484      V2632\n",
       "4           36415      86800      85027\n",
       "...           ...        ...        ...\n",
       "792557      G0283      84100      82607\n",
       "792558        NaN        NaN      83874\n",
       "792559      36415      84439      80053\n",
       "792560        NaN      96374      J3488\n",
       "792561      76830      99211      85025\n",
       "\n",
       "[792562 rows x 3 columns]"
      ]
     },
     "execution_count": 36,
     "metadata": {},
     "output_type": "execute_result"
    }
   ],
   "source": [
    "data_outpatient_claims_2[icd_hcpcs_code]"
   ]
  },
  {
   "cell_type": "code",
   "execution_count": 37,
   "metadata": {},
   "outputs": [],
   "source": [
    "hcpcs_code_category = pd.read_csv(config[1]['hcpcs_code_category_file'], encoding='cp1252')"
   ]
  },
  {
   "cell_type": "code",
   "execution_count": 38,
   "metadata": {},
   "outputs": [
    {
     "data": {
      "text/plain": [
       "['00100-00222',\n",
       " '00300-00352',\n",
       " '00400-00474',\n",
       " '00500-00580',\n",
       " '00600-00670',\n",
       " '00700-00797',\n",
       " '00800-00882',\n",
       " '00902-00952',\n",
       " '01112-01173',\n",
       " '01200-01274',\n",
       " '01320-01444',\n",
       " '01462-01522',\n",
       " '01610-01680',\n",
       " '01710-01782',\n",
       " '01810-01860',\n",
       " '01916-01936',\n",
       " '01951-01953',\n",
       " '01958-01969',\n",
       " '01990-01999',\n",
       " '10004-10021',\n",
       " '10030-19499',\n",
       " '20100-29999',\n",
       " '30000-32999',\n",
       " '33016-37799',\n",
       " '38100-38999',\n",
       " '39000-39599',\n",
       " '40490-49999',\n",
       " '50010-53899',\n",
       " '54000-55899',\n",
       " '55920-55920',\n",
       " '55970-55980',\n",
       " '56405-58999',\n",
       " '59000-59899',\n",
       " '60000-60699',\n",
       " '61000-64999',\n",
       " '65091-68899',\n",
       " '69000-69979',\n",
       " '69990-69990',\n",
       " '70010-76499',\n",
       " '76506-76999',\n",
       " '77001-77022',\n",
       " '77046-77067',\n",
       " '77071-77086',\n",
       " '77261-77799',\n",
       " '78012-79999',\n",
       " '80047-80081',\n",
       " '80102-80102',\n",
       " '80145-80377',\n",
       " '80305-80377',\n",
       " '80400-80439',\n",
       " '80500-80502',\n",
       " '81000-81099',\n",
       " '81105-81408',\n",
       " '81410-81479',\n",
       " '81490-81599',\n",
       " '82009-84999',\n",
       " '85002-85999',\n",
       " '86000-86849',\n",
       " '86850-86999',\n",
       " '87003-87999',\n",
       " '88000-88099',\n",
       " '88104-88199',\n",
       " '88230-88299',\n",
       " '88300-88399',\n",
       " '88720-88749',\n",
       " '89049-89240',\n",
       " '89250-89398',\n",
       " '90281-90399',\n",
       " '90460-90474',\n",
       " '90476-90756',\n",
       " '90760-90761',\n",
       " '90765-90768',\n",
       " '90772-90772',\n",
       " '90773-90773',\n",
       " '90774-90774',\n",
       " '90775-90775',\n",
       " '90776-90776',\n",
       " '90779-90779',\n",
       " '90785-90899',\n",
       " '90901-90913',\n",
       " '90935-90999',\n",
       " '91010-91299',\n",
       " '92002-92499',\n",
       " '92502-92700',\n",
       " '92920-93799',\n",
       " '93880-93998',\n",
       " '94002-94799',\n",
       " '95004-95199',\n",
       " '95249-95251',\n",
       " '95700-96020',\n",
       " '96040-96040',\n",
       " '96105-96146',\n",
       " '96150-96154',\n",
       " '96156-96171',\n",
       " '96360-96549',\n",
       " '96567-96574',\n",
       " '96900-96999',\n",
       " '97001-97002',\n",
       " '97003-97004',\n",
       " '97010-97028',\n",
       " '97032-97039',\n",
       " '97110-97150',\n",
       " '97151-97158',\n",
       " '97161-97799',\n",
       " '97802-97804',\n",
       " '97810-97814',\n",
       " '98925-98929',\n",
       " '98940-98943',\n",
       " '98960-98962',\n",
       " '98966-98972',\n",
       " '99000-99091',\n",
       " '99100-99140',\n",
       " '99151-99157',\n",
       " '99170-99199',\n",
       " '99500-99602',\n",
       " '99605-99607',\n",
       " '99201-99215',\n",
       " '99217-99226',\n",
       " '99221-99239',\n",
       " '99241-99255',\n",
       " '99281-99288',\n",
       " '99291-99292',\n",
       " '99304-99318',\n",
       " '99324-99337',\n",
       " '99339-99340',\n",
       " '99341-99350',\n",
       " '99354-99416',\n",
       " '99366-99368',\n",
       " '99374-99380',\n",
       " '99381-99429',\n",
       " '99441-99458',\n",
       " '99450-99458',\n",
       " '99460-99463',\n",
       " '99464-99465',\n",
       " '99466-99486',\n",
       " '99483-99486',\n",
       " '99484-99484',\n",
       " '99487-99491',\n",
       " '99492-99494',\n",
       " '99495-99496',\n",
       " '99497-99498',\n",
       " '99499-99499',\n",
       " '0001F-0015F',\n",
       " '0500F-0584F',\n",
       " '1000F-1505F',\n",
       " '2000F-2060F',\n",
       " '3006F-3776F',\n",
       " '4000F-4563F',\n",
       " '5005F-5250F',\n",
       " '6005F-6150F',\n",
       " '7010F-7025F',\n",
       " '9001F-9007F',\n",
       " '0002M-0016M',\n",
       " '0042T-0184T',\n",
       " '0191T-0232T',\n",
       " '0234T-0317T',\n",
       " '0329T-0358T',\n",
       " '0362T-0373T',\n",
       " '0376T-0386T',\n",
       " '0394T-0423T',\n",
       " '0424T-0468T',\n",
       " '0469T-0478T',\n",
       " '0479T-0480T',\n",
       " '0609T-0612T',\n",
       " '0613T-0614T',\n",
       " '0615T-0618T',\n",
       " '0619T-0619T',\n",
       " '0604T-0606T',\n",
       " '0609T-0612T',\n",
       " '0613T-0614T',\n",
       " '0615T-0618T',\n",
       " '0619T-0619T',\n",
       " '0001U-0226U']"
      ]
     },
     "execution_count": 38,
     "metadata": {},
     "output_type": "execute_result"
    }
   ],
   "source": [
    "hcpcs_code_category[\"Code Range\"].tolist()"
   ]
  },
  {
   "cell_type": "code",
   "execution_count": 39,
   "metadata": {},
   "outputs": [],
   "source": [
    "hcpcs_code_category_numeric = [x for x in hcpcs_code_category['Code Range'].str.split(\"-\") if x[0].isnumeric()]\n",
    "hcpcs_code_category_alnum = [x for x in hcpcs_code_category['Code Range'].str.split(\"-\") if x not in hcpcs_code_category_numeric]"
   ]
  },
  {
   "cell_type": "code",
   "execution_count": 40,
   "metadata": {},
   "outputs": [],
   "source": [
    "replacement_dict = {\"90772\" : \"96372\", \"78006\" : \"78014\", \"78007\" : \"78014\", \"78010\" : \"78013\", \"78011\" : \"78013\", \n",
    "                    \"80100\" : \"G0431\", \"80101\" : \"G0431\", \"80104\" : \"G0434\", \"78000\" : \"78012\", \"78001\" : \"78012\", \n",
    "                    \"78003\" : \"78012\", \"78010\" : \"78013\", \"78011\" : \"78013\", \"78006\" : \"78014\", \"78007\" : \"78014\",\n",
    "                    \"10022\" : \"10004\", \"96101\" : \"96130\", \"96102\" : \"96138\", \"82003\" : \"80329\", \"80100\" : \"G0430\",\n",
    "                    \"80101\" : \"G0431\", \"82003\" : \"G6039\", \"77031\" : \"19081\", \"77032\" : \"19082\", \"99144\" : \"99152\",\n",
    "                    \"93875\" : \"93880\", \"90921\" : \"G0308\", \"99143\" : \"99151\", \"99143\" : \"99151\", \"99144\" : \"99152\",\n",
    "                    \"99145\" : \"99153\", \"99148\" : \"99155\", \"99149\" : \"99156\", \"99150\" : \"99157\", \"0187T\" : \"92132\", \n",
    "                    \"0030T\" : \"86849\"}"
   ]
  },
  {
   "cell_type": "markdown",
   "metadata": {},
   "source": [
    "> HCPCS Code Corrections\n",
    "     - Certain codes are no longer in use and have been replaced with another HCPCS code.\n",
    "     - Creating a dictionary which contains all the old codes as keys and new codes as their values"
   ]
  },
  {
   "cell_type": "code",
   "execution_count": 41,
   "metadata": {},
   "outputs": [],
   "source": [
    "data_outpatient_claims_2.replace(replacement_dict, inplace=True)"
   ]
  },
  {
   "cell_type": "code",
   "execution_count": 42,
   "metadata": {},
   "outputs": [],
   "source": [
    "hcpcs_code_df = pd.DataFrame()\n",
    "\n",
    "for col in icd_hcpcs_code:\n",
    "    hcpcs_code_df = pd.concat([hcpcs_code_df, pd.DataFrame(data_outpatient_claims_2[col].values)], axis=0)"
   ]
  },
  {
   "cell_type": "code",
   "execution_count": 43,
   "metadata": {},
   "outputs": [
    {
     "data": {
      "text/html": [
       "<div>\n",
       "<style scoped>\n",
       "    .dataframe tbody tr th:only-of-type {\n",
       "        vertical-align: middle;\n",
       "    }\n",
       "\n",
       "    .dataframe tbody tr th {\n",
       "        vertical-align: top;\n",
       "    }\n",
       "\n",
       "    .dataframe thead th {\n",
       "        text-align: right;\n",
       "    }\n",
       "</style>\n",
       "<table border=\"1\" class=\"dataframe\">\n",
       "  <thead>\n",
       "    <tr style=\"text-align: right;\">\n",
       "      <th></th>\n",
       "      <th>0</th>\n",
       "    </tr>\n",
       "  </thead>\n",
       "  <tbody>\n",
       "    <tr>\n",
       "      <th>0</th>\n",
       "      <td>G0103</td>\n",
       "    </tr>\n",
       "    <tr>\n",
       "      <th>1</th>\n",
       "      <td>93971</td>\n",
       "    </tr>\n",
       "    <tr>\n",
       "      <th>2</th>\n",
       "      <td>97110</td>\n",
       "    </tr>\n",
       "    <tr>\n",
       "      <th>3</th>\n",
       "      <td>NaN</td>\n",
       "    </tr>\n",
       "    <tr>\n",
       "      <th>4</th>\n",
       "      <td>36415</td>\n",
       "    </tr>\n",
       "    <tr>\n",
       "      <th>...</th>\n",
       "      <td>...</td>\n",
       "    </tr>\n",
       "    <tr>\n",
       "      <th>792557</th>\n",
       "      <td>82607</td>\n",
       "    </tr>\n",
       "    <tr>\n",
       "      <th>792558</th>\n",
       "      <td>83874</td>\n",
       "    </tr>\n",
       "    <tr>\n",
       "      <th>792559</th>\n",
       "      <td>80053</td>\n",
       "    </tr>\n",
       "    <tr>\n",
       "      <th>792560</th>\n",
       "      <td>J3488</td>\n",
       "    </tr>\n",
       "    <tr>\n",
       "      <th>792561</th>\n",
       "      <td>85025</td>\n",
       "    </tr>\n",
       "  </tbody>\n",
       "</table>\n",
       "<p>2377686 rows × 1 columns</p>\n",
       "</div>"
      ],
      "text/plain": [
       "            0\n",
       "0       G0103\n",
       "1       93971\n",
       "2       97110\n",
       "3         NaN\n",
       "4       36415\n",
       "...       ...\n",
       "792557  82607\n",
       "792558  83874\n",
       "792559  80053\n",
       "792560  J3488\n",
       "792561  85025\n",
       "\n",
       "[2377686 rows x 1 columns]"
      ]
     },
     "execution_count": 43,
     "metadata": {},
     "output_type": "execute_result"
    }
   ],
   "source": [
    "hcpcs_code_df"
   ]
  },
  {
   "cell_type": "code",
   "execution_count": 44,
   "metadata": {},
   "outputs": [],
   "source": [
    "unique_hcpcs_code = pd.DataFrame(hcpcs_code_df[0].unique(), columns=['HCPCS_code'])"
   ]
  },
  {
   "cell_type": "code",
   "execution_count": 45,
   "metadata": {},
   "outputs": [
    {
     "data": {
      "text/html": [
       "<div>\n",
       "<style scoped>\n",
       "    .dataframe tbody tr th:only-of-type {\n",
       "        vertical-align: middle;\n",
       "    }\n",
       "\n",
       "    .dataframe tbody tr th {\n",
       "        vertical-align: top;\n",
       "    }\n",
       "\n",
       "    .dataframe thead th {\n",
       "        text-align: right;\n",
       "    }\n",
       "</style>\n",
       "<table border=\"1\" class=\"dataframe\">\n",
       "  <thead>\n",
       "    <tr style=\"text-align: right;\">\n",
       "      <th></th>\n",
       "      <th>HCPCS_code</th>\n",
       "    </tr>\n",
       "  </thead>\n",
       "  <tbody>\n",
       "    <tr>\n",
       "      <th>0</th>\n",
       "      <td>G0103</td>\n",
       "    </tr>\n",
       "    <tr>\n",
       "      <th>1</th>\n",
       "      <td>93971</td>\n",
       "    </tr>\n",
       "    <tr>\n",
       "      <th>2</th>\n",
       "      <td>97110</td>\n",
       "    </tr>\n",
       "    <tr>\n",
       "      <th>3</th>\n",
       "      <td>NaN</td>\n",
       "    </tr>\n",
       "    <tr>\n",
       "      <th>4</th>\n",
       "      <td>36415</td>\n",
       "    </tr>\n",
       "    <tr>\n",
       "      <th>...</th>\n",
       "      <td>...</td>\n",
       "    </tr>\n",
       "    <tr>\n",
       "      <th>4336</th>\n",
       "      <td>A4362</td>\n",
       "    </tr>\n",
       "    <tr>\n",
       "      <th>4337</th>\n",
       "      <td>A4334</td>\n",
       "    </tr>\n",
       "    <tr>\n",
       "      <th>4338</th>\n",
       "      <td>00529</td>\n",
       "    </tr>\n",
       "    <tr>\n",
       "      <th>4339</th>\n",
       "      <td>96370</td>\n",
       "    </tr>\n",
       "    <tr>\n",
       "      <th>4340</th>\n",
       "      <td>92984</td>\n",
       "    </tr>\n",
       "  </tbody>\n",
       "</table>\n",
       "<p>4341 rows × 1 columns</p>\n",
       "</div>"
      ],
      "text/plain": [
       "     HCPCS_code\n",
       "0         G0103\n",
       "1         93971\n",
       "2         97110\n",
       "3           NaN\n",
       "4         36415\n",
       "...         ...\n",
       "4336      A4362\n",
       "4337      A4334\n",
       "4338      00529\n",
       "4339      96370\n",
       "4340      92984\n",
       "\n",
       "[4341 rows x 1 columns]"
      ]
     },
     "execution_count": 45,
     "metadata": {},
     "output_type": "execute_result"
    }
   ],
   "source": [
    "unique_hcpcs_code"
   ]
  },
  {
   "cell_type": "code",
   "execution_count": 46,
   "metadata": {},
   "outputs": [
    {
     "data": {
      "text/plain": [
       "[['00100', '00222'],\n",
       " ['00300', '00352'],\n",
       " ['00400', '00474'],\n",
       " ['00500', '00580'],\n",
       " ['00600', '00670'],\n",
       " ['00700', '00797'],\n",
       " ['00800', '00882'],\n",
       " ['00902', '00952'],\n",
       " ['01112', '01173'],\n",
       " ['01200', '01274'],\n",
       " ['01320', '01444'],\n",
       " ['01462', '01522'],\n",
       " ['01610', '01680'],\n",
       " ['01710', '01782'],\n",
       " ['01810', '01860'],\n",
       " ['01916', '01936'],\n",
       " ['01951', '01953'],\n",
       " ['01958', '01969'],\n",
       " ['01990', '01999'],\n",
       " ['10004', '10021'],\n",
       " ['10030', '19499'],\n",
       " ['20100', '29999'],\n",
       " ['30000', '32999'],\n",
       " ['33016', '37799'],\n",
       " ['38100', '38999'],\n",
       " ['39000', '39599'],\n",
       " ['40490', '49999'],\n",
       " ['50010', '53899'],\n",
       " ['54000', '55899'],\n",
       " ['55920', '55920'],\n",
       " ['55970', '55980'],\n",
       " ['56405', '58999'],\n",
       " ['59000', '59899'],\n",
       " ['60000', '60699'],\n",
       " ['61000', '64999'],\n",
       " ['65091', '68899'],\n",
       " ['69000', '69979'],\n",
       " ['69990', '69990'],\n",
       " ['70010', '76499'],\n",
       " ['76506', '76999'],\n",
       " ['77001', '77022'],\n",
       " ['77046', '77067'],\n",
       " ['77071', '77086'],\n",
       " ['77261', '77799'],\n",
       " ['78012', '79999'],\n",
       " ['80047', '80081'],\n",
       " ['80102', '80102'],\n",
       " ['80145', '80377'],\n",
       " ['80305', '80377'],\n",
       " ['80400', '80439'],\n",
       " ['80500', '80502'],\n",
       " ['81000', '81099'],\n",
       " ['81105', '81408'],\n",
       " ['81410', '81479'],\n",
       " ['81490', '81599'],\n",
       " ['82009', '84999'],\n",
       " ['85002', '85999'],\n",
       " ['86000', '86849'],\n",
       " ['86850', '86999'],\n",
       " ['87003', '87999'],\n",
       " ['88000', '88099'],\n",
       " ['88104', '88199'],\n",
       " ['88230', '88299'],\n",
       " ['88300', '88399'],\n",
       " ['88720', '88749'],\n",
       " ['89049', '89240'],\n",
       " ['89250', '89398'],\n",
       " ['90281', '90399'],\n",
       " ['90460', '90474'],\n",
       " ['90476', '90756'],\n",
       " ['90760', '90761'],\n",
       " ['90765', '90768'],\n",
       " ['90772', '90772'],\n",
       " ['90773', '90773'],\n",
       " ['90774', '90774'],\n",
       " ['90775', '90775'],\n",
       " ['90776', '90776'],\n",
       " ['90779', '90779'],\n",
       " ['90785', '90899'],\n",
       " ['90901', '90913'],\n",
       " ['90935', '90999'],\n",
       " ['91010', '91299'],\n",
       " ['92002', '92499'],\n",
       " ['92502', '92700'],\n",
       " ['92920', '93799'],\n",
       " ['93880', '93998'],\n",
       " ['94002', '94799'],\n",
       " ['95004', '95199'],\n",
       " ['95249', '95251'],\n",
       " ['95700', '96020'],\n",
       " ['96040', '96040'],\n",
       " ['96105', '96146'],\n",
       " ['96150', '96154'],\n",
       " ['96156', '96171'],\n",
       " ['96360', '96549'],\n",
       " ['96567', '96574'],\n",
       " ['96900', '96999'],\n",
       " ['97001', '97002'],\n",
       " ['97003', '97004'],\n",
       " ['97010', '97028'],\n",
       " ['97032', '97039'],\n",
       " ['97110', '97150'],\n",
       " ['97151', '97158'],\n",
       " ['97161', '97799'],\n",
       " ['97802', '97804'],\n",
       " ['97810', '97814'],\n",
       " ['98925', '98929'],\n",
       " ['98940', '98943'],\n",
       " ['98960', '98962'],\n",
       " ['98966', '98972'],\n",
       " ['99000', '99091'],\n",
       " ['99100', '99140'],\n",
       " ['99151', '99157'],\n",
       " ['99170', '99199'],\n",
       " ['99500', '99602'],\n",
       " ['99605', '99607'],\n",
       " ['99201', '99215'],\n",
       " ['99217', '99226'],\n",
       " ['99221', '99239'],\n",
       " ['99241', '99255'],\n",
       " ['99281', '99288'],\n",
       " ['99291', '99292'],\n",
       " ['99304', '99318'],\n",
       " ['99324', '99337'],\n",
       " ['99339', '99340'],\n",
       " ['99341', '99350'],\n",
       " ['99354', '99416'],\n",
       " ['99366', '99368'],\n",
       " ['99374', '99380'],\n",
       " ['99381', '99429'],\n",
       " ['99441', '99458'],\n",
       " ['99450', '99458'],\n",
       " ['99460', '99463'],\n",
       " ['99464', '99465'],\n",
       " ['99466', '99486'],\n",
       " ['99483', '99486'],\n",
       " ['99484', '99484'],\n",
       " ['99487', '99491'],\n",
       " ['99492', '99494'],\n",
       " ['99495', '99496'],\n",
       " ['99497', '99498'],\n",
       " ['99499', '99499']]"
      ]
     },
     "execution_count": 46,
     "metadata": {},
     "output_type": "execute_result"
    },
    {
     "data": {
      "text/plain": [
       "[['0001F', '0015F'],\n",
       " ['0500F', '0584F'],\n",
       " ['1000F', '1505F'],\n",
       " ['2000F', '2060F'],\n",
       " ['3006F', '3776F'],\n",
       " ['4000F', '4563F'],\n",
       " ['5005F', '5250F'],\n",
       " ['6005F', '6150F'],\n",
       " ['7010F', '7025F'],\n",
       " ['9001F', '9007F'],\n",
       " ['0002M', '0016M'],\n",
       " ['0042T', '0184T'],\n",
       " ['0191T', '0232T'],\n",
       " ['0234T', '0317T'],\n",
       " ['0329T', '0358T'],\n",
       " ['0362T', '0373T'],\n",
       " ['0376T', '0386T'],\n",
       " ['0394T', '0423T'],\n",
       " ['0424T', '0468T'],\n",
       " ['0469T', '0478T'],\n",
       " ['0479T', '0480T'],\n",
       " ['0609T', '0612T'],\n",
       " ['0613T', '0614T'],\n",
       " ['0615T', '0618T'],\n",
       " ['0619T', '0619T'],\n",
       " ['0604T', '0606T'],\n",
       " ['0609T', '0612T'],\n",
       " ['0613T', '0614T'],\n",
       " ['0615T', '0618T'],\n",
       " ['0619T', '0619T'],\n",
       " ['0001U', '0226U']]"
      ]
     },
     "execution_count": 46,
     "metadata": {},
     "output_type": "execute_result"
    }
   ],
   "source": [
    "hcpcs_code_category_numeric\n",
    "hcpcs_code_category_alnum"
   ]
  },
  {
   "cell_type": "code",
   "execution_count": 47,
   "metadata": {},
   "outputs": [],
   "source": [
    "def categorize_hcpcs_code_2(modifier, hcpcs_code):\n",
    "    categories = [[x[0][:-1], x[1][:-1]] for x in hcpcs_code_category_alnum if modifier in x[0]]\n",
    "    for lower, upper in categories:\n",
    "        if lower <= hcpcs_code <= upper:\n",
    "            return f'{lower}{modifier}-{upper}{modifier}'"
   ]
  },
  {
   "cell_type": "code",
   "execution_count": 48,
   "metadata": {},
   "outputs": [
    {
     "data": {
      "text/plain": [
       "'4000F-4563F'"
      ]
     },
     "execution_count": 48,
     "metadata": {},
     "output_type": "execute_result"
    }
   ],
   "source": [
    "categorize_hcpcs_code_2(\"F\", \"4005\")"
   ]
  },
  {
   "cell_type": "code",
   "execution_count": 49,
   "metadata": {},
   "outputs": [],
   "source": [
    "def categorize_hcpcs_code (hcpcs_code):\n",
    "    if pd.isnull(hcpcs_code) :\n",
    "        return np.nan\n",
    "    elif str(hcpcs_code)[0].isalpha():\n",
    "        return str(hcpcs_code)[0]\n",
    "    elif str(hcpcs_code)[-1].isalpha():\n",
    "        return categorize_hcpcs_code_2(str(hcpcs_code)[-1], str(hcpcs_code)[:-1])\n",
    "    elif str(hcpcs_code)[0].isnumeric():\n",
    "        for lower, upper in hcpcs_code_category_numeric:\n",
    "            if lower <= hcpcs_code <= upper:\n",
    "                return f'{lower}-{upper}'"
   ]
  },
  {
   "cell_type": "code",
   "execution_count": 50,
   "metadata": {},
   "outputs": [],
   "source": [
    "unique_hcpcs_code['HCPCS_code_CAT'] = unique_hcpcs_code['HCPCS_code'].apply(categorize_hcpcs_code)"
   ]
  },
  {
   "cell_type": "code",
   "execution_count": 51,
   "metadata": {},
   "outputs": [
    {
     "data": {
      "text/html": [
       "<div>\n",
       "<style scoped>\n",
       "    .dataframe tbody tr th:only-of-type {\n",
       "        vertical-align: middle;\n",
       "    }\n",
       "\n",
       "    .dataframe tbody tr th {\n",
       "        vertical-align: top;\n",
       "    }\n",
       "\n",
       "    .dataframe thead th {\n",
       "        text-align: right;\n",
       "    }\n",
       "</style>\n",
       "<table border=\"1\" class=\"dataframe\">\n",
       "  <thead>\n",
       "    <tr style=\"text-align: right;\">\n",
       "      <th></th>\n",
       "      <th>HCPCS_code</th>\n",
       "      <th>HCPCS_code_CAT</th>\n",
       "    </tr>\n",
       "  </thead>\n",
       "  <tbody>\n",
       "    <tr>\n",
       "      <th>131</th>\n",
       "      <td>01</td>\n",
       "      <td>None</td>\n",
       "    </tr>\n",
       "    <tr>\n",
       "      <th>1166</th>\n",
       "      <td>99910</td>\n",
       "      <td>None</td>\n",
       "    </tr>\n",
       "    <tr>\n",
       "      <th>1267</th>\n",
       "      <td>0521</td>\n",
       "      <td>None</td>\n",
       "    </tr>\n",
       "    <tr>\n",
       "      <th>2120</th>\n",
       "      <td>02</td>\n",
       "      <td>None</td>\n",
       "    </tr>\n",
       "    <tr>\n",
       "      <th>2433</th>\n",
       "      <td>00002</td>\n",
       "      <td>None</td>\n",
       "    </tr>\n",
       "    <tr>\n",
       "      <th>2881</th>\n",
       "      <td>0851</td>\n",
       "      <td>None</td>\n",
       "    </tr>\n",
       "    <tr>\n",
       "      <th>2999</th>\n",
       "      <td>99998</td>\n",
       "      <td>None</td>\n",
       "    </tr>\n",
       "  </tbody>\n",
       "</table>\n",
       "</div>"
      ],
      "text/plain": [
       "     HCPCS_code HCPCS_code_CAT\n",
       "131          01           None\n",
       "1166      99910           None\n",
       "1267       0521           None\n",
       "2120         02           None\n",
       "2433      00002           None\n",
       "2881       0851           None\n",
       "2999      99998           None"
      ]
     },
     "execution_count": 51,
     "metadata": {},
     "output_type": "execute_result"
    }
   ],
   "source": [
    "# unique_hcpcs_code.drop(columns=[\"HCPCS_code_CAT\"], inplace=True)\n",
    "with pd.option_context('display.max_rows', None, 'display.max_columns', None):  # more options can be specified also\n",
    "    unique_hcpcs_code[(unique_hcpcs_code['HCPCS_code'].notna()) & (unique_hcpcs_code['HCPCS_code_CAT'].isna())]"
   ]
  },
  {
   "cell_type": "code",
   "execution_count": 52,
   "metadata": {},
   "outputs": [
    {
     "data": {
      "text/plain": [
       "HCPCS_code        1\n",
       "HCPCS_code_CAT    8\n",
       "dtype: int64"
      ]
     },
     "execution_count": 52,
     "metadata": {},
     "output_type": "execute_result"
    }
   ],
   "source": [
    "unique_hcpcs_code.isna().sum()"
   ]
  },
  {
   "cell_type": "code",
   "execution_count": 53,
   "metadata": {},
   "outputs": [],
   "source": [
    "unique_hcpcs_code['HCPCS_code_CAT'].fillna(\"UNKNOWN\", inplace=True)"
   ]
  },
  {
   "cell_type": "code",
   "execution_count": 54,
   "metadata": {},
   "outputs": [
    {
     "data": {
      "text/html": [
       "<div>\n",
       "<style scoped>\n",
       "    .dataframe tbody tr th:only-of-type {\n",
       "        vertical-align: middle;\n",
       "    }\n",
       "\n",
       "    .dataframe tbody tr th {\n",
       "        vertical-align: top;\n",
       "    }\n",
       "\n",
       "    .dataframe thead th {\n",
       "        text-align: right;\n",
       "    }\n",
       "</style>\n",
       "<table border=\"1\" class=\"dataframe\">\n",
       "  <thead>\n",
       "    <tr style=\"text-align: right;\">\n",
       "      <th></th>\n",
       "      <th>HCPCS_code</th>\n",
       "      <th>HCPCS_code_CAT</th>\n",
       "    </tr>\n",
       "  </thead>\n",
       "  <tbody>\n",
       "  </tbody>\n",
       "</table>\n",
       "</div>"
      ],
      "text/plain": [
       "Empty DataFrame\n",
       "Columns: [HCPCS_code, HCPCS_code_CAT]\n",
       "Index: []"
      ]
     },
     "execution_count": 54,
     "metadata": {},
     "output_type": "execute_result"
    }
   ],
   "source": [
    "with pd.option_context('display.max_rows', None, 'display.max_columns', None):  # more options can be specified also\n",
    "    unique_hcpcs_code[(unique_hcpcs_code['HCPCS_code'].notna()) & (unique_hcpcs_code['HCPCS_code_CAT'].isna())]"
   ]
  },
  {
   "cell_type": "code",
   "execution_count": 55,
   "metadata": {},
   "outputs": [
    {
     "name": "stderr",
     "output_type": "stream",
     "text": [
      "c:\\MachineLearning\\DataScience\\lib\\site-packages\\urllib3\\connectionpool.py:988: InsecureRequestWarning: Unverified HTTPS request is being made to host 'www.hcpcsdata.com'. Adding certificate verification is strongly advised. See: https://urllib3.readthedocs.io/en/latest/advanced-usage.html#ssl-warnings\n",
      "  InsecureRequestWarning,\n"
     ]
    }
   ],
   "source": [
    "response = requests.get(config[2][\"HCPCS_CATEGORY_URL\"], verify=False)\n",
    "\n",
    "hcpcs_code_category_2 = pd.read_html(response.text)[0]\n",
    "\n",
    "hcpcs_code_category_2['HCPCS Index'] = hcpcs_code_category_2['HCPCS Codes'].str[1:2]"
   ]
  },
  {
   "cell_type": "code",
   "execution_count": 56,
   "metadata": {},
   "outputs": [
    {
     "data": {
      "text/html": [
       "<div>\n",
       "<style scoped>\n",
       "    .dataframe tbody tr th:only-of-type {\n",
       "        vertical-align: middle;\n",
       "    }\n",
       "\n",
       "    .dataframe tbody tr th {\n",
       "        vertical-align: top;\n",
       "    }\n",
       "\n",
       "    .dataframe thead th {\n",
       "        text-align: right;\n",
       "    }\n",
       "</style>\n",
       "<table border=\"1\" class=\"dataframe\">\n",
       "  <thead>\n",
       "    <tr style=\"text-align: right;\">\n",
       "      <th></th>\n",
       "      <th>HCPCS Codes</th>\n",
       "      <th>Count</th>\n",
       "      <th>Description</th>\n",
       "      <th>HCPCS Index</th>\n",
       "    </tr>\n",
       "  </thead>\n",
       "  <tbody>\n",
       "    <tr>\n",
       "      <th>0</th>\n",
       "      <td>'A' Codes</td>\n",
       "      <td>678</td>\n",
       "      <td>Transportation Services Including Ambulance, M...</td>\n",
       "      <td>A</td>\n",
       "    </tr>\n",
       "    <tr>\n",
       "      <th>1</th>\n",
       "      <td>'B' Codes</td>\n",
       "      <td>50</td>\n",
       "      <td>Enteral And Parenteral Therapy</td>\n",
       "      <td>B</td>\n",
       "    </tr>\n",
       "    <tr>\n",
       "      <th>2</th>\n",
       "      <td>'C' Codes</td>\n",
       "      <td>376</td>\n",
       "      <td>Temporary Codes For Use with Outpatient Prospe...</td>\n",
       "      <td>C</td>\n",
       "    </tr>\n",
       "    <tr>\n",
       "      <th>3</th>\n",
       "      <td>'E' Codes</td>\n",
       "      <td>608</td>\n",
       "      <td>Durable Medical Equipment</td>\n",
       "      <td>E</td>\n",
       "    </tr>\n",
       "    <tr>\n",
       "      <th>4</th>\n",
       "      <td>'G' Codes</td>\n",
       "      <td>1740</td>\n",
       "      <td>Procedures / Professional Services (Temporary ...</td>\n",
       "      <td>G</td>\n",
       "    </tr>\n",
       "    <tr>\n",
       "      <th>5</th>\n",
       "      <td>'H' Codes</td>\n",
       "      <td>88</td>\n",
       "      <td>Alcohol and Drug Abuse Treatment Services / Re...</td>\n",
       "      <td>H</td>\n",
       "    </tr>\n",
       "    <tr>\n",
       "      <th>6</th>\n",
       "      <td>'J' Codes</td>\n",
       "      <td>832</td>\n",
       "      <td>Drugs Administered Other Than Oral Method, Che...</td>\n",
       "      <td>J</td>\n",
       "    </tr>\n",
       "    <tr>\n",
       "      <th>7</th>\n",
       "      <td>'K' Codes</td>\n",
       "      <td>150</td>\n",
       "      <td>Durable Medical Equipment For Medicare Adminis...</td>\n",
       "      <td>K</td>\n",
       "    </tr>\n",
       "    <tr>\n",
       "      <th>8</th>\n",
       "      <td>'L' Codes</td>\n",
       "      <td>904</td>\n",
       "      <td>Orthotic And Prosthetic Procedures, Devices</td>\n",
       "      <td>L</td>\n",
       "    </tr>\n",
       "    <tr>\n",
       "      <th>9</th>\n",
       "      <td>'M' Codes</td>\n",
       "      <td>117</td>\n",
       "      <td>Medical Services</td>\n",
       "      <td>M</td>\n",
       "    </tr>\n",
       "    <tr>\n",
       "      <th>10</th>\n",
       "      <td>'P' Codes</td>\n",
       "      <td>56</td>\n",
       "      <td>Pathology And Laboratory Services</td>\n",
       "      <td>P</td>\n",
       "    </tr>\n",
       "    <tr>\n",
       "      <th>11</th>\n",
       "      <td>'Q' Codes</td>\n",
       "      <td>366</td>\n",
       "      <td>Miscellaneous Services (Temporary Codes)</td>\n",
       "      <td>Q</td>\n",
       "    </tr>\n",
       "    <tr>\n",
       "      <th>12</th>\n",
       "      <td>'R' Codes</td>\n",
       "      <td>3</td>\n",
       "      <td>Diagnostic Radiology Services</td>\n",
       "      <td>R</td>\n",
       "    </tr>\n",
       "    <tr>\n",
       "      <th>13</th>\n",
       "      <td>'S' Codes</td>\n",
       "      <td>526</td>\n",
       "      <td>Commercial Payers (Temporary Codes)</td>\n",
       "      <td>S</td>\n",
       "    </tr>\n",
       "    <tr>\n",
       "      <th>14</th>\n",
       "      <td>'T' Codes</td>\n",
       "      <td>110</td>\n",
       "      <td>Established For State Medical Agencies</td>\n",
       "      <td>T</td>\n",
       "    </tr>\n",
       "    <tr>\n",
       "      <th>15</th>\n",
       "      <td>'U' Codes</td>\n",
       "      <td>4</td>\n",
       "      <td>Coronavirus Diagnostic Panel</td>\n",
       "      <td>U</td>\n",
       "    </tr>\n",
       "    <tr>\n",
       "      <th>16</th>\n",
       "      <td>'V' Codes</td>\n",
       "      <td>210</td>\n",
       "      <td>Vision, Hearing And Speech-Language Pathology ...</td>\n",
       "      <td>V</td>\n",
       "    </tr>\n",
       "  </tbody>\n",
       "</table>\n",
       "</div>"
      ],
      "text/plain": [
       "   HCPCS Codes  Count                                        Description  \\\n",
       "0    'A' Codes    678  Transportation Services Including Ambulance, M...   \n",
       "1    'B' Codes     50                     Enteral And Parenteral Therapy   \n",
       "2    'C' Codes    376  Temporary Codes For Use with Outpatient Prospe...   \n",
       "3    'E' Codes    608                          Durable Medical Equipment   \n",
       "4    'G' Codes   1740  Procedures / Professional Services (Temporary ...   \n",
       "5    'H' Codes     88  Alcohol and Drug Abuse Treatment Services / Re...   \n",
       "6    'J' Codes    832  Drugs Administered Other Than Oral Method, Che...   \n",
       "7    'K' Codes    150  Durable Medical Equipment For Medicare Adminis...   \n",
       "8    'L' Codes    904        Orthotic And Prosthetic Procedures, Devices   \n",
       "9    'M' Codes    117                                   Medical Services   \n",
       "10   'P' Codes     56                  Pathology And Laboratory Services   \n",
       "11   'Q' Codes    366           Miscellaneous Services (Temporary Codes)   \n",
       "12   'R' Codes      3                      Diagnostic Radiology Services   \n",
       "13   'S' Codes    526                Commercial Payers (Temporary Codes)   \n",
       "14   'T' Codes    110             Established For State Medical Agencies   \n",
       "15   'U' Codes      4                       Coronavirus Diagnostic Panel   \n",
       "16   'V' Codes    210  Vision, Hearing And Speech-Language Pathology ...   \n",
       "\n",
       "   HCPCS Index  \n",
       "0            A  \n",
       "1            B  \n",
       "2            C  \n",
       "3            E  \n",
       "4            G  \n",
       "5            H  \n",
       "6            J  \n",
       "7            K  \n",
       "8            L  \n",
       "9            M  \n",
       "10           P  \n",
       "11           Q  \n",
       "12           R  \n",
       "13           S  \n",
       "14           T  \n",
       "15           U  \n",
       "16           V  "
      ]
     },
     "execution_count": 56,
     "metadata": {},
     "output_type": "execute_result"
    }
   ],
   "source": [
    "hcpcs_code_category_2"
   ]
  },
  {
   "cell_type": "code",
   "execution_count": 57,
   "metadata": {},
   "outputs": [
    {
     "data": {
      "text/plain": [
       "Index(['HCPCS Codes', 'Count', 'Description', 'HCPCS Index'], dtype='object')"
      ]
     },
     "execution_count": 57,
     "metadata": {},
     "output_type": "execute_result"
    },
    {
     "data": {
      "text/plain": [
       "Index(['HCPCS_code', 'HCPCS_code_CAT'], dtype='object')"
      ]
     },
     "execution_count": 57,
     "metadata": {},
     "output_type": "execute_result"
    },
    {
     "data": {
      "text/plain": [
       "Index(['Code Range', 'Description'], dtype='object')"
      ]
     },
     "execution_count": 57,
     "metadata": {},
     "output_type": "execute_result"
    }
   ],
   "source": [
    "hcpcs_code_category_2.columns\n",
    "unique_hcpcs_code.columns\n",
    "hcpcs_code_category.columns"
   ]
  },
  {
   "cell_type": "code",
   "execution_count": 58,
   "metadata": {},
   "outputs": [],
   "source": [
    "unique_hcpcs_code = unique_hcpcs_code.merge(hcpcs_code_category, left_on='HCPCS_code_CAT', right_on=\"Code Range\", how='left').merge(hcpcs_code_category_2,left_on='HCPCS_code_CAT', right_on=\"HCPCS Index\", how='left')"
   ]
  },
  {
   "cell_type": "code",
   "execution_count": 59,
   "metadata": {},
   "outputs": [],
   "source": [
    "unique_hcpcs_code['Description'] = unique_hcpcs_code['Description_x'].fillna(\"\") + unique_hcpcs_code['Description_y'].fillna(\"\")"
   ]
  },
  {
   "cell_type": "code",
   "execution_count": 60,
   "metadata": {},
   "outputs": [],
   "source": [
    "unique_hcpcs_code[\"Category\"] = unique_hcpcs_code[\"Code Range\"].fillna(\"\") + unique_hcpcs_code[\"HCPCS Codes\"].fillna(\"\")"
   ]
  },
  {
   "cell_type": "code",
   "execution_count": 61,
   "metadata": {},
   "outputs": [],
   "source": [
    "unique_hcpcs_code.loc[(unique_hcpcs_code[\"HCPCS_code_CAT\"]==\"UNKNOWN\"), \"Description\"] = \"UNKNOWN\"\n",
    "unique_hcpcs_code.loc[(unique_hcpcs_code[\"HCPCS_code_CAT\"]==\"UNKNOWN\"), \"Category\"] = \"UNKNOWN\""
   ]
  },
  {
   "cell_type": "code",
   "execution_count": 62,
   "metadata": {},
   "outputs": [],
   "source": [
    "unique_hcpcs_code = unique_hcpcs_code.loc[ : , [\"HCPCS_code\", \"Description\", \"Category\"]]\n",
    "\n",
    "unique_hcpcs_code.loc[(unique_hcpcs_code['HCPCS_code'].isna()), [\"Description\", \"Category\"]] = [np.nan, np.nan]"
   ]
  },
  {
   "cell_type": "code",
   "execution_count": 63,
   "metadata": {},
   "outputs": [
    {
     "data": {
      "text/plain": [
       "Index(['HCPCS_code', 'Description', 'Category'], dtype='object')"
      ]
     },
     "execution_count": 63,
     "metadata": {},
     "output_type": "execute_result"
    }
   ],
   "source": [
    "unique_hcpcs_code.columns"
   ]
  },
  {
   "cell_type": "code",
   "execution_count": 64,
   "metadata": {},
   "outputs": [],
   "source": [
    "for cols in icd_hcpcs_code:\n",
    "    data_outpatient_claims_2[f'{cols}_CAT'] = pd.merge(left=data_outpatient_claims_2, right=unique_hcpcs_code, left_on=cols, right_on=\"HCPCS_code\", how='left')['Category']"
   ]
  },
  {
   "cell_type": "code",
   "execution_count": 65,
   "metadata": {},
   "outputs": [],
   "source": [
    "for cols in icd_hcpcs_code:\n",
    "    data_outpatient_claims_2[f'{cols}_CAT_DESC'] = pd.merge(left=data_outpatient_claims_2, right=unique_hcpcs_code, left_on=cols, right_on=\"HCPCS_code\", how='left')['Description']"
   ]
  },
  {
   "cell_type": "code",
   "execution_count": 66,
   "metadata": {},
   "outputs": [
    {
     "data": {
      "text/html": [
       "<div>\n",
       "<style scoped>\n",
       "    .dataframe tbody tr th:only-of-type {\n",
       "        vertical-align: middle;\n",
       "    }\n",
       "\n",
       "    .dataframe tbody tr th {\n",
       "        vertical-align: top;\n",
       "    }\n",
       "\n",
       "    .dataframe thead th {\n",
       "        text-align: right;\n",
       "    }\n",
       "</style>\n",
       "<table border=\"1\" class=\"dataframe\">\n",
       "  <thead>\n",
       "    <tr style=\"text-align: right;\">\n",
       "      <th></th>\n",
       "      <th>HCPCS_CD_1</th>\n",
       "      <th>HCPCS_CD_2</th>\n",
       "      <th>HCPCS_CD_3</th>\n",
       "      <th>HCPCS_CD_1_CAT</th>\n",
       "      <th>HCPCS_CD_2_CAT</th>\n",
       "      <th>HCPCS_CD_3_CAT</th>\n",
       "      <th>HCPCS_CD_1_CAT_DESC</th>\n",
       "      <th>HCPCS_CD_2_CAT_DESC</th>\n",
       "      <th>HCPCS_CD_3_CAT_DESC</th>\n",
       "    </tr>\n",
       "  </thead>\n",
       "  <tbody>\n",
       "    <tr>\n",
       "      <th>0</th>\n",
       "      <td>G0103</td>\n",
       "      <td>80076</td>\n",
       "      <td>80053</td>\n",
       "      <td>'G' Codes</td>\n",
       "      <td>80047-80081</td>\n",
       "      <td>80047-80081</td>\n",
       "      <td>Procedures / Professional Services (Temporary ...</td>\n",
       "      <td>Organ or Disease Oriented Panels</td>\n",
       "      <td>Organ or Disease Oriented Panels</td>\n",
       "    </tr>\n",
       "    <tr>\n",
       "      <th>1</th>\n",
       "      <td>93971</td>\n",
       "      <td>NaN</td>\n",
       "      <td>NaN</td>\n",
       "      <td>93880-93998</td>\n",
       "      <td>NaN</td>\n",
       "      <td>NaN</td>\n",
       "      <td>Non-Invasive Vascular Diagnostic Studies</td>\n",
       "      <td>NaN</td>\n",
       "      <td>NaN</td>\n",
       "    </tr>\n",
       "    <tr>\n",
       "      <th>2</th>\n",
       "      <td>97110</td>\n",
       "      <td>97001</td>\n",
       "      <td>97010</td>\n",
       "      <td>97110-97150</td>\n",
       "      <td>97001-97002</td>\n",
       "      <td>97010-97028</td>\n",
       "      <td>Physical Medicine and Rehabilitation Therapeut...</td>\n",
       "      <td>Physical Therapy Evaluation</td>\n",
       "      <td>Supervised Physical Medicine and Rehabilitatio...</td>\n",
       "    </tr>\n",
       "    <tr>\n",
       "      <th>3</th>\n",
       "      <td>NaN</td>\n",
       "      <td>84484</td>\n",
       "      <td>V2632</td>\n",
       "      <td>NaN</td>\n",
       "      <td>82009-84999</td>\n",
       "      <td>'V' Codes</td>\n",
       "      <td>NaN</td>\n",
       "      <td>Chemistry Procedures</td>\n",
       "      <td>Vision, Hearing And Speech-Language Pathology ...</td>\n",
       "    </tr>\n",
       "    <tr>\n",
       "      <th>4</th>\n",
       "      <td>36415</td>\n",
       "      <td>86800</td>\n",
       "      <td>85027</td>\n",
       "      <td>33016-37799</td>\n",
       "      <td>86000-86849</td>\n",
       "      <td>85002-85999</td>\n",
       "      <td>Surgical Procedures on the Cardiovascular System</td>\n",
       "      <td>Immunology Procedures</td>\n",
       "      <td>Hematology and Coagulation Procedures</td>\n",
       "    </tr>\n",
       "    <tr>\n",
       "      <th>...</th>\n",
       "      <td>...</td>\n",
       "      <td>...</td>\n",
       "      <td>...</td>\n",
       "      <td>...</td>\n",
       "      <td>...</td>\n",
       "      <td>...</td>\n",
       "      <td>...</td>\n",
       "      <td>...</td>\n",
       "      <td>...</td>\n",
       "    </tr>\n",
       "    <tr>\n",
       "      <th>792557</th>\n",
       "      <td>G0283</td>\n",
       "      <td>84100</td>\n",
       "      <td>82607</td>\n",
       "      <td>'G' Codes</td>\n",
       "      <td>82009-84999</td>\n",
       "      <td>82009-84999</td>\n",
       "      <td>Procedures / Professional Services (Temporary ...</td>\n",
       "      <td>Chemistry Procedures</td>\n",
       "      <td>Chemistry Procedures</td>\n",
       "    </tr>\n",
       "    <tr>\n",
       "      <th>792558</th>\n",
       "      <td>NaN</td>\n",
       "      <td>NaN</td>\n",
       "      <td>83874</td>\n",
       "      <td>NaN</td>\n",
       "      <td>NaN</td>\n",
       "      <td>82009-84999</td>\n",
       "      <td>NaN</td>\n",
       "      <td>NaN</td>\n",
       "      <td>Chemistry Procedures</td>\n",
       "    </tr>\n",
       "    <tr>\n",
       "      <th>792559</th>\n",
       "      <td>36415</td>\n",
       "      <td>84439</td>\n",
       "      <td>80053</td>\n",
       "      <td>33016-37799</td>\n",
       "      <td>82009-84999</td>\n",
       "      <td>80047-80081</td>\n",
       "      <td>Surgical Procedures on the Cardiovascular System</td>\n",
       "      <td>Chemistry Procedures</td>\n",
       "      <td>Organ or Disease Oriented Panels</td>\n",
       "    </tr>\n",
       "    <tr>\n",
       "      <th>792560</th>\n",
       "      <td>NaN</td>\n",
       "      <td>96374</td>\n",
       "      <td>J3488</td>\n",
       "      <td>NaN</td>\n",
       "      <td>96360-96549</td>\n",
       "      <td>'J' Codes</td>\n",
       "      <td>NaN</td>\n",
       "      <td>Hydration, Therapeutic, Prophylactic, Diagnost...</td>\n",
       "      <td>Drugs Administered Other Than Oral Method, Che...</td>\n",
       "    </tr>\n",
       "    <tr>\n",
       "      <th>792561</th>\n",
       "      <td>76830</td>\n",
       "      <td>99211</td>\n",
       "      <td>85025</td>\n",
       "      <td>76506-76999</td>\n",
       "      <td>99201-99215</td>\n",
       "      <td>85002-85999</td>\n",
       "      <td>Diagnostic Ultrasound Procedures</td>\n",
       "      <td>Office or Other Outpatient Services</td>\n",
       "      <td>Hematology and Coagulation Procedures</td>\n",
       "    </tr>\n",
       "  </tbody>\n",
       "</table>\n",
       "<p>792562 rows × 9 columns</p>\n",
       "</div>"
      ],
      "text/plain": [
       "       HCPCS_CD_1 HCPCS_CD_2 HCPCS_CD_3 HCPCS_CD_1_CAT HCPCS_CD_2_CAT  \\\n",
       "0           G0103      80076      80053      'G' Codes    80047-80081   \n",
       "1           93971        NaN        NaN    93880-93998            NaN   \n",
       "2           97110      97001      97010    97110-97150    97001-97002   \n",
       "3             NaN      84484      V2632            NaN    82009-84999   \n",
       "4           36415      86800      85027    33016-37799    86000-86849   \n",
       "...           ...        ...        ...            ...            ...   \n",
       "792557      G0283      84100      82607      'G' Codes    82009-84999   \n",
       "792558        NaN        NaN      83874            NaN            NaN   \n",
       "792559      36415      84439      80053    33016-37799    82009-84999   \n",
       "792560        NaN      96374      J3488            NaN    96360-96549   \n",
       "792561      76830      99211      85025    76506-76999    99201-99215   \n",
       "\n",
       "       HCPCS_CD_3_CAT                                HCPCS_CD_1_CAT_DESC  \\\n",
       "0         80047-80081  Procedures / Professional Services (Temporary ...   \n",
       "1                 NaN           Non-Invasive Vascular Diagnostic Studies   \n",
       "2         97010-97028  Physical Medicine and Rehabilitation Therapeut...   \n",
       "3           'V' Codes                                                NaN   \n",
       "4         85002-85999   Surgical Procedures on the Cardiovascular System   \n",
       "...               ...                                                ...   \n",
       "792557    82009-84999  Procedures / Professional Services (Temporary ...   \n",
       "792558    82009-84999                                                NaN   \n",
       "792559    80047-80081   Surgical Procedures on the Cardiovascular System   \n",
       "792560      'J' Codes                                                NaN   \n",
       "792561    85002-85999                   Diagnostic Ultrasound Procedures   \n",
       "\n",
       "                                      HCPCS_CD_2_CAT_DESC  \\\n",
       "0                        Organ or Disease Oriented Panels   \n",
       "1                                                     NaN   \n",
       "2                             Physical Therapy Evaluation   \n",
       "3                                    Chemistry Procedures   \n",
       "4                                   Immunology Procedures   \n",
       "...                                                   ...   \n",
       "792557                               Chemistry Procedures   \n",
       "792558                                                NaN   \n",
       "792559                               Chemistry Procedures   \n",
       "792560  Hydration, Therapeutic, Prophylactic, Diagnost...   \n",
       "792561                Office or Other Outpatient Services   \n",
       "\n",
       "                                      HCPCS_CD_3_CAT_DESC  \n",
       "0                        Organ or Disease Oriented Panels  \n",
       "1                                                     NaN  \n",
       "2       Supervised Physical Medicine and Rehabilitatio...  \n",
       "3       Vision, Hearing And Speech-Language Pathology ...  \n",
       "4                   Hematology and Coagulation Procedures  \n",
       "...                                                   ...  \n",
       "792557                               Chemistry Procedures  \n",
       "792558                               Chemistry Procedures  \n",
       "792559                   Organ or Disease Oriented Panels  \n",
       "792560  Drugs Administered Other Than Oral Method, Che...  \n",
       "792561              Hematology and Coagulation Procedures  \n",
       "\n",
       "[792562 rows x 9 columns]"
      ]
     },
     "execution_count": 66,
     "metadata": {},
     "output_type": "execute_result"
    }
   ],
   "source": [
    "data_outpatient_claims_2[[col for col in data_outpatient_claims_2 if \"HCPCS\" in col]]"
   ]
  },
  {
   "cell_type": "code",
   "execution_count": 67,
   "metadata": {},
   "outputs": [],
   "source": [
    "data_outpatient_claims_2.to_sql(\"Outpatient_claims_2\", index=False, con=conn_object, if_exists=\"replace\")"
   ]
  },
  {
   "cell_type": "code",
   "execution_count": 68,
   "metadata": {},
   "outputs": [],
   "source": [
    "conn_object.close()"
   ]
  }
 ],
 "metadata": {
  "kernelspec": {
   "display_name": "Python 3.7.7 64-bit",
   "language": "python",
   "name": "python37764bit0b72806fd3e54d5ebfac378c30ae3568"
  },
  "language_info": {
   "codemirror_mode": {
    "name": "ipython",
    "version": 3
   },
   "file_extension": ".py",
   "mimetype": "text/x-python",
   "name": "python",
   "nbconvert_exporter": "python",
   "pygments_lexer": "ipython3",
   "version": "3.7.7"
  }
 },
 "nbformat": 4,
 "nbformat_minor": 2
}
