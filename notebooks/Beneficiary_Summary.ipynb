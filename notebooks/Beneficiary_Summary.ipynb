{
 "cells": [
  {
   "cell_type": "code",
   "execution_count": 1,
   "metadata": {},
   "outputs": [],
   "source": [
    "from IPython.core.interactiveshell import InteractiveShell\n",
    "InteractiveShell.ast_node_interactivity='all'"
   ]
  },
  {
   "cell_type": "code",
   "execution_count": 2,
   "metadata": {},
   "outputs": [],
   "source": [
    "import pandas as pd\n",
    "import numpy as np\n",
    "import sqlite3\n",
    "import json"
   ]
  },
  {
   "cell_type": "code",
   "execution_count": 3,
   "metadata": {},
   "outputs": [],
   "source": [
    "with open('../config.json', 'r') as f:\n",
    "    config = json.load(f)"
   ]
  },
  {
   "cell_type": "code",
   "execution_count": 4,
   "metadata": {},
   "outputs": [
    {
     "data": {
      "text/plain": [
       "dict_keys(['threshold_nan'])"
      ]
     },
     "execution_count": 4,
     "metadata": {},
     "output_type": "execute_result"
    },
    {
     "data": {
      "text/plain": [
       "dict_keys(['database_path', 'prvdr_category_file', 'icd9_procedure_code_category_file', 'hcpcs_code_category_file', 'eda_report_location', 'model_repository_location'])"
      ]
     },
     "execution_count": 4,
     "metadata": {},
     "output_type": "execute_result"
    },
    {
     "data": {
      "text/plain": [
       "dict_keys(['ICD9_DIAGNOSIS_CODE_CATEGORY_URL', 'HCPCS_CATEGORY_URL'])"
      ]
     },
     "execution_count": 4,
     "metadata": {},
     "output_type": "execute_result"
    },
    {
     "data": {
      "text/plain": [
       "dict_keys(['HIGH_CARDINALITY_THRESHOLD', 'INFREQUENT_CATEGORY_CUT_OFF', 'DEFAULT_INFREQUENT_CATEGORY_CUT_OFF', 'INFREQUENT_CATEGORY_LABEL', 'DEFAULT_INFREQUENT_CATEGORY_LABEL', 'RANDOM_STATE', 'STATISTICAL_TEST_ALPHA', 'TEST_SIZE_FOR_SPLIT', 'MISSING_VALUE_LABEL', 'N_JOB_PARAM_VALUE', 'VERBOSE_PARAM_VALUE'])"
      ]
     },
     "execution_count": 4,
     "metadata": {},
     "output_type": "execute_result"
    }
   ],
   "source": [
    "for dictionary in config:\n",
    "    dictionary.keys()"
   ]
  },
  {
   "cell_type": "code",
   "execution_count": 5,
   "metadata": {},
   "outputs": [],
   "source": [
    "conn_object = sqlite3.connect(config[1]['database_path'])"
   ]
  },
  {
   "cell_type": "code",
   "execution_count": 6,
   "metadata": {},
   "outputs": [],
   "source": [
    "dataframe_list = []\n",
    "randlist = [6, 7, 9, 13, 11]"
   ]
  },
  {
   "cell_type": "markdown",
   "metadata": {},
   "source": [
    "# Processing for 2008"
   ]
  },
  {
   "cell_type": "code",
   "execution_count": 7,
   "metadata": {},
   "outputs": [],
   "source": [
    "for i in randlist:\n",
    "    data_beneficiary_summary_2008 = pd.read_csv(f\"..\\input\\DE1.0 Sample{i}\\DE1_0_2008_Beneficiary_Summary_File_Sample_{i}.zip\")\n",
    "    dataframe_list.append(data_beneficiary_summary_2008)"
   ]
  },
  {
   "cell_type": "code",
   "execution_count": 8,
   "metadata": {},
   "outputs": [],
   "source": [
    "data_beneficiary_summary_2008 = pd.concat(dataframe_list, axis=0)"
   ]
  },
  {
   "cell_type": "code",
   "execution_count": 9,
   "metadata": {},
   "outputs": [
    {
     "data": {
      "text/html": [
       "<div>\n",
       "<style scoped>\n",
       "    .dataframe tbody tr th:only-of-type {\n",
       "        vertical-align: middle;\n",
       "    }\n",
       "\n",
       "    .dataframe tbody tr th {\n",
       "        vertical-align: top;\n",
       "    }\n",
       "\n",
       "    .dataframe thead th {\n",
       "        text-align: right;\n",
       "    }\n",
       "</style>\n",
       "<table border=\"1\" class=\"dataframe\">\n",
       "  <thead>\n",
       "    <tr style=\"text-align: right;\">\n",
       "      <th></th>\n",
       "      <th>DESYNPUF_ID</th>\n",
       "      <th>BENE_BIRTH_DT</th>\n",
       "      <th>BENE_DEATH_DT</th>\n",
       "      <th>BENE_SEX_IDENT_CD</th>\n",
       "      <th>BENE_RACE_CD</th>\n",
       "      <th>BENE_ESRD_IND</th>\n",
       "      <th>SP_STATE_CODE</th>\n",
       "      <th>BENE_COUNTY_CD</th>\n",
       "      <th>BENE_HI_CVRAGE_TOT_MONS</th>\n",
       "      <th>BENE_SMI_CVRAGE_TOT_MONS</th>\n",
       "      <th>...</th>\n",
       "      <th>SP_STRKETIA</th>\n",
       "      <th>MEDREIMB_IP</th>\n",
       "      <th>BENRES_IP</th>\n",
       "      <th>PPPYMT_IP</th>\n",
       "      <th>MEDREIMB_OP</th>\n",
       "      <th>BENRES_OP</th>\n",
       "      <th>PPPYMT_OP</th>\n",
       "      <th>MEDREIMB_CAR</th>\n",
       "      <th>BENRES_CAR</th>\n",
       "      <th>PPPYMT_CAR</th>\n",
       "    </tr>\n",
       "  </thead>\n",
       "  <tbody>\n",
       "    <tr>\n",
       "      <th>0</th>\n",
       "      <td>0001F555EF57602A</td>\n",
       "      <td>19410701</td>\n",
       "      <td>NaN</td>\n",
       "      <td>2</td>\n",
       "      <td>1</td>\n",
       "      <td>0</td>\n",
       "      <td>32</td>\n",
       "      <td>240</td>\n",
       "      <td>12</td>\n",
       "      <td>12</td>\n",
       "      <td>...</td>\n",
       "      <td>2</td>\n",
       "      <td>0.0</td>\n",
       "      <td>0.0</td>\n",
       "      <td>0.0</td>\n",
       "      <td>0.0</td>\n",
       "      <td>0.0</td>\n",
       "      <td>0.0</td>\n",
       "      <td>0.0</td>\n",
       "      <td>0.0</td>\n",
       "      <td>0.0</td>\n",
       "    </tr>\n",
       "    <tr>\n",
       "      <th>1</th>\n",
       "      <td>0003021C3025EF55</td>\n",
       "      <td>19350301</td>\n",
       "      <td>NaN</td>\n",
       "      <td>2</td>\n",
       "      <td>1</td>\n",
       "      <td>0</td>\n",
       "      <td>24</td>\n",
       "      <td>500</td>\n",
       "      <td>12</td>\n",
       "      <td>12</td>\n",
       "      <td>...</td>\n",
       "      <td>2</td>\n",
       "      <td>0.0</td>\n",
       "      <td>0.0</td>\n",
       "      <td>0.0</td>\n",
       "      <td>0.0</td>\n",
       "      <td>0.0</td>\n",
       "      <td>0.0</td>\n",
       "      <td>80.0</td>\n",
       "      <td>20.0</td>\n",
       "      <td>0.0</td>\n",
       "    </tr>\n",
       "    <tr>\n",
       "      <th>2</th>\n",
       "      <td>0003C83D2A47B2B9</td>\n",
       "      <td>19400901</td>\n",
       "      <td>NaN</td>\n",
       "      <td>1</td>\n",
       "      <td>2</td>\n",
       "      <td>0</td>\n",
       "      <td>45</td>\n",
       "      <td>610</td>\n",
       "      <td>12</td>\n",
       "      <td>12</td>\n",
       "      <td>...</td>\n",
       "      <td>2</td>\n",
       "      <td>0.0</td>\n",
       "      <td>0.0</td>\n",
       "      <td>0.0</td>\n",
       "      <td>2880.0</td>\n",
       "      <td>530.0</td>\n",
       "      <td>0.0</td>\n",
       "      <td>1180.0</td>\n",
       "      <td>160.0</td>\n",
       "      <td>0.0</td>\n",
       "    </tr>\n",
       "    <tr>\n",
       "      <th>3</th>\n",
       "      <td>0003F63CD84E54A3</td>\n",
       "      <td>19320701</td>\n",
       "      <td>NaN</td>\n",
       "      <td>2</td>\n",
       "      <td>1</td>\n",
       "      <td>0</td>\n",
       "      <td>10</td>\n",
       "      <td>470</td>\n",
       "      <td>12</td>\n",
       "      <td>12</td>\n",
       "      <td>...</td>\n",
       "      <td>2</td>\n",
       "      <td>0.0</td>\n",
       "      <td>0.0</td>\n",
       "      <td>0.0</td>\n",
       "      <td>0.0</td>\n",
       "      <td>0.0</td>\n",
       "      <td>0.0</td>\n",
       "      <td>960.0</td>\n",
       "      <td>270.0</td>\n",
       "      <td>0.0</td>\n",
       "    </tr>\n",
       "    <tr>\n",
       "      <th>4</th>\n",
       "      <td>00052028A33302D3</td>\n",
       "      <td>19140301</td>\n",
       "      <td>NaN</td>\n",
       "      <td>2</td>\n",
       "      <td>2</td>\n",
       "      <td>0</td>\n",
       "      <td>1</td>\n",
       "      <td>360</td>\n",
       "      <td>12</td>\n",
       "      <td>12</td>\n",
       "      <td>...</td>\n",
       "      <td>2</td>\n",
       "      <td>0.0</td>\n",
       "      <td>0.0</td>\n",
       "      <td>0.0</td>\n",
       "      <td>460.0</td>\n",
       "      <td>20.0</td>\n",
       "      <td>0.0</td>\n",
       "      <td>1290.0</td>\n",
       "      <td>410.0</td>\n",
       "      <td>0.0</td>\n",
       "    </tr>\n",
       "  </tbody>\n",
       "</table>\n",
       "<p>5 rows × 32 columns</p>\n",
       "</div>"
      ],
      "text/plain": [
       "        DESYNPUF_ID  BENE_BIRTH_DT  BENE_DEATH_DT  BENE_SEX_IDENT_CD  \\\n",
       "0  0001F555EF57602A       19410701            NaN                  2   \n",
       "1  0003021C3025EF55       19350301            NaN                  2   \n",
       "2  0003C83D2A47B2B9       19400901            NaN                  1   \n",
       "3  0003F63CD84E54A3       19320701            NaN                  2   \n",
       "4  00052028A33302D3       19140301            NaN                  2   \n",
       "\n",
       "   BENE_RACE_CD BENE_ESRD_IND  SP_STATE_CODE  BENE_COUNTY_CD  \\\n",
       "0             1             0             32             240   \n",
       "1             1             0             24             500   \n",
       "2             2             0             45             610   \n",
       "3             1             0             10             470   \n",
       "4             2             0              1             360   \n",
       "\n",
       "   BENE_HI_CVRAGE_TOT_MONS  BENE_SMI_CVRAGE_TOT_MONS  ...  SP_STRKETIA  \\\n",
       "0                       12                        12  ...            2   \n",
       "1                       12                        12  ...            2   \n",
       "2                       12                        12  ...            2   \n",
       "3                       12                        12  ...            2   \n",
       "4                       12                        12  ...            2   \n",
       "\n",
       "   MEDREIMB_IP  BENRES_IP  PPPYMT_IP  MEDREIMB_OP  BENRES_OP  PPPYMT_OP  \\\n",
       "0          0.0        0.0        0.0          0.0        0.0        0.0   \n",
       "1          0.0        0.0        0.0          0.0        0.0        0.0   \n",
       "2          0.0        0.0        0.0       2880.0      530.0        0.0   \n",
       "3          0.0        0.0        0.0          0.0        0.0        0.0   \n",
       "4          0.0        0.0        0.0        460.0       20.0        0.0   \n",
       "\n",
       "   MEDREIMB_CAR  BENRES_CAR  PPPYMT_CAR  \n",
       "0           0.0         0.0         0.0  \n",
       "1          80.0        20.0         0.0  \n",
       "2        1180.0       160.0         0.0  \n",
       "3         960.0       270.0         0.0  \n",
       "4        1290.0       410.0         0.0  \n",
       "\n",
       "[5 rows x 32 columns]"
      ]
     },
     "execution_count": 9,
     "metadata": {},
     "output_type": "execute_result"
    },
    {
     "data": {
      "text/plain": [
       "(581575, 32)"
      ]
     },
     "execution_count": 9,
     "metadata": {},
     "output_type": "execute_result"
    }
   ],
   "source": [
    "data_beneficiary_summary_2008.head()\n",
    "data_beneficiary_summary_2008.shape"
   ]
  },
  {
   "cell_type": "markdown",
   "metadata": {},
   "source": [
    "<h3>Add Year column</h3>"
   ]
  },
  {
   "cell_type": "code",
   "execution_count": 10,
   "metadata": {},
   "outputs": [],
   "source": [
    "data_beneficiary_summary_2008['Year'] = '2008-12-31'"
   ]
  },
  {
   "cell_type": "markdown",
   "metadata": {},
   "source": [
    "# Processing for 2009"
   ]
  },
  {
   "cell_type": "code",
   "execution_count": 11,
   "metadata": {},
   "outputs": [],
   "source": [
    "dataframe_list = []"
   ]
  },
  {
   "cell_type": "code",
   "execution_count": 12,
   "metadata": {},
   "outputs": [],
   "source": [
    "for i in randlist:\n",
    "    data_beneficiary_summary_2009 = pd.read_csv(f\"..\\input\\DE1.0 Sample{i}\\DE1_0_2009_Beneficiary_Summary_File_Sample_{i}.zip\")\n",
    "    dataframe_list.append(data_beneficiary_summary_2009)"
   ]
  },
  {
   "cell_type": "code",
   "execution_count": 13,
   "metadata": {},
   "outputs": [],
   "source": [
    "data_beneficiary_summary_2009 = pd.concat(dataframe_list, axis=0)"
   ]
  },
  {
   "cell_type": "code",
   "execution_count": 14,
   "metadata": {},
   "outputs": [
    {
     "data": {
      "text/html": [
       "<div>\n",
       "<style scoped>\n",
       "    .dataframe tbody tr th:only-of-type {\n",
       "        vertical-align: middle;\n",
       "    }\n",
       "\n",
       "    .dataframe tbody tr th {\n",
       "        vertical-align: top;\n",
       "    }\n",
       "\n",
       "    .dataframe thead th {\n",
       "        text-align: right;\n",
       "    }\n",
       "</style>\n",
       "<table border=\"1\" class=\"dataframe\">\n",
       "  <thead>\n",
       "    <tr style=\"text-align: right;\">\n",
       "      <th></th>\n",
       "      <th>DESYNPUF_ID</th>\n",
       "      <th>BENE_BIRTH_DT</th>\n",
       "      <th>BENE_DEATH_DT</th>\n",
       "      <th>BENE_SEX_IDENT_CD</th>\n",
       "      <th>BENE_RACE_CD</th>\n",
       "      <th>BENE_ESRD_IND</th>\n",
       "      <th>SP_STATE_CODE</th>\n",
       "      <th>BENE_COUNTY_CD</th>\n",
       "      <th>BENE_HI_CVRAGE_TOT_MONS</th>\n",
       "      <th>BENE_SMI_CVRAGE_TOT_MONS</th>\n",
       "      <th>...</th>\n",
       "      <th>SP_STRKETIA</th>\n",
       "      <th>MEDREIMB_IP</th>\n",
       "      <th>BENRES_IP</th>\n",
       "      <th>PPPYMT_IP</th>\n",
       "      <th>MEDREIMB_OP</th>\n",
       "      <th>BENRES_OP</th>\n",
       "      <th>PPPYMT_OP</th>\n",
       "      <th>MEDREIMB_CAR</th>\n",
       "      <th>BENRES_CAR</th>\n",
       "      <th>PPPYMT_CAR</th>\n",
       "    </tr>\n",
       "  </thead>\n",
       "  <tbody>\n",
       "    <tr>\n",
       "      <th>0</th>\n",
       "      <td>0001F555EF57602A</td>\n",
       "      <td>19410701</td>\n",
       "      <td>NaN</td>\n",
       "      <td>2</td>\n",
       "      <td>1</td>\n",
       "      <td>0</td>\n",
       "      <td>32</td>\n",
       "      <td>240</td>\n",
       "      <td>12</td>\n",
       "      <td>12</td>\n",
       "      <td>...</td>\n",
       "      <td>2</td>\n",
       "      <td>0.0</td>\n",
       "      <td>0.0</td>\n",
       "      <td>0.0</td>\n",
       "      <td>0.0</td>\n",
       "      <td>0.0</td>\n",
       "      <td>0.0</td>\n",
       "      <td>0.0</td>\n",
       "      <td>0.0</td>\n",
       "      <td>0.0</td>\n",
       "    </tr>\n",
       "    <tr>\n",
       "      <th>1</th>\n",
       "      <td>0003021C3025EF55</td>\n",
       "      <td>19350301</td>\n",
       "      <td>NaN</td>\n",
       "      <td>2</td>\n",
       "      <td>1</td>\n",
       "      <td>0</td>\n",
       "      <td>24</td>\n",
       "      <td>500</td>\n",
       "      <td>12</td>\n",
       "      <td>12</td>\n",
       "      <td>...</td>\n",
       "      <td>2</td>\n",
       "      <td>0.0</td>\n",
       "      <td>0.0</td>\n",
       "      <td>0.0</td>\n",
       "      <td>0.0</td>\n",
       "      <td>0.0</td>\n",
       "      <td>0.0</td>\n",
       "      <td>0.0</td>\n",
       "      <td>0.0</td>\n",
       "      <td>0.0</td>\n",
       "    </tr>\n",
       "    <tr>\n",
       "      <th>2</th>\n",
       "      <td>0003C83D2A47B2B9</td>\n",
       "      <td>19400901</td>\n",
       "      <td>20091201.0</td>\n",
       "      <td>1</td>\n",
       "      <td>2</td>\n",
       "      <td>0</td>\n",
       "      <td>45</td>\n",
       "      <td>610</td>\n",
       "      <td>12</td>\n",
       "      <td>12</td>\n",
       "      <td>...</td>\n",
       "      <td>2</td>\n",
       "      <td>0.0</td>\n",
       "      <td>0.0</td>\n",
       "      <td>0.0</td>\n",
       "      <td>1490.0</td>\n",
       "      <td>160.0</td>\n",
       "      <td>0.0</td>\n",
       "      <td>460.0</td>\n",
       "      <td>180.0</td>\n",
       "      <td>0.0</td>\n",
       "    </tr>\n",
       "    <tr>\n",
       "      <th>3</th>\n",
       "      <td>0003F63CD84E54A3</td>\n",
       "      <td>19320701</td>\n",
       "      <td>NaN</td>\n",
       "      <td>2</td>\n",
       "      <td>1</td>\n",
       "      <td>0</td>\n",
       "      <td>10</td>\n",
       "      <td>470</td>\n",
       "      <td>12</td>\n",
       "      <td>12</td>\n",
       "      <td>...</td>\n",
       "      <td>2</td>\n",
       "      <td>0.0</td>\n",
       "      <td>0.0</td>\n",
       "      <td>0.0</td>\n",
       "      <td>0.0</td>\n",
       "      <td>0.0</td>\n",
       "      <td>0.0</td>\n",
       "      <td>1500.0</td>\n",
       "      <td>340.0</td>\n",
       "      <td>0.0</td>\n",
       "    </tr>\n",
       "    <tr>\n",
       "      <th>4</th>\n",
       "      <td>00052028A33302D3</td>\n",
       "      <td>19140301</td>\n",
       "      <td>NaN</td>\n",
       "      <td>2</td>\n",
       "      <td>2</td>\n",
       "      <td>0</td>\n",
       "      <td>1</td>\n",
       "      <td>360</td>\n",
       "      <td>12</td>\n",
       "      <td>12</td>\n",
       "      <td>...</td>\n",
       "      <td>1</td>\n",
       "      <td>5000.0</td>\n",
       "      <td>1068.0</td>\n",
       "      <td>0.0</td>\n",
       "      <td>250.0</td>\n",
       "      <td>320.0</td>\n",
       "      <td>0.0</td>\n",
       "      <td>1810.0</td>\n",
       "      <td>380.0</td>\n",
       "      <td>0.0</td>\n",
       "    </tr>\n",
       "  </tbody>\n",
       "</table>\n",
       "<p>5 rows × 32 columns</p>\n",
       "</div>"
      ],
      "text/plain": [
       "        DESYNPUF_ID  BENE_BIRTH_DT  BENE_DEATH_DT  BENE_SEX_IDENT_CD  \\\n",
       "0  0001F555EF57602A       19410701            NaN                  2   \n",
       "1  0003021C3025EF55       19350301            NaN                  2   \n",
       "2  0003C83D2A47B2B9       19400901     20091201.0                  1   \n",
       "3  0003F63CD84E54A3       19320701            NaN                  2   \n",
       "4  00052028A33302D3       19140301            NaN                  2   \n",
       "\n",
       "   BENE_RACE_CD BENE_ESRD_IND  SP_STATE_CODE  BENE_COUNTY_CD  \\\n",
       "0             1             0             32             240   \n",
       "1             1             0             24             500   \n",
       "2             2             0             45             610   \n",
       "3             1             0             10             470   \n",
       "4             2             0              1             360   \n",
       "\n",
       "   BENE_HI_CVRAGE_TOT_MONS  BENE_SMI_CVRAGE_TOT_MONS  ...  SP_STRKETIA  \\\n",
       "0                       12                        12  ...            2   \n",
       "1                       12                        12  ...            2   \n",
       "2                       12                        12  ...            2   \n",
       "3                       12                        12  ...            2   \n",
       "4                       12                        12  ...            1   \n",
       "\n",
       "   MEDREIMB_IP  BENRES_IP  PPPYMT_IP  MEDREIMB_OP  BENRES_OP  PPPYMT_OP  \\\n",
       "0          0.0        0.0        0.0          0.0        0.0        0.0   \n",
       "1          0.0        0.0        0.0          0.0        0.0        0.0   \n",
       "2          0.0        0.0        0.0       1490.0      160.0        0.0   \n",
       "3          0.0        0.0        0.0          0.0        0.0        0.0   \n",
       "4       5000.0     1068.0        0.0        250.0      320.0        0.0   \n",
       "\n",
       "   MEDREIMB_CAR  BENRES_CAR  PPPYMT_CAR  \n",
       "0           0.0         0.0         0.0  \n",
       "1           0.0         0.0         0.0  \n",
       "2         460.0       180.0         0.0  \n",
       "3        1500.0       340.0         0.0  \n",
       "4        1810.0       380.0         0.0  \n",
       "\n",
       "[5 rows x 32 columns]"
      ]
     },
     "execution_count": 14,
     "metadata": {},
     "output_type": "execute_result"
    },
    {
     "data": {
      "text/plain": [
       "(572566, 32)"
      ]
     },
     "execution_count": 14,
     "metadata": {},
     "output_type": "execute_result"
    }
   ],
   "source": [
    "data_beneficiary_summary_2009.head()\n",
    "data_beneficiary_summary_2009.shape"
   ]
  },
  {
   "cell_type": "markdown",
   "metadata": {},
   "source": [
    "<h3>Add Year column</h3>"
   ]
  },
  {
   "cell_type": "code",
   "execution_count": 15,
   "metadata": {},
   "outputs": [],
   "source": [
    "data_beneficiary_summary_2009['Year'] = '2009-12-31'"
   ]
  },
  {
   "cell_type": "markdown",
   "metadata": {},
   "source": [
    "# Processing for 2010"
   ]
  },
  {
   "cell_type": "code",
   "execution_count": 16,
   "metadata": {},
   "outputs": [],
   "source": [
    "dataframe_list = []"
   ]
  },
  {
   "cell_type": "code",
   "execution_count": 17,
   "metadata": {},
   "outputs": [],
   "source": [
    "for i in randlist:\n",
    "    data_beneficiary_summary_2010 = pd.read_csv(f\"..\\input\\DE1.0 Sample{i}\\DE1_0_2010_Beneficiary_Summary_File_Sample_{i}.zip\")\n",
    "    dataframe_list.append(data_beneficiary_summary_2010)"
   ]
  },
  {
   "cell_type": "code",
   "execution_count": 18,
   "metadata": {},
   "outputs": [],
   "source": [
    "data_beneficiary_summary_2010 = pd.concat(dataframe_list, axis=0)"
   ]
  },
  {
   "cell_type": "code",
   "execution_count": 19,
   "metadata": {},
   "outputs": [
    {
     "data": {
      "text/html": [
       "<div>\n",
       "<style scoped>\n",
       "    .dataframe tbody tr th:only-of-type {\n",
       "        vertical-align: middle;\n",
       "    }\n",
       "\n",
       "    .dataframe tbody tr th {\n",
       "        vertical-align: top;\n",
       "    }\n",
       "\n",
       "    .dataframe thead th {\n",
       "        text-align: right;\n",
       "    }\n",
       "</style>\n",
       "<table border=\"1\" class=\"dataframe\">\n",
       "  <thead>\n",
       "    <tr style=\"text-align: right;\">\n",
       "      <th></th>\n",
       "      <th>DESYNPUF_ID</th>\n",
       "      <th>BENE_BIRTH_DT</th>\n",
       "      <th>BENE_DEATH_DT</th>\n",
       "      <th>BENE_SEX_IDENT_CD</th>\n",
       "      <th>BENE_RACE_CD</th>\n",
       "      <th>BENE_ESRD_IND</th>\n",
       "      <th>SP_STATE_CODE</th>\n",
       "      <th>BENE_COUNTY_CD</th>\n",
       "      <th>BENE_HI_CVRAGE_TOT_MONS</th>\n",
       "      <th>BENE_SMI_CVRAGE_TOT_MONS</th>\n",
       "      <th>...</th>\n",
       "      <th>SP_STRKETIA</th>\n",
       "      <th>MEDREIMB_IP</th>\n",
       "      <th>BENRES_IP</th>\n",
       "      <th>PPPYMT_IP</th>\n",
       "      <th>MEDREIMB_OP</th>\n",
       "      <th>BENRES_OP</th>\n",
       "      <th>PPPYMT_OP</th>\n",
       "      <th>MEDREIMB_CAR</th>\n",
       "      <th>BENRES_CAR</th>\n",
       "      <th>PPPYMT_CAR</th>\n",
       "    </tr>\n",
       "  </thead>\n",
       "  <tbody>\n",
       "    <tr>\n",
       "      <th>0</th>\n",
       "      <td>0001F555EF57602A</td>\n",
       "      <td>19410701</td>\n",
       "      <td>NaN</td>\n",
       "      <td>2</td>\n",
       "      <td>1</td>\n",
       "      <td>0</td>\n",
       "      <td>32</td>\n",
       "      <td>240</td>\n",
       "      <td>12</td>\n",
       "      <td>12</td>\n",
       "      <td>...</td>\n",
       "      <td>2</td>\n",
       "      <td>0.0</td>\n",
       "      <td>0.0</td>\n",
       "      <td>0.0</td>\n",
       "      <td>0.0</td>\n",
       "      <td>0.0</td>\n",
       "      <td>0.0</td>\n",
       "      <td>0.0</td>\n",
       "      <td>0.0</td>\n",
       "      <td>0.0</td>\n",
       "    </tr>\n",
       "    <tr>\n",
       "      <th>1</th>\n",
       "      <td>0003021C3025EF55</td>\n",
       "      <td>19350301</td>\n",
       "      <td>NaN</td>\n",
       "      <td>2</td>\n",
       "      <td>1</td>\n",
       "      <td>0</td>\n",
       "      <td>24</td>\n",
       "      <td>500</td>\n",
       "      <td>12</td>\n",
       "      <td>12</td>\n",
       "      <td>...</td>\n",
       "      <td>2</td>\n",
       "      <td>0.0</td>\n",
       "      <td>0.0</td>\n",
       "      <td>0.0</td>\n",
       "      <td>40.0</td>\n",
       "      <td>0.0</td>\n",
       "      <td>0.0</td>\n",
       "      <td>380.0</td>\n",
       "      <td>70.0</td>\n",
       "      <td>0.0</td>\n",
       "    </tr>\n",
       "    <tr>\n",
       "      <th>2</th>\n",
       "      <td>0003F63CD84E54A3</td>\n",
       "      <td>19320701</td>\n",
       "      <td>NaN</td>\n",
       "      <td>2</td>\n",
       "      <td>1</td>\n",
       "      <td>0</td>\n",
       "      <td>10</td>\n",
       "      <td>470</td>\n",
       "      <td>12</td>\n",
       "      <td>12</td>\n",
       "      <td>...</td>\n",
       "      <td>2</td>\n",
       "      <td>15000.0</td>\n",
       "      <td>1100.0</td>\n",
       "      <td>0.0</td>\n",
       "      <td>10.0</td>\n",
       "      <td>0.0</td>\n",
       "      <td>0.0</td>\n",
       "      <td>1840.0</td>\n",
       "      <td>440.0</td>\n",
       "      <td>0.0</td>\n",
       "    </tr>\n",
       "    <tr>\n",
       "      <th>3</th>\n",
       "      <td>00052028A33302D3</td>\n",
       "      <td>19140301</td>\n",
       "      <td>NaN</td>\n",
       "      <td>2</td>\n",
       "      <td>2</td>\n",
       "      <td>0</td>\n",
       "      <td>1</td>\n",
       "      <td>360</td>\n",
       "      <td>12</td>\n",
       "      <td>12</td>\n",
       "      <td>...</td>\n",
       "      <td>2</td>\n",
       "      <td>13600.0</td>\n",
       "      <td>1100.0</td>\n",
       "      <td>0.0</td>\n",
       "      <td>320.0</td>\n",
       "      <td>190.0</td>\n",
       "      <td>0.0</td>\n",
       "      <td>730.0</td>\n",
       "      <td>480.0</td>\n",
       "      <td>0.0</td>\n",
       "    </tr>\n",
       "    <tr>\n",
       "      <th>4</th>\n",
       "      <td>00059936220B46D2</td>\n",
       "      <td>19090301</td>\n",
       "      <td>NaN</td>\n",
       "      <td>1</td>\n",
       "      <td>1</td>\n",
       "      <td>0</td>\n",
       "      <td>52</td>\n",
       "      <td>350</td>\n",
       "      <td>0</td>\n",
       "      <td>0</td>\n",
       "      <td>...</td>\n",
       "      <td>2</td>\n",
       "      <td>0.0</td>\n",
       "      <td>0.0</td>\n",
       "      <td>0.0</td>\n",
       "      <td>0.0</td>\n",
       "      <td>0.0</td>\n",
       "      <td>0.0</td>\n",
       "      <td>0.0</td>\n",
       "      <td>0.0</td>\n",
       "      <td>0.0</td>\n",
       "    </tr>\n",
       "  </tbody>\n",
       "</table>\n",
       "<p>5 rows × 32 columns</p>\n",
       "</div>"
      ],
      "text/plain": [
       "        DESYNPUF_ID  BENE_BIRTH_DT  BENE_DEATH_DT  BENE_SEX_IDENT_CD  \\\n",
       "0  0001F555EF57602A       19410701            NaN                  2   \n",
       "1  0003021C3025EF55       19350301            NaN                  2   \n",
       "2  0003F63CD84E54A3       19320701            NaN                  2   \n",
       "3  00052028A33302D3       19140301            NaN                  2   \n",
       "4  00059936220B46D2       19090301            NaN                  1   \n",
       "\n",
       "   BENE_RACE_CD BENE_ESRD_IND  SP_STATE_CODE  BENE_COUNTY_CD  \\\n",
       "0             1             0             32             240   \n",
       "1             1             0             24             500   \n",
       "2             1             0             10             470   \n",
       "3             2             0              1             360   \n",
       "4             1             0             52             350   \n",
       "\n",
       "   BENE_HI_CVRAGE_TOT_MONS  BENE_SMI_CVRAGE_TOT_MONS  ...  SP_STRKETIA  \\\n",
       "0                       12                        12  ...            2   \n",
       "1                       12                        12  ...            2   \n",
       "2                       12                        12  ...            2   \n",
       "3                       12                        12  ...            2   \n",
       "4                        0                         0  ...            2   \n",
       "\n",
       "   MEDREIMB_IP  BENRES_IP  PPPYMT_IP  MEDREIMB_OP  BENRES_OP  PPPYMT_OP  \\\n",
       "0          0.0        0.0        0.0          0.0        0.0        0.0   \n",
       "1          0.0        0.0        0.0         40.0        0.0        0.0   \n",
       "2      15000.0     1100.0        0.0         10.0        0.0        0.0   \n",
       "3      13600.0     1100.0        0.0        320.0      190.0        0.0   \n",
       "4          0.0        0.0        0.0          0.0        0.0        0.0   \n",
       "\n",
       "   MEDREIMB_CAR  BENRES_CAR  PPPYMT_CAR  \n",
       "0           0.0         0.0         0.0  \n",
       "1         380.0        70.0         0.0  \n",
       "2        1840.0       440.0         0.0  \n",
       "3         730.0       480.0         0.0  \n",
       "4           0.0         0.0         0.0  \n",
       "\n",
       "[5 rows x 32 columns]"
      ]
     },
     "execution_count": 19,
     "metadata": {},
     "output_type": "execute_result"
    },
    {
     "data": {
      "text/plain": [
       "(563396, 32)"
      ]
     },
     "execution_count": 19,
     "metadata": {},
     "output_type": "execute_result"
    }
   ],
   "source": [
    "data_beneficiary_summary_2010.head()\n",
    "data_beneficiary_summary_2010.shape"
   ]
  },
  {
   "cell_type": "markdown",
   "metadata": {},
   "source": [
    "<h3>Add Year column</h3>"
   ]
  },
  {
   "cell_type": "code",
   "execution_count": 20,
   "metadata": {},
   "outputs": [],
   "source": [
    "data_beneficiary_summary_2010['Year'] = '2010-12-31'"
   ]
  },
  {
   "cell_type": "code",
   "execution_count": 21,
   "metadata": {},
   "outputs": [
    {
     "name": "stdout",
     "output_type": "stream",
     "text": [
      "shape of 2008 data (581575, 33)\n",
      "Deaths in 2008 9009\n",
      "shape of 2009 data (572566, 33)\n",
      "Deaths in 2009 9170\n",
      "shape of 2010 data (563396, 33)\n",
      "Deaths in 2010 8888\n"
     ]
    }
   ],
   "source": [
    "print(f\"shape of 2008 data {data_beneficiary_summary_2008.shape}\")\n",
    "print(f\"Deaths in 2008 {data_beneficiary_summary_2008['BENE_DEATH_DT'].notna().sum()}\")\n",
    "\n",
    "print(f\"shape of 2009 data {data_beneficiary_summary_2009.shape}\")\n",
    "print(f\"Deaths in 2009 {data_beneficiary_summary_2009['BENE_DEATH_DT'].notna().sum()}\")\n",
    "\n",
    "print(f\"shape of 2010 data {data_beneficiary_summary_2010.shape}\")\n",
    "print(f\"Deaths in 2010 {data_beneficiary_summary_2010['BENE_DEATH_DT'].notna().sum()}\")"
   ]
  },
  {
   "cell_type": "code",
   "execution_count": 22,
   "metadata": {},
   "outputs": [
    {
     "data": {
      "text/plain": [
       "114618"
      ]
     },
     "execution_count": 22,
     "metadata": {},
     "output_type": "execute_result"
    }
   ],
   "source": [
    "116395-1777"
   ]
  },
  {
   "cell_type": "code",
   "execution_count": 23,
   "metadata": {},
   "outputs": [
    {
     "data": {
      "text/plain": [
       "112845"
      ]
     },
     "execution_count": 23,
     "metadata": {},
     "output_type": "execute_result"
    }
   ],
   "source": [
    "114618-1773"
   ]
  },
  {
   "cell_type": "markdown",
   "metadata": {},
   "source": [
    "> Looks like the 2008, 2009, 2010 beneficiary data contains same patient except the ones that have died in the previous year"
   ]
  },
  {
   "cell_type": "markdown",
   "metadata": {},
   "source": [
    "# Concating 2008, 2009 & 2010 data into a single dataset"
   ]
  },
  {
   "cell_type": "code",
   "execution_count": 24,
   "metadata": {},
   "outputs": [],
   "source": [
    "combined_beneficiary_data_2 = pd.concat([data_beneficiary_summary_2008, data_beneficiary_summary_2009, data_beneficiary_summary_2010], axis=0)"
   ]
  },
  {
   "cell_type": "code",
   "execution_count": null,
   "metadata": {},
   "outputs": [],
   "source": []
  },
  {
   "cell_type": "markdown",
   "metadata": {},
   "source": [
    "# Correcting format of date variables"
   ]
  },
  {
   "cell_type": "code",
   "execution_count": 25,
   "metadata": {},
   "outputs": [],
   "source": [
    "combined_beneficiary_data_2['BENE_BIRTH_DT'] = pd.to_datetime(combined_beneficiary_data_2['BENE_BIRTH_DT'], format='%Y%m%d')\n",
    "combined_beneficiary_data_2['BENE_DEATH_DT'] = pd.to_datetime(combined_beneficiary_data_2['BENE_DEATH_DT'], format='%Y%m%d')\n",
    "combined_beneficiary_data_2['Year'] = pd.to_datetime(combined_beneficiary_data_2['Year'], infer_datetime_format=True)"
   ]
  },
  {
   "cell_type": "markdown",
   "metadata": {},
   "source": [
    "# Calculating Age of the Beneficiary"
   ]
  },
  {
   "cell_type": "code",
   "execution_count": 26,
   "metadata": {},
   "outputs": [],
   "source": [
    "combined_beneficiary_data_2[\"Temp_Death_DT\"] = np.where(combined_beneficiary_data_2['BENE_DEATH_DT'].isna(), combined_beneficiary_data_2['Year'], combined_beneficiary_data_2['BENE_DEATH_DT'])\n",
    "\n",
    "combined_beneficiary_data_2[\"Temp_Death_DT\"] = pd.to_datetime(combined_beneficiary_data_2[\"Temp_Death_DT\"], infer_datetime_format=True)"
   ]
  },
  {
   "cell_type": "code",
   "execution_count": 27,
   "metadata": {},
   "outputs": [],
   "source": [
    "# Finding age from Death & Birth Date\n",
    "combined_beneficiary_data_2['BENE_AGE'] = (combined_beneficiary_data_2['Temp_Death_DT'] - combined_beneficiary_data_2['BENE_BIRTH_DT']).astype('timedelta64[Y]')\n",
    "combined_beneficiary_data_2.drop(columns=['Temp_Death_DT'], inplace=True)"
   ]
  },
  {
   "cell_type": "code",
   "execution_count": 28,
   "metadata": {},
   "outputs": [],
   "source": [
    "combined_beneficiary_data_2[\"Year\"] = combined_beneficiary_data_2[\"Year\"].dt.year"
   ]
  },
  {
   "cell_type": "code",
   "execution_count": 29,
   "metadata": {},
   "outputs": [
    {
     "data": {
      "text/plain": [
       "<matplotlib.axes._subplots.AxesSubplot at 0x19801abcb88>"
      ]
     },
     "execution_count": 29,
     "metadata": {},
     "output_type": "execute_result"
    },
    {
     "data": {
      "text/plain": [
       "<matplotlib.axes._subplots.AxesSubplot at 0x19801abcb88>"
      ]
     },
     "execution_count": 29,
     "metadata": {},
     "output_type": "execute_result"
    },
    {
     "data": {
      "text/plain": [
       "<matplotlib.axes._subplots.AxesSubplot at 0x19801abcb88>"
      ]
     },
     "execution_count": 29,
     "metadata": {},
     "output_type": "execute_result"
    },
    {
     "data": {
      "image/png": "[encoded data removed]",
      "text/plain": [
       "<Figure size 432x288 with 1 Axes>"
      ]
     },
     "metadata": {
      "needs_background": "light"
     },
     "output_type": "display_data"
    }
   ],
   "source": [
    "for year in combined_beneficiary_data_2['Year'].unique():\n",
    "    combined_beneficiary_data_2.loc[(combined_beneficiary_data_2['Year']==year), 'BENE_AGE'].plot(kind='hist')"
   ]
  },
  {
   "cell_type": "markdown",
   "metadata": {},
   "source": [
    "# Converting Age to Categorical"
   ]
  },
  {
   "cell_type": "code",
   "execution_count": 30,
   "metadata": {},
   "outputs": [],
   "source": [
    "# combined_beneficiary_data_2[\"BENE_AGE_CAT\"] = pd.cut(combined_beneficiary_data_2[\"BENE_AGE\"], bins=5, labels=[\"25-40\", \"40-55\", \"55-70\", \"70-85\", \"85+\"])\n",
    "\n",
    "# combined_beneficiary_data_2.drop(columns=['BENE_AGE'], inplace=True, axis=1)"
   ]
  },
  {
   "cell_type": "code",
   "execution_count": 31,
   "metadata": {},
   "outputs": [],
   "source": [
    "combined_beneficiary_data_2.sort_values(by=['DESYNPUF_ID', 'Year'], ascending='False', inplace=True)"
   ]
  },
  {
   "cell_type": "code",
   "execution_count": 32,
   "metadata": {},
   "outputs": [
    {
     "data": {
      "text/html": [
       "<div>\n",
       "<style scoped>\n",
       "    .dataframe tbody tr th:only-of-type {\n",
       "        vertical-align: middle;\n",
       "    }\n",
       "\n",
       "    .dataframe tbody tr th {\n",
       "        vertical-align: top;\n",
       "    }\n",
       "\n",
       "    .dataframe thead th {\n",
       "        text-align: right;\n",
       "    }\n",
       "</style>\n",
       "<table border=\"1\" class=\"dataframe\">\n",
       "  <thead>\n",
       "    <tr style=\"text-align: right;\">\n",
       "      <th></th>\n",
       "      <th>DESYNPUF_ID</th>\n",
       "      <th>BENE_BIRTH_DT</th>\n",
       "      <th>BENE_DEATH_DT</th>\n",
       "      <th>BENE_SEX_IDENT_CD</th>\n",
       "      <th>BENE_RACE_CD</th>\n",
       "      <th>BENE_ESRD_IND</th>\n",
       "      <th>SP_STATE_CODE</th>\n",
       "      <th>BENE_COUNTY_CD</th>\n",
       "      <th>BENE_HI_CVRAGE_TOT_MONS</th>\n",
       "      <th>BENE_SMI_CVRAGE_TOT_MONS</th>\n",
       "      <th>...</th>\n",
       "      <th>BENRES_IP</th>\n",
       "      <th>PPPYMT_IP</th>\n",
       "      <th>MEDREIMB_OP</th>\n",
       "      <th>BENRES_OP</th>\n",
       "      <th>PPPYMT_OP</th>\n",
       "      <th>MEDREIMB_CAR</th>\n",
       "      <th>BENRES_CAR</th>\n",
       "      <th>PPPYMT_CAR</th>\n",
       "      <th>Year</th>\n",
       "      <th>BENE_AGE</th>\n",
       "    </tr>\n",
       "  </thead>\n",
       "  <tbody>\n",
       "    <tr>\n",
       "      <th>0</th>\n",
       "      <td>0000438E79D01BEA</td>\n",
       "      <td>1937-05-01</td>\n",
       "      <td>NaT</td>\n",
       "      <td>1</td>\n",
       "      <td>1</td>\n",
       "      <td>0</td>\n",
       "      <td>10</td>\n",
       "      <td>280</td>\n",
       "      <td>12</td>\n",
       "      <td>12</td>\n",
       "      <td>...</td>\n",
       "      <td>0.0</td>\n",
       "      <td>0.0</td>\n",
       "      <td>0.0</td>\n",
       "      <td>0.0</td>\n",
       "      <td>0.0</td>\n",
       "      <td>140.0</td>\n",
       "      <td>10.0</td>\n",
       "      <td>0.0</td>\n",
       "      <td>2008</td>\n",
       "      <td>71.0</td>\n",
       "    </tr>\n",
       "    <tr>\n",
       "      <th>0</th>\n",
       "      <td>0000438E79D01BEA</td>\n",
       "      <td>1937-05-01</td>\n",
       "      <td>NaT</td>\n",
       "      <td>1</td>\n",
       "      <td>1</td>\n",
       "      <td>0</td>\n",
       "      <td>10</td>\n",
       "      <td>280</td>\n",
       "      <td>12</td>\n",
       "      <td>12</td>\n",
       "      <td>...</td>\n",
       "      <td>0.0</td>\n",
       "      <td>0.0</td>\n",
       "      <td>0.0</td>\n",
       "      <td>0.0</td>\n",
       "      <td>0.0</td>\n",
       "      <td>0.0</td>\n",
       "      <td>0.0</td>\n",
       "      <td>0.0</td>\n",
       "      <td>2009</td>\n",
       "      <td>72.0</td>\n",
       "    </tr>\n",
       "    <tr>\n",
       "      <th>0</th>\n",
       "      <td>0000438E79D01BEA</td>\n",
       "      <td>1937-05-01</td>\n",
       "      <td>NaT</td>\n",
       "      <td>1</td>\n",
       "      <td>1</td>\n",
       "      <td>0</td>\n",
       "      <td>10</td>\n",
       "      <td>280</td>\n",
       "      <td>12</td>\n",
       "      <td>12</td>\n",
       "      <td>...</td>\n",
       "      <td>0.0</td>\n",
       "      <td>0.0</td>\n",
       "      <td>0.0</td>\n",
       "      <td>0.0</td>\n",
       "      <td>0.0</td>\n",
       "      <td>0.0</td>\n",
       "      <td>0.0</td>\n",
       "      <td>0.0</td>\n",
       "      <td>2010</td>\n",
       "      <td>73.0</td>\n",
       "    </tr>\n",
       "    <tr>\n",
       "      <th>0</th>\n",
       "      <td>0000A38A6DB6581C</td>\n",
       "      <td>1928-02-01</td>\n",
       "      <td>NaT</td>\n",
       "      <td>2</td>\n",
       "      <td>3</td>\n",
       "      <td>0</td>\n",
       "      <td>5</td>\n",
       "      <td>80</td>\n",
       "      <td>12</td>\n",
       "      <td>12</td>\n",
       "      <td>...</td>\n",
       "      <td>0.0</td>\n",
       "      <td>0.0</td>\n",
       "      <td>0.0</td>\n",
       "      <td>0.0</td>\n",
       "      <td>0.0</td>\n",
       "      <td>640.0</td>\n",
       "      <td>200.0</td>\n",
       "      <td>0.0</td>\n",
       "      <td>2008</td>\n",
       "      <td>80.0</td>\n",
       "    </tr>\n",
       "    <tr>\n",
       "      <th>0</th>\n",
       "      <td>0000A38A6DB6581C</td>\n",
       "      <td>1928-02-01</td>\n",
       "      <td>NaT</td>\n",
       "      <td>2</td>\n",
       "      <td>3</td>\n",
       "      <td>0</td>\n",
       "      <td>5</td>\n",
       "      <td>80</td>\n",
       "      <td>12</td>\n",
       "      <td>12</td>\n",
       "      <td>...</td>\n",
       "      <td>0.0</td>\n",
       "      <td>0.0</td>\n",
       "      <td>450.0</td>\n",
       "      <td>50.0</td>\n",
       "      <td>0.0</td>\n",
       "      <td>540.0</td>\n",
       "      <td>100.0</td>\n",
       "      <td>0.0</td>\n",
       "      <td>2009</td>\n",
       "      <td>81.0</td>\n",
       "    </tr>\n",
       "    <tr>\n",
       "      <th>0</th>\n",
       "      <td>0000A38A6DB6581C</td>\n",
       "      <td>1928-02-01</td>\n",
       "      <td>NaT</td>\n",
       "      <td>2</td>\n",
       "      <td>3</td>\n",
       "      <td>0</td>\n",
       "      <td>5</td>\n",
       "      <td>80</td>\n",
       "      <td>12</td>\n",
       "      <td>12</td>\n",
       "      <td>...</td>\n",
       "      <td>0.0</td>\n",
       "      <td>0.0</td>\n",
       "      <td>0.0</td>\n",
       "      <td>0.0</td>\n",
       "      <td>0.0</td>\n",
       "      <td>530.0</td>\n",
       "      <td>130.0</td>\n",
       "      <td>0.0</td>\n",
       "      <td>2010</td>\n",
       "      <td>82.0</td>\n",
       "    </tr>\n",
       "    <tr>\n",
       "      <th>0</th>\n",
       "      <td>0000BAF51F7D7F01</td>\n",
       "      <td>1926-04-01</td>\n",
       "      <td>NaT</td>\n",
       "      <td>2</td>\n",
       "      <td>5</td>\n",
       "      <td>0</td>\n",
       "      <td>54</td>\n",
       "      <td>999</td>\n",
       "      <td>12</td>\n",
       "      <td>12</td>\n",
       "      <td>...</td>\n",
       "      <td>0.0</td>\n",
       "      <td>0.0</td>\n",
       "      <td>600.0</td>\n",
       "      <td>370.0</td>\n",
       "      <td>0.0</td>\n",
       "      <td>5180.0</td>\n",
       "      <td>1850.0</td>\n",
       "      <td>0.0</td>\n",
       "      <td>2008</td>\n",
       "      <td>82.0</td>\n",
       "    </tr>\n",
       "    <tr>\n",
       "      <th>0</th>\n",
       "      <td>0000BAF51F7D7F01</td>\n",
       "      <td>1926-04-01</td>\n",
       "      <td>NaT</td>\n",
       "      <td>2</td>\n",
       "      <td>5</td>\n",
       "      <td>0</td>\n",
       "      <td>54</td>\n",
       "      <td>999</td>\n",
       "      <td>12</td>\n",
       "      <td>12</td>\n",
       "      <td>...</td>\n",
       "      <td>1068.0</td>\n",
       "      <td>0.0</td>\n",
       "      <td>3470.0</td>\n",
       "      <td>800.0</td>\n",
       "      <td>0.0</td>\n",
       "      <td>4570.0</td>\n",
       "      <td>1430.0</td>\n",
       "      <td>0.0</td>\n",
       "      <td>2009</td>\n",
       "      <td>83.0</td>\n",
       "    </tr>\n",
       "    <tr>\n",
       "      <th>0</th>\n",
       "      <td>0000BAF51F7D7F01</td>\n",
       "      <td>1926-04-01</td>\n",
       "      <td>NaT</td>\n",
       "      <td>2</td>\n",
       "      <td>5</td>\n",
       "      <td>0</td>\n",
       "      <td>54</td>\n",
       "      <td>999</td>\n",
       "      <td>11</td>\n",
       "      <td>12</td>\n",
       "      <td>...</td>\n",
       "      <td>0.0</td>\n",
       "      <td>0.0</td>\n",
       "      <td>10.0</td>\n",
       "      <td>0.0</td>\n",
       "      <td>0.0</td>\n",
       "      <td>980.0</td>\n",
       "      <td>250.0</td>\n",
       "      <td>0.0</td>\n",
       "      <td>2010</td>\n",
       "      <td>84.0</td>\n",
       "    </tr>\n",
       "    <tr>\n",
       "      <th>1</th>\n",
       "      <td>0000E21D08D66187</td>\n",
       "      <td>1961-02-01</td>\n",
       "      <td>NaT</td>\n",
       "      <td>2</td>\n",
       "      <td>1</td>\n",
       "      <td>0</td>\n",
       "      <td>26</td>\n",
       "      <td>100</td>\n",
       "      <td>12</td>\n",
       "      <td>12</td>\n",
       "      <td>...</td>\n",
       "      <td>0.0</td>\n",
       "      <td>0.0</td>\n",
       "      <td>670.0</td>\n",
       "      <td>120.0</td>\n",
       "      <td>0.0</td>\n",
       "      <td>380.0</td>\n",
       "      <td>30.0</td>\n",
       "      <td>0.0</td>\n",
       "      <td>2008</td>\n",
       "      <td>47.0</td>\n",
       "    </tr>\n",
       "  </tbody>\n",
       "</table>\n",
       "<p>10 rows × 34 columns</p>\n",
       "</div>"
      ],
      "text/plain": [
       "        DESYNPUF_ID BENE_BIRTH_DT BENE_DEATH_DT  BENE_SEX_IDENT_CD  \\\n",
       "0  0000438E79D01BEA    1937-05-01           NaT                  1   \n",
       "0  0000438E79D01BEA    1937-05-01           NaT                  1   \n",
       "0  0000438E79D01BEA    1937-05-01           NaT                  1   \n",
       "0  0000A38A6DB6581C    1928-02-01           NaT                  2   \n",
       "0  0000A38A6DB6581C    1928-02-01           NaT                  2   \n",
       "0  0000A38A6DB6581C    1928-02-01           NaT                  2   \n",
       "0  0000BAF51F7D7F01    1926-04-01           NaT                  2   \n",
       "0  0000BAF51F7D7F01    1926-04-01           NaT                  2   \n",
       "0  0000BAF51F7D7F01    1926-04-01           NaT                  2   \n",
       "1  0000E21D08D66187    1961-02-01           NaT                  2   \n",
       "\n",
       "   BENE_RACE_CD BENE_ESRD_IND  SP_STATE_CODE  BENE_COUNTY_CD  \\\n",
       "0             1             0             10             280   \n",
       "0             1             0             10             280   \n",
       "0             1             0             10             280   \n",
       "0             3             0              5              80   \n",
       "0             3             0              5              80   \n",
       "0             3             0              5              80   \n",
       "0             5             0             54             999   \n",
       "0             5             0             54             999   \n",
       "0             5             0             54             999   \n",
       "1             1             0             26             100   \n",
       "\n",
       "   BENE_HI_CVRAGE_TOT_MONS  BENE_SMI_CVRAGE_TOT_MONS  ...  BENRES_IP  \\\n",
       "0                       12                        12  ...        0.0   \n",
       "0                       12                        12  ...        0.0   \n",
       "0                       12                        12  ...        0.0   \n",
       "0                       12                        12  ...        0.0   \n",
       "0                       12                        12  ...        0.0   \n",
       "0                       12                        12  ...        0.0   \n",
       "0                       12                        12  ...        0.0   \n",
       "0                       12                        12  ...     1068.0   \n",
       "0                       11                        12  ...        0.0   \n",
       "1                       12                        12  ...        0.0   \n",
       "\n",
       "   PPPYMT_IP  MEDREIMB_OP  BENRES_OP  PPPYMT_OP  MEDREIMB_CAR  BENRES_CAR  \\\n",
       "0        0.0          0.0        0.0        0.0         140.0        10.0   \n",
       "0        0.0          0.0        0.0        0.0           0.0         0.0   \n",
       "0        0.0          0.0        0.0        0.0           0.0         0.0   \n",
       "0        0.0          0.0        0.0        0.0         640.0       200.0   \n",
       "0        0.0        450.0       50.0        0.0         540.0       100.0   \n",
       "0        0.0          0.0        0.0        0.0         530.0       130.0   \n",
       "0        0.0        600.0      370.0        0.0        5180.0      1850.0   \n",
       "0        0.0       3470.0      800.0        0.0        4570.0      1430.0   \n",
       "0        0.0         10.0        0.0        0.0         980.0       250.0   \n",
       "1        0.0        670.0      120.0        0.0         380.0        30.0   \n",
       "\n",
       "   PPPYMT_CAR  Year  BENE_AGE  \n",
       "0         0.0  2008      71.0  \n",
       "0         0.0  2009      72.0  \n",
       "0         0.0  2010      73.0  \n",
       "0         0.0  2008      80.0  \n",
       "0         0.0  2009      81.0  \n",
       "0         0.0  2010      82.0  \n",
       "0         0.0  2008      82.0  \n",
       "0         0.0  2009      83.0  \n",
       "0         0.0  2010      84.0  \n",
       "1         0.0  2008      47.0  \n",
       "\n",
       "[10 rows x 34 columns]"
      ]
     },
     "execution_count": 32,
     "metadata": {},
     "output_type": "execute_result"
    }
   ],
   "source": [
    "combined_beneficiary_data_2.head(10)"
   ]
  },
  {
   "cell_type": "markdown",
   "metadata": {},
   "source": [
    "# Since all the int columns are actually categories, converting them to catergorical feature"
   ]
  },
  {
   "cell_type": "code",
   "execution_count": 33,
   "metadata": {},
   "outputs": [
    {
     "data": {
      "text/plain": [
       "DESYNPUF_ID                         object\n",
       "BENE_BIRTH_DT               datetime64[ns]\n",
       "BENE_DEATH_DT               datetime64[ns]\n",
       "BENE_SEX_IDENT_CD                    int64\n",
       "BENE_RACE_CD                         int64\n",
       "BENE_ESRD_IND                       object\n",
       "SP_STATE_CODE                        int64\n",
       "BENE_COUNTY_CD                       int64\n",
       "BENE_HI_CVRAGE_TOT_MONS              int64\n",
       "BENE_SMI_CVRAGE_TOT_MONS             int64\n",
       "BENE_HMO_CVRAGE_TOT_MONS             int64\n",
       "PLAN_CVRG_MOS_NUM                    int64\n",
       "SP_ALZHDMTA                          int64\n",
       "SP_CHF                               int64\n",
       "SP_CHRNKIDN                          int64\n",
       "SP_CNCR                              int64\n",
       "SP_COPD                              int64\n",
       "SP_DEPRESSN                          int64\n",
       "SP_DIABETES                          int64\n",
       "SP_ISCHMCHT                          int64\n",
       "SP_OSTEOPRS                          int64\n",
       "SP_RA_OA                             int64\n",
       "SP_STRKETIA                          int64\n",
       "MEDREIMB_IP                        float64\n",
       "BENRES_IP                          float64\n",
       "PPPYMT_IP                          float64\n",
       "MEDREIMB_OP                        float64\n",
       "BENRES_OP                          float64\n",
       "PPPYMT_OP                          float64\n",
       "MEDREIMB_CAR                       float64\n",
       "BENRES_CAR                         float64\n",
       "PPPYMT_CAR                         float64\n",
       "Year                                 int64\n",
       "BENE_AGE                           float64\n",
       "dtype: object"
      ]
     },
     "execution_count": 33,
     "metadata": {},
     "output_type": "execute_result"
    }
   ],
   "source": [
    "combined_beneficiary_data_2.dtypes"
   ]
  },
  {
   "cell_type": "code",
   "execution_count": 34,
   "metadata": {},
   "outputs": [
    {
     "data": {
      "text/plain": [
       "Index(['DESYNPUF_ID', 'BENE_BIRTH_DT', 'BENE_DEATH_DT', 'BENE_SEX_IDENT_CD',\n",
       "       'BENE_RACE_CD', 'BENE_ESRD_IND', 'SP_STATE_CODE', 'BENE_COUNTY_CD',\n",
       "       'BENE_HI_CVRAGE_TOT_MONS', 'BENE_SMI_CVRAGE_TOT_MONS',\n",
       "       'BENE_HMO_CVRAGE_TOT_MONS', 'PLAN_CVRG_MOS_NUM', 'SP_ALZHDMTA',\n",
       "       'SP_CHF', 'SP_CHRNKIDN', 'SP_CNCR', 'SP_COPD', 'SP_DEPRESSN',\n",
       "       'SP_DIABETES', 'SP_ISCHMCHT', 'SP_OSTEOPRS', 'SP_RA_OA', 'SP_STRKETIA',\n",
       "       'MEDREIMB_IP', 'BENRES_IP', 'PPPYMT_IP', 'MEDREIMB_OP', 'BENRES_OP',\n",
       "       'PPPYMT_OP', 'MEDREIMB_CAR', 'BENRES_CAR', 'PPPYMT_CAR', 'Year',\n",
       "       'BENE_AGE'],\n",
       "      dtype='object')"
      ]
     },
     "execution_count": 34,
     "metadata": {},
     "output_type": "execute_result"
    }
   ],
   "source": [
    "combined_beneficiary_data_2.columns"
   ]
  },
  {
   "cell_type": "code",
   "execution_count": 35,
   "metadata": {},
   "outputs": [],
   "source": [
    "categorical_columns = ['BENE_SEX_IDENT_CD', 'BENE_RACE_CD', 'BENE_ESRD_IND', 'SP_STATE_CODE', 'BENE_COUNTY_CD', 'SP_ALZHDMTA', 'SP_CHF', 'SP_CHRNKIDN', 'SP_CNCR', 'SP_COPD', 'SP_DEPRESSN', 'SP_DIABETES', 'SP_ISCHMCHT', 'SP_OSTEOPRS', 'SP_RA_OA', 'SP_STRKETIA']"
   ]
  },
  {
   "cell_type": "code",
   "execution_count": 36,
   "metadata": {},
   "outputs": [
    {
     "data": {
      "text/plain": [
       "BENE_SEX_IDENT_CD    category\n",
       "BENE_RACE_CD         category\n",
       "BENE_ESRD_IND        category\n",
       "SP_STATE_CODE        category\n",
       "BENE_COUNTY_CD       category\n",
       "SP_ALZHDMTA          category\n",
       "SP_CHF               category\n",
       "SP_CHRNKIDN          category\n",
       "SP_CNCR              category\n",
       "SP_COPD              category\n",
       "SP_DEPRESSN          category\n",
       "SP_DIABETES          category\n",
       "SP_ISCHMCHT          category\n",
       "SP_OSTEOPRS          category\n",
       "SP_RA_OA             category\n",
       "SP_STRKETIA          category\n",
       "dtype: object"
      ]
     },
     "execution_count": 36,
     "metadata": {},
     "output_type": "execute_result"
    }
   ],
   "source": [
    "combined_beneficiary_data_2[categorical_columns].astype('category').dtypes"
   ]
  },
  {
   "cell_type": "markdown",
   "metadata": {},
   "source": [
    "# Concatinating state and county code "
   ]
  },
  {
   "cell_type": "code",
   "execution_count": 37,
   "metadata": {},
   "outputs": [],
   "source": [
    "combined_beneficiary_data_2['BENE_STATE_COUNTY_CODE'] = combined_beneficiary_data_2['SP_STATE_CODE'].astype(str) + \"-\" + combined_beneficiary_data_2['BENE_COUNTY_CD'].astype(str)"
   ]
  },
  {
   "cell_type": "code",
   "execution_count": 38,
   "metadata": {},
   "outputs": [
    {
     "data": {
      "text/plain": [
       "5-200     34870\n",
       "14-141    24612\n",
       "3-60      17842\n",
       "10-120    12721\n",
       "5-470     12574\n",
       "          ...  \n",
       "11-420        3\n",
       "45-522        3\n",
       "29-140        3\n",
       "45-621        3\n",
       "28-40         1\n",
       "Name: BENE_STATE_COUNTY_CODE, Length: 3181, dtype: int64"
      ]
     },
     "execution_count": 38,
     "metadata": {},
     "output_type": "execute_result"
    }
   ],
   "source": [
    "combined_beneficiary_data_2['BENE_STATE_COUNTY_CODE'].value_counts()"
   ]
  },
  {
   "cell_type": "code",
   "execution_count": 39,
   "metadata": {},
   "outputs": [],
   "source": [
    "combined_beneficiary_data_2.drop(columns=[\"SP_STATE_CODE\", \"BENE_COUNTY_CD\"], inplace=True, axis=1)"
   ]
  },
  {
   "cell_type": "code",
   "execution_count": 40,
   "metadata": {},
   "outputs": [
    {
     "data": {
      "text/plain": [
       "Index(['DESYNPUF_ID', 'BENE_BIRTH_DT', 'BENE_DEATH_DT', 'BENE_SEX_IDENT_CD',\n",
       "       'BENE_RACE_CD', 'BENE_ESRD_IND', 'BENE_HI_CVRAGE_TOT_MONS',\n",
       "       'BENE_SMI_CVRAGE_TOT_MONS', 'BENE_HMO_CVRAGE_TOT_MONS',\n",
       "       'PLAN_CVRG_MOS_NUM', 'SP_ALZHDMTA', 'SP_CHF', 'SP_CHRNKIDN', 'SP_CNCR',\n",
       "       'SP_COPD', 'SP_DEPRESSN', 'SP_DIABETES', 'SP_ISCHMCHT', 'SP_OSTEOPRS',\n",
       "       'SP_RA_OA', 'SP_STRKETIA', 'MEDREIMB_IP', 'BENRES_IP', 'PPPYMT_IP',\n",
       "       'MEDREIMB_OP', 'BENRES_OP', 'PPPYMT_OP', 'MEDREIMB_CAR', 'BENRES_CAR',\n",
       "       'PPPYMT_CAR', 'Year', 'BENE_AGE', 'BENE_STATE_COUNTY_CODE'],\n",
       "      dtype='object')"
      ]
     },
     "execution_count": 40,
     "metadata": {},
     "output_type": "execute_result"
    }
   ],
   "source": [
    "combined_beneficiary_data_2.columns"
   ]
  },
  {
   "cell_type": "code",
   "execution_count": 41,
   "metadata": {},
   "outputs": [],
   "source": [
    "combined_beneficiary_data_2.to_sql(\"Beneficiary_Data_2\", con=conn_object, if_exists=\"replace\", index=False)"
   ]
  },
  {
   "cell_type": "code",
   "execution_count": 42,
   "metadata": {},
   "outputs": [],
   "source": [
    "conn_object.close()"
   ]
  },
  {
   "cell_type": "code",
   "execution_count": null,
   "metadata": {},
   "outputs": [],
   "source": []
  }
 ],
 "metadata": {
  "kernelspec": {
   "display_name": "Python 3.7.7 64-bit",
   "language": "python",
   "name": "python37764bit0b72806fd3e54d5ebfac378c30ae3568"
  },
  "language_info": {
   "codemirror_mode": {
    "name": "ipython",
    "version": 3
   },
   "file_extension": ".py",
   "mimetype": "text/x-python",
   "name": "python",
   "nbconvert_exporter": "python",
   "pygments_lexer": "ipython3",
   "version": "3.7.7"
  },
  "toc": {
   "base_numbering": 1,
   "nav_menu": {},
   "number_sections": true,
   "sideBar": true,
   "skip_h1_title": false,
   "title_cell": "Table of Contents",
   "title_sidebar": "Contents",
   "toc_cell": false,
   "toc_position": {},
   "toc_section_display": true,
   "toc_window_display": false
  }
 },
 "nbformat": 4,
 "nbformat_minor": 2
}
