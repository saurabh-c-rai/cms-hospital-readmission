{
 "cells": [
  {
   "cell_type": "code",
   "execution_count": 2,
   "metadata": {},
   "outputs": [],
   "source": [
    "from IPython.core.interactiveshell import InteractiveShell\n",
    "InteractiveShell.ast_node_interactivity = \"all\""
   ]
  },
  {
   "cell_type": "code",
   "execution_count": 3,
   "metadata": {},
   "outputs": [],
   "source": [
    "import pandas as pd\n",
    "import numpy as np\n",
    "import sqlite3\n",
    "import seaborn as sns"
   ]
  },
  {
   "cell_type": "code",
   "execution_count": 10,
   "metadata": {},
   "outputs": [],
   "source": [
    "import json\n",
    "import requests\n",
    "import random"
   ]
  },
  {
   "cell_type": "code",
   "execution_count": 5,
   "metadata": {},
   "outputs": [],
   "source": [
    "with open('../config.json', 'r') as f:\n",
    "    config = json.load(f)"
   ]
  },
  {
   "cell_type": "code",
   "execution_count": 6,
   "metadata": {},
   "outputs": [
    {
     "output_type": "execute_result",
     "data": {
      "text/plain": [
       "dict_keys(['threshold_nan'])"
      ]
     },
     "metadata": {},
     "execution_count": 6
    },
    {
     "output_type": "execute_result",
     "data": {
      "text/plain": [
       "dict_keys(['database_path', 'prvdr_category_file', 'icd9_procedure_code_category_file', 'hcpcs_code_category_file', 'eda_report_location', 'model_repository_location'])"
      ]
     },
     "metadata": {},
     "execution_count": 6
    },
    {
     "output_type": "execute_result",
     "data": {
      "text/plain": [
       "dict_keys(['ICD9_DIAGNOSIS_CODE_CATEGORY_URL', 'HCPCS_CATEGORY_URL'])"
      ]
     },
     "metadata": {},
     "execution_count": 6
    }
   ],
   "source": [
    "config[0].keys()\n",
    "config[1].keys()\n",
    "config[2].keys()"
   ]
  },
  {
   "cell_type": "code",
   "execution_count": 7,
   "metadata": {},
   "outputs": [],
   "source": [
    "conn_object = sqlite3.connect(config[1]['database_path'])"
   ]
  },
  {
   "cell_type": "code",
   "execution_count": 13,
   "metadata": {},
   "outputs": [],
   "source": [
    "dataframe_list = []\n",
    "randlist = random.sample(range(2, 21), 5)"
   ]
  },
  {
   "cell_type": "code",
   "execution_count": 96,
   "metadata": {},
   "outputs": [
    {
     "output_type": "execute_result",
     "data": {
      "text/plain": [
       "[6, 7, 9, 13, 11]"
      ]
     },
     "metadata": {},
     "execution_count": 96
    }
   ],
   "source": [
    "randlist"
   ]
  },
  {
   "cell_type": "code",
   "execution_count": 14,
   "metadata": {},
   "outputs": [],
   "source": [
    "for i in randlist:\n",
    "    data_inpatient_claims = pd.read_csv(\n",
    "    f\"..\\input\\DE1.0 Sample{i}\\DE1_0_2008_to_2010_Inpatient_Claims_Sample_{i}.zip\",)\n",
    "    dataframe_list.append(data_inpatient_claims)\n",
    "\n",
    "# data_inpatient_claims = pd.read_sql_query(\"select * from InPatientData\", con=conn_object)"
   ]
  },
  {
   "cell_type": "code",
   "execution_count": 15,
   "metadata": {},
   "outputs": [],
   "source": [
    "data_inpatient_claims = pd.concat(dataframe_list, axis=0)"
   ]
  },
  {
   "cell_type": "code",
   "execution_count": 17,
   "metadata": {},
   "outputs": [
    {
     "output_type": "execute_result",
     "data": {
      "text/plain": [
       "        DESYNPUF_ID           CLM_ID  SEGMENT  CLM_FROM_DT  CLM_THRU_DT  \\\n",
       "0  0003F63CD84E54A3  444231142405155        1   20100228.0   20100313.0   \n",
       "1  00052028A33302D3  444141142374839        1   20090214.0   20090222.0   \n",
       "2  00052028A33302D3  444951142376293        1   20101206.0   20101209.0   \n",
       "3  00068FC521692B07  444341142375840        1   20090813.0   20090830.0   \n",
       "4  00068FC521692B07  444851142361650        1   20090909.0   20090916.0   \n",
       "\n",
       "  PRVDR_NUM  CLM_PMT_AMT  NCH_PRMRY_PYR_CLM_PD_AMT  AT_PHYSN_NPI  \\\n",
       "0    1001WM      15000.0                       0.0  2.357170e+09   \n",
       "1    1102ZA       5000.0                       0.0  4.749036e+09   \n",
       "2    01S1YV      13000.0                       0.0  8.389620e+09   \n",
       "3    4501MK      10000.0                       0.0  5.539666e+09   \n",
       "4    45S0QB       9000.0                       0.0  5.557993e+08   \n",
       "\n",
       "   OP_PHYSN_NPI  ...  HCPCS_CD_36  HCPCS_CD_37 HCPCS_CD_38  HCPCS_CD_39  \\\n",
       "0           NaN  ...          NaN          NaN         NaN          NaN   \n",
       "1  6.641731e+09  ...          NaN          NaN         NaN          NaN   \n",
       "2           NaN  ...          NaN          NaN         NaN          NaN   \n",
       "3  7.067683e+09  ...          NaN          NaN         NaN          NaN   \n",
       "4  9.418622e+09  ...          NaN          NaN         NaN          NaN   \n",
       "\n",
       "   HCPCS_CD_40  HCPCS_CD_41  HCPCS_CD_42  HCPCS_CD_43  HCPCS_CD_44 HCPCS_CD_45  \n",
       "0          NaN          NaN          NaN          NaN          NaN         NaN  \n",
       "1          NaN          NaN          NaN          NaN          NaN         NaN  \n",
       "2          NaN          NaN          NaN          NaN          NaN         NaN  \n",
       "3          NaN          NaN          NaN          NaN          NaN         NaN  \n",
       "4          NaN          NaN          NaN          NaN          NaN         NaN  \n",
       "\n",
       "[5 rows x 81 columns]"
      ],
      "text/html": "<div>\n<style scoped>\n    .dataframe tbody tr th:only-of-type {\n        vertical-align: middle;\n    }\n\n    .dataframe tbody tr th {\n        vertical-align: top;\n    }\n\n    .dataframe thead th {\n        text-align: right;\n    }\n</style>\n<table border=\"1\" class=\"dataframe\">\n  <thead>\n    <tr style=\"text-align: right;\">\n      <th></th>\n      <th>DESYNPUF_ID</th>\n      <th>CLM_ID</th>\n      <th>SEGMENT</th>\n      <th>CLM_FROM_DT</th>\n      <th>CLM_THRU_DT</th>\n      <th>PRVDR_NUM</th>\n      <th>CLM_PMT_AMT</th>\n      <th>NCH_PRMRY_PYR_CLM_PD_AMT</th>\n      <th>AT_PHYSN_NPI</th>\n      <th>OP_PHYSN_NPI</th>\n      <th>...</th>\n      <th>HCPCS_CD_36</th>\n      <th>HCPCS_CD_37</th>\n      <th>HCPCS_CD_38</th>\n      <th>HCPCS_CD_39</th>\n      <th>HCPCS_CD_40</th>\n      <th>HCPCS_CD_41</th>\n      <th>HCPCS_CD_42</th>\n      <th>HCPCS_CD_43</th>\n      <th>HCPCS_CD_44</th>\n      <th>HCPCS_CD_45</th>\n    </tr>\n  </thead>\n  <tbody>\n    <tr>\n      <th>0</th>\n      <td>0003F63CD84E54A3</td>\n      <td>444231142405155</td>\n      <td>1</td>\n      <td>20100228.0</td>\n      <td>20100313.0</td>\n      <td>1001WM</td>\n      <td>15000.0</td>\n      <td>0.0</td>\n      <td>2.357170e+09</td>\n      <td>NaN</td>\n      <td>...</td>\n      <td>NaN</td>\n      <td>NaN</td>\n      <td>NaN</td>\n      <td>NaN</td>\n      <td>NaN</td>\n      <td>NaN</td>\n      <td>NaN</td>\n      <td>NaN</td>\n      <td>NaN</td>\n      <td>NaN</td>\n    </tr>\n    <tr>\n      <th>1</th>\n      <td>00052028A33302D3</td>\n      <td>444141142374839</td>\n      <td>1</td>\n      <td>20090214.0</td>\n      <td>20090222.0</td>\n      <td>1102ZA</td>\n      <td>5000.0</td>\n      <td>0.0</td>\n      <td>4.749036e+09</td>\n      <td>6.641731e+09</td>\n      <td>...</td>\n      <td>NaN</td>\n      <td>NaN</td>\n      <td>NaN</td>\n      <td>NaN</td>\n      <td>NaN</td>\n      <td>NaN</td>\n      <td>NaN</td>\n      <td>NaN</td>\n      <td>NaN</td>\n      <td>NaN</td>\n    </tr>\n    <tr>\n      <th>2</th>\n      <td>00052028A33302D3</td>\n      <td>444951142376293</td>\n      <td>1</td>\n      <td>20101206.0</td>\n      <td>20101209.0</td>\n      <td>01S1YV</td>\n      <td>13000.0</td>\n      <td>0.0</td>\n      <td>8.389620e+09</td>\n      <td>NaN</td>\n      <td>...</td>\n      <td>NaN</td>\n      <td>NaN</td>\n      <td>NaN</td>\n      <td>NaN</td>\n      <td>NaN</td>\n      <td>NaN</td>\n      <td>NaN</td>\n      <td>NaN</td>\n      <td>NaN</td>\n      <td>NaN</td>\n    </tr>\n    <tr>\n      <th>3</th>\n      <td>00068FC521692B07</td>\n      <td>444341142375840</td>\n      <td>1</td>\n      <td>20090813.0</td>\n      <td>20090830.0</td>\n      <td>4501MK</td>\n      <td>10000.0</td>\n      <td>0.0</td>\n      <td>5.539666e+09</td>\n      <td>7.067683e+09</td>\n      <td>...</td>\n      <td>NaN</td>\n      <td>NaN</td>\n      <td>NaN</td>\n      <td>NaN</td>\n      <td>NaN</td>\n      <td>NaN</td>\n      <td>NaN</td>\n      <td>NaN</td>\n      <td>NaN</td>\n      <td>NaN</td>\n    </tr>\n    <tr>\n      <th>4</th>\n      <td>00068FC521692B07</td>\n      <td>444851142361650</td>\n      <td>1</td>\n      <td>20090909.0</td>\n      <td>20090916.0</td>\n      <td>45S0QB</td>\n      <td>9000.0</td>\n      <td>0.0</td>\n      <td>5.557993e+08</td>\n      <td>9.418622e+09</td>\n      <td>...</td>\n      <td>NaN</td>\n      <td>NaN</td>\n      <td>NaN</td>\n      <td>NaN</td>\n      <td>NaN</td>\n      <td>NaN</td>\n      <td>NaN</td>\n      <td>NaN</td>\n      <td>NaN</td>\n      <td>NaN</td>\n    </tr>\n  </tbody>\n</table>\n<p>5 rows × 81 columns</p>\n</div>"
     },
     "metadata": {},
     "execution_count": 17
    },
    {
     "output_type": "execute_result",
     "data": {
      "text/plain": [
       "DESYNPUF_ID     object\n",
       "CLM_ID           int64\n",
       "SEGMENT          int64\n",
       "CLM_FROM_DT    float64\n",
       "CLM_THRU_DT    float64\n",
       "                ...   \n",
       "HCPCS_CD_41    float64\n",
       "HCPCS_CD_42    float64\n",
       "HCPCS_CD_43    float64\n",
       "HCPCS_CD_44    float64\n",
       "HCPCS_CD_45    float64\n",
       "Length: 81, dtype: object"
      ]
     },
     "metadata": {},
     "execution_count": 17
    }
   ],
   "source": [
    "data_inpatient_claims.head()\n",
    "data_inpatient_claims.dtypes"
   ]
  },
  {
   "cell_type": "markdown",
   "metadata": {},
   "source": [
    "# Checking the columns for NaN and dropping them if NaN are more than a threshold value"
   ]
  },
  {
   "cell_type": "code",
   "execution_count": 18,
   "metadata": {
    "tags": []
   },
   "outputs": [
    {
     "output_type": "execute_result",
     "data": {
      "text/plain": [
       "CLM_FROM_DT               0.000945\n",
       "CLM_THRU_DT               0.000945\n",
       "AT_PHYSN_NPI              0.010106\n",
       "OP_PHYSN_NPI              0.417187\n",
       "OT_PHYSN_NPI              0.884106\n",
       "ADMTNG_ICD9_DGNS_CD       0.008734\n",
       "NCH_BENE_IP_DDCTBL_AMT    0.031904\n",
       "CLM_UTLZTN_DAY_CNT        0.000945\n",
       "ICD9_DGNS_CD_1            0.001377\n",
       "ICD9_DGNS_CD_2            0.007711\n",
       "ICD9_DGNS_CD_3            0.019473\n",
       "ICD9_DGNS_CD_4            0.041191\n",
       "ICD9_DGNS_CD_5            0.075903\n",
       "ICD9_DGNS_CD_6            0.124022\n",
       "ICD9_DGNS_CD_7            0.183182\n",
       "ICD9_DGNS_CD_8            0.250063\n",
       "ICD9_DGNS_CD_9            0.322216\n",
       "ICD9_DGNS_CD_10           0.918723\n",
       "ICD9_PRCDR_CD_1           0.429294\n",
       "ICD9_PRCDR_CD_2           0.659698\n",
       "ICD9_PRCDR_CD_3           0.783875\n",
       "ICD9_PRCDR_CD_4           0.859971\n",
       "ICD9_PRCDR_CD_5           0.904075\n",
       "ICD9_PRCDR_CD_6           0.931691\n",
       "HCPCS_CD_1                1.000000\n",
       "HCPCS_CD_2                1.000000\n",
       "HCPCS_CD_3                1.000000\n",
       "HCPCS_CD_4                1.000000\n",
       "HCPCS_CD_5                1.000000\n",
       "HCPCS_CD_6                1.000000\n",
       "HCPCS_CD_7                1.000000\n",
       "HCPCS_CD_8                1.000000\n",
       "HCPCS_CD_9                1.000000\n",
       "HCPCS_CD_10               1.000000\n",
       "HCPCS_CD_11               1.000000\n",
       "HCPCS_CD_12               1.000000\n",
       "HCPCS_CD_13               1.000000\n",
       "HCPCS_CD_14               1.000000\n",
       "HCPCS_CD_15               1.000000\n",
       "HCPCS_CD_16               1.000000\n",
       "HCPCS_CD_17               1.000000\n",
       "HCPCS_CD_18               1.000000\n",
       "HCPCS_CD_19               1.000000\n",
       "HCPCS_CD_20               1.000000\n",
       "HCPCS_CD_21               1.000000\n",
       "HCPCS_CD_22               1.000000\n",
       "HCPCS_CD_23               1.000000\n",
       "HCPCS_CD_24               1.000000\n",
       "HCPCS_CD_25               1.000000\n",
       "HCPCS_CD_26               1.000000\n",
       "HCPCS_CD_27               1.000000\n",
       "HCPCS_CD_28               1.000000\n",
       "HCPCS_CD_29               1.000000\n",
       "HCPCS_CD_30               1.000000\n",
       "HCPCS_CD_31               1.000000\n",
       "HCPCS_CD_32               1.000000\n",
       "HCPCS_CD_33               1.000000\n",
       "HCPCS_CD_34               1.000000\n",
       "HCPCS_CD_35               1.000000\n",
       "HCPCS_CD_36               1.000000\n",
       "HCPCS_CD_37               1.000000\n",
       "HCPCS_CD_38               1.000000\n",
       "HCPCS_CD_39               1.000000\n",
       "HCPCS_CD_40               1.000000\n",
       "HCPCS_CD_41               1.000000\n",
       "HCPCS_CD_42               1.000000\n",
       "HCPCS_CD_43               1.000000\n",
       "HCPCS_CD_44               1.000000\n",
       "HCPCS_CD_45               1.000000\n",
       "dtype: float64"
      ]
     },
     "metadata": {},
     "execution_count": 18
    }
   ],
   "source": [
    "with pd.option_context('display.max_rows', None, 'display.max_columns', None):  # more options can be specified also\n",
    "    data_inpatient_claims.isna().sum()[data_inpatient_claims.isna().sum() > 0]/data_inpatient_claims.shape[0]"
   ]
  },
  {
   "cell_type": "markdown",
   "metadata": {},
   "source": [
    "As seen above, lots of columns have NaN values. Lets drop the columns which has more than 60% NaN value"
   ]
  },
  {
   "cell_type": "code",
   "execution_count": 19,
   "metadata": {},
   "outputs": [],
   "source": [
    "not_nan_threshold = config[0]['threshold_nan']"
   ]
  },
  {
   "cell_type": "code",
   "execution_count": 20,
   "metadata": {},
   "outputs": [],
   "source": [
    "data_inpatient_claims.dropna(thresh=data_inpatient_claims.shape[0]*not_nan_threshold, how='all', axis=1, inplace=True)"
   ]
  },
  {
   "cell_type": "code",
   "execution_count": 21,
   "metadata": {},
   "outputs": [
    {
     "output_type": "execute_result",
     "data": {
      "text/plain": [
       "Index(['DESYNPUF_ID', 'CLM_ID', 'SEGMENT', 'CLM_FROM_DT', 'CLM_THRU_DT',\n",
       "       'PRVDR_NUM', 'CLM_PMT_AMT', 'NCH_PRMRY_PYR_CLM_PD_AMT', 'AT_PHYSN_NPI',\n",
       "       'OP_PHYSN_NPI', 'CLM_ADMSN_DT', 'ADMTNG_ICD9_DGNS_CD',\n",
       "       'CLM_PASS_THRU_PER_DIEM_AMT', 'NCH_BENE_IP_DDCTBL_AMT',\n",
       "       'NCH_BENE_PTA_COINSRNC_LBLTY_AM', 'NCH_BENE_BLOOD_DDCTBL_LBLTY_AM',\n",
       "       'CLM_UTLZTN_DAY_CNT', 'NCH_BENE_DSCHRG_DT', 'CLM_DRG_CD',\n",
       "       'ICD9_DGNS_CD_1', 'ICD9_DGNS_CD_2', 'ICD9_DGNS_CD_3', 'ICD9_DGNS_CD_4',\n",
       "       'ICD9_DGNS_CD_5', 'ICD9_DGNS_CD_6', 'ICD9_DGNS_CD_7', 'ICD9_DGNS_CD_8',\n",
       "       'ICD9_DGNS_CD_9', 'ICD9_PRCDR_CD_1'],\n",
       "      dtype='object')"
      ]
     },
     "metadata": {},
     "execution_count": 21
    }
   ],
   "source": [
    "#columns that are remaining\n",
    "data_inpatient_claims.columns"
   ]
  },
  {
   "cell_type": "markdown",
   "metadata": {},
   "source": [
    "# Checking and correcting dtypes of features"
   ]
  },
  {
   "cell_type": "code",
   "execution_count": 22,
   "metadata": {},
   "outputs": [
    {
     "output_type": "execute_result",
     "data": {
      "text/plain": [
       "DESYNPUF_ID                        object\n",
       "CLM_ID                              int64\n",
       "SEGMENT                             int64\n",
       "CLM_FROM_DT                       float64\n",
       "CLM_THRU_DT                       float64\n",
       "PRVDR_NUM                          object\n",
       "CLM_PMT_AMT                       float64\n",
       "NCH_PRMRY_PYR_CLM_PD_AMT          float64\n",
       "AT_PHYSN_NPI                      float64\n",
       "OP_PHYSN_NPI                      float64\n",
       "CLM_ADMSN_DT                        int64\n",
       "ADMTNG_ICD9_DGNS_CD                object\n",
       "CLM_PASS_THRU_PER_DIEM_AMT        float64\n",
       "NCH_BENE_IP_DDCTBL_AMT            float64\n",
       "NCH_BENE_PTA_COINSRNC_LBLTY_AM    float64\n",
       "NCH_BENE_BLOOD_DDCTBL_LBLTY_AM    float64\n",
       "CLM_UTLZTN_DAY_CNT                float64\n",
       "NCH_BENE_DSCHRG_DT                  int64\n",
       "CLM_DRG_CD                         object\n",
       "ICD9_DGNS_CD_1                     object\n",
       "ICD9_DGNS_CD_2                     object\n",
       "ICD9_DGNS_CD_3                     object\n",
       "ICD9_DGNS_CD_4                     object\n",
       "ICD9_DGNS_CD_5                     object\n",
       "ICD9_DGNS_CD_6                     object\n",
       "ICD9_DGNS_CD_7                     object\n",
       "ICD9_DGNS_CD_8                     object\n",
       "ICD9_DGNS_CD_9                     object\n",
       "ICD9_PRCDR_CD_1                   float64\n",
       "dtype: object"
      ]
     },
     "metadata": {},
     "execution_count": 22
    }
   ],
   "source": [
    "# Lets check the datatype of remaining columns\n",
    "data_inpatient_claims.dtypes"
   ]
  },
  {
   "cell_type": "markdown",
   "metadata": {},
   "source": [
    "Since we know that NPI numbers are 10 digit integer encoding physician identification, lets make them as category."
   ]
  },
  {
   "cell_type": "code",
   "execution_count": 23,
   "metadata": {},
   "outputs": [
    {
     "output_type": "execute_result",
     "data": {
      "text/plain": [
       "DESYNPUF_ID                         object\n",
       "CLM_ID                               int64\n",
       "SEGMENT                              int64\n",
       "CLM_FROM_DT                        float64\n",
       "CLM_THRU_DT                        float64\n",
       "PRVDR_NUM                           object\n",
       "CLM_PMT_AMT                        float64\n",
       "NCH_PRMRY_PYR_CLM_PD_AMT           float64\n",
       "AT_PHYSN_NPI                      category\n",
       "OP_PHYSN_NPI                      category\n",
       "CLM_ADMSN_DT                         int64\n",
       "ADMTNG_ICD9_DGNS_CD                 object\n",
       "CLM_PASS_THRU_PER_DIEM_AMT         float64\n",
       "NCH_BENE_IP_DDCTBL_AMT             float64\n",
       "NCH_BENE_PTA_COINSRNC_LBLTY_AM     float64\n",
       "NCH_BENE_BLOOD_DDCTBL_LBLTY_AM     float64\n",
       "CLM_UTLZTN_DAY_CNT                 float64\n",
       "NCH_BENE_DSCHRG_DT                   int64\n",
       "CLM_DRG_CD                          object\n",
       "ICD9_DGNS_CD_1                      object\n",
       "ICD9_DGNS_CD_2                      object\n",
       "ICD9_DGNS_CD_3                      object\n",
       "ICD9_DGNS_CD_4                      object\n",
       "ICD9_DGNS_CD_5                      object\n",
       "ICD9_DGNS_CD_6                      object\n",
       "ICD9_DGNS_CD_7                      object\n",
       "ICD9_DGNS_CD_8                      object\n",
       "ICD9_DGNS_CD_9                      object\n",
       "ICD9_PRCDR_CD_1                    float64\n",
       "dtype: object"
      ]
     },
     "metadata": {},
     "execution_count": 23
    }
   ],
   "source": [
    "data_inpatient_claims.astype({\"AT_PHYSN_NPI\" : \"category\", \"OP_PHYSN_NPI\" : \"category\",}).dtypes"
   ]
  },
  {
   "cell_type": "code",
   "execution_count": 24,
   "metadata": {},
   "outputs": [
    {
     "output_type": "execute_result",
     "data": {
      "text/plain": [
       "        DESYNPUF_ID           CLM_ID  SEGMENT  CLM_FROM_DT  CLM_THRU_DT  \\\n",
       "0  0003F63CD84E54A3  444231142405155        1   20100228.0   20100313.0   \n",
       "1  00052028A33302D3  444141142374839        1   20090214.0   20090222.0   \n",
       "2  00052028A33302D3  444951142376293        1   20101206.0   20101209.0   \n",
       "3  00068FC521692B07  444341142375840        1   20090813.0   20090830.0   \n",
       "4  00068FC521692B07  444851142361650        1   20090909.0   20090916.0   \n",
       "\n",
       "  PRVDR_NUM  CLM_PMT_AMT  NCH_PRMRY_PYR_CLM_PD_AMT  AT_PHYSN_NPI  \\\n",
       "0    1001WM      15000.0                       0.0  2.357170e+09   \n",
       "1    1102ZA       5000.0                       0.0  4.749036e+09   \n",
       "2    01S1YV      13000.0                       0.0  8.389620e+09   \n",
       "3    4501MK      10000.0                       0.0  5.539666e+09   \n",
       "4    45S0QB       9000.0                       0.0  5.557993e+08   \n",
       "\n",
       "   OP_PHYSN_NPI  ...  ICD9_DGNS_CD_1 ICD9_DGNS_CD_2  ICD9_DGNS_CD_3  \\\n",
       "0           NaN  ...           V5789           5119            2639   \n",
       "1  6.641731e+09  ...           43491           2762            7843   \n",
       "2           NaN  ...            5990           0389            0414   \n",
       "3  7.067683e+09  ...             042           3051           34400   \n",
       "4  9.418622e+09  ...            5780           5533             496   \n",
       "\n",
       "   ICD9_DGNS_CD_4  ICD9_DGNS_CD_5  ICD9_DGNS_CD_6  ICD9_DGNS_CD_7  \\\n",
       "0           40391           34290           79029           43820   \n",
       "1           32723           V1041            4254           25062   \n",
       "2           41401           40290           30500           78701   \n",
       "3            5856           42732             486            5119   \n",
       "4            V420           40390            2851            5990   \n",
       "\n",
       "   ICD9_DGNS_CD_8 ICD9_DGNS_CD_9 ICD9_PRCDR_CD_1  \n",
       "0           V5409          27800             NaN  \n",
       "1           40390           4019           331.0  \n",
       "2             340           7093             NaN  \n",
       "3           29620          20300          3893.0  \n",
       "4             570          41071          4443.0  \n",
       "\n",
       "[5 rows x 29 columns]"
      ],
      "text/html": "<div>\n<style scoped>\n    .dataframe tbody tr th:only-of-type {\n        vertical-align: middle;\n    }\n\n    .dataframe tbody tr th {\n        vertical-align: top;\n    }\n\n    .dataframe thead th {\n        text-align: right;\n    }\n</style>\n<table border=\"1\" class=\"dataframe\">\n  <thead>\n    <tr style=\"text-align: right;\">\n      <th></th>\n      <th>DESYNPUF_ID</th>\n      <th>CLM_ID</th>\n      <th>SEGMENT</th>\n      <th>CLM_FROM_DT</th>\n      <th>CLM_THRU_DT</th>\n      <th>PRVDR_NUM</th>\n      <th>CLM_PMT_AMT</th>\n      <th>NCH_PRMRY_PYR_CLM_PD_AMT</th>\n      <th>AT_PHYSN_NPI</th>\n      <th>OP_PHYSN_NPI</th>\n      <th>...</th>\n      <th>ICD9_DGNS_CD_1</th>\n      <th>ICD9_DGNS_CD_2</th>\n      <th>ICD9_DGNS_CD_3</th>\n      <th>ICD9_DGNS_CD_4</th>\n      <th>ICD9_DGNS_CD_5</th>\n      <th>ICD9_DGNS_CD_6</th>\n      <th>ICD9_DGNS_CD_7</th>\n      <th>ICD9_DGNS_CD_8</th>\n      <th>ICD9_DGNS_CD_9</th>\n      <th>ICD9_PRCDR_CD_1</th>\n    </tr>\n  </thead>\n  <tbody>\n    <tr>\n      <th>0</th>\n      <td>0003F63CD84E54A3</td>\n      <td>444231142405155</td>\n      <td>1</td>\n      <td>20100228.0</td>\n      <td>20100313.0</td>\n      <td>1001WM</td>\n      <td>15000.0</td>\n      <td>0.0</td>\n      <td>2.357170e+09</td>\n      <td>NaN</td>\n      <td>...</td>\n      <td>V5789</td>\n      <td>5119</td>\n      <td>2639</td>\n      <td>40391</td>\n      <td>34290</td>\n      <td>79029</td>\n      <td>43820</td>\n      <td>V5409</td>\n      <td>27800</td>\n      <td>NaN</td>\n    </tr>\n    <tr>\n      <th>1</th>\n      <td>00052028A33302D3</td>\n      <td>444141142374839</td>\n      <td>1</td>\n      <td>20090214.0</td>\n      <td>20090222.0</td>\n      <td>1102ZA</td>\n      <td>5000.0</td>\n      <td>0.0</td>\n      <td>4.749036e+09</td>\n      <td>6.641731e+09</td>\n      <td>...</td>\n      <td>43491</td>\n      <td>2762</td>\n      <td>7843</td>\n      <td>32723</td>\n      <td>V1041</td>\n      <td>4254</td>\n      <td>25062</td>\n      <td>40390</td>\n      <td>4019</td>\n      <td>331.0</td>\n    </tr>\n    <tr>\n      <th>2</th>\n      <td>00052028A33302D3</td>\n      <td>444951142376293</td>\n      <td>1</td>\n      <td>20101206.0</td>\n      <td>20101209.0</td>\n      <td>01S1YV</td>\n      <td>13000.0</td>\n      <td>0.0</td>\n      <td>8.389620e+09</td>\n      <td>NaN</td>\n      <td>...</td>\n      <td>5990</td>\n      <td>0389</td>\n      <td>0414</td>\n      <td>41401</td>\n      <td>40290</td>\n      <td>30500</td>\n      <td>78701</td>\n      <td>340</td>\n      <td>7093</td>\n      <td>NaN</td>\n    </tr>\n    <tr>\n      <th>3</th>\n      <td>00068FC521692B07</td>\n      <td>444341142375840</td>\n      <td>1</td>\n      <td>20090813.0</td>\n      <td>20090830.0</td>\n      <td>4501MK</td>\n      <td>10000.0</td>\n      <td>0.0</td>\n      <td>5.539666e+09</td>\n      <td>7.067683e+09</td>\n      <td>...</td>\n      <td>042</td>\n      <td>3051</td>\n      <td>34400</td>\n      <td>5856</td>\n      <td>42732</td>\n      <td>486</td>\n      <td>5119</td>\n      <td>29620</td>\n      <td>20300</td>\n      <td>3893.0</td>\n    </tr>\n    <tr>\n      <th>4</th>\n      <td>00068FC521692B07</td>\n      <td>444851142361650</td>\n      <td>1</td>\n      <td>20090909.0</td>\n      <td>20090916.0</td>\n      <td>45S0QB</td>\n      <td>9000.0</td>\n      <td>0.0</td>\n      <td>5.557993e+08</td>\n      <td>9.418622e+09</td>\n      <td>...</td>\n      <td>5780</td>\n      <td>5533</td>\n      <td>496</td>\n      <td>V420</td>\n      <td>40390</td>\n      <td>2851</td>\n      <td>5990</td>\n      <td>570</td>\n      <td>41071</td>\n      <td>4443.0</td>\n    </tr>\n  </tbody>\n</table>\n<p>5 rows × 29 columns</p>\n</div>"
     },
     "metadata": {},
     "execution_count": 24
    }
   ],
   "source": [
    "data_inpatient_claims.head()"
   ]
  },
  {
   "cell_type": "markdown",
   "metadata": {},
   "source": [
    "Looks like the dates are in the float format. Converting them all to datatime objects"
   ]
  },
  {
   "cell_type": "code",
   "execution_count": 25,
   "metadata": {},
   "outputs": [],
   "source": [
    "data_inpatient_claims[\"CLM_FROM_DT\"] = pd.to_datetime(\n",
    "    data_inpatient_claims[\"CLM_FROM_DT\"], format=\"%Y%m%d\"\n",
    ")\n",
    "data_inpatient_claims[\"CLM_THRU_DT\"] = pd.to_datetime(\n",
    "    data_inpatient_claims[\"CLM_THRU_DT\"], format=\"%Y%m%d\"\n",
    ")\n",
    "\n",
    "data_inpatient_claims[\"CLM_ADMSN_DT\"] = pd.to_datetime(\n",
    "    data_inpatient_claims[\"CLM_ADMSN_DT\"], format=\"%Y%m%d\"\n",
    ")\n",
    "data_inpatient_claims[\"NCH_BENE_DSCHRG_DT\"] = pd.to_datetime(\n",
    "    data_inpatient_claims[\"NCH_BENE_DSCHRG_DT\"], format=\"%Y%m%d\"\n",
    ")"
   ]
  },
  {
   "cell_type": "code",
   "execution_count": 26,
   "metadata": {},
   "outputs": [
    {
     "output_type": "execute_result",
     "data": {
      "text/plain": [
       "        DESYNPUF_ID           CLM_ID  SEGMENT CLM_FROM_DT CLM_THRU_DT  \\\n",
       "0  0003F63CD84E54A3  444231142405155        1  2010-02-28  2010-03-13   \n",
       "1  00052028A33302D3  444141142374839        1  2009-02-14  2009-02-22   \n",
       "2  00052028A33302D3  444951142376293        1  2010-12-06  2010-12-09   \n",
       "3  00068FC521692B07  444341142375840        1  2009-08-13  2009-08-30   \n",
       "4  00068FC521692B07  444851142361650        1  2009-09-09  2009-09-16   \n",
       "\n",
       "  PRVDR_NUM  CLM_PMT_AMT  NCH_PRMRY_PYR_CLM_PD_AMT  AT_PHYSN_NPI  \\\n",
       "0    1001WM      15000.0                       0.0  2.357170e+09   \n",
       "1    1102ZA       5000.0                       0.0  4.749036e+09   \n",
       "2    01S1YV      13000.0                       0.0  8.389620e+09   \n",
       "3    4501MK      10000.0                       0.0  5.539666e+09   \n",
       "4    45S0QB       9000.0                       0.0  5.557993e+08   \n",
       "\n",
       "   OP_PHYSN_NPI  ... ICD9_DGNS_CD_1 ICD9_DGNS_CD_2  ICD9_DGNS_CD_3  \\\n",
       "0           NaN  ...          V5789           5119            2639   \n",
       "1  6.641731e+09  ...          43491           2762            7843   \n",
       "2           NaN  ...           5990           0389            0414   \n",
       "3  7.067683e+09  ...            042           3051           34400   \n",
       "4  9.418622e+09  ...           5780           5533             496   \n",
       "\n",
       "   ICD9_DGNS_CD_4  ICD9_DGNS_CD_5  ICD9_DGNS_CD_6  ICD9_DGNS_CD_7  \\\n",
       "0           40391           34290           79029           43820   \n",
       "1           32723           V1041            4254           25062   \n",
       "2           41401           40290           30500           78701   \n",
       "3            5856           42732             486            5119   \n",
       "4            V420           40390            2851            5990   \n",
       "\n",
       "  ICD9_DGNS_CD_8 ICD9_DGNS_CD_9 ICD9_PRCDR_CD_1  \n",
       "0          V5409          27800             NaN  \n",
       "1          40390           4019           331.0  \n",
       "2            340           7093             NaN  \n",
       "3          29620          20300          3893.0  \n",
       "4            570          41071          4443.0  \n",
       "\n",
       "[5 rows x 29 columns]"
      ],
      "text/html": "<div>\n<style scoped>\n    .dataframe tbody tr th:only-of-type {\n        vertical-align: middle;\n    }\n\n    .dataframe tbody tr th {\n        vertical-align: top;\n    }\n\n    .dataframe thead th {\n        text-align: right;\n    }\n</style>\n<table border=\"1\" class=\"dataframe\">\n  <thead>\n    <tr style=\"text-align: right;\">\n      <th></th>\n      <th>DESYNPUF_ID</th>\n      <th>CLM_ID</th>\n      <th>SEGMENT</th>\n      <th>CLM_FROM_DT</th>\n      <th>CLM_THRU_DT</th>\n      <th>PRVDR_NUM</th>\n      <th>CLM_PMT_AMT</th>\n      <th>NCH_PRMRY_PYR_CLM_PD_AMT</th>\n      <th>AT_PHYSN_NPI</th>\n      <th>OP_PHYSN_NPI</th>\n      <th>...</th>\n      <th>ICD9_DGNS_CD_1</th>\n      <th>ICD9_DGNS_CD_2</th>\n      <th>ICD9_DGNS_CD_3</th>\n      <th>ICD9_DGNS_CD_4</th>\n      <th>ICD9_DGNS_CD_5</th>\n      <th>ICD9_DGNS_CD_6</th>\n      <th>ICD9_DGNS_CD_7</th>\n      <th>ICD9_DGNS_CD_8</th>\n      <th>ICD9_DGNS_CD_9</th>\n      <th>ICD9_PRCDR_CD_1</th>\n    </tr>\n  </thead>\n  <tbody>\n    <tr>\n      <th>0</th>\n      <td>0003F63CD84E54A3</td>\n      <td>444231142405155</td>\n      <td>1</td>\n      <td>2010-02-28</td>\n      <td>2010-03-13</td>\n      <td>1001WM</td>\n      <td>15000.0</td>\n      <td>0.0</td>\n      <td>2.357170e+09</td>\n      <td>NaN</td>\n      <td>...</td>\n      <td>V5789</td>\n      <td>5119</td>\n      <td>2639</td>\n      <td>40391</td>\n      <td>34290</td>\n      <td>79029</td>\n      <td>43820</td>\n      <td>V5409</td>\n      <td>27800</td>\n      <td>NaN</td>\n    </tr>\n    <tr>\n      <th>1</th>\n      <td>00052028A33302D3</td>\n      <td>444141142374839</td>\n      <td>1</td>\n      <td>2009-02-14</td>\n      <td>2009-02-22</td>\n      <td>1102ZA</td>\n      <td>5000.0</td>\n      <td>0.0</td>\n      <td>4.749036e+09</td>\n      <td>6.641731e+09</td>\n      <td>...</td>\n      <td>43491</td>\n      <td>2762</td>\n      <td>7843</td>\n      <td>32723</td>\n      <td>V1041</td>\n      <td>4254</td>\n      <td>25062</td>\n      <td>40390</td>\n      <td>4019</td>\n      <td>331.0</td>\n    </tr>\n    <tr>\n      <th>2</th>\n      <td>00052028A33302D3</td>\n      <td>444951142376293</td>\n      <td>1</td>\n      <td>2010-12-06</td>\n      <td>2010-12-09</td>\n      <td>01S1YV</td>\n      <td>13000.0</td>\n      <td>0.0</td>\n      <td>8.389620e+09</td>\n      <td>NaN</td>\n      <td>...</td>\n      <td>5990</td>\n      <td>0389</td>\n      <td>0414</td>\n      <td>41401</td>\n      <td>40290</td>\n      <td>30500</td>\n      <td>78701</td>\n      <td>340</td>\n      <td>7093</td>\n      <td>NaN</td>\n    </tr>\n    <tr>\n      <th>3</th>\n      <td>00068FC521692B07</td>\n      <td>444341142375840</td>\n      <td>1</td>\n      <td>2009-08-13</td>\n      <td>2009-08-30</td>\n      <td>4501MK</td>\n      <td>10000.0</td>\n      <td>0.0</td>\n      <td>5.539666e+09</td>\n      <td>7.067683e+09</td>\n      <td>...</td>\n      <td>042</td>\n      <td>3051</td>\n      <td>34400</td>\n      <td>5856</td>\n      <td>42732</td>\n      <td>486</td>\n      <td>5119</td>\n      <td>29620</td>\n      <td>20300</td>\n      <td>3893.0</td>\n    </tr>\n    <tr>\n      <th>4</th>\n      <td>00068FC521692B07</td>\n      <td>444851142361650</td>\n      <td>1</td>\n      <td>2009-09-09</td>\n      <td>2009-09-16</td>\n      <td>45S0QB</td>\n      <td>9000.0</td>\n      <td>0.0</td>\n      <td>5.557993e+08</td>\n      <td>9.418622e+09</td>\n      <td>...</td>\n      <td>5780</td>\n      <td>5533</td>\n      <td>496</td>\n      <td>V420</td>\n      <td>40390</td>\n      <td>2851</td>\n      <td>5990</td>\n      <td>570</td>\n      <td>41071</td>\n      <td>4443.0</td>\n    </tr>\n  </tbody>\n</table>\n<p>5 rows × 29 columns</p>\n</div>"
     },
     "metadata": {},
     "execution_count": 26
    },
    {
     "output_type": "execute_result",
     "data": {
      "text/plain": [
       "Index(['DESYNPUF_ID', 'CLM_ID', 'SEGMENT', 'CLM_FROM_DT', 'CLM_THRU_DT',\n",
       "       'PRVDR_NUM', 'CLM_PMT_AMT', 'NCH_PRMRY_PYR_CLM_PD_AMT', 'AT_PHYSN_NPI',\n",
       "       'OP_PHYSN_NPI', 'CLM_ADMSN_DT', 'ADMTNG_ICD9_DGNS_CD',\n",
       "       'CLM_PASS_THRU_PER_DIEM_AMT', 'NCH_BENE_IP_DDCTBL_AMT',\n",
       "       'NCH_BENE_PTA_COINSRNC_LBLTY_AM', 'NCH_BENE_BLOOD_DDCTBL_LBLTY_AM',\n",
       "       'CLM_UTLZTN_DAY_CNT', 'NCH_BENE_DSCHRG_DT', 'CLM_DRG_CD',\n",
       "       'ICD9_DGNS_CD_1', 'ICD9_DGNS_CD_2', 'ICD9_DGNS_CD_3', 'ICD9_DGNS_CD_4',\n",
       "       'ICD9_DGNS_CD_5', 'ICD9_DGNS_CD_6', 'ICD9_DGNS_CD_7', 'ICD9_DGNS_CD_8',\n",
       "       'ICD9_DGNS_CD_9', 'ICD9_PRCDR_CD_1'],\n",
       "      dtype='object')"
      ]
     },
     "metadata": {},
     "execution_count": 26
    },
    {
     "output_type": "execute_result",
     "data": {
      "text/plain": [
       "(333280, 29)"
      ]
     },
     "metadata": {},
     "execution_count": 26
    }
   ],
   "source": [
    "data_inpatient_claims.head()\n",
    "data_inpatient_claims.columns\n",
    "data_inpatient_claims.shape"
   ]
  },
  {
   "cell_type": "markdown",
   "metadata": {},
   "source": [
    "# Categorizing PROVIDER NUM"
   ]
  },
  {
   "cell_type": "code",
   "execution_count": 27,
   "metadata": {},
   "outputs": [
    {
     "output_type": "execute_result",
     "data": {
      "text/plain": [
       "    PRVDR_CAT\n",
       "0  0001-0879 \n",
       "1  0880-0899 \n",
       "2  0900-0999 \n",
       "3  1000-1199 \n",
       "4  1200-1224 "
      ],
      "text/html": "<div>\n<style scoped>\n    .dataframe tbody tr th:only-of-type {\n        vertical-align: middle;\n    }\n\n    .dataframe tbody tr th {\n        vertical-align: top;\n    }\n\n    .dataframe thead th {\n        text-align: right;\n    }\n</style>\n<table border=\"1\" class=\"dataframe\">\n  <thead>\n    <tr style=\"text-align: right;\">\n      <th></th>\n      <th>PRVDR_CAT</th>\n    </tr>\n  </thead>\n  <tbody>\n    <tr>\n      <th>0</th>\n      <td>0001-0879</td>\n    </tr>\n    <tr>\n      <th>1</th>\n      <td>0880-0899</td>\n    </tr>\n    <tr>\n      <th>2</th>\n      <td>0900-0999</td>\n    </tr>\n    <tr>\n      <th>3</th>\n      <td>1000-1199</td>\n    </tr>\n    <tr>\n      <th>4</th>\n      <td>1200-1224</td>\n    </tr>\n  </tbody>\n</table>\n</div>"
     },
     "metadata": {},
     "execution_count": 27
    }
   ],
   "source": [
    "prvdr_num_categories = pd.read_csv(config[1][\"prvdr_category_file\"])\n",
    "prvdr_num_categories.head()"
   ]
  },
  {
   "cell_type": "code",
   "execution_count": 28,
   "metadata": {},
   "outputs": [],
   "source": [
    "prvdr_num_bins = [cat for cat in prvdr_num_categories['PRVDR_CAT'].str.strip().str.split(\"-\") if len(cat) > 1]"
   ]
  },
  {
   "cell_type": "code",
   "execution_count": 29,
   "metadata": {},
   "outputs": [
    {
     "output_type": "execute_result",
     "data": {
      "text/plain": [
       "[['0001', '0879'],\n",
       " ['0880', '0899'],\n",
       " ['0900', '0999'],\n",
       " ['1000', '1199'],\n",
       " ['1200', '1224'],\n",
       " ['1225', '1299'],\n",
       " ['1300', '1399'],\n",
       " ['1400', '1499'],\n",
       " ['1500', '1799'],\n",
       " ['1800', '1989'],\n",
       " ['1990', '1999'],\n",
       " ['2000', '2299'],\n",
       " ['2300', '2499'],\n",
       " ['2500', '2899'],\n",
       " ['2900', '2999'],\n",
       " ['3000', '3024'],\n",
       " ['3025', '3099'],\n",
       " ['3100', '3199'],\n",
       " ['3200', '3299'],\n",
       " ['3300', '3399'],\n",
       " ['3400', '3499'],\n",
       " ['3500', '3699'],\n",
       " ['3700', '3799'],\n",
       " ['3800', '3974'],\n",
       " ['3975', '3999'],\n",
       " ['4000', '4499'],\n",
       " ['4500', '4599'],\n",
       " ['4600', '4799'],\n",
       " ['4800', '4899'],\n",
       " ['4900', '4999'],\n",
       " ['5000', '6499'],\n",
       " ['6500', '6989'],\n",
       " ['6990', '6999'],\n",
       " ['7000', '7299'],\n",
       " ['7300', '7399'],\n",
       " ['7400', '7799'],\n",
       " ['7800', '7999'],\n",
       " ['8000', '8499'],\n",
       " ['8500', '8899'],\n",
       " ['8900', '8999'],\n",
       " ['9000', '9799'],\n",
       " ['9800', '9899']]"
      ]
     },
     "metadata": {},
     "execution_count": 29
    }
   ],
   "source": [
    "prvdr_num_bins"
   ]
  },
  {
   "cell_type": "code",
   "execution_count": 30,
   "metadata": {},
   "outputs": [
    {
     "output_type": "execute_result",
     "data": {
      "text/plain": [
       "     PRVDR_NUM\n",
       "0       1001WM\n",
       "1       1102ZA\n",
       "2       01S1YV\n",
       "3       4501MK\n",
       "4       45S0QB\n",
       "...        ...\n",
       "2860    1501AC\n",
       "2861    5300WH\n",
       "2862    3713TN\n",
       "2863    1713SU\n",
       "2864    0620DH\n",
       "\n",
       "[2865 rows x 1 columns]"
      ],
      "text/html": "<div>\n<style scoped>\n    .dataframe tbody tr th:only-of-type {\n        vertical-align: middle;\n    }\n\n    .dataframe tbody tr th {\n        vertical-align: top;\n    }\n\n    .dataframe thead th {\n        text-align: right;\n    }\n</style>\n<table border=\"1\" class=\"dataframe\">\n  <thead>\n    <tr style=\"text-align: right;\">\n      <th></th>\n      <th>PRVDR_NUM</th>\n    </tr>\n  </thead>\n  <tbody>\n    <tr>\n      <th>0</th>\n      <td>1001WM</td>\n    </tr>\n    <tr>\n      <th>1</th>\n      <td>1102ZA</td>\n    </tr>\n    <tr>\n      <th>2</th>\n      <td>01S1YV</td>\n    </tr>\n    <tr>\n      <th>3</th>\n      <td>4501MK</td>\n    </tr>\n    <tr>\n      <th>4</th>\n      <td>45S0QB</td>\n    </tr>\n    <tr>\n      <th>...</th>\n      <td>...</td>\n    </tr>\n    <tr>\n      <th>2860</th>\n      <td>1501AC</td>\n    </tr>\n    <tr>\n      <th>2861</th>\n      <td>5300WH</td>\n    </tr>\n    <tr>\n      <th>2862</th>\n      <td>3713TN</td>\n    </tr>\n    <tr>\n      <th>2863</th>\n      <td>1713SU</td>\n    </tr>\n    <tr>\n      <th>2864</th>\n      <td>0620DH</td>\n    </tr>\n  </tbody>\n</table>\n<p>2865 rows × 1 columns</p>\n</div>"
     },
     "metadata": {},
     "execution_count": 30
    }
   ],
   "source": [
    "unique_prvdr_num = pd.DataFrame(data_inpatient_claims['PRVDR_NUM'].unique(), columns=[\"PRVDR_NUM\"])\n",
    "unique_prvdr_num"
   ]
  },
  {
   "cell_type": "code",
   "execution_count": 31,
   "metadata": {},
   "outputs": [],
   "source": [
    "def categorize_prvdr_num(prvdr_num):\n",
    "    if str(prvdr_num)[2].isalpha():\n",
    "        return str(prvdr_num)[2]\n",
    "    else :\n",
    "        for lower, upper in prvdr_num_bins:\n",
    "            if lower <= prvdr_num[ : -2] <= upper:\n",
    "                return f'{lower}-{upper}'"
   ]
  },
  {
   "cell_type": "code",
   "execution_count": 32,
   "metadata": {},
   "outputs": [],
   "source": [
    "unique_prvdr_num['PRVDR_NUM_CAT'] = unique_prvdr_num['PRVDR_NUM'].apply(lambda x : categorize_prvdr_num(x))"
   ]
  },
  {
   "cell_type": "code",
   "execution_count": 33,
   "metadata": {},
   "outputs": [],
   "source": [
    "data_inpatient_claims = data_inpatient_claims.merge(right=unique_prvdr_num, on=[\"PRVDR_NUM\"], how=\"left\")"
   ]
  },
  {
   "cell_type": "code",
   "execution_count": 34,
   "metadata": {},
   "outputs": [
    {
     "output_type": "execute_result",
     "data": {
      "text/plain": [
       "<matplotlib.axes._subplots.AxesSubplot at 0x1cae3bb7548>"
      ]
     },
     "metadata": {},
     "execution_count": 34
    },
    {
     "output_type": "display_data",
     "data": {
      "text/plain": "<Figure size 720x360 with 1 Axes>",
      "image/svg+xml": "<?xml version=\"1.0\" encoding=\"utf-8\" standalone=\"no\"?>\r\n<!DOCTYPE svg PUBLIC \"-//W3C//DTD SVG 1.1//EN\"\r\n  \"http://www.w3.org/Graphics/SVG/1.1/DTD/svg11.dtd\">\r\n<!-- Created with matplotlib (https://matplotlib.org/) -->\r\n<svg height=\"361.4875pt\" version=\"1.1\" viewBox=\"0 0 611.2125 361.4875\" width=\"611.2125pt\" xmlns=\"http://www.w3.org/2000/svg\" xmlns:xlink=\"http://www.w3.org/1999/xlink\">\r\n <defs>\r\n  <style type=\"text/css\">\r\n*{stroke-linecap:butt;stroke-linejoin:round;}\r\n  </style>\r\n </defs>\r\n <g id=\"figure_1\">\r\n  <g id=\"patch_1\">\r\n   <path d=\"M 0 361.4875 \r\nL 611.2125 361.4875 \r\nL 611.2125 0 \r\nL 0 0 \r\nz\r\n\" style=\"fill:none;\"/>\r\n  </g>\r\n  <g id=\"axes_1\">\r\n   <g id=\"patch_2\">\r\n    <path d=\"M 46.0125 279 \r\nL 604.0125 279 \r\nL 604.0125 7.2 \r\nL 46.0125 7.2 \r\nz\r\n\" style=\"fill:#ffffff;\"/>\r\n   </g>\r\n   <g id=\"patch_3\">\r\n    <path clip-path=\"url(#pbf3e4c1927)\" d=\"M 49.256686 279 \r\nL 55.745058 279 \r\nL 55.745058 20.142857 \r\nL 49.256686 20.142857 \r\nz\r\n\" style=\"fill:#1f77b4;\"/>\r\n   </g>\r\n   <g id=\"patch_4\">\r\n    <path clip-path=\"url(#pbf3e4c1927)\" d=\"M 62.23343 279 \r\nL 68.721802 279 \r\nL 68.721802 271.670405 \r\nL 62.23343 271.670405 \r\nz\r\n\" style=\"fill:#1f77b4;\"/>\r\n   </g>\r\n   <g id=\"patch_5\">\r\n    <path clip-path=\"url(#pbf3e4c1927)\" d=\"M 75.210174 279 \r\nL 81.698547 279 \r\nL 81.698547 79.510875 \r\nL 75.210174 79.510875 \r\nz\r\n\" style=\"fill:#1f77b4;\"/>\r\n   </g>\r\n   <g id=\"patch_6\">\r\n    <path clip-path=\"url(#pbf3e4c1927)\" d=\"M 88.186919 279 \r\nL 94.675291 279 \r\nL 94.675291 273.779152 \r\nL 88.186919 273.779152 \r\nz\r\n\" style=\"fill:#1f77b4;\"/>\r\n   </g>\r\n   <g id=\"patch_7\">\r\n    <path clip-path=\"url(#pbf3e4c1927)\" d=\"M 101.163663 279 \r\nL 107.652035 279 \r\nL 107.652035 272.520706 \r\nL 101.163663 272.520706 \r\nz\r\n\" style=\"fill:#1f77b4;\"/>\r\n   </g>\r\n   <g id=\"patch_8\">\r\n    <path clip-path=\"url(#pbf3e4c1927)\" d=\"M 114.140407 279 \r\nL 120.628779 279 \r\nL 120.628779 217.778326 \r\nL 114.140407 217.778326 \r\nz\r\n\" style=\"fill:#1f77b4;\"/>\r\n   </g>\r\n   <g id=\"patch_9\">\r\n    <path clip-path=\"url(#pbf3e4c1927)\" d=\"M 127.117151 279 \r\nL 133.605523 279 \r\nL 133.605523 193.349177 \r\nL 127.117151 193.349177 \r\nz\r\n\" style=\"fill:#1f77b4;\"/>\r\n   </g>\r\n   <g id=\"patch_10\">\r\n    <path clip-path=\"url(#pbf3e4c1927)\" d=\"M 140.093895 279 \r\nL 146.582267 279 \r\nL 146.582267 221.621686 \r\nL 140.093895 221.621686 \r\nz\r\n\" style=\"fill:#1f77b4;\"/>\r\n   </g>\r\n   <g id=\"patch_11\">\r\n    <path clip-path=\"url(#pbf3e4c1927)\" d=\"M 153.07064 279 \r\nL 159.559012 279 \r\nL 159.559012 188.162341 \r\nL 153.07064 188.162341 \r\nz\r\n\" style=\"fill:#1f77b4;\"/>\r\n   </g>\r\n   <g id=\"patch_12\">\r\n    <path clip-path=\"url(#pbf3e4c1927)\" d=\"M 166.047384 279 \r\nL 172.535756 279 \r\nL 172.535756 200.092064 \r\nL 166.047384 200.092064 \r\nz\r\n\" style=\"fill:#1f77b4;\"/>\r\n   </g>\r\n   <g id=\"patch_13\">\r\n    <path clip-path=\"url(#pbf3e4c1927)\" d=\"M 179.024128 279 \r\nL 185.5125 279 \r\nL 185.5125 202.345362 \r\nL 179.024128 202.345362 \r\nz\r\n\" style=\"fill:#1f77b4;\"/>\r\n   </g>\r\n   <g id=\"patch_14\">\r\n    <path clip-path=\"url(#pbf3e4c1927)\" d=\"M 192.000872 279 \r\nL 198.489244 279 \r\nL 198.489244 263.320449 \r\nL 192.000872 263.320449 \r\nz\r\n\" style=\"fill:#1f77b4;\"/>\r\n   </g>\r\n   <g id=\"patch_15\">\r\n    <path clip-path=\"url(#pbf3e4c1927)\" d=\"M 204.977616 279 \r\nL 211.465988 279 \r\nL 211.465988 273.855679 \r\nL 204.977616 273.855679 \r\nz\r\n\" style=\"fill:#1f77b4;\"/>\r\n   </g>\r\n   <g id=\"patch_16\">\r\n    <path clip-path=\"url(#pbf3e4c1927)\" d=\"M 217.95436 279 \r\nL 224.442733 279 \r\nL 224.442733 225.456544 \r\nL 217.95436 225.456544 \r\nz\r\n\" style=\"fill:#1f77b4;\"/>\r\n   </g>\r\n   <g id=\"patch_17\">\r\n    <path clip-path=\"url(#pbf3e4c1927)\" d=\"M 230.931105 279 \r\nL 237.419477 279 \r\nL 237.419477 271.134715 \r\nL 230.931105 271.134715 \r\nz\r\n\" style=\"fill:#1f77b4;\"/>\r\n   </g>\r\n   <g id=\"patch_18\">\r\n    <path clip-path=\"url(#pbf3e4c1927)\" d=\"M 243.907849 279 \r\nL 250.396221 279 \r\nL 250.396221 177.601602 \r\nL 243.907849 177.601602 \r\nz\r\n\" style=\"fill:#1f77b4;\"/>\r\n   </g>\r\n   <g id=\"patch_19\">\r\n    <path clip-path=\"url(#pbf3e4c1927)\" d=\"M 256.884593 279 \r\nL 263.372965 279 \r\nL 263.372965 218.177967 \r\nL 256.884593 218.177967 \r\nz\r\n\" style=\"fill:#1f77b4;\"/>\r\n   </g>\r\n   <g id=\"patch_20\">\r\n    <path clip-path=\"url(#pbf3e4c1927)\" d=\"M 269.861337 279 \r\nL 276.349709 279 \r\nL 276.349709 212.778556 \r\nL 269.861337 212.778556 \r\nz\r\n\" style=\"fill:#1f77b4;\"/>\r\n   </g>\r\n   <g id=\"patch_21\">\r\n    <path clip-path=\"url(#pbf3e4c1927)\" d=\"M 282.838081 279 \r\nL 289.326453 279 \r\nL 289.326453 257.691456 \r\nL 282.838081 257.691456 \r\nz\r\n\" style=\"fill:#1f77b4;\"/>\r\n   </g>\r\n   <g id=\"patch_22\">\r\n    <path clip-path=\"url(#pbf3e4c1927)\" d=\"M 295.814826 279 \r\nL 302.303198 279 \r\nL 302.303198 192.218277 \r\nL 295.814826 192.218277 \r\nz\r\n\" style=\"fill:#1f77b4;\"/>\r\n   </g>\r\n   <g id=\"patch_23\">\r\n    <path clip-path=\"url(#pbf3e4c1927)\" d=\"M 308.79157 279 \r\nL 315.279942 279 \r\nL 315.279942 193.544746 \r\nL 308.79157 193.544746 \r\nz\r\n\" style=\"fill:#1f77b4;\"/>\r\n   </g>\r\n   <g id=\"patch_24\">\r\n    <path clip-path=\"url(#pbf3e4c1927)\" d=\"M 321.768314 279 \r\nL 328.256686 279 \r\nL 328.256686 174.132374 \r\nL 321.768314 174.132374 \r\nz\r\n\" style=\"fill:#1f77b4;\"/>\r\n   </g>\r\n   <g id=\"patch_25\">\r\n    <path clip-path=\"url(#pbf3e4c1927)\" d=\"M 334.745058 279 \r\nL 341.23343 279 \r\nL 341.23343 266.364527 \r\nL 334.745058 266.364527 \r\nz\r\n\" style=\"fill:#1f77b4;\"/>\r\n   </g>\r\n   <g id=\"patch_26\">\r\n    <path clip-path=\"url(#pbf3e4c1927)\" d=\"M 347.721802 279 \r\nL 354.210174 279 \r\nL 354.210174 236.042792 \r\nL 347.721802 236.042792 \r\nz\r\n\" style=\"fill:#1f77b4;\"/>\r\n   </g>\r\n   <g id=\"patch_27\">\r\n    <path clip-path=\"url(#pbf3e4c1927)\" d=\"M 360.698547 279 \r\nL 367.186919 279 \r\nL 367.186919 206.962497 \r\nL 360.698547 206.962497 \r\nz\r\n\" style=\"fill:#1f77b4;\"/>\r\n   </g>\r\n   <g id=\"patch_28\">\r\n    <path clip-path=\"url(#pbf3e4c1927)\" d=\"M 373.675291 279 \r\nL 380.163663 279 \r\nL 380.163663 270.471481 \r\nL 373.675291 270.471481 \r\nz\r\n\" style=\"fill:#1f77b4;\"/>\r\n   </g>\r\n   <g id=\"patch_29\">\r\n    <path clip-path=\"url(#pbf3e4c1927)\" d=\"M 386.652035 279 \r\nL 393.140407 279 \r\nL 393.140407 277.341913 \r\nL 386.652035 277.341913 \r\nz\r\n\" style=\"fill:#1f77b4;\"/>\r\n   </g>\r\n   <g id=\"patch_30\">\r\n    <path clip-path=\"url(#pbf3e4c1927)\" d=\"M 399.628779 279 \r\nL 406.117151 279 \r\nL 406.117151 278.668383 \r\nL 399.628779 278.668383 \r\nz\r\n\" style=\"fill:#1f77b4;\"/>\r\n   </g>\r\n   <g id=\"patch_31\">\r\n    <path clip-path=\"url(#pbf3e4c1927)\" d=\"M 412.605523 279 \r\nL 419.093895 279 \r\nL 419.093895 278.081675 \r\nL 412.605523 278.081675 \r\nz\r\n\" style=\"fill:#1f77b4;\"/>\r\n   </g>\r\n   <g id=\"patch_32\">\r\n    <path clip-path=\"url(#pbf3e4c1927)\" d=\"M 425.582267 279 \r\nL 432.07064 279 \r\nL 432.07064 278.880958 \r\nL 425.582267 278.880958 \r\nz\r\n\" style=\"fill:#1f77b4;\"/>\r\n   </g>\r\n   <g id=\"patch_33\">\r\n    <path clip-path=\"url(#pbf3e4c1927)\" d=\"M 438.559012 279 \r\nL 445.047384 279 \r\nL 445.047384 278.302753 \r\nL 438.559012 278.302753 \r\nz\r\n\" style=\"fill:#1f77b4;\"/>\r\n   </g>\r\n   <g id=\"patch_34\">\r\n    <path clip-path=\"url(#pbf3e4c1927)\" d=\"M 451.535756 279 \r\nL 458.024128 279 \r\nL 458.024128 278.489819 \r\nL 451.535756 278.489819 \r\nz\r\n\" style=\"fill:#1f77b4;\"/>\r\n   </g>\r\n   <g id=\"patch_35\">\r\n    <path clip-path=\"url(#pbf3e4c1927)\" d=\"M 464.5125 279 \r\nL 471.000872 279 \r\nL 471.000872 277.486464 \r\nL 464.5125 277.486464 \r\nz\r\n\" style=\"fill:#1f77b4;\"/>\r\n   </g>\r\n   <g id=\"patch_36\">\r\n    <path clip-path=\"url(#pbf3e4c1927)\" d=\"M 477.489244 279 \r\nL 483.977616 279 \r\nL 483.977616 278.957485 \r\nL 477.489244 278.957485 \r\nz\r\n\" style=\"fill:#1f77b4;\"/>\r\n   </g>\r\n   <g id=\"patch_37\">\r\n    <path clip-path=\"url(#pbf3e4c1927)\" d=\"M 490.465988 279 \r\nL 496.95436 279 \r\nL 496.95436 278.617365 \r\nL 490.465988 278.617365 \r\nz\r\n\" style=\"fill:#1f77b4;\"/>\r\n   </g>\r\n   <g id=\"patch_38\">\r\n    <path clip-path=\"url(#pbf3e4c1927)\" d=\"M 503.442733 279 \r\nL 509.931105 279 \r\nL 509.931105 277.911615 \r\nL 503.442733 277.911615 \r\nz\r\n\" style=\"fill:#1f77b4;\"/>\r\n   </g>\r\n   <g id=\"patch_39\">\r\n    <path clip-path=\"url(#pbf3e4c1927)\" d=\"M 516.419477 279 \r\nL 522.907849 279 \r\nL 522.907849 211.902746 \r\nL 516.419477 211.902746 \r\nz\r\n\" style=\"fill:#1f77b4;\"/>\r\n   </g>\r\n   <g id=\"patch_40\">\r\n    <path clip-path=\"url(#pbf3e4c1927)\" d=\"M 529.396221 279 \r\nL 535.884593 279 \r\nL 535.884593 197.770743 \r\nL 529.396221 197.770743 \r\nz\r\n\" style=\"fill:#1f77b4;\"/>\r\n   </g>\r\n   <g id=\"patch_41\">\r\n    <path clip-path=\"url(#pbf3e4c1927)\" d=\"M 542.372965 279 \r\nL 548.861337 279 \r\nL 548.861337 277.682033 \r\nL 542.372965 277.682033 \r\nz\r\n\" style=\"fill:#1f77b4;\"/>\r\n   </g>\r\n   <g id=\"patch_42\">\r\n    <path clip-path=\"url(#pbf3e4c1927)\" d=\"M 555.349709 279 \r\nL 561.838081 279 \r\nL 561.838081 278.098681 \r\nL 555.349709 278.098681 \r\nz\r\n\" style=\"fill:#1f77b4;\"/>\r\n   </g>\r\n   <g id=\"patch_43\">\r\n    <path clip-path=\"url(#pbf3e4c1927)\" d=\"M 568.326453 279 \r\nL 574.814826 279 \r\nL 574.814826 277.809579 \r\nL 568.326453 277.809579 \r\nz\r\n\" style=\"fill:#1f77b4;\"/>\r\n   </g>\r\n   <g id=\"patch_44\">\r\n    <path clip-path=\"url(#pbf3e4c1927)\" d=\"M 581.303198 279 \r\nL 587.79157 279 \r\nL 587.79157 277.571494 \r\nL 581.303198 277.571494 \r\nz\r\n\" style=\"fill:#1f77b4;\"/>\r\n   </g>\r\n   <g id=\"patch_45\">\r\n    <path clip-path=\"url(#pbf3e4c1927)\" d=\"M 594.279942 279 \r\nL 600.768314 279 \r\nL 600.768314 278.515328 \r\nL 594.279942 278.515328 \r\nz\r\n\" style=\"fill:#1f77b4;\"/>\r\n   </g>\r\n   <g id=\"matplotlib.axis_1\">\r\n    <g id=\"xtick_1\">\r\n     <g id=\"line2d_1\">\r\n      <defs>\r\n       <path d=\"M 0 0 \r\nL 0 3.5 \r\n\" id=\"mcd4fe4a4e2\" style=\"stroke:#000000;stroke-width:0.8;\"/>\r\n      </defs>\r\n      <g>\r\n       <use style=\"stroke:#000000;stroke-width:0.8;\" x=\"52.500872\" xlink:href=\"#mcd4fe4a4e2\" y=\"279\"/>\r\n      </g>\r\n     </g>\r\n     <g id=\"text_1\">\r\n      <!-- 0001-0879 -->\r\n      <defs>\r\n       <path d=\"M 31.78125 66.40625 \r\nQ 24.171875 66.40625 20.328125 58.90625 \r\nQ 16.5 51.421875 16.5 36.375 \r\nQ 16.5 21.390625 20.328125 13.890625 \r\nQ 24.171875 6.390625 31.78125 6.390625 \r\nQ 39.453125 6.390625 43.28125 13.890625 \r\nQ 47.125 21.390625 47.125 36.375 \r\nQ 47.125 51.421875 43.28125 58.90625 \r\nQ 39.453125 66.40625 31.78125 66.40625 \r\nz\r\nM 31.78125 74.21875 \r\nQ 44.046875 74.21875 50.515625 64.515625 \r\nQ 56.984375 54.828125 56.984375 36.375 \r\nQ 56.984375 17.96875 50.515625 8.265625 \r\nQ 44.046875 -1.421875 31.78125 -1.421875 \r\nQ 19.53125 -1.421875 13.0625 8.265625 \r\nQ 6.59375 17.96875 6.59375 36.375 \r\nQ 6.59375 54.828125 13.0625 64.515625 \r\nQ 19.53125 74.21875 31.78125 74.21875 \r\nz\r\n\" id=\"DejaVuSans-48\"/>\r\n       <path d=\"M 12.40625 8.296875 \r\nL 28.515625 8.296875 \r\nL 28.515625 63.921875 \r\nL 10.984375 60.40625 \r\nL 10.984375 69.390625 \r\nL 28.421875 72.90625 \r\nL 38.28125 72.90625 \r\nL 38.28125 8.296875 \r\nL 54.390625 8.296875 \r\nL 54.390625 0 \r\nL 12.40625 0 \r\nz\r\n\" id=\"DejaVuSans-49\"/>\r\n       <path d=\"M 4.890625 31.390625 \r\nL 31.203125 31.390625 \r\nL 31.203125 23.390625 \r\nL 4.890625 23.390625 \r\nz\r\n\" id=\"DejaVuSans-45\"/>\r\n       <path d=\"M 31.78125 34.625 \r\nQ 24.75 34.625 20.71875 30.859375 \r\nQ 16.703125 27.09375 16.703125 20.515625 \r\nQ 16.703125 13.921875 20.71875 10.15625 \r\nQ 24.75 6.390625 31.78125 6.390625 \r\nQ 38.8125 6.390625 42.859375 10.171875 \r\nQ 46.921875 13.96875 46.921875 20.515625 \r\nQ 46.921875 27.09375 42.890625 30.859375 \r\nQ 38.875 34.625 31.78125 34.625 \r\nz\r\nM 21.921875 38.8125 \r\nQ 15.578125 40.375 12.03125 44.71875 \r\nQ 8.5 49.078125 8.5 55.328125 \r\nQ 8.5 64.0625 14.71875 69.140625 \r\nQ 20.953125 74.21875 31.78125 74.21875 \r\nQ 42.671875 74.21875 48.875 69.140625 \r\nQ 55.078125 64.0625 55.078125 55.328125 \r\nQ 55.078125 49.078125 51.53125 44.71875 \r\nQ 48 40.375 41.703125 38.8125 \r\nQ 48.828125 37.15625 52.796875 32.3125 \r\nQ 56.78125 27.484375 56.78125 20.515625 \r\nQ 56.78125 9.90625 50.3125 4.234375 \r\nQ 43.84375 -1.421875 31.78125 -1.421875 \r\nQ 19.734375 -1.421875 13.25 4.234375 \r\nQ 6.78125 9.90625 6.78125 20.515625 \r\nQ 6.78125 27.484375 10.78125 32.3125 \r\nQ 14.796875 37.15625 21.921875 38.8125 \r\nz\r\nM 18.3125 54.390625 \r\nQ 18.3125 48.734375 21.84375 45.5625 \r\nQ 25.390625 42.390625 31.78125 42.390625 \r\nQ 38.140625 42.390625 41.71875 45.5625 \r\nQ 45.3125 48.734375 45.3125 54.390625 \r\nQ 45.3125 60.0625 41.71875 63.234375 \r\nQ 38.140625 66.40625 31.78125 66.40625 \r\nQ 25.390625 66.40625 21.84375 63.234375 \r\nQ 18.3125 60.0625 18.3125 54.390625 \r\nz\r\n\" id=\"DejaVuSans-56\"/>\r\n       <path d=\"M 8.203125 72.90625 \r\nL 55.078125 72.90625 \r\nL 55.078125 68.703125 \r\nL 28.609375 0 \r\nL 18.3125 0 \r\nL 43.21875 64.59375 \r\nL 8.203125 64.59375 \r\nz\r\n\" id=\"DejaVuSans-55\"/>\r\n       <path d=\"M 10.984375 1.515625 \r\nL 10.984375 10.5 \r\nQ 14.703125 8.734375 18.5 7.8125 \r\nQ 22.3125 6.890625 25.984375 6.890625 \r\nQ 35.75 6.890625 40.890625 13.453125 \r\nQ 46.046875 20.015625 46.78125 33.40625 \r\nQ 43.953125 29.203125 39.59375 26.953125 \r\nQ 35.25 24.703125 29.984375 24.703125 \r\nQ 19.046875 24.703125 12.671875 31.3125 \r\nQ 6.296875 37.9375 6.296875 49.421875 \r\nQ 6.296875 60.640625 12.9375 67.421875 \r\nQ 19.578125 74.21875 30.609375 74.21875 \r\nQ 43.265625 74.21875 49.921875 64.515625 \r\nQ 56.59375 54.828125 56.59375 36.375 \r\nQ 56.59375 19.140625 48.40625 8.859375 \r\nQ 40.234375 -1.421875 26.421875 -1.421875 \r\nQ 22.703125 -1.421875 18.890625 -0.6875 \r\nQ 15.09375 0.046875 10.984375 1.515625 \r\nz\r\nM 30.609375 32.421875 \r\nQ 37.25 32.421875 41.125 36.953125 \r\nQ 45.015625 41.5 45.015625 49.421875 \r\nQ 45.015625 57.28125 41.125 61.84375 \r\nQ 37.25 66.40625 30.609375 66.40625 \r\nQ 23.96875 66.40625 20.09375 61.84375 \r\nQ 16.21875 57.28125 16.21875 49.421875 \r\nQ 16.21875 41.5 20.09375 36.953125 \r\nQ 23.96875 32.421875 30.609375 32.421875 \r\nz\r\n\" id=\"DejaVuSans-57\"/>\r\n      </defs>\r\n      <g transform=\"translate(55.260247 340.507812)rotate(-90)scale(0.1 -0.1)\">\r\n       <use xlink:href=\"#DejaVuSans-48\"/>\r\n       <use x=\"63.623047\" xlink:href=\"#DejaVuSans-48\"/>\r\n       <use x=\"127.246094\" xlink:href=\"#DejaVuSans-48\"/>\r\n       <use x=\"190.869141\" xlink:href=\"#DejaVuSans-49\"/>\r\n       <use x=\"254.492188\" xlink:href=\"#DejaVuSans-45\"/>\r\n       <use x=\"290.576172\" xlink:href=\"#DejaVuSans-48\"/>\r\n       <use x=\"354.199219\" xlink:href=\"#DejaVuSans-56\"/>\r\n       <use x=\"417.822266\" xlink:href=\"#DejaVuSans-55\"/>\r\n       <use x=\"481.445312\" xlink:href=\"#DejaVuSans-57\"/>\r\n      </g>\r\n     </g>\r\n    </g>\r\n    <g id=\"xtick_2\">\r\n     <g id=\"line2d_2\">\r\n      <g>\r\n       <use style=\"stroke:#000000;stroke-width:0.8;\" x=\"65.477616\" xlink:href=\"#mcd4fe4a4e2\" y=\"279\"/>\r\n      </g>\r\n     </g>\r\n     <g id=\"text_2\">\r\n      <!-- 0900-0999 -->\r\n      <g transform=\"translate(68.236991 340.507812)rotate(-90)scale(0.1 -0.1)\">\r\n       <use xlink:href=\"#DejaVuSans-48\"/>\r\n       <use x=\"63.623047\" xlink:href=\"#DejaVuSans-57\"/>\r\n       <use x=\"127.246094\" xlink:href=\"#DejaVuSans-48\"/>\r\n       <use x=\"190.869141\" xlink:href=\"#DejaVuSans-48\"/>\r\n       <use x=\"254.492188\" xlink:href=\"#DejaVuSans-45\"/>\r\n       <use x=\"290.576172\" xlink:href=\"#DejaVuSans-48\"/>\r\n       <use x=\"354.199219\" xlink:href=\"#DejaVuSans-57\"/>\r\n       <use x=\"417.822266\" xlink:href=\"#DejaVuSans-57\"/>\r\n       <use x=\"481.445312\" xlink:href=\"#DejaVuSans-57\"/>\r\n      </g>\r\n     </g>\r\n    </g>\r\n    <g id=\"xtick_3\">\r\n     <g id=\"line2d_3\">\r\n      <g>\r\n       <use style=\"stroke:#000000;stroke-width:0.8;\" x=\"78.45436\" xlink:href=\"#mcd4fe4a4e2\" y=\"279\"/>\r\n      </g>\r\n     </g>\r\n     <g id=\"text_3\">\r\n      <!-- 1000-1199 -->\r\n      <g transform=\"translate(81.213735 340.507812)rotate(-90)scale(0.1 -0.1)\">\r\n       <use xlink:href=\"#DejaVuSans-49\"/>\r\n       <use x=\"63.623047\" xlink:href=\"#DejaVuSans-48\"/>\r\n       <use x=\"127.246094\" xlink:href=\"#DejaVuSans-48\"/>\r\n       <use x=\"190.869141\" xlink:href=\"#DejaVuSans-48\"/>\r\n       <use x=\"254.492188\" xlink:href=\"#DejaVuSans-45\"/>\r\n       <use x=\"290.576172\" xlink:href=\"#DejaVuSans-49\"/>\r\n       <use x=\"354.199219\" xlink:href=\"#DejaVuSans-49\"/>\r\n       <use x=\"417.822266\" xlink:href=\"#DejaVuSans-57\"/>\r\n       <use x=\"481.445312\" xlink:href=\"#DejaVuSans-57\"/>\r\n      </g>\r\n     </g>\r\n    </g>\r\n    <g id=\"xtick_4\">\r\n     <g id=\"line2d_4\">\r\n      <g>\r\n       <use style=\"stroke:#000000;stroke-width:0.8;\" x=\"91.431105\" xlink:href=\"#mcd4fe4a4e2\" y=\"279\"/>\r\n      </g>\r\n     </g>\r\n     <g id=\"text_4\">\r\n      <!-- 1200-1224 -->\r\n      <defs>\r\n       <path d=\"M 19.1875 8.296875 \r\nL 53.609375 8.296875 \r\nL 53.609375 0 \r\nL 7.328125 0 \r\nL 7.328125 8.296875 \r\nQ 12.9375 14.109375 22.625 23.890625 \r\nQ 32.328125 33.6875 34.8125 36.53125 \r\nQ 39.546875 41.84375 41.421875 45.53125 \r\nQ 43.3125 49.21875 43.3125 52.78125 \r\nQ 43.3125 58.59375 39.234375 62.25 \r\nQ 35.15625 65.921875 28.609375 65.921875 \r\nQ 23.96875 65.921875 18.8125 64.3125 \r\nQ 13.671875 62.703125 7.8125 59.421875 \r\nL 7.8125 69.390625 \r\nQ 13.765625 71.78125 18.9375 73 \r\nQ 24.125 74.21875 28.421875 74.21875 \r\nQ 39.75 74.21875 46.484375 68.546875 \r\nQ 53.21875 62.890625 53.21875 53.421875 \r\nQ 53.21875 48.921875 51.53125 44.890625 \r\nQ 49.859375 40.875 45.40625 35.40625 \r\nQ 44.1875 33.984375 37.640625 27.21875 \r\nQ 31.109375 20.453125 19.1875 8.296875 \r\nz\r\n\" id=\"DejaVuSans-50\"/>\r\n       <path d=\"M 37.796875 64.3125 \r\nL 12.890625 25.390625 \r\nL 37.796875 25.390625 \r\nz\r\nM 35.203125 72.90625 \r\nL 47.609375 72.90625 \r\nL 47.609375 25.390625 \r\nL 58.015625 25.390625 \r\nL 58.015625 17.1875 \r\nL 47.609375 17.1875 \r\nL 47.609375 0 \r\nL 37.796875 0 \r\nL 37.796875 17.1875 \r\nL 4.890625 17.1875 \r\nL 4.890625 26.703125 \r\nz\r\n\" id=\"DejaVuSans-52\"/>\r\n      </defs>\r\n      <g transform=\"translate(94.19048 340.507812)rotate(-90)scale(0.1 -0.1)\">\r\n       <use xlink:href=\"#DejaVuSans-49\"/>\r\n       <use x=\"63.623047\" xlink:href=\"#DejaVuSans-50\"/>\r\n       <use x=\"127.246094\" xlink:href=\"#DejaVuSans-48\"/>\r\n       <use x=\"190.869141\" xlink:href=\"#DejaVuSans-48\"/>\r\n       <use x=\"254.492188\" xlink:href=\"#DejaVuSans-45\"/>\r\n       <use x=\"290.576172\" xlink:href=\"#DejaVuSans-49\"/>\r\n       <use x=\"354.199219\" xlink:href=\"#DejaVuSans-50\"/>\r\n       <use x=\"417.822266\" xlink:href=\"#DejaVuSans-50\"/>\r\n       <use x=\"481.445312\" xlink:href=\"#DejaVuSans-52\"/>\r\n      </g>\r\n     </g>\r\n    </g>\r\n    <g id=\"xtick_5\">\r\n     <g id=\"line2d_5\">\r\n      <g>\r\n       <use style=\"stroke:#000000;stroke-width:0.8;\" x=\"104.407849\" xlink:href=\"#mcd4fe4a4e2\" y=\"279\"/>\r\n      </g>\r\n     </g>\r\n     <g id=\"text_5\">\r\n      <!-- 1300-1399 -->\r\n      <defs>\r\n       <path d=\"M 40.578125 39.3125 \r\nQ 47.65625 37.796875 51.625 33 \r\nQ 55.609375 28.21875 55.609375 21.1875 \r\nQ 55.609375 10.40625 48.1875 4.484375 \r\nQ 40.765625 -1.421875 27.09375 -1.421875 \r\nQ 22.515625 -1.421875 17.65625 -0.515625 \r\nQ 12.796875 0.390625 7.625 2.203125 \r\nL 7.625 11.71875 \r\nQ 11.71875 9.328125 16.59375 8.109375 \r\nQ 21.484375 6.890625 26.8125 6.890625 \r\nQ 36.078125 6.890625 40.9375 10.546875 \r\nQ 45.796875 14.203125 45.796875 21.1875 \r\nQ 45.796875 27.640625 41.28125 31.265625 \r\nQ 36.765625 34.90625 28.71875 34.90625 \r\nL 20.21875 34.90625 \r\nL 20.21875 43.015625 \r\nL 29.109375 43.015625 \r\nQ 36.375 43.015625 40.234375 45.921875 \r\nQ 44.09375 48.828125 44.09375 54.296875 \r\nQ 44.09375 59.90625 40.109375 62.90625 \r\nQ 36.140625 65.921875 28.71875 65.921875 \r\nQ 24.65625 65.921875 20.015625 65.03125 \r\nQ 15.375 64.15625 9.8125 62.3125 \r\nL 9.8125 71.09375 \r\nQ 15.4375 72.65625 20.34375 73.4375 \r\nQ 25.25 74.21875 29.59375 74.21875 \r\nQ 40.828125 74.21875 47.359375 69.109375 \r\nQ 53.90625 64.015625 53.90625 55.328125 \r\nQ 53.90625 49.265625 50.4375 45.09375 \r\nQ 46.96875 40.921875 40.578125 39.3125 \r\nz\r\n\" id=\"DejaVuSans-51\"/>\r\n      </defs>\r\n      <g transform=\"translate(107.167224 340.507812)rotate(-90)scale(0.1 -0.1)\">\r\n       <use xlink:href=\"#DejaVuSans-49\"/>\r\n       <use x=\"63.623047\" xlink:href=\"#DejaVuSans-51\"/>\r\n       <use x=\"127.246094\" xlink:href=\"#DejaVuSans-48\"/>\r\n       <use x=\"190.869141\" xlink:href=\"#DejaVuSans-48\"/>\r\n       <use x=\"254.492188\" xlink:href=\"#DejaVuSans-45\"/>\r\n       <use x=\"290.576172\" xlink:href=\"#DejaVuSans-49\"/>\r\n       <use x=\"354.199219\" xlink:href=\"#DejaVuSans-51\"/>\r\n       <use x=\"417.822266\" xlink:href=\"#DejaVuSans-57\"/>\r\n       <use x=\"481.445312\" xlink:href=\"#DejaVuSans-57\"/>\r\n      </g>\r\n     </g>\r\n    </g>\r\n    <g id=\"xtick_6\">\r\n     <g id=\"line2d_6\">\r\n      <g>\r\n       <use style=\"stroke:#000000;stroke-width:0.8;\" x=\"117.384593\" xlink:href=\"#mcd4fe4a4e2\" y=\"279\"/>\r\n      </g>\r\n     </g>\r\n     <g id=\"text_6\">\r\n      <!-- 1400-1499 -->\r\n      <g transform=\"translate(120.143968 340.507812)rotate(-90)scale(0.1 -0.1)\">\r\n       <use xlink:href=\"#DejaVuSans-49\"/>\r\n       <use x=\"63.623047\" xlink:href=\"#DejaVuSans-52\"/>\r\n       <use x=\"127.246094\" xlink:href=\"#DejaVuSans-48\"/>\r\n       <use x=\"190.869141\" xlink:href=\"#DejaVuSans-48\"/>\r\n       <use x=\"254.492188\" xlink:href=\"#DejaVuSans-45\"/>\r\n       <use x=\"290.576172\" xlink:href=\"#DejaVuSans-49\"/>\r\n       <use x=\"354.199219\" xlink:href=\"#DejaVuSans-52\"/>\r\n       <use x=\"417.822266\" xlink:href=\"#DejaVuSans-57\"/>\r\n       <use x=\"481.445312\" xlink:href=\"#DejaVuSans-57\"/>\r\n      </g>\r\n     </g>\r\n    </g>\r\n    <g id=\"xtick_7\">\r\n     <g id=\"line2d_7\">\r\n      <g>\r\n       <use style=\"stroke:#000000;stroke-width:0.8;\" x=\"130.361337\" xlink:href=\"#mcd4fe4a4e2\" y=\"279\"/>\r\n      </g>\r\n     </g>\r\n     <g id=\"text_7\">\r\n      <!-- 1500-1799 -->\r\n      <defs>\r\n       <path d=\"M 10.796875 72.90625 \r\nL 49.515625 72.90625 \r\nL 49.515625 64.59375 \r\nL 19.828125 64.59375 \r\nL 19.828125 46.734375 \r\nQ 21.96875 47.46875 24.109375 47.828125 \r\nQ 26.265625 48.1875 28.421875 48.1875 \r\nQ 40.625 48.1875 47.75 41.5 \r\nQ 54.890625 34.8125 54.890625 23.390625 \r\nQ 54.890625 11.625 47.5625 5.09375 \r\nQ 40.234375 -1.421875 26.90625 -1.421875 \r\nQ 22.3125 -1.421875 17.546875 -0.640625 \r\nQ 12.796875 0.140625 7.71875 1.703125 \r\nL 7.71875 11.625 \r\nQ 12.109375 9.234375 16.796875 8.0625 \r\nQ 21.484375 6.890625 26.703125 6.890625 \r\nQ 35.15625 6.890625 40.078125 11.328125 \r\nQ 45.015625 15.765625 45.015625 23.390625 \r\nQ 45.015625 31 40.078125 35.4375 \r\nQ 35.15625 39.890625 26.703125 39.890625 \r\nQ 22.75 39.890625 18.8125 39.015625 \r\nQ 14.890625 38.140625 10.796875 36.28125 \r\nz\r\n\" id=\"DejaVuSans-53\"/>\r\n      </defs>\r\n      <g transform=\"translate(133.120712 340.507812)rotate(-90)scale(0.1 -0.1)\">\r\n       <use xlink:href=\"#DejaVuSans-49\"/>\r\n       <use x=\"63.623047\" xlink:href=\"#DejaVuSans-53\"/>\r\n       <use x=\"127.246094\" xlink:href=\"#DejaVuSans-48\"/>\r\n       <use x=\"190.869141\" xlink:href=\"#DejaVuSans-48\"/>\r\n       <use x=\"254.492188\" xlink:href=\"#DejaVuSans-45\"/>\r\n       <use x=\"290.576172\" xlink:href=\"#DejaVuSans-49\"/>\r\n       <use x=\"354.199219\" xlink:href=\"#DejaVuSans-55\"/>\r\n       <use x=\"417.822266\" xlink:href=\"#DejaVuSans-57\"/>\r\n       <use x=\"481.445312\" xlink:href=\"#DejaVuSans-57\"/>\r\n      </g>\r\n     </g>\r\n    </g>\r\n    <g id=\"xtick_8\">\r\n     <g id=\"line2d_8\">\r\n      <g>\r\n       <use style=\"stroke:#000000;stroke-width:0.8;\" x=\"143.338081\" xlink:href=\"#mcd4fe4a4e2\" y=\"279\"/>\r\n      </g>\r\n     </g>\r\n     <g id=\"text_8\">\r\n      <!-- 1800-1989 -->\r\n      <g transform=\"translate(146.097456 340.507812)rotate(-90)scale(0.1 -0.1)\">\r\n       <use xlink:href=\"#DejaVuSans-49\"/>\r\n       <use x=\"63.623047\" xlink:href=\"#DejaVuSans-56\"/>\r\n       <use x=\"127.246094\" xlink:href=\"#DejaVuSans-48\"/>\r\n       <use x=\"190.869141\" xlink:href=\"#DejaVuSans-48\"/>\r\n       <use x=\"254.492188\" xlink:href=\"#DejaVuSans-45\"/>\r\n       <use x=\"290.576172\" xlink:href=\"#DejaVuSans-49\"/>\r\n       <use x=\"354.199219\" xlink:href=\"#DejaVuSans-57\"/>\r\n       <use x=\"417.822266\" xlink:href=\"#DejaVuSans-56\"/>\r\n       <use x=\"481.445312\" xlink:href=\"#DejaVuSans-57\"/>\r\n      </g>\r\n     </g>\r\n    </g>\r\n    <g id=\"xtick_9\">\r\n     <g id=\"line2d_9\">\r\n      <g>\r\n       <use style=\"stroke:#000000;stroke-width:0.8;\" x=\"156.314826\" xlink:href=\"#mcd4fe4a4e2\" y=\"279\"/>\r\n      </g>\r\n     </g>\r\n     <g id=\"text_9\">\r\n      <!-- 2000-2299 -->\r\n      <g transform=\"translate(159.074201 340.507812)rotate(-90)scale(0.1 -0.1)\">\r\n       <use xlink:href=\"#DejaVuSans-50\"/>\r\n       <use x=\"63.623047\" xlink:href=\"#DejaVuSans-48\"/>\r\n       <use x=\"127.246094\" xlink:href=\"#DejaVuSans-48\"/>\r\n       <use x=\"190.869141\" xlink:href=\"#DejaVuSans-48\"/>\r\n       <use x=\"254.492188\" xlink:href=\"#DejaVuSans-45\"/>\r\n       <use x=\"290.576172\" xlink:href=\"#DejaVuSans-50\"/>\r\n       <use x=\"354.199219\" xlink:href=\"#DejaVuSans-50\"/>\r\n       <use x=\"417.822266\" xlink:href=\"#DejaVuSans-57\"/>\r\n       <use x=\"481.445312\" xlink:href=\"#DejaVuSans-57\"/>\r\n      </g>\r\n     </g>\r\n    </g>\r\n    <g id=\"xtick_10\">\r\n     <g id=\"line2d_10\">\r\n      <g>\r\n       <use style=\"stroke:#000000;stroke-width:0.8;\" x=\"169.29157\" xlink:href=\"#mcd4fe4a4e2\" y=\"279\"/>\r\n      </g>\r\n     </g>\r\n     <g id=\"text_10\">\r\n      <!-- 2300-2499 -->\r\n      <g transform=\"translate(172.050945 340.507812)rotate(-90)scale(0.1 -0.1)\">\r\n       <use xlink:href=\"#DejaVuSans-50\"/>\r\n       <use x=\"63.623047\" xlink:href=\"#DejaVuSans-51\"/>\r\n       <use x=\"127.246094\" xlink:href=\"#DejaVuSans-48\"/>\r\n       <use x=\"190.869141\" xlink:href=\"#DejaVuSans-48\"/>\r\n       <use x=\"254.492188\" xlink:href=\"#DejaVuSans-45\"/>\r\n       <use x=\"290.576172\" xlink:href=\"#DejaVuSans-50\"/>\r\n       <use x=\"354.199219\" xlink:href=\"#DejaVuSans-52\"/>\r\n       <use x=\"417.822266\" xlink:href=\"#DejaVuSans-57\"/>\r\n       <use x=\"481.445312\" xlink:href=\"#DejaVuSans-57\"/>\r\n      </g>\r\n     </g>\r\n    </g>\r\n    <g id=\"xtick_11\">\r\n     <g id=\"line2d_11\">\r\n      <g>\r\n       <use style=\"stroke:#000000;stroke-width:0.8;\" x=\"182.268314\" xlink:href=\"#mcd4fe4a4e2\" y=\"279\"/>\r\n      </g>\r\n     </g>\r\n     <g id=\"text_11\">\r\n      <!-- 2500-2899 -->\r\n      <g transform=\"translate(185.027689 340.507812)rotate(-90)scale(0.1 -0.1)\">\r\n       <use xlink:href=\"#DejaVuSans-50\"/>\r\n       <use x=\"63.623047\" xlink:href=\"#DejaVuSans-53\"/>\r\n       <use x=\"127.246094\" xlink:href=\"#DejaVuSans-48\"/>\r\n       <use x=\"190.869141\" xlink:href=\"#DejaVuSans-48\"/>\r\n       <use x=\"254.492188\" xlink:href=\"#DejaVuSans-45\"/>\r\n       <use x=\"290.576172\" xlink:href=\"#DejaVuSans-50\"/>\r\n       <use x=\"354.199219\" xlink:href=\"#DejaVuSans-56\"/>\r\n       <use x=\"417.822266\" xlink:href=\"#DejaVuSans-57\"/>\r\n       <use x=\"481.445312\" xlink:href=\"#DejaVuSans-57\"/>\r\n      </g>\r\n     </g>\r\n    </g>\r\n    <g id=\"xtick_12\">\r\n     <g id=\"line2d_12\">\r\n      <g>\r\n       <use style=\"stroke:#000000;stroke-width:0.8;\" x=\"195.245058\" xlink:href=\"#mcd4fe4a4e2\" y=\"279\"/>\r\n      </g>\r\n     </g>\r\n     <g id=\"text_12\">\r\n      <!-- 2900-2999 -->\r\n      <g transform=\"translate(198.004433 340.507812)rotate(-90)scale(0.1 -0.1)\">\r\n       <use xlink:href=\"#DejaVuSans-50\"/>\r\n       <use x=\"63.623047\" xlink:href=\"#DejaVuSans-57\"/>\r\n       <use x=\"127.246094\" xlink:href=\"#DejaVuSans-48\"/>\r\n       <use x=\"190.869141\" xlink:href=\"#DejaVuSans-48\"/>\r\n       <use x=\"254.492188\" xlink:href=\"#DejaVuSans-45\"/>\r\n       <use x=\"290.576172\" xlink:href=\"#DejaVuSans-50\"/>\r\n       <use x=\"354.199219\" xlink:href=\"#DejaVuSans-57\"/>\r\n       <use x=\"417.822266\" xlink:href=\"#DejaVuSans-57\"/>\r\n       <use x=\"481.445312\" xlink:href=\"#DejaVuSans-57\"/>\r\n      </g>\r\n     </g>\r\n    </g>\r\n    <g id=\"xtick_13\">\r\n     <g id=\"line2d_13\">\r\n      <g>\r\n       <use style=\"stroke:#000000;stroke-width:0.8;\" x=\"208.221802\" xlink:href=\"#mcd4fe4a4e2\" y=\"279\"/>\r\n      </g>\r\n     </g>\r\n     <g id=\"text_13\">\r\n      <!-- 3000-3024 -->\r\n      <g transform=\"translate(210.981177 340.507812)rotate(-90)scale(0.1 -0.1)\">\r\n       <use xlink:href=\"#DejaVuSans-51\"/>\r\n       <use x=\"63.623047\" xlink:href=\"#DejaVuSans-48\"/>\r\n       <use x=\"127.246094\" xlink:href=\"#DejaVuSans-48\"/>\r\n       <use x=\"190.869141\" xlink:href=\"#DejaVuSans-48\"/>\r\n       <use x=\"254.492188\" xlink:href=\"#DejaVuSans-45\"/>\r\n       <use x=\"290.576172\" xlink:href=\"#DejaVuSans-51\"/>\r\n       <use x=\"354.199219\" xlink:href=\"#DejaVuSans-48\"/>\r\n       <use x=\"417.822266\" xlink:href=\"#DejaVuSans-50\"/>\r\n       <use x=\"481.445312\" xlink:href=\"#DejaVuSans-52\"/>\r\n      </g>\r\n     </g>\r\n    </g>\r\n    <g id=\"xtick_14\">\r\n     <g id=\"line2d_14\">\r\n      <g>\r\n       <use style=\"stroke:#000000;stroke-width:0.8;\" x=\"221.198547\" xlink:href=\"#mcd4fe4a4e2\" y=\"279\"/>\r\n      </g>\r\n     </g>\r\n     <g id=\"text_14\">\r\n      <!-- 3100-3199 -->\r\n      <g transform=\"translate(223.957922 340.507812)rotate(-90)scale(0.1 -0.1)\">\r\n       <use xlink:href=\"#DejaVuSans-51\"/>\r\n       <use x=\"63.623047\" xlink:href=\"#DejaVuSans-49\"/>\r\n       <use x=\"127.246094\" xlink:href=\"#DejaVuSans-48\"/>\r\n       <use x=\"190.869141\" xlink:href=\"#DejaVuSans-48\"/>\r\n       <use x=\"254.492188\" xlink:href=\"#DejaVuSans-45\"/>\r\n       <use x=\"290.576172\" xlink:href=\"#DejaVuSans-51\"/>\r\n       <use x=\"354.199219\" xlink:href=\"#DejaVuSans-49\"/>\r\n       <use x=\"417.822266\" xlink:href=\"#DejaVuSans-57\"/>\r\n       <use x=\"481.445312\" xlink:href=\"#DejaVuSans-57\"/>\r\n      </g>\r\n     </g>\r\n    </g>\r\n    <g id=\"xtick_15\">\r\n     <g id=\"line2d_15\">\r\n      <g>\r\n       <use style=\"stroke:#000000;stroke-width:0.8;\" x=\"234.175291\" xlink:href=\"#mcd4fe4a4e2\" y=\"279\"/>\r\n      </g>\r\n     </g>\r\n     <g id=\"text_15\">\r\n      <!-- 3200-3299 -->\r\n      <g transform=\"translate(236.934666 340.507812)rotate(-90)scale(0.1 -0.1)\">\r\n       <use xlink:href=\"#DejaVuSans-51\"/>\r\n       <use x=\"63.623047\" xlink:href=\"#DejaVuSans-50\"/>\r\n       <use x=\"127.246094\" xlink:href=\"#DejaVuSans-48\"/>\r\n       <use x=\"190.869141\" xlink:href=\"#DejaVuSans-48\"/>\r\n       <use x=\"254.492188\" xlink:href=\"#DejaVuSans-45\"/>\r\n       <use x=\"290.576172\" xlink:href=\"#DejaVuSans-51\"/>\r\n       <use x=\"354.199219\" xlink:href=\"#DejaVuSans-50\"/>\r\n       <use x=\"417.822266\" xlink:href=\"#DejaVuSans-57\"/>\r\n       <use x=\"481.445312\" xlink:href=\"#DejaVuSans-57\"/>\r\n      </g>\r\n     </g>\r\n    </g>\r\n    <g id=\"xtick_16\">\r\n     <g id=\"line2d_16\">\r\n      <g>\r\n       <use style=\"stroke:#000000;stroke-width:0.8;\" x=\"247.152035\" xlink:href=\"#mcd4fe4a4e2\" y=\"279\"/>\r\n      </g>\r\n     </g>\r\n     <g id=\"text_16\">\r\n      <!-- 3300-3399 -->\r\n      <g transform=\"translate(249.91141 340.507812)rotate(-90)scale(0.1 -0.1)\">\r\n       <use xlink:href=\"#DejaVuSans-51\"/>\r\n       <use x=\"63.623047\" xlink:href=\"#DejaVuSans-51\"/>\r\n       <use x=\"127.246094\" xlink:href=\"#DejaVuSans-48\"/>\r\n       <use x=\"190.869141\" xlink:href=\"#DejaVuSans-48\"/>\r\n       <use x=\"254.492188\" xlink:href=\"#DejaVuSans-45\"/>\r\n       <use x=\"290.576172\" xlink:href=\"#DejaVuSans-51\"/>\r\n       <use x=\"354.199219\" xlink:href=\"#DejaVuSans-51\"/>\r\n       <use x=\"417.822266\" xlink:href=\"#DejaVuSans-57\"/>\r\n       <use x=\"481.445312\" xlink:href=\"#DejaVuSans-57\"/>\r\n      </g>\r\n     </g>\r\n    </g>\r\n    <g id=\"xtick_17\">\r\n     <g id=\"line2d_17\">\r\n      <g>\r\n       <use style=\"stroke:#000000;stroke-width:0.8;\" x=\"260.128779\" xlink:href=\"#mcd4fe4a4e2\" y=\"279\"/>\r\n      </g>\r\n     </g>\r\n     <g id=\"text_17\">\r\n      <!-- 3400-3499 -->\r\n      <g transform=\"translate(262.888154 340.507812)rotate(-90)scale(0.1 -0.1)\">\r\n       <use xlink:href=\"#DejaVuSans-51\"/>\r\n       <use x=\"63.623047\" xlink:href=\"#DejaVuSans-52\"/>\r\n       <use x=\"127.246094\" xlink:href=\"#DejaVuSans-48\"/>\r\n       <use x=\"190.869141\" xlink:href=\"#DejaVuSans-48\"/>\r\n       <use x=\"254.492188\" xlink:href=\"#DejaVuSans-45\"/>\r\n       <use x=\"290.576172\" xlink:href=\"#DejaVuSans-51\"/>\r\n       <use x=\"354.199219\" xlink:href=\"#DejaVuSans-52\"/>\r\n       <use x=\"417.822266\" xlink:href=\"#DejaVuSans-57\"/>\r\n       <use x=\"481.445312\" xlink:href=\"#DejaVuSans-57\"/>\r\n      </g>\r\n     </g>\r\n    </g>\r\n    <g id=\"xtick_18\">\r\n     <g id=\"line2d_18\">\r\n      <g>\r\n       <use style=\"stroke:#000000;stroke-width:0.8;\" x=\"273.105523\" xlink:href=\"#mcd4fe4a4e2\" y=\"279\"/>\r\n      </g>\r\n     </g>\r\n     <g id=\"text_18\">\r\n      <!-- 3500-3699 -->\r\n      <defs>\r\n       <path d=\"M 33.015625 40.375 \r\nQ 26.375 40.375 22.484375 35.828125 \r\nQ 18.609375 31.296875 18.609375 23.390625 \r\nQ 18.609375 15.53125 22.484375 10.953125 \r\nQ 26.375 6.390625 33.015625 6.390625 \r\nQ 39.65625 6.390625 43.53125 10.953125 \r\nQ 47.40625 15.53125 47.40625 23.390625 \r\nQ 47.40625 31.296875 43.53125 35.828125 \r\nQ 39.65625 40.375 33.015625 40.375 \r\nz\r\nM 52.59375 71.296875 \r\nL 52.59375 62.3125 \r\nQ 48.875 64.0625 45.09375 64.984375 \r\nQ 41.3125 65.921875 37.59375 65.921875 \r\nQ 27.828125 65.921875 22.671875 59.328125 \r\nQ 17.53125 52.734375 16.796875 39.40625 \r\nQ 19.671875 43.65625 24.015625 45.921875 \r\nQ 28.375 48.1875 33.59375 48.1875 \r\nQ 44.578125 48.1875 50.953125 41.515625 \r\nQ 57.328125 34.859375 57.328125 23.390625 \r\nQ 57.328125 12.15625 50.6875 5.359375 \r\nQ 44.046875 -1.421875 33.015625 -1.421875 \r\nQ 20.359375 -1.421875 13.671875 8.265625 \r\nQ 6.984375 17.96875 6.984375 36.375 \r\nQ 6.984375 53.65625 15.1875 63.9375 \r\nQ 23.390625 74.21875 37.203125 74.21875 \r\nQ 40.921875 74.21875 44.703125 73.484375 \r\nQ 48.484375 72.75 52.59375 71.296875 \r\nz\r\n\" id=\"DejaVuSans-54\"/>\r\n      </defs>\r\n      <g transform=\"translate(275.864898 340.507812)rotate(-90)scale(0.1 -0.1)\">\r\n       <use xlink:href=\"#DejaVuSans-51\"/>\r\n       <use x=\"63.623047\" xlink:href=\"#DejaVuSans-53\"/>\r\n       <use x=\"127.246094\" xlink:href=\"#DejaVuSans-48\"/>\r\n       <use x=\"190.869141\" xlink:href=\"#DejaVuSans-48\"/>\r\n       <use x=\"254.492188\" xlink:href=\"#DejaVuSans-45\"/>\r\n       <use x=\"290.576172\" xlink:href=\"#DejaVuSans-51\"/>\r\n       <use x=\"354.199219\" xlink:href=\"#DejaVuSans-54\"/>\r\n       <use x=\"417.822266\" xlink:href=\"#DejaVuSans-57\"/>\r\n       <use x=\"481.445312\" xlink:href=\"#DejaVuSans-57\"/>\r\n      </g>\r\n     </g>\r\n    </g>\r\n    <g id=\"xtick_19\">\r\n     <g id=\"line2d_19\">\r\n      <g>\r\n       <use style=\"stroke:#000000;stroke-width:0.8;\" x=\"286.082267\" xlink:href=\"#mcd4fe4a4e2\" y=\"279\"/>\r\n      </g>\r\n     </g>\r\n     <g id=\"text_19\">\r\n      <!-- 3700-3799 -->\r\n      <g transform=\"translate(288.841642 340.507812)rotate(-90)scale(0.1 -0.1)\">\r\n       <use xlink:href=\"#DejaVuSans-51\"/>\r\n       <use x=\"63.623047\" xlink:href=\"#DejaVuSans-55\"/>\r\n       <use x=\"127.246094\" xlink:href=\"#DejaVuSans-48\"/>\r\n       <use x=\"190.869141\" xlink:href=\"#DejaVuSans-48\"/>\r\n       <use x=\"254.492188\" xlink:href=\"#DejaVuSans-45\"/>\r\n       <use x=\"290.576172\" xlink:href=\"#DejaVuSans-51\"/>\r\n       <use x=\"354.199219\" xlink:href=\"#DejaVuSans-55\"/>\r\n       <use x=\"417.822266\" xlink:href=\"#DejaVuSans-57\"/>\r\n       <use x=\"481.445312\" xlink:href=\"#DejaVuSans-57\"/>\r\n      </g>\r\n     </g>\r\n    </g>\r\n    <g id=\"xtick_20\">\r\n     <g id=\"line2d_20\">\r\n      <g>\r\n       <use style=\"stroke:#000000;stroke-width:0.8;\" x=\"299.059012\" xlink:href=\"#mcd4fe4a4e2\" y=\"279\"/>\r\n      </g>\r\n     </g>\r\n     <g id=\"text_20\">\r\n      <!-- 3800-3974 -->\r\n      <g transform=\"translate(301.818387 340.507812)rotate(-90)scale(0.1 -0.1)\">\r\n       <use xlink:href=\"#DejaVuSans-51\"/>\r\n       <use x=\"63.623047\" xlink:href=\"#DejaVuSans-56\"/>\r\n       <use x=\"127.246094\" xlink:href=\"#DejaVuSans-48\"/>\r\n       <use x=\"190.869141\" xlink:href=\"#DejaVuSans-48\"/>\r\n       <use x=\"254.492188\" xlink:href=\"#DejaVuSans-45\"/>\r\n       <use x=\"290.576172\" xlink:href=\"#DejaVuSans-51\"/>\r\n       <use x=\"354.199219\" xlink:href=\"#DejaVuSans-57\"/>\r\n       <use x=\"417.822266\" xlink:href=\"#DejaVuSans-55\"/>\r\n       <use x=\"481.445312\" xlink:href=\"#DejaVuSans-52\"/>\r\n      </g>\r\n     </g>\r\n    </g>\r\n    <g id=\"xtick_21\">\r\n     <g id=\"line2d_21\">\r\n      <g>\r\n       <use style=\"stroke:#000000;stroke-width:0.8;\" x=\"312.035756\" xlink:href=\"#mcd4fe4a4e2\" y=\"279\"/>\r\n      </g>\r\n     </g>\r\n     <g id=\"text_21\">\r\n      <!-- 4000-4499 -->\r\n      <g transform=\"translate(314.795131 340.507812)rotate(-90)scale(0.1 -0.1)\">\r\n       <use xlink:href=\"#DejaVuSans-52\"/>\r\n       <use x=\"63.623047\" xlink:href=\"#DejaVuSans-48\"/>\r\n       <use x=\"127.246094\" xlink:href=\"#DejaVuSans-48\"/>\r\n       <use x=\"190.869141\" xlink:href=\"#DejaVuSans-48\"/>\r\n       <use x=\"254.492188\" xlink:href=\"#DejaVuSans-45\"/>\r\n       <use x=\"290.576172\" xlink:href=\"#DejaVuSans-52\"/>\r\n       <use x=\"354.199219\" xlink:href=\"#DejaVuSans-52\"/>\r\n       <use x=\"417.822266\" xlink:href=\"#DejaVuSans-57\"/>\r\n       <use x=\"481.445312\" xlink:href=\"#DejaVuSans-57\"/>\r\n      </g>\r\n     </g>\r\n    </g>\r\n    <g id=\"xtick_22\">\r\n     <g id=\"line2d_22\">\r\n      <g>\r\n       <use style=\"stroke:#000000;stroke-width:0.8;\" x=\"325.0125\" xlink:href=\"#mcd4fe4a4e2\" y=\"279\"/>\r\n      </g>\r\n     </g>\r\n     <g id=\"text_22\">\r\n      <!-- 4500-4599 -->\r\n      <g transform=\"translate(327.771875 340.507812)rotate(-90)scale(0.1 -0.1)\">\r\n       <use xlink:href=\"#DejaVuSans-52\"/>\r\n       <use x=\"63.623047\" xlink:href=\"#DejaVuSans-53\"/>\r\n       <use x=\"127.246094\" xlink:href=\"#DejaVuSans-48\"/>\r\n       <use x=\"190.869141\" xlink:href=\"#DejaVuSans-48\"/>\r\n       <use x=\"254.492188\" xlink:href=\"#DejaVuSans-45\"/>\r\n       <use x=\"290.576172\" xlink:href=\"#DejaVuSans-52\"/>\r\n       <use x=\"354.199219\" xlink:href=\"#DejaVuSans-53\"/>\r\n       <use x=\"417.822266\" xlink:href=\"#DejaVuSans-57\"/>\r\n       <use x=\"481.445312\" xlink:href=\"#DejaVuSans-57\"/>\r\n      </g>\r\n     </g>\r\n    </g>\r\n    <g id=\"xtick_23\">\r\n     <g id=\"line2d_23\">\r\n      <g>\r\n       <use style=\"stroke:#000000;stroke-width:0.8;\" x=\"337.989244\" xlink:href=\"#mcd4fe4a4e2\" y=\"279\"/>\r\n      </g>\r\n     </g>\r\n     <g id=\"text_23\">\r\n      <!-- 4600-4799 -->\r\n      <g transform=\"translate(340.748619 340.507812)rotate(-90)scale(0.1 -0.1)\">\r\n       <use xlink:href=\"#DejaVuSans-52\"/>\r\n       <use x=\"63.623047\" xlink:href=\"#DejaVuSans-54\"/>\r\n       <use x=\"127.246094\" xlink:href=\"#DejaVuSans-48\"/>\r\n       <use x=\"190.869141\" xlink:href=\"#DejaVuSans-48\"/>\r\n       <use x=\"254.492188\" xlink:href=\"#DejaVuSans-45\"/>\r\n       <use x=\"290.576172\" xlink:href=\"#DejaVuSans-52\"/>\r\n       <use x=\"354.199219\" xlink:href=\"#DejaVuSans-55\"/>\r\n       <use x=\"417.822266\" xlink:href=\"#DejaVuSans-57\"/>\r\n       <use x=\"481.445312\" xlink:href=\"#DejaVuSans-57\"/>\r\n      </g>\r\n     </g>\r\n    </g>\r\n    <g id=\"xtick_24\">\r\n     <g id=\"line2d_24\">\r\n      <g>\r\n       <use style=\"stroke:#000000;stroke-width:0.8;\" x=\"350.965988\" xlink:href=\"#mcd4fe4a4e2\" y=\"279\"/>\r\n      </g>\r\n     </g>\r\n     <g id=\"text_24\">\r\n      <!-- 4900-4999 -->\r\n      <g transform=\"translate(353.725363 340.507812)rotate(-90)scale(0.1 -0.1)\">\r\n       <use xlink:href=\"#DejaVuSans-52\"/>\r\n       <use x=\"63.623047\" xlink:href=\"#DejaVuSans-57\"/>\r\n       <use x=\"127.246094\" xlink:href=\"#DejaVuSans-48\"/>\r\n       <use x=\"190.869141\" xlink:href=\"#DejaVuSans-48\"/>\r\n       <use x=\"254.492188\" xlink:href=\"#DejaVuSans-45\"/>\r\n       <use x=\"290.576172\" xlink:href=\"#DejaVuSans-52\"/>\r\n       <use x=\"354.199219\" xlink:href=\"#DejaVuSans-57\"/>\r\n       <use x=\"417.822266\" xlink:href=\"#DejaVuSans-57\"/>\r\n       <use x=\"481.445312\" xlink:href=\"#DejaVuSans-57\"/>\r\n      </g>\r\n     </g>\r\n    </g>\r\n    <g id=\"xtick_25\">\r\n     <g id=\"line2d_25\">\r\n      <g>\r\n       <use style=\"stroke:#000000;stroke-width:0.8;\" x=\"363.942733\" xlink:href=\"#mcd4fe4a4e2\" y=\"279\"/>\r\n      </g>\r\n     </g>\r\n     <g id=\"text_25\">\r\n      <!-- 5000-6499 -->\r\n      <g transform=\"translate(366.702108 340.507812)rotate(-90)scale(0.1 -0.1)\">\r\n       <use xlink:href=\"#DejaVuSans-53\"/>\r\n       <use x=\"63.623047\" xlink:href=\"#DejaVuSans-48\"/>\r\n       <use x=\"127.246094\" xlink:href=\"#DejaVuSans-48\"/>\r\n       <use x=\"190.869141\" xlink:href=\"#DejaVuSans-48\"/>\r\n       <use x=\"254.492188\" xlink:href=\"#DejaVuSans-45\"/>\r\n       <use x=\"290.576172\" xlink:href=\"#DejaVuSans-54\"/>\r\n       <use x=\"354.199219\" xlink:href=\"#DejaVuSans-52\"/>\r\n       <use x=\"417.822266\" xlink:href=\"#DejaVuSans-57\"/>\r\n       <use x=\"481.445312\" xlink:href=\"#DejaVuSans-57\"/>\r\n      </g>\r\n     </g>\r\n    </g>\r\n    <g id=\"xtick_26\">\r\n     <g id=\"line2d_26\">\r\n      <g>\r\n       <use style=\"stroke:#000000;stroke-width:0.8;\" x=\"376.919477\" xlink:href=\"#mcd4fe4a4e2\" y=\"279\"/>\r\n      </g>\r\n     </g>\r\n     <g id=\"text_26\">\r\n      <!-- 6500-6989 -->\r\n      <g transform=\"translate(379.678852 340.507812)rotate(-90)scale(0.1 -0.1)\">\r\n       <use xlink:href=\"#DejaVuSans-54\"/>\r\n       <use x=\"63.623047\" xlink:href=\"#DejaVuSans-53\"/>\r\n       <use x=\"127.246094\" xlink:href=\"#DejaVuSans-48\"/>\r\n       <use x=\"190.869141\" xlink:href=\"#DejaVuSans-48\"/>\r\n       <use x=\"254.492188\" xlink:href=\"#DejaVuSans-45\"/>\r\n       <use x=\"290.576172\" xlink:href=\"#DejaVuSans-54\"/>\r\n       <use x=\"354.199219\" xlink:href=\"#DejaVuSans-57\"/>\r\n       <use x=\"417.822266\" xlink:href=\"#DejaVuSans-56\"/>\r\n       <use x=\"481.445312\" xlink:href=\"#DejaVuSans-57\"/>\r\n      </g>\r\n     </g>\r\n    </g>\r\n    <g id=\"xtick_27\">\r\n     <g id=\"line2d_27\">\r\n      <g>\r\n       <use style=\"stroke:#000000;stroke-width:0.8;\" x=\"389.896221\" xlink:href=\"#mcd4fe4a4e2\" y=\"279\"/>\r\n      </g>\r\n     </g>\r\n     <g id=\"text_27\">\r\n      <!-- B -->\r\n      <defs>\r\n       <path d=\"M 19.671875 34.8125 \r\nL 19.671875 8.109375 \r\nL 35.5 8.109375 \r\nQ 43.453125 8.109375 47.28125 11.40625 \r\nQ 51.125 14.703125 51.125 21.484375 \r\nQ 51.125 28.328125 47.28125 31.5625 \r\nQ 43.453125 34.8125 35.5 34.8125 \r\nz\r\nM 19.671875 64.796875 \r\nL 19.671875 42.828125 \r\nL 34.28125 42.828125 \r\nQ 41.5 42.828125 45.03125 45.53125 \r\nQ 48.578125 48.25 48.578125 53.8125 \r\nQ 48.578125 59.328125 45.03125 62.0625 \r\nQ 41.5 64.796875 34.28125 64.796875 \r\nz\r\nM 9.8125 72.90625 \r\nL 35.015625 72.90625 \r\nQ 46.296875 72.90625 52.390625 68.21875 \r\nQ 58.5 63.53125 58.5 54.890625 \r\nQ 58.5 48.1875 55.375 44.234375 \r\nQ 52.25 40.28125 46.1875 39.3125 \r\nQ 53.46875 37.75 57.5 32.78125 \r\nQ 61.53125 27.828125 61.53125 20.40625 \r\nQ 61.53125 10.640625 54.890625 5.3125 \r\nQ 48.25 0 35.984375 0 \r\nL 9.8125 0 \r\nz\r\n\" id=\"DejaVuSans-66\"/>\r\n      </defs>\r\n      <g transform=\"translate(392.655596 292.860937)rotate(-90)scale(0.1 -0.1)\">\r\n       <use xlink:href=\"#DejaVuSans-66\"/>\r\n      </g>\r\n     </g>\r\n    </g>\r\n    <g id=\"xtick_28\">\r\n     <g id=\"line2d_28\">\r\n      <g>\r\n       <use style=\"stroke:#000000;stroke-width:0.8;\" x=\"402.872965\" xlink:href=\"#mcd4fe4a4e2\" y=\"279\"/>\r\n      </g>\r\n     </g>\r\n     <g id=\"text_28\">\r\n      <!-- C -->\r\n      <defs>\r\n       <path d=\"M 64.40625 67.28125 \r\nL 64.40625 56.890625 \r\nQ 59.421875 61.53125 53.78125 63.8125 \r\nQ 48.140625 66.109375 41.796875 66.109375 \r\nQ 29.296875 66.109375 22.65625 58.46875 \r\nQ 16.015625 50.828125 16.015625 36.375 \r\nQ 16.015625 21.96875 22.65625 14.328125 \r\nQ 29.296875 6.6875 41.796875 6.6875 \r\nQ 48.140625 6.6875 53.78125 8.984375 \r\nQ 59.421875 11.28125 64.40625 15.921875 \r\nL 64.40625 5.609375 \r\nQ 59.234375 2.09375 53.4375 0.328125 \r\nQ 47.65625 -1.421875 41.21875 -1.421875 \r\nQ 24.65625 -1.421875 15.125 8.703125 \r\nQ 5.609375 18.84375 5.609375 36.375 \r\nQ 5.609375 53.953125 15.125 64.078125 \r\nQ 24.65625 74.21875 41.21875 74.21875 \r\nQ 47.75 74.21875 53.53125 72.484375 \r\nQ 59.328125 70.75 64.40625 67.28125 \r\nz\r\n\" id=\"DejaVuSans-67\"/>\r\n      </defs>\r\n      <g transform=\"translate(405.63234 292.982812)rotate(-90)scale(0.1 -0.1)\">\r\n       <use xlink:href=\"#DejaVuSans-67\"/>\r\n      </g>\r\n     </g>\r\n    </g>\r\n    <g id=\"xtick_29\">\r\n     <g id=\"line2d_29\">\r\n      <g>\r\n       <use style=\"stroke:#000000;stroke-width:0.8;\" x=\"415.849709\" xlink:href=\"#mcd4fe4a4e2\" y=\"279\"/>\r\n      </g>\r\n     </g>\r\n     <g id=\"text_29\">\r\n      <!-- G -->\r\n      <defs>\r\n       <path d=\"M 59.515625 10.40625 \r\nL 59.515625 29.984375 \r\nL 43.40625 29.984375 \r\nL 43.40625 38.09375 \r\nL 69.28125 38.09375 \r\nL 69.28125 6.78125 \r\nQ 63.578125 2.734375 56.6875 0.65625 \r\nQ 49.8125 -1.421875 42 -1.421875 \r\nQ 24.90625 -1.421875 15.25 8.5625 \r\nQ 5.609375 18.5625 5.609375 36.375 \r\nQ 5.609375 54.25 15.25 64.234375 \r\nQ 24.90625 74.21875 42 74.21875 \r\nQ 49.125 74.21875 55.546875 72.453125 \r\nQ 61.96875 70.703125 67.390625 67.28125 \r\nL 67.390625 56.78125 \r\nQ 61.921875 61.421875 55.765625 63.765625 \r\nQ 49.609375 66.109375 42.828125 66.109375 \r\nQ 29.4375 66.109375 22.71875 58.640625 \r\nQ 16.015625 51.171875 16.015625 36.375 \r\nQ 16.015625 21.625 22.71875 14.15625 \r\nQ 29.4375 6.6875 42.828125 6.6875 \r\nQ 48.046875 6.6875 52.140625 7.59375 \r\nQ 56.25 8.5 59.515625 10.40625 \r\nz\r\n\" id=\"DejaVuSans-71\"/>\r\n      </defs>\r\n      <g transform=\"translate(418.609084 293.748437)rotate(-90)scale(0.1 -0.1)\">\r\n       <use xlink:href=\"#DejaVuSans-71\"/>\r\n      </g>\r\n     </g>\r\n    </g>\r\n    <g id=\"xtick_30\">\r\n     <g id=\"line2d_30\">\r\n      <g>\r\n       <use style=\"stroke:#000000;stroke-width:0.8;\" x=\"428.826453\" xlink:href=\"#mcd4fe4a4e2\" y=\"279\"/>\r\n      </g>\r\n     </g>\r\n     <g id=\"text_30\">\r\n      <!-- J -->\r\n      <defs>\r\n       <path d=\"M 9.8125 72.90625 \r\nL 19.671875 72.90625 \r\nL 19.671875 5.078125 \r\nQ 19.671875 -8.109375 14.671875 -14.0625 \r\nQ 9.671875 -20.015625 -1.421875 -20.015625 \r\nL -5.171875 -20.015625 \r\nL -5.171875 -11.71875 \r\nL -2.09375 -11.71875 \r\nQ 4.4375 -11.71875 7.125 -8.046875 \r\nQ 9.8125 -4.390625 9.8125 5.078125 \r\nz\r\n\" id=\"DejaVuSans-74\"/>\r\n      </defs>\r\n      <g transform=\"translate(431.585828 288.95)rotate(-90)scale(0.1 -0.1)\">\r\n       <use xlink:href=\"#DejaVuSans-74\"/>\r\n      </g>\r\n     </g>\r\n    </g>\r\n    <g id=\"xtick_31\">\r\n     <g id=\"line2d_31\">\r\n      <g>\r\n       <use style=\"stroke:#000000;stroke-width:0.8;\" x=\"441.803198\" xlink:href=\"#mcd4fe4a4e2\" y=\"279\"/>\r\n      </g>\r\n     </g>\r\n     <g id=\"text_31\">\r\n      <!-- K -->\r\n      <defs>\r\n       <path d=\"M 9.8125 72.90625 \r\nL 19.671875 72.90625 \r\nL 19.671875 42.09375 \r\nL 52.390625 72.90625 \r\nL 65.09375 72.90625 \r\nL 28.90625 38.921875 \r\nL 67.671875 0 \r\nL 54.6875 0 \r\nL 19.671875 35.109375 \r\nL 19.671875 0 \r\nL 9.8125 0 \r\nz\r\n\" id=\"DejaVuSans-75\"/>\r\n      </defs>\r\n      <g transform=\"translate(444.562573 292.557812)rotate(-90)scale(0.1 -0.1)\">\r\n       <use xlink:href=\"#DejaVuSans-75\"/>\r\n      </g>\r\n     </g>\r\n    </g>\r\n    <g id=\"xtick_32\">\r\n     <g id=\"line2d_32\">\r\n      <g>\r\n       <use style=\"stroke:#000000;stroke-width:0.8;\" x=\"454.779942\" xlink:href=\"#mcd4fe4a4e2\" y=\"279\"/>\r\n      </g>\r\n     </g>\r\n     <g id=\"text_32\">\r\n      <!-- M -->\r\n      <defs>\r\n       <path d=\"M 9.8125 72.90625 \r\nL 24.515625 72.90625 \r\nL 43.109375 23.296875 \r\nL 61.8125 72.90625 \r\nL 76.515625 72.90625 \r\nL 76.515625 0 \r\nL 66.890625 0 \r\nL 66.890625 64.015625 \r\nL 48.09375 14.015625 \r\nL 38.1875 14.015625 \r\nL 19.390625 64.015625 \r\nL 19.390625 0 \r\nL 9.8125 0 \r\nz\r\n\" id=\"DejaVuSans-77\"/>\r\n      </defs>\r\n      <g transform=\"translate(457.539317 294.628125)rotate(-90)scale(0.1 -0.1)\">\r\n       <use xlink:href=\"#DejaVuSans-77\"/>\r\n      </g>\r\n     </g>\r\n    </g>\r\n    <g id=\"xtick_33\">\r\n     <g id=\"line2d_33\">\r\n      <g>\r\n       <use style=\"stroke:#000000;stroke-width:0.8;\" x=\"467.756686\" xlink:href=\"#mcd4fe4a4e2\" y=\"279\"/>\r\n      </g>\r\n     </g>\r\n     <g id=\"text_33\">\r\n      <!-- N -->\r\n      <defs>\r\n       <path d=\"M 9.8125 72.90625 \r\nL 23.09375 72.90625 \r\nL 55.421875 11.921875 \r\nL 55.421875 72.90625 \r\nL 64.984375 72.90625 \r\nL 64.984375 0 \r\nL 51.703125 0 \r\nL 19.390625 60.984375 \r\nL 19.390625 0 \r\nL 9.8125 0 \r\nz\r\n\" id=\"DejaVuSans-78\"/>\r\n      </defs>\r\n      <g transform=\"translate(470.516061 293.48125)rotate(-90)scale(0.1 -0.1)\">\r\n       <use xlink:href=\"#DejaVuSans-78\"/>\r\n      </g>\r\n     </g>\r\n    </g>\r\n    <g id=\"xtick_34\">\r\n     <g id=\"line2d_34\">\r\n      <g>\r\n       <use style=\"stroke:#000000;stroke-width:0.8;\" x=\"480.73343\" xlink:href=\"#mcd4fe4a4e2\" y=\"279\"/>\r\n      </g>\r\n     </g>\r\n     <g id=\"text_34\">\r\n      <!-- P -->\r\n      <defs>\r\n       <path d=\"M 19.671875 64.796875 \r\nL 19.671875 37.40625 \r\nL 32.078125 37.40625 \r\nQ 38.96875 37.40625 42.71875 40.96875 \r\nQ 46.484375 44.53125 46.484375 51.125 \r\nQ 46.484375 57.671875 42.71875 61.234375 \r\nQ 38.96875 64.796875 32.078125 64.796875 \r\nz\r\nM 9.8125 72.90625 \r\nL 32.078125 72.90625 \r\nQ 44.34375 72.90625 50.609375 67.359375 \r\nQ 56.890625 61.8125 56.890625 51.125 \r\nQ 56.890625 40.328125 50.609375 34.8125 \r\nQ 44.34375 29.296875 32.078125 29.296875 \r\nL 19.671875 29.296875 \r\nL 19.671875 0 \r\nL 9.8125 0 \r\nz\r\n\" id=\"DejaVuSans-80\"/>\r\n      </defs>\r\n      <g transform=\"translate(483.492805 292.029687)rotate(-90)scale(0.1 -0.1)\">\r\n       <use xlink:href=\"#DejaVuSans-80\"/>\r\n      </g>\r\n     </g>\r\n    </g>\r\n    <g id=\"xtick_35\">\r\n     <g id=\"line2d_35\">\r\n      <g>\r\n       <use style=\"stroke:#000000;stroke-width:0.8;\" x=\"493.710174\" xlink:href=\"#mcd4fe4a4e2\" y=\"279\"/>\r\n      </g>\r\n     </g>\r\n     <g id=\"text_35\">\r\n      <!-- Q -->\r\n      <defs>\r\n       <path d=\"M 39.40625 66.21875 \r\nQ 28.65625 66.21875 22.328125 58.203125 \r\nQ 16.015625 50.203125 16.015625 36.375 \r\nQ 16.015625 22.609375 22.328125 14.59375 \r\nQ 28.65625 6.59375 39.40625 6.59375 \r\nQ 50.140625 6.59375 56.421875 14.59375 \r\nQ 62.703125 22.609375 62.703125 36.375 \r\nQ 62.703125 50.203125 56.421875 58.203125 \r\nQ 50.140625 66.21875 39.40625 66.21875 \r\nz\r\nM 53.21875 1.3125 \r\nL 66.21875 -12.890625 \r\nL 54.296875 -12.890625 \r\nL 43.5 -1.21875 \r\nQ 41.890625 -1.3125 41.03125 -1.359375 \r\nQ 40.1875 -1.421875 39.40625 -1.421875 \r\nQ 24.03125 -1.421875 14.8125 8.859375 \r\nQ 5.609375 19.140625 5.609375 36.375 \r\nQ 5.609375 53.65625 14.8125 63.9375 \r\nQ 24.03125 74.21875 39.40625 74.21875 \r\nQ 54.734375 74.21875 63.90625 63.9375 \r\nQ 73.09375 53.65625 73.09375 36.375 \r\nQ 73.09375 23.6875 67.984375 14.640625 \r\nQ 62.890625 5.609375 53.21875 1.3125 \r\nz\r\n\" id=\"DejaVuSans-81\"/>\r\n      </defs>\r\n      <g transform=\"translate(496.469549 293.871875)rotate(-90)scale(0.1 -0.1)\">\r\n       <use xlink:href=\"#DejaVuSans-81\"/>\r\n      </g>\r\n     </g>\r\n    </g>\r\n    <g id=\"xtick_36\">\r\n     <g id=\"line2d_36\">\r\n      <g>\r\n       <use style=\"stroke:#000000;stroke-width:0.8;\" x=\"506.686919\" xlink:href=\"#mcd4fe4a4e2\" y=\"279\"/>\r\n      </g>\r\n     </g>\r\n     <g id=\"text_36\">\r\n      <!-- R -->\r\n      <defs>\r\n       <path d=\"M 44.390625 34.1875 \r\nQ 47.5625 33.109375 50.5625 29.59375 \r\nQ 53.5625 26.078125 56.59375 19.921875 \r\nL 66.609375 0 \r\nL 56 0 \r\nL 46.6875 18.703125 \r\nQ 43.0625 26.03125 39.671875 28.421875 \r\nQ 36.28125 30.8125 30.421875 30.8125 \r\nL 19.671875 30.8125 \r\nL 19.671875 0 \r\nL 9.8125 0 \r\nL 9.8125 72.90625 \r\nL 32.078125 72.90625 \r\nQ 44.578125 72.90625 50.734375 67.671875 \r\nQ 56.890625 62.453125 56.890625 51.90625 \r\nQ 56.890625 45.015625 53.6875 40.46875 \r\nQ 50.484375 35.9375 44.390625 34.1875 \r\nz\r\nM 19.671875 64.796875 \r\nL 19.671875 38.921875 \r\nL 32.078125 38.921875 \r\nQ 39.203125 38.921875 42.84375 42.21875 \r\nQ 46.484375 45.515625 46.484375 51.90625 \r\nQ 46.484375 58.296875 42.84375 61.546875 \r\nQ 39.203125 64.796875 32.078125 64.796875 \r\nz\r\n\" id=\"DejaVuSans-82\"/>\r\n      </defs>\r\n      <g transform=\"translate(509.446294 292.948437)rotate(-90)scale(0.1 -0.1)\">\r\n       <use xlink:href=\"#DejaVuSans-82\"/>\r\n      </g>\r\n     </g>\r\n    </g>\r\n    <g id=\"xtick_37\">\r\n     <g id=\"line2d_37\">\r\n      <g>\r\n       <use style=\"stroke:#000000;stroke-width:0.8;\" x=\"519.663663\" xlink:href=\"#mcd4fe4a4e2\" y=\"279\"/>\r\n      </g>\r\n     </g>\r\n     <g id=\"text_37\">\r\n      <!-- S -->\r\n      <defs>\r\n       <path d=\"M 53.515625 70.515625 \r\nL 53.515625 60.890625 \r\nQ 47.90625 63.578125 42.921875 64.890625 \r\nQ 37.9375 66.21875 33.296875 66.21875 \r\nQ 25.25 66.21875 20.875 63.09375 \r\nQ 16.5 59.96875 16.5 54.203125 \r\nQ 16.5 49.359375 19.40625 46.890625 \r\nQ 22.3125 44.4375 30.421875 42.921875 \r\nL 36.375 41.703125 \r\nQ 47.40625 39.59375 52.65625 34.296875 \r\nQ 57.90625 29 57.90625 20.125 \r\nQ 57.90625 9.515625 50.796875 4.046875 \r\nQ 43.703125 -1.421875 29.984375 -1.421875 \r\nQ 24.8125 -1.421875 18.96875 -0.25 \r\nQ 13.140625 0.921875 6.890625 3.21875 \r\nL 6.890625 13.375 \r\nQ 12.890625 10.015625 18.65625 8.296875 \r\nQ 24.421875 6.59375 29.984375 6.59375 \r\nQ 38.421875 6.59375 43.015625 9.90625 \r\nQ 47.609375 13.234375 47.609375 19.390625 \r\nQ 47.609375 24.75 44.3125 27.78125 \r\nQ 41.015625 30.8125 33.5 32.328125 \r\nL 27.484375 33.5 \r\nQ 16.453125 35.6875 11.515625 40.375 \r\nQ 6.59375 45.0625 6.59375 53.421875 \r\nQ 6.59375 63.09375 13.40625 68.65625 \r\nQ 20.21875 74.21875 32.171875 74.21875 \r\nQ 37.3125 74.21875 42.625 73.28125 \r\nQ 47.953125 72.359375 53.515625 70.515625 \r\nz\r\n\" id=\"DejaVuSans-83\"/>\r\n      </defs>\r\n      <g transform=\"translate(522.423038 292.348437)rotate(-90)scale(0.1 -0.1)\">\r\n       <use xlink:href=\"#DejaVuSans-83\"/>\r\n      </g>\r\n     </g>\r\n    </g>\r\n    <g id=\"xtick_38\">\r\n     <g id=\"line2d_38\">\r\n      <g>\r\n       <use style=\"stroke:#000000;stroke-width:0.8;\" x=\"532.640407\" xlink:href=\"#mcd4fe4a4e2\" y=\"279\"/>\r\n      </g>\r\n     </g>\r\n     <g id=\"text_38\">\r\n      <!-- T -->\r\n      <defs>\r\n       <path d=\"M -0.296875 72.90625 \r\nL 61.375 72.90625 \r\nL 61.375 64.59375 \r\nL 35.5 64.59375 \r\nL 35.5 0 \r\nL 25.59375 0 \r\nL 25.59375 64.59375 \r\nL -0.296875 64.59375 \r\nz\r\n\" id=\"DejaVuSans-84\"/>\r\n      </defs>\r\n      <g transform=\"translate(535.399782 292.107812)rotate(-90)scale(0.1 -0.1)\">\r\n       <use xlink:href=\"#DejaVuSans-84\"/>\r\n      </g>\r\n     </g>\r\n    </g>\r\n    <g id=\"xtick_39\">\r\n     <g id=\"line2d_39\">\r\n      <g>\r\n       <use style=\"stroke:#000000;stroke-width:0.8;\" x=\"545.617151\" xlink:href=\"#mcd4fe4a4e2\" y=\"279\"/>\r\n      </g>\r\n     </g>\r\n     <g id=\"text_39\">\r\n      <!-- U -->\r\n      <defs>\r\n       <path d=\"M 8.6875 72.90625 \r\nL 18.609375 72.90625 \r\nL 18.609375 28.609375 \r\nQ 18.609375 16.890625 22.84375 11.734375 \r\nQ 27.09375 6.59375 36.625 6.59375 \r\nQ 46.09375 6.59375 50.34375 11.734375 \r\nQ 54.59375 16.890625 54.59375 28.609375 \r\nL 54.59375 72.90625 \r\nL 64.5 72.90625 \r\nL 64.5 27.390625 \r\nQ 64.5 13.140625 57.4375 5.859375 \r\nQ 50.390625 -1.421875 36.625 -1.421875 \r\nQ 22.796875 -1.421875 15.734375 5.859375 \r\nQ 8.6875 13.140625 8.6875 27.390625 \r\nz\r\n\" id=\"DejaVuSans-85\"/>\r\n      </defs>\r\n      <g transform=\"translate(548.376526 293.31875)rotate(-90)scale(0.1 -0.1)\">\r\n       <use xlink:href=\"#DejaVuSans-85\"/>\r\n      </g>\r\n     </g>\r\n    </g>\r\n    <g id=\"xtick_40\">\r\n     <g id=\"line2d_40\">\r\n      <g>\r\n       <use style=\"stroke:#000000;stroke-width:0.8;\" x=\"558.593895\" xlink:href=\"#mcd4fe4a4e2\" y=\"279\"/>\r\n      </g>\r\n     </g>\r\n     <g id=\"text_40\">\r\n      <!-- V -->\r\n      <defs>\r\n       <path d=\"M 28.609375 0 \r\nL 0.78125 72.90625 \r\nL 11.078125 72.90625 \r\nL 34.1875 11.53125 \r\nL 57.328125 72.90625 \r\nL 67.578125 72.90625 \r\nL 39.796875 0 \r\nz\r\n\" id=\"DejaVuSans-86\"/>\r\n      </defs>\r\n      <g transform=\"translate(561.35327 292.840625)rotate(-90)scale(0.1 -0.1)\">\r\n       <use xlink:href=\"#DejaVuSans-86\"/>\r\n      </g>\r\n     </g>\r\n    </g>\r\n    <g id=\"xtick_41\">\r\n     <g id=\"line2d_41\">\r\n      <g>\r\n       <use style=\"stroke:#000000;stroke-width:0.8;\" x=\"571.57064\" xlink:href=\"#mcd4fe4a4e2\" y=\"279\"/>\r\n      </g>\r\n     </g>\r\n     <g id=\"text_41\">\r\n      <!-- W -->\r\n      <defs>\r\n       <path d=\"M 3.328125 72.90625 \r\nL 13.28125 72.90625 \r\nL 28.609375 11.28125 \r\nL 43.890625 72.90625 \r\nL 54.984375 72.90625 \r\nL 70.3125 11.28125 \r\nL 85.59375 72.90625 \r\nL 95.609375 72.90625 \r\nL 77.296875 0 \r\nL 64.890625 0 \r\nL 49.515625 63.28125 \r\nL 33.984375 0 \r\nL 21.578125 0 \r\nz\r\n\" id=\"DejaVuSans-87\"/>\r\n      </defs>\r\n      <g transform=\"translate(574.330015 295.8875)rotate(-90)scale(0.1 -0.1)\">\r\n       <use xlink:href=\"#DejaVuSans-87\"/>\r\n      </g>\r\n     </g>\r\n    </g>\r\n    <g id=\"xtick_42\">\r\n     <g id=\"line2d_42\">\r\n      <g>\r\n       <use style=\"stroke:#000000;stroke-width:0.8;\" x=\"584.547384\" xlink:href=\"#mcd4fe4a4e2\" y=\"279\"/>\r\n      </g>\r\n     </g>\r\n     <g id=\"text_42\">\r\n      <!-- X -->\r\n      <defs>\r\n       <path d=\"M 6.296875 72.90625 \r\nL 16.890625 72.90625 \r\nL 35.015625 45.796875 \r\nL 53.21875 72.90625 \r\nL 63.8125 72.90625 \r\nL 40.375 37.890625 \r\nL 65.375 0 \r\nL 54.78125 0 \r\nL 34.28125 31 \r\nL 13.625 0 \r\nL 2.984375 0 \r\nL 29 38.921875 \r\nz\r\n\" id=\"DejaVuSans-88\"/>\r\n      </defs>\r\n      <g transform=\"translate(587.306759 292.85)rotate(-90)scale(0.1 -0.1)\">\r\n       <use xlink:href=\"#DejaVuSans-88\"/>\r\n      </g>\r\n     </g>\r\n    </g>\r\n    <g id=\"xtick_43\">\r\n     <g id=\"line2d_43\">\r\n      <g>\r\n       <use style=\"stroke:#000000;stroke-width:0.8;\" x=\"597.524128\" xlink:href=\"#mcd4fe4a4e2\" y=\"279\"/>\r\n      </g>\r\n     </g>\r\n     <g id=\"text_43\">\r\n      <!-- Z -->\r\n      <defs>\r\n       <path d=\"M 5.609375 72.90625 \r\nL 62.890625 72.90625 \r\nL 62.890625 65.375 \r\nL 16.796875 8.296875 \r\nL 64.015625 8.296875 \r\nL 64.015625 0 \r\nL 4.5 0 \r\nL 4.5 7.515625 \r\nL 50.59375 64.59375 \r\nL 5.609375 64.59375 \r\nz\r\n\" id=\"DejaVuSans-90\"/>\r\n      </defs>\r\n      <g transform=\"translate(600.283503 292.85)rotate(-90)scale(0.1 -0.1)\">\r\n       <use xlink:href=\"#DejaVuSans-90\"/>\r\n      </g>\r\n     </g>\r\n    </g>\r\n    <g id=\"text_44\">\r\n     <!-- PRVDR_NUM_CAT -->\r\n     <defs>\r\n      <path d=\"M 19.671875 64.796875 \r\nL 19.671875 8.109375 \r\nL 31.59375 8.109375 \r\nQ 46.6875 8.109375 53.6875 14.9375 \r\nQ 60.6875 21.78125 60.6875 36.53125 \r\nQ 60.6875 51.171875 53.6875 57.984375 \r\nQ 46.6875 64.796875 31.59375 64.796875 \r\nz\r\nM 9.8125 72.90625 \r\nL 30.078125 72.90625 \r\nQ 51.265625 72.90625 61.171875 64.09375 \r\nQ 71.09375 55.28125 71.09375 36.53125 \r\nQ 71.09375 17.671875 61.125 8.828125 \r\nQ 51.171875 0 30.078125 0 \r\nL 9.8125 0 \r\nz\r\n\" id=\"DejaVuSans-68\"/>\r\n      <path d=\"M 50.984375 -16.609375 \r\nL 50.984375 -23.578125 \r\nL -0.984375 -23.578125 \r\nL -0.984375 -16.609375 \r\nz\r\n\" id=\"DejaVuSans-95\"/>\r\n      <path d=\"M 34.1875 63.1875 \r\nL 20.796875 26.90625 \r\nL 47.609375 26.90625 \r\nz\r\nM 28.609375 72.90625 \r\nL 39.796875 72.90625 \r\nL 67.578125 0 \r\nL 57.328125 0 \r\nL 50.6875 18.703125 \r\nL 17.828125 18.703125 \r\nL 11.1875 0 \r\nL 0.78125 0 \r\nz\r\n\" id=\"DejaVuSans-65\"/>\r\n     </defs>\r\n     <g transform=\"translate(281.761719 351.929687)scale(0.1 -0.1)\">\r\n      <use xlink:href=\"#DejaVuSans-80\"/>\r\n      <use x=\"60.302734\" xlink:href=\"#DejaVuSans-82\"/>\r\n      <use x=\"124.285156\" xlink:href=\"#DejaVuSans-86\"/>\r\n      <use x=\"192.693359\" xlink:href=\"#DejaVuSans-68\"/>\r\n      <use x=\"269.695312\" xlink:href=\"#DejaVuSans-82\"/>\r\n      <use x=\"339.177734\" xlink:href=\"#DejaVuSans-95\"/>\r\n      <use x=\"389.177734\" xlink:href=\"#DejaVuSans-78\"/>\r\n      <use x=\"463.982422\" xlink:href=\"#DejaVuSans-85\"/>\r\n      <use x=\"537.175781\" xlink:href=\"#DejaVuSans-77\"/>\r\n      <use x=\"623.455078\" xlink:href=\"#DejaVuSans-95\"/>\r\n      <use x=\"673.455078\" xlink:href=\"#DejaVuSans-67\"/>\r\n      <use x=\"743.279297\" xlink:href=\"#DejaVuSans-65\"/>\r\n      <use x=\"803.9375\" xlink:href=\"#DejaVuSans-84\"/>\r\n     </g>\r\n    </g>\r\n   </g>\r\n   <g id=\"matplotlib.axis_2\">\r\n    <g id=\"ytick_1\">\r\n     <g id=\"line2d_44\">\r\n      <defs>\r\n       <path d=\"M 0 0 \r\nL -3.5 0 \r\n\" id=\"m1ba84d7a60\" style=\"stroke:#000000;stroke-width:0.8;\"/>\r\n      </defs>\r\n      <g>\r\n       <use style=\"stroke:#000000;stroke-width:0.8;\" x=\"46.0125\" xlink:href=\"#m1ba84d7a60\" y=\"279\"/>\r\n      </g>\r\n     </g>\r\n     <g id=\"text_45\">\r\n      <!-- 0 -->\r\n      <g transform=\"translate(32.65 282.799219)scale(0.1 -0.1)\">\r\n       <use xlink:href=\"#DejaVuSans-48\"/>\r\n      </g>\r\n     </g>\r\n    </g>\r\n    <g id=\"ytick_2\">\r\n     <g id=\"line2d_45\">\r\n      <g>\r\n       <use style=\"stroke:#000000;stroke-width:0.8;\" x=\"46.0125\" xlink:href=\"#m1ba84d7a60\" y=\"236.484948\"/>\r\n      </g>\r\n     </g>\r\n     <g id=\"text_46\">\r\n      <!-- 5000 -->\r\n      <g transform=\"translate(13.5625 240.284167)scale(0.1 -0.1)\">\r\n       <use xlink:href=\"#DejaVuSans-53\"/>\r\n       <use x=\"63.623047\" xlink:href=\"#DejaVuSans-48\"/>\r\n       <use x=\"127.246094\" xlink:href=\"#DejaVuSans-48\"/>\r\n       <use x=\"190.869141\" xlink:href=\"#DejaVuSans-48\"/>\r\n      </g>\r\n     </g>\r\n    </g>\r\n    <g id=\"ytick_3\">\r\n     <g id=\"line2d_46\">\r\n      <g>\r\n       <use style=\"stroke:#000000;stroke-width:0.8;\" x=\"46.0125\" xlink:href=\"#m1ba84d7a60\" y=\"193.969897\"/>\r\n      </g>\r\n     </g>\r\n     <g id=\"text_47\">\r\n      <!-- 10000 -->\r\n      <g transform=\"translate(7.2 197.769116)scale(0.1 -0.1)\">\r\n       <use xlink:href=\"#DejaVuSans-49\"/>\r\n       <use x=\"63.623047\" xlink:href=\"#DejaVuSans-48\"/>\r\n       <use x=\"127.246094\" xlink:href=\"#DejaVuSans-48\"/>\r\n       <use x=\"190.869141\" xlink:href=\"#DejaVuSans-48\"/>\r\n       <use x=\"254.492188\" xlink:href=\"#DejaVuSans-48\"/>\r\n      </g>\r\n     </g>\r\n    </g>\r\n    <g id=\"ytick_4\">\r\n     <g id=\"line2d_47\">\r\n      <g>\r\n       <use style=\"stroke:#000000;stroke-width:0.8;\" x=\"46.0125\" xlink:href=\"#m1ba84d7a60\" y=\"151.454845\"/>\r\n      </g>\r\n     </g>\r\n     <g id=\"text_48\">\r\n      <!-- 15000 -->\r\n      <g transform=\"translate(7.2 155.254064)scale(0.1 -0.1)\">\r\n       <use xlink:href=\"#DejaVuSans-49\"/>\r\n       <use x=\"63.623047\" xlink:href=\"#DejaVuSans-53\"/>\r\n       <use x=\"127.246094\" xlink:href=\"#DejaVuSans-48\"/>\r\n       <use x=\"190.869141\" xlink:href=\"#DejaVuSans-48\"/>\r\n       <use x=\"254.492188\" xlink:href=\"#DejaVuSans-48\"/>\r\n      </g>\r\n     </g>\r\n    </g>\r\n    <g id=\"ytick_5\">\r\n     <g id=\"line2d_48\">\r\n      <g>\r\n       <use style=\"stroke:#000000;stroke-width:0.8;\" x=\"46.0125\" xlink:href=\"#m1ba84d7a60\" y=\"108.939794\"/>\r\n      </g>\r\n     </g>\r\n     <g id=\"text_49\">\r\n      <!-- 20000 -->\r\n      <g transform=\"translate(7.2 112.739013)scale(0.1 -0.1)\">\r\n       <use xlink:href=\"#DejaVuSans-50\"/>\r\n       <use x=\"63.623047\" xlink:href=\"#DejaVuSans-48\"/>\r\n       <use x=\"127.246094\" xlink:href=\"#DejaVuSans-48\"/>\r\n       <use x=\"190.869141\" xlink:href=\"#DejaVuSans-48\"/>\r\n       <use x=\"254.492188\" xlink:href=\"#DejaVuSans-48\"/>\r\n      </g>\r\n     </g>\r\n    </g>\r\n    <g id=\"ytick_6\">\r\n     <g id=\"line2d_49\">\r\n      <g>\r\n       <use style=\"stroke:#000000;stroke-width:0.8;\" x=\"46.0125\" xlink:href=\"#m1ba84d7a60\" y=\"66.424742\"/>\r\n      </g>\r\n     </g>\r\n     <g id=\"text_50\">\r\n      <!-- 25000 -->\r\n      <g transform=\"translate(7.2 70.223961)scale(0.1 -0.1)\">\r\n       <use xlink:href=\"#DejaVuSans-50\"/>\r\n       <use x=\"63.623047\" xlink:href=\"#DejaVuSans-53\"/>\r\n       <use x=\"127.246094\" xlink:href=\"#DejaVuSans-48\"/>\r\n       <use x=\"190.869141\" xlink:href=\"#DejaVuSans-48\"/>\r\n       <use x=\"254.492188\" xlink:href=\"#DejaVuSans-48\"/>\r\n      </g>\r\n     </g>\r\n    </g>\r\n    <g id=\"ytick_7\">\r\n     <g id=\"line2d_50\">\r\n      <g>\r\n       <use style=\"stroke:#000000;stroke-width:0.8;\" x=\"46.0125\" xlink:href=\"#m1ba84d7a60\" y=\"23.909691\"/>\r\n      </g>\r\n     </g>\r\n     <g id=\"text_51\">\r\n      <!-- 30000 -->\r\n      <g transform=\"translate(7.2 27.708909)scale(0.1 -0.1)\">\r\n       <use xlink:href=\"#DejaVuSans-51\"/>\r\n       <use x=\"63.623047\" xlink:href=\"#DejaVuSans-48\"/>\r\n       <use x=\"127.246094\" xlink:href=\"#DejaVuSans-48\"/>\r\n       <use x=\"190.869141\" xlink:href=\"#DejaVuSans-48\"/>\r\n       <use x=\"254.492188\" xlink:href=\"#DejaVuSans-48\"/>\r\n      </g>\r\n     </g>\r\n    </g>\r\n   </g>\r\n   <g id=\"patch_46\">\r\n    <path d=\"M 46.0125 279 \r\nL 46.0125 7.2 \r\n\" style=\"fill:none;stroke:#000000;stroke-linecap:square;stroke-linejoin:miter;stroke-width:0.8;\"/>\r\n   </g>\r\n   <g id=\"patch_47\">\r\n    <path d=\"M 604.0125 279 \r\nL 604.0125 7.2 \r\n\" style=\"fill:none;stroke:#000000;stroke-linecap:square;stroke-linejoin:miter;stroke-width:0.8;\"/>\r\n   </g>\r\n   <g id=\"patch_48\">\r\n    <path d=\"M 46.0125 279 \r\nL 604.0125 279 \r\n\" style=\"fill:none;stroke:#000000;stroke-linecap:square;stroke-linejoin:miter;stroke-width:0.8;\"/>\r\n   </g>\r\n   <g id=\"patch_49\">\r\n    <path d=\"M 46.0125 7.2 \r\nL 604.0125 7.2 \r\n\" style=\"fill:none;stroke:#000000;stroke-linecap:square;stroke-linejoin:miter;stroke-width:0.8;\"/>\r\n   </g>\r\n  </g>\r\n </g>\r\n <defs>\r\n  <clipPath id=\"pbf3e4c1927\">\r\n   <rect height=\"271.8\" width=\"558\" x=\"46.0125\" y=\"7.2\"/>\r\n  </clipPath>\r\n </defs>\r\n</svg>\r\n",
      "image/png": "[encoded data removed]"
     },
     "metadata": {
      "needs_background": "light"
     }
    }
   ],
   "source": [
    "data_inpatient_claims[[\"DESYNPUF_ID\", \"PRVDR_NUM_CAT\"]].drop_duplicates().groupby([\"PRVDR_NUM_CAT\"])[\"DESYNPUF_ID\"].size().plot(kind='bar', figsize=(10,5))"
   ]
  },
  {
   "cell_type": "code",
   "execution_count": 35,
   "metadata": {},
   "outputs": [
    {
     "output_type": "execute_result",
     "data": {
      "text/plain": [
       "<matplotlib.axes._subplots.AxesSubplot at 0x1ca822a7348>"
      ]
     },
     "metadata": {},
     "execution_count": 35
    },
    {
     "output_type": "display_data",
     "data": {
      "text/plain": "<Figure size 432x288 with 1 Axes>",
      "image/svg+xml": "<?xml version=\"1.0\" encoding=\"utf-8\" standalone=\"no\"?>\r\n<!DOCTYPE svg PUBLIC \"-//W3C//DTD SVG 1.1//EN\"\r\n  \"http://www.w3.org/Graphics/SVG/1.1/DTD/svg11.dtd\">\r\n<!-- Created with matplotlib (https://matplotlib.org/) -->\r\n<svg height=\"248.518125pt\" version=\"1.1\" viewBox=\"0 0 394.375 248.518125\" width=\"394.375pt\" xmlns=\"http://www.w3.org/2000/svg\" xmlns:xlink=\"http://www.w3.org/1999/xlink\">\r\n <defs>\r\n  <style type=\"text/css\">\r\n*{stroke-linecap:butt;stroke-linejoin:round;}\r\n  </style>\r\n </defs>\r\n <g id=\"figure_1\">\r\n  <g id=\"patch_1\">\r\n   <path d=\"M 0 248.518125 \r\nL 394.375 248.518125 \r\nL 394.375 0 \r\nL 0 0 \r\nz\r\n\" style=\"fill:none;\"/>\r\n  </g>\r\n  <g id=\"axes_1\">\r\n   <g id=\"patch_2\">\r\n    <path d=\"M 52.375 224.64 \r\nL 387.175 224.64 \r\nL 387.175 7.2 \r\nL 52.375 7.2 \r\nz\r\n\" style=\"fill:#ffffff;\"/>\r\n   </g>\r\n   <g id=\"patch_3\">\r\n    <path clip-path=\"url(#p68fcf3bc2f)\" d=\"M 67.593182 224.64 \r\nL 98.029545 224.64 \r\nL 98.029545 17.554286 \r\nL 67.593182 17.554286 \r\nz\r\n\" style=\"fill:#1f77b4;\"/>\r\n   </g>\r\n   <g id=\"patch_4\">\r\n    <path clip-path=\"url(#p68fcf3bc2f)\" d=\"M 98.029545 224.64 \r\nL 128.465909 224.64 \r\nL 128.465909 198.952768 \r\nL 98.029545 198.952768 \r\nz\r\n\" style=\"fill:#1f77b4;\"/>\r\n   </g>\r\n   <g id=\"patch_5\">\r\n    <path clip-path=\"url(#p68fcf3bc2f)\" d=\"M 128.465909 224.64 \r\nL 158.902273 224.64 \r\nL 158.902273 224.64 \r\nL 128.465909 224.64 \r\nz\r\n\" style=\"fill:#1f77b4;\"/>\r\n   </g>\r\n   <g id=\"patch_6\">\r\n    <path clip-path=\"url(#p68fcf3bc2f)\" d=\"M 158.902273 224.64 \r\nL 189.338636 224.64 \r\nL 189.338636 221.425499 \r\nL 158.902273 221.425499 \r\nz\r\n\" style=\"fill:#1f77b4;\"/>\r\n   </g>\r\n   <g id=\"patch_7\">\r\n    <path clip-path=\"url(#p68fcf3bc2f)\" d=\"M 189.338636 224.64 \r\nL 219.775 224.64 \r\nL 219.775 224.64 \r\nL 189.338636 224.64 \r\nz\r\n\" style=\"fill:#1f77b4;\"/>\r\n   </g>\r\n   <g id=\"patch_8\">\r\n    <path clip-path=\"url(#p68fcf3bc2f)\" d=\"M 219.775 224.64 \r\nL 250.211364 224.64 \r\nL 250.211364 224.252108 \r\nL 219.775 224.252108 \r\nz\r\n\" style=\"fill:#1f77b4;\"/>\r\n   </g>\r\n   <g id=\"patch_9\">\r\n    <path clip-path=\"url(#p68fcf3bc2f)\" d=\"M 250.211364 224.64 \r\nL 280.647727 224.64 \r\nL 280.647727 224.599959 \r\nL 250.211364 224.599959 \r\nz\r\n\" style=\"fill:#1f77b4;\"/>\r\n   </g>\r\n   <g id=\"patch_10\">\r\n    <path clip-path=\"url(#p68fcf3bc2f)\" d=\"M 280.647727 224.64 \r\nL 311.084091 224.64 \r\nL 311.084091 224.64 \r\nL 280.647727 224.64 \r\nz\r\n\" style=\"fill:#1f77b4;\"/>\r\n   </g>\r\n   <g id=\"patch_11\">\r\n    <path clip-path=\"url(#p68fcf3bc2f)\" d=\"M 311.084091 224.64 \r\nL 341.520455 224.64 \r\nL 341.520455 224.633744 \r\nL 311.084091 224.633744 \r\nz\r\n\" style=\"fill:#1f77b4;\"/>\r\n   </g>\r\n   <g id=\"patch_12\">\r\n    <path clip-path=\"url(#p68fcf3bc2f)\" d=\"M 341.520455 224.64 \r\nL 371.956818 224.64 \r\nL 371.956818 224.637497 \r\nL 341.520455 224.637497 \r\nz\r\n\" style=\"fill:#1f77b4;\"/>\r\n   </g>\r\n   <g id=\"matplotlib.axis_1\">\r\n    <g id=\"xtick_1\">\r\n     <g id=\"line2d_1\">\r\n      <path clip-path=\"url(#p68fcf3bc2f)\" d=\"M 67.593182 224.64 \r\nL 67.593182 7.2 \r\n\" style=\"fill:none;stroke:#b0b0b0;stroke-linecap:square;stroke-width:0.8;\"/>\r\n     </g>\r\n     <g id=\"line2d_2\">\r\n      <defs>\r\n       <path d=\"M 0 0 \r\nL 0 3.5 \r\n\" id=\"m2e93bbe1d7\" style=\"stroke:#000000;stroke-width:0.8;\"/>\r\n      </defs>\r\n      <g>\r\n       <use style=\"stroke:#000000;stroke-width:0.8;\" x=\"67.593182\" xlink:href=\"#m2e93bbe1d7\" y=\"224.64\"/>\r\n      </g>\r\n     </g>\r\n     <g id=\"text_1\">\r\n      <!-- 1 -->\r\n      <defs>\r\n       <path d=\"M 12.40625 8.296875 \r\nL 28.515625 8.296875 \r\nL 28.515625 63.921875 \r\nL 10.984375 60.40625 \r\nL 10.984375 69.390625 \r\nL 28.421875 72.90625 \r\nL 38.28125 72.90625 \r\nL 38.28125 8.296875 \r\nL 54.390625 8.296875 \r\nL 54.390625 0 \r\nL 12.40625 0 \r\nz\r\n\" id=\"DejaVuSans-49\"/>\r\n      </defs>\r\n      <g transform=\"translate(64.411932 239.238437)scale(0.1 -0.1)\">\r\n       <use xlink:href=\"#DejaVuSans-49\"/>\r\n      </g>\r\n     </g>\r\n    </g>\r\n    <g id=\"xtick_2\">\r\n     <g id=\"line2d_3\">\r\n      <path clip-path=\"url(#p68fcf3bc2f)\" d=\"M 118.320455 224.64 \r\nL 118.320455 7.2 \r\n\" style=\"fill:none;stroke:#b0b0b0;stroke-linecap:square;stroke-width:0.8;\"/>\r\n     </g>\r\n     <g id=\"line2d_4\">\r\n      <g>\r\n       <use style=\"stroke:#000000;stroke-width:0.8;\" x=\"118.320455\" xlink:href=\"#m2e93bbe1d7\" y=\"224.64\"/>\r\n      </g>\r\n     </g>\r\n     <g id=\"text_2\">\r\n      <!-- 2 -->\r\n      <defs>\r\n       <path d=\"M 19.1875 8.296875 \r\nL 53.609375 8.296875 \r\nL 53.609375 0 \r\nL 7.328125 0 \r\nL 7.328125 8.296875 \r\nQ 12.9375 14.109375 22.625 23.890625 \r\nQ 32.328125 33.6875 34.8125 36.53125 \r\nQ 39.546875 41.84375 41.421875 45.53125 \r\nQ 43.3125 49.21875 43.3125 52.78125 \r\nQ 43.3125 58.59375 39.234375 62.25 \r\nQ 35.15625 65.921875 28.609375 65.921875 \r\nQ 23.96875 65.921875 18.8125 64.3125 \r\nQ 13.671875 62.703125 7.8125 59.421875 \r\nL 7.8125 69.390625 \r\nQ 13.765625 71.78125 18.9375 73 \r\nQ 24.125 74.21875 28.421875 74.21875 \r\nQ 39.75 74.21875 46.484375 68.546875 \r\nQ 53.21875 62.890625 53.21875 53.421875 \r\nQ 53.21875 48.921875 51.53125 44.890625 \r\nQ 49.859375 40.875 45.40625 35.40625 \r\nQ 44.1875 33.984375 37.640625 27.21875 \r\nQ 31.109375 20.453125 19.1875 8.296875 \r\nz\r\n\" id=\"DejaVuSans-50\"/>\r\n      </defs>\r\n      <g transform=\"translate(115.139205 239.238437)scale(0.1 -0.1)\">\r\n       <use xlink:href=\"#DejaVuSans-50\"/>\r\n      </g>\r\n     </g>\r\n    </g>\r\n    <g id=\"xtick_3\">\r\n     <g id=\"line2d_5\">\r\n      <path clip-path=\"url(#p68fcf3bc2f)\" d=\"M 169.047727 224.64 \r\nL 169.047727 7.2 \r\n\" style=\"fill:none;stroke:#b0b0b0;stroke-linecap:square;stroke-width:0.8;\"/>\r\n     </g>\r\n     <g id=\"line2d_6\">\r\n      <g>\r\n       <use style=\"stroke:#000000;stroke-width:0.8;\" x=\"169.047727\" xlink:href=\"#m2e93bbe1d7\" y=\"224.64\"/>\r\n      </g>\r\n     </g>\r\n     <g id=\"text_3\">\r\n      <!-- 3 -->\r\n      <defs>\r\n       <path d=\"M 40.578125 39.3125 \r\nQ 47.65625 37.796875 51.625 33 \r\nQ 55.609375 28.21875 55.609375 21.1875 \r\nQ 55.609375 10.40625 48.1875 4.484375 \r\nQ 40.765625 -1.421875 27.09375 -1.421875 \r\nQ 22.515625 -1.421875 17.65625 -0.515625 \r\nQ 12.796875 0.390625 7.625 2.203125 \r\nL 7.625 11.71875 \r\nQ 11.71875 9.328125 16.59375 8.109375 \r\nQ 21.484375 6.890625 26.8125 6.890625 \r\nQ 36.078125 6.890625 40.9375 10.546875 \r\nQ 45.796875 14.203125 45.796875 21.1875 \r\nQ 45.796875 27.640625 41.28125 31.265625 \r\nQ 36.765625 34.90625 28.71875 34.90625 \r\nL 20.21875 34.90625 \r\nL 20.21875 43.015625 \r\nL 29.109375 43.015625 \r\nQ 36.375 43.015625 40.234375 45.921875 \r\nQ 44.09375 48.828125 44.09375 54.296875 \r\nQ 44.09375 59.90625 40.109375 62.90625 \r\nQ 36.140625 65.921875 28.71875 65.921875 \r\nQ 24.65625 65.921875 20.015625 65.03125 \r\nQ 15.375 64.15625 9.8125 62.3125 \r\nL 9.8125 71.09375 \r\nQ 15.4375 72.65625 20.34375 73.4375 \r\nQ 25.25 74.21875 29.59375 74.21875 \r\nQ 40.828125 74.21875 47.359375 69.109375 \r\nQ 53.90625 64.015625 53.90625 55.328125 \r\nQ 53.90625 49.265625 50.4375 45.09375 \r\nQ 46.96875 40.921875 40.578125 39.3125 \r\nz\r\n\" id=\"DejaVuSans-51\"/>\r\n      </defs>\r\n      <g transform=\"translate(165.866477 239.238437)scale(0.1 -0.1)\">\r\n       <use xlink:href=\"#DejaVuSans-51\"/>\r\n      </g>\r\n     </g>\r\n    </g>\r\n    <g id=\"xtick_4\">\r\n     <g id=\"line2d_7\">\r\n      <path clip-path=\"url(#p68fcf3bc2f)\" d=\"M 219.775 224.64 \r\nL 219.775 7.2 \r\n\" style=\"fill:none;stroke:#b0b0b0;stroke-linecap:square;stroke-width:0.8;\"/>\r\n     </g>\r\n     <g id=\"line2d_8\">\r\n      <g>\r\n       <use style=\"stroke:#000000;stroke-width:0.8;\" x=\"219.775\" xlink:href=\"#m2e93bbe1d7\" y=\"224.64\"/>\r\n      </g>\r\n     </g>\r\n     <g id=\"text_4\">\r\n      <!-- 4 -->\r\n      <defs>\r\n       <path d=\"M 37.796875 64.3125 \r\nL 12.890625 25.390625 \r\nL 37.796875 25.390625 \r\nz\r\nM 35.203125 72.90625 \r\nL 47.609375 72.90625 \r\nL 47.609375 25.390625 \r\nL 58.015625 25.390625 \r\nL 58.015625 17.1875 \r\nL 47.609375 17.1875 \r\nL 47.609375 0 \r\nL 37.796875 0 \r\nL 37.796875 17.1875 \r\nL 4.890625 17.1875 \r\nL 4.890625 26.703125 \r\nz\r\n\" id=\"DejaVuSans-52\"/>\r\n      </defs>\r\n      <g transform=\"translate(216.59375 239.238437)scale(0.1 -0.1)\">\r\n       <use xlink:href=\"#DejaVuSans-52\"/>\r\n      </g>\r\n     </g>\r\n    </g>\r\n    <g id=\"xtick_5\">\r\n     <g id=\"line2d_9\">\r\n      <path clip-path=\"url(#p68fcf3bc2f)\" d=\"M 270.502273 224.64 \r\nL 270.502273 7.2 \r\n\" style=\"fill:none;stroke:#b0b0b0;stroke-linecap:square;stroke-width:0.8;\"/>\r\n     </g>\r\n     <g id=\"line2d_10\">\r\n      <g>\r\n       <use style=\"stroke:#000000;stroke-width:0.8;\" x=\"270.502273\" xlink:href=\"#m2e93bbe1d7\" y=\"224.64\"/>\r\n      </g>\r\n     </g>\r\n     <g id=\"text_5\">\r\n      <!-- 5 -->\r\n      <defs>\r\n       <path d=\"M 10.796875 72.90625 \r\nL 49.515625 72.90625 \r\nL 49.515625 64.59375 \r\nL 19.828125 64.59375 \r\nL 19.828125 46.734375 \r\nQ 21.96875 47.46875 24.109375 47.828125 \r\nQ 26.265625 48.1875 28.421875 48.1875 \r\nQ 40.625 48.1875 47.75 41.5 \r\nQ 54.890625 34.8125 54.890625 23.390625 \r\nQ 54.890625 11.625 47.5625 5.09375 \r\nQ 40.234375 -1.421875 26.90625 -1.421875 \r\nQ 22.3125 -1.421875 17.546875 -0.640625 \r\nQ 12.796875 0.140625 7.71875 1.703125 \r\nL 7.71875 11.625 \r\nQ 12.109375 9.234375 16.796875 8.0625 \r\nQ 21.484375 6.890625 26.703125 6.890625 \r\nQ 35.15625 6.890625 40.078125 11.328125 \r\nQ 45.015625 15.765625 45.015625 23.390625 \r\nQ 45.015625 31 40.078125 35.4375 \r\nQ 35.15625 39.890625 26.703125 39.890625 \r\nQ 22.75 39.890625 18.8125 39.015625 \r\nQ 14.890625 38.140625 10.796875 36.28125 \r\nz\r\n\" id=\"DejaVuSans-53\"/>\r\n      </defs>\r\n      <g transform=\"translate(267.321023 239.238437)scale(0.1 -0.1)\">\r\n       <use xlink:href=\"#DejaVuSans-53\"/>\r\n      </g>\r\n     </g>\r\n    </g>\r\n    <g id=\"xtick_6\">\r\n     <g id=\"line2d_11\">\r\n      <path clip-path=\"url(#p68fcf3bc2f)\" d=\"M 321.229545 224.64 \r\nL 321.229545 7.2 \r\n\" style=\"fill:none;stroke:#b0b0b0;stroke-linecap:square;stroke-width:0.8;\"/>\r\n     </g>\r\n     <g id=\"line2d_12\">\r\n      <g>\r\n       <use style=\"stroke:#000000;stroke-width:0.8;\" x=\"321.229545\" xlink:href=\"#m2e93bbe1d7\" y=\"224.64\"/>\r\n      </g>\r\n     </g>\r\n     <g id=\"text_6\">\r\n      <!-- 6 -->\r\n      <defs>\r\n       <path d=\"M 33.015625 40.375 \r\nQ 26.375 40.375 22.484375 35.828125 \r\nQ 18.609375 31.296875 18.609375 23.390625 \r\nQ 18.609375 15.53125 22.484375 10.953125 \r\nQ 26.375 6.390625 33.015625 6.390625 \r\nQ 39.65625 6.390625 43.53125 10.953125 \r\nQ 47.40625 15.53125 47.40625 23.390625 \r\nQ 47.40625 31.296875 43.53125 35.828125 \r\nQ 39.65625 40.375 33.015625 40.375 \r\nz\r\nM 52.59375 71.296875 \r\nL 52.59375 62.3125 \r\nQ 48.875 64.0625 45.09375 64.984375 \r\nQ 41.3125 65.921875 37.59375 65.921875 \r\nQ 27.828125 65.921875 22.671875 59.328125 \r\nQ 17.53125 52.734375 16.796875 39.40625 \r\nQ 19.671875 43.65625 24.015625 45.921875 \r\nQ 28.375 48.1875 33.59375 48.1875 \r\nQ 44.578125 48.1875 50.953125 41.515625 \r\nQ 57.328125 34.859375 57.328125 23.390625 \r\nQ 57.328125 12.15625 50.6875 5.359375 \r\nQ 44.046875 -1.421875 33.015625 -1.421875 \r\nQ 20.359375 -1.421875 13.671875 8.265625 \r\nQ 6.984375 17.96875 6.984375 36.375 \r\nQ 6.984375 53.65625 15.1875 63.9375 \r\nQ 23.390625 74.21875 37.203125 74.21875 \r\nQ 40.921875 74.21875 44.703125 73.484375 \r\nQ 48.484375 72.75 52.59375 71.296875 \r\nz\r\n\" id=\"DejaVuSans-54\"/>\r\n      </defs>\r\n      <g transform=\"translate(318.048295 239.238437)scale(0.1 -0.1)\">\r\n       <use xlink:href=\"#DejaVuSans-54\"/>\r\n      </g>\r\n     </g>\r\n    </g>\r\n    <g id=\"xtick_7\">\r\n     <g id=\"line2d_13\">\r\n      <path clip-path=\"url(#p68fcf3bc2f)\" d=\"M 371.956818 224.64 \r\nL 371.956818 7.2 \r\n\" style=\"fill:none;stroke:#b0b0b0;stroke-linecap:square;stroke-width:0.8;\"/>\r\n     </g>\r\n     <g id=\"line2d_14\">\r\n      <g>\r\n       <use style=\"stroke:#000000;stroke-width:0.8;\" x=\"371.956818\" xlink:href=\"#m2e93bbe1d7\" y=\"224.64\"/>\r\n      </g>\r\n     </g>\r\n     <g id=\"text_7\">\r\n      <!-- 7 -->\r\n      <defs>\r\n       <path d=\"M 8.203125 72.90625 \r\nL 55.078125 72.90625 \r\nL 55.078125 68.703125 \r\nL 28.609375 0 \r\nL 18.3125 0 \r\nL 43.21875 64.59375 \r\nL 8.203125 64.59375 \r\nz\r\n\" id=\"DejaVuSans-55\"/>\r\n      </defs>\r\n      <g transform=\"translate(368.775568 239.238437)scale(0.1 -0.1)\">\r\n       <use xlink:href=\"#DejaVuSans-55\"/>\r\n      </g>\r\n     </g>\r\n    </g>\r\n   </g>\r\n   <g id=\"matplotlib.axis_2\">\r\n    <g id=\"ytick_1\">\r\n     <g id=\"line2d_15\">\r\n      <path clip-path=\"url(#p68fcf3bc2f)\" d=\"M 52.375 224.64 \r\nL 387.175 224.64 \r\n\" style=\"fill:none;stroke:#b0b0b0;stroke-linecap:square;stroke-width:0.8;\"/>\r\n     </g>\r\n     <g id=\"line2d_16\">\r\n      <defs>\r\n       <path d=\"M 0 0 \r\nL -3.5 0 \r\n\" id=\"mdf118cbe63\" style=\"stroke:#000000;stroke-width:0.8;\"/>\r\n      </defs>\r\n      <g>\r\n       <use style=\"stroke:#000000;stroke-width:0.8;\" x=\"52.375\" xlink:href=\"#mdf118cbe63\" y=\"224.64\"/>\r\n      </g>\r\n     </g>\r\n     <g id=\"text_8\">\r\n      <!-- 0 -->\r\n      <defs>\r\n       <path d=\"M 31.78125 66.40625 \r\nQ 24.171875 66.40625 20.328125 58.90625 \r\nQ 16.5 51.421875 16.5 36.375 \r\nQ 16.5 21.390625 20.328125 13.890625 \r\nQ 24.171875 6.390625 31.78125 6.390625 \r\nQ 39.453125 6.390625 43.28125 13.890625 \r\nQ 47.125 21.390625 47.125 36.375 \r\nQ 47.125 51.421875 43.28125 58.90625 \r\nQ 39.453125 66.40625 31.78125 66.40625 \r\nz\r\nM 31.78125 74.21875 \r\nQ 44.046875 74.21875 50.515625 64.515625 \r\nQ 56.984375 54.828125 56.984375 36.375 \r\nQ 56.984375 17.96875 50.515625 8.265625 \r\nQ 44.046875 -1.421875 31.78125 -1.421875 \r\nQ 19.53125 -1.421875 13.0625 8.265625 \r\nQ 6.59375 17.96875 6.59375 36.375 \r\nQ 6.59375 54.828125 13.0625 64.515625 \r\nQ 19.53125 74.21875 31.78125 74.21875 \r\nz\r\n\" id=\"DejaVuSans-48\"/>\r\n      </defs>\r\n      <g transform=\"translate(39.0125 228.439219)scale(0.1 -0.1)\">\r\n       <use xlink:href=\"#DejaVuSans-48\"/>\r\n      </g>\r\n     </g>\r\n    </g>\r\n    <g id=\"ytick_2\">\r\n     <g id=\"line2d_17\">\r\n      <path clip-path=\"url(#p68fcf3bc2f)\" d=\"M 52.375 199.614687 \r\nL 387.175 199.614687 \r\n\" style=\"fill:none;stroke:#b0b0b0;stroke-linecap:square;stroke-width:0.8;\"/>\r\n     </g>\r\n     <g id=\"line2d_18\">\r\n      <g>\r\n       <use style=\"stroke:#000000;stroke-width:0.8;\" x=\"52.375\" xlink:href=\"#mdf118cbe63\" y=\"199.614687\"/>\r\n      </g>\r\n     </g>\r\n     <g id=\"text_9\">\r\n      <!-- 20000 -->\r\n      <g transform=\"translate(13.5625 203.413906)scale(0.1 -0.1)\">\r\n       <use xlink:href=\"#DejaVuSans-50\"/>\r\n       <use x=\"63.623047\" xlink:href=\"#DejaVuSans-48\"/>\r\n       <use x=\"127.246094\" xlink:href=\"#DejaVuSans-48\"/>\r\n       <use x=\"190.869141\" xlink:href=\"#DejaVuSans-48\"/>\r\n       <use x=\"254.492188\" xlink:href=\"#DejaVuSans-48\"/>\r\n      </g>\r\n     </g>\r\n    </g>\r\n    <g id=\"ytick_3\">\r\n     <g id=\"line2d_19\">\r\n      <path clip-path=\"url(#p68fcf3bc2f)\" d=\"M 52.375 174.589374 \r\nL 387.175 174.589374 \r\n\" style=\"fill:none;stroke:#b0b0b0;stroke-linecap:square;stroke-width:0.8;\"/>\r\n     </g>\r\n     <g id=\"line2d_20\">\r\n      <g>\r\n       <use style=\"stroke:#000000;stroke-width:0.8;\" x=\"52.375\" xlink:href=\"#mdf118cbe63\" y=\"174.589374\"/>\r\n      </g>\r\n     </g>\r\n     <g id=\"text_10\">\r\n      <!-- 40000 -->\r\n      <g transform=\"translate(13.5625 178.388593)scale(0.1 -0.1)\">\r\n       <use xlink:href=\"#DejaVuSans-52\"/>\r\n       <use x=\"63.623047\" xlink:href=\"#DejaVuSans-48\"/>\r\n       <use x=\"127.246094\" xlink:href=\"#DejaVuSans-48\"/>\r\n       <use x=\"190.869141\" xlink:href=\"#DejaVuSans-48\"/>\r\n       <use x=\"254.492188\" xlink:href=\"#DejaVuSans-48\"/>\r\n      </g>\r\n     </g>\r\n    </g>\r\n    <g id=\"ytick_4\">\r\n     <g id=\"line2d_21\">\r\n      <path clip-path=\"url(#p68fcf3bc2f)\" d=\"M 52.375 149.564062 \r\nL 387.175 149.564062 \r\n\" style=\"fill:none;stroke:#b0b0b0;stroke-linecap:square;stroke-width:0.8;\"/>\r\n     </g>\r\n     <g id=\"line2d_22\">\r\n      <g>\r\n       <use style=\"stroke:#000000;stroke-width:0.8;\" x=\"52.375\" xlink:href=\"#mdf118cbe63\" y=\"149.564062\"/>\r\n      </g>\r\n     </g>\r\n     <g id=\"text_11\">\r\n      <!-- 60000 -->\r\n      <g transform=\"translate(13.5625 153.36328)scale(0.1 -0.1)\">\r\n       <use xlink:href=\"#DejaVuSans-54\"/>\r\n       <use x=\"63.623047\" xlink:href=\"#DejaVuSans-48\"/>\r\n       <use x=\"127.246094\" xlink:href=\"#DejaVuSans-48\"/>\r\n       <use x=\"190.869141\" xlink:href=\"#DejaVuSans-48\"/>\r\n       <use x=\"254.492188\" xlink:href=\"#DejaVuSans-48\"/>\r\n      </g>\r\n     </g>\r\n    </g>\r\n    <g id=\"ytick_5\">\r\n     <g id=\"line2d_23\">\r\n      <path clip-path=\"url(#p68fcf3bc2f)\" d=\"M 52.375 124.538749 \r\nL 387.175 124.538749 \r\n\" style=\"fill:none;stroke:#b0b0b0;stroke-linecap:square;stroke-width:0.8;\"/>\r\n     </g>\r\n     <g id=\"line2d_24\">\r\n      <g>\r\n       <use style=\"stroke:#000000;stroke-width:0.8;\" x=\"52.375\" xlink:href=\"#mdf118cbe63\" y=\"124.538749\"/>\r\n      </g>\r\n     </g>\r\n     <g id=\"text_12\">\r\n      <!-- 80000 -->\r\n      <defs>\r\n       <path d=\"M 31.78125 34.625 \r\nQ 24.75 34.625 20.71875 30.859375 \r\nQ 16.703125 27.09375 16.703125 20.515625 \r\nQ 16.703125 13.921875 20.71875 10.15625 \r\nQ 24.75 6.390625 31.78125 6.390625 \r\nQ 38.8125 6.390625 42.859375 10.171875 \r\nQ 46.921875 13.96875 46.921875 20.515625 \r\nQ 46.921875 27.09375 42.890625 30.859375 \r\nQ 38.875 34.625 31.78125 34.625 \r\nz\r\nM 21.921875 38.8125 \r\nQ 15.578125 40.375 12.03125 44.71875 \r\nQ 8.5 49.078125 8.5 55.328125 \r\nQ 8.5 64.0625 14.71875 69.140625 \r\nQ 20.953125 74.21875 31.78125 74.21875 \r\nQ 42.671875 74.21875 48.875 69.140625 \r\nQ 55.078125 64.0625 55.078125 55.328125 \r\nQ 55.078125 49.078125 51.53125 44.71875 \r\nQ 48 40.375 41.703125 38.8125 \r\nQ 48.828125 37.15625 52.796875 32.3125 \r\nQ 56.78125 27.484375 56.78125 20.515625 \r\nQ 56.78125 9.90625 50.3125 4.234375 \r\nQ 43.84375 -1.421875 31.78125 -1.421875 \r\nQ 19.734375 -1.421875 13.25 4.234375 \r\nQ 6.78125 9.90625 6.78125 20.515625 \r\nQ 6.78125 27.484375 10.78125 32.3125 \r\nQ 14.796875 37.15625 21.921875 38.8125 \r\nz\r\nM 18.3125 54.390625 \r\nQ 18.3125 48.734375 21.84375 45.5625 \r\nQ 25.390625 42.390625 31.78125 42.390625 \r\nQ 38.140625 42.390625 41.71875 45.5625 \r\nQ 45.3125 48.734375 45.3125 54.390625 \r\nQ 45.3125 60.0625 41.71875 63.234375 \r\nQ 38.140625 66.40625 31.78125 66.40625 \r\nQ 25.390625 66.40625 21.84375 63.234375 \r\nQ 18.3125 60.0625 18.3125 54.390625 \r\nz\r\n\" id=\"DejaVuSans-56\"/>\r\n      </defs>\r\n      <g transform=\"translate(13.5625 128.337968)scale(0.1 -0.1)\">\r\n       <use xlink:href=\"#DejaVuSans-56\"/>\r\n       <use x=\"63.623047\" xlink:href=\"#DejaVuSans-48\"/>\r\n       <use x=\"127.246094\" xlink:href=\"#DejaVuSans-48\"/>\r\n       <use x=\"190.869141\" xlink:href=\"#DejaVuSans-48\"/>\r\n       <use x=\"254.492188\" xlink:href=\"#DejaVuSans-48\"/>\r\n      </g>\r\n     </g>\r\n    </g>\r\n    <g id=\"ytick_6\">\r\n     <g id=\"line2d_25\">\r\n      <path clip-path=\"url(#p68fcf3bc2f)\" d=\"M 52.375 99.513436 \r\nL 387.175 99.513436 \r\n\" style=\"fill:none;stroke:#b0b0b0;stroke-linecap:square;stroke-width:0.8;\"/>\r\n     </g>\r\n     <g id=\"line2d_26\">\r\n      <g>\r\n       <use style=\"stroke:#000000;stroke-width:0.8;\" x=\"52.375\" xlink:href=\"#mdf118cbe63\" y=\"99.513436\"/>\r\n      </g>\r\n     </g>\r\n     <g id=\"text_13\">\r\n      <!-- 100000 -->\r\n      <g transform=\"translate(7.2 103.312655)scale(0.1 -0.1)\">\r\n       <use xlink:href=\"#DejaVuSans-49\"/>\r\n       <use x=\"63.623047\" xlink:href=\"#DejaVuSans-48\"/>\r\n       <use x=\"127.246094\" xlink:href=\"#DejaVuSans-48\"/>\r\n       <use x=\"190.869141\" xlink:href=\"#DejaVuSans-48\"/>\r\n       <use x=\"254.492188\" xlink:href=\"#DejaVuSans-48\"/>\r\n       <use x=\"318.115234\" xlink:href=\"#DejaVuSans-48\"/>\r\n      </g>\r\n     </g>\r\n    </g>\r\n    <g id=\"ytick_7\">\r\n     <g id=\"line2d_27\">\r\n      <path clip-path=\"url(#p68fcf3bc2f)\" d=\"M 52.375 74.488123 \r\nL 387.175 74.488123 \r\n\" style=\"fill:none;stroke:#b0b0b0;stroke-linecap:square;stroke-width:0.8;\"/>\r\n     </g>\r\n     <g id=\"line2d_28\">\r\n      <g>\r\n       <use style=\"stroke:#000000;stroke-width:0.8;\" x=\"52.375\" xlink:href=\"#mdf118cbe63\" y=\"74.488123\"/>\r\n      </g>\r\n     </g>\r\n     <g id=\"text_14\">\r\n      <!-- 120000 -->\r\n      <g transform=\"translate(7.2 78.287342)scale(0.1 -0.1)\">\r\n       <use xlink:href=\"#DejaVuSans-49\"/>\r\n       <use x=\"63.623047\" xlink:href=\"#DejaVuSans-50\"/>\r\n       <use x=\"127.246094\" xlink:href=\"#DejaVuSans-48\"/>\r\n       <use x=\"190.869141\" xlink:href=\"#DejaVuSans-48\"/>\r\n       <use x=\"254.492188\" xlink:href=\"#DejaVuSans-48\"/>\r\n       <use x=\"318.115234\" xlink:href=\"#DejaVuSans-48\"/>\r\n      </g>\r\n     </g>\r\n    </g>\r\n    <g id=\"ytick_8\">\r\n     <g id=\"line2d_29\">\r\n      <path clip-path=\"url(#p68fcf3bc2f)\" d=\"M 52.375 49.462811 \r\nL 387.175 49.462811 \r\n\" style=\"fill:none;stroke:#b0b0b0;stroke-linecap:square;stroke-width:0.8;\"/>\r\n     </g>\r\n     <g id=\"line2d_30\">\r\n      <g>\r\n       <use style=\"stroke:#000000;stroke-width:0.8;\" x=\"52.375\" xlink:href=\"#mdf118cbe63\" y=\"49.462811\"/>\r\n      </g>\r\n     </g>\r\n     <g id=\"text_15\">\r\n      <!-- 140000 -->\r\n      <g transform=\"translate(7.2 53.262029)scale(0.1 -0.1)\">\r\n       <use xlink:href=\"#DejaVuSans-49\"/>\r\n       <use x=\"63.623047\" xlink:href=\"#DejaVuSans-52\"/>\r\n       <use x=\"127.246094\" xlink:href=\"#DejaVuSans-48\"/>\r\n       <use x=\"190.869141\" xlink:href=\"#DejaVuSans-48\"/>\r\n       <use x=\"254.492188\" xlink:href=\"#DejaVuSans-48\"/>\r\n       <use x=\"318.115234\" xlink:href=\"#DejaVuSans-48\"/>\r\n      </g>\r\n     </g>\r\n    </g>\r\n    <g id=\"ytick_9\">\r\n     <g id=\"line2d_31\">\r\n      <path clip-path=\"url(#p68fcf3bc2f)\" d=\"M 52.375 24.437498 \r\nL 387.175 24.437498 \r\n\" style=\"fill:none;stroke:#b0b0b0;stroke-linecap:square;stroke-width:0.8;\"/>\r\n     </g>\r\n     <g id=\"line2d_32\">\r\n      <g>\r\n       <use style=\"stroke:#000000;stroke-width:0.8;\" x=\"52.375\" xlink:href=\"#mdf118cbe63\" y=\"24.437498\"/>\r\n      </g>\r\n     </g>\r\n     <g id=\"text_16\">\r\n      <!-- 160000 -->\r\n      <g transform=\"translate(7.2 28.236717)scale(0.1 -0.1)\">\r\n       <use xlink:href=\"#DejaVuSans-49\"/>\r\n       <use x=\"63.623047\" xlink:href=\"#DejaVuSans-54\"/>\r\n       <use x=\"127.246094\" xlink:href=\"#DejaVuSans-48\"/>\r\n       <use x=\"190.869141\" xlink:href=\"#DejaVuSans-48\"/>\r\n       <use x=\"254.492188\" xlink:href=\"#DejaVuSans-48\"/>\r\n       <use x=\"318.115234\" xlink:href=\"#DejaVuSans-48\"/>\r\n      </g>\r\n     </g>\r\n    </g>\r\n   </g>\r\n   <g id=\"patch_13\">\r\n    <path d=\"M 52.375 224.64 \r\nL 52.375 7.2 \r\n\" style=\"fill:none;stroke:#000000;stroke-linecap:square;stroke-linejoin:miter;stroke-width:0.8;\"/>\r\n   </g>\r\n   <g id=\"patch_14\">\r\n    <path d=\"M 387.175 224.64 \r\nL 387.175 7.2 \r\n\" style=\"fill:none;stroke:#000000;stroke-linecap:square;stroke-linejoin:miter;stroke-width:0.8;\"/>\r\n   </g>\r\n   <g id=\"patch_15\">\r\n    <path d=\"M 52.375 224.64 \r\nL 387.175 224.64 \r\n\" style=\"fill:none;stroke:#000000;stroke-linecap:square;stroke-linejoin:miter;stroke-width:0.8;\"/>\r\n   </g>\r\n   <g id=\"patch_16\">\r\n    <path d=\"M 52.375 7.2 \r\nL 387.175 7.2 \r\n\" style=\"fill:none;stroke:#000000;stroke-linecap:square;stroke-linejoin:miter;stroke-width:0.8;\"/>\r\n   </g>\r\n  </g>\r\n </g>\r\n <defs>\r\n  <clipPath id=\"p68fcf3bc2f\">\r\n   <rect height=\"217.44\" width=\"334.8\" x=\"52.375\" y=\"7.2\"/>\r\n  </clipPath>\r\n </defs>\r\n</svg>\r\n",
      "image/png": "[encoded data removed]"
     },
     "metadata": {
      "needs_background": "light"
     }
    }
   ],
   "source": [
    "data_inpatient_claims[[\"DESYNPUF_ID\", \"PRVDR_NUM_CAT\"]].drop_duplicates().groupby([\"DESYNPUF_ID\"])[\"PRVDR_NUM_CAT\"].size().sort_values(ascending=False).hist()"
   ]
  },
  {
   "cell_type": "markdown",
   "metadata": {},
   "source": [
    "<h2> Creating list of columns for diagnosis, procedure & hcpcs code </h2> "
   ]
  },
  {
   "cell_type": "code",
   "execution_count": 36,
   "metadata": {},
   "outputs": [],
   "source": [
    "# data_inpatient_claims_2[\"ADMTNG_ICD9_DGNS_CD_DESC\"] = data_inpatient_claims_2['ADMTNG_ICD9_DGNS_CD'].apply(lamda x : fetch_diagnosis.get_description_for_icd_code(codeType=\"icd9cm\", ICD9Codes=x))\n",
    "diagnosis_code = [col for col in data_inpatient_claims.columns if \"ICD9_DGNS\" in col]\n",
    "icd_procedural_code = [col for col in data_inpatient_claims.columns if \"ICD9_PRCDR\" in col]\n",
    "icd_hcpcs_code = [col for col in data_inpatient_claims.columns if \"HCPCS_CD\" in col]"
   ]
  },
  {
   "cell_type": "markdown",
   "metadata": {},
   "source": [
    "# Categorizing ICD9 Diagnosis Code"
   ]
  },
  {
   "cell_type": "code",
   "execution_count": 37,
   "metadata": {},
   "outputs": [],
   "source": [
    "response = requests.get(config[2][\"ICD9_DIAGNOSIS_CODE_CATEGORY_URL\"], verify=False)"
   ]
  },
  {
   "cell_type": "code",
   "execution_count": 38,
   "metadata": {},
   "outputs": [],
   "source": [
    "icd_code_categories = pd.read_html(response.text)[0]"
   ]
  },
  {
   "cell_type": "code",
   "execution_count": 39,
   "metadata": {},
   "outputs": [
    {
     "output_type": "execute_result",
     "data": {
      "text/plain": [
       "0         V57\n",
       "1         431\n",
       "2         780\n",
       "3         783\n",
       "4         578\n",
       "         ... \n",
       "333275    721\n",
       "333276    852\n",
       "333277    434\n",
       "333278    486\n",
       "333279    569\n",
       "Name: ADMTNG_ICD9_DGNS_CD, Length: 333280, dtype: object"
      ]
     },
     "metadata": {},
     "execution_count": 39
    },
    {
     "output_type": "execute_result",
     "data": {
      "text/plain": [
       "0         V57\n",
       "1         434\n",
       "2         599\n",
       "3         042\n",
       "4         578\n",
       "         ... \n",
       "333275    724\n",
       "333276    438\n",
       "333277    434\n",
       "333278    486\n",
       "333279    578\n",
       "Name: ICD9_DGNS_CD_1, Length: 333280, dtype: object"
      ]
     },
     "metadata": {},
     "execution_count": 39
    },
    {
     "output_type": "execute_result",
     "data": {
      "text/plain": [
       "0         511\n",
       "1         276\n",
       "2         038\n",
       "3         305\n",
       "4         553\n",
       "         ... \n",
       "333275    278\n",
       "333276    716\n",
       "333277    300\n",
       "333278    250\n",
       "333279    280\n",
       "Name: ICD9_DGNS_CD_2, Length: 333280, dtype: object"
      ]
     },
     "metadata": {},
     "execution_count": 39
    },
    {
     "output_type": "execute_result",
     "data": {
      "text/plain": [
       "0         263\n",
       "1         784\n",
       "2         041\n",
       "3         344\n",
       "4         496\n",
       "         ... \n",
       "333275    V45\n",
       "333276    253\n",
       "333277    427\n",
       "333278    240\n",
       "333279    NaN\n",
       "Name: ICD9_DGNS_CD_3, Length: 333280, dtype: object"
      ]
     },
     "metadata": {},
     "execution_count": 39
    },
    {
     "output_type": "execute_result",
     "data": {
      "text/plain": [
       "0         403\n",
       "1         327\n",
       "2         414\n",
       "3         585\n",
       "4         V42\n",
       "         ... \n",
       "333275    596\n",
       "333276    293\n",
       "333277    784\n",
       "333278    494\n",
       "333279    NaN\n",
       "Name: ICD9_DGNS_CD_4, Length: 333280, dtype: object"
      ]
     },
     "metadata": {},
     "execution_count": 39
    },
    {
     "output_type": "execute_result",
     "data": {
      "text/plain": [
       "0         342\n",
       "1         V10\n",
       "2         402\n",
       "3         427\n",
       "4         403\n",
       "         ... \n",
       "333275    724\n",
       "333276    250\n",
       "333277    426\n",
       "333278    438\n",
       "333279    NaN\n",
       "Name: ICD9_DGNS_CD_5, Length: 333280, dtype: object"
      ]
     },
     "metadata": {},
     "execution_count": 39
    },
    {
     "output_type": "execute_result",
     "data": {
      "text/plain": [
       "0         790\n",
       "1         425\n",
       "2         305\n",
       "3         486\n",
       "4         285\n",
       "         ... \n",
       "333275    722\n",
       "333276    272\n",
       "333277    V14\n",
       "333278    707\n",
       "333279    NaN\n",
       "Name: ICD9_DGNS_CD_6, Length: 333280, dtype: object"
      ]
     },
     "metadata": {},
     "execution_count": 39
    },
    {
     "output_type": "execute_result",
     "data": {
      "text/plain": [
       "0         438\n",
       "1         250\n",
       "2         787\n",
       "3         511\n",
       "4         599\n",
       "         ... \n",
       "333275    585\n",
       "333276    244\n",
       "333277    496\n",
       "333278    412\n",
       "333279    NaN\n",
       "Name: ICD9_DGNS_CD_7, Length: 333280, dtype: object"
      ]
     },
     "metadata": {},
     "execution_count": 39
    },
    {
     "output_type": "execute_result",
     "data": {
      "text/plain": [
       "0         V54\n",
       "1         403\n",
       "2         340\n",
       "3         296\n",
       "4         570\n",
       "         ... \n",
       "333275    V43\n",
       "333276    333\n",
       "333277    401\n",
       "333278    281\n",
       "333279    NaN\n",
       "Name: ICD9_DGNS_CD_8, Length: 333280, dtype: object"
      ]
     },
     "metadata": {},
     "execution_count": 39
    },
    {
     "output_type": "execute_result",
     "data": {
      "text/plain": [
       "0         278\n",
       "1         401\n",
       "2         709\n",
       "3         203\n",
       "4         410\n",
       "         ... \n",
       "333275    NaN\n",
       "333276    NaN\n",
       "333277    250\n",
       "333278    V06\n",
       "333279    NaN\n",
       "Name: ICD9_DGNS_CD_9, Length: 333280, dtype: object"
      ]
     },
     "metadata": {},
     "execution_count": 39
    }
   ],
   "source": [
    "for col in diagnosis_code:\n",
    "    data_inpatient_claims[col] = data_inpatient_claims[col].str[ : 3]\n",
    "    data_inpatient_claims[col].astype(str).replace('nan',np.nan)"
   ]
  },
  {
   "cell_type": "code",
   "execution_count": 40,
   "metadata": {},
   "outputs": [],
   "source": [
    "icd_diagnosis_code_bin = [x for x in icd_code_categories['Code Range'].str.split(\"-\")]\n",
    "icd_diagnosis_code_categories = icd_code_categories['Code Range'].tolist()"
   ]
  },
  {
   "cell_type": "code",
   "execution_count": 41,
   "metadata": {},
   "outputs": [
    {
     "output_type": "execute_result",
     "data": {
      "text/plain": [
       "    Chapter Code Range                                        Description\n",
       "0         1    001-139                  Infectious And Parasitic Diseases\n",
       "1         2    140-239                                          Neoplasms\n",
       "2         3    240-279  Endocrine, Nutritional And Metabolic Diseases,...\n",
       "3         4    280-289     Diseases Of The Blood And Blood-Forming Organs\n",
       "4         5    290-319                                   Mental Disorders\n",
       "5         6    320-389    Diseases Of The Nervous System And Sense Organs\n",
       "6         7    390-459                 Diseases Of The Circulatory System\n",
       "7         8    460-519                 Diseases Of The Respiratory System\n",
       "8         9    520-579                   Diseases Of The Digestive System\n",
       "9        10    580-629               Diseases Of The Genitourinary System\n",
       "10       11    630-679  Complications Of Pregnancy, Childbirth, And Th...\n",
       "11       12    680-709       Diseases Of The Skin And Subcutaneous Tissue\n",
       "12       13    710-739  Diseases Of The Musculoskeletal System And Con...\n",
       "13       14    740-759                               Congenital Anomalies\n",
       "14       15    760-779  Certain Conditions Originating In The Perinata...\n",
       "15       16    780-799        Symptoms, Signs, And Ill-Defined Conditions\n",
       "16       17    800-999                               Injury And Poisoning\n",
       "17       18    V01-V91  Supplementary Classification Of Factors Influe...\n",
       "18       19  E000-E999  Supplementary Classification Of External Cause..."
      ],
      "text/html": "<div>\n<style scoped>\n    .dataframe tbody tr th:only-of-type {\n        vertical-align: middle;\n    }\n\n    .dataframe tbody tr th {\n        vertical-align: top;\n    }\n\n    .dataframe thead th {\n        text-align: right;\n    }\n</style>\n<table border=\"1\" class=\"dataframe\">\n  <thead>\n    <tr style=\"text-align: right;\">\n      <th></th>\n      <th>Chapter</th>\n      <th>Code Range</th>\n      <th>Description</th>\n    </tr>\n  </thead>\n  <tbody>\n    <tr>\n      <th>0</th>\n      <td>1</td>\n      <td>001-139</td>\n      <td>Infectious And Parasitic Diseases</td>\n    </tr>\n    <tr>\n      <th>1</th>\n      <td>2</td>\n      <td>140-239</td>\n      <td>Neoplasms</td>\n    </tr>\n    <tr>\n      <th>2</th>\n      <td>3</td>\n      <td>240-279</td>\n      <td>Endocrine, Nutritional And Metabolic Diseases,...</td>\n    </tr>\n    <tr>\n      <th>3</th>\n      <td>4</td>\n      <td>280-289</td>\n      <td>Diseases Of The Blood And Blood-Forming Organs</td>\n    </tr>\n    <tr>\n      <th>4</th>\n      <td>5</td>\n      <td>290-319</td>\n      <td>Mental Disorders</td>\n    </tr>\n    <tr>\n      <th>5</th>\n      <td>6</td>\n      <td>320-389</td>\n      <td>Diseases Of The Nervous System And Sense Organs</td>\n    </tr>\n    <tr>\n      <th>6</th>\n      <td>7</td>\n      <td>390-459</td>\n      <td>Diseases Of The Circulatory System</td>\n    </tr>\n    <tr>\n      <th>7</th>\n      <td>8</td>\n      <td>460-519</td>\n      <td>Diseases Of The Respiratory System</td>\n    </tr>\n    <tr>\n      <th>8</th>\n      <td>9</td>\n      <td>520-579</td>\n      <td>Diseases Of The Digestive System</td>\n    </tr>\n    <tr>\n      <th>9</th>\n      <td>10</td>\n      <td>580-629</td>\n      <td>Diseases Of The Genitourinary System</td>\n    </tr>\n    <tr>\n      <th>10</th>\n      <td>11</td>\n      <td>630-679</td>\n      <td>Complications Of Pregnancy, Childbirth, And Th...</td>\n    </tr>\n    <tr>\n      <th>11</th>\n      <td>12</td>\n      <td>680-709</td>\n      <td>Diseases Of The Skin And Subcutaneous Tissue</td>\n    </tr>\n    <tr>\n      <th>12</th>\n      <td>13</td>\n      <td>710-739</td>\n      <td>Diseases Of The Musculoskeletal System And Con...</td>\n    </tr>\n    <tr>\n      <th>13</th>\n      <td>14</td>\n      <td>740-759</td>\n      <td>Congenital Anomalies</td>\n    </tr>\n    <tr>\n      <th>14</th>\n      <td>15</td>\n      <td>760-779</td>\n      <td>Certain Conditions Originating In The Perinata...</td>\n    </tr>\n    <tr>\n      <th>15</th>\n      <td>16</td>\n      <td>780-799</td>\n      <td>Symptoms, Signs, And Ill-Defined Conditions</td>\n    </tr>\n    <tr>\n      <th>16</th>\n      <td>17</td>\n      <td>800-999</td>\n      <td>Injury And Poisoning</td>\n    </tr>\n    <tr>\n      <th>17</th>\n      <td>18</td>\n      <td>V01-V91</td>\n      <td>Supplementary Classification Of Factors Influe...</td>\n    </tr>\n    <tr>\n      <th>18</th>\n      <td>19</td>\n      <td>E000-E999</td>\n      <td>Supplementary Classification Of External Cause...</td>\n    </tr>\n  </tbody>\n</table>\n</div>"
     },
     "metadata": {},
     "execution_count": 41
    }
   ],
   "source": [
    "icd_code_categories"
   ]
  },
  {
   "cell_type": "code",
   "execution_count": 42,
   "metadata": {},
   "outputs": [
    {
     "output_type": "execute_result",
     "data": {
      "text/plain": [
       "ADMTNG_ICD9_DGNS_CD      2911\n",
       "ICD9_DGNS_CD_1            459\n",
       "ICD9_DGNS_CD_2           2570\n",
       "ICD9_DGNS_CD_3           6490\n",
       "ICD9_DGNS_CD_4          13728\n",
       "ICD9_DGNS_CD_5          25297\n",
       "ICD9_DGNS_CD_6          41334\n",
       "ICD9_DGNS_CD_7          61051\n",
       "ICD9_DGNS_CD_8          83341\n",
       "ICD9_DGNS_CD_9         107388\n",
       "dtype: int64"
      ]
     },
     "metadata": {},
     "execution_count": 42
    }
   ],
   "source": [
    "data_inpatient_claims[diagnosis_code].isna().sum()"
   ]
  },
  {
   "cell_type": "code",
   "execution_count": 43,
   "metadata": {},
   "outputs": [],
   "source": [
    "diagnosis_code_df = pd.DataFrame()\n",
    "for col in diagnosis_code:\n",
    "    diagnosis_code_df = pd.concat([diagnosis_code_df, pd.DataFrame(data_inpatient_claims[col].values)], axis=0)"
   ]
  },
  {
   "cell_type": "code",
   "execution_count": 44,
   "metadata": {},
   "outputs": [
    {
     "output_type": "execute_result",
     "data": {
      "text/plain": [
       "    Diagnosis_code\n",
       "0              V57\n",
       "1              431\n",
       "2              780\n",
       "3              783\n",
       "4              578\n",
       "..             ...\n",
       "928            219\n",
       "929            129\n",
       "930            084\n",
       "931            V73\n",
       "932            798\n",
       "\n",
       "[933 rows x 1 columns]"
      ],
      "text/html": "<div>\n<style scoped>\n    .dataframe tbody tr th:only-of-type {\n        vertical-align: middle;\n    }\n\n    .dataframe tbody tr th {\n        vertical-align: top;\n    }\n\n    .dataframe thead th {\n        text-align: right;\n    }\n</style>\n<table border=\"1\" class=\"dataframe\">\n  <thead>\n    <tr style=\"text-align: right;\">\n      <th></th>\n      <th>Diagnosis_code</th>\n    </tr>\n  </thead>\n  <tbody>\n    <tr>\n      <th>0</th>\n      <td>V57</td>\n    </tr>\n    <tr>\n      <th>1</th>\n      <td>431</td>\n    </tr>\n    <tr>\n      <th>2</th>\n      <td>780</td>\n    </tr>\n    <tr>\n      <th>3</th>\n      <td>783</td>\n    </tr>\n    <tr>\n      <th>4</th>\n      <td>578</td>\n    </tr>\n    <tr>\n      <th>...</th>\n      <td>...</td>\n    </tr>\n    <tr>\n      <th>928</th>\n      <td>219</td>\n    </tr>\n    <tr>\n      <th>929</th>\n      <td>129</td>\n    </tr>\n    <tr>\n      <th>930</th>\n      <td>084</td>\n    </tr>\n    <tr>\n      <th>931</th>\n      <td>V73</td>\n    </tr>\n    <tr>\n      <th>932</th>\n      <td>798</td>\n    </tr>\n  </tbody>\n</table>\n<p>933 rows × 1 columns</p>\n</div>"
     },
     "metadata": {},
     "execution_count": 44
    }
   ],
   "source": [
    "unique_diagnosis_code = pd.DataFrame(diagnosis_code_df[0].unique(), columns=['Diagnosis_code'])\n",
    "unique_diagnosis_code"
   ]
  },
  {
   "cell_type": "code",
   "execution_count": 45,
   "metadata": {
    "tags": []
   },
   "outputs": [],
   "source": [
    "def categorize_diagnosis_code (icd_diagnosis_code):\n",
    "    if pd.isnull(icd_diagnosis_code) :\n",
    "        return np.nan\n",
    "    elif \"E\" in str(icd_diagnosis_code):\n",
    "        return \"E000-E999\"\n",
    "    elif \"V\" in str(icd_diagnosis_code):\n",
    "        return \"V01-V91\"\n",
    "    elif \"OTH\" in str(icd_diagnosis_code):\n",
    "        return \"OTHER\"\n",
    "    else:\n",
    "        for lower, upper in icd_diagnosis_code_bin[ : -2]:\n",
    "            if all([icd_diagnosis_code.isnumeric(), lower.isnumeric(), upper.isnumeric()]) & (lower <= icd_diagnosis_code <= upper):\n",
    "                return f'{lower}-{upper}'"
   ]
  },
  {
   "cell_type": "code",
   "execution_count": 46,
   "metadata": {
    "tags": []
   },
   "outputs": [],
   "source": [
    "unique_diagnosis_code[\"Diagnosis_code_CAT\"] = unique_diagnosis_code[\"Diagnosis_code\"].apply(categorize_diagnosis_code)"
   ]
  },
  {
   "cell_type": "code",
   "execution_count": 47,
   "metadata": {},
   "outputs": [
    {
     "output_type": "execute_result",
     "data": {
      "text/plain": [
       "    Diagnosis_code Diagnosis_code_CAT\n",
       "0              V57            V01-V91\n",
       "1              431            390-459\n",
       "2              780            780-799\n",
       "3              783            780-799\n",
       "4              578            520-579\n",
       "..             ...                ...\n",
       "928            219            140-239\n",
       "929            129            001-139\n",
       "930            084            001-139\n",
       "931            V73            V01-V91\n",
       "932            798            780-799\n",
       "\n",
       "[933 rows x 2 columns]"
      ],
      "text/html": "<div>\n<style scoped>\n    .dataframe tbody tr th:only-of-type {\n        vertical-align: middle;\n    }\n\n    .dataframe tbody tr th {\n        vertical-align: top;\n    }\n\n    .dataframe thead th {\n        text-align: right;\n    }\n</style>\n<table border=\"1\" class=\"dataframe\">\n  <thead>\n    <tr style=\"text-align: right;\">\n      <th></th>\n      <th>Diagnosis_code</th>\n      <th>Diagnosis_code_CAT</th>\n    </tr>\n  </thead>\n  <tbody>\n    <tr>\n      <th>0</th>\n      <td>V57</td>\n      <td>V01-V91</td>\n    </tr>\n    <tr>\n      <th>1</th>\n      <td>431</td>\n      <td>390-459</td>\n    </tr>\n    <tr>\n      <th>2</th>\n      <td>780</td>\n      <td>780-799</td>\n    </tr>\n    <tr>\n      <th>3</th>\n      <td>783</td>\n      <td>780-799</td>\n    </tr>\n    <tr>\n      <th>4</th>\n      <td>578</td>\n      <td>520-579</td>\n    </tr>\n    <tr>\n      <th>...</th>\n      <td>...</td>\n      <td>...</td>\n    </tr>\n    <tr>\n      <th>928</th>\n      <td>219</td>\n      <td>140-239</td>\n    </tr>\n    <tr>\n      <th>929</th>\n      <td>129</td>\n      <td>001-139</td>\n    </tr>\n    <tr>\n      <th>930</th>\n      <td>084</td>\n      <td>001-139</td>\n    </tr>\n    <tr>\n      <th>931</th>\n      <td>V73</td>\n      <td>V01-V91</td>\n    </tr>\n    <tr>\n      <th>932</th>\n      <td>798</td>\n      <td>780-799</td>\n    </tr>\n  </tbody>\n</table>\n<p>933 rows × 2 columns</p>\n</div>"
     },
     "metadata": {},
     "execution_count": 47
    }
   ],
   "source": [
    "unique_diagnosis_code"
   ]
  },
  {
   "cell_type": "code",
   "execution_count": 48,
   "metadata": {},
   "outputs": [],
   "source": [
    "for cols in diagnosis_code:\n",
    "    data_inpatient_claims[f'{cols}_CAT'] = pd.merge(left=data_inpatient_claims, right=unique_diagnosis_code, left_on=cols, right_on=\"Diagnosis_code\", how='left')['Diagnosis_code_CAT']"
   ]
  },
  {
   "cell_type": "code",
   "execution_count": 49,
   "metadata": {},
   "outputs": [],
   "source": [
    "diagnosis_code_cat = [col for col in data_inpatient_claims.columns if \"CAT\" in col]"
   ]
  },
  {
   "cell_type": "code",
   "execution_count": 50,
   "metadata": {},
   "outputs": [
    {
     "output_type": "execute_result",
     "data": {
      "text/plain": [
       "       ADMTNG_ICD9_DGNS_CD ICD9_DGNS_CD_1 ICD9_DGNS_CD_2 ICD9_DGNS_CD_3  \\\n",
       "0                      V57            V57            511            263   \n",
       "1                      431            434            276            784   \n",
       "2                      780            599            038            041   \n",
       "3                      783            042            305            344   \n",
       "4                      578            578            553            496   \n",
       "...                    ...            ...            ...            ...   \n",
       "333275                 721            724            278            V45   \n",
       "333276                 852            438            716            253   \n",
       "333277                 434            434            300            427   \n",
       "333278                 486            486            250            240   \n",
       "333279                 569            578            280            NaN   \n",
       "\n",
       "       ICD9_DGNS_CD_4 ICD9_DGNS_CD_5 ICD9_DGNS_CD_6 ICD9_DGNS_CD_7  \\\n",
       "0                 403            342            790            438   \n",
       "1                 327            V10            425            250   \n",
       "2                 414            402            305            787   \n",
       "3                 585            427            486            511   \n",
       "4                 V42            403            285            599   \n",
       "...               ...            ...            ...            ...   \n",
       "333275            596            724            722            585   \n",
       "333276            293            250            272            244   \n",
       "333277            784            426            V14            496   \n",
       "333278            494            438            707            412   \n",
       "333279            NaN            NaN            NaN            NaN   \n",
       "\n",
       "       ICD9_DGNS_CD_8 ICD9_DGNS_CD_9  ... ADMTNG_ICD9_DGNS_CD_CAT  \\\n",
       "0                 V54            278  ...                 V01-V91   \n",
       "1                 403            401  ...                 390-459   \n",
       "2                 340            709  ...                 780-799   \n",
       "3                 296            203  ...                 780-799   \n",
       "4                 570            410  ...                 520-579   \n",
       "...               ...            ...  ...                     ...   \n",
       "333275            V43            NaN  ...                 710-739   \n",
       "333276            333            NaN  ...                 800-999   \n",
       "333277            401            250  ...                 390-459   \n",
       "333278            281            V06  ...                 460-519   \n",
       "333279            NaN            NaN  ...                 520-579   \n",
       "\n",
       "       ICD9_DGNS_CD_1_CAT ICD9_DGNS_CD_2_CAT ICD9_DGNS_CD_3_CAT  \\\n",
       "0                 V01-V91            460-519            240-279   \n",
       "1                 390-459            240-279            780-799   \n",
       "2                 580-629            001-139            001-139   \n",
       "3                 001-139            290-319            320-389   \n",
       "4                 520-579            520-579            460-519   \n",
       "...                   ...                ...                ...   \n",
       "333275            710-739            240-279            V01-V91   \n",
       "333276            390-459            710-739            240-279   \n",
       "333277            390-459            290-319            390-459   \n",
       "333278            460-519            240-279            240-279   \n",
       "333279            520-579            280-289                NaN   \n",
       "\n",
       "       ICD9_DGNS_CD_4_CAT ICD9_DGNS_CD_5_CAT ICD9_DGNS_CD_6_CAT  \\\n",
       "0                 390-459            320-389            780-799   \n",
       "1                 320-389            V01-V91            390-459   \n",
       "2                 390-459            390-459            290-319   \n",
       "3                 580-629            390-459            460-519   \n",
       "4                 V01-V91            390-459            280-289   \n",
       "...                   ...                ...                ...   \n",
       "333275            580-629            710-739            710-739   \n",
       "333276            290-319            240-279            240-279   \n",
       "333277            780-799            390-459            V01-V91   \n",
       "333278            460-519            390-459            680-709   \n",
       "333279                NaN                NaN                NaN   \n",
       "\n",
       "       ICD9_DGNS_CD_7_CAT ICD9_DGNS_CD_8_CAT ICD9_DGNS_CD_9_CAT  \n",
       "0                 390-459            V01-V91            240-279  \n",
       "1                 240-279            390-459            390-459  \n",
       "2                 780-799            320-389            680-709  \n",
       "3                 460-519            290-319            140-239  \n",
       "4                 580-629            520-579            390-459  \n",
       "...                   ...                ...                ...  \n",
       "333275            580-629            V01-V91                NaN  \n",
       "333276            240-279            320-389                NaN  \n",
       "333277            460-519            390-459            240-279  \n",
       "333278            390-459            280-289            V01-V91  \n",
       "333279                NaN                NaN                NaN  \n",
       "\n",
       "[333280 rows x 21 columns]"
      ],
      "text/html": "<div>\n<style scoped>\n    .dataframe tbody tr th:only-of-type {\n        vertical-align: middle;\n    }\n\n    .dataframe tbody tr th {\n        vertical-align: top;\n    }\n\n    .dataframe thead th {\n        text-align: right;\n    }\n</style>\n<table border=\"1\" class=\"dataframe\">\n  <thead>\n    <tr style=\"text-align: right;\">\n      <th></th>\n      <th>ADMTNG_ICD9_DGNS_CD</th>\n      <th>ICD9_DGNS_CD_1</th>\n      <th>ICD9_DGNS_CD_2</th>\n      <th>ICD9_DGNS_CD_3</th>\n      <th>ICD9_DGNS_CD_4</th>\n      <th>ICD9_DGNS_CD_5</th>\n      <th>ICD9_DGNS_CD_6</th>\n      <th>ICD9_DGNS_CD_7</th>\n      <th>ICD9_DGNS_CD_8</th>\n      <th>ICD9_DGNS_CD_9</th>\n      <th>...</th>\n      <th>ADMTNG_ICD9_DGNS_CD_CAT</th>\n      <th>ICD9_DGNS_CD_1_CAT</th>\n      <th>ICD9_DGNS_CD_2_CAT</th>\n      <th>ICD9_DGNS_CD_3_CAT</th>\n      <th>ICD9_DGNS_CD_4_CAT</th>\n      <th>ICD9_DGNS_CD_5_CAT</th>\n      <th>ICD9_DGNS_CD_6_CAT</th>\n      <th>ICD9_DGNS_CD_7_CAT</th>\n      <th>ICD9_DGNS_CD_8_CAT</th>\n      <th>ICD9_DGNS_CD_9_CAT</th>\n    </tr>\n  </thead>\n  <tbody>\n    <tr>\n      <th>0</th>\n      <td>V57</td>\n      <td>V57</td>\n      <td>511</td>\n      <td>263</td>\n      <td>403</td>\n      <td>342</td>\n      <td>790</td>\n      <td>438</td>\n      <td>V54</td>\n      <td>278</td>\n      <td>...</td>\n      <td>V01-V91</td>\n      <td>V01-V91</td>\n      <td>460-519</td>\n      <td>240-279</td>\n      <td>390-459</td>\n      <td>320-389</td>\n      <td>780-799</td>\n      <td>390-459</td>\n      <td>V01-V91</td>\n      <td>240-279</td>\n    </tr>\n    <tr>\n      <th>1</th>\n      <td>431</td>\n      <td>434</td>\n      <td>276</td>\n      <td>784</td>\n      <td>327</td>\n      <td>V10</td>\n      <td>425</td>\n      <td>250</td>\n      <td>403</td>\n      <td>401</td>\n      <td>...</td>\n      <td>390-459</td>\n      <td>390-459</td>\n      <td>240-279</td>\n      <td>780-799</td>\n      <td>320-389</td>\n      <td>V01-V91</td>\n      <td>390-459</td>\n      <td>240-279</td>\n      <td>390-459</td>\n      <td>390-459</td>\n    </tr>\n    <tr>\n      <th>2</th>\n      <td>780</td>\n      <td>599</td>\n      <td>038</td>\n      <td>041</td>\n      <td>414</td>\n      <td>402</td>\n      <td>305</td>\n      <td>787</td>\n      <td>340</td>\n      <td>709</td>\n      <td>...</td>\n      <td>780-799</td>\n      <td>580-629</td>\n      <td>001-139</td>\n      <td>001-139</td>\n      <td>390-459</td>\n      <td>390-459</td>\n      <td>290-319</td>\n      <td>780-799</td>\n      <td>320-389</td>\n      <td>680-709</td>\n    </tr>\n    <tr>\n      <th>3</th>\n      <td>783</td>\n      <td>042</td>\n      <td>305</td>\n      <td>344</td>\n      <td>585</td>\n      <td>427</td>\n      <td>486</td>\n      <td>511</td>\n      <td>296</td>\n      <td>203</td>\n      <td>...</td>\n      <td>780-799</td>\n      <td>001-139</td>\n      <td>290-319</td>\n      <td>320-389</td>\n      <td>580-629</td>\n      <td>390-459</td>\n      <td>460-519</td>\n      <td>460-519</td>\n      <td>290-319</td>\n      <td>140-239</td>\n    </tr>\n    <tr>\n      <th>4</th>\n      <td>578</td>\n      <td>578</td>\n      <td>553</td>\n      <td>496</td>\n      <td>V42</td>\n      <td>403</td>\n      <td>285</td>\n      <td>599</td>\n      <td>570</td>\n      <td>410</td>\n      <td>...</td>\n      <td>520-579</td>\n      <td>520-579</td>\n      <td>520-579</td>\n      <td>460-519</td>\n      <td>V01-V91</td>\n      <td>390-459</td>\n      <td>280-289</td>\n      <td>580-629</td>\n      <td>520-579</td>\n      <td>390-459</td>\n    </tr>\n    <tr>\n      <th>...</th>\n      <td>...</td>\n      <td>...</td>\n      <td>...</td>\n      <td>...</td>\n      <td>...</td>\n      <td>...</td>\n      <td>...</td>\n      <td>...</td>\n      <td>...</td>\n      <td>...</td>\n      <td>...</td>\n      <td>...</td>\n      <td>...</td>\n      <td>...</td>\n      <td>...</td>\n      <td>...</td>\n      <td>...</td>\n      <td>...</td>\n      <td>...</td>\n      <td>...</td>\n      <td>...</td>\n    </tr>\n    <tr>\n      <th>333275</th>\n      <td>721</td>\n      <td>724</td>\n      <td>278</td>\n      <td>V45</td>\n      <td>596</td>\n      <td>724</td>\n      <td>722</td>\n      <td>585</td>\n      <td>V43</td>\n      <td>NaN</td>\n      <td>...</td>\n      <td>710-739</td>\n      <td>710-739</td>\n      <td>240-279</td>\n      <td>V01-V91</td>\n      <td>580-629</td>\n      <td>710-739</td>\n      <td>710-739</td>\n      <td>580-629</td>\n      <td>V01-V91</td>\n      <td>NaN</td>\n    </tr>\n    <tr>\n      <th>333276</th>\n      <td>852</td>\n      <td>438</td>\n      <td>716</td>\n      <td>253</td>\n      <td>293</td>\n      <td>250</td>\n      <td>272</td>\n      <td>244</td>\n      <td>333</td>\n      <td>NaN</td>\n      <td>...</td>\n      <td>800-999</td>\n      <td>390-459</td>\n      <td>710-739</td>\n      <td>240-279</td>\n      <td>290-319</td>\n      <td>240-279</td>\n      <td>240-279</td>\n      <td>240-279</td>\n      <td>320-389</td>\n      <td>NaN</td>\n    </tr>\n    <tr>\n      <th>333277</th>\n      <td>434</td>\n      <td>434</td>\n      <td>300</td>\n      <td>427</td>\n      <td>784</td>\n      <td>426</td>\n      <td>V14</td>\n      <td>496</td>\n      <td>401</td>\n      <td>250</td>\n      <td>...</td>\n      <td>390-459</td>\n      <td>390-459</td>\n      <td>290-319</td>\n      <td>390-459</td>\n      <td>780-799</td>\n      <td>390-459</td>\n      <td>V01-V91</td>\n      <td>460-519</td>\n      <td>390-459</td>\n      <td>240-279</td>\n    </tr>\n    <tr>\n      <th>333278</th>\n      <td>486</td>\n      <td>486</td>\n      <td>250</td>\n      <td>240</td>\n      <td>494</td>\n      <td>438</td>\n      <td>707</td>\n      <td>412</td>\n      <td>281</td>\n      <td>V06</td>\n      <td>...</td>\n      <td>460-519</td>\n      <td>460-519</td>\n      <td>240-279</td>\n      <td>240-279</td>\n      <td>460-519</td>\n      <td>390-459</td>\n      <td>680-709</td>\n      <td>390-459</td>\n      <td>280-289</td>\n      <td>V01-V91</td>\n    </tr>\n    <tr>\n      <th>333279</th>\n      <td>569</td>\n      <td>578</td>\n      <td>280</td>\n      <td>NaN</td>\n      <td>NaN</td>\n      <td>NaN</td>\n      <td>NaN</td>\n      <td>NaN</td>\n      <td>NaN</td>\n      <td>NaN</td>\n      <td>...</td>\n      <td>520-579</td>\n      <td>520-579</td>\n      <td>280-289</td>\n      <td>NaN</td>\n      <td>NaN</td>\n      <td>NaN</td>\n      <td>NaN</td>\n      <td>NaN</td>\n      <td>NaN</td>\n      <td>NaN</td>\n    </tr>\n  </tbody>\n</table>\n<p>333280 rows × 21 columns</p>\n</div>"
     },
     "metadata": {},
     "execution_count": 50
    }
   ],
   "source": [
    "data_inpatient_claims[diagnosis_code + diagnosis_code_cat]"
   ]
  },
  {
   "cell_type": "markdown",
   "metadata": {},
   "source": [
    "# Processing the ICD9 Procedural code"
   ]
  },
  {
   "cell_type": "markdown",
   "metadata": {},
   "source": [
    "> Slicing all the icd_procedural_code columns to only first two character\n",
    "\n",
    "> Creating a list of the upper and lower value of each categories \n",
    "\n",
    "> Creating a new dataframe to store all the unique icd9 procedural code in the dataset\n",
    "\n",
    "> Apply function to create categories for all the unique icd9 procedure code\n",
    "\n",
    "> Merge the categories into the original dataset using left join"
   ]
  },
  {
   "cell_type": "code",
   "execution_count": 51,
   "metadata": {},
   "outputs": [],
   "source": [
    "data_inpatient_claims.loc[ : , icd_procedural_code] = data_inpatient_claims.loc[ :, icd_procedural_code].astype('str')\n",
    "\n",
    "for col in icd_procedural_code:\n",
    "    data_inpatient_claims.loc[data_inpatient_claims[col].str.contains('nan'), icd_procedural_code] = np.nan"
   ]
  },
  {
   "cell_type": "code",
   "execution_count": 52,
   "metadata": {},
   "outputs": [],
   "source": [
    "procedural_code_mapping = pd.read_csv(config[1][\"icd9_procedure_code_category_file\"], encoding='utf-8')"
   ]
  },
  {
   "cell_type": "code",
   "execution_count": 53,
   "metadata": {},
   "outputs": [
    {
     "output_type": "execute_result",
     "data": {
      "text/plain": [
       "9904.0    0.028589\n",
       "8154.0    0.024205\n",
       "3893.0    0.022201\n",
       "66.0      0.020982\n",
       "3995.0    0.019707\n",
       "            ...   \n",
       "5069.0    0.000003\n",
       "3493.0    0.000003\n",
       "6991.0    0.000003\n",
       "1091.0    0.000003\n",
       "4551.0    0.000003\n",
       "Name: ICD9_PRCDR_CD_1, Length: 1860, dtype: float64"
      ]
     },
     "metadata": {},
     "execution_count": 53
    }
   ],
   "source": [
    "data_inpatient_claims['ICD9_PRCDR_CD_1'].value_counts()/data_inpatient_claims.shape[0]"
   ]
  },
  {
   "cell_type": "code",
   "execution_count": 54,
   "metadata": {},
   "outputs": [
    {
     "output_type": "execute_result",
     "data": {
      "text/plain": [
       "   Code Range                                        Description\n",
       "0      00-00   Procedures And Interventions , Not Elsewhere C...\n",
       "1      01-05                    Operations On The Nervous System\n",
       "2      06-07                  Operations On The Endocrine System\n",
       "3      08-16                               Operations On The Eye\n",
       "4      17-17   Other Miscellaneous Diagnostic And Therapeutic...\n",
       "5      18-20                               Operations On The Ear\n",
       "6      21-29          Operations On The Nose, Mouth, And Pharynx\n",
       "7      30-34                Operations On The Respiratory System\n",
       "8      35-39             Operations On The Cardiovascular System\n",
       "9      40-41        Operations On The Hemic And Lymphatic System\n",
       "10     42-54                  Operations On The Digestive System\n",
       "11     55-59                    Operations On The Urinary System\n",
       "12     60-64               Operations On The Male Genital Organs\n",
       "13     65-71             Operations On The Female Genital Organs\n",
       "14     72-75                              Obstetrical Procedures\n",
       "15     76-84            Operations On The Musculoskeletal System\n",
       "16     85-86              Operations On The Integumentary System\n",
       "17     87-99   Miscellaneous Diagnostic And Therapeutic Proce..."
      ],
      "text/html": "<div>\n<style scoped>\n    .dataframe tbody tr th:only-of-type {\n        vertical-align: middle;\n    }\n\n    .dataframe tbody tr th {\n        vertical-align: top;\n    }\n\n    .dataframe thead th {\n        text-align: right;\n    }\n</style>\n<table border=\"1\" class=\"dataframe\">\n  <thead>\n    <tr style=\"text-align: right;\">\n      <th></th>\n      <th>Code Range</th>\n      <th>Description</th>\n    </tr>\n  </thead>\n  <tbody>\n    <tr>\n      <th>0</th>\n      <td>00-00</td>\n      <td>Procedures And Interventions , Not Elsewhere C...</td>\n    </tr>\n    <tr>\n      <th>1</th>\n      <td>01-05</td>\n      <td>Operations On The Nervous System</td>\n    </tr>\n    <tr>\n      <th>2</th>\n      <td>06-07</td>\n      <td>Operations On The Endocrine System</td>\n    </tr>\n    <tr>\n      <th>3</th>\n      <td>08-16</td>\n      <td>Operations On The Eye</td>\n    </tr>\n    <tr>\n      <th>4</th>\n      <td>17-17</td>\n      <td>Other Miscellaneous Diagnostic And Therapeutic...</td>\n    </tr>\n    <tr>\n      <th>5</th>\n      <td>18-20</td>\n      <td>Operations On The Ear</td>\n    </tr>\n    <tr>\n      <th>6</th>\n      <td>21-29</td>\n      <td>Operations On The Nose, Mouth, And Pharynx</td>\n    </tr>\n    <tr>\n      <th>7</th>\n      <td>30-34</td>\n      <td>Operations On The Respiratory System</td>\n    </tr>\n    <tr>\n      <th>8</th>\n      <td>35-39</td>\n      <td>Operations On The Cardiovascular System</td>\n    </tr>\n    <tr>\n      <th>9</th>\n      <td>40-41</td>\n      <td>Operations On The Hemic And Lymphatic System</td>\n    </tr>\n    <tr>\n      <th>10</th>\n      <td>42-54</td>\n      <td>Operations On The Digestive System</td>\n    </tr>\n    <tr>\n      <th>11</th>\n      <td>55-59</td>\n      <td>Operations On The Urinary System</td>\n    </tr>\n    <tr>\n      <th>12</th>\n      <td>60-64</td>\n      <td>Operations On The Male Genital Organs</td>\n    </tr>\n    <tr>\n      <th>13</th>\n      <td>65-71</td>\n      <td>Operations On The Female Genital Organs</td>\n    </tr>\n    <tr>\n      <th>14</th>\n      <td>72-75</td>\n      <td>Obstetrical Procedures</td>\n    </tr>\n    <tr>\n      <th>15</th>\n      <td>76-84</td>\n      <td>Operations On The Musculoskeletal System</td>\n    </tr>\n    <tr>\n      <th>16</th>\n      <td>85-86</td>\n      <td>Operations On The Integumentary System</td>\n    </tr>\n    <tr>\n      <th>17</th>\n      <td>87-99</td>\n      <td>Miscellaneous Diagnostic And Therapeutic Proce...</td>\n    </tr>\n  </tbody>\n</table>\n</div>"
     },
     "metadata": {},
     "execution_count": 54
    }
   ],
   "source": [
    "procedural_code_mapping"
   ]
  },
  {
   "cell_type": "code",
   "execution_count": 55,
   "metadata": {},
   "outputs": [],
   "source": [
    "icd_procedure_code_bin = [x for x in procedural_code_mapping['Code Range'].str.strip().str.split(\"-\")]\n",
    "icd_procedure_code_categories = icd_code_categories['Code Range'].tolist()"
   ]
  },
  {
   "cell_type": "code",
   "execution_count": 56,
   "metadata": {},
   "outputs": [
    {
     "output_type": "execute_result",
     "data": {
      "text/plain": [
       "[['00', '00'],\n",
       " ['01', '05'],\n",
       " ['06', '07'],\n",
       " ['08', '16'],\n",
       " ['17', '17'],\n",
       " ['18', '20'],\n",
       " ['21', '29'],\n",
       " ['30', '34'],\n",
       " ['35', '39'],\n",
       " ['40', '41'],\n",
       " ['42', '54'],\n",
       " ['55', '59'],\n",
       " ['60', '64'],\n",
       " ['65', '71'],\n",
       " ['72', '75'],\n",
       " ['76', '84'],\n",
       " ['85', '86'],\n",
       " ['87', '99']]"
      ]
     },
     "metadata": {},
     "execution_count": 56
    }
   ],
   "source": [
    "icd_procedure_code_bin"
   ]
  },
  {
   "cell_type": "code",
   "execution_count": 57,
   "metadata": {},
   "outputs": [],
   "source": [
    "for col in icd_procedural_code:\n",
    "    data_inpatient_claims.loc[ :, col] = data_inpatient_claims.loc[ :, col].str[ : 2]"
   ]
  },
  {
   "cell_type": "code",
   "execution_count": 58,
   "metadata": {},
   "outputs": [],
   "source": [
    "procedure_code_df = pd.DataFrame()\n",
    "for col in icd_procedural_code:\n",
    "    procedure_code_df = pd.concat([procedure_code_df, pd.DataFrame(data_inpatient_claims[col].values)], axis=0)"
   ]
  },
  {
   "cell_type": "code",
   "execution_count": 59,
   "metadata": {},
   "outputs": [
    {
     "output_type": "execute_result",
     "data": {
      "text/plain": [
       "   Procedure_code\n",
       "0             NaN\n",
       "1              33\n",
       "2              38\n",
       "3              44\n",
       "4              39\n",
       "..            ...\n",
       "86             67\n",
       "87             26\n",
       "88             19\n",
       "89             90\n",
       "90             95\n",
       "\n",
       "[91 rows x 1 columns]"
      ],
      "text/html": "<div>\n<style scoped>\n    .dataframe tbody tr th:only-of-type {\n        vertical-align: middle;\n    }\n\n    .dataframe tbody tr th {\n        vertical-align: top;\n    }\n\n    .dataframe thead th {\n        text-align: right;\n    }\n</style>\n<table border=\"1\" class=\"dataframe\">\n  <thead>\n    <tr style=\"text-align: right;\">\n      <th></th>\n      <th>Procedure_code</th>\n    </tr>\n  </thead>\n  <tbody>\n    <tr>\n      <th>0</th>\n      <td>NaN</td>\n    </tr>\n    <tr>\n      <th>1</th>\n      <td>33</td>\n    </tr>\n    <tr>\n      <th>2</th>\n      <td>38</td>\n    </tr>\n    <tr>\n      <th>3</th>\n      <td>44</td>\n    </tr>\n    <tr>\n      <th>4</th>\n      <td>39</td>\n    </tr>\n    <tr>\n      <th>...</th>\n      <td>...</td>\n    </tr>\n    <tr>\n      <th>86</th>\n      <td>67</td>\n    </tr>\n    <tr>\n      <th>87</th>\n      <td>26</td>\n    </tr>\n    <tr>\n      <th>88</th>\n      <td>19</td>\n    </tr>\n    <tr>\n      <th>89</th>\n      <td>90</td>\n    </tr>\n    <tr>\n      <th>90</th>\n      <td>95</td>\n    </tr>\n  </tbody>\n</table>\n<p>91 rows × 1 columns</p>\n</div>"
     },
     "metadata": {},
     "execution_count": 59
    }
   ],
   "source": [
    "unique_procedure_code = pd.DataFrame(procedure_code_df[0].unique(), columns=['Procedure_code'])\n",
    "unique_procedure_code"
   ]
  },
  {
   "cell_type": "code",
   "execution_count": 60,
   "metadata": {},
   "outputs": [],
   "source": [
    "def categorize_procedure_code(procedure_code):\n",
    "    if pd.isnull(procedure_code) :\n",
    "        return np.nan\n",
    "    else :\n",
    "        for lower, upper in icd_procedure_code_bin:\n",
    "            if (lower <= procedure_code <= upper):\n",
    "                return f'{lower}-{upper}'"
   ]
  },
  {
   "cell_type": "code",
   "execution_count": 61,
   "metadata": {},
   "outputs": [],
   "source": [
    "unique_procedure_code.loc[ : , \"Procedure_code_CAT\"] = unique_procedure_code[\"Procedure_code\"].apply(lambda x : categorize_procedure_code(x))"
   ]
  },
  {
   "cell_type": "code",
   "execution_count": 62,
   "metadata": {},
   "outputs": [],
   "source": [
    "for col in icd_procedural_code:\n",
    "    data_inpatient_claims[f'{col}_CAT'] = pd.merge(left=data_inpatient_claims, right=unique_procedure_code, left_on=col, right_on=\"Procedure_code\", how='left')['Procedure_code_CAT']"
   ]
  },
  {
   "cell_type": "code",
   "execution_count": 63,
   "metadata": {},
   "outputs": [
    {
     "output_type": "execute_result",
     "data": {
      "text/plain": [
       "NaN      143075\n",
       "87-99     48406\n",
       "35-39     40885\n",
       "76-84     31833\n",
       "42-54     30802\n",
       "65-71      9941\n",
       "30-34      9697\n",
       "85-86      5942\n",
       "55-59      5409\n",
       "60-64      2456\n",
       "40-41      1288\n",
       "08-16      1201\n",
       "21-29      1053\n",
       "17-17       696\n",
       "72-75       493\n",
       "18-20       103\n",
       "Name: ICD9_PRCDR_CD_1_CAT, dtype: int64"
      ]
     },
     "metadata": {},
     "execution_count": 63
    }
   ],
   "source": [
    "data_inpatient_claims['ICD9_PRCDR_CD_1_CAT'].value_counts(dropna=False)"
   ]
  },
  {
   "cell_type": "markdown",
   "metadata": {},
   "source": [
    "# Creating Year column"
   ]
  },
  {
   "cell_type": "code",
   "execution_count": 64,
   "metadata": {},
   "outputs": [],
   "source": [
    "data_inpatient_claims.loc[ : , 'CLAIM_YEAR'] = data_inpatient_claims['CLM_ADMSN_DT'].dt.year"
   ]
  },
  {
   "cell_type": "markdown",
   "metadata": {},
   "source": [
    "# Selecting disease category"
   ]
  },
  {
   "cell_type": "markdown",
   "metadata": {},
   "source": [
    "> selecting rows that contain the disease category in any one of the icd1-icd9 column\n",
    "\n",
    "> finding the readmission count for the disease category\n",
    "\n",
    "> the category with most balanced class proportion is selected for further analysis"
   ]
  },
  {
   "cell_type": "code",
   "execution_count": 65,
   "metadata": {
    "tags": []
   },
   "outputs": [
    {
     "output_type": "stream",
     "name": "stdout",
     "text": [
      "************************************************** 001-139 **************************************************\n",
      "0    54000\n",
      "1     1783\n",
      "Name: Readmission_within_30days, dtype: int64\n",
      "0    0.968037\n",
      "1    0.031963\n",
      "Name: Readmission_within_30days, dtype: float64\n",
      "************************************************** 140-239 **************************************************\n",
      "0    47653\n",
      "1     1235\n",
      "Name: Readmission_within_30days, dtype: int64\n",
      "0    0.974738\n",
      "1    0.025262\n",
      "Name: Readmission_within_30days, dtype: float64\n",
      "************************************************** 240-279 **************************************************\n",
      "0    209021\n",
      "1     21287\n",
      "Name: Readmission_within_30days, dtype: int64\n",
      "0    0.907572\n",
      "1    0.092428\n",
      "Name: Readmission_within_30days, dtype: float64\n",
      "************************************************** 280-289 **************************************************\n",
      "0    77553\n",
      "1     2900\n",
      "Name: Readmission_within_30days, dtype: int64\n",
      "0    0.963954\n",
      "1    0.036046\n",
      "Name: Readmission_within_30days, dtype: float64\n",
      "************************************************** 290-319 **************************************************\n",
      "0    103182\n",
      "1      5040\n",
      "Name: Readmission_within_30days, dtype: int64\n",
      "0    0.953429\n",
      "1    0.046571\n",
      "Name: Readmission_within_30days, dtype: float64\n",
      "************************************************** 320-389 **************************************************\n",
      "0    87184\n",
      "1     3484\n",
      "Name: Readmission_within_30days, dtype: int64\n",
      "0    0.961574\n",
      "1    0.038426\n",
      "Name: Readmission_within_30days, dtype: float64\n",
      "************************************************** 390-459 **************************************************\n",
      "0    247789\n",
      "1     30477\n",
      "Name: Readmission_within_30days, dtype: int64\n",
      "0    0.890475\n",
      "1    0.109525\n",
      "Name: Readmission_within_30days, dtype: float64\n",
      "************************************************** 460-519 **************************************************\n",
      "0    128598\n",
      "1      8937\n",
      "Name: Readmission_within_30days, dtype: int64\n",
      "0    0.93502\n",
      "1    0.06498\n",
      "Name: Readmission_within_30days, dtype: float64\n",
      "************************************************** 520-579 **************************************************\n",
      "0    112083\n",
      "1      5837\n",
      "Name: Readmission_within_30days, dtype: int64\n",
      "0    0.9505\n",
      "1    0.0495\n",
      "Name: Readmission_within_30days, dtype: float64\n",
      "************************************************** 580-629 **************************************************\n",
      "0    127074\n",
      "1      8452\n",
      "Name: Readmission_within_30days, dtype: int64\n",
      "0    0.937636\n",
      "1    0.062364\n",
      "Name: Readmission_within_30days, dtype: float64\n",
      "************************************************** 630-679 **************************************************\n",
      "0    413\n",
      "1      2\n",
      "Name: Readmission_within_30days, dtype: int64\n",
      "0    0.995181\n",
      "1    0.004819\n",
      "Name: Readmission_within_30days, dtype: float64\n",
      "************************************************** 680-709 **************************************************\n",
      "0    37103\n",
      "1      799\n",
      "Name: Readmission_within_30days, dtype: int64\n",
      "0    0.978919\n",
      "1    0.021081\n",
      "Name: Readmission_within_30days, dtype: float64\n",
      "************************************************** 710-739 **************************************************\n",
      "0    100667\n",
      "1      4360\n",
      "Name: Readmission_within_30days, dtype: int64\n",
      "0    0.958487\n",
      "1    0.041513\n",
      "Name: Readmission_within_30days, dtype: float64\n",
      "************************************************** 740-759 **************************************************\n",
      "0    5251\n",
      "1      16\n",
      "Name: Readmission_within_30days, dtype: int64\n",
      "0    0.996962\n",
      "1    0.003038\n",
      "Name: Readmission_within_30days, dtype: float64\n",
      "************************************************** 760-779 **************************************************\n",
      "0    14\n",
      "Name: Readmission_within_30days, dtype: int64\n",
      "0    1.0\n",
      "Name: Readmission_within_30days, dtype: float64\n",
      "************************************************** 780-799 **************************************************\n",
      "0    165806\n",
      "1     13046\n",
      "Name: Readmission_within_30days, dtype: int64\n",
      "0    0.927057\n",
      "1    0.072943\n",
      "Name: Readmission_within_30days, dtype: float64\n",
      "************************************************** 800-999 **************************************************\n",
      "0    72349\n",
      "1     2919\n",
      "Name: Readmission_within_30days, dtype: int64\n",
      "0    0.961219\n",
      "1    0.038781\n",
      "Name: Readmission_within_30days, dtype: float64\n",
      "************************************************** V01-V91 **************************************************\n",
      "0    153178\n",
      "1     10690\n",
      "Name: Readmission_within_30days, dtype: int64\n",
      "0    0.934765\n",
      "1    0.065235\n",
      "Name: Readmission_within_30days, dtype: float64\n",
      "************************************************** E000-E999 **************************************************\n",
      "0    34788\n",
      "1      415\n",
      "Name: Readmission_within_30days, dtype: int64\n",
      "0    0.988211\n",
      "1    0.011789\n",
      "Name: Readmission_within_30days, dtype: float64\n"
     ]
    }
   ],
   "source": [
    "for cat in icd_code_categories['Code Range']:\n",
    "    print(\"*\"*50 + \" \"+ cat + \" \" + \"*\"*50)\n",
    "    selected_data = data_inpatient_claims.loc[data_inpatient_claims[diagnosis_code_cat].isin([cat]).any(axis=1), : ]\n",
    "    selected_data.loc[ :, 'Next_CLM_ADMSN_DT'] = selected_data.groupby(\"DESYNPUF_ID\")['CLM_ADMSN_DT'].shift(-1)\n",
    "    selected_data.loc[ :, 'Readmission_Day_Count'] = (selected_data['Next_CLM_ADMSN_DT'] - selected_data['NCH_BENE_DSCHRG_DT']).apply(lambda x: x.days)\n",
    "    selected_data.loc[ :, 'Readmission_within_30days'] = (selected_data['Readmission_Day_Count'] <= 30) * 1\n",
    "    print(selected_data['Readmission_within_30days'].value_counts())\n",
    "    print(selected_data['Readmission_within_30days'].value_counts()/selected_data.shape[0])"
   ]
  },
  {
   "cell_type": "code",
   "execution_count": 66,
   "metadata": {},
   "outputs": [],
   "source": [
    "# selecting desease as 390-459 or Desease of Circulatory system since it has maximum data\n",
    "selected_icd_code = '390-459'\n",
    "selected_data = data_inpatient_claims.loc[data_inpatient_claims[diagnosis_code_cat].isin([selected_icd_code]).any(axis=1), : ].copy()"
   ]
  },
  {
   "cell_type": "markdown",
   "metadata": {},
   "source": [
    "# Generating target variable"
   ]
  },
  {
   "cell_type": "code",
   "execution_count": 67,
   "metadata": {},
   "outputs": [
    {
     "output_type": "execute_result",
     "data": {
      "text/plain": [
       "             DESYNPUF_ID           CLM_ID CLM_ADMSN_DT NCH_BENE_DSCHRG_DT\n",
       "0       0003F63CD84E54A3  444231142405155   2010-02-28         2010-03-13\n",
       "1       00052028A33302D3  444141142374839   2009-02-14         2009-02-22\n",
       "2       00052028A33302D3  444951142376293   2010-12-06         2010-12-09\n",
       "3       00068FC521692B07  444341142375840   2009-08-13         2009-08-30\n",
       "4       00068FC521692B07  444851142361650   2009-09-09         2009-09-16\n",
       "...                  ...              ...          ...                ...\n",
       "333273  FFF4B9253ABA91F9  692941107776994   2008-11-27         2008-12-02\n",
       "333274  FFF723A536AA1FED  692221107816797   2009-03-22         2009-03-25\n",
       "333276  FFF9BCBFBBA13577  692421107798494   2009-09-18         2009-09-22\n",
       "333277  FFFC8FE58F7C98A8  692131107776543   2009-05-15         2009-05-17\n",
       "333278  FFFDBF8129ED7F34  692951107803297   2010-02-09         2010-02-12\n",
       "\n",
       "[278266 rows x 4 columns]"
      ],
      "text/html": "<div>\n<style scoped>\n    .dataframe tbody tr th:only-of-type {\n        vertical-align: middle;\n    }\n\n    .dataframe tbody tr th {\n        vertical-align: top;\n    }\n\n    .dataframe thead th {\n        text-align: right;\n    }\n</style>\n<table border=\"1\" class=\"dataframe\">\n  <thead>\n    <tr style=\"text-align: right;\">\n      <th></th>\n      <th>DESYNPUF_ID</th>\n      <th>CLM_ID</th>\n      <th>CLM_ADMSN_DT</th>\n      <th>NCH_BENE_DSCHRG_DT</th>\n    </tr>\n  </thead>\n  <tbody>\n    <tr>\n      <th>0</th>\n      <td>0003F63CD84E54A3</td>\n      <td>444231142405155</td>\n      <td>2010-02-28</td>\n      <td>2010-03-13</td>\n    </tr>\n    <tr>\n      <th>1</th>\n      <td>00052028A33302D3</td>\n      <td>444141142374839</td>\n      <td>2009-02-14</td>\n      <td>2009-02-22</td>\n    </tr>\n    <tr>\n      <th>2</th>\n      <td>00052028A33302D3</td>\n      <td>444951142376293</td>\n      <td>2010-12-06</td>\n      <td>2010-12-09</td>\n    </tr>\n    <tr>\n      <th>3</th>\n      <td>00068FC521692B07</td>\n      <td>444341142375840</td>\n      <td>2009-08-13</td>\n      <td>2009-08-30</td>\n    </tr>\n    <tr>\n      <th>4</th>\n      <td>00068FC521692B07</td>\n      <td>444851142361650</td>\n      <td>2009-09-09</td>\n      <td>2009-09-16</td>\n    </tr>\n    <tr>\n      <th>...</th>\n      <td>...</td>\n      <td>...</td>\n      <td>...</td>\n      <td>...</td>\n    </tr>\n    <tr>\n      <th>333273</th>\n      <td>FFF4B9253ABA91F9</td>\n      <td>692941107776994</td>\n      <td>2008-11-27</td>\n      <td>2008-12-02</td>\n    </tr>\n    <tr>\n      <th>333274</th>\n      <td>FFF723A536AA1FED</td>\n      <td>692221107816797</td>\n      <td>2009-03-22</td>\n      <td>2009-03-25</td>\n    </tr>\n    <tr>\n      <th>333276</th>\n      <td>FFF9BCBFBBA13577</td>\n      <td>692421107798494</td>\n      <td>2009-09-18</td>\n      <td>2009-09-22</td>\n    </tr>\n    <tr>\n      <th>333277</th>\n      <td>FFFC8FE58F7C98A8</td>\n      <td>692131107776543</td>\n      <td>2009-05-15</td>\n      <td>2009-05-17</td>\n    </tr>\n    <tr>\n      <th>333278</th>\n      <td>FFFDBF8129ED7F34</td>\n      <td>692951107803297</td>\n      <td>2010-02-09</td>\n      <td>2010-02-12</td>\n    </tr>\n  </tbody>\n</table>\n<p>278266 rows × 4 columns</p>\n</div>"
     },
     "metadata": {},
     "execution_count": 67
    }
   ],
   "source": [
    "# Calculating the previous discharge date for the patient\n",
    "selected_data.loc[ : , ['DESYNPUF_ID', 'CLM_ID', 'CLM_ADMSN_DT', 'NCH_BENE_DSCHRG_DT']]\n",
    "selected_data.loc[ :, 'Next_CLM_ADMSN_DT'] = selected_data.groupby(\"DESYNPUF_ID\")['CLM_ADMSN_DT'].shift(-1)"
   ]
  },
  {
   "cell_type": "code",
   "execution_count": 68,
   "metadata": {},
   "outputs": [
    {
     "output_type": "execute_result",
     "data": {
      "text/plain": [
       "             DESYNPUF_ID           CLM_ID CLM_ADMSN_DT NCH_BENE_DSCHRG_DT  \\\n",
       "0       0003F63CD84E54A3  444231142405155   2010-02-28         2010-03-13   \n",
       "1       00052028A33302D3  444141142374839   2009-02-14         2009-02-22   \n",
       "2       00052028A33302D3  444951142376293   2010-12-06         2010-12-09   \n",
       "3       00068FC521692B07  444341142375840   2009-08-13         2009-08-30   \n",
       "4       00068FC521692B07  444851142361650   2009-09-09         2009-09-16   \n",
       "...                  ...              ...          ...                ...   \n",
       "333273  FFF4B9253ABA91F9  692941107776994   2008-11-27         2008-12-02   \n",
       "333274  FFF723A536AA1FED  692221107816797   2009-03-22         2009-03-25   \n",
       "333276  FFF9BCBFBBA13577  692421107798494   2009-09-18         2009-09-22   \n",
       "333277  FFFC8FE58F7C98A8  692131107776543   2009-05-15         2009-05-17   \n",
       "333278  FFFDBF8129ED7F34  692951107803297   2010-02-09         2010-02-12   \n",
       "\n",
       "       Next_CLM_ADMSN_DT  \n",
       "0                    NaT  \n",
       "1             2010-12-06  \n",
       "2                    NaT  \n",
       "3             2009-09-09  \n",
       "4                    NaT  \n",
       "...                  ...  \n",
       "333273               NaT  \n",
       "333274               NaT  \n",
       "333276               NaT  \n",
       "333277               NaT  \n",
       "333278               NaT  \n",
       "\n",
       "[278266 rows x 5 columns]"
      ],
      "text/html": "<div>\n<style scoped>\n    .dataframe tbody tr th:only-of-type {\n        vertical-align: middle;\n    }\n\n    .dataframe tbody tr th {\n        vertical-align: top;\n    }\n\n    .dataframe thead th {\n        text-align: right;\n    }\n</style>\n<table border=\"1\" class=\"dataframe\">\n  <thead>\n    <tr style=\"text-align: right;\">\n      <th></th>\n      <th>DESYNPUF_ID</th>\n      <th>CLM_ID</th>\n      <th>CLM_ADMSN_DT</th>\n      <th>NCH_BENE_DSCHRG_DT</th>\n      <th>Next_CLM_ADMSN_DT</th>\n    </tr>\n  </thead>\n  <tbody>\n    <tr>\n      <th>0</th>\n      <td>0003F63CD84E54A3</td>\n      <td>444231142405155</td>\n      <td>2010-02-28</td>\n      <td>2010-03-13</td>\n      <td>NaT</td>\n    </tr>\n    <tr>\n      <th>1</th>\n      <td>00052028A33302D3</td>\n      <td>444141142374839</td>\n      <td>2009-02-14</td>\n      <td>2009-02-22</td>\n      <td>2010-12-06</td>\n    </tr>\n    <tr>\n      <th>2</th>\n      <td>00052028A33302D3</td>\n      <td>444951142376293</td>\n      <td>2010-12-06</td>\n      <td>2010-12-09</td>\n      <td>NaT</td>\n    </tr>\n    <tr>\n      <th>3</th>\n      <td>00068FC521692B07</td>\n      <td>444341142375840</td>\n      <td>2009-08-13</td>\n      <td>2009-08-30</td>\n      <td>2009-09-09</td>\n    </tr>\n    <tr>\n      <th>4</th>\n      <td>00068FC521692B07</td>\n      <td>444851142361650</td>\n      <td>2009-09-09</td>\n      <td>2009-09-16</td>\n      <td>NaT</td>\n    </tr>\n    <tr>\n      <th>...</th>\n      <td>...</td>\n      <td>...</td>\n      <td>...</td>\n      <td>...</td>\n      <td>...</td>\n    </tr>\n    <tr>\n      <th>333273</th>\n      <td>FFF4B9253ABA91F9</td>\n      <td>692941107776994</td>\n      <td>2008-11-27</td>\n      <td>2008-12-02</td>\n      <td>NaT</td>\n    </tr>\n    <tr>\n      <th>333274</th>\n      <td>FFF723A536AA1FED</td>\n      <td>692221107816797</td>\n      <td>2009-03-22</td>\n      <td>2009-03-25</td>\n      <td>NaT</td>\n    </tr>\n    <tr>\n      <th>333276</th>\n      <td>FFF9BCBFBBA13577</td>\n      <td>692421107798494</td>\n      <td>2009-09-18</td>\n      <td>2009-09-22</td>\n      <td>NaT</td>\n    </tr>\n    <tr>\n      <th>333277</th>\n      <td>FFFC8FE58F7C98A8</td>\n      <td>692131107776543</td>\n      <td>2009-05-15</td>\n      <td>2009-05-17</td>\n      <td>NaT</td>\n    </tr>\n    <tr>\n      <th>333278</th>\n      <td>FFFDBF8129ED7F34</td>\n      <td>692951107803297</td>\n      <td>2010-02-09</td>\n      <td>2010-02-12</td>\n      <td>NaT</td>\n    </tr>\n  </tbody>\n</table>\n<p>278266 rows × 5 columns</p>\n</div>"
     },
     "metadata": {},
     "execution_count": 68
    }
   ],
   "source": [
    "selected_data.loc[ : , ['DESYNPUF_ID', 'CLM_ID', 'CLM_ADMSN_DT', 'NCH_BENE_DSCHRG_DT', \"Next_CLM_ADMSN_DT\"]]"
   ]
  },
  {
   "cell_type": "code",
   "execution_count": 69,
   "metadata": {},
   "outputs": [],
   "source": [
    "# Calculatings days between patient admission and the previous time the patient was discharged\n",
    "selected_data.loc[ : , 'Readmission_Day_Count'] = (selected_data['Next_CLM_ADMSN_DT'] - selected_data['NCH_BENE_DSCHRG_DT']).apply(lambda x: x.days)"
   ]
  },
  {
   "cell_type": "code",
   "execution_count": 70,
   "metadata": {},
   "outputs": [],
   "source": [
    "# if the Readmission_Day_Count <= 30, the Unplanned readmission is 1 or else 0\n",
    "selected_data.loc[ : , 'Readmission_within_30days'] = (selected_data.loc[ : , 'Readmission_Day_Count'] <= 30) * 1"
   ]
  },
  {
   "cell_type": "code",
   "execution_count": 71,
   "metadata": {},
   "outputs": [
    {
     "output_type": "execute_result",
     "data": {
      "text/plain": [
       "             DESYNPUF_ID           CLM_ID CLM_ADMSN_DT NCH_BENE_DSCHRG_DT  \\\n",
       "0       0003F63CD84E54A3  444231142405155   2010-02-28         2010-03-13   \n",
       "1       00052028A33302D3  444141142374839   2009-02-14         2009-02-22   \n",
       "2       00052028A33302D3  444951142376293   2010-12-06         2010-12-09   \n",
       "3       00068FC521692B07  444341142375840   2009-08-13         2009-08-30   \n",
       "4       00068FC521692B07  444851142361650   2009-09-09         2009-09-16   \n",
       "...                  ...              ...          ...                ...   \n",
       "333273  FFF4B9253ABA91F9  692941107776994   2008-11-27         2008-12-02   \n",
       "333274  FFF723A536AA1FED  692221107816797   2009-03-22         2009-03-25   \n",
       "333276  FFF9BCBFBBA13577  692421107798494   2009-09-18         2009-09-22   \n",
       "333277  FFFC8FE58F7C98A8  692131107776543   2009-05-15         2009-05-17   \n",
       "333278  FFFDBF8129ED7F34  692951107803297   2010-02-09         2010-02-12   \n",
       "\n",
       "       Next_CLM_ADMSN_DT  Readmission_within_30days  Readmission_Day_Count  \n",
       "0                    NaT                          0                    NaN  \n",
       "1             2010-12-06                          0                  652.0  \n",
       "2                    NaT                          0                    NaN  \n",
       "3             2009-09-09                          1                   10.0  \n",
       "4                    NaT                          0                    NaN  \n",
       "...                  ...                        ...                    ...  \n",
       "333273               NaT                          0                    NaN  \n",
       "333274               NaT                          0                    NaN  \n",
       "333276               NaT                          0                    NaN  \n",
       "333277               NaT                          0                    NaN  \n",
       "333278               NaT                          0                    NaN  \n",
       "\n",
       "[278266 rows x 7 columns]"
      ],
      "text/html": "<div>\n<style scoped>\n    .dataframe tbody tr th:only-of-type {\n        vertical-align: middle;\n    }\n\n    .dataframe tbody tr th {\n        vertical-align: top;\n    }\n\n    .dataframe thead th {\n        text-align: right;\n    }\n</style>\n<table border=\"1\" class=\"dataframe\">\n  <thead>\n    <tr style=\"text-align: right;\">\n      <th></th>\n      <th>DESYNPUF_ID</th>\n      <th>CLM_ID</th>\n      <th>CLM_ADMSN_DT</th>\n      <th>NCH_BENE_DSCHRG_DT</th>\n      <th>Next_CLM_ADMSN_DT</th>\n      <th>Readmission_within_30days</th>\n      <th>Readmission_Day_Count</th>\n    </tr>\n  </thead>\n  <tbody>\n    <tr>\n      <th>0</th>\n      <td>0003F63CD84E54A3</td>\n      <td>444231142405155</td>\n      <td>2010-02-28</td>\n      <td>2010-03-13</td>\n      <td>NaT</td>\n      <td>0</td>\n      <td>NaN</td>\n    </tr>\n    <tr>\n      <th>1</th>\n      <td>00052028A33302D3</td>\n      <td>444141142374839</td>\n      <td>2009-02-14</td>\n      <td>2009-02-22</td>\n      <td>2010-12-06</td>\n      <td>0</td>\n      <td>652.0</td>\n    </tr>\n    <tr>\n      <th>2</th>\n      <td>00052028A33302D3</td>\n      <td>444951142376293</td>\n      <td>2010-12-06</td>\n      <td>2010-12-09</td>\n      <td>NaT</td>\n      <td>0</td>\n      <td>NaN</td>\n    </tr>\n    <tr>\n      <th>3</th>\n      <td>00068FC521692B07</td>\n      <td>444341142375840</td>\n      <td>2009-08-13</td>\n      <td>2009-08-30</td>\n      <td>2009-09-09</td>\n      <td>1</td>\n      <td>10.0</td>\n    </tr>\n    <tr>\n      <th>4</th>\n      <td>00068FC521692B07</td>\n      <td>444851142361650</td>\n      <td>2009-09-09</td>\n      <td>2009-09-16</td>\n      <td>NaT</td>\n      <td>0</td>\n      <td>NaN</td>\n    </tr>\n    <tr>\n      <th>...</th>\n      <td>...</td>\n      <td>...</td>\n      <td>...</td>\n      <td>...</td>\n      <td>...</td>\n      <td>...</td>\n      <td>...</td>\n    </tr>\n    <tr>\n      <th>333273</th>\n      <td>FFF4B9253ABA91F9</td>\n      <td>692941107776994</td>\n      <td>2008-11-27</td>\n      <td>2008-12-02</td>\n      <td>NaT</td>\n      <td>0</td>\n      <td>NaN</td>\n    </tr>\n    <tr>\n      <th>333274</th>\n      <td>FFF723A536AA1FED</td>\n      <td>692221107816797</td>\n      <td>2009-03-22</td>\n      <td>2009-03-25</td>\n      <td>NaT</td>\n      <td>0</td>\n      <td>NaN</td>\n    </tr>\n    <tr>\n      <th>333276</th>\n      <td>FFF9BCBFBBA13577</td>\n      <td>692421107798494</td>\n      <td>2009-09-18</td>\n      <td>2009-09-22</td>\n      <td>NaT</td>\n      <td>0</td>\n      <td>NaN</td>\n    </tr>\n    <tr>\n      <th>333277</th>\n      <td>FFFC8FE58F7C98A8</td>\n      <td>692131107776543</td>\n      <td>2009-05-15</td>\n      <td>2009-05-17</td>\n      <td>NaT</td>\n      <td>0</td>\n      <td>NaN</td>\n    </tr>\n    <tr>\n      <th>333278</th>\n      <td>FFFDBF8129ED7F34</td>\n      <td>692951107803297</td>\n      <td>2010-02-09</td>\n      <td>2010-02-12</td>\n      <td>NaT</td>\n      <td>0</td>\n      <td>NaN</td>\n    </tr>\n  </tbody>\n</table>\n<p>278266 rows × 7 columns</p>\n</div>"
     },
     "metadata": {},
     "execution_count": 71
    }
   ],
   "source": [
    "selected_data.loc[ : , ['DESYNPUF_ID', 'CLM_ID', 'CLM_ADMSN_DT', 'NCH_BENE_DSCHRG_DT', \"Next_CLM_ADMSN_DT\", \"Readmission_within_30days\", \"Readmission_Day_Count\"]]"
   ]
  },
  {
   "cell_type": "code",
   "execution_count": 72,
   "metadata": {},
   "outputs": [
    {
     "output_type": "execute_result",
     "data": {
      "text/plain": [
       "0    0.890475\n",
       "1    0.109525\n",
       "Name: Readmission_within_30days, dtype: float64"
      ]
     },
     "metadata": {},
     "execution_count": 72
    }
   ],
   "source": [
    "# Distribution of readmission vs no readmission\n",
    "selected_data['Readmission_within_30days'].value_counts()/selected_data.shape[0]"
   ]
  },
  {
   "cell_type": "code",
   "execution_count": 73,
   "metadata": {},
   "outputs": [],
   "source": [
    "# Distribution of readmission vs no readmission at patient level\n",
    "readmission_data = selected_data.groupby([\"DESYNPUF_ID\", \"Readmission_within_30days\"]).size().reset_index().sort_values(by=[0, \"Readmission_within_30days\"], ascending=False)"
   ]
  },
  {
   "cell_type": "code",
   "execution_count": 74,
   "metadata": {},
   "outputs": [],
   "source": [
    "readmission_data.columns = ['DESYNPUF_ID', 'Readmission_within_30days', 'Count']"
   ]
  },
  {
   "cell_type": "code",
   "execution_count": 75,
   "metadata": {},
   "outputs": [
    {
     "output_type": "execute_result",
     "data": {
      "text/plain": [
       "             DESYNPUF_ID  Readmission_within_30days  Count\n",
       "18376   187E716542FC0012                          1      8\n",
       "30760   2918319F4E5491B1                          1      8\n",
       "155949  D010BB6F889A3CE1                          1      8\n",
       "161649  D7CAE840D80CA1E9                          1      8\n",
       "35487   2F4AA8867654C77D                          1      7"
      ],
      "text/html": "<div>\n<style scoped>\n    .dataframe tbody tr th:only-of-type {\n        vertical-align: middle;\n    }\n\n    .dataframe tbody tr th {\n        vertical-align: top;\n    }\n\n    .dataframe thead th {\n        text-align: right;\n    }\n</style>\n<table border=\"1\" class=\"dataframe\">\n  <thead>\n    <tr style=\"text-align: right;\">\n      <th></th>\n      <th>DESYNPUF_ID</th>\n      <th>Readmission_within_30days</th>\n      <th>Count</th>\n    </tr>\n  </thead>\n  <tbody>\n    <tr>\n      <th>18376</th>\n      <td>187E716542FC0012</td>\n      <td>1</td>\n      <td>8</td>\n    </tr>\n    <tr>\n      <th>30760</th>\n      <td>2918319F4E5491B1</td>\n      <td>1</td>\n      <td>8</td>\n    </tr>\n    <tr>\n      <th>155949</th>\n      <td>D010BB6F889A3CE1</td>\n      <td>1</td>\n      <td>8</td>\n    </tr>\n    <tr>\n      <th>161649</th>\n      <td>D7CAE840D80CA1E9</td>\n      <td>1</td>\n      <td>8</td>\n    </tr>\n    <tr>\n      <th>35487</th>\n      <td>2F4AA8867654C77D</td>\n      <td>1</td>\n      <td>7</td>\n    </tr>\n  </tbody>\n</table>\n</div>"
     },
     "metadata": {},
     "execution_count": 75
    }
   ],
   "source": [
    "readmission_data[readmission_data['Readmission_within_30days']==1].head()"
   ]
  },
  {
   "cell_type": "code",
   "execution_count": 76,
   "metadata": {},
   "outputs": [
    {
     "output_type": "execute_result",
     "data": {
      "text/plain": [
       "            DESYNPUF_ID  Readmission_within_30days  Count\n",
       "13435  11DA7F58321C8CC6                          0     12\n",
       "65510  578282D1FA38305D                          0     11\n",
       "65529  5789A31B1BD3E4BE                          0     10\n",
       "11348  0EFDFF20D803CA62                          0      9\n",
       "11410  0F1120DA0CB37016                          0      9"
      ],
      "text/html": "<div>\n<style scoped>\n    .dataframe tbody tr th:only-of-type {\n        vertical-align: middle;\n    }\n\n    .dataframe tbody tr th {\n        vertical-align: top;\n    }\n\n    .dataframe thead th {\n        text-align: right;\n    }\n</style>\n<table border=\"1\" class=\"dataframe\">\n  <thead>\n    <tr style=\"text-align: right;\">\n      <th></th>\n      <th>DESYNPUF_ID</th>\n      <th>Readmission_within_30days</th>\n      <th>Count</th>\n    </tr>\n  </thead>\n  <tbody>\n    <tr>\n      <th>13435</th>\n      <td>11DA7F58321C8CC6</td>\n      <td>0</td>\n      <td>12</td>\n    </tr>\n    <tr>\n      <th>65510</th>\n      <td>578282D1FA38305D</td>\n      <td>0</td>\n      <td>11</td>\n    </tr>\n    <tr>\n      <th>65529</th>\n      <td>5789A31B1BD3E4BE</td>\n      <td>0</td>\n      <td>10</td>\n    </tr>\n    <tr>\n      <th>11348</th>\n      <td>0EFDFF20D803CA62</td>\n      <td>0</td>\n      <td>9</td>\n    </tr>\n    <tr>\n      <th>11410</th>\n      <td>0F1120DA0CB37016</td>\n      <td>0</td>\n      <td>9</td>\n    </tr>\n  </tbody>\n</table>\n</div>"
     },
     "metadata": {},
     "execution_count": 76
    }
   ],
   "source": [
    "readmission_data.head()"
   ]
  },
  {
   "cell_type": "code",
   "execution_count": 77,
   "metadata": {},
   "outputs": [
    {
     "output_type": "execute_result",
     "data": {
      "text/plain": [
       "<matplotlib.axes._subplots.AxesSubplot at 0x1ca96911bc8>"
      ]
     },
     "metadata": {},
     "execution_count": 77
    },
    {
     "output_type": "execute_result",
     "data": {
      "text/plain": [
       "<matplotlib.axes._subplots.AxesSubplot at 0x1ca96911bc8>"
      ]
     },
     "metadata": {},
     "execution_count": 77
    },
    {
     "output_type": "display_data",
     "data": {
      "text/plain": "<Figure size 432x288 with 1 Axes>",
      "image/svg+xml": "<?xml version=\"1.0\" encoding=\"utf-8\" standalone=\"no\"?>\r\n<!DOCTYPE svg PUBLIC \"-//W3C//DTD SVG 1.1//EN\"\r\n  \"http://www.w3.org/Graphics/SVG/1.1/DTD/svg11.dtd\">\r\n<!-- Created with matplotlib (https://matplotlib.org/) -->\r\n<svg height=\"262.19625pt\" version=\"1.1\" viewBox=\"0 0 394.375 262.19625\" width=\"394.375pt\" xmlns=\"http://www.w3.org/2000/svg\" xmlns:xlink=\"http://www.w3.org/1999/xlink\">\r\n <defs>\r\n  <style type=\"text/css\">\r\n*{stroke-linecap:butt;stroke-linejoin:round;}\r\n  </style>\r\n </defs>\r\n <g id=\"figure_1\">\r\n  <g id=\"patch_1\">\r\n   <path d=\"M 0 262.19625 \r\nL 394.375 262.19625 \r\nL 394.375 0 \r\nL 0 0 \r\nz\r\n\" style=\"fill:none;\"/>\r\n  </g>\r\n  <g id=\"axes_1\">\r\n   <g id=\"patch_2\">\r\n    <path d=\"M 52.375 224.64 \r\nL 387.175 224.64 \r\nL 387.175 7.2 \r\nL 52.375 7.2 \r\nz\r\n\" style=\"fill:#ffffff;\"/>\r\n   </g>\r\n   <g id=\"patch_3\">\r\n    <path clip-path=\"url(#pe491613849)\" d=\"M 67.593182 224.64 \r\nL 98.029545 224.64 \r\nL 98.029545 17.554286 \r\nL 67.593182 17.554286 \r\nz\r\n\" style=\"fill:#1f77b4;opacity:0.4;\"/>\r\n   </g>\r\n   <g id=\"patch_4\">\r\n    <path clip-path=\"url(#pe491613849)\" d=\"M 98.029545 224.64 \r\nL 128.465909 224.64 \r\nL 128.465909 207.72784 \r\nL 98.029545 207.72784 \r\nz\r\n\" style=\"fill:#1f77b4;opacity:0.4;\"/>\r\n   </g>\r\n   <g id=\"patch_5\">\r\n    <path clip-path=\"url(#pe491613849)\" d=\"M 128.465909 224.64 \r\nL 158.902273 224.64 \r\nL 158.902273 218.329555 \r\nL 128.465909 218.329555 \r\nz\r\n\" style=\"fill:#1f77b4;opacity:0.4;\"/>\r\n   </g>\r\n   <g id=\"patch_6\">\r\n    <path clip-path=\"url(#pe491613849)\" d=\"M 158.902273 224.64 \r\nL 189.338636 224.64 \r\nL 189.338636 222.422103 \r\nL 158.902273 222.422103 \r\nz\r\n\" style=\"fill:#1f77b4;opacity:0.4;\"/>\r\n   </g>\r\n   <g id=\"patch_7\">\r\n    <path clip-path=\"url(#pe491613849)\" d=\"M 189.338636 224.64 \r\nL 219.775 224.64 \r\nL 219.775 223.865959 \r\nL 189.338636 223.865959 \r\nz\r\n\" style=\"fill:#1f77b4;opacity:0.4;\"/>\r\n   </g>\r\n   <g id=\"patch_8\">\r\n    <path clip-path=\"url(#pe491613849)\" d=\"M 219.775 224.64 \r\nL 250.211364 224.64 \r\nL 250.211364 224.416265 \r\nL 219.775 224.416265 \r\nz\r\n\" style=\"fill:#1f77b4;opacity:0.4;\"/>\r\n   </g>\r\n   <g id=\"patch_9\">\r\n    <path clip-path=\"url(#pe491613849)\" d=\"M 250.211364 224.64 \r\nL 280.647727 224.64 \r\nL 280.647727 224.595531 \r\nL 250.211364 224.595531 \r\nz\r\n\" style=\"fill:#1f77b4;opacity:0.4;\"/>\r\n   </g>\r\n   <g id=\"patch_10\">\r\n    <path clip-path=\"url(#pe491613849)\" d=\"M 280.647727 224.64 \r\nL 311.084091 224.64 \r\nL 311.084091 224.631662 \r\nL 280.647727 224.631662 \r\nz\r\n\" style=\"fill:#1f77b4;opacity:0.4;\"/>\r\n   </g>\r\n   <g id=\"patch_11\">\r\n    <path clip-path=\"url(#pe491613849)\" d=\"M 311.084091 224.64 \r\nL 341.520455 224.64 \r\nL 341.520455 224.63861 \r\nL 311.084091 224.63861 \r\nz\r\n\" style=\"fill:#1f77b4;opacity:0.4;\"/>\r\n   </g>\r\n   <g id=\"patch_12\">\r\n    <path clip-path=\"url(#pe491613849)\" d=\"M 341.520455 224.64 \r\nL 371.956818 224.64 \r\nL 371.956818 224.637221 \r\nL 341.520455 224.637221 \r\nz\r\n\" style=\"fill:#1f77b4;opacity:0.4;\"/>\r\n   </g>\r\n   <g id=\"patch_13\">\r\n    <path clip-path=\"url(#pe491613849)\" d=\"M 67.593182 224.64 \r\nL 86.961777 224.64 \r\nL 86.961777 198.738131 \r\nL 67.593182 198.738131 \r\nz\r\n\" style=\"fill:#ff7f0e;opacity:0.4;\"/>\r\n   </g>\r\n   <g id=\"patch_14\">\r\n    <path clip-path=\"url(#pe491613849)\" d=\"M 86.961777 224.64 \r\nL 106.330372 224.64 \r\nL 106.330372 219.457959 \r\nL 86.961777 219.457959 \r\nz\r\n\" style=\"fill:#ff7f0e;opacity:0.4;\"/>\r\n   </g>\r\n   <g id=\"patch_15\">\r\n    <path clip-path=\"url(#pe491613849)\" d=\"M 106.330372 224.64 \r\nL 125.698967 224.64 \r\nL 125.698967 223.364292 \r\nL 106.330372 223.364292 \r\nz\r\n\" style=\"fill:#ff7f0e;opacity:0.4;\"/>\r\n   </g>\r\n   <g id=\"patch_16\">\r\n    <path clip-path=\"url(#pe491613849)\" d=\"M 125.698967 224.64 \r\nL 145.067562 224.64 \r\nL 145.067562 224.64 \r\nL 125.698967 224.64 \r\nz\r\n\" style=\"fill:#ff7f0e;opacity:0.4;\"/>\r\n   </g>\r\n   <g id=\"patch_17\">\r\n    <path clip-path=\"url(#pe491613849)\" d=\"M 145.067562 224.64 \r\nL 164.436157 224.64 \r\nL 164.436157 224.278688 \r\nL 145.067562 224.278688 \r\nz\r\n\" style=\"fill:#ff7f0e;opacity:0.4;\"/>\r\n   </g>\r\n   <g id=\"patch_18\">\r\n    <path clip-path=\"url(#pe491613849)\" d=\"M 164.436157 224.64 \r\nL 183.804752 224.64 \r\nL 183.804752 224.532996 \r\nL 164.436157 224.532996 \r\nz\r\n\" style=\"fill:#ff7f0e;opacity:0.4;\"/>\r\n   </g>\r\n   <g id=\"patch_19\">\r\n    <path clip-path=\"url(#pe491613849)\" d=\"M 183.804752 224.64 \r\nL 203.173347 224.64 \r\nL 203.173347 224.64 \r\nL 183.804752 224.64 \r\nz\r\n\" style=\"fill:#ff7f0e;opacity:0.4;\"/>\r\n   </g>\r\n   <g id=\"patch_20\">\r\n    <path clip-path=\"url(#pe491613849)\" d=\"M 203.173347 224.64 \r\nL 222.541942 224.64 \r\nL 222.541942 224.612207 \r\nL 203.173347 224.612207 \r\nz\r\n\" style=\"fill:#ff7f0e;opacity:0.4;\"/>\r\n   </g>\r\n   <g id=\"patch_21\">\r\n    <path clip-path=\"url(#pe491613849)\" d=\"M 222.541942 224.64 \r\nL 241.910537 224.64 \r\nL 241.910537 224.630272 \r\nL 222.541942 224.630272 \r\nz\r\n\" style=\"fill:#ff7f0e;opacity:0.4;\"/>\r\n   </g>\r\n   <g id=\"patch_22\">\r\n    <path clip-path=\"url(#pe491613849)\" d=\"M 241.910537 224.64 \r\nL 261.279132 224.64 \r\nL 261.279132 224.634441 \r\nL 241.910537 224.634441 \r\nz\r\n\" style=\"fill:#ff7f0e;opacity:0.4;\"/>\r\n   </g>\r\n   <g id=\"matplotlib.axis_1\">\r\n    <g id=\"xtick_1\">\r\n     <g id=\"line2d_1\">\r\n      <defs>\r\n       <path d=\"M 0 0 \r\nL 0 3.5 \r\n\" id=\"m18f3cc3bb4\" style=\"stroke:#000000;stroke-width:0.8;\"/>\r\n      </defs>\r\n      <g>\r\n       <use style=\"stroke:#000000;stroke-width:0.8;\" x=\"95.262603\" xlink:href=\"#m18f3cc3bb4\" y=\"224.64\"/>\r\n      </g>\r\n     </g>\r\n     <g id=\"text_1\">\r\n      <!-- 2 -->\r\n      <defs>\r\n       <path d=\"M 19.1875 8.296875 \r\nL 53.609375 8.296875 \r\nL 53.609375 0 \r\nL 7.328125 0 \r\nL 7.328125 8.296875 \r\nQ 12.9375 14.109375 22.625 23.890625 \r\nQ 32.328125 33.6875 34.8125 36.53125 \r\nQ 39.546875 41.84375 41.421875 45.53125 \r\nQ 43.3125 49.21875 43.3125 52.78125 \r\nQ 43.3125 58.59375 39.234375 62.25 \r\nQ 35.15625 65.921875 28.609375 65.921875 \r\nQ 23.96875 65.921875 18.8125 64.3125 \r\nQ 13.671875 62.703125 7.8125 59.421875 \r\nL 7.8125 69.390625 \r\nQ 13.765625 71.78125 18.9375 73 \r\nQ 24.125 74.21875 28.421875 74.21875 \r\nQ 39.75 74.21875 46.484375 68.546875 \r\nQ 53.21875 62.890625 53.21875 53.421875 \r\nQ 53.21875 48.921875 51.53125 44.890625 \r\nQ 49.859375 40.875 45.40625 35.40625 \r\nQ 44.1875 33.984375 37.640625 27.21875 \r\nQ 31.109375 20.453125 19.1875 8.296875 \r\nz\r\n\" id=\"DejaVuSans-50\"/>\r\n      </defs>\r\n      <g transform=\"translate(92.081353 239.238437)scale(0.1 -0.1)\">\r\n       <use xlink:href=\"#DejaVuSans-50\"/>\r\n      </g>\r\n     </g>\r\n    </g>\r\n    <g id=\"xtick_2\">\r\n     <g id=\"line2d_2\">\r\n      <g>\r\n       <use style=\"stroke:#000000;stroke-width:0.8;\" x=\"150.601446\" xlink:href=\"#m18f3cc3bb4\" y=\"224.64\"/>\r\n      </g>\r\n     </g>\r\n     <g id=\"text_2\">\r\n      <!-- 4 -->\r\n      <defs>\r\n       <path d=\"M 37.796875 64.3125 \r\nL 12.890625 25.390625 \r\nL 37.796875 25.390625 \r\nz\r\nM 35.203125 72.90625 \r\nL 47.609375 72.90625 \r\nL 47.609375 25.390625 \r\nL 58.015625 25.390625 \r\nL 58.015625 17.1875 \r\nL 47.609375 17.1875 \r\nL 47.609375 0 \r\nL 37.796875 0 \r\nL 37.796875 17.1875 \r\nL 4.890625 17.1875 \r\nL 4.890625 26.703125 \r\nz\r\n\" id=\"DejaVuSans-52\"/>\r\n      </defs>\r\n      <g transform=\"translate(147.420196 239.238437)scale(0.1 -0.1)\">\r\n       <use xlink:href=\"#DejaVuSans-52\"/>\r\n      </g>\r\n     </g>\r\n    </g>\r\n    <g id=\"xtick_3\">\r\n     <g id=\"line2d_3\">\r\n      <g>\r\n       <use style=\"stroke:#000000;stroke-width:0.8;\" x=\"205.940289\" xlink:href=\"#m18f3cc3bb4\" y=\"224.64\"/>\r\n      </g>\r\n     </g>\r\n     <g id=\"text_3\">\r\n      <!-- 6 -->\r\n      <defs>\r\n       <path d=\"M 33.015625 40.375 \r\nQ 26.375 40.375 22.484375 35.828125 \r\nQ 18.609375 31.296875 18.609375 23.390625 \r\nQ 18.609375 15.53125 22.484375 10.953125 \r\nQ 26.375 6.390625 33.015625 6.390625 \r\nQ 39.65625 6.390625 43.53125 10.953125 \r\nQ 47.40625 15.53125 47.40625 23.390625 \r\nQ 47.40625 31.296875 43.53125 35.828125 \r\nQ 39.65625 40.375 33.015625 40.375 \r\nz\r\nM 52.59375 71.296875 \r\nL 52.59375 62.3125 \r\nQ 48.875 64.0625 45.09375 64.984375 \r\nQ 41.3125 65.921875 37.59375 65.921875 \r\nQ 27.828125 65.921875 22.671875 59.328125 \r\nQ 17.53125 52.734375 16.796875 39.40625 \r\nQ 19.671875 43.65625 24.015625 45.921875 \r\nQ 28.375 48.1875 33.59375 48.1875 \r\nQ 44.578125 48.1875 50.953125 41.515625 \r\nQ 57.328125 34.859375 57.328125 23.390625 \r\nQ 57.328125 12.15625 50.6875 5.359375 \r\nQ 44.046875 -1.421875 33.015625 -1.421875 \r\nQ 20.359375 -1.421875 13.671875 8.265625 \r\nQ 6.984375 17.96875 6.984375 36.375 \r\nQ 6.984375 53.65625 15.1875 63.9375 \r\nQ 23.390625 74.21875 37.203125 74.21875 \r\nQ 40.921875 74.21875 44.703125 73.484375 \r\nQ 48.484375 72.75 52.59375 71.296875 \r\nz\r\n\" id=\"DejaVuSans-54\"/>\r\n      </defs>\r\n      <g transform=\"translate(202.759039 239.238437)scale(0.1 -0.1)\">\r\n       <use xlink:href=\"#DejaVuSans-54\"/>\r\n      </g>\r\n     </g>\r\n    </g>\r\n    <g id=\"xtick_4\">\r\n     <g id=\"line2d_4\">\r\n      <g>\r\n       <use style=\"stroke:#000000;stroke-width:0.8;\" x=\"261.279132\" xlink:href=\"#m18f3cc3bb4\" y=\"224.64\"/>\r\n      </g>\r\n     </g>\r\n     <g id=\"text_4\">\r\n      <!-- 8 -->\r\n      <defs>\r\n       <path d=\"M 31.78125 34.625 \r\nQ 24.75 34.625 20.71875 30.859375 \r\nQ 16.703125 27.09375 16.703125 20.515625 \r\nQ 16.703125 13.921875 20.71875 10.15625 \r\nQ 24.75 6.390625 31.78125 6.390625 \r\nQ 38.8125 6.390625 42.859375 10.171875 \r\nQ 46.921875 13.96875 46.921875 20.515625 \r\nQ 46.921875 27.09375 42.890625 30.859375 \r\nQ 38.875 34.625 31.78125 34.625 \r\nz\r\nM 21.921875 38.8125 \r\nQ 15.578125 40.375 12.03125 44.71875 \r\nQ 8.5 49.078125 8.5 55.328125 \r\nQ 8.5 64.0625 14.71875 69.140625 \r\nQ 20.953125 74.21875 31.78125 74.21875 \r\nQ 42.671875 74.21875 48.875 69.140625 \r\nQ 55.078125 64.0625 55.078125 55.328125 \r\nQ 55.078125 49.078125 51.53125 44.71875 \r\nQ 48 40.375 41.703125 38.8125 \r\nQ 48.828125 37.15625 52.796875 32.3125 \r\nQ 56.78125 27.484375 56.78125 20.515625 \r\nQ 56.78125 9.90625 50.3125 4.234375 \r\nQ 43.84375 -1.421875 31.78125 -1.421875 \r\nQ 19.734375 -1.421875 13.25 4.234375 \r\nQ 6.78125 9.90625 6.78125 20.515625 \r\nQ 6.78125 27.484375 10.78125 32.3125 \r\nQ 14.796875 37.15625 21.921875 38.8125 \r\nz\r\nM 18.3125 54.390625 \r\nQ 18.3125 48.734375 21.84375 45.5625 \r\nQ 25.390625 42.390625 31.78125 42.390625 \r\nQ 38.140625 42.390625 41.71875 45.5625 \r\nQ 45.3125 48.734375 45.3125 54.390625 \r\nQ 45.3125 60.0625 41.71875 63.234375 \r\nQ 38.140625 66.40625 31.78125 66.40625 \r\nQ 25.390625 66.40625 21.84375 63.234375 \r\nQ 18.3125 60.0625 18.3125 54.390625 \r\nz\r\n\" id=\"DejaVuSans-56\"/>\r\n      </defs>\r\n      <g transform=\"translate(258.097882 239.238437)scale(0.1 -0.1)\">\r\n       <use xlink:href=\"#DejaVuSans-56\"/>\r\n      </g>\r\n     </g>\r\n    </g>\r\n    <g id=\"xtick_5\">\r\n     <g id=\"line2d_5\">\r\n      <g>\r\n       <use style=\"stroke:#000000;stroke-width:0.8;\" x=\"316.617975\" xlink:href=\"#m18f3cc3bb4\" y=\"224.64\"/>\r\n      </g>\r\n     </g>\r\n     <g id=\"text_5\">\r\n      <!-- 10 -->\r\n      <defs>\r\n       <path d=\"M 12.40625 8.296875 \r\nL 28.515625 8.296875 \r\nL 28.515625 63.921875 \r\nL 10.984375 60.40625 \r\nL 10.984375 69.390625 \r\nL 28.421875 72.90625 \r\nL 38.28125 72.90625 \r\nL 38.28125 8.296875 \r\nL 54.390625 8.296875 \r\nL 54.390625 0 \r\nL 12.40625 0 \r\nz\r\n\" id=\"DejaVuSans-49\"/>\r\n       <path d=\"M 31.78125 66.40625 \r\nQ 24.171875 66.40625 20.328125 58.90625 \r\nQ 16.5 51.421875 16.5 36.375 \r\nQ 16.5 21.390625 20.328125 13.890625 \r\nQ 24.171875 6.390625 31.78125 6.390625 \r\nQ 39.453125 6.390625 43.28125 13.890625 \r\nQ 47.125 21.390625 47.125 36.375 \r\nQ 47.125 51.421875 43.28125 58.90625 \r\nQ 39.453125 66.40625 31.78125 66.40625 \r\nz\r\nM 31.78125 74.21875 \r\nQ 44.046875 74.21875 50.515625 64.515625 \r\nQ 56.984375 54.828125 56.984375 36.375 \r\nQ 56.984375 17.96875 50.515625 8.265625 \r\nQ 44.046875 -1.421875 31.78125 -1.421875 \r\nQ 19.53125 -1.421875 13.0625 8.265625 \r\nQ 6.59375 17.96875 6.59375 36.375 \r\nQ 6.59375 54.828125 13.0625 64.515625 \r\nQ 19.53125 74.21875 31.78125 74.21875 \r\nz\r\n\" id=\"DejaVuSans-48\"/>\r\n      </defs>\r\n      <g transform=\"translate(310.255475 239.238437)scale(0.1 -0.1)\">\r\n       <use xlink:href=\"#DejaVuSans-49\"/>\r\n       <use x=\"63.623047\" xlink:href=\"#DejaVuSans-48\"/>\r\n      </g>\r\n     </g>\r\n    </g>\r\n    <g id=\"xtick_6\">\r\n     <g id=\"line2d_6\">\r\n      <g>\r\n       <use style=\"stroke:#000000;stroke-width:0.8;\" x=\"371.956818\" xlink:href=\"#m18f3cc3bb4\" y=\"224.64\"/>\r\n      </g>\r\n     </g>\r\n     <g id=\"text_6\">\r\n      <!-- 12 -->\r\n      <g transform=\"translate(365.594318 239.238437)scale(0.1 -0.1)\">\r\n       <use xlink:href=\"#DejaVuSans-49\"/>\r\n       <use x=\"63.623047\" xlink:href=\"#DejaVuSans-50\"/>\r\n      </g>\r\n     </g>\r\n    </g>\r\n    <g id=\"text_7\">\r\n     <!-- Count -->\r\n     <defs>\r\n      <path d=\"M 64.40625 67.28125 \r\nL 64.40625 56.890625 \r\nQ 59.421875 61.53125 53.78125 63.8125 \r\nQ 48.140625 66.109375 41.796875 66.109375 \r\nQ 29.296875 66.109375 22.65625 58.46875 \r\nQ 16.015625 50.828125 16.015625 36.375 \r\nQ 16.015625 21.96875 22.65625 14.328125 \r\nQ 29.296875 6.6875 41.796875 6.6875 \r\nQ 48.140625 6.6875 53.78125 8.984375 \r\nQ 59.421875 11.28125 64.40625 15.921875 \r\nL 64.40625 5.609375 \r\nQ 59.234375 2.09375 53.4375 0.328125 \r\nQ 47.65625 -1.421875 41.21875 -1.421875 \r\nQ 24.65625 -1.421875 15.125 8.703125 \r\nQ 5.609375 18.84375 5.609375 36.375 \r\nQ 5.609375 53.953125 15.125 64.078125 \r\nQ 24.65625 74.21875 41.21875 74.21875 \r\nQ 47.75 74.21875 53.53125 72.484375 \r\nQ 59.328125 70.75 64.40625 67.28125 \r\nz\r\n\" id=\"DejaVuSans-67\"/>\r\n      <path d=\"M 30.609375 48.390625 \r\nQ 23.390625 48.390625 19.1875 42.75 \r\nQ 14.984375 37.109375 14.984375 27.296875 \r\nQ 14.984375 17.484375 19.15625 11.84375 \r\nQ 23.34375 6.203125 30.609375 6.203125 \r\nQ 37.796875 6.203125 41.984375 11.859375 \r\nQ 46.1875 17.53125 46.1875 27.296875 \r\nQ 46.1875 37.015625 41.984375 42.703125 \r\nQ 37.796875 48.390625 30.609375 48.390625 \r\nz\r\nM 30.609375 56 \r\nQ 42.328125 56 49.015625 48.375 \r\nQ 55.71875 40.765625 55.71875 27.296875 \r\nQ 55.71875 13.875 49.015625 6.21875 \r\nQ 42.328125 -1.421875 30.609375 -1.421875 \r\nQ 18.84375 -1.421875 12.171875 6.21875 \r\nQ 5.515625 13.875 5.515625 27.296875 \r\nQ 5.515625 40.765625 12.171875 48.375 \r\nQ 18.84375 56 30.609375 56 \r\nz\r\n\" id=\"DejaVuSans-111\"/>\r\n      <path d=\"M 8.5 21.578125 \r\nL 8.5 54.6875 \r\nL 17.484375 54.6875 \r\nL 17.484375 21.921875 \r\nQ 17.484375 14.15625 20.5 10.265625 \r\nQ 23.53125 6.390625 29.59375 6.390625 \r\nQ 36.859375 6.390625 41.078125 11.03125 \r\nQ 45.3125 15.671875 45.3125 23.6875 \r\nL 45.3125 54.6875 \r\nL 54.296875 54.6875 \r\nL 54.296875 0 \r\nL 45.3125 0 \r\nL 45.3125 8.40625 \r\nQ 42.046875 3.421875 37.71875 1 \r\nQ 33.40625 -1.421875 27.6875 -1.421875 \r\nQ 18.265625 -1.421875 13.375 4.4375 \r\nQ 8.5 10.296875 8.5 21.578125 \r\nz\r\nM 31.109375 56 \r\nz\r\n\" id=\"DejaVuSans-117\"/>\r\n      <path d=\"M 54.890625 33.015625 \r\nL 54.890625 0 \r\nL 45.90625 0 \r\nL 45.90625 32.71875 \r\nQ 45.90625 40.484375 42.875 44.328125 \r\nQ 39.84375 48.1875 33.796875 48.1875 \r\nQ 26.515625 48.1875 22.3125 43.546875 \r\nQ 18.109375 38.921875 18.109375 30.90625 \r\nL 18.109375 0 \r\nL 9.078125 0 \r\nL 9.078125 54.6875 \r\nL 18.109375 54.6875 \r\nL 18.109375 46.1875 \r\nQ 21.34375 51.125 25.703125 53.5625 \r\nQ 30.078125 56 35.796875 56 \r\nQ 45.21875 56 50.046875 50.171875 \r\nQ 54.890625 44.34375 54.890625 33.015625 \r\nz\r\n\" id=\"DejaVuSans-110\"/>\r\n      <path d=\"M 18.3125 70.21875 \r\nL 18.3125 54.6875 \r\nL 36.8125 54.6875 \r\nL 36.8125 47.703125 \r\nL 18.3125 47.703125 \r\nL 18.3125 18.015625 \r\nQ 18.3125 11.328125 20.140625 9.421875 \r\nQ 21.96875 7.515625 27.59375 7.515625 \r\nL 36.8125 7.515625 \r\nL 36.8125 0 \r\nL 27.59375 0 \r\nQ 17.1875 0 13.234375 3.875 \r\nQ 9.28125 7.765625 9.28125 18.015625 \r\nL 9.28125 47.703125 \r\nL 2.6875 47.703125 \r\nL 2.6875 54.6875 \r\nL 9.28125 54.6875 \r\nL 9.28125 70.21875 \r\nz\r\n\" id=\"DejaVuSans-116\"/>\r\n     </defs>\r\n     <g transform=\"translate(204.926563 252.916562)scale(0.1 -0.1)\">\r\n      <use xlink:href=\"#DejaVuSans-67\"/>\r\n      <use x=\"69.824219\" xlink:href=\"#DejaVuSans-111\"/>\r\n      <use x=\"131.005859\" xlink:href=\"#DejaVuSans-117\"/>\r\n      <use x=\"194.384766\" xlink:href=\"#DejaVuSans-110\"/>\r\n      <use x=\"257.763672\" xlink:href=\"#DejaVuSans-116\"/>\r\n     </g>\r\n    </g>\r\n   </g>\r\n   <g id=\"matplotlib.axis_2\">\r\n    <g id=\"ytick_1\">\r\n     <g id=\"line2d_7\">\r\n      <defs>\r\n       <path d=\"M 0 0 \r\nL -3.5 0 \r\n\" id=\"mcecb6b2d4b\" style=\"stroke:#000000;stroke-width:0.8;\"/>\r\n      </defs>\r\n      <g>\r\n       <use style=\"stroke:#000000;stroke-width:0.8;\" x=\"52.375\" xlink:href=\"#mcecb6b2d4b\" y=\"224.64\"/>\r\n      </g>\r\n     </g>\r\n     <g id=\"text_8\">\r\n      <!-- 0 -->\r\n      <g transform=\"translate(39.0125 228.439219)scale(0.1 -0.1)\">\r\n       <use xlink:href=\"#DejaVuSans-48\"/>\r\n      </g>\r\n     </g>\r\n    </g>\r\n    <g id=\"ytick_2\">\r\n     <g id=\"line2d_8\">\r\n      <g>\r\n       <use style=\"stroke:#000000;stroke-width:0.8;\" x=\"52.375\" xlink:href=\"#mcecb6b2d4b\" y=\"196.846804\"/>\r\n      </g>\r\n     </g>\r\n     <g id=\"text_9\">\r\n      <!-- 20000 -->\r\n      <g transform=\"translate(13.5625 200.646023)scale(0.1 -0.1)\">\r\n       <use xlink:href=\"#DejaVuSans-50\"/>\r\n       <use x=\"63.623047\" xlink:href=\"#DejaVuSans-48\"/>\r\n       <use x=\"127.246094\" xlink:href=\"#DejaVuSans-48\"/>\r\n       <use x=\"190.869141\" xlink:href=\"#DejaVuSans-48\"/>\r\n       <use x=\"254.492188\" xlink:href=\"#DejaVuSans-48\"/>\r\n      </g>\r\n     </g>\r\n    </g>\r\n    <g id=\"ytick_3\">\r\n     <g id=\"line2d_9\">\r\n      <g>\r\n       <use style=\"stroke:#000000;stroke-width:0.8;\" x=\"52.375\" xlink:href=\"#mcecb6b2d4b\" y=\"169.053608\"/>\r\n      </g>\r\n     </g>\r\n     <g id=\"text_10\">\r\n      <!-- 40000 -->\r\n      <g transform=\"translate(13.5625 172.852827)scale(0.1 -0.1)\">\r\n       <use xlink:href=\"#DejaVuSans-52\"/>\r\n       <use x=\"63.623047\" xlink:href=\"#DejaVuSans-48\"/>\r\n       <use x=\"127.246094\" xlink:href=\"#DejaVuSans-48\"/>\r\n       <use x=\"190.869141\" xlink:href=\"#DejaVuSans-48\"/>\r\n       <use x=\"254.492188\" xlink:href=\"#DejaVuSans-48\"/>\r\n      </g>\r\n     </g>\r\n    </g>\r\n    <g id=\"ytick_4\">\r\n     <g id=\"line2d_10\">\r\n      <g>\r\n       <use style=\"stroke:#000000;stroke-width:0.8;\" x=\"52.375\" xlink:href=\"#mcecb6b2d4b\" y=\"141.260412\"/>\r\n      </g>\r\n     </g>\r\n     <g id=\"text_11\">\r\n      <!-- 60000 -->\r\n      <g transform=\"translate(13.5625 145.059631)scale(0.1 -0.1)\">\r\n       <use xlink:href=\"#DejaVuSans-54\"/>\r\n       <use x=\"63.623047\" xlink:href=\"#DejaVuSans-48\"/>\r\n       <use x=\"127.246094\" xlink:href=\"#DejaVuSans-48\"/>\r\n       <use x=\"190.869141\" xlink:href=\"#DejaVuSans-48\"/>\r\n       <use x=\"254.492188\" xlink:href=\"#DejaVuSans-48\"/>\r\n      </g>\r\n     </g>\r\n    </g>\r\n    <g id=\"ytick_5\">\r\n     <g id=\"line2d_11\">\r\n      <g>\r\n       <use style=\"stroke:#000000;stroke-width:0.8;\" x=\"52.375\" xlink:href=\"#mcecb6b2d4b\" y=\"113.467216\"/>\r\n      </g>\r\n     </g>\r\n     <g id=\"text_12\">\r\n      <!-- 80000 -->\r\n      <g transform=\"translate(13.5625 117.266434)scale(0.1 -0.1)\">\r\n       <use xlink:href=\"#DejaVuSans-56\"/>\r\n       <use x=\"63.623047\" xlink:href=\"#DejaVuSans-48\"/>\r\n       <use x=\"127.246094\" xlink:href=\"#DejaVuSans-48\"/>\r\n       <use x=\"190.869141\" xlink:href=\"#DejaVuSans-48\"/>\r\n       <use x=\"254.492188\" xlink:href=\"#DejaVuSans-48\"/>\r\n      </g>\r\n     </g>\r\n    </g>\r\n    <g id=\"ytick_6\">\r\n     <g id=\"line2d_12\">\r\n      <g>\r\n       <use style=\"stroke:#000000;stroke-width:0.8;\" x=\"52.375\" xlink:href=\"#mcecb6b2d4b\" y=\"85.67402\"/>\r\n      </g>\r\n     </g>\r\n     <g id=\"text_13\">\r\n      <!-- 100000 -->\r\n      <g transform=\"translate(7.2 89.473238)scale(0.1 -0.1)\">\r\n       <use xlink:href=\"#DejaVuSans-49\"/>\r\n       <use x=\"63.623047\" xlink:href=\"#DejaVuSans-48\"/>\r\n       <use x=\"127.246094\" xlink:href=\"#DejaVuSans-48\"/>\r\n       <use x=\"190.869141\" xlink:href=\"#DejaVuSans-48\"/>\r\n       <use x=\"254.492188\" xlink:href=\"#DejaVuSans-48\"/>\r\n       <use x=\"318.115234\" xlink:href=\"#DejaVuSans-48\"/>\r\n      </g>\r\n     </g>\r\n    </g>\r\n    <g id=\"ytick_7\">\r\n     <g id=\"line2d_13\">\r\n      <g>\r\n       <use style=\"stroke:#000000;stroke-width:0.8;\" x=\"52.375\" xlink:href=\"#mcecb6b2d4b\" y=\"57.880824\"/>\r\n      </g>\r\n     </g>\r\n     <g id=\"text_14\">\r\n      <!-- 120000 -->\r\n      <g transform=\"translate(7.2 61.680042)scale(0.1 -0.1)\">\r\n       <use xlink:href=\"#DejaVuSans-49\"/>\r\n       <use x=\"63.623047\" xlink:href=\"#DejaVuSans-50\"/>\r\n       <use x=\"127.246094\" xlink:href=\"#DejaVuSans-48\"/>\r\n       <use x=\"190.869141\" xlink:href=\"#DejaVuSans-48\"/>\r\n       <use x=\"254.492188\" xlink:href=\"#DejaVuSans-48\"/>\r\n       <use x=\"318.115234\" xlink:href=\"#DejaVuSans-48\"/>\r\n      </g>\r\n     </g>\r\n    </g>\r\n    <g id=\"ytick_8\">\r\n     <g id=\"line2d_14\">\r\n      <g>\r\n       <use style=\"stroke:#000000;stroke-width:0.8;\" x=\"52.375\" xlink:href=\"#mcecb6b2d4b\" y=\"30.087627\"/>\r\n      </g>\r\n     </g>\r\n     <g id=\"text_15\">\r\n      <!-- 140000 -->\r\n      <g transform=\"translate(7.2 33.886846)scale(0.1 -0.1)\">\r\n       <use xlink:href=\"#DejaVuSans-49\"/>\r\n       <use x=\"63.623047\" xlink:href=\"#DejaVuSans-52\"/>\r\n       <use x=\"127.246094\" xlink:href=\"#DejaVuSans-48\"/>\r\n       <use x=\"190.869141\" xlink:href=\"#DejaVuSans-48\"/>\r\n       <use x=\"254.492188\" xlink:href=\"#DejaVuSans-48\"/>\r\n       <use x=\"318.115234\" xlink:href=\"#DejaVuSans-48\"/>\r\n      </g>\r\n     </g>\r\n    </g>\r\n   </g>\r\n   <g id=\"patch_23\">\r\n    <path d=\"M 52.375 224.64 \r\nL 52.375 7.2 \r\n\" style=\"fill:none;stroke:#000000;stroke-linecap:square;stroke-linejoin:miter;stroke-width:0.8;\"/>\r\n   </g>\r\n   <g id=\"patch_24\">\r\n    <path d=\"M 387.175 224.64 \r\nL 387.175 7.2 \r\n\" style=\"fill:none;stroke:#000000;stroke-linecap:square;stroke-linejoin:miter;stroke-width:0.8;\"/>\r\n   </g>\r\n   <g id=\"patch_25\">\r\n    <path d=\"M 52.375 224.64 \r\nL 387.175 224.64 \r\n\" style=\"fill:none;stroke:#000000;stroke-linecap:square;stroke-linejoin:miter;stroke-width:0.8;\"/>\r\n   </g>\r\n   <g id=\"patch_26\">\r\n    <path d=\"M 52.375 7.2 \r\nL 387.175 7.2 \r\n\" style=\"fill:none;stroke:#000000;stroke-linecap:square;stroke-linejoin:miter;stroke-width:0.8;\"/>\r\n   </g>\r\n  </g>\r\n </g>\r\n <defs>\r\n  <clipPath id=\"pe491613849\">\r\n   <rect height=\"217.44\" width=\"334.8\" x=\"52.375\" y=\"7.2\"/>\r\n  </clipPath>\r\n </defs>\r\n</svg>\r\n",
      "image/png": "[encoded data removed]"
     },
     "metadata": {
      "needs_background": "light"
     }
    }
   ],
   "source": [
    "sns.distplot(readmission_data[readmission_data['Readmission_within_30days']==0]['Count'], kde=False, bins=10)\n",
    "sns.distplot(readmission_data[readmission_data['Readmission_within_30days']==1]['Count'], kde=False, bins=10)"
   ]
  },
  {
   "cell_type": "code",
   "execution_count": 78,
   "metadata": {},
   "outputs": [],
   "source": [
    "# Dropping columns that have served their purpose\n",
    "selected_data.drop([#'Next_Admission_Date',\n",
    "       'Readmission_Day_Count'], axis=1, inplace=True)"
   ]
  },
  {
   "cell_type": "code",
   "execution_count": 79,
   "metadata": {},
   "outputs": [
    {
     "output_type": "execute_result",
     "data": {
      "text/plain": [
       "Index(['DESYNPUF_ID', 'CLM_ID', 'SEGMENT', 'CLM_FROM_DT', 'CLM_THRU_DT',\n",
       "       'PRVDR_NUM', 'CLM_PMT_AMT', 'NCH_PRMRY_PYR_CLM_PD_AMT', 'AT_PHYSN_NPI',\n",
       "       'OP_PHYSN_NPI', 'CLM_ADMSN_DT', 'ADMTNG_ICD9_DGNS_CD',\n",
       "       'CLM_PASS_THRU_PER_DIEM_AMT', 'NCH_BENE_IP_DDCTBL_AMT',\n",
       "       'NCH_BENE_PTA_COINSRNC_LBLTY_AM', 'NCH_BENE_BLOOD_DDCTBL_LBLTY_AM',\n",
       "       'CLM_UTLZTN_DAY_CNT', 'NCH_BENE_DSCHRG_DT', 'CLM_DRG_CD',\n",
       "       'ICD9_DGNS_CD_1', 'ICD9_DGNS_CD_2', 'ICD9_DGNS_CD_3', 'ICD9_DGNS_CD_4',\n",
       "       'ICD9_DGNS_CD_5', 'ICD9_DGNS_CD_6', 'ICD9_DGNS_CD_7', 'ICD9_DGNS_CD_8',\n",
       "       'ICD9_DGNS_CD_9', 'ICD9_PRCDR_CD_1', 'PRVDR_NUM_CAT',\n",
       "       'ADMTNG_ICD9_DGNS_CD_CAT', 'ICD9_DGNS_CD_1_CAT', 'ICD9_DGNS_CD_2_CAT',\n",
       "       'ICD9_DGNS_CD_3_CAT', 'ICD9_DGNS_CD_4_CAT', 'ICD9_DGNS_CD_5_CAT',\n",
       "       'ICD9_DGNS_CD_6_CAT', 'ICD9_DGNS_CD_7_CAT', 'ICD9_DGNS_CD_8_CAT',\n",
       "       'ICD9_DGNS_CD_9_CAT', 'ICD9_PRCDR_CD_1_CAT', 'CLAIM_YEAR',\n",
       "       'Next_CLM_ADMSN_DT', 'Readmission_within_30days'],\n",
       "      dtype='object')"
      ]
     },
     "metadata": {},
     "execution_count": 79
    }
   ],
   "source": [
    "selected_data.columns"
   ]
  },
  {
   "cell_type": "code",
   "execution_count": 80,
   "metadata": {},
   "outputs": [],
   "source": [
    "selected_data.sort_values(by=[\"DESYNPUF_ID\", \"NCH_BENE_DSCHRG_DT\"], ascending=True, inplace=True)"
   ]
  },
  {
   "cell_type": "code",
   "execution_count": 81,
   "metadata": {},
   "outputs": [],
   "source": [
    "readmitted_patients_data = selected_data.loc[(selected_data['Readmission_within_30days']==1), :]\n"
   ]
  },
  {
   "cell_type": "code",
   "execution_count": 82,
   "metadata": {},
   "outputs": [],
   "source": [
    "readmitted_patients = readmitted_patients_data.loc[:, 'DESYNPUF_ID'].unique()"
   ]
  },
  {
   "cell_type": "code",
   "execution_count": 83,
   "metadata": {},
   "outputs": [],
   "source": [
    "drop_index = selected_data.loc[(selected_data['DESYNPUF_ID'].isin(readmitted_patients)) & (selected_data['Readmission_within_30days']==0)].index"
   ]
  },
  {
   "cell_type": "code",
   "execution_count": 84,
   "metadata": {},
   "outputs": [],
   "source": [
    "selected_data.drop(index=drop_index, axis=0, inplace=True)"
   ]
  },
  {
   "cell_type": "code",
   "execution_count": 85,
   "metadata": {},
   "outputs": [],
   "source": [
    "readmitted_patients_data = selected_data.loc[(selected_data['Readmission_within_30days']==1), :]\n",
    "not_readmitted_patients_data = selected_data.loc[(selected_data['Readmission_within_30days']==0), :]"
   ]
  },
  {
   "cell_type": "code",
   "execution_count": 86,
   "metadata": {},
   "outputs": [],
   "source": [
    "#not_readmitted_patients_data.drop_duplicates(subset=[\"DESYNPUF_ID\", \"Readmission_within_30days\"], keep='last', inplace=True)"
   ]
  },
  {
   "cell_type": "code",
   "execution_count": 87,
   "metadata": {},
   "outputs": [],
   "source": [
    "final_inpatient_data = pd.concat([readmitted_patients_data, not_readmitted_patients_data], axis=0)"
   ]
  },
  {
   "cell_type": "code",
   "execution_count": 88,
   "metadata": {},
   "outputs": [
    {
     "output_type": "execute_result",
     "data": {
      "text/plain": [
       "0    0.868497\n",
       "1    0.131503\n",
       "Name: Readmission_within_30days, dtype: float64"
      ]
     },
     "metadata": {},
     "execution_count": 88
    }
   ],
   "source": [
    "# Distribution of readmission vs no readmission\n",
    "final_inpatient_data['Readmission_within_30days'].value_counts()/final_inpatient_data.shape[0]"
   ]
  },
  {
   "cell_type": "code",
   "execution_count": 89,
   "metadata": {},
   "outputs": [
    {
     "output_type": "execute_result",
     "data": {
      "text/plain": [
       "             DESYNPUF_ID NCH_BENE_DSCHRG_DT  Readmission_within_30days\n",
       "200531  0000BAF51F7D7F01         2009-05-16                          0\n",
       "133768  0002278C944E240A         2009-04-18                          0\n",
       "133770  0002278C944E240A         2009-07-25                          0\n",
       "133771  0002278C944E240A         2010-05-03                          0\n",
       "266855  000240D599ED789C         2009-07-19                          0\n",
       "...                  ...                ...                        ...\n",
       "266854  FFFE22ECCB8AA9B2         2010-02-04                          0\n",
       "133766  FFFEC53980B44371         2009-12-17                          0\n",
       "133767  FFFEC53980B44371         2010-02-11                          0\n",
       "200529  FFFFEE90E1B4D0DF         2008-02-24                          0\n",
       "200530  FFFFEE90E1B4D0DF         2008-05-12                          0\n",
       "\n",
       "[201282 rows x 3 columns]"
      ],
      "text/html": "<div>\n<style scoped>\n    .dataframe tbody tr th:only-of-type {\n        vertical-align: middle;\n    }\n\n    .dataframe tbody tr th {\n        vertical-align: top;\n    }\n\n    .dataframe thead th {\n        text-align: right;\n    }\n</style>\n<table border=\"1\" class=\"dataframe\">\n  <thead>\n    <tr style=\"text-align: right;\">\n      <th></th>\n      <th>DESYNPUF_ID</th>\n      <th>NCH_BENE_DSCHRG_DT</th>\n      <th>Readmission_within_30days</th>\n    </tr>\n  </thead>\n  <tbody>\n    <tr>\n      <th>200531</th>\n      <td>0000BAF51F7D7F01</td>\n      <td>2009-05-16</td>\n      <td>0</td>\n    </tr>\n    <tr>\n      <th>133768</th>\n      <td>0002278C944E240A</td>\n      <td>2009-04-18</td>\n      <td>0</td>\n    </tr>\n    <tr>\n      <th>133770</th>\n      <td>0002278C944E240A</td>\n      <td>2009-07-25</td>\n      <td>0</td>\n    </tr>\n    <tr>\n      <th>133771</th>\n      <td>0002278C944E240A</td>\n      <td>2010-05-03</td>\n      <td>0</td>\n    </tr>\n    <tr>\n      <th>266855</th>\n      <td>000240D599ED789C</td>\n      <td>2009-07-19</td>\n      <td>0</td>\n    </tr>\n    <tr>\n      <th>...</th>\n      <td>...</td>\n      <td>...</td>\n      <td>...</td>\n    </tr>\n    <tr>\n      <th>266854</th>\n      <td>FFFE22ECCB8AA9B2</td>\n      <td>2010-02-04</td>\n      <td>0</td>\n    </tr>\n    <tr>\n      <th>133766</th>\n      <td>FFFEC53980B44371</td>\n      <td>2009-12-17</td>\n      <td>0</td>\n    </tr>\n    <tr>\n      <th>133767</th>\n      <td>FFFEC53980B44371</td>\n      <td>2010-02-11</td>\n      <td>0</td>\n    </tr>\n    <tr>\n      <th>200529</th>\n      <td>FFFFEE90E1B4D0DF</td>\n      <td>2008-02-24</td>\n      <td>0</td>\n    </tr>\n    <tr>\n      <th>200530</th>\n      <td>FFFFEE90E1B4D0DF</td>\n      <td>2008-05-12</td>\n      <td>0</td>\n    </tr>\n  </tbody>\n</table>\n<p>201282 rows × 3 columns</p>\n</div>"
     },
     "metadata": {},
     "execution_count": 89
    }
   ],
   "source": [
    "final_inpatient_data.loc[(selected_data['Readmission_within_30days']==0) , [\"DESYNPUF_ID\", \"NCH_BENE_DSCHRG_DT\", \"Readmission_within_30days\"]]"
   ]
  },
  {
   "cell_type": "code",
   "execution_count": 90,
   "metadata": {},
   "outputs": [
    {
     "output_type": "execute_result",
     "data": {
      "text/plain": [
       "0    0.868497\n",
       "1    0.131503\n",
       "Name: Readmission_within_30days, dtype: float64"
      ]
     },
     "metadata": {},
     "execution_count": 90
    }
   ],
   "source": [
    "# Distribution of readmission vs no readmission\n",
    "final_inpatient_data['Readmission_within_30days'].value_counts()/final_inpatient_data.shape[0]"
   ]
  },
  {
   "cell_type": "markdown",
   "metadata": {},
   "source": [
    "# Dropping all the ICD code columns"
   ]
  },
  {
   "cell_type": "code",
   "execution_count": 91,
   "metadata": {},
   "outputs": [],
   "source": [
    "final_inpatient_data.drop(columns=icd_procedural_code + diagnosis_code, inplace=True)"
   ]
  },
  {
   "cell_type": "code",
   "execution_count": 92,
   "metadata": {},
   "outputs": [
    {
     "output_type": "execute_result",
     "data": {
      "text/plain": [
       "Index(['DESYNPUF_ID', 'CLM_ID', 'SEGMENT', 'CLM_FROM_DT', 'CLM_THRU_DT',\n",
       "       'PRVDR_NUM', 'CLM_PMT_AMT', 'NCH_PRMRY_PYR_CLM_PD_AMT', 'AT_PHYSN_NPI',\n",
       "       'OP_PHYSN_NPI', 'CLM_ADMSN_DT', 'CLM_PASS_THRU_PER_DIEM_AMT',\n",
       "       'NCH_BENE_IP_DDCTBL_AMT', 'NCH_BENE_PTA_COINSRNC_LBLTY_AM',\n",
       "       'NCH_BENE_BLOOD_DDCTBL_LBLTY_AM', 'CLM_UTLZTN_DAY_CNT',\n",
       "       'NCH_BENE_DSCHRG_DT', 'CLM_DRG_CD', 'PRVDR_NUM_CAT',\n",
       "       'ADMTNG_ICD9_DGNS_CD_CAT', 'ICD9_DGNS_CD_1_CAT', 'ICD9_DGNS_CD_2_CAT',\n",
       "       'ICD9_DGNS_CD_3_CAT', 'ICD9_DGNS_CD_4_CAT', 'ICD9_DGNS_CD_5_CAT',\n",
       "       'ICD9_DGNS_CD_6_CAT', 'ICD9_DGNS_CD_7_CAT', 'ICD9_DGNS_CD_8_CAT',\n",
       "       'ICD9_DGNS_CD_9_CAT', 'ICD9_PRCDR_CD_1_CAT', 'CLAIM_YEAR',\n",
       "       'Next_CLM_ADMSN_DT', 'Readmission_within_30days'],\n",
       "      dtype='object')"
      ]
     },
     "metadata": {},
     "execution_count": 92
    }
   ],
   "source": [
    "final_inpatient_data.columns"
   ]
  },
  {
   "cell_type": "code",
   "execution_count": 93,
   "metadata": {},
   "outputs": [],
   "source": [
    "final_inpatient_data.to_sql(\"Inpatient_claims_2\", con=conn_object, if_exists=\"replace\", index=False)"
   ]
  },
  {
   "cell_type": "code",
   "execution_count": 94,
   "metadata": {},
   "outputs": [],
   "source": [
    "conn_object.close()"
   ]
  },
  {
   "cell_type": "code",
   "execution_count": 95,
   "metadata": {},
   "outputs": [
    {
     "output_type": "execute_result",
     "data": {
      "text/plain": [
       "168085"
      ]
     },
     "metadata": {},
     "execution_count": 95
    }
   ],
   "source": [
    "final_inpatient_data['DESYNPUF_ID'].nunique()"
   ]
  },
  {
   "cell_type": "code",
   "execution_count": 87,
   "metadata": {},
   "outputs": [],
   "source": [
    "# data_inpatient_claims_2['ICD9_DGNS_CD_1_DESC']\n",
    "\n",
    "# data_inpatient_claims_2[['DESYNPUF_ID', 'PRVDR_NUM', 'ADMTNG_ICD9_DGNS_CD_DESC']].drop_duplicates()\n",
    "\n",
    "# data_inpatient_claims_2.shape\n",
    "\n",
    "# data_inpatient_claims_2.groupby(['DESYNPUF_ID', 'PRVDR_NUM']).size()\n",
    "\n",
    "# data_inpatient_claims_2"
   ]
  },
  {
   "cell_type": "code",
   "execution_count": 88,
   "metadata": {},
   "outputs": [],
   "source": [
    "# # Depression = ['300.41', '300.42', '300.43', '300.44', '300.45', '300.46', '300.47', '300.48', '300.49', '301.12', '309', '311']\n",
    "# # Diabetes = ['249', '250', '357.2', '362.01', '362.02', '366.41']\n",
    "# # High_Cholesterol = ['272']\n",
    "# # Angina_Pectoris = ['413']\n",
    "# # Cardiac_arrest = ['427.5']\n",
    "# # Hypertension = ['401']\n",
    "# # Heart_failure = ['398.91', '402.01', '402.11', '402.91','428', '428.9', '404.01', '404.11', '404.91', '404.03', '404.13', '404.93']\n",
    "# Depression = ['300', '309', '311']\n",
    "# Diabetes = ['249', '250', '357', '362', '362', '366']\n",
    "# High_Cholesterol = ['272']\n",
    "# Angina_Pectoris = ['413']\n",
    "# Cardiac_arrest = ['427']\n",
    "# Hypertension = ['401']\n",
    "# Heart_failure = ['398', '402', '428', '404']\n",
    "\n",
    "# # Ischemic_Heart_Disease = ['410.00', '410.01', '410.02', '410.10', '410.11', '410.12', '410.20', '410.21', '410.22', '410.30', '410.31', '410.32', '410.40', '410.41', '410.42', '410.50', '410.51', '410.52', '410.60', '410.61', '410.62', '410.70', '410.71', '410.72', '410.80', '410.81', '410.82', '410.90', '410.91', '410.92', '411.0', '411.1', '411.81', '411.89', '412', '413.0', '413.1', '413.9', '414.00', '414.01', '414.02', '414.03', '414.04', '414.05', '414.06', '414.07', '414.10', '414.11', '414.12', '414.19', '414.2', '414.3', '414.8', '414.9']\n",
    "# Ischemic_Heart_Disease = ['410', '411', '412', '413', '414']\n",
    "\n",
    "# # CAD = ['414.81', '414.82', '414.83', '414.84', '414.85', '414.86', '414.87', '414.88', '414.89', '414.91', '414.92', '414.93', '414.94', '414.95', '414.96', '414.97', '414.98', '414.99', 'V45.81', 'V45.82']\n",
    "# CAD = ['V45']\n",
    "\n",
    "# # unique_diagnosis_code['Diagnosis_code_format'] = unique_diagnosis_code['Diagnosis_code'].apply(lambda d : d[ : 3] + '.' + d[3 : ])\n",
    "\n",
    "# def group_diagnosis_code(code) :\n",
    "#     searchCode = code[ : 3]\n",
    "#     if searchCode in Depression:\n",
    "#         return 'Depression'\n",
    "#     elif searchCode in Diabetes:\n",
    "#         return 'Diabetes'\n",
    "#     elif searchCode in High_Cholesterol:\n",
    "#         return 'High Cholesterol'\n",
    "#     elif searchCode in Angina_Pectoris:\n",
    "#         return 'Angina Pectoris'\n",
    "#     elif searchCode in Cardiac_arrest:\n",
    "#         return 'Cardiac arrest'\n",
    "#     elif searchCode in Hypertension:\n",
    "#         return 'Hypertension'\n",
    "#     elif searchCode in Heart_failure:\n",
    "#         return 'Heart failure'\n",
    "#     elif searchCode in Ischemic_Heart_Disease:\n",
    "#         return 'Ischemic Heart Disease'\n",
    "#     elif searchCode in CAD:\n",
    "#         return 'CAD'\n",
    "#     else :\n",
    "#         return unique_diagnosis_code[unique_diagnosis_code['Diagnosis_code'] == code]['description'].values[0]\n",
    "\n",
    "# data_inpatient_claims_2['ADMTNG_ICD9_DGNS_CD_DESC'] = np.nan\n",
    "# data_inpatient_claims_2['ICD9_DGNS_CD_1_DESC'] = np.nan\n",
    "# data_inpatient_claims_2['ICD9_DGNS_CD_2_DESC'] = np.nan\n",
    "# data_inpatient_claims_2['ICD9_DGNS_CD_3_DESC'] = np.nan\n",
    "# data_inpatient_claims_2['ICD9_DGNS_CD_4_DESC'] = np.nan\n",
    "# data_inpatient_claims_2['ICD9_DGNS_CD_5_DESC'] = np.nan\n",
    "# data_inpatient_claims_2['ICD9_DGNS_CD_6_DESC'] = np.nan\n",
    "# data_inpatient_claims_2['ICD9_DGNS_CD_7_DESC'] = np.nan\n",
    "# data_inpatient_claims_2['ICD9_DGNS_CD_8_DESC'] = np.nan\n",
    "# data_inpatient_claims_2['ICD9_DGNS_CD_9_DESC'] = np.nan\n",
    "\n",
    "# data_inpatient_claims_2.loc[data_inpatient_claims_2['ADMTNG_ICD9_DGNS_CD'].notna(), \"ADMTNG_ICD9_DGNS_CD_DESC\"] = data_inpatient_claims_2[data_inpatient_claims_2['ADMTNG_ICD9_DGNS_CD'].notna()][\"ADMTNG_ICD9_DGNS_CD\"].apply(lambda x : group_diagnosis_code(x))\n",
    "\n",
    "# data_inpatient_claims_2.loc[data_inpatient_claims_2['ICD9_DGNS_CD_1'].notna(), \"ICD9_DGNS_CD_1_DESC\"] = data_inpatient_claims_2[data_inpatient_claims_2['ICD9_DGNS_CD_1'].notna()][\"ICD9_DGNS_CD_1\"].apply(lambda x : group_diagnosis_code(x))\n",
    "\n",
    "# data_inpatient_claims_2.loc[data_inpatient_claims_2['ICD9_DGNS_CD_2'].notna(), \"ICD9_DGNS_CD_2_DESC\"] = data_inpatient_claims_2[data_inpatient_claims_2['ICD9_DGNS_CD_2'].notna()][\"ICD9_DGNS_CD_2\"].apply(lambda x : group_diagnosis_code(x))\n",
    "\n",
    "# data_inpatient_claims_2.loc[data_inpatient_claims_2['ICD9_DGNS_CD_3'].notna(), \"ICD9_DGNS_CD_3_DESC\"] = data_inpatient_claims_2[data_inpatient_claims_2['ICD9_DGNS_CD_3'].notna()][\"ICD9_DGNS_CD_3\"].apply(lambda x : group_diagnosis_code(x))\n",
    "\n",
    "# data_inpatient_claims_2.loc[data_inpatient_claims_2['ICD9_DGNS_CD_4'].notna(), \"ICD9_DGNS_CD_4_DESC\"] = data_inpatient_claims_2[data_inpatient_claims_2['ICD9_DGNS_CD_4'].notna()][\"ICD9_DGNS_CD_4\"].apply(lambda x : group_diagnosis_code(x))\n",
    "\n",
    "# data_inpatient_claims_2.loc[data_inpatient_claims_2['ICD9_DGNS_CD_5'].notna(), \"ICD9_DGNS_CD_5_DESC\"] = data_inpatient_claims_2[data_inpatient_claims_2['ICD9_DGNS_CD_5'].notna()][\"ICD9_DGNS_CD_5\"].apply(lambda x : group_diagnosis_code(x))\n",
    "\n",
    "# data_inpatient_claims_2.loc[data_inpatient_claims_2['ICD9_DGNS_CD_6'].notna(), \"ICD9_DGNS_CD_6_DESC\"] = data_inpatient_claims_2[data_inpatient_claims_2['ICD9_DGNS_CD_6'].notna()][\"ICD9_DGNS_CD_6\"].apply(lambda x : group_diagnosis_code(x))\n",
    "\n",
    "# data_inpatient_claims_2.loc[data_inpatient_claims_2['ICD9_DGNS_CD_7'].notna(), \"ICD9_DGNS_CD_7_DESC\"] = data_inpatient_claims_2[data_inpatient_claims_2['ICD9_DGNS_CD_7'].notna()][\"ICD9_DGNS_CD_7\"].apply(lambda x : group_diagnosis_code(x))\n",
    "\n",
    "# data_inpatient_claims_2.loc[data_inpatient_claims_2['ICD9_DGNS_CD_8'].notna(), \"ICD9_DGNS_CD_8_DESC\"] = data_inpatient_claims_2[data_inpatient_claims_2['ICD9_DGNS_CD_8'].notna()][\"ICD9_DGNS_CD_8\"].apply(lambda x : group_diagnosis_code(x))\n",
    "\n",
    "# data_inpatient_claims_2.loc[data_inpatient_claims_2['ICD9_DGNS_CD_9'].notna(), \"ICD9_DGNS_CD_9_DESC\"] = data_inpatient_claims_2[data_inpatient_claims_2['ICD9_DGNS_CD_9'].notna()][\"ICD9_DGNS_CD_9\"].apply(lambda x : group_diagnosis_code(x))"
   ]
  },
  {
   "cell_type": "code",
   "execution_count": 89,
   "metadata": {},
   "outputs": [],
   "source": [
    "# diagnosis_code_df = pd.DataFrame()\n",
    "\n",
    "# data_inpatient_claims[\"ICD9_DGNS_CD_1\"].value_counts()\n",
    "\n",
    "# data_inpatient_claims_2[\"ICD9_DGNS_CD_1\"].value_counts()\n",
    "\n",
    "# # Common disease for patient\n",
    "# data_inpatient_claims.groupby(['DESYNPUF_ID', \"ADMTNG_ICD9_DGNS_CD\"]).size().sort_values(ascending=False)\n",
    "\n",
    "# # Common disease for patient\n",
    "# data_inpatient_claims_2.groupby(['DESYNPUF_ID', \"ADMTNG_ICD9_DGNS_CD\"]).size().sort_values(ascending=False)\n",
    "\n",
    "# data_inpatient_claims[(data_inpatient_claims['ICD9_DGNS_CD_1'].isin([\"39891\", \"4280\", \"4281\", \"42820\", \"42821\", \"42822\", \"42823\", \"42830\", \"42831\", \"42832\", \"42833\", \"42840\", \"42841\", \"42842\", \"42843\", \"4289\", \"78650\", \"78651\", \"78659\", \"39891\", \"4280\", \"4281\", \"42820\", \"42821\", \"42822\", \"42823\", \"42830\", \"42831\", \"42832\", \"42833\", \"42840\", \"42841\", \"42842\", \"42843\", \"4289\"]))]\n",
    "\n",
    "# for col in diagnosis_code:\n",
    "#     diagnosis_code_df = pd.concat([diagnosis_code_df, pd.DataFrame(data_inpatient_claims[col].values)], axis=0)\n",
    "\n",
    "# diagnosis_code_df[0].value_counts()\n",
    "\n",
    "# unique_diagnosis_code = pd.DataFrame(diagnosis_code_df[0].unique(), columns=['Diagnosis_code'])\n",
    "\n",
    "# unique_diagnosis_code.dropna(axis=0, inplace=True)\n",
    "\n",
    "# # unique_diagnosis_code['description'] = unique_diagnosis_code['Diagnosis_code'].apply(lambda x : fetch_diagnosis.get_description_for_icd_code(codeType=\"icd9cm\", ICD9Codes=x))\n",
    "\n",
    "# # unique_diagnosis_code.to_sql(\"ICD9_Code_Mapping\", con=conn_object, if_exists='append')\n",
    "\n",
    "# unique_diagnosis_code = pd.read_sql_query(\"select * from ICD9_Code_Mapping\", con=conn_object)\n",
    "# unique_diagnosis_code.drop(columns=['index'], inplace=True)"
   ]
  },
  {
   "cell_type": "code",
   "execution_count": null,
   "metadata": {},
   "outputs": [],
   "source": []
  }
 ],
 "metadata": {
  "kernelspec": {
   "display_name": "Python 3.7.7 64-bit",
   "language": "python",
   "name": "python37764bit0b72806fd3e54d5ebfac378c30ae3568"
  },
  "language_info": {
   "codemirror_mode": {
    "name": "ipython",
    "version": 3
   },
   "file_extension": ".py",
   "mimetype": "text/x-python",
   "name": "python",
   "nbconvert_exporter": "python",
   "pygments_lexer": "ipython3",
   "version": "3.7.7-final"
  }
 },
 "nbformat": 4,
 "nbformat_minor": 2
}