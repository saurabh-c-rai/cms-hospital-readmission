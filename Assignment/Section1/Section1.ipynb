{
 "cells": [
  {
   "cell_type": "code",
   "execution_count": 1,
   "metadata": {},
   "outputs": [],
   "source": [
    "import pandas as pd\n",
    "import numpy as np\n",
    "from matplotlib import pyplot as plt\n",
    "import seaborn as sns"
   ]
  },
  {
   "cell_type": "code",
   "execution_count": 2,
   "metadata": {},
   "outputs": [],
   "source": [
    "import sqlite3\n",
    "import json"
   ]
  },
  {
   "cell_type": "code",
   "execution_count": 3,
   "metadata": {},
   "outputs": [],
   "source": [
    "from scipy import stats as ss\n",
    "import statsmodels.api as sm"
   ]
  },
  {
   "cell_type": "code",
   "execution_count": 5,
   "metadata": {},
   "outputs": [],
   "source": [
    "with open(\"../../config.json\") as f:\n",
    "    config=json.load(f)"
   ]
  },
  {
   "cell_type": "code",
   "execution_count": 7,
   "metadata": {},
   "outputs": [],
   "source": [
    "conn_object = sqlite3.connect(f'../{config[1][\"database_path\"]}')"
   ]
  },
  {
   "cell_type": "code",
   "execution_count": 14,
   "metadata": {},
   "outputs": [],
   "source": [
    "conn_object.close()"
   ]
  },
  {
   "cell_type": "code",
   "execution_count": 8,
   "metadata": {},
   "outputs": [],
   "source": [
    "final_data = pd.read_sql_query(\"select * from final_readmission_df\", con=conn_object, \n",
    "parse_dates={\"CLM_FROM_DT_INP\": {\"format\": \"%Y-%m-%d\"},\n",
    "        \"CLM_THRU_DT_INP\": {\"format\": \"%Y-%m-%d\"},\n",
    "        \"CLM_ADMSN_DT_INP\": {\"format\": \"%Y-%m-%d\"},\n",
    "        \"NCH_BENE_DSCHRG_DT_INP\": {\"format\": \"%Y-%m-%d\"},\n",
    "        \"Next_CLM_ADMSN_DT_INP\": {\"format\": \"%Y-%m-%d\"},\n",
    "        \"CLM_FROM_DT_OUT\": {\"format\": \"%Y-%m-%d\"},\n",
    "        \"CLM_THRU_DT_OUT\": {\"format\": \"%Y-%m-%d\"},\n",
    "        \"BENE_BIRTH_DT\":{\"format\": \"%Y-%m-%d\"}, \n",
    "        \"BENE_DEATH_DT\":{\"format\": \"%Y-%m-%d\"}})"
   ]
  },
  {
   "cell_type": "code",
   "execution_count": 10,
   "metadata": {},
   "outputs": [
    {
     "data": {
      "text/plain": [
       "Index(['DESYNPUF_ID', 'BENE_BIRTH_DT', 'BENE_DEATH_DT', 'BENE_SEX_IDENT_CD',\n",
       "       'BENE_RACE_CD', 'BENE_ESRD_IND', 'BENE_HI_CVRAGE_TOT_MONS',\n",
       "       'BENE_SMI_CVRAGE_TOT_MONS', 'BENE_HMO_CVRAGE_TOT_MONS',\n",
       "       'PLAN_CVRG_MOS_NUM', 'SP_ALZHDMTA', 'SP_CHF', 'SP_CHRNKIDN', 'SP_CNCR',\n",
       "       'SP_COPD', 'SP_DEPRESSN', 'SP_DIABETES', 'SP_ISCHMCHT', 'SP_OSTEOPRS',\n",
       "       'SP_RA_OA', 'SP_STRKETIA', 'MEDREIMB_IP', 'BENRES_IP', 'PPPYMT_IP',\n",
       "       'MEDREIMB_OP', 'BENRES_OP', 'PPPYMT_OP', 'MEDREIMB_CAR', 'BENRES_CAR',\n",
       "       'PPPYMT_CAR', 'Year', 'BENE_AGE', 'BENE_STATE_COUNTY_CODE',\n",
       "       'CLM_FROM_DT_INP', 'CLM_THRU_DT_INP', 'PRVDR_NUM_INP',\n",
       "       'CLM_PMT_AMT_INP', 'NCH_PRMRY_PYR_CLM_PD_AMT_INP', 'AT_PHYSN_NPI_INP',\n",
       "       'OP_PHYSN_NPI_INP', 'CLM_ADMSN_DT_INP',\n",
       "       'CLM_PASS_THRU_PER_DIEM_AMT_INP', 'NCH_BENE_IP_DDCTBL_AMT_INP',\n",
       "       'NCH_BENE_PTA_COINSRNC_LBLTY_AM_INP',\n",
       "       'NCH_BENE_BLOOD_DDCTBL_LBLTY_AM_INP', 'CLM_UTLZTN_DAY_CNT_INP',\n",
       "       'NCH_BENE_DSCHRG_DT_INP', 'CLM_DRG_CD_INP', 'PRVDR_NUM_CAT_INP',\n",
       "       'Next_CLM_ADMSN_DT_INP', 'Readmission_within_30days_INP',\n",
       "       'CLAIM_YEAR_INP', 'ADMTNG_ICD9_DGNS_CD_CAT_INP',\n",
       "       'ICD9_DGNS_CD_1_CAT_INP', 'ICD9_DGNS_CD_2_CAT_INP',\n",
       "       'ICD9_DGNS_CD_3_CAT_INP', 'ICD9_DGNS_CD_4_CAT_INP',\n",
       "       'ICD9_DGNS_CD_5_CAT_INP', 'ICD9_DGNS_CD_6_CAT_INP',\n",
       "       'ICD9_DGNS_CD_7_CAT_INP', 'ICD9_DGNS_CD_8_CAT_INP',\n",
       "       'ICD9_DGNS_CD_9_CAT_INP', 'ICD9_PRCDR_CD_1_CAT_INP', 'CLM_FROM_DT_OUT',\n",
       "       'CLM_THRU_DT_OUT', 'PRVDR_NUM_OUT', 'CLM_PMT_AMT_OUT',\n",
       "       'NCH_PRMRY_PYR_CLM_PD_AMT_OUT', 'AT_PHYSN_NPI_OUT',\n",
       "       'NCH_BENE_BLOOD_DDCTBL_LBLTY_AM_OUT', 'ICD9_DGNS_CD_1_OUT',\n",
       "       'ICD9_DGNS_CD_2_OUT', 'NCH_BENE_PTB_DDCTBL_AMT_OUT',\n",
       "       'NCH_BENE_PTB_COINSRNC_AMT_OUT', 'HCPCS_CD_1_OUT', 'HCPCS_CD_2_OUT',\n",
       "       'HCPCS_CD_3_OUT', 'PRVDR_NUM_CAT_OUT', 'ICD9_DGNS_CD_1_CAT_OUT',\n",
       "       'ICD9_DGNS_CD_2_CAT_OUT', 'HCPCS_CD_1_CAT_OUT', 'HCPCS_CD_2_CAT_OUT',\n",
       "       'HCPCS_CD_3_CAT_OUT', 'HCPCS_CD_1_CAT_DESC_OUT',\n",
       "       'HCPCS_CD_2_CAT_DESC_OUT', 'HCPCS_CD_3_CAT_DESC_OUT'],\n",
       "      dtype='object')"
      ]
     },
     "execution_count": 10,
     "metadata": {},
     "output_type": "execute_result"
    }
   ],
   "source": [
    "final_data.columns"
   ]
  },
  {
   "cell_type": "markdown",
   "metadata": {},
   "source": [
    "# L2.Formulate 1 hypothesis on this sample data which you would like to test/potentially beneficial to know for targeted stakeholders to validate your solution."
   ]
  },
  {
   "cell_type": "markdown",
   "metadata": {},
   "source": [
    "> Hypothesis 1 : Readmission and patient gender are related\n",
    "\n",
    "\n",
    "$$\n",
    "\n",
    "H_{0} : \\ Readmission\\_within\\_30days\\_INP \\ and \\ BENE\\_SEX\\_IDENT\\_CD \\ are \\ not \\ related\\\\\n",
    "\n",
    "H_{a} : \\ Readmission\\_within\\_30days\\_INP \\ and \\ BENE\\_SEX\\_IDENT\\_CD \\ are \\ related\\\\\n",
    "\n",
    "$$"
   ]
  },
  {
   "cell_type": "code",
   "execution_count": 11,
   "metadata": {},
   "outputs": [],
   "source": [
    "Observed_df = pd.crosstab(final_data['BENE_SEX_IDENT_CD'], final_data['Readmission_within_30days_INP'])"
   ]
  },
  {
   "cell_type": "code",
   "execution_count": 12,
   "metadata": {},
   "outputs": [],
   "source": [
    "chi2, p, dof, expected = ss.chi2_contingency(observed=Observed_df)"
   ]
  },
  {
   "cell_type": "code",
   "execution_count": 13,
   "metadata": {},
   "outputs": [
    {
     "name": "stdout",
     "output_type": "stream",
     "text": [
      "Chi2 statistics is 0.41326596124120246 & p value is 0.5203164698517077\n"
     ]
    }
   ],
   "source": [
    "print(f\"Chi2 statistics is {chi2} & p value is {p}\")"
   ]
  },
  {
   "cell_type": "markdown",
   "metadata": {},
   "source": [
    "$$\n",
    "pvalue >= 0.05 --> Failed \\ to \\ Reject \\ H_{0}\n",
    "$$"
   ]
  },
  {
   "cell_type": "markdown",
   "metadata": {},
   "source": [
    "# L3.Provide Summary Statistics and inferences about data using statistics."
   ]
  },
  {
   "cell_type": "code",
   "execution_count": null,
   "metadata": {},
   "outputs": [],
   "source": [
    "categorical_features = [\n",
    "    \"BENE_SEX_IDENT_CD\",\n",
    "    \"BENE_RACE_CD\",\n",
    "    \"BENE_ESRD_IND\",\n",
    "    \"SP_ALZHDMTA\",\n",
    "    \"SP_CHF\",\n",
    "    \"SP_CHRNKIDN\",\n",
    "    \"SP_CNCR\",\n",
    "    \"SP_COPD\",\n",
    "    \"SP_DEPRESSN\",\n",
    "    \"SP_DIABETES\",\n",
    "    \"SP_ISCHMCHT\",\n",
    "    \"SP_OSTEOPRS\",\n",
    "    \"SP_RA_OA\",\n",
    "    \"SP_STRKETIA\",\n",
    "    \"BENE_STATE_COUNTY_CODE\",\n",
    "    \"PRVDR_NUM_CAT_INP\",\n",
    "    \"ADMTNG_ICD9_DGNS_CD_CAT_INP\",\n",
    "    \"ICD9_DGNS_CD_1_CAT_INP\",\n",
    "    \"ICD9_DGNS_CD_2_CAT_INP\",\n",
    "    \"ICD9_DGNS_CD_3_CAT_INP\",\n",
    "    \"ICD9_DGNS_CD_4_CAT_INP\",\n",
    "    \"ICD9_DGNS_CD_5_CAT_INP\",\n",
    "    \"ICD9_DGNS_CD_6_CAT_INP\",\n",
    "    \"ICD9_DGNS_CD_7_CAT_INP\",\n",
    "    \"ICD9_DGNS_CD_8_CAT_INP\",\n",
    "    \"ICD9_DGNS_CD_9_CAT_INP\",\n",
    "    \"ICD9_PRCDR_CD_1_CAT_INP\",\n",
    "    \"PRVDR_NUM_CAT_OUT\",\n",
    "    \"HCPCS_CD_1_CAT_OUT\",\n",
    "    \"HCPCS_CD_2_CAT_OUT\",\n",
    "    \"HCPCS_CD_3_CAT_OUT\",\n",
    "    \"ICD9_DGNS_CD_1_CAT_OUT\",\n",
    "    \"ICD9_DGNS_CD_2_CAT_OUT\",\n",
    "    \"IsReadmitted\",\n",
    "    # \"BENE_AGE_CAT\"\n",
    "    # \"AT_PHYSN_NPI_OUT\",\n",
    "    # \"AT_PHYSN_NPI_INP\",\n",
    "    # \"OP_PHYSN_NPI_INP\"\n",
    "]"
   ]
  },
  {
   "cell_type": "code",
   "execution_count": null,
   "metadata": {},
   "outputs": [],
   "source": [
    "final_data[categorical_features] = final_data[categorical_features].astype('category')"
   ]
  },
  {
   "cell_type": "code",
   "execution_count": null,
   "metadata": {},
   "outputs": [],
   "source": [
    "final_data.describe()"
   ]
  },
  {
   "cell_type": "code",
   "execution_count": null,
   "metadata": {},
   "outputs": [],
   "source": [
    "sns.pairplot(final_data.select_dtypes(include=\"number\").iloc[ : , :4])"
   ]
  },
  {
   "cell_type": "code",
   "execution_count": null,
   "metadata": {},
   "outputs": [],
   "source": [
    "sns.pairplot(final_data.select_dtypes(include=\"number\").iloc[ : , 4:9])"
   ]
  },
  {
   "cell_type": "code",
   "execution_count": null,
   "metadata": {},
   "outputs": [],
   "source": [
    "plt.figure(figsize=(20, 10))\n",
    "sns.countplot(x=\"variable\", hue=\"value\", data=pd.melt(final_data.select_dtypes(include=\"category\").iloc[ :, :14]))\n",
    "plt.xticks(rotation=90)"
   ]
  },
  {
   "cell_type": "code",
   "execution_count": null,
   "metadata": {},
   "outputs": [],
   "source": [
    "plt.figure(figsize=(20, 10))\n",
    "sns.countplot(x=\"variable\", hue=\"value\", data=pd.melt(final_data.select_dtypes(include=\"category\").iloc[ :, 17:20]))\n",
    "plt.xticks(rotation=90)"
   ]
  },
  {
   "cell_type": "code",
   "execution_count": null,
   "metadata": {},
   "outputs": [],
   "source": [
    "plt.figure(figsize=(20, 10))\n",
    "sns.countplot(x=\"variable\", hue=\"value\", data=pd.melt(final_data.select_dtypes(include=\"category\").iloc[ :, 20:24]))\n",
    "plt.xticks(rotation=90)"
   ]
  },
  {
   "cell_type": "code",
   "execution_count": null,
   "metadata": {},
   "outputs": [],
   "source": [
    "final_data.select_dtypes(include=\"number\").skew()"
   ]
  },
  {
   "cell_type": "markdown",
   "metadata": {},
   "source": [
    "> Highly skewed data mostly on the right side\n",
    "\n",
    "> Should use log transform or square root transform to reduce skewness"
   ]
  },
  {
   "cell_type": "code",
   "execution_count": null,
   "metadata": {},
   "outputs": [],
   "source": [
    "final_data.select_dtypes(include=\"number\").iloc[ : , :4].boxplot(flierprops=dict(markerfacecolor='r', marker='s'))\n",
    "plt.xticks(rotation=90)"
   ]
  },
  {
   "cell_type": "code",
   "execution_count": null,
   "metadata": {},
   "outputs": [],
   "source": [
    "final_data.select_dtypes(include=\"number\").iloc[ : , [5, 7, 8, 9, 10]].boxplot(flierprops=dict(markerfacecolor='r', marker='s'))\n",
    "plt.xticks(rotation=90)"
   ]
  },
  {
   "cell_type": "code",
   "execution_count": null,
   "metadata": {},
   "outputs": [],
   "source": [
    "final_data.select_dtypes(include=\"number\").iloc[ : , [4, 6]].boxplot(flierprops=dict(markerfacecolor='r', marker='s'))\n",
    "plt.xticks(rotation=90)"
   ]
  },
  {
   "cell_type": "code",
   "execution_count": null,
   "metadata": {},
   "outputs": [],
   "source": [
    "final_data.select_dtypes(include=\"number\").iloc[ : , [11, 12, 14]].boxplot(flierprops=dict(markerfacecolor='r', marker='s'))\n",
    "plt.xticks(rotation=90)"
   ]
  },
  {
   "cell_type": "markdown",
   "metadata": {},
   "source": [
    "> Almost all the numerical columns have high outliers towards the Q3"
   ]
  }
 ],
 "metadata": {
  "kernelspec": {
   "display_name": "Python 3.7.7 64-bit",
   "language": "python",
   "name": "python37764bit0b72806fd3e54d5ebfac378c30ae3568"
  },
  "language_info": {
   "codemirror_mode": {
    "name": "ipython",
    "version": 3
   },
   "file_extension": ".py",
   "mimetype": "text/x-python",
   "name": "python",
   "nbconvert_exporter": "python",
   "pygments_lexer": "ipython3",
   "version": "3.7.7"
  },
  "toc": {
   "base_numbering": 1,
   "nav_menu": {},
   "number_sections": true,
   "sideBar": true,
   "skip_h1_title": false,
   "title_cell": "Table of Contents",
   "title_sidebar": "Contents",
   "toc_cell": false,
   "toc_position": {},
   "toc_section_display": true,
   "toc_window_display": false
  }
 },
 "nbformat": 4,
 "nbformat_minor": 2
}
